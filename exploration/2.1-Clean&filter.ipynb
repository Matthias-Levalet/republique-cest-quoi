{
 "cells": [
  {
   "cell_type": "markdown",
   "id": "958c00fa",
   "metadata": {},
   "source": [
    "# 3/4- Clean&filter\n",
    "\n",
    "**Rappel de la définition de l'objet d'étude** : \"*Les paroles politiques (ayant un objet proprement politique) portant sur l'idée de \"République\" de personnels politiques (députés et ministres) dans le cadre de séance publique à l'Assemblée nationale.*\"\n",
    "\n",
    "--> Ce notebook vise à effectuer un premier nettoyage dans les données utilisées (Compte-rendus de séance de l'Assemblée nationale) pour ne conserver que les paroles politiques de personnels politiques en séance publique (sur les points de vigileance et spécificités de ce corpus voir le document annexe Docs/Données_Débats_AN.md). \n",
    "\n",
    "==> Cela signifie que l'on ne s'intéresse pas aux : \n",
    "1. paroles formelles relatives au fonctionnement/réglement de l'AN (introduction de la séance, résultat des votes, annonce de mise au vote, etc.)\n",
    "2. para-texte (les didascalies contextuelles rédigées par le bureau de l'AN)\n",
    "3. paroles de personnels non-politiques extérieurs. \n",
    "\n",
    "Ce nettoyage est effectué en amont de la définition des prises de paroles sur l'idée de \"République\" pour pouvoir effectuer une comparaison et mettre ces prises de paroles en % des prises de paroles totales (de leurs auteurs et de l'AN). \n",
    "\n",
    "## To-do : \n",
    "\n",
    "1. Définir ce qu'on fait des interruptions / Définir quelle est l'unité topique d'analyse\n",
    "2. Mettre mention gouvernement et compléter manuellement affiliation politique"
   ]
  },
  {
   "cell_type": "markdown",
   "id": "d41b1635",
   "metadata": {},
   "source": [
    "## Exclure les paroles non proprement politiques\n",
    "\n",
    "La première option envisagée avait été d'utiliser la variable \"code_grammaire\" et ne retenir que les modalités \"PAROLE_GÉNÉRIQUE\" et \"INTERRUPTION\" mais en réalité il existe trop de modalités supplémentaires comprenant à la fois une parole politique (\"Parole_1_2\") et une parole formelle (\"Parole_1_2\") pour qu'il soit pertinent de faire une liste d'exclusion ou d'inclusion. (pour des explications plus avancées cf Docs/Données_Débats_AN.md)\n",
    "\n",
    "Impossible aussi d'utiliser la variable \"code_parole\" et sa modalité \"Parole_1_2\" car 54% de valeurs manquantes. \n",
    "\n",
    "==> Il serait préférable de distinguer les paroles par la fonction des personnes qui les prononce et en l'occurence principalement la présidence de l'Assemblée Nationale ou directement le service des compte-rendus (pour des informations sur les types de paroles de la présidence cf Docs/Données_Débats_AN.md et src/Notebook/Annexe_Exclusions_AN.ipynb).\n",
    "\n",
    "==> \n",
    "1. Ne conserver dans la colonne/variable \"code_style\" que la modalité \"NORMAL\" afin d'exclure le para-texte écrit exclusivement par le  *service des compte-rendus*\n",
    "2. Supprimer les didascalies à l'intérieur des prises de paroles \n",
    "3. Supprimer toutes les prises de paroles de la présidence car celles-ci ont une nature en grande majorité (voir comment quantifier) formelles (cf src/Notebook/Annexe_Exclusions_AN.ipynb).\n"
   ]
  },
  {
   "cell_type": "code",
   "execution_count": 16,
   "id": "363ebfa1",
   "metadata": {},
   "outputs": [
    {
     "data": {
      "text/plain": [
       "(1128128, 25)"
      ]
     },
     "execution_count": 16,
     "metadata": {},
     "output_type": "execute_result"
    }
   ],
   "source": [
    "import pandas as pd\n",
    "\n",
    "df = pd.read_csv(\n",
    "   \"/Users/matthiaslevalet/Desktop/Projet de recherche/CSS_République/Data/Interim/Data_AN_CSS.csv\" , low_memory=False, dtype={\"ID_orateur\": str}\n",
    ")\n",
    "\n",
    "df.shape"
   ]
  },
  {
   "cell_type": "markdown",
   "id": "a1422299",
   "metadata": {},
   "source": [
    "### Étape 1 : Ne garder que le texte normal\n",
    "\n",
    "Dans la **variable \"code_style\"**, il existe 4 modalités : \n",
    "- \"NORMAL\" qui correspond à des prises de paroles (91%)\n",
    "- \"Infos Italiques\" qui correspondent à des didascalies hors du texte, rajouté avant ou après les interventions pour donner le contexte par le service du compte-rendu (9%)\n",
    "- \"Signature droite\" en fin de chaque CRI qui correspond à un texte comme \"Le Directeur du service du compte rendu de la séance de l’Assemblée nationale\" ou \"La directrice\" avec son nom (- 1%)\n",
    "- D'autres \" (-1%)\n",
    "            \n",
    "==> Il faut donc commencer par ne garder que la modalité \"NORMAL\". Ce qui nous fait passer de 1128128 à 1027459 soit une réduction de 100 669 dont 98800 de \"Infos italiques\" et 1844 de \"Signatures droites\".  \n",
    "\n",
    "(Pour une observation plus détaillée voir Annexe_Exclusions_AN.ipynb)"
   ]
  },
  {
   "cell_type": "code",
   "execution_count": null,
   "id": "726c60c8",
   "metadata": {},
   "outputs": [],
   "source": [
    "df = df[df[\"code_style\"] == \"NORMAL\"]\n",
    "\n"
   ]
  },
  {
   "cell_type": "markdown",
   "id": "46947d59",
   "metadata": {},
   "source": [
    "### Étape 2 : Supprimer les didascalies dans les prises de paroles \n",
    "\n",
    "Elles ne sont plus en italiques mais sont comprises entre parenthèses donc utiliser une regex d'exclusion à l'intérieur de la colonne texte. On en profite pour introduire un nettoyage plus général pour enlever les balises html et espaces multiples"
   ]
  },
  {
   "cell_type": "code",
   "execution_count": 18,
   "id": "cf0a4979",
   "metadata": {},
   "outputs": [],
   "source": [
    "import re \n",
    "\n",
    "def nettoyer_texte(texte):\n",
    "    if not isinstance(texte, str):\n",
    "        return texte\n",
    "    # Supprimer les balises HTML/XML\n",
    "    texte = re.sub(r\"<[^>]+>\", \"\", texte)\n",
    "    # Supprimer contenu entre parenthèses\n",
    "    texte = re.sub(r\"\\([^)]*\\)\", \"\", texte)\n",
    "    # # TODO: aviser si enlève crochets, ou juste […] [...], surtout des troncatures citations\n",
    "    # texte = re.sub(r\"\\[[^\\]]*\\]\", \"\", texte)\n",
    "    # Supprimer les espaces multiples\n",
    "    texte = re.sub(r\"\\s+\", \" \", texte).strip()\n",
    "    return texte\n",
    "\n",
    "\n",
    "df[\"texte_propre\"] = df[\"texte\"].apply(nettoyer_texte)\n",
    "\n",
    "df = df.drop(columns=[\"texte\"]) #la colonne du texte avant process n'est pas nécessaire (sera gardé dans le précédent fichier) et pèse lourd sur le fichier (+ de 300mo)"
   ]
  },
  {
   "cell_type": "markdown",
   "id": "2d640a1a",
   "metadata": {},
   "source": [
    "### Étape 3 : Supprimer les interventions de la présidence de l'AN \n",
    "\n",
    "(Risques en termes de pertes de paroles politiques minimes et essentiellement liés à la fonction de \"représentation de l'assemblée nationale\" et donc de son expression face à certains événements d’une particulière gravité)\n",
    "**À voir si pertinent de garder les interventions dépassant un certain nombre de caractère à cet égard...**\n",
    "\n",
    "Pour une observation des interventions spécifiques de la présidence de l'AN et de leurs caractéristiques, cf src/notebook/Annexe_Interventions_PR_AN.ipynb\n",
    "\n",
    "On passe de 1 027 459 à 683 680 soit près de 343 799 de moins !! On perd aussi toutes les \"Parole_1_1\" donc pas besoin de ne garder que les paroles génériques et interruptions !!\n",
    "\n",
    "Pour cela on utilise une fonction qui ne prend dans le DF que les occurences n'ayant pas M. le président ou MMe la présidente dans la colonne nom-orateur. Il s'agit donc d'une fonction boolèene inversée. "
   ]
  },
  {
   "cell_type": "code",
   "execution_count": 19,
   "id": "01216e9d",
   "metadata": {},
   "outputs": [
    {
     "data": {
      "text/plain": [
       "(683680, 25)"
      ]
     },
     "execution_count": 19,
     "metadata": {},
     "output_type": "execute_result"
    }
   ],
   "source": [
    "# Exclure les prises de parole de \"Mme la présidente\" et \"M. le président\"\n",
    "# Role_debat n'est pas bien identifié, utiliser Nom_orateur\n",
    "df = df[~df[\"nom_orateur\"].str.strip().isin([\"M. le président\", \"Mme la présidente\"])] # ici le ~ sert à enlever les occurences de ce qui est défini après donc pour étudier en détail les interventions de la présidence il faut juste l'enlver\n",
    "\n",
    "df.shape"
   ]
  },
  {
   "cell_type": "code",
   "execution_count": 13,
   "id": "f13b9b81",
   "metadata": {},
   "outputs": [
    {
     "data": {
      "application/vnd.microsoft.datawrangler.viewer.v0+json": {
       "columns": [
        {
         "name": "code_grammaire",
         "rawType": "object",
         "type": "string"
        },
        {
         "name": "count",
         "rawType": "object",
         "type": "unknown"
        },
        {
         "name": "unique",
         "rawType": "object",
         "type": "unknown"
        },
        {
         "name": "top",
         "rawType": "object",
         "type": "unknown"
        },
        {
         "name": "freq",
         "rawType": "object",
         "type": "unknown"
        }
       ],
       "ref": "f1590afc-ef7a-4f2b-8ac0-6720adb322ca",
       "rows": [
        [
         "49_3_2_1",
         "27",
         "1",
         "PAROLE_1_2",
         "27"
        ],
        [
         "ACCORD_CONV_2_1",
         "0",
         "0",
         null,
         null
        ],
        [
         "ADOP_ADT",
         "0",
         "0",
         null,
         null
        ],
        [
         "ADOP_ADTS",
         "0",
         "0",
         null,
         null
        ],
        [
         "ADT_SORTS_DIRECT_1_20",
         "0",
         "0",
         null,
         null
        ],
        [
         "ADT_SORTS_DIRECT_1_40",
         "0",
         "0",
         null,
         null
        ],
        [
         "AM8ENDSORT_REJET_IDENTIQUES",
         "0",
         "0",
         null,
         null
        ],
        [
         "ANNONCE_CCATION_1_20",
         "27",
         "1",
         "PAROLE_1_2",
         "27"
        ],
        [
         "ANN_SCR_AUTRE_1_0",
         "0",
         "0",
         null,
         null
        ],
        [
         "ART_SORT_DIRECT_2_1_1",
         "0",
         "0",
         null,
         null
        ],
        [
         "ART_SORT_DIRECT_2_20_1",
         "0",
         "0",
         null,
         null
        ],
        [
         "ART_SORT_DIRECT_2_70",
         "0",
         "0",
         null,
         null
        ],
        [
         "AUTRE_INTERTITRE_2_20",
         "16",
         "2",
         "PAROLE_1_2",
         "15"
        ],
        [
         "AUTRE_VOTE_1_40",
         "0",
         "0",
         null,
         null
        ],
        [
         "CHGT_PRES_1_1",
         "0",
         "0",
         null,
         null
        ],
        [
         "CONGRES_2_1",
         "89",
         "1",
         "PAROLE_1_2",
         "89"
        ],
        [
         "DEBAT_1_10",
         "7758",
         "2",
         "PAROLE_1_2",
         "7754"
        ],
        [
         "DISC_ARTICLES_1_1",
         "0",
         "0",
         null,
         null
        ],
        [
         "DISC_ARTICLES_1_20",
         "12181",
         "4",
         "PAROLE_1_2",
         "11291"
        ],
        [
         "DISC_ARTICLES_1_30",
         "1",
         "1",
         "PAROLE_1_2",
         "1"
        ],
        [
         "DISC_ARTICLES_1_30_1",
         "91564",
         "5",
         "PAROLE_1_2",
         "54193"
        ],
        [
         "DISC_ARTICLES_2_1_1",
         "8",
         "1",
         "PAROLE_1_2",
         "8"
        ],
        [
         "DISC_ARTICLES_2_2_1",
         "0",
         "0",
         null,
         null
        ],
        [
         "DISC_ARTICLES_2_4",
         "0",
         "0",
         null,
         null
        ],
        [
         "DISC_ARTICLES_3_1",
         "0",
         "0",
         null,
         null
        ],
        [
         "DISC_ARTICLES_3_4_1",
         "0",
         "0",
         null,
         null
        ],
        [
         "DISC_ARTICLES_3_9",
         "0",
         "0",
         null,
         null
        ],
        [
         "DISC_ARTICLES_3_9_1",
         "0",
         "0",
         null,
         null
        ],
        [
         "DISC_ARTICLES_4_13",
         "0",
         "0",
         null,
         null
        ],
        [
         "DISC_ARTICLES_4_20",
         "0",
         "0",
         null,
         null
        ],
        [
         "DISC_GENERALE_2",
         "1",
         "1",
         "PAROLE_1_2",
         "1"
        ],
        [
         "DISC_GENERALE_2_2",
         "0",
         "0",
         null,
         null
        ],
        [
         "DISC_GENERALE_2_3",
         "12402",
         "4",
         "PAROLE_1_2",
         "12395"
        ],
        [
         "ELECTION_PDT_1_20",
         "0",
         "0",
         null,
         null
        ],
        [
         "ELECTION_PDT_1_40",
         "0",
         "0",
         null,
         null
        ],
        [
         "ELECTION_PDT_1_60",
         "0",
         "0",
         null,
         null
        ],
        [
         "ELECTION_PDT_1_70",
         "0",
         "0",
         null,
         null
        ],
        [
         "ELECTION_VP_1_20",
         "0",
         "0",
         null,
         null
        ],
        [
         "EXPL_VOTE_2_30",
         "2285",
         "2",
         "PAROLE_1_2",
         "2284"
        ],
        [
         "EXPL_VOTE_PERSO_2_1",
         "12",
         "1",
         "PAROLE_1_2",
         "12"
        ],
        [
         "FAIT_PERSONNEL_0_0",
         "0",
         "0",
         null,
         null
        ],
        [
         "FAIT_PERSONNEL_0_30",
         "20",
         "1",
         "PAROLE_1_2",
         "20"
        ],
        [
         "FIN_SEAN_1_0",
         "0",
         "0",
         null,
         null
        ],
        [
         "FIN_SEAN_2_1",
         "0",
         "0",
         null,
         null
        ],
        [
         "FIN_SEAN_2_4",
         "0",
         "0",
         null,
         null
        ],
        [
         "FIN_SEAN_2_5",
         "0",
         "0",
         null,
         null
        ],
        [
         "FUSION",
         "0",
         "0",
         null,
         null
        ],
        [
         "INTERRUPTION_1_10",
         "3",
         "1",
         "PAROLE_1_2",
         "3"
        ],
        [
         "MAV_MOTION_1_30",
         "0",
         "0",
         null,
         null
        ],
        [
         "MAV_MOTION_1_30_1",
         "0",
         "0",
         null,
         null
        ]
       ],
       "shape": {
        "columns": 4,
        "rows": 203
       }
      },
      "text/html": [
       "<div>\n",
       "<style scoped>\n",
       "    .dataframe tbody tr th:only-of-type {\n",
       "        vertical-align: middle;\n",
       "    }\n",
       "\n",
       "    .dataframe tbody tr th {\n",
       "        vertical-align: top;\n",
       "    }\n",
       "\n",
       "    .dataframe thead th {\n",
       "        text-align: right;\n",
       "    }\n",
       "</style>\n",
       "<table border=\"1\" class=\"dataframe\">\n",
       "  <thead>\n",
       "    <tr style=\"text-align: right;\">\n",
       "      <th></th>\n",
       "      <th>count</th>\n",
       "      <th>unique</th>\n",
       "      <th>top</th>\n",
       "      <th>freq</th>\n",
       "    </tr>\n",
       "    <tr>\n",
       "      <th>code_grammaire</th>\n",
       "      <th></th>\n",
       "      <th></th>\n",
       "      <th></th>\n",
       "      <th></th>\n",
       "    </tr>\n",
       "  </thead>\n",
       "  <tbody>\n",
       "    <tr>\n",
       "      <th>49_3_2_1</th>\n",
       "      <td>27</td>\n",
       "      <td>1</td>\n",
       "      <td>PAROLE_1_2</td>\n",
       "      <td>27</td>\n",
       "    </tr>\n",
       "    <tr>\n",
       "      <th>ACCORD_CONV_2_1</th>\n",
       "      <td>0</td>\n",
       "      <td>0</td>\n",
       "      <td>NaN</td>\n",
       "      <td>NaN</td>\n",
       "    </tr>\n",
       "    <tr>\n",
       "      <th>ADOP_ADT</th>\n",
       "      <td>0</td>\n",
       "      <td>0</td>\n",
       "      <td>NaN</td>\n",
       "      <td>NaN</td>\n",
       "    </tr>\n",
       "    <tr>\n",
       "      <th>ADOP_ADTS</th>\n",
       "      <td>0</td>\n",
       "      <td>0</td>\n",
       "      <td>NaN</td>\n",
       "      <td>NaN</td>\n",
       "    </tr>\n",
       "    <tr>\n",
       "      <th>ADT_SORTS_DIRECT_1_20</th>\n",
       "      <td>0</td>\n",
       "      <td>0</td>\n",
       "      <td>NaN</td>\n",
       "      <td>NaN</td>\n",
       "    </tr>\n",
       "    <tr>\n",
       "      <th>...</th>\n",
       "      <td>...</td>\n",
       "      <td>...</td>\n",
       "      <td>...</td>\n",
       "      <td>...</td>\n",
       "    </tr>\n",
       "    <tr>\n",
       "      <th>VOTE_ENS_PPR_S_2_30</th>\n",
       "      <td>0</td>\n",
       "      <td>0</td>\n",
       "      <td>NaN</td>\n",
       "      <td>NaN</td>\n",
       "    </tr>\n",
       "    <tr>\n",
       "      <th>VOTE_ENS_PPR_S_2_50</th>\n",
       "      <td>0</td>\n",
       "      <td>0</td>\n",
       "      <td>NaN</td>\n",
       "      <td>NaN</td>\n",
       "    </tr>\n",
       "    <tr>\n",
       "      <th>VOTE_ENS_PPR_S_2_80</th>\n",
       "      <td>0</td>\n",
       "      <td>0</td>\n",
       "      <td>NaN</td>\n",
       "      <td>NaN</td>\n",
       "    </tr>\n",
       "    <tr>\n",
       "      <th>VOTE_RESERV_ADT</th>\n",
       "      <td>0</td>\n",
       "      <td>0</td>\n",
       "      <td>NaN</td>\n",
       "      <td>NaN</td>\n",
       "    </tr>\n",
       "    <tr>\n",
       "      <th>VOTE_RESERV_ADTS</th>\n",
       "      <td>0</td>\n",
       "      <td>0</td>\n",
       "      <td>NaN</td>\n",
       "      <td>NaN</td>\n",
       "    </tr>\n",
       "  </tbody>\n",
       "</table>\n",
       "<p>203 rows × 4 columns</p>\n",
       "</div>"
      ],
      "text/plain": [
       "                      count unique         top freq\n",
       "code_grammaire                                     \n",
       "49_3_2_1                 27      1  PAROLE_1_2   27\n",
       "ACCORD_CONV_2_1           0      0         NaN  NaN\n",
       "ADOP_ADT                  0      0         NaN  NaN\n",
       "ADOP_ADTS                 0      0         NaN  NaN\n",
       "ADT_SORTS_DIRECT_1_20     0      0         NaN  NaN\n",
       "...                     ...    ...         ...  ...\n",
       "VOTE_ENS_PPR_S_2_30       0      0         NaN  NaN\n",
       "VOTE_ENS_PPR_S_2_50       0      0         NaN  NaN\n",
       "VOTE_ENS_PPR_S_2_80       0      0         NaN  NaN\n",
       "VOTE_RESERV_ADT           0      0         NaN  NaN\n",
       "VOTE_RESERV_ADTS          0      0         NaN  NaN\n",
       "\n",
       "[203 rows x 4 columns]"
      ]
     },
     "execution_count": 13,
     "metadata": {},
     "output_type": "execute_result"
    }
   ],
   "source": [
    "df.groupby(\"code_grammaire\", dropna=False)[\"code_parole\"].describe()"
   ]
  },
  {
   "cell_type": "code",
   "execution_count": 20,
   "id": "cbd05803",
   "metadata": {},
   "outputs": [
    {
     "data": {
      "text/plain": [
       "(683680, 26)"
      ]
     },
     "execution_count": 20,
     "metadata": {},
     "output_type": "execute_result"
    }
   ],
   "source": [
    "# Autres étapes potentielles !\n",
    "\n",
    "# Garder une trace de la longueur des interventions brutes\n",
    "df[\"len_dirtytext\"] = df[\"texte_propre\"].str.len()\n",
    "\n",
    "# Changer les missing values pour non_précisé (majoritaire) dans Code_parole\n",
    "df[\"code_parole\"] = df[\"code_parole\"].fillna(\"non_précisé\")\n",
    "\n",
    "df.shape"
   ]
  },
  {
   "cell_type": "code",
   "execution_count": 7,
   "id": "8f97abc0",
   "metadata": {},
   "outputs": [
    {
     "data": {
      "application/vnd.microsoft.datawrangler.viewer.v0+json": {
       "columns": [
        {
         "name": "code_parole",
         "rawType": "object",
         "type": "string"
        },
        {
         "name": "count",
         "rawType": "float64",
         "type": "float"
        },
        {
         "name": "mean",
         "rawType": "float64",
         "type": "float"
        },
        {
         "name": "std",
         "rawType": "float64",
         "type": "float"
        },
        {
         "name": "min",
         "rawType": "float64",
         "type": "float"
        },
        {
         "name": "25%",
         "rawType": "float64",
         "type": "float"
        },
        {
         "name": "50%",
         "rawType": "float64",
         "type": "float"
        },
        {
         "name": "75%",
         "rawType": "float64",
         "type": "float"
        },
        {
         "name": "max",
         "rawType": "float64",
         "type": "float"
        }
       ],
       "ref": "c85277c1-0b2b-46e2-8a6e-2341f753493d",
       "rows": [
        [
         "(null)",
         "1.0",
         "186.0",
         null,
         "186.0",
         "186.0",
         "186.0",
         "186.0",
         "186.0"
        ],
        [
         "AVIS_COM_1_10",
         "1.0",
         "1278.0",
         null,
         "1278.0",
         "1278.0",
         "1278.0",
         "1278.0",
         "1278.0"
        ],
        [
         "AVIS_COM_1_20",
         "45107.0",
         "450.3905823929767",
         "482.53652159497153",
         "3.0",
         "118.5",
         "315.0",
         "618.0",
         "8179.0"
        ],
        [
         "AVIS_GVT_1_20",
         "38454.0",
         "486.6473708846934",
         "681.5271702654849",
         "4.0",
         "17.0",
         "240.0",
         "685.0",
         "11340.0"
        ],
        [
         "PAROLE_1_1",
         "21.0",
         "556.7619047619048",
         "1080.603345578844",
         "30.0",
         "101.0",
         "241.0",
         "529.0",
         "5088.0"
        ],
        [
         "PAROLE_1_2",
         "247778.0",
         "974.5192188168442",
         "1294.330874929359",
         "3.0",
         "245.0",
         "547.0",
         "1207.0",
         "68092.0"
        ],
        [
         "PRESIDE_DISCOURS_1_10",
         "2.0",
         "95.5",
         "92.63098833543772",
         "30.0",
         "62.75",
         "95.5",
         "128.25",
         "161.0"
        ],
        [
         "Raccroche_apres_inter",
         "9.0",
         "1638.6666666666667",
         "1450.0254308114738",
         "60.0",
         "154.0",
         "1340.0",
         "2316.0",
         "3939.0"
        ],
        [
         "non_précisé",
         "352287.0",
         "282.3428738500143",
         "625.7197768140566",
         "1.0",
         "17.0",
         "37.0",
         "251.0",
         "25609.0"
        ]
       ],
       "shape": {
        "columns": 8,
        "rows": 9
       }
      },
      "text/html": [
       "<div>\n",
       "<style scoped>\n",
       "    .dataframe tbody tr th:only-of-type {\n",
       "        vertical-align: middle;\n",
       "    }\n",
       "\n",
       "    .dataframe tbody tr th {\n",
       "        vertical-align: top;\n",
       "    }\n",
       "\n",
       "    .dataframe thead th {\n",
       "        text-align: right;\n",
       "    }\n",
       "</style>\n",
       "<table border=\"1\" class=\"dataframe\">\n",
       "  <thead>\n",
       "    <tr style=\"text-align: right;\">\n",
       "      <th></th>\n",
       "      <th>count</th>\n",
       "      <th>mean</th>\n",
       "      <th>std</th>\n",
       "      <th>min</th>\n",
       "      <th>25%</th>\n",
       "      <th>50%</th>\n",
       "      <th>75%</th>\n",
       "      <th>max</th>\n",
       "    </tr>\n",
       "    <tr>\n",
       "      <th>code_parole</th>\n",
       "      <th></th>\n",
       "      <th></th>\n",
       "      <th></th>\n",
       "      <th></th>\n",
       "      <th></th>\n",
       "      <th></th>\n",
       "      <th></th>\n",
       "      <th></th>\n",
       "    </tr>\n",
       "  </thead>\n",
       "  <tbody>\n",
       "    <tr>\n",
       "      <th>(null)</th>\n",
       "      <td>1.0</td>\n",
       "      <td>186.000000</td>\n",
       "      <td>NaN</td>\n",
       "      <td>186.0</td>\n",
       "      <td>186.00</td>\n",
       "      <td>186.0</td>\n",
       "      <td>186.00</td>\n",
       "      <td>186.0</td>\n",
       "    </tr>\n",
       "    <tr>\n",
       "      <th>AVIS_COM_1_10</th>\n",
       "      <td>1.0</td>\n",
       "      <td>1278.000000</td>\n",
       "      <td>NaN</td>\n",
       "      <td>1278.0</td>\n",
       "      <td>1278.00</td>\n",
       "      <td>1278.0</td>\n",
       "      <td>1278.00</td>\n",
       "      <td>1278.0</td>\n",
       "    </tr>\n",
       "    <tr>\n",
       "      <th>AVIS_COM_1_20</th>\n",
       "      <td>45107.0</td>\n",
       "      <td>450.390582</td>\n",
       "      <td>482.536522</td>\n",
       "      <td>3.0</td>\n",
       "      <td>118.50</td>\n",
       "      <td>315.0</td>\n",
       "      <td>618.00</td>\n",
       "      <td>8179.0</td>\n",
       "    </tr>\n",
       "    <tr>\n",
       "      <th>AVIS_GVT_1_20</th>\n",
       "      <td>38454.0</td>\n",
       "      <td>486.647371</td>\n",
       "      <td>681.527170</td>\n",
       "      <td>4.0</td>\n",
       "      <td>17.00</td>\n",
       "      <td>240.0</td>\n",
       "      <td>685.00</td>\n",
       "      <td>11340.0</td>\n",
       "    </tr>\n",
       "    <tr>\n",
       "      <th>PAROLE_1_1</th>\n",
       "      <td>21.0</td>\n",
       "      <td>556.761905</td>\n",
       "      <td>1080.603346</td>\n",
       "      <td>30.0</td>\n",
       "      <td>101.00</td>\n",
       "      <td>241.0</td>\n",
       "      <td>529.00</td>\n",
       "      <td>5088.0</td>\n",
       "    </tr>\n",
       "    <tr>\n",
       "      <th>PAROLE_1_2</th>\n",
       "      <td>247778.0</td>\n",
       "      <td>974.519219</td>\n",
       "      <td>1294.330875</td>\n",
       "      <td>3.0</td>\n",
       "      <td>245.00</td>\n",
       "      <td>547.0</td>\n",
       "      <td>1207.00</td>\n",
       "      <td>68092.0</td>\n",
       "    </tr>\n",
       "    <tr>\n",
       "      <th>PRESIDE_DISCOURS_1_10</th>\n",
       "      <td>2.0</td>\n",
       "      <td>95.500000</td>\n",
       "      <td>92.630988</td>\n",
       "      <td>30.0</td>\n",
       "      <td>62.75</td>\n",
       "      <td>95.5</td>\n",
       "      <td>128.25</td>\n",
       "      <td>161.0</td>\n",
       "    </tr>\n",
       "    <tr>\n",
       "      <th>Raccroche_apres_inter</th>\n",
       "      <td>9.0</td>\n",
       "      <td>1638.666667</td>\n",
       "      <td>1450.025431</td>\n",
       "      <td>60.0</td>\n",
       "      <td>154.00</td>\n",
       "      <td>1340.0</td>\n",
       "      <td>2316.00</td>\n",
       "      <td>3939.0</td>\n",
       "    </tr>\n",
       "    <tr>\n",
       "      <th>non_précisé</th>\n",
       "      <td>352287.0</td>\n",
       "      <td>282.342874</td>\n",
       "      <td>625.719777</td>\n",
       "      <td>1.0</td>\n",
       "      <td>17.00</td>\n",
       "      <td>37.0</td>\n",
       "      <td>251.00</td>\n",
       "      <td>25609.0</td>\n",
       "    </tr>\n",
       "  </tbody>\n",
       "</table>\n",
       "</div>"
      ],
      "text/plain": [
       "                          count         mean          std     min      25%  \\\n",
       "code_parole                                                                  \n",
       "(null)                      1.0   186.000000          NaN   186.0   186.00   \n",
       "AVIS_COM_1_10               1.0  1278.000000          NaN  1278.0  1278.00   \n",
       "AVIS_COM_1_20           45107.0   450.390582   482.536522     3.0   118.50   \n",
       "AVIS_GVT_1_20           38454.0   486.647371   681.527170     4.0    17.00   \n",
       "PAROLE_1_1                 21.0   556.761905  1080.603346    30.0   101.00   \n",
       "PAROLE_1_2             247778.0   974.519219  1294.330875     3.0   245.00   \n",
       "PRESIDE_DISCOURS_1_10       2.0    95.500000    92.630988    30.0    62.75   \n",
       "Raccroche_apres_inter       9.0  1638.666667  1450.025431    60.0   154.00   \n",
       "non_précisé            352287.0   282.342874   625.719777     1.0    17.00   \n",
       "\n",
       "                          50%      75%      max  \n",
       "code_parole                                      \n",
       "(null)                  186.0   186.00    186.0  \n",
       "AVIS_COM_1_10          1278.0  1278.00   1278.0  \n",
       "AVIS_COM_1_20           315.0   618.00   8179.0  \n",
       "AVIS_GVT_1_20           240.0   685.00  11340.0  \n",
       "PAROLE_1_1              241.0   529.00   5088.0  \n",
       "PAROLE_1_2              547.0  1207.00  68092.0  \n",
       "PRESIDE_DISCOURS_1_10    95.5   128.25    161.0  \n",
       "Raccroche_apres_inter  1340.0  2316.00   3939.0  \n",
       "non_précisé              37.0   251.00  25609.0  "
      ]
     },
     "execution_count": 7,
     "metadata": {},
     "output_type": "execute_result"
    }
   ],
   "source": [
    "# aperçu des répartitions\n",
    "df.groupby(\"code_parole\", dropna=False)[\"len_dirtytext\"].describe()"
   ]
  },
  {
   "cell_type": "markdown",
   "id": "497765b9",
   "metadata": {},
   "source": [
    "## Exporter les données "
   ]
  },
  {
   "cell_type": "code",
   "execution_count": 21,
   "id": "f4756692",
   "metadata": {},
   "outputs": [],
   "source": [
    "import csv  # pour résoudre le soucis d'écart. Checker\n",
    "\n",
    "df.to_csv(\n",
    "    \"/Users/matthiaslevalet/Desktop/Projet de recherche/CSS_République/Data/Interim/Data_AN_CSS_clean.csv\",\n",
    "    index=False,\n",
    "    quoting=csv.QUOTE_ALL,  # a permis de résoudre le soucis d'écart. Checker\n",
    ")"
   ]
  }
 ],
 "metadata": {
  "kernelspec": {
   "display_name": "base",
   "language": "python",
   "name": "python3"
  },
  "language_info": {
   "codemirror_mode": {
    "name": "ipython",
    "version": 3
   },
   "file_extension": ".py",
   "mimetype": "text/x-python",
   "name": "python",
   "nbconvert_exporter": "python",
   "pygments_lexer": "ipython3",
   "version": "3.13.5"
  }
 },
 "nbformat": 4,
 "nbformat_minor": 5
}
