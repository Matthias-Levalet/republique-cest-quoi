{
 "cells": [
  {
   "cell_type": "markdown",
   "id": "897c6366",
   "metadata": {},
   "source": [
    "# Identifier les interventions mobilisant l'idée de \"République\"\n",
    "\n",
    "Ce notebook vise à présenter le stratégie de recherche pour circonscrire l'analyse de discours aux prises de paroles politiques mobilisant l'idée de \"République\". "
   ]
  },
  {
   "cell_type": "markdown",
   "id": "466e5d68",
   "metadata": {},
   "source": [
    "## Définition préalable de ce concept : \n",
    "\n",
    "Énoncés sur la \"République\" captés par le concept \"d'idée politique\" au sens d'effectuer un travail sur un ensemble idéel de références organisées à la \"République\". \n",
    "\n",
    "***Nécessité d'écrire une véritable définition !!!!!***\n",
    "\n",
    "    ==> Statut dual de l'idée de \"République\" :\n",
    "        - (1) Mobilisations de références directes à la \"République\" via l'utilisation de la famille du mot \"République\" (« république », \"républicain\", etc.),\n",
    "        - (2) Mobilisation de références indirectes et implicites à la \"République\" via son champ lexical. Peut alors comprendre des figures, évènements et valeurs/principes dont la définition/liste n'est pas consensuelle dans la littérature.\n",
    "\n",
    "## Stratégie de recherche : \n",
    "\n",
    "1. Définition d'une regex large inclusive sur la famille de mot \"république\" [V]\n",
    "2. Entrainer un classifieur pour exclure les termes de la famille de mot \"république\" ne renvoyant pas à cette idée\n",
    "3. Comparer le classifieur à une regex exclusive\n",
    "    - Améliorer la regex exclusive et la simplifier \n",
    "4. Définition d'une regex large pour comprendre tout le champ lexical possible de la \"république\"\n",
    "5. Trier les références à l'IR des références extérieures ou indépendantes de l'IR\n",
    "    - Vérifier le nombre de co-occurences entre \"République\" (1), les éventuelles références (2), et les co-occurrences entre valeurs et figures, ou valeurs et évènements pour mettre l'accent sur ce qu'il faudrait potentiellement exclure de l'idée de République = essayer d’objectiver si il existe un champ lexical +/- cohérent qui se détache (et ce qui serait étranger/extérieur)  \n",
    "    - Exclure par annotation manuelle (sur active tigger) les valeurs, figures et évènements qui en fonction de l'auteur, de la date et du contexte linguistique renvoie à une autre idée ou idéologie politique celle de la République"
   ]
  },
  {
   "cell_type": "code",
   "execution_count": 1,
   "id": "a946c393",
   "metadata": {},
   "outputs": [
    {
     "data": {
      "text/plain": [
       "(683680, 26)"
      ]
     },
     "execution_count": 1,
     "metadata": {},
     "output_type": "execute_result"
    }
   ],
   "source": [
    "# Ouvrir le fichier propre \n",
    "import pandas as pd\n",
    "import re\n",
    "import csv\n",
    "\n",
    "df = pd.read_csv(\n",
    "    \"/Users/matthiaslevalet/Desktop/Projet de recherche/CSS_République/Data/Interim/Data_AN_CSS_clean.csv\", low_memory=False, dtype={\"ID_orateur\": str}\n",
    ")\n",
    "df.shape"
   ]
  },
  {
   "cell_type": "markdown",
   "id": "cac8043d",
   "metadata": {},
   "source": [
    "## Étape 1 : Regex large famille du mot \"République\"\n",
    "\n",
    "Comment définir largement la famille du mot \"République\" ? En revenant à sa \"racine\" puisque la famille d'un mot correspond à l'ensemble des mots dérivés de la même racine (ou base/radical) ou d'une racine proche (mer et mar par exemple). Ces mots prennent des formes différentes (verbe, adverbe, nom, adjectif, etc.) en changeant de suffixe, pré-fixe, etc.\n",
    "\n",
    "Définition théorique : \"*on donne le nom de « racine » à cette partie du lexème qui constitue la limite de la segmentation, à la fois porteuse de l’identité du lexème (cette partie d’interprétation qui le différencie de tous les autres lexèmes), et qui est insécable sous peine que soit perdue cette identité lexicale.*\" Huot, H. (2006). Chapitre III. Racines et radicaux. Cursus, 2, 41-52.\n",
    "\n",
    "Ici la base de \"République\" est \"républi\" : exemple (républicain, républicanisme, )"
   ]
  },
  {
   "cell_type": "code",
   "execution_count": 2,
   "id": "05ce16c7",
   "metadata": {},
   "outputs": [],
   "source": [
    "# Regex de la famille du mot \"République\" (simplifié ici) --> passe de 683680 à 37979.\n",
    "\n",
    "pattern_lexical = re.compile(\n",
    "    r\"républi\",\n",
    "    re.I,\n",
    ")\n",
    "\n",
    "def famille_de_mot(texte_propre):\n",
    "    for match in pattern_lexical.finditer(texte_propre):\n",
    "        return True\n",
    "        return False"
   ]
  },
  {
   "cell_type": "code",
   "execution_count": 3,
   "id": "25fefeeb",
   "metadata": {},
   "outputs": [],
   "source": [
    "# Appliquer sur la colonne\n",
    "df[\"texte_propre\"] = df[\"texte_propre\"].fillna(\"\") # nécessaire de remplacer les 35 NaN restantes par des chaînes vides pour faire tourner la fonction re\n",
    "df[\"République_FDM_IN\"] = df[\"texte_propre\"].apply(famille_de_mot)"
   ]
  },
  {
   "cell_type": "code",
   "execution_count": 4,
   "id": "dc6a8387",
   "metadata": {},
   "outputs": [],
   "source": [
    "df_répu_in = df[df[\"République_FDM_IN\"] == True]"
   ]
  },
  {
   "cell_type": "code",
   "execution_count": 5,
   "id": "b8e0a11c",
   "metadata": {},
   "outputs": [
    {
     "data": {
      "text/plain": [
       "(37979, 27)"
      ]
     },
     "execution_count": 5,
     "metadata": {},
     "output_type": "execute_result"
    }
   ],
   "source": [
    "df_répu_in.shape"
   ]
  },
  {
   "cell_type": "code",
   "execution_count": 6,
   "id": "3fbc0a44",
   "metadata": {},
   "outputs": [],
   "source": [
    "import csv  \n",
    "\n",
    "df_répu_in.to_csv(\n",
    "    \"/Users/matthiaslevalet/Desktop/Projet de recherche/CSS_République/Data/Interim/Data_AN_CSS_République_inclusive.csv\",\n",
    "    index=False,\n",
    "    quoting=csv.QUOTE_ALL,  # a permis de résoudre le soucis d'écart. Checker\n",
    ")"
   ]
  },
  {
   "cell_type": "markdown",
   "id": "55d2f95c",
   "metadata": {},
   "source": [
    "## Étape 2/3 : Constitution d'une regex exclusive \n",
    "\n",
    "De nombres termes appartiennent à la famille du mot \"république\" sans renvoyer à l'idée de \"République\" telle que définit ci-dessus, comme :\n",
    "\n",
    "        * Représentant : “Président de la République” (pour dire le nom de la personne qui l’occupe)\n",
    "        * Institutions :  “Cour de justice de la république”/\"Cour de sûreté de la République\"/\"procureur de la République\"/\"Administration générale de la république\"\n",
    "        * Partis ou groupes politiques : \"L(l)es Républicains\"/\"La République en Marche\"/\"groupe socialistes, écologistes et républicains\" (Socialiste, Écologiste et Républicain)/\"Gauche démocrate et républicaine\"\n",
    "        * Pays (liste extensive créée pour une regex spécifique)\n",
    "\n",
    "==> Écrire une regex pour les exclure automatiquement. \n",
    "\n",
    "Attention : comme les termes exclus peuvent apparaitre aussi avec les termes voulu, éviter de chainer et finir par virer des trucs qu'on aurait voulu (ex : \"les idées républicaines sont menacées par Les Républicains\")"
   ]
  },
  {
   "cell_type": "code",
   "execution_count": 7,
   "id": "8d4868f5",
   "metadata": {},
   "outputs": [],
   "source": [
    "# préparer les pays à exclure en utilisant la liste faite par le notebook pays_republique.ipynb\n",
    "with open(\"/Users/matthiaslevalet/Desktop/Projet de recherche/CSS_République/Data/Interim/liste_pays_republique.txt\", \"r\", encoding=\"utf-8\") as f:\n",
    "    liste_pays = [line.strip() for line in f]\n",
    "\n",
    "# créer un pattern regex pour les pays\n",
    "# ici pas besoin d'avoir un groupe de capture par pays mais juste global ok\n",
    "pattern_pays = r\"(\\b(?:\" + r\"|\".join(re.escape(p) for p in liste_pays) + r\")\\b)\"\n",
    "\n",
    "# = résultat en enlève 5 540 (de 37 979 regex inclusion, à 32 439 regex exclu uniquement pays_compile)\n"
   ]
  },
  {
   "cell_type": "code",
   "execution_count": 8,
   "id": "7e2bd4e9",
   "metadata": {},
   "outputs": [],
   "source": [
    "# 2e option pays sur la base du nom des pays données par la diplomatie (en enlève 5 506, soit 34 de moins que la regex bourrin)\n",
    "\n",
    "# https://www.diplomatie.gouv.fr/IMG/pdf/Index_alphabetique_des_pays.pdf\n",
    "\n",
    "pattern_PAYS = re.compile (\n",
    "    r\"|(\\bRépublique Centrafricaine\\b)\"\n",
    "    r\"|(\\bRépublique démocratique du Congo\\b)\"\n",
    "    r\"|(\\bRépublique du Congo\\b)\"\n",
    "    r\"|(\\bRépublique Dominicaine\\b)\"\n",
    "    r\"|(\\bRépublique yougoslave de Macédoine\\b)\"\n",
    "    r\"|(\\brépublique de Moldavie\\b)\"\n",
    "    r\"|(\\bRépublique Tchèque\\b)\"\n",
    "    r\"|(\\bRépublique islamique d'Iran\\b)\"\n",
    "    r\"|(\\bRépublique fédérale d'Allemagne\\b)\"\n",
    "    r\"|(\\bRépublique fédérale allemande\\b)\"\n",
    "    r\"|(\\bRépublique populaire de Chine\\b)\"\n",
    "    r\"|(\\bRépublique populaire chinoise\\b)\"\n",
    "    r\"|(\\bRépublique populaire démocratique de Corée\\b)\"\n",
    "    r\"|(\\bRépublique de Corée\\b)\"\n",
    "    r\"|(\\bRépublique d’Arménie\\b)\"\n",
    "    r\"|(\\brépublique arménienne\\b)\"\n",
    "    r\"|(\\bRépublique de Chypre\\b)\"\n",
    "    r\"|(\\bRépublique chypriote\\b)\"\n",
    "    r\"|(\\bRépublique d’Albanie\\b)\"\n",
    "    r\"|(\\brépublique insulaire\\b)\" # pas sur, car utilisé pour chypre mais peut-être aussi plus largement ?\n",
    "    r\"|(\\brépublique[s] soviétique[s]\\b)\"\n",
    "    r\"|(\\brépublique de Moldavie\\b)\"\n",
    "   \n",
    "    \n",
    ")"
   ]
  },
  {
   "cell_type": "code",
   "execution_count": null,
   "id": "d46a4cf4",
   "metadata": {},
   "outputs": [],
   "source": [
    "# Regex des expressions à exclure\n",
    "\n",
    "# Expressions à exclure - casse exacte \n",
    "pattern_excl_case_sensitive = re.compile(\n",
    "    r\"\\b[LlDd]es Républicains\\b\" # (5 378 occurrences = 37 979 - 32 601 ? 18 555 = 32601 - 14046)\n",
    ")  \n",
    "\n",
    "# Expressions à exclure - ignorer la casse\n",
    "pattern_excl_case_insensitive = re.compile(\n",
    "    r\"|(\\b[Rr]épublique en marche\\b)\" #(3 547 occurrences = 17593 - 140046)\n",
    "    r\"|(\\b[Pp]résident[s]? de la République\\b)\" #(13 377 occurences = 27 423- 14 046) \n",
    "    r\"|(\\bgauche démocrate et républicaine\\b)\" # (921 occurrences = 14 967 - 14046)\n",
    "    r\"|(\\bSocialiste, Écologiste et Républicain\\b)\" # (1 occurrence = 14 065 - 14 046)\n",
    "    r\"|(\\bprocureur[s]? de la République\\b)\" # (844 occurrences = 14890 - 14 046)\n",
    "    r\"|(\\bcour[s]? de justice de la République\\b)\" # (89 occurrences= 14 135 - 14 046)\n",
    "    r\"|(\\bcour[s]? de sûreté de la République\\b)\" # (11 occurrences = 14 057 - 14 046)\n",
    "    r\"|(\\badministration générale de la République\\b)\" # (73 occurrences = 14119 - 14 046)\n",
    "    r\"|(\" + pattern_pays + \")\",  # ajout des exclusions de pays 5540 occurrences (si liste intégrale mettre juste \" + pattern_pays + \" mais si liste manuelle mettre \" + pattern_pays.pattern + \")\n",
    "    re.I,\n",
    ")\n",
    "\n",
    "\n",
    "def contains_lexical_outside_excl(text):\n",
    "    # Trouver les positions des expressions exclues\n",
    "    excl_positions = []\n",
    "\n",
    "    # Ajouter les exclusions sensibles à la casse\n",
    "    excl_positions.extend(\n",
    "        [m.span() for m in pattern_excl_case_sensitive.finditer(text)]\n",
    "    )\n",
    "\n",
    "    # Ajouter les exclusions insensibles à la casse\n",
    "    excl_positions.extend(\n",
    "         [m.span() for m in pattern_excl_case_insensitive.finditer(text)]\n",
    "     )\n",
    "\n",
    "    # Fonction pour vérifier si une position est dans une zone exclue\n",
    "    def in_excl(pos):\n",
    "        for start, end in excl_positions:\n",
    "            if start <= pos < end:\n",
    "                return True\n",
    "        return False\n",
    "\n",
    "    # Chercher toutes les occurences de la famille du mot \n",
    "    for match in pattern_lexical.finditer(text):\n",
    "        start_pos = match.start()\n",
    "        if not in_excl(start_pos):\n",
    "            return True\n",
    "    return False"
   ]
  },
  {
   "cell_type": "code",
   "execution_count": 10,
   "id": "89420e78",
   "metadata": {},
   "outputs": [
    {
     "data": {
      "text/plain": [
       "True"
      ]
     },
     "execution_count": 10,
     "metadata": {},
     "output_type": "execute_result"
    }
   ],
   "source": [
    "# # bloc d'essai\n",
    "mon_texte = \"Les élus les républicains\"\n",
    "contains_lexical_outside_excl(mon_texte)\n"
   ]
  },
  {
   "cell_type": "code",
   "execution_count": 11,
   "id": "b83da332",
   "metadata": {},
   "outputs": [],
   "source": [
    "# Appliquer sur la colonne\n",
    "df[\"texte_propre\"] = df[\"texte_propre\"].fillna(\"\") # nécessaire de remplacer les 35 NaN restantes par des chaînes vides pour faire tourner la fonction re\n",
    "df[\"Republique_FDM_Regex\"] = df[\"texte_propre\"].apply(contains_lexical_outside_excl)"
   ]
  },
  {
   "cell_type": "code",
   "execution_count": 12,
   "id": "013aa286",
   "metadata": {},
   "outputs": [
    {
     "data": {
      "text/plain": [
       "(14119, 28)"
      ]
     },
     "execution_count": 12,
     "metadata": {},
     "output_type": "execute_result"
    }
   ],
   "source": [
    "df_match = df[df[\"Republique_FDM_Regex\"]]\n",
    "df_match.shape"
   ]
  },
  {
   "cell_type": "markdown",
   "id": "182ba074",
   "metadata": {},
   "source": [
    "On passe de 37979 (regex inclusion) à 14046 (regex exclusion) (à comparer avec le clasifieur entrainé sur AT)"
   ]
  },
  {
   "cell_type": "code",
   "execution_count": 13,
   "id": "36e521a6",
   "metadata": {},
   "outputs": [],
   "source": [
    "df.to_csv(\n",
    "    \"/Users/matthiaslevalet/Desktop/Projet de recherche/CSS_République/Data/Interim/Data_AN_CSS_République_FDM_proportion.csv\",\n",
    "    index=False,\n",
    "    quoting=csv.QUOTE_ALL,  # a permis de résoudre le soucis d'écart. Checker\n",
    ")"
   ]
  },
  {
   "cell_type": "code",
   "execution_count": 14,
   "id": "177fc0bf",
   "metadata": {},
   "outputs": [
    {
     "ename": "FileNotFoundError",
     "evalue": "[Errno 2] No such file or directory: '.../Republique_FDM_Regex.csv'",
     "output_type": "error",
     "traceback": [
      "\u001b[0;31m---------------------------------------------------------------------------\u001b[0m",
      "\u001b[0;31mFileNotFoundError\u001b[0m                         Traceback (most recent call last)",
      "Cell \u001b[0;32mIn[14], line 2\u001b[0m\n\u001b[1;32m      1\u001b[0m \u001b[38;5;66;03m# vérif écriture/lecture ok\u001b[39;00m\n\u001b[0;32m----> 2\u001b[0m df_test \u001b[38;5;241m=\u001b[39m pd\u001b[38;5;241m.\u001b[39mread_csv(\u001b[38;5;124m\"\u001b[39m\u001b[38;5;124m.../Republique_FDM_Regex.csv\u001b[39m\u001b[38;5;124m\"\u001b[39m)\n\u001b[1;32m      3\u001b[0m df_test\u001b[38;5;241m.\u001b[39mshape\n",
      "File \u001b[0;32m/opt/anaconda3/lib/python3.13/site-packages/pandas/io/parsers/readers.py:1026\u001b[0m, in \u001b[0;36mread_csv\u001b[0;34m(filepath_or_buffer, sep, delimiter, header, names, index_col, usecols, dtype, engine, converters, true_values, false_values, skipinitialspace, skiprows, skipfooter, nrows, na_values, keep_default_na, na_filter, verbose, skip_blank_lines, parse_dates, infer_datetime_format, keep_date_col, date_parser, date_format, dayfirst, cache_dates, iterator, chunksize, compression, thousands, decimal, lineterminator, quotechar, quoting, doublequote, escapechar, comment, encoding, encoding_errors, dialect, on_bad_lines, delim_whitespace, low_memory, memory_map, float_precision, storage_options, dtype_backend)\u001b[0m\n\u001b[1;32m   1013\u001b[0m kwds_defaults \u001b[38;5;241m=\u001b[39m _refine_defaults_read(\n\u001b[1;32m   1014\u001b[0m     dialect,\n\u001b[1;32m   1015\u001b[0m     delimiter,\n\u001b[0;32m   (...)\u001b[0m\n\u001b[1;32m   1022\u001b[0m     dtype_backend\u001b[38;5;241m=\u001b[39mdtype_backend,\n\u001b[1;32m   1023\u001b[0m )\n\u001b[1;32m   1024\u001b[0m kwds\u001b[38;5;241m.\u001b[39mupdate(kwds_defaults)\n\u001b[0;32m-> 1026\u001b[0m \u001b[38;5;28;01mreturn\u001b[39;00m _read(filepath_or_buffer, kwds)\n",
      "File \u001b[0;32m/opt/anaconda3/lib/python3.13/site-packages/pandas/io/parsers/readers.py:620\u001b[0m, in \u001b[0;36m_read\u001b[0;34m(filepath_or_buffer, kwds)\u001b[0m\n\u001b[1;32m    617\u001b[0m _validate_names(kwds\u001b[38;5;241m.\u001b[39mget(\u001b[38;5;124m\"\u001b[39m\u001b[38;5;124mnames\u001b[39m\u001b[38;5;124m\"\u001b[39m, \u001b[38;5;28;01mNone\u001b[39;00m))\n\u001b[1;32m    619\u001b[0m \u001b[38;5;66;03m# Create the parser.\u001b[39;00m\n\u001b[0;32m--> 620\u001b[0m parser \u001b[38;5;241m=\u001b[39m TextFileReader(filepath_or_buffer, \u001b[38;5;241m*\u001b[39m\u001b[38;5;241m*\u001b[39mkwds)\n\u001b[1;32m    622\u001b[0m \u001b[38;5;28;01mif\u001b[39;00m chunksize \u001b[38;5;129;01mor\u001b[39;00m iterator:\n\u001b[1;32m    623\u001b[0m     \u001b[38;5;28;01mreturn\u001b[39;00m parser\n",
      "File \u001b[0;32m/opt/anaconda3/lib/python3.13/site-packages/pandas/io/parsers/readers.py:1620\u001b[0m, in \u001b[0;36mTextFileReader.__init__\u001b[0;34m(self, f, engine, **kwds)\u001b[0m\n\u001b[1;32m   1617\u001b[0m     \u001b[38;5;28mself\u001b[39m\u001b[38;5;241m.\u001b[39moptions[\u001b[38;5;124m\"\u001b[39m\u001b[38;5;124mhas_index_names\u001b[39m\u001b[38;5;124m\"\u001b[39m] \u001b[38;5;241m=\u001b[39m kwds[\u001b[38;5;124m\"\u001b[39m\u001b[38;5;124mhas_index_names\u001b[39m\u001b[38;5;124m\"\u001b[39m]\n\u001b[1;32m   1619\u001b[0m \u001b[38;5;28mself\u001b[39m\u001b[38;5;241m.\u001b[39mhandles: IOHandles \u001b[38;5;241m|\u001b[39m \u001b[38;5;28;01mNone\u001b[39;00m \u001b[38;5;241m=\u001b[39m \u001b[38;5;28;01mNone\u001b[39;00m\n\u001b[0;32m-> 1620\u001b[0m \u001b[38;5;28mself\u001b[39m\u001b[38;5;241m.\u001b[39m_engine \u001b[38;5;241m=\u001b[39m \u001b[38;5;28mself\u001b[39m\u001b[38;5;241m.\u001b[39m_make_engine(f, \u001b[38;5;28mself\u001b[39m\u001b[38;5;241m.\u001b[39mengine)\n",
      "File \u001b[0;32m/opt/anaconda3/lib/python3.13/site-packages/pandas/io/parsers/readers.py:1880\u001b[0m, in \u001b[0;36mTextFileReader._make_engine\u001b[0;34m(self, f, engine)\u001b[0m\n\u001b[1;32m   1878\u001b[0m     \u001b[38;5;28;01mif\u001b[39;00m \u001b[38;5;124m\"\u001b[39m\u001b[38;5;124mb\u001b[39m\u001b[38;5;124m\"\u001b[39m \u001b[38;5;129;01mnot\u001b[39;00m \u001b[38;5;129;01min\u001b[39;00m mode:\n\u001b[1;32m   1879\u001b[0m         mode \u001b[38;5;241m+\u001b[39m\u001b[38;5;241m=\u001b[39m \u001b[38;5;124m\"\u001b[39m\u001b[38;5;124mb\u001b[39m\u001b[38;5;124m\"\u001b[39m\n\u001b[0;32m-> 1880\u001b[0m \u001b[38;5;28mself\u001b[39m\u001b[38;5;241m.\u001b[39mhandles \u001b[38;5;241m=\u001b[39m get_handle(\n\u001b[1;32m   1881\u001b[0m     f,\n\u001b[1;32m   1882\u001b[0m     mode,\n\u001b[1;32m   1883\u001b[0m     encoding\u001b[38;5;241m=\u001b[39m\u001b[38;5;28mself\u001b[39m\u001b[38;5;241m.\u001b[39moptions\u001b[38;5;241m.\u001b[39mget(\u001b[38;5;124m\"\u001b[39m\u001b[38;5;124mencoding\u001b[39m\u001b[38;5;124m\"\u001b[39m, \u001b[38;5;28;01mNone\u001b[39;00m),\n\u001b[1;32m   1884\u001b[0m     compression\u001b[38;5;241m=\u001b[39m\u001b[38;5;28mself\u001b[39m\u001b[38;5;241m.\u001b[39moptions\u001b[38;5;241m.\u001b[39mget(\u001b[38;5;124m\"\u001b[39m\u001b[38;5;124mcompression\u001b[39m\u001b[38;5;124m\"\u001b[39m, \u001b[38;5;28;01mNone\u001b[39;00m),\n\u001b[1;32m   1885\u001b[0m     memory_map\u001b[38;5;241m=\u001b[39m\u001b[38;5;28mself\u001b[39m\u001b[38;5;241m.\u001b[39moptions\u001b[38;5;241m.\u001b[39mget(\u001b[38;5;124m\"\u001b[39m\u001b[38;5;124mmemory_map\u001b[39m\u001b[38;5;124m\"\u001b[39m, \u001b[38;5;28;01mFalse\u001b[39;00m),\n\u001b[1;32m   1886\u001b[0m     is_text\u001b[38;5;241m=\u001b[39mis_text,\n\u001b[1;32m   1887\u001b[0m     errors\u001b[38;5;241m=\u001b[39m\u001b[38;5;28mself\u001b[39m\u001b[38;5;241m.\u001b[39moptions\u001b[38;5;241m.\u001b[39mget(\u001b[38;5;124m\"\u001b[39m\u001b[38;5;124mencoding_errors\u001b[39m\u001b[38;5;124m\"\u001b[39m, \u001b[38;5;124m\"\u001b[39m\u001b[38;5;124mstrict\u001b[39m\u001b[38;5;124m\"\u001b[39m),\n\u001b[1;32m   1888\u001b[0m     storage_options\u001b[38;5;241m=\u001b[39m\u001b[38;5;28mself\u001b[39m\u001b[38;5;241m.\u001b[39moptions\u001b[38;5;241m.\u001b[39mget(\u001b[38;5;124m\"\u001b[39m\u001b[38;5;124mstorage_options\u001b[39m\u001b[38;5;124m\"\u001b[39m, \u001b[38;5;28;01mNone\u001b[39;00m),\n\u001b[1;32m   1889\u001b[0m )\n\u001b[1;32m   1890\u001b[0m \u001b[38;5;28;01massert\u001b[39;00m \u001b[38;5;28mself\u001b[39m\u001b[38;5;241m.\u001b[39mhandles \u001b[38;5;129;01mis\u001b[39;00m \u001b[38;5;129;01mnot\u001b[39;00m \u001b[38;5;28;01mNone\u001b[39;00m\n\u001b[1;32m   1891\u001b[0m f \u001b[38;5;241m=\u001b[39m \u001b[38;5;28mself\u001b[39m\u001b[38;5;241m.\u001b[39mhandles\u001b[38;5;241m.\u001b[39mhandle\n",
      "File \u001b[0;32m/opt/anaconda3/lib/python3.13/site-packages/pandas/io/common.py:873\u001b[0m, in \u001b[0;36mget_handle\u001b[0;34m(path_or_buf, mode, encoding, compression, memory_map, is_text, errors, storage_options)\u001b[0m\n\u001b[1;32m    868\u001b[0m \u001b[38;5;28;01melif\u001b[39;00m \u001b[38;5;28misinstance\u001b[39m(handle, \u001b[38;5;28mstr\u001b[39m):\n\u001b[1;32m    869\u001b[0m     \u001b[38;5;66;03m# Check whether the filename is to be opened in binary mode.\u001b[39;00m\n\u001b[1;32m    870\u001b[0m     \u001b[38;5;66;03m# Binary mode does not support 'encoding' and 'newline'.\u001b[39;00m\n\u001b[1;32m    871\u001b[0m     \u001b[38;5;28;01mif\u001b[39;00m ioargs\u001b[38;5;241m.\u001b[39mencoding \u001b[38;5;129;01mand\u001b[39;00m \u001b[38;5;124m\"\u001b[39m\u001b[38;5;124mb\u001b[39m\u001b[38;5;124m\"\u001b[39m \u001b[38;5;129;01mnot\u001b[39;00m \u001b[38;5;129;01min\u001b[39;00m ioargs\u001b[38;5;241m.\u001b[39mmode:\n\u001b[1;32m    872\u001b[0m         \u001b[38;5;66;03m# Encoding\u001b[39;00m\n\u001b[0;32m--> 873\u001b[0m         handle \u001b[38;5;241m=\u001b[39m \u001b[38;5;28mopen\u001b[39m(\n\u001b[1;32m    874\u001b[0m             handle,\n\u001b[1;32m    875\u001b[0m             ioargs\u001b[38;5;241m.\u001b[39mmode,\n\u001b[1;32m    876\u001b[0m             encoding\u001b[38;5;241m=\u001b[39mioargs\u001b[38;5;241m.\u001b[39mencoding,\n\u001b[1;32m    877\u001b[0m             errors\u001b[38;5;241m=\u001b[39merrors,\n\u001b[1;32m    878\u001b[0m             newline\u001b[38;5;241m=\u001b[39m\u001b[38;5;124m\"\u001b[39m\u001b[38;5;124m\"\u001b[39m,\n\u001b[1;32m    879\u001b[0m         )\n\u001b[1;32m    880\u001b[0m     \u001b[38;5;28;01melse\u001b[39;00m:\n\u001b[1;32m    881\u001b[0m         \u001b[38;5;66;03m# Binary mode\u001b[39;00m\n\u001b[1;32m    882\u001b[0m         handle \u001b[38;5;241m=\u001b[39m \u001b[38;5;28mopen\u001b[39m(handle, ioargs\u001b[38;5;241m.\u001b[39mmode)\n",
      "\u001b[0;31mFileNotFoundError\u001b[0m: [Errno 2] No such file or directory: '.../Republique_FDM_Regex.csv'"
     ]
    }
   ],
   "source": [
    "# vérif écriture/lecture ok\n",
    "df_test = pd.read_csv(\".../Republique_FDM_Regex.csv\")\n",
    "df_test.shape"
   ]
  },
  {
   "cell_type": "markdown",
   "id": "bd4cb620",
   "metadata": {},
   "source": [
    "# PAUSE ICI"
   ]
  },
  {
   "cell_type": "markdown",
   "id": "be60ccf7",
   "metadata": {},
   "source": [
    "## Étape 3 : Regex inclusive large du champ lexical de la \"République\""
   ]
  },
  {
   "cell_type": "markdown",
   "id": "423ad990",
   "metadata": {},
   "source": [
    "### Dictionnaire manuel des familles de mots pouvant appartenir au champ lexical de la \"République\" \n",
    "\n",
    "À compléter\n",
    "\n",
    "\n",
    "Bibliographie indicative : \n",
    "\n",
    "Christin, O.,  Soulié, S.  et Worms, F.  (2023). Les 100 mots de la République. (2e éd.). Presses Universitaires de France. https://shs.cairn.info/les-100-mots-de-la-republique--9782715414075?lang=fr.\n",
    "\n",
    "Duclert, V., & Prochasson, C. (2002). Dictionnaire critique de la République. Flammarion.\n",
    "\n",
    "Spitz, J.-F. (2022). La République ? Quelles valeurs ? Essai sur un nouvel intégrisme politique. Gallimard; Cairn.info. https://doi.org/10.3917/gall.spitz.2022.01\n"
   ]
  }
 ],
 "metadata": {
  "kernelspec": {
   "display_name": "base",
   "language": "python",
   "name": "python3"
  },
  "language_info": {
   "codemirror_mode": {
    "name": "ipython",
    "version": 3
   },
   "file_extension": ".py",
   "mimetype": "text/x-python",
   "name": "python",
   "nbconvert_exporter": "python",
   "pygments_lexer": "ipython3",
   "version": "3.13.5"
  }
 },
 "nbformat": 4,
 "nbformat_minor": 5
}
