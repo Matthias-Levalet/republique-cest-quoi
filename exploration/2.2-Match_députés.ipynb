{
 "cells": [
  {
   "cell_type": "markdown",
   "id": "a401901d",
   "metadata": {},
   "source": [
    "# 3-Match députés "
   ]
  },
  {
   "cell_type": "markdown",
   "id": "fe57ad41",
   "metadata": {},
   "source": [
    "**==> Réflexion en cours pour voir à quel moment est-ce qu'on positionne cette étape.**\n",
    "\n",
    "1 député = 1 ID qui ne change pas à travers le temps. ==> ce qui signifie que dans l’idéal il faudrait avoir les données complètes (avec affiliation partisane, etc) par législature et faire la fusion député/compte-rendus avant la fusion entre les 2 législatures. "
   ]
  },
  {
   "cell_type": "markdown",
   "id": "85619d4b",
   "metadata": {},
   "source": [
    "## Quelles options possibles et disponibles ? \n",
    "\n",
    "\n",
    "### L'option de base lacunaire : les informations d'état civique donné par l'AN \n",
    "\n",
    "Jeu de données en open acces disponible sur le site open data de l'Assemblée nationale avec État civil des personnes qui sont ou qui ont été députés, sénateurs et ministres (précisant pour ces derniers l'intitulé de leur ministère)\n",
    "--> **Gros soucis puisque ne contient par leur affiliation politique**\n",
    "- https://data.assemblee-nationale.fr/archives-anterieures/archives-15e/deputes-senateurs-et-ministres\n",
    "- https://data.assemblee-nationale.fr/archives-16e/deputes-senateurs-ministres\n",
    "--> dispo en json ou xml\n",
    "\n",
    "En théorie, il serait possible de retravailler nous-même ce fichier en le combinant avec d'autres pour avoir leur affiliation politique. En pratique, a déjà été réalisé par d'autres. \n",
    "\n",
    "\n",
    "### L'option la plus facile/accessible et moins couteuse dans un premier temps et : la base de données de DATAN \n",
    "\n",
    "Ce travail de fusion des données ouvertes de l'AN a été réalisé par Awenig Marié (post-doc au social media lab au CEVIPOl de l'ULB à Bruxelle, contact awenig.marie@ulb.be) via le site/outil DATAN (initiative aux frontières de l'académique avec un conseil scientifique présidé par Olivier Costa, et présence notamment de Isabelle Guinaudeau et Olivier Rozenberg). Les contacter via info[at]datan.fr\n",
    "\n",
    "Ce site/outil DATAN propose en open data (sur leur site et sur data.gouv) des informations et statistiques sur les groupes parlementaires et les députés. Il met notamment à disposition un jeu de données en .CSV qui présente tous les députés de l'Assemblée nationale française depuis la 12ème législature (2002) avec notamment leur historique parlementaire et leur actuel groupe politique.\n",
    "\n",
    "Les variables sont les suivantes :\n",
    "\n",
    "- id : id présente sur le site de l'Assemblée\n",
    "- legislatureLast : dernière législature où le député a eu un mandat\n",
    "- civ : genre du député\n",
    "- nom\n",
    "- prenom\n",
    "- villeNaissance : ville de naissance\n",
    "- naissance : date de naissance\n",
    "- age\n",
    "- groupe : actuel groupe parlementaire\n",
    "- groupeAbrev : abréviation du groupe\n",
    "- departementNom : nom du département dans lequel le député a été élu\n",
    "- departementCode : code du département dans lequel le député a été élu\n",
    "- circo : numéro de sa circonscription\n",
    "- datePriseFonction : date à laquelle il a pris fonction lors de la législature actuelle\n",
    "- job\n",
    "- mail\n",
    "- twitter\n",
    "- facebook\n",
    "- website\n",
    "- nombreMandats: le nombre de mandats parlementaires exercé par le député\n",
    "- experienceDepute : expérience parlementaire (en jours, mois ou années)\n",
    "- scoreParticipation : le score participation correspond au pourcentage de scrutins auquel le député a pris part en séance publique\n",
    "- scoreParticipationSpectialite : le score de participation \"spécialité\" correspond au pourcentage de scrutins auquel le député a pris part en séance publique et qui sont reliés à un texte législatif examiné dans la commission parlementaire du député, et donc pour lequel le député a un intérêt ou une expertise\n",
    "- scoreLoyaute : le score de loyauté correspond au pourcentage de scrutins pour lequel le député a voté sur la même ligne que son groupe parlementaire\n",
    "- scoreMajorite : le score de proximité avec la majorité présidentielle correspond au pourcentage de scrutins pour lequel le député a voté sur la même ligne que le groupe de la majorité présidentielle\n",
    "- active : \"1\" si le député est encore actif\n",
    "- dateMaj : dernière date de mise à jour du jeu de données\n",
    "\n",
    "==> Awenig Marié a été contacté et devrait prochainement transmettre un fichier CSV par législature étudiée (15e et 16e) avec les variables suivantes \n",
    "\n",
    "À compléter une fois données récupérées \n",
    "\n",
    "https://datan.fr/deputes/legislature-15\n",
    "https://datan.fr/deputes/legislature-16\n",
    "\n",
    "\n",
    "### Les critiques faites aux données de l'AN \n",
    "\n",
    "Critiques récurrentes dans les travaux de Boelaert, Michon et Ollion, sur l’usage habituel des données de l’AN pour étudier les députés. Il s’agit de **données auto-déclaratives sujettes à la mal-déclaration, aux stratégies de présentations de soi** (mettre en avant une profession ou expérience que l’on juge plus valorisante), et à une inadéquation des catégories et données à remplir (: exemple de la profession d’origine qui ne prend pas en compte le temps passé en politique depuis).\n",
    "\n",
    "\n",
    "### Les alternatives à considérer pour plus tard \n",
    "\n",
    "1. Demander le jeu de données constitué par l'équipe autour de Ollion, Michon et Boelaert \n",
    "    - Systématisation d'une collecte documentaire visant à noter chaque profession occupée par les députés à partir de leurs 25 ans via les articles de presse locale, dictionnaires biographiques (lesbiographies.com et Who’s Who in France), pages Wikipédia, professions de foi, présentations de soi sur les sites et réseaux sociaux des candidats, curriculum vitae disponibles en ligne, bases de données du ministère de l’Intérieur, et données de la HATVP\n",
    "2. Constituer un jeu de données propre avec notamment les données de la HATVP ([lien](https://www.hatvp.fr/consulter-les-declarations/)) et d'autres données à réfléchir comme le RNE (https://www.data.gouv.fr/datasets/repertoire-national-des-elus-1/)\n",
    "\n",
    "Dans tous les cas, prendre en compte les critiques sur ces bases de données et les catégories qu'ils ont mobilisés. Mais se souvenir aussi de ce qui nous intéresse ici (pas forcément les professions auto-déclarées mais les affiliations partisanes, et les contextes et manières d'utilliser la \"République\")\n",
    "\n"
   ]
  },
  {
   "cell_type": "markdown",
   "id": "f31662ff",
   "metadata": {},
   "source": [
    "## Join DATAN dataset with CSV "
   ]
  },
  {
   "cell_type": "code",
   "execution_count": null,
   "id": "321ecb88",
   "metadata": {},
   "outputs": [],
   "source": [
    "# Stabiliser le ID_orateur pour etre au format AN (pour matcher données)\n",
    "\n",
    "import pandas as pd\n",
    "\n",
    "df = pd.read_csv(\n",
    "    \"à compléter\", low_memory=False, dtype={\"ID_orateur\": str} #à compléter = emplacement fichier par législature ou brut\n",
    ")\n",
    "df.shape\n",
    "\n",
    "df[\"ID_orateur\"] = \"PA\" + df[\"ID_orateur\"]"
   ]
  },
  {
   "cell_type": "code",
   "execution_count": null,
   "id": "5673500c",
   "metadata": {},
   "outputs": [],
   "source": [
    "# Importer maintenant le fichier des données sur les députés à joindre\n",
    "df_deputes = pd.read_csv(\".../deputes-historique(datan-datagouv).csv\")"
   ]
  },
  {
   "cell_type": "code",
   "execution_count": null,
   "id": "f30ee98a",
   "metadata": {},
   "outputs": [],
   "source": [
    "# shape avant fusion\n",
    "df.shape"
   ]
  },
  {
   "cell_type": "code",
   "execution_count": null,
   "id": "f384ddb4",
   "metadata": {},
   "outputs": [],
   "source": [
    "# Join des données sur la base de l'id des intervenants\n",
    "df = df.join(df_deputes.set_index(\"id\"), on=\"ID_orateur\", how=\"left\", rsuffix=\"_dep\")"
   ]
  },
  {
   "cell_type": "code",
   "execution_count": null,
   "id": "7d353c0c",
   "metadata": {},
   "outputs": [],
   "source": [
    "# shape après fusion\n",
    "df.shape"
   ]
  },
  {
   "cell_type": "code",
   "execution_count": null,
   "id": "b94b6c3f",
   "metadata": {},
   "outputs": [],
   "source": [
    "# certaines col du join introduisent une erreur à l'import/export\n",
    "# forcer le QUOTE_ALL permet de résoudre\n",
    "\n",
    "import csv  # pour résoudre le soucis d'écart. Checker\n",
    "\n",
    "df.to_csv(\n",
    "    \"../data/interim/data_cleaning.csv\",\n",
    "    index=False,\n",
    "    quoting=csv.QUOTE_ALL,  # a permis de résoudre le soucis d'écart. Checker\n",
    ")"
   ]
  },
  {
   "cell_type": "code",
   "execution_count": null,
   "id": "68951f76",
   "metadata": {},
   "outputs": [],
   "source": [
    "# verif excriture/lecture ok\n",
    "df_test = pd.read_csv(\n",
    "    \"../data/interim/data_cleaning.csv\", low_memory=False, dtype={\"ID_orateur\": str}\n",
    ")\n",
    "df_test.shape"
   ]
  }
 ],
 "metadata": {
  "kernelspec": {
   "display_name": "base",
   "language": "python",
   "name": "python3"
  },
  "language_info": {
   "name": "python",
   "version": "3.13.5"
  }
 },
 "nbformat": 4,
 "nbformat_minor": 5
}
