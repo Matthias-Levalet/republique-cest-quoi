{
 "cells": [
  {
   "cell_type": "markdown",
   "id": "639556cd",
   "metadata": {},
   "source": [
    "# 6 - Analyses NLP/LLM"
   ]
  },
  {
   "cell_type": "markdown",
   "id": "6a98e20c",
   "metadata": {},
   "source": [
    "## Bert-Topic"
   ]
  },
  {
   "cell_type": "markdown",
   "id": "9ca05e0c",
   "metadata": {},
   "source": [
    "### Littérature : \n",
    "https://maartengr.github.io/BERTopic/getting_started/quickstart/quickstart.html\n",
    "https://maartengr.github.io/BERTopic/getting_started/tips_and_tricks/tips_and_tricks.html#diversify-topic-representation"
   ]
  },
  {
   "cell_type": "markdown",
   "id": "28a43369",
   "metadata": {},
   "source": [
    "### Installer les pré-requis (une seule fois)"
   ]
  },
  {
   "cell_type": "code",
   "execution_count": null,
   "id": "473ef313",
   "metadata": {},
   "outputs": [],
   "source": [
    "# pip install spacy\n",
    "# pip install bertopic\n",
    "# pip install nltk\n",
    "# pip install sentence-transformers\n",
    "# pip install scikit-learn"
   ]
  },
  {
   "cell_type": "code",
   "execution_count": null,
   "id": "70b58532",
   "metadata": {},
   "outputs": [],
   "source": [
    "import pandas as pd\n",
    "import nltk\n",
    "from nltk.corpus import stopwords\n",
    "from sentence_transformers import SentenceTransformer\n",
    "from sklearn.feature_extraction.text import CountVectorizer\n",
    "import bertopic\n",
    "from bertopic import BERTopic\n",
    "from sklearn.feature_extraction.text import CountVectorizer\n",
    "from sentence_transformers import SentenceTransformer\n",
    "import spacy\n",
    "from bertopic.vectorizers import ClassTfidfTransformer"
   ]
  },
  {
   "cell_type": "code",
   "execution_count": null,
   "id": "7ba0122c",
   "metadata": {},
   "outputs": [],
   "source": [
    "df = pd.read_csv(\n",
    "    \"/Users/matthiaslevalet/Desktop/Projet de recherche/CSS_République/Data/Interim/Data_AN_CSS_République_FDM.csv\", low_memory=False, dtype={\"ID_orateur\": str}\n",
    ")"
   ]
  },
  {
   "cell_type": "markdown",
   "id": "58af5636",
   "metadata": {},
   "source": [
    "Pour lancer la suite, nécessite une bonne co en wifi car va télécharger de gros fichiers."
   ]
  }
 ],
 "metadata": {
  "language_info": {
   "name": "python"
  }
 },
 "nbformat": 4,
 "nbformat_minor": 5
}
