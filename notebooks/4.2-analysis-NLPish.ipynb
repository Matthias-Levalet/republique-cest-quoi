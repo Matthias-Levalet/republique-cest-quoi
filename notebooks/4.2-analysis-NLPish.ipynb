{
 "cells": [
  {
   "cell_type": "markdown",
   "id": "b399a5cc",
   "metadata": {},
   "source": [
    "## 4.2 NLP(ish)"
   ]
  },
  {
   "cell_type": "markdown",
   "id": "bc763a4c",
   "metadata": {},
   "source": [
    "https://maartengr.github.io/BERTopic/getting_started/quickstart/quickstart.html"
   ]
  },
  {
   "cell_type": "markdown",
   "id": "1114d3c8",
   "metadata": {},
   "source": [
    "## décider de comment on découpe\n",
    "- sentence ?\n",
    "- paragraphe (existe pas ici) -> mais possible avec wtpsplit : https://github.com/segment-any-text/wtpsplit\n",
    "- dire que tant pis ?\n",
    "- faire un check global du nb token par intervention et cut que ce qui dépasse ?\n",
    "- etc."
   ]
  },
  {
   "cell_type": "code",
   "execution_count": 1,
   "id": "5751b067",
   "metadata": {},
   "outputs": [],
   "source": [
    "import pandas as pd\n",
    "import nltk\n",
    "from nltk.corpus import stopwords\n",
    "from sentence_transformers import SentenceTransformer\n",
    "from sklearn.feature_extraction.text import CountVectorizer\n",
    "import bertopic\n",
    "from bertopic import BERTopic\n",
    "from sklearn.feature_extraction.text import CountVectorizer\n",
    "from sentence_transformers import SentenceTransformer\n",
    "import spacy\n",
    "from bertopic.vectorizers import ClassTfidfTransformer"
   ]
  },
  {
   "cell_type": "code",
   "execution_count": 2,
   "id": "9540d8c8",
   "metadata": {},
   "outputs": [],
   "source": [
    "df = pd.read_csv(\n",
    "    \"../data/interim/df_repu.csv\", low_memory=False, dtype={\"ID_orateur\": str}\n",
    ")"
   ]
  },
  {
   "cell_type": "code",
   "execution_count": 3,
   "id": "798aa1d4",
   "metadata": {},
   "outputs": [],
   "source": [
    "df[\"DateSeance_ts\"] = pd.to_datetime(df[\"DateSeance\"], format=\"%Y%m%d%H%M%S%f\")\n",
    "df[\"DateSeance_day\"] = df[\"DateSeance_ts\"].dt.normalize()  # guess it works\n"
   ]
  },
  {
   "cell_type": "markdown",
   "id": "97744ea6",
   "metadata": {},
   "source": [
    "## Bert things"
   ]
  },
  {
   "cell_type": "code",
   "execution_count": 45,
   "id": "1177e3ea",
   "metadata": {},
   "outputs": [],
   "source": [
    "#########\n",
    "# Si besoin, revenir au plus simple :\n",
    "#########\n",
    "\n",
    "# nltk.download(\"stopwords\")\n",
    "# french_stopwords = list(set(stopwords.words(\"french\")))\n",
    "# vectorizer_model = CountVectorizer(stop_words=french_stopwords)\n",
    "# topic_model = bertopic.BERTopic(language=\"french\", vectorizer_model=vectorizer_model)\n",
    "# # topics, probs = topic_model.fit_transform(df[\"Texte_clean\"])"
   ]
  },
  {
   "cell_type": "code",
   "execution_count": 4,
   "id": "f6016b21",
   "metadata": {},
   "outputs": [],
   "source": [
    "# TODO: redo with the good sentencetransformer"
   ]
  },
  {
   "cell_type": "markdown",
   "id": "623dda45",
   "metadata": {},
   "source": [
    "Stopwords :\n",
    "- https://maartengr.github.io/BERTopic/getting_started/tips_and_tricks/tips_and_tricks.html#document-length\n",
    "- Instead, we can use the CountVectorizer to preprocess our documents after having generated embeddings and clustered our documents. Personally, I have found almost no disadvantages to using the CountVectorizer to remove stopwords and it is something I would strongly advise to try out:\n",
    "- We can also use the ClassTfidfTransformer to reduce the impact of frequent words. The end result is very similar to explicitly removing stopwords but this process does this automatically:"
   ]
  },
  {
   "cell_type": "code",
   "execution_count": null,
   "id": "4c0ea339",
   "metadata": {},
   "outputs": [],
   "source": [
    "# # tester un truc autour de alibaba pour l'embedding ?\n",
    "\n",
    "# model_name_or_path=\"Alibaba-NLP/gte-multilingual-base\""
   ]
  },
  {
   "cell_type": "code",
   "execution_count": null,
   "id": "1eb30131",
   "metadata": {},
   "outputs": [
    {
     "data": {
      "application/vnd.jupyter.widget-view+json": {
       "model_id": "78aaecdd6dc94d02ade9f62576073ff5",
       "version_major": 2,
       "version_minor": 0
      },
      "text/plain": [
       "configuration.py: 0.00B [00:00, ?B/s]"
      ]
     },
     "metadata": {},
     "output_type": "display_data"
    },
    {
     "name": "stderr",
     "output_type": "stream",
     "text": [
      "A new version of the following files was downloaded from https://huggingface.co/Alibaba-NLP/new-impl:\n",
      "- configuration.py\n",
      ". Make sure to double-check they do not contain any added malicious code. To avoid downloading new versions of the code file, you can pin a revision.\n"
     ]
    },
    {
     "data": {
      "application/vnd.jupyter.widget-view+json": {
       "model_id": "b3513d0df6ba454d857ec4c3bf84f487",
       "version_major": 2,
       "version_minor": 0
      },
      "text/plain": [
       "modeling.py: 0.00B [00:00, ?B/s]"
      ]
     },
     "metadata": {},
     "output_type": "display_data"
    },
    {
     "name": "stderr",
     "output_type": "stream",
     "text": [
      "A new version of the following files was downloaded from https://huggingface.co/Alibaba-NLP/new-impl:\n",
      "- modeling.py\n",
      ". Make sure to double-check they do not contain any added malicious code. To avoid downloading new versions of the code file, you can pin a revision.\n"
     ]
    },
    {
     "data": {
      "application/vnd.jupyter.widget-view+json": {
       "model_id": "06e923b4275c4962bd956ea6972a798f",
       "version_major": 2,
       "version_minor": 0
      },
      "text/plain": [
       "model.safetensors:   0%|          | 0.00/611M [00:00<?, ?B/s]"
      ]
     },
     "metadata": {},
     "output_type": "display_data"
    },
    {
     "name": "stderr",
     "output_type": "stream",
     "text": [
      "Some weights of the model checkpoint at Alibaba-NLP/gte-multilingual-base were not used when initializing NewModel: ['classifier.bias', 'classifier.weight']\n",
      "- This IS expected if you are initializing NewModel from the checkpoint of a model trained on another task or with another architecture (e.g. initializing a BertForSequenceClassification model from a BertForPreTraining model).\n",
      "- This IS NOT expected if you are initializing NewModel from the checkpoint of a model that you expect to be exactly identical (initializing a BertForSequenceClassification model from a BertForSequenceClassification model).\n"
     ]
    },
    {
     "data": {
      "application/vnd.jupyter.widget-view+json": {
       "model_id": "5e1cf439e2c64a78ae20d9bb68c71bfd",
       "version_major": 2,
       "version_minor": 0
      },
      "text/plain": [
       "tokenizer_config.json: 0.00B [00:00, ?B/s]"
      ]
     },
     "metadata": {},
     "output_type": "display_data"
    },
    {
     "data": {
      "application/vnd.jupyter.widget-view+json": {
       "model_id": "7244657759354a95866d28c90ce944bc",
       "version_major": 2,
       "version_minor": 0
      },
      "text/plain": [
       "tokenizer.json:   0%|          | 0.00/17.1M [00:00<?, ?B/s]"
      ]
     },
     "metadata": {},
     "output_type": "display_data"
    },
    {
     "data": {
      "application/vnd.jupyter.widget-view+json": {
       "model_id": "10e1bfe401264f1bb8f3e81efdb6a708",
       "version_major": 2,
       "version_minor": 0
      },
      "text/plain": [
       "special_tokens_map.json:   0%|          | 0.00/964 [00:00<?, ?B/s]"
      ]
     },
     "metadata": {},
     "output_type": "display_data"
    },
    {
     "data": {
      "application/vnd.jupyter.widget-view+json": {
       "model_id": "adc69b1d62174bf88606985d3d87d535",
       "version_major": 2,
       "version_minor": 0
      },
      "text/plain": [
       "1_Pooling/config.json:   0%|          | 0.00/190 [00:00<?, ?B/s]"
      ]
     },
     "metadata": {},
     "output_type": "display_data"
    }
   ],
   "source": [
    "# vectorizer_model et french stopwords\n",
    "# Avec spacy\n",
    "nlp = spacy.load(\"fr_core_news_sm\")\n",
    "french_stopwords = list(nlp.Defaults.stop_words)\n",
    "vectorizer_model = CountVectorizer(stop_words=french_stopwords)\n",
    "\n",
    "# # Ou avec nltk\n",
    "# import nltk\n",
    "# from nltk.corpus import stopwords\n",
    "# nltk.download(\"stopwords\")\n",
    "# french_stopwords = list(set(stopwords.words(\"french\")))\n",
    "# vectorizer_model = CountVectorizer(stop_words=french_stopwords)\n",
    "\n",
    "# \"dangvantuan/sentence-camembert-large\"\n",
    "# \"all-MiniLM-L6-v2\"\n",
    "\n",
    "# TODO: repacer au all mini parce qu'on pleure en GPU\n",
    "\n",
    "embedding_model = SentenceTransformer(\n",
    "   , trust_remote_code=True\n",
    "embedding_model = SentenceTransformer(\n",
    "    \"Alibaba-NLP/gte-multilingual-base\", trust_remote_code=True\n",
    ")  # TODO: vérifier usage GPU (device= ?)\n",
    "\n",
    "# ctfidf_model = ClassTfidfTransformer(reduce_frequent_words=True)\n",
    "\n",
    "# créer le modèle\n",
    "topic_model_better = BERTopic(\n",
    "    embedding_model=embedding_model,\n",
    "    vectorizer_model=vectorizer_model,  # remove stopwords after embbedings\n",
    "    # ctfidf_model=ctfidf_model, # (or) reduce the impact of frequent word\n",
    ")"
   ]
  },
  {
   "cell_type": "code",
   "execution_count": 8,
   "id": "859138ac",
   "metadata": {},
   "outputs": [
    {
     "ename": "RuntimeError",
     "evalue": "Invalid buffer size: 42.68 GB",
     "output_type": "error",
     "traceback": [
      "\u001b[0;31m---------------------------------------------------------------------------\u001b[0m",
      "\u001b[0;31mRuntimeError\u001b[0m                              Traceback (most recent call last)",
      "Cell \u001b[0;32mIn[8], line 2\u001b[0m\n\u001b[1;32m      1\u001b[0m \u001b[38;5;66;03m# Fiter le modèle\u001b[39;00m\n\u001b[0;32m----> 2\u001b[0m topics_better, probs_better \u001b[38;5;241m=\u001b[39m \u001b[43mtopic_model_better\u001b[49m\u001b[38;5;241;43m.\u001b[39;49m\u001b[43mfit_transform\u001b[49m\u001b[43m(\u001b[49m\u001b[43mdf\u001b[49m\u001b[43m[\u001b[49m\u001b[38;5;124;43m\"\u001b[39;49m\u001b[38;5;124;43mTexte_clean\u001b[39;49m\u001b[38;5;124;43m\"\u001b[39;49m\u001b[43m]\u001b[49m\u001b[43m)\u001b[49m\n",
      "File \u001b[0;32m~/anaconda3/envs/nlp_env/lib/python3.12/site-packages/bertopic/_bertopic.py:431\u001b[0m, in \u001b[0;36mBERTopic.fit_transform\u001b[0;34m(self, documents, embeddings, images, y)\u001b[0m\n\u001b[1;32m    429\u001b[0m     logger\u001b[38;5;241m.\u001b[39minfo(\u001b[38;5;124m\"\u001b[39m\u001b[38;5;124mEmbedding - Transforming documents to embeddings.\u001b[39m\u001b[38;5;124m\"\u001b[39m)\n\u001b[1;32m    430\u001b[0m     \u001b[38;5;28mself\u001b[39m\u001b[38;5;241m.\u001b[39membedding_model \u001b[38;5;241m=\u001b[39m select_backend(\u001b[38;5;28mself\u001b[39m\u001b[38;5;241m.\u001b[39membedding_model, language\u001b[38;5;241m=\u001b[39m\u001b[38;5;28mself\u001b[39m\u001b[38;5;241m.\u001b[39mlanguage, verbose\u001b[38;5;241m=\u001b[39m\u001b[38;5;28mself\u001b[39m\u001b[38;5;241m.\u001b[39mverbose)\n\u001b[0;32m--> 431\u001b[0m     embeddings \u001b[38;5;241m=\u001b[39m \u001b[38;5;28;43mself\u001b[39;49m\u001b[38;5;241;43m.\u001b[39;49m\u001b[43m_extract_embeddings\u001b[49m\u001b[43m(\u001b[49m\n\u001b[1;32m    432\u001b[0m \u001b[43m        \u001b[49m\u001b[43mdocuments\u001b[49m\u001b[38;5;241;43m.\u001b[39;49m\u001b[43mDocument\u001b[49m\u001b[38;5;241;43m.\u001b[39;49m\u001b[43mvalues\u001b[49m\u001b[38;5;241;43m.\u001b[39;49m\u001b[43mtolist\u001b[49m\u001b[43m(\u001b[49m\u001b[43m)\u001b[49m\u001b[43m,\u001b[49m\n\u001b[1;32m    433\u001b[0m \u001b[43m        \u001b[49m\u001b[43mimages\u001b[49m\u001b[38;5;241;43m=\u001b[39;49m\u001b[43mimages\u001b[49m\u001b[43m,\u001b[49m\n\u001b[1;32m    434\u001b[0m \u001b[43m        \u001b[49m\u001b[43mmethod\u001b[49m\u001b[38;5;241;43m=\u001b[39;49m\u001b[38;5;124;43m\"\u001b[39;49m\u001b[38;5;124;43mdocument\u001b[39;49m\u001b[38;5;124;43m\"\u001b[39;49m\u001b[43m,\u001b[49m\n\u001b[1;32m    435\u001b[0m \u001b[43m        \u001b[49m\u001b[43mverbose\u001b[49m\u001b[38;5;241;43m=\u001b[39;49m\u001b[38;5;28;43mself\u001b[39;49m\u001b[38;5;241;43m.\u001b[39;49m\u001b[43mverbose\u001b[49m\u001b[43m,\u001b[49m\n\u001b[1;32m    436\u001b[0m \u001b[43m    \u001b[49m\u001b[43m)\u001b[49m\n\u001b[1;32m    437\u001b[0m     logger\u001b[38;5;241m.\u001b[39minfo(\u001b[38;5;124m\"\u001b[39m\u001b[38;5;124mEmbedding - Completed \u001b[39m\u001b[38;5;130;01m\\u2713\u001b[39;00m\u001b[38;5;124m\"\u001b[39m)\n\u001b[1;32m    438\u001b[0m \u001b[38;5;28;01melse\u001b[39;00m:\n",
      "File \u001b[0;32m~/anaconda3/envs/nlp_env/lib/python3.12/site-packages/bertopic/_bertopic.py:3676\u001b[0m, in \u001b[0;36mBERTopic._extract_embeddings\u001b[0;34m(self, documents, images, method, verbose)\u001b[0m\n\u001b[1;32m   3674\u001b[0m     embeddings \u001b[38;5;241m=\u001b[39m \u001b[38;5;28mself\u001b[39m\u001b[38;5;241m.\u001b[39membedding_model\u001b[38;5;241m.\u001b[39membed_words(words\u001b[38;5;241m=\u001b[39mdocuments, verbose\u001b[38;5;241m=\u001b[39mverbose)\n\u001b[1;32m   3675\u001b[0m \u001b[38;5;28;01melif\u001b[39;00m method \u001b[38;5;241m==\u001b[39m \u001b[38;5;124m\"\u001b[39m\u001b[38;5;124mdocument\u001b[39m\u001b[38;5;124m\"\u001b[39m:\n\u001b[0;32m-> 3676\u001b[0m     embeddings \u001b[38;5;241m=\u001b[39m \u001b[38;5;28;43mself\u001b[39;49m\u001b[38;5;241;43m.\u001b[39;49m\u001b[43membedding_model\u001b[49m\u001b[38;5;241;43m.\u001b[39;49m\u001b[43membed_documents\u001b[49m\u001b[43m(\u001b[49m\u001b[43mdocuments\u001b[49m\u001b[43m,\u001b[49m\u001b[43m \u001b[49m\u001b[43mverbose\u001b[49m\u001b[38;5;241;43m=\u001b[39;49m\u001b[43mverbose\u001b[49m\u001b[43m)\u001b[49m\n\u001b[1;32m   3677\u001b[0m \u001b[38;5;28;01melif\u001b[39;00m documents[\u001b[38;5;241m0\u001b[39m] \u001b[38;5;129;01mis\u001b[39;00m \u001b[38;5;28;01mNone\u001b[39;00m \u001b[38;5;129;01mand\u001b[39;00m images \u001b[38;5;129;01mis\u001b[39;00m \u001b[38;5;28;01mNone\u001b[39;00m:\n\u001b[1;32m   3678\u001b[0m     \u001b[38;5;28;01mraise\u001b[39;00m \u001b[38;5;167;01mValueError\u001b[39;00m(\n\u001b[1;32m   3679\u001b[0m         \u001b[38;5;124m\"\u001b[39m\u001b[38;5;124mMake sure to use an embedding model that can either embed documents\u001b[39m\u001b[38;5;124m\"\u001b[39m\n\u001b[1;32m   3680\u001b[0m         \u001b[38;5;124m\"\u001b[39m\u001b[38;5;124mor images depending on which you want to embed.\u001b[39m\u001b[38;5;124m\"\u001b[39m\n\u001b[1;32m   3681\u001b[0m     )\n",
      "File \u001b[0;32m~/anaconda3/envs/nlp_env/lib/python3.12/site-packages/bertopic/backend/_base.py:62\u001b[0m, in \u001b[0;36mBaseEmbedder.embed_documents\u001b[0;34m(self, document, verbose)\u001b[0m\n\u001b[1;32m     50\u001b[0m \u001b[38;5;28;01mdef\u001b[39;00m \u001b[38;5;21membed_documents\u001b[39m(\u001b[38;5;28mself\u001b[39m, document: List[\u001b[38;5;28mstr\u001b[39m], verbose: \u001b[38;5;28mbool\u001b[39m \u001b[38;5;241m=\u001b[39m \u001b[38;5;28;01mFalse\u001b[39;00m) \u001b[38;5;241m-\u001b[39m\u001b[38;5;241m>\u001b[39m np\u001b[38;5;241m.\u001b[39mndarray:\n\u001b[1;32m     51\u001b[0m \u001b[38;5;250m    \u001b[39m\u001b[38;5;124;03m\"\"\"Embed a list of n words into an n-dimensional\u001b[39;00m\n\u001b[1;32m     52\u001b[0m \u001b[38;5;124;03m    matrix of embeddings.\u001b[39;00m\n\u001b[1;32m     53\u001b[0m \n\u001b[0;32m   (...)\u001b[0m\n\u001b[1;32m     60\u001b[0m \u001b[38;5;124;03m        that each have an embeddings size of `m`\u001b[39;00m\n\u001b[1;32m     61\u001b[0m \u001b[38;5;124;03m    \"\"\"\u001b[39;00m\n\u001b[0;32m---> 62\u001b[0m     \u001b[38;5;28;01mreturn\u001b[39;00m \u001b[38;5;28;43mself\u001b[39;49m\u001b[38;5;241;43m.\u001b[39;49m\u001b[43membed\u001b[49m\u001b[43m(\u001b[49m\u001b[43mdocument\u001b[49m\u001b[43m,\u001b[49m\u001b[43m \u001b[49m\u001b[43mverbose\u001b[49m\u001b[43m)\u001b[49m\n",
      "File \u001b[0;32m~/anaconda3/envs/nlp_env/lib/python3.12/site-packages/bertopic/backend/_sentencetransformers.py:65\u001b[0m, in \u001b[0;36mSentenceTransformerBackend.embed\u001b[0;34m(self, documents, verbose)\u001b[0m\n\u001b[1;32m     53\u001b[0m \u001b[38;5;28;01mdef\u001b[39;00m \u001b[38;5;21membed\u001b[39m(\u001b[38;5;28mself\u001b[39m, documents: List[\u001b[38;5;28mstr\u001b[39m], verbose: \u001b[38;5;28mbool\u001b[39m \u001b[38;5;241m=\u001b[39m \u001b[38;5;28;01mFalse\u001b[39;00m) \u001b[38;5;241m-\u001b[39m\u001b[38;5;241m>\u001b[39m np\u001b[38;5;241m.\u001b[39mndarray:\n\u001b[1;32m     54\u001b[0m \u001b[38;5;250m    \u001b[39m\u001b[38;5;124;03m\"\"\"Embed a list of n documents/words into an n-dimensional\u001b[39;00m\n\u001b[1;32m     55\u001b[0m \u001b[38;5;124;03m    matrix of embeddings.\u001b[39;00m\n\u001b[1;32m     56\u001b[0m \n\u001b[0;32m   (...)\u001b[0m\n\u001b[1;32m     63\u001b[0m \u001b[38;5;124;03m        that each have an embeddings size of `m`\u001b[39;00m\n\u001b[1;32m     64\u001b[0m \u001b[38;5;124;03m    \"\"\"\u001b[39;00m\n\u001b[0;32m---> 65\u001b[0m     embeddings \u001b[38;5;241m=\u001b[39m \u001b[38;5;28;43mself\u001b[39;49m\u001b[38;5;241;43m.\u001b[39;49m\u001b[43membedding_model\u001b[49m\u001b[38;5;241;43m.\u001b[39;49m\u001b[43mencode\u001b[49m\u001b[43m(\u001b[49m\u001b[43mdocuments\u001b[49m\u001b[43m,\u001b[49m\u001b[43m \u001b[49m\u001b[43mshow_progress_bar\u001b[49m\u001b[38;5;241;43m=\u001b[39;49m\u001b[43mverbose\u001b[49m\u001b[43m)\u001b[49m\n\u001b[1;32m     66\u001b[0m     \u001b[38;5;28;01mreturn\u001b[39;00m embeddings\n",
      "File \u001b[0;32m~/anaconda3/envs/nlp_env/lib/python3.12/site-packages/sentence_transformers/SentenceTransformer.py:350\u001b[0m, in \u001b[0;36mSentenceTransformer.encode\u001b[0;34m(self, sentences, prompt_name, prompt, batch_size, show_progress_bar, output_value, convert_to_numpy, convert_to_tensor, device, normalize_embeddings)\u001b[0m\n\u001b[1;32m    347\u001b[0m features\u001b[38;5;241m.\u001b[39mupdate(extra_features)\n\u001b[1;32m    349\u001b[0m \u001b[38;5;28;01mwith\u001b[39;00m torch\u001b[38;5;241m.\u001b[39mno_grad():\n\u001b[0;32m--> 350\u001b[0m     out_features \u001b[38;5;241m=\u001b[39m \u001b[38;5;28;43mself\u001b[39;49m\u001b[38;5;241;43m.\u001b[39;49m\u001b[43mforward\u001b[49m\u001b[43m(\u001b[49m\u001b[43mfeatures\u001b[49m\u001b[43m)\u001b[49m\n\u001b[1;32m    352\u001b[0m     \u001b[38;5;28;01mif\u001b[39;00m output_value \u001b[38;5;241m==\u001b[39m \u001b[38;5;124m\"\u001b[39m\u001b[38;5;124mtoken_embeddings\u001b[39m\u001b[38;5;124m\"\u001b[39m:\n\u001b[1;32m    353\u001b[0m         embeddings \u001b[38;5;241m=\u001b[39m []\n",
      "File \u001b[0;32m~/anaconda3/envs/nlp_env/lib/python3.12/site-packages/torch/nn/modules/container.py:217\u001b[0m, in \u001b[0;36mSequential.forward\u001b[0;34m(self, input)\u001b[0m\n\u001b[1;32m    215\u001b[0m \u001b[38;5;28;01mdef\u001b[39;00m \u001b[38;5;21mforward\u001b[39m(\u001b[38;5;28mself\u001b[39m, \u001b[38;5;28minput\u001b[39m):\n\u001b[1;32m    216\u001b[0m     \u001b[38;5;28;01mfor\u001b[39;00m module \u001b[38;5;129;01min\u001b[39;00m \u001b[38;5;28mself\u001b[39m:\n\u001b[0;32m--> 217\u001b[0m         \u001b[38;5;28minput\u001b[39m \u001b[38;5;241m=\u001b[39m \u001b[43mmodule\u001b[49m\u001b[43m(\u001b[49m\u001b[38;5;28;43minput\u001b[39;49m\u001b[43m)\u001b[49m\n\u001b[1;32m    218\u001b[0m     \u001b[38;5;28;01mreturn\u001b[39;00m \u001b[38;5;28minput\u001b[39m\n",
      "File \u001b[0;32m~/anaconda3/envs/nlp_env/lib/python3.12/site-packages/torch/nn/modules/module.py:1511\u001b[0m, in \u001b[0;36mModule._wrapped_call_impl\u001b[0;34m(self, *args, **kwargs)\u001b[0m\n\u001b[1;32m   1509\u001b[0m     \u001b[38;5;28;01mreturn\u001b[39;00m \u001b[38;5;28mself\u001b[39m\u001b[38;5;241m.\u001b[39m_compiled_call_impl(\u001b[38;5;241m*\u001b[39margs, \u001b[38;5;241m*\u001b[39m\u001b[38;5;241m*\u001b[39mkwargs)  \u001b[38;5;66;03m# type: ignore[misc]\u001b[39;00m\n\u001b[1;32m   1510\u001b[0m \u001b[38;5;28;01melse\u001b[39;00m:\n\u001b[0;32m-> 1511\u001b[0m     \u001b[38;5;28;01mreturn\u001b[39;00m \u001b[38;5;28;43mself\u001b[39;49m\u001b[38;5;241;43m.\u001b[39;49m\u001b[43m_call_impl\u001b[49m\u001b[43m(\u001b[49m\u001b[38;5;241;43m*\u001b[39;49m\u001b[43margs\u001b[49m\u001b[43m,\u001b[49m\u001b[43m \u001b[49m\u001b[38;5;241;43m*\u001b[39;49m\u001b[38;5;241;43m*\u001b[39;49m\u001b[43mkwargs\u001b[49m\u001b[43m)\u001b[49m\n",
      "File \u001b[0;32m~/anaconda3/envs/nlp_env/lib/python3.12/site-packages/torch/nn/modules/module.py:1520\u001b[0m, in \u001b[0;36mModule._call_impl\u001b[0;34m(self, *args, **kwargs)\u001b[0m\n\u001b[1;32m   1515\u001b[0m \u001b[38;5;66;03m# If we don't have any hooks, we want to skip the rest of the logic in\u001b[39;00m\n\u001b[1;32m   1516\u001b[0m \u001b[38;5;66;03m# this function, and just call forward.\u001b[39;00m\n\u001b[1;32m   1517\u001b[0m \u001b[38;5;28;01mif\u001b[39;00m \u001b[38;5;129;01mnot\u001b[39;00m (\u001b[38;5;28mself\u001b[39m\u001b[38;5;241m.\u001b[39m_backward_hooks \u001b[38;5;129;01mor\u001b[39;00m \u001b[38;5;28mself\u001b[39m\u001b[38;5;241m.\u001b[39m_backward_pre_hooks \u001b[38;5;129;01mor\u001b[39;00m \u001b[38;5;28mself\u001b[39m\u001b[38;5;241m.\u001b[39m_forward_hooks \u001b[38;5;129;01mor\u001b[39;00m \u001b[38;5;28mself\u001b[39m\u001b[38;5;241m.\u001b[39m_forward_pre_hooks\n\u001b[1;32m   1518\u001b[0m         \u001b[38;5;129;01mor\u001b[39;00m _global_backward_pre_hooks \u001b[38;5;129;01mor\u001b[39;00m _global_backward_hooks\n\u001b[1;32m   1519\u001b[0m         \u001b[38;5;129;01mor\u001b[39;00m _global_forward_hooks \u001b[38;5;129;01mor\u001b[39;00m _global_forward_pre_hooks):\n\u001b[0;32m-> 1520\u001b[0m     \u001b[38;5;28;01mreturn\u001b[39;00m \u001b[43mforward_call\u001b[49m\u001b[43m(\u001b[49m\u001b[38;5;241;43m*\u001b[39;49m\u001b[43margs\u001b[49m\u001b[43m,\u001b[49m\u001b[43m \u001b[49m\u001b[38;5;241;43m*\u001b[39;49m\u001b[38;5;241;43m*\u001b[39;49m\u001b[43mkwargs\u001b[49m\u001b[43m)\u001b[49m\n\u001b[1;32m   1522\u001b[0m \u001b[38;5;28;01mtry\u001b[39;00m:\n\u001b[1;32m   1523\u001b[0m     result \u001b[38;5;241m=\u001b[39m \u001b[38;5;28;01mNone\u001b[39;00m\n",
      "File \u001b[0;32m~/anaconda3/envs/nlp_env/lib/python3.12/site-packages/sentence_transformers/models/Transformer.py:98\u001b[0m, in \u001b[0;36mTransformer.forward\u001b[0;34m(self, features)\u001b[0m\n\u001b[1;32m     95\u001b[0m \u001b[38;5;28;01mif\u001b[39;00m \u001b[38;5;124m\"\u001b[39m\u001b[38;5;124mtoken_type_ids\u001b[39m\u001b[38;5;124m\"\u001b[39m \u001b[38;5;129;01min\u001b[39;00m features:\n\u001b[1;32m     96\u001b[0m     trans_features[\u001b[38;5;124m\"\u001b[39m\u001b[38;5;124mtoken_type_ids\u001b[39m\u001b[38;5;124m\"\u001b[39m] \u001b[38;5;241m=\u001b[39m features[\u001b[38;5;124m\"\u001b[39m\u001b[38;5;124mtoken_type_ids\u001b[39m\u001b[38;5;124m\"\u001b[39m]\n\u001b[0;32m---> 98\u001b[0m output_states \u001b[38;5;241m=\u001b[39m \u001b[38;5;28;43mself\u001b[39;49m\u001b[38;5;241;43m.\u001b[39;49m\u001b[43mauto_model\u001b[49m\u001b[43m(\u001b[49m\u001b[38;5;241;43m*\u001b[39;49m\u001b[38;5;241;43m*\u001b[39;49m\u001b[43mtrans_features\u001b[49m\u001b[43m,\u001b[49m\u001b[43m \u001b[49m\u001b[43mreturn_dict\u001b[49m\u001b[38;5;241;43m=\u001b[39;49m\u001b[38;5;28;43;01mFalse\u001b[39;49;00m\u001b[43m)\u001b[49m\n\u001b[1;32m     99\u001b[0m output_tokens \u001b[38;5;241m=\u001b[39m output_states[\u001b[38;5;241m0\u001b[39m]\n\u001b[1;32m    101\u001b[0m features\u001b[38;5;241m.\u001b[39mupdate({\u001b[38;5;124m\"\u001b[39m\u001b[38;5;124mtoken_embeddings\u001b[39m\u001b[38;5;124m\"\u001b[39m: output_tokens, \u001b[38;5;124m\"\u001b[39m\u001b[38;5;124mattention_mask\u001b[39m\u001b[38;5;124m\"\u001b[39m: features[\u001b[38;5;124m\"\u001b[39m\u001b[38;5;124mattention_mask\u001b[39m\u001b[38;5;124m\"\u001b[39m]})\n",
      "File \u001b[0;32m~/anaconda3/envs/nlp_env/lib/python3.12/site-packages/torch/nn/modules/module.py:1511\u001b[0m, in \u001b[0;36mModule._wrapped_call_impl\u001b[0;34m(self, *args, **kwargs)\u001b[0m\n\u001b[1;32m   1509\u001b[0m     \u001b[38;5;28;01mreturn\u001b[39;00m \u001b[38;5;28mself\u001b[39m\u001b[38;5;241m.\u001b[39m_compiled_call_impl(\u001b[38;5;241m*\u001b[39margs, \u001b[38;5;241m*\u001b[39m\u001b[38;5;241m*\u001b[39mkwargs)  \u001b[38;5;66;03m# type: ignore[misc]\u001b[39;00m\n\u001b[1;32m   1510\u001b[0m \u001b[38;5;28;01melse\u001b[39;00m:\n\u001b[0;32m-> 1511\u001b[0m     \u001b[38;5;28;01mreturn\u001b[39;00m \u001b[38;5;28;43mself\u001b[39;49m\u001b[38;5;241;43m.\u001b[39;49m\u001b[43m_call_impl\u001b[49m\u001b[43m(\u001b[49m\u001b[38;5;241;43m*\u001b[39;49m\u001b[43margs\u001b[49m\u001b[43m,\u001b[49m\u001b[43m \u001b[49m\u001b[38;5;241;43m*\u001b[39;49m\u001b[38;5;241;43m*\u001b[39;49m\u001b[43mkwargs\u001b[49m\u001b[43m)\u001b[49m\n",
      "File \u001b[0;32m~/anaconda3/envs/nlp_env/lib/python3.12/site-packages/torch/nn/modules/module.py:1520\u001b[0m, in \u001b[0;36mModule._call_impl\u001b[0;34m(self, *args, **kwargs)\u001b[0m\n\u001b[1;32m   1515\u001b[0m \u001b[38;5;66;03m# If we don't have any hooks, we want to skip the rest of the logic in\u001b[39;00m\n\u001b[1;32m   1516\u001b[0m \u001b[38;5;66;03m# this function, and just call forward.\u001b[39;00m\n\u001b[1;32m   1517\u001b[0m \u001b[38;5;28;01mif\u001b[39;00m \u001b[38;5;129;01mnot\u001b[39;00m (\u001b[38;5;28mself\u001b[39m\u001b[38;5;241m.\u001b[39m_backward_hooks \u001b[38;5;129;01mor\u001b[39;00m \u001b[38;5;28mself\u001b[39m\u001b[38;5;241m.\u001b[39m_backward_pre_hooks \u001b[38;5;129;01mor\u001b[39;00m \u001b[38;5;28mself\u001b[39m\u001b[38;5;241m.\u001b[39m_forward_hooks \u001b[38;5;129;01mor\u001b[39;00m \u001b[38;5;28mself\u001b[39m\u001b[38;5;241m.\u001b[39m_forward_pre_hooks\n\u001b[1;32m   1518\u001b[0m         \u001b[38;5;129;01mor\u001b[39;00m _global_backward_pre_hooks \u001b[38;5;129;01mor\u001b[39;00m _global_backward_hooks\n\u001b[1;32m   1519\u001b[0m         \u001b[38;5;129;01mor\u001b[39;00m _global_forward_hooks \u001b[38;5;129;01mor\u001b[39;00m _global_forward_pre_hooks):\n\u001b[0;32m-> 1520\u001b[0m     \u001b[38;5;28;01mreturn\u001b[39;00m \u001b[43mforward_call\u001b[49m\u001b[43m(\u001b[49m\u001b[38;5;241;43m*\u001b[39;49m\u001b[43margs\u001b[49m\u001b[43m,\u001b[49m\u001b[43m \u001b[49m\u001b[38;5;241;43m*\u001b[39;49m\u001b[38;5;241;43m*\u001b[39;49m\u001b[43mkwargs\u001b[49m\u001b[43m)\u001b[49m\n\u001b[1;32m   1522\u001b[0m \u001b[38;5;28;01mtry\u001b[39;00m:\n\u001b[1;32m   1523\u001b[0m     result \u001b[38;5;241m=\u001b[39m \u001b[38;5;28;01mNone\u001b[39;00m\n",
      "File \u001b[0;32m~/.cache/huggingface/modules/transformers_modules/Alibaba-NLP/new-impl/40ced75c3017eb27626c9d4ea981bde21a2662f4/modeling.py:940\u001b[0m, in \u001b[0;36mNewModel.forward\u001b[0;34m(self, input_ids, attention_mask, length, subset_indices, token_type_ids, position_ids, head_mask, inputs_embeds, output_attentions, output_hidden_states, return_dict, unpad_inputs)\u001b[0m\n\u001b[1;32m    930\u001b[0m     logger\u001b[38;5;241m.\u001b[39mwarning_once(\u001b[38;5;124m\"\u001b[39m\u001b[38;5;124mTODO: logn_attention_scale\u001b[39m\u001b[38;5;124m\"\u001b[39m)\n\u001b[1;32m    931\u001b[0m \u001b[38;5;66;03m#     # attention scale log_512(input_len)\u001b[39;00m\n\u001b[1;32m    932\u001b[0m \u001b[38;5;66;03m#     attention_scale = attention_mask.sum(1).log() / torch.tensor(self.config.max_position_embeddings).log()\u001b[39;00m\n\u001b[1;32m    933\u001b[0m \u001b[38;5;66;03m#     # inference-time logn scale need clip 1\u001b[39;00m\n\u001b[0;32m   (...)\u001b[0m\n\u001b[1;32m    937\u001b[0m \u001b[38;5;66;03m# else:\u001b[39;00m\n\u001b[1;32m    938\u001b[0m \u001b[38;5;66;03m#     attention_scale = None\u001b[39;00m\n\u001b[0;32m--> 940\u001b[0m encoder_outputs \u001b[38;5;241m=\u001b[39m \u001b[38;5;28;43mself\u001b[39;49m\u001b[38;5;241;43m.\u001b[39;49m\u001b[43mencoder\u001b[49m\u001b[43m(\u001b[49m\n\u001b[1;32m    941\u001b[0m \u001b[43m    \u001b[49m\u001b[43membedding_output\u001b[49m\u001b[43m,\u001b[49m\n\u001b[1;32m    942\u001b[0m \u001b[43m    \u001b[49m\u001b[43mattention_bias\u001b[49m\u001b[38;5;241;43m=\u001b[39;49m\u001b[43mattention_bias\u001b[49m\u001b[43m,\u001b[49m\n\u001b[1;32m    943\u001b[0m \u001b[43m    \u001b[49m\u001b[43mrope_embeds\u001b[49m\u001b[38;5;241;43m=\u001b[39;49m\u001b[43mrope_embeds\u001b[49m\u001b[43m,\u001b[49m\n\u001b[1;32m    944\u001b[0m \u001b[43m    \u001b[49m\u001b[43mpadding_inputs\u001b[49m\u001b[38;5;241;43m=\u001b[39;49m\u001b[43mpadding_inputs\u001b[49m\u001b[43m,\u001b[49m\n\u001b[1;32m    945\u001b[0m \u001b[43m    \u001b[49m\u001b[43mattention_scale\u001b[49m\u001b[38;5;241;43m=\u001b[39;49m\u001b[43mattention_scale\u001b[49m\u001b[43m,\u001b[49m\n\u001b[1;32m    946\u001b[0m \u001b[43m    \u001b[49m\u001b[43msubset_indices\u001b[49m\u001b[38;5;241;43m=\u001b[39;49m\u001b[43msubset_indices\u001b[49m\u001b[43m,\u001b[49m\n\u001b[1;32m    947\u001b[0m \u001b[43m    \u001b[49m\u001b[43mhead_mask\u001b[49m\u001b[38;5;241;43m=\u001b[39;49m\u001b[43mhead_mask\u001b[49m\u001b[43m,\u001b[49m\n\u001b[1;32m    948\u001b[0m \u001b[43m    \u001b[49m\u001b[43moutput_attentions\u001b[49m\u001b[38;5;241;43m=\u001b[39;49m\u001b[43moutput_attentions\u001b[49m\u001b[43m,\u001b[49m\n\u001b[1;32m    949\u001b[0m \u001b[43m    \u001b[49m\u001b[43moutput_hidden_states\u001b[49m\u001b[38;5;241;43m=\u001b[39;49m\u001b[43moutput_hidden_states\u001b[49m\u001b[43m,\u001b[49m\n\u001b[1;32m    950\u001b[0m \u001b[43m    \u001b[49m\u001b[43mreturn_dict\u001b[49m\u001b[38;5;241;43m=\u001b[39;49m\u001b[43mreturn_dict\u001b[49m\u001b[43m,\u001b[49m\n\u001b[1;32m    951\u001b[0m \u001b[43m\u001b[49m\u001b[43m)\u001b[49m\n\u001b[1;32m    952\u001b[0m sequence_output \u001b[38;5;241m=\u001b[39m encoder_outputs[\u001b[38;5;241m0\u001b[39m]\n\u001b[1;32m    953\u001b[0m \u001b[38;5;28;01mif\u001b[39;00m unpad_inputs \u001b[38;5;129;01mand\u001b[39;00m output_padded:\n",
      "File \u001b[0;32m~/anaconda3/envs/nlp_env/lib/python3.12/site-packages/torch/nn/modules/module.py:1511\u001b[0m, in \u001b[0;36mModule._wrapped_call_impl\u001b[0;34m(self, *args, **kwargs)\u001b[0m\n\u001b[1;32m   1509\u001b[0m     \u001b[38;5;28;01mreturn\u001b[39;00m \u001b[38;5;28mself\u001b[39m\u001b[38;5;241m.\u001b[39m_compiled_call_impl(\u001b[38;5;241m*\u001b[39margs, \u001b[38;5;241m*\u001b[39m\u001b[38;5;241m*\u001b[39mkwargs)  \u001b[38;5;66;03m# type: ignore[misc]\u001b[39;00m\n\u001b[1;32m   1510\u001b[0m \u001b[38;5;28;01melse\u001b[39;00m:\n\u001b[0;32m-> 1511\u001b[0m     \u001b[38;5;28;01mreturn\u001b[39;00m \u001b[38;5;28;43mself\u001b[39;49m\u001b[38;5;241;43m.\u001b[39;49m\u001b[43m_call_impl\u001b[49m\u001b[43m(\u001b[49m\u001b[38;5;241;43m*\u001b[39;49m\u001b[43margs\u001b[49m\u001b[43m,\u001b[49m\u001b[43m \u001b[49m\u001b[38;5;241;43m*\u001b[39;49m\u001b[38;5;241;43m*\u001b[39;49m\u001b[43mkwargs\u001b[49m\u001b[43m)\u001b[49m\n",
      "File \u001b[0;32m~/anaconda3/envs/nlp_env/lib/python3.12/site-packages/torch/nn/modules/module.py:1520\u001b[0m, in \u001b[0;36mModule._call_impl\u001b[0;34m(self, *args, **kwargs)\u001b[0m\n\u001b[1;32m   1515\u001b[0m \u001b[38;5;66;03m# If we don't have any hooks, we want to skip the rest of the logic in\u001b[39;00m\n\u001b[1;32m   1516\u001b[0m \u001b[38;5;66;03m# this function, and just call forward.\u001b[39;00m\n\u001b[1;32m   1517\u001b[0m \u001b[38;5;28;01mif\u001b[39;00m \u001b[38;5;129;01mnot\u001b[39;00m (\u001b[38;5;28mself\u001b[39m\u001b[38;5;241m.\u001b[39m_backward_hooks \u001b[38;5;129;01mor\u001b[39;00m \u001b[38;5;28mself\u001b[39m\u001b[38;5;241m.\u001b[39m_backward_pre_hooks \u001b[38;5;129;01mor\u001b[39;00m \u001b[38;5;28mself\u001b[39m\u001b[38;5;241m.\u001b[39m_forward_hooks \u001b[38;5;129;01mor\u001b[39;00m \u001b[38;5;28mself\u001b[39m\u001b[38;5;241m.\u001b[39m_forward_pre_hooks\n\u001b[1;32m   1518\u001b[0m         \u001b[38;5;129;01mor\u001b[39;00m _global_backward_pre_hooks \u001b[38;5;129;01mor\u001b[39;00m _global_backward_hooks\n\u001b[1;32m   1519\u001b[0m         \u001b[38;5;129;01mor\u001b[39;00m _global_forward_hooks \u001b[38;5;129;01mor\u001b[39;00m _global_forward_pre_hooks):\n\u001b[0;32m-> 1520\u001b[0m     \u001b[38;5;28;01mreturn\u001b[39;00m \u001b[43mforward_call\u001b[49m\u001b[43m(\u001b[49m\u001b[38;5;241;43m*\u001b[39;49m\u001b[43margs\u001b[49m\u001b[43m,\u001b[49m\u001b[43m \u001b[49m\u001b[38;5;241;43m*\u001b[39;49m\u001b[38;5;241;43m*\u001b[39;49m\u001b[43mkwargs\u001b[49m\u001b[43m)\u001b[49m\n\u001b[1;32m   1522\u001b[0m \u001b[38;5;28;01mtry\u001b[39;00m:\n\u001b[1;32m   1523\u001b[0m     result \u001b[38;5;241m=\u001b[39m \u001b[38;5;28;01mNone\u001b[39;00m\n",
      "File \u001b[0;32m~/.cache/huggingface/modules/transformers_modules/Alibaba-NLP/new-impl/40ced75c3017eb27626c9d4ea981bde21a2662f4/modeling.py:749\u001b[0m, in \u001b[0;36mNewEncoder.forward\u001b[0;34m(self, hidden_states, attention_bias, rope_embeds, padding_inputs, attention_scale, subset_indices, head_mask, output_attentions, output_hidden_states, return_dict)\u001b[0m\n\u001b[1;32m    738\u001b[0m     layer_outputs \u001b[38;5;241m=\u001b[39m \u001b[38;5;28mself\u001b[39m\u001b[38;5;241m.\u001b[39m_gradient_checkpointing_func(\n\u001b[1;32m    739\u001b[0m         layer_module\u001b[38;5;241m.\u001b[39m\u001b[38;5;21m__call__\u001b[39m,\n\u001b[1;32m    740\u001b[0m         hidden_states,\n\u001b[0;32m   (...)\u001b[0m\n\u001b[1;32m    746\u001b[0m         layer_head_mask,\n\u001b[1;32m    747\u001b[0m     )\n\u001b[1;32m    748\u001b[0m \u001b[38;5;28;01melse\u001b[39;00m:\n\u001b[0;32m--> 749\u001b[0m     layer_outputs \u001b[38;5;241m=\u001b[39m \u001b[43mlayer_module\u001b[49m\u001b[43m(\u001b[49m\n\u001b[1;32m    750\u001b[0m \u001b[43m        \u001b[49m\u001b[43mhidden_states\u001b[49m\u001b[43m,\u001b[49m\n\u001b[1;32m    751\u001b[0m \u001b[43m        \u001b[49m\u001b[43mattention_bias\u001b[49m\u001b[43m,\u001b[49m\n\u001b[1;32m    752\u001b[0m \u001b[43m        \u001b[49m\u001b[43mrope_embeds\u001b[49m\u001b[43m,\u001b[49m\n\u001b[1;32m    753\u001b[0m \u001b[43m        \u001b[49m\u001b[43mpadding_inputs\u001b[49m\u001b[43m,\u001b[49m\n\u001b[1;32m    754\u001b[0m \u001b[43m        \u001b[49m\u001b[43mattention_scale\u001b[49m\u001b[43m,\u001b[49m\n\u001b[1;32m    755\u001b[0m \u001b[43m        \u001b[49m\u001b[43mlayer_subset_indices\u001b[49m\u001b[43m,\u001b[49m\n\u001b[1;32m    756\u001b[0m \u001b[43m        \u001b[49m\u001b[43mlayer_head_mask\u001b[49m\u001b[43m,\u001b[49m\n\u001b[1;32m    757\u001b[0m \u001b[43m        \u001b[49m\u001b[43moutput_attentions\u001b[49m\u001b[43m,\u001b[49m\n\u001b[1;32m    758\u001b[0m \u001b[43m    \u001b[49m\u001b[43m)\u001b[49m\n\u001b[1;32m    760\u001b[0m hidden_states \u001b[38;5;241m=\u001b[39m layer_outputs[\u001b[38;5;241m0\u001b[39m]\n\u001b[1;32m    761\u001b[0m \u001b[38;5;28;01mif\u001b[39;00m output_attentions:\n",
      "File \u001b[0;32m~/anaconda3/envs/nlp_env/lib/python3.12/site-packages/torch/nn/modules/module.py:1511\u001b[0m, in \u001b[0;36mModule._wrapped_call_impl\u001b[0;34m(self, *args, **kwargs)\u001b[0m\n\u001b[1;32m   1509\u001b[0m     \u001b[38;5;28;01mreturn\u001b[39;00m \u001b[38;5;28mself\u001b[39m\u001b[38;5;241m.\u001b[39m_compiled_call_impl(\u001b[38;5;241m*\u001b[39margs, \u001b[38;5;241m*\u001b[39m\u001b[38;5;241m*\u001b[39mkwargs)  \u001b[38;5;66;03m# type: ignore[misc]\u001b[39;00m\n\u001b[1;32m   1510\u001b[0m \u001b[38;5;28;01melse\u001b[39;00m:\n\u001b[0;32m-> 1511\u001b[0m     \u001b[38;5;28;01mreturn\u001b[39;00m \u001b[38;5;28;43mself\u001b[39;49m\u001b[38;5;241;43m.\u001b[39;49m\u001b[43m_call_impl\u001b[49m\u001b[43m(\u001b[49m\u001b[38;5;241;43m*\u001b[39;49m\u001b[43margs\u001b[49m\u001b[43m,\u001b[49m\u001b[43m \u001b[49m\u001b[38;5;241;43m*\u001b[39;49m\u001b[38;5;241;43m*\u001b[39;49m\u001b[43mkwargs\u001b[49m\u001b[43m)\u001b[49m\n",
      "File \u001b[0;32m~/anaconda3/envs/nlp_env/lib/python3.12/site-packages/torch/nn/modules/module.py:1520\u001b[0m, in \u001b[0;36mModule._call_impl\u001b[0;34m(self, *args, **kwargs)\u001b[0m\n\u001b[1;32m   1515\u001b[0m \u001b[38;5;66;03m# If we don't have any hooks, we want to skip the rest of the logic in\u001b[39;00m\n\u001b[1;32m   1516\u001b[0m \u001b[38;5;66;03m# this function, and just call forward.\u001b[39;00m\n\u001b[1;32m   1517\u001b[0m \u001b[38;5;28;01mif\u001b[39;00m \u001b[38;5;129;01mnot\u001b[39;00m (\u001b[38;5;28mself\u001b[39m\u001b[38;5;241m.\u001b[39m_backward_hooks \u001b[38;5;129;01mor\u001b[39;00m \u001b[38;5;28mself\u001b[39m\u001b[38;5;241m.\u001b[39m_backward_pre_hooks \u001b[38;5;129;01mor\u001b[39;00m \u001b[38;5;28mself\u001b[39m\u001b[38;5;241m.\u001b[39m_forward_hooks \u001b[38;5;129;01mor\u001b[39;00m \u001b[38;5;28mself\u001b[39m\u001b[38;5;241m.\u001b[39m_forward_pre_hooks\n\u001b[1;32m   1518\u001b[0m         \u001b[38;5;129;01mor\u001b[39;00m _global_backward_pre_hooks \u001b[38;5;129;01mor\u001b[39;00m _global_backward_hooks\n\u001b[1;32m   1519\u001b[0m         \u001b[38;5;129;01mor\u001b[39;00m _global_forward_hooks \u001b[38;5;129;01mor\u001b[39;00m _global_forward_pre_hooks):\n\u001b[0;32m-> 1520\u001b[0m     \u001b[38;5;28;01mreturn\u001b[39;00m \u001b[43mforward_call\u001b[49m\u001b[43m(\u001b[49m\u001b[38;5;241;43m*\u001b[39;49m\u001b[43margs\u001b[49m\u001b[43m,\u001b[49m\u001b[43m \u001b[49m\u001b[38;5;241;43m*\u001b[39;49m\u001b[38;5;241;43m*\u001b[39;49m\u001b[43mkwargs\u001b[49m\u001b[43m)\u001b[49m\n\u001b[1;32m   1522\u001b[0m \u001b[38;5;28;01mtry\u001b[39;00m:\n\u001b[1;32m   1523\u001b[0m     result \u001b[38;5;241m=\u001b[39m \u001b[38;5;28;01mNone\u001b[39;00m\n",
      "File \u001b[0;32m~/.cache/huggingface/modules/transformers_modules/Alibaba-NLP/new-impl/40ced75c3017eb27626c9d4ea981bde21a2662f4/modeling.py:669\u001b[0m, in \u001b[0;36mNewLayer.forward\u001b[0;34m(self, hidden_states, attention_bias, rope_embeds, padding_inputs, attention_scale, subset_indices, head_mask, output_attentions, qkv_inputs)\u001b[0m\n\u001b[1;32m    655\u001b[0m \u001b[38;5;28;01mdef\u001b[39;00m \u001b[38;5;21mforward\u001b[39m(\n\u001b[1;32m    656\u001b[0m     \u001b[38;5;28mself\u001b[39m,\n\u001b[1;32m    657\u001b[0m     hidden_states: torch\u001b[38;5;241m.\u001b[39mTensor,\n\u001b[0;32m   (...)\u001b[0m\n\u001b[1;32m    666\u001b[0m ) \u001b[38;5;241m-\u001b[39m\u001b[38;5;241m>\u001b[39m Tuple[torch\u001b[38;5;241m.\u001b[39mTensor, \u001b[38;5;241m.\u001b[39m\u001b[38;5;241m.\u001b[39m\u001b[38;5;241m.\u001b[39m]:\n\u001b[1;32m    667\u001b[0m     \u001b[38;5;66;03m# Multi head self attention\u001b[39;00m\n\u001b[1;32m    668\u001b[0m     residual \u001b[38;5;241m=\u001b[39m hidden_states \u001b[38;5;28;01mif\u001b[39;00m qkv_inputs \u001b[38;5;129;01mis\u001b[39;00m \u001b[38;5;28;01mNone\u001b[39;00m \u001b[38;5;28;01melse\u001b[39;00m qkv_inputs[\u001b[38;5;241m0\u001b[39m]\n\u001b[0;32m--> 669\u001b[0m     attention_outputs \u001b[38;5;241m=\u001b[39m \u001b[38;5;28;43mself\u001b[39;49m\u001b[38;5;241;43m.\u001b[39;49m\u001b[43mattention\u001b[49m\u001b[43m(\u001b[49m\n\u001b[1;32m    670\u001b[0m \u001b[43m        \u001b[49m\u001b[43mhidden_states\u001b[49m\u001b[43m,\u001b[49m\n\u001b[1;32m    671\u001b[0m \u001b[43m        \u001b[49m\u001b[43mattention_bias\u001b[49m\u001b[43m,\u001b[49m\n\u001b[1;32m    672\u001b[0m \u001b[43m        \u001b[49m\u001b[43mrope_embeds\u001b[49m\u001b[43m,\u001b[49m\n\u001b[1;32m    673\u001b[0m \u001b[43m        \u001b[49m\u001b[43mpadding_inputs\u001b[49m\u001b[43m,\u001b[49m\n\u001b[1;32m    674\u001b[0m \u001b[43m        \u001b[49m\u001b[43mattention_scale\u001b[49m\u001b[43m,\u001b[49m\n\u001b[1;32m    675\u001b[0m \u001b[43m        \u001b[49m\u001b[43mhead_mask\u001b[49m\u001b[43m,\u001b[49m\n\u001b[1;32m    676\u001b[0m \u001b[43m        \u001b[49m\u001b[43moutput_attentions\u001b[49m\u001b[38;5;241;43m=\u001b[39;49m\u001b[43moutput_attentions\u001b[49m\u001b[43m,\u001b[49m\n\u001b[1;32m    677\u001b[0m \u001b[43m        \u001b[49m\u001b[43mqkv_inputs\u001b[49m\u001b[38;5;241;43m=\u001b[39;49m\u001b[43mqkv_inputs\u001b[49m\u001b[43m,\u001b[49m\n\u001b[1;32m    678\u001b[0m \u001b[43m    \u001b[49m\u001b[43m)\u001b[49m\n\u001b[1;32m    679\u001b[0m     hidden_states \u001b[38;5;241m=\u001b[39m attention_outputs[\u001b[38;5;241m0\u001b[39m]\n\u001b[1;32m    680\u001b[0m     \u001b[38;5;28;01mif\u001b[39;00m \u001b[38;5;28mself\u001b[39m\u001b[38;5;241m.\u001b[39mhidden_dropout \u001b[38;5;129;01mis\u001b[39;00m \u001b[38;5;129;01mnot\u001b[39;00m \u001b[38;5;28;01mNone\u001b[39;00m:\n",
      "File \u001b[0;32m~/anaconda3/envs/nlp_env/lib/python3.12/site-packages/torch/nn/modules/module.py:1511\u001b[0m, in \u001b[0;36mModule._wrapped_call_impl\u001b[0;34m(self, *args, **kwargs)\u001b[0m\n\u001b[1;32m   1509\u001b[0m     \u001b[38;5;28;01mreturn\u001b[39;00m \u001b[38;5;28mself\u001b[39m\u001b[38;5;241m.\u001b[39m_compiled_call_impl(\u001b[38;5;241m*\u001b[39margs, \u001b[38;5;241m*\u001b[39m\u001b[38;5;241m*\u001b[39mkwargs)  \u001b[38;5;66;03m# type: ignore[misc]\u001b[39;00m\n\u001b[1;32m   1510\u001b[0m \u001b[38;5;28;01melse\u001b[39;00m:\n\u001b[0;32m-> 1511\u001b[0m     \u001b[38;5;28;01mreturn\u001b[39;00m \u001b[38;5;28;43mself\u001b[39;49m\u001b[38;5;241;43m.\u001b[39;49m\u001b[43m_call_impl\u001b[49m\u001b[43m(\u001b[49m\u001b[38;5;241;43m*\u001b[39;49m\u001b[43margs\u001b[49m\u001b[43m,\u001b[49m\u001b[43m \u001b[49m\u001b[38;5;241;43m*\u001b[39;49m\u001b[38;5;241;43m*\u001b[39;49m\u001b[43mkwargs\u001b[49m\u001b[43m)\u001b[49m\n",
      "File \u001b[0;32m~/anaconda3/envs/nlp_env/lib/python3.12/site-packages/torch/nn/modules/module.py:1520\u001b[0m, in \u001b[0;36mModule._call_impl\u001b[0;34m(self, *args, **kwargs)\u001b[0m\n\u001b[1;32m   1515\u001b[0m \u001b[38;5;66;03m# If we don't have any hooks, we want to skip the rest of the logic in\u001b[39;00m\n\u001b[1;32m   1516\u001b[0m \u001b[38;5;66;03m# this function, and just call forward.\u001b[39;00m\n\u001b[1;32m   1517\u001b[0m \u001b[38;5;28;01mif\u001b[39;00m \u001b[38;5;129;01mnot\u001b[39;00m (\u001b[38;5;28mself\u001b[39m\u001b[38;5;241m.\u001b[39m_backward_hooks \u001b[38;5;129;01mor\u001b[39;00m \u001b[38;5;28mself\u001b[39m\u001b[38;5;241m.\u001b[39m_backward_pre_hooks \u001b[38;5;129;01mor\u001b[39;00m \u001b[38;5;28mself\u001b[39m\u001b[38;5;241m.\u001b[39m_forward_hooks \u001b[38;5;129;01mor\u001b[39;00m \u001b[38;5;28mself\u001b[39m\u001b[38;5;241m.\u001b[39m_forward_pre_hooks\n\u001b[1;32m   1518\u001b[0m         \u001b[38;5;129;01mor\u001b[39;00m _global_backward_pre_hooks \u001b[38;5;129;01mor\u001b[39;00m _global_backward_hooks\n\u001b[1;32m   1519\u001b[0m         \u001b[38;5;129;01mor\u001b[39;00m _global_forward_hooks \u001b[38;5;129;01mor\u001b[39;00m _global_forward_pre_hooks):\n\u001b[0;32m-> 1520\u001b[0m     \u001b[38;5;28;01mreturn\u001b[39;00m \u001b[43mforward_call\u001b[49m\u001b[43m(\u001b[49m\u001b[38;5;241;43m*\u001b[39;49m\u001b[43margs\u001b[49m\u001b[43m,\u001b[49m\u001b[43m \u001b[49m\u001b[38;5;241;43m*\u001b[39;49m\u001b[38;5;241;43m*\u001b[39;49m\u001b[43mkwargs\u001b[49m\u001b[43m)\u001b[49m\n\u001b[1;32m   1522\u001b[0m \u001b[38;5;28;01mtry\u001b[39;00m:\n\u001b[1;32m   1523\u001b[0m     result \u001b[38;5;241m=\u001b[39m \u001b[38;5;28;01mNone\u001b[39;00m\n",
      "File \u001b[0;32m~/.cache/huggingface/modules/transformers_modules/Alibaba-NLP/new-impl/40ced75c3017eb27626c9d4ea981bde21a2662f4/modeling.py:511\u001b[0m, in \u001b[0;36mNewAttention.forward\u001b[0;34m(self, hidden_states, attention_bias, rope_embeds, padding_inputs, attention_scale, head_mask, output_attentions, qkv_inputs)\u001b[0m\n\u001b[1;32m    509\u001b[0m     \u001b[38;5;28;01mif\u001b[39;00m output_attentions \u001b[38;5;129;01mand\u001b[39;00m \u001b[38;5;28misinstance\u001b[39m(\u001b[38;5;28mself\u001b[39m, NewSdpaAttention):\n\u001b[1;32m    510\u001b[0m         \u001b[38;5;28;01mraise\u001b[39;00m \u001b[38;5;167;01mRuntimeError\u001b[39;00m(\u001b[38;5;124m\"\u001b[39m\u001b[38;5;124mSDPA do not output attentions\u001b[39m\u001b[38;5;124m\"\u001b[39m)\n\u001b[0;32m--> 511\u001b[0m     context_layer, attention_probs \u001b[38;5;241m=\u001b[39m \u001b[38;5;28;43mself\u001b[39;49m\u001b[38;5;241;43m.\u001b[39;49m\u001b[43m_attention\u001b[49m\u001b[43m(\u001b[49m\n\u001b[1;32m    512\u001b[0m \u001b[43m        \u001b[49m\u001b[43mquery_states\u001b[49m\u001b[43m,\u001b[49m\u001b[43m \u001b[49m\u001b[43mkey_states\u001b[49m\u001b[43m,\u001b[49m\u001b[43m \u001b[49m\u001b[43mvalue_states\u001b[49m\u001b[43m,\u001b[49m\u001b[43m \u001b[49m\u001b[43mattention_bias\u001b[49m\u001b[43m,\u001b[49m\u001b[43m \u001b[49m\u001b[43mhead_mask\u001b[49m\n\u001b[1;32m    513\u001b[0m \u001b[43m    \u001b[49m\u001b[43m)\u001b[49m\n\u001b[1;32m    515\u001b[0m \u001b[38;5;28;01mif\u001b[39;00m padding_inputs \u001b[38;5;129;01mis\u001b[39;00m \u001b[38;5;129;01mnot\u001b[39;00m \u001b[38;5;28;01mNone\u001b[39;00m:\n\u001b[1;32m    516\u001b[0m     context_layer \u001b[38;5;241m=\u001b[39m unpad_input(context_layer, indices\u001b[38;5;241m=\u001b[39mpadding_inputs[\u001b[38;5;241m0\u001b[39m])\n",
      "File \u001b[0;32m~/.cache/huggingface/modules/transformers_modules/Alibaba-NLP/new-impl/40ced75c3017eb27626c9d4ea981bde21a2662f4/modeling.py:579\u001b[0m, in \u001b[0;36mNewSdpaAttention._attention\u001b[0;34m(self, query_states, key_states, value_states, attention_bias, head_mask)\u001b[0m\n\u001b[1;32m    578\u001b[0m \u001b[38;5;28;01mdef\u001b[39;00m \u001b[38;5;21m_attention\u001b[39m(\u001b[38;5;28mself\u001b[39m, query_states, key_states, value_states, attention_bias, head_mask):\n\u001b[0;32m--> 579\u001b[0m     attn_output \u001b[38;5;241m=\u001b[39m \u001b[43mtorch\u001b[49m\u001b[38;5;241;43m.\u001b[39;49m\u001b[43mnn\u001b[49m\u001b[38;5;241;43m.\u001b[39;49m\u001b[43mfunctional\u001b[49m\u001b[38;5;241;43m.\u001b[39;49m\u001b[43mscaled_dot_product_attention\u001b[49m\u001b[43m(\u001b[49m\n\u001b[1;32m    580\u001b[0m \u001b[43m        \u001b[49m\u001b[43mquery_states\u001b[49m\u001b[38;5;241;43m.\u001b[39;49m\u001b[43mtranspose\u001b[49m\u001b[43m(\u001b[49m\u001b[38;5;241;43m1\u001b[39;49m\u001b[43m,\u001b[49m\u001b[43m \u001b[49m\u001b[38;5;241;43m2\u001b[39;49m\u001b[43m)\u001b[49m\u001b[43m,\u001b[49m\n\u001b[1;32m    581\u001b[0m \u001b[43m        \u001b[49m\u001b[43mkey_states\u001b[49m\u001b[38;5;241;43m.\u001b[39;49m\u001b[43mtranspose\u001b[49m\u001b[43m(\u001b[49m\u001b[38;5;241;43m1\u001b[39;49m\u001b[43m,\u001b[49m\u001b[43m \u001b[49m\u001b[38;5;241;43m2\u001b[39;49m\u001b[43m)\u001b[49m\u001b[43m,\u001b[49m\n\u001b[1;32m    582\u001b[0m \u001b[43m        \u001b[49m\u001b[43mvalue_states\u001b[49m\u001b[38;5;241;43m.\u001b[39;49m\u001b[43mtranspose\u001b[49m\u001b[43m(\u001b[49m\u001b[38;5;241;43m1\u001b[39;49m\u001b[43m,\u001b[49m\u001b[43m \u001b[49m\u001b[38;5;241;43m2\u001b[39;49m\u001b[43m)\u001b[49m\u001b[43m,\u001b[49m\n\u001b[1;32m    583\u001b[0m \u001b[43m        \u001b[49m\u001b[43mattn_mask\u001b[49m\u001b[38;5;241;43m=\u001b[39;49m\u001b[43mattention_bias\u001b[49m\u001b[43m,\u001b[49m\n\u001b[1;32m    584\u001b[0m \u001b[43m        \u001b[49m\u001b[43mdropout_p\u001b[49m\u001b[38;5;241;43m=\u001b[39;49m\u001b[38;5;28;43mself\u001b[39;49m\u001b[38;5;241;43m.\u001b[39;49m\u001b[43mdropout\u001b[49m\u001b[38;5;241;43m.\u001b[39;49m\u001b[43mp\u001b[49m\u001b[43m \u001b[49m\u001b[38;5;28;43;01mif\u001b[39;49;00m\u001b[43m \u001b[49m\u001b[38;5;28;43mself\u001b[39;49m\u001b[38;5;241;43m.\u001b[39;49m\u001b[43mtraining\u001b[49m\u001b[43m \u001b[49m\u001b[38;5;28;43;01melse\u001b[39;49;00m\u001b[43m \u001b[49m\u001b[38;5;241;43m0.0\u001b[39;49m\u001b[43m,\u001b[49m\n\u001b[1;32m    585\u001b[0m \u001b[43m    \u001b[49m\u001b[43m)\u001b[49m\n\u001b[1;32m    586\u001b[0m     attn_output \u001b[38;5;241m=\u001b[39m attn_output\u001b[38;5;241m.\u001b[39mpermute(\u001b[38;5;241m0\u001b[39m, \u001b[38;5;241m2\u001b[39m, \u001b[38;5;241m1\u001b[39m, \u001b[38;5;241m3\u001b[39m)\u001b[38;5;241m.\u001b[39mcontiguous()\n\u001b[1;32m    587\u001b[0m     \u001b[38;5;28;01mreturn\u001b[39;00m attn_output, \u001b[38;5;28;01mNone\u001b[39;00m\n",
      "\u001b[0;31mRuntimeError\u001b[0m: Invalid buffer size: 42.68 GB"
     ]
    }
   ],
   "source": [
    "# Fiter le modèle\n",
    "topics_better, probs_better = topic_model_better.fit_transform(df[\"Texte_clean\"])"
   ]
  },
  {
   "cell_type": "code",
   "execution_count": 23,
   "id": "f3dc3c45",
   "metadata": {},
   "outputs": [],
   "source": [
    "# help(topic_model_better)"
   ]
  },
  {
   "cell_type": "code",
   "execution_count": 39,
   "id": "369077be",
   "metadata": {},
   "outputs": [
    {
     "data": {
      "text/html": [
       "<div>\n",
       "<style scoped>\n",
       "    .dataframe tbody tr th:only-of-type {\n",
       "        vertical-align: middle;\n",
       "    }\n",
       "\n",
       "    .dataframe tbody tr th {\n",
       "        vertical-align: top;\n",
       "    }\n",
       "\n",
       "    .dataframe thead th {\n",
       "        text-align: right;\n",
       "    }\n",
       "</style>\n",
       "<table border=\"1\" class=\"dataframe\">\n",
       "  <thead>\n",
       "    <tr style=\"text-align: right;\">\n",
       "      <th></th>\n",
       "      <th>Topic</th>\n",
       "      <th>Count</th>\n",
       "      <th>Name</th>\n",
       "      <th>Representation</th>\n",
       "      <th>Representative_Docs</th>\n",
       "    </tr>\n",
       "  </thead>\n",
       "  <tbody>\n",
       "    <tr>\n",
       "      <th>0</th>\n",
       "      <td>-1</td>\n",
       "      <td>1907</td>\n",
       "      <td>-1_de_la_le_et</td>\n",
       "      <td>[de, la, le, et, les, des, que, en, nous, qui]</td>\n",
       "      <td>[Nous sommes une démocratie nucléaire et je cr...</td>\n",
       "    </tr>\n",
       "    <tr>\n",
       "      <th>1</th>\n",
       "      <td>0</td>\n",
       "      <td>326</td>\n",
       "      <td>0_lcole_de_lves_des</td>\n",
       "      <td>[lcole, de, lves, des, les, et, la, en, le, pour]</td>\n",
       "      <td>[Je suis heureuse de vous retrouver autour du ...</td>\n",
       "    </tr>\n",
       "    <tr>\n",
       "      <th>2</th>\n",
       "      <td>1</td>\n",
       "      <td>181</td>\n",
       "      <td>1_rpublique_vous_la_cest</td>\n",
       "      <td>[rpublique, vous, la, cest, pas, ve, que, dmoc...</td>\n",
       "      <td>[Ce n’est pas ça, la République !, Vous dépeig...</td>\n",
       "    </tr>\n",
       "    <tr>\n",
       "      <th>3</th>\n",
       "      <td>2</td>\n",
       "      <td>106</td>\n",
       "      <td>2_des_de_violences_la</td>\n",
       "      <td>[des, de, violences, la, et, les, le, en, qui,...</td>\n",
       "      <td>[…maire de Marcq-en-Barœul, dans ma circonscri...</td>\n",
       "    </tr>\n",
       "    <tr>\n",
       "      <th>4</th>\n",
       "      <td>3</td>\n",
       "      <td>106</td>\n",
       "      <td>3_femmes_de_la_et</td>\n",
       "      <td>[femmes, de, la, et, des, les, que, le, nous, ...</td>\n",
       "      <td>[Aujourd’hui est un grand jour : nous pouvons ...</td>\n",
       "    </tr>\n",
       "    <tr>\n",
       "      <th>5</th>\n",
       "      <td>4</td>\n",
       "      <td>64</td>\n",
       "      <td>4_de_des_les_et</td>\n",
       "      <td>[de, des, les, et, la, territoires, en, le, da...</td>\n",
       "      <td>[Les territoires ultramarins sont des joyaux d...</td>\n",
       "    </tr>\n",
       "    <tr>\n",
       "      <th>6</th>\n",
       "      <td>5</td>\n",
       "      <td>47</td>\n",
       "      <td>5_vous_franais_rpublique_et</td>\n",
       "      <td>[vous, franais, rpublique, et, je, ensemble, l...</td>\n",
       "      <td>[…mais encore au centre de notre pacte social ...</td>\n",
       "    </tr>\n",
       "    <tr>\n",
       "      <th>7</th>\n",
       "      <td>6</td>\n",
       "      <td>45</td>\n",
       "      <td>6_rpublicain_rpublicaine_lordre_cest</td>\n",
       "      <td>[rpublicain, rpublicaine, lordre, cest, rpubli...</td>\n",
       "      <td>[Je ne pousse pas de cris d’orfraie, je demand...</td>\n",
       "    </tr>\n",
       "    <tr>\n",
       "      <th>8</th>\n",
       "      <td>7</td>\n",
       "      <td>42</td>\n",
       "      <td>7_vous_la_de_que</td>\n",
       "      <td>[vous, la, de, que, le, et, pour, pas, les, qui]</td>\n",
       "      <td>[« Sans ordre républicain, il n’y a ni sécurit...</td>\n",
       "    </tr>\n",
       "    <tr>\n",
       "      <th>9</th>\n",
       "      <td>8</td>\n",
       "      <td>41</td>\n",
       "      <td>8_rpublique_droite_lextrme_la</td>\n",
       "      <td>[rpublique, droite, lextrme, la, pas, et, vous...</td>\n",
       "      <td>[…tout en cherchant, en même temps, à négocier...</td>\n",
       "    </tr>\n",
       "    <tr>\n",
       "      <th>10</th>\n",
       "      <td>9</td>\n",
       "      <td>41</td>\n",
       "      <td>9_de_services_les_la</td>\n",
       "      <td>[de, services, les, la, des, publics, sant, et...</td>\n",
       "      <td>[La nation doit garantir « à tous, notamment à...</td>\n",
       "    </tr>\n",
       "    <tr>\n",
       "      <th>11</th>\n",
       "      <td>10</td>\n",
       "      <td>38</td>\n",
       "      <td>10_nous_de_que_ne</td>\n",
       "      <td>[nous, de, que, ne, pas, qui, la, et, vous, une]</td>\n",
       "      <td>[Alors que le fossé entre citoyens et élus ne ...</td>\n",
       "    </tr>\n",
       "    <tr>\n",
       "      <th>12</th>\n",
       "      <td>11</td>\n",
       "      <td>36</td>\n",
       "      <td>11_limmigration_de_et_que</td>\n",
       "      <td>[limmigration, de, et, que, le, la, france, le...</td>\n",
       "      <td>[« Avec l’amour maternel, la vie vous fait à l...</td>\n",
       "    </tr>\n",
       "    <tr>\n",
       "      <th>13</th>\n",
       "      <td>12</td>\n",
       "      <td>33</td>\n",
       "      <td>12_les_de_le_des</td>\n",
       "      <td>[les, de, le, des, en, linflation, la, que, po...</td>\n",
       "      <td>[J’ai employé ce terme – qui n’est pas à prend...</td>\n",
       "    </tr>\n",
       "    <tr>\n",
       "      <th>14</th>\n",
       "      <td>13</td>\n",
       "      <td>31</td>\n",
       "      <td>13_sant_de_soins_les</td>\n",
       "      <td>[sant, de, soins, les, la, mdecins, des, et, q...</td>\n",
       "      <td>[En cela, ce PLFSS pour 2023 constitue un pas ...</td>\n",
       "    </tr>\n",
       "    <tr>\n",
       "      <th>15</th>\n",
       "      <td>14</td>\n",
       "      <td>30</td>\n",
       "      <td>14_police_de_gendarmerie_la</td>\n",
       "      <td>[police, de, gendarmerie, la, les, scurit, des...</td>\n",
       "      <td>[Au moment où le Président de la République a ...</td>\n",
       "    </tr>\n",
       "    <tr>\n",
       "      <th>16</th>\n",
       "      <td>15</td>\n",
       "      <td>28</td>\n",
       "      <td>15_lantismitisme_racisme_haine_et</td>\n",
       "      <td>[lantismitisme, racisme, haine, et, contre, la...</td>\n",
       "      <td>[« Le racisme et la haine ne sont pas inscrits...</td>\n",
       "    </tr>\n",
       "    <tr>\n",
       "      <th>17</th>\n",
       "      <td>16</td>\n",
       "      <td>28</td>\n",
       "      <td>16_de_le_que_la</td>\n",
       "      <td>[de, le, que, la, des, en, vous, crdits, sur, et]</td>\n",
       "      <td>[Nous examinons les crédits des missions Admin...</td>\n",
       "    </tr>\n",
       "    <tr>\n",
       "      <th>18</th>\n",
       "      <td>17</td>\n",
       "      <td>27</td>\n",
       "      <td>17_nouvellecaldonie_lections_caldoniens_lectoral</td>\n",
       "      <td>[nouvellecaldonie, lections, caldoniens, lecto...</td>\n",
       "      <td>[Toutefois, en démocratie, le résultat d’un sc...</td>\n",
       "    </tr>\n",
       "    <tr>\n",
       "      <th>19</th>\n",
       "      <td>18</td>\n",
       "      <td>27</td>\n",
       "      <td>18_paty_samuel_notre_et</td>\n",
       "      <td>[paty, samuel, notre, et, nous, islamiste, ter...</td>\n",
       "      <td>[Vendredi, le terrorisme islamiste s’en est pr...</td>\n",
       "    </tr>\n",
       "  </tbody>\n",
       "</table>\n",
       "</div>"
      ],
      "text/plain": [
       "    Topic  Count                                              Name  \\\n",
       "0      -1   1907                                    -1_de_la_le_et   \n",
       "1       0    326                               0_lcole_de_lves_des   \n",
       "2       1    181                          1_rpublique_vous_la_cest   \n",
       "3       2    106                             2_des_de_violences_la   \n",
       "4       3    106                                 3_femmes_de_la_et   \n",
       "5       4     64                                   4_de_des_les_et   \n",
       "6       5     47                       5_vous_franais_rpublique_et   \n",
       "7       6     45              6_rpublicain_rpublicaine_lordre_cest   \n",
       "8       7     42                                  7_vous_la_de_que   \n",
       "9       8     41                     8_rpublique_droite_lextrme_la   \n",
       "10      9     41                              9_de_services_les_la   \n",
       "11     10     38                                 10_nous_de_que_ne   \n",
       "12     11     36                         11_limmigration_de_et_que   \n",
       "13     12     33                                  12_les_de_le_des   \n",
       "14     13     31                              13_sant_de_soins_les   \n",
       "15     14     30                       14_police_de_gendarmerie_la   \n",
       "16     15     28                 15_lantismitisme_racisme_haine_et   \n",
       "17     16     28                                   16_de_le_que_la   \n",
       "18     17     27  17_nouvellecaldonie_lections_caldoniens_lectoral   \n",
       "19     18     27                           18_paty_samuel_notre_et   \n",
       "\n",
       "                                       Representation  \\\n",
       "0      [de, la, le, et, les, des, que, en, nous, qui]   \n",
       "1   [lcole, de, lves, des, les, et, la, en, le, pour]   \n",
       "2   [rpublique, vous, la, cest, pas, ve, que, dmoc...   \n",
       "3   [des, de, violences, la, et, les, le, en, qui,...   \n",
       "4   [femmes, de, la, et, des, les, que, le, nous, ...   \n",
       "5   [de, des, les, et, la, territoires, en, le, da...   \n",
       "6   [vous, franais, rpublique, et, je, ensemble, l...   \n",
       "7   [rpublicain, rpublicaine, lordre, cest, rpubli...   \n",
       "8    [vous, la, de, que, le, et, pour, pas, les, qui]   \n",
       "9   [rpublique, droite, lextrme, la, pas, et, vous...   \n",
       "10  [de, services, les, la, des, publics, sant, et...   \n",
       "11   [nous, de, que, ne, pas, qui, la, et, vous, une]   \n",
       "12  [limmigration, de, et, que, le, la, france, le...   \n",
       "13  [les, de, le, des, en, linflation, la, que, po...   \n",
       "14  [sant, de, soins, les, la, mdecins, des, et, q...   \n",
       "15  [police, de, gendarmerie, la, les, scurit, des...   \n",
       "16  [lantismitisme, racisme, haine, et, contre, la...   \n",
       "17  [de, le, que, la, des, en, vous, crdits, sur, et]   \n",
       "18  [nouvellecaldonie, lections, caldoniens, lecto...   \n",
       "19  [paty, samuel, notre, et, nous, islamiste, ter...   \n",
       "\n",
       "                                  Representative_Docs  \n",
       "0   [Nous sommes une démocratie nucléaire et je cr...  \n",
       "1   [Je suis heureuse de vous retrouver autour du ...  \n",
       "2   [Ce n’est pas ça, la République !, Vous dépeig...  \n",
       "3   […maire de Marcq-en-Barœul, dans ma circonscri...  \n",
       "4   [Aujourd’hui est un grand jour : nous pouvons ...  \n",
       "5   [Les territoires ultramarins sont des joyaux d...  \n",
       "6   […mais encore au centre de notre pacte social ...  \n",
       "7   [Je ne pousse pas de cris d’orfraie, je demand...  \n",
       "8   [« Sans ordre républicain, il n’y a ni sécurit...  \n",
       "9   […tout en cherchant, en même temps, à négocier...  \n",
       "10  [La nation doit garantir « à tous, notamment à...  \n",
       "11  [Alors que le fossé entre citoyens et élus ne ...  \n",
       "12  [« Avec l’amour maternel, la vie vous fait à l...  \n",
       "13  [J’ai employé ce terme – qui n’est pas à prend...  \n",
       "14  [En cela, ce PLFSS pour 2023 constitue un pas ...  \n",
       "15  [Au moment où le Président de la République a ...  \n",
       "16  [« Le racisme et la haine ne sont pas inscrits...  \n",
       "17  [Nous examinons les crédits des missions Admin...  \n",
       "18  [Toutefois, en démocratie, le résultat d’un sc...  \n",
       "19  [Vendredi, le terrorisme islamiste s’en est pr...  "
      ]
     },
     "execution_count": 39,
     "metadata": {},
     "output_type": "execute_result"
    }
   ],
   "source": [
    "topic_model_better.get_topic_info()[:20]"
   ]
  },
  {
   "cell_type": "code",
   "execution_count": 40,
   "id": "05d4433b",
   "metadata": {},
   "outputs": [
    {
     "data": {
      "application/vnd.plotly.v1+json": {
       "config": {
        "plotlyServerURL": "https://plot.ly"
       },
       "data": [
        {
         "customdata": [
          [
           0,
           "lcole | de | lves | des | les",
           326
          ],
          [
           1,
           "rpublique | vous | la | cest | pas",
           181
          ],
          [
           2,
           "des | de | violences | la | et",
           106
          ],
          [
           3,
           "femmes | de | la | et | des",
           106
          ],
          [
           4,
           "de | des | les | et | la",
           64
          ],
          [
           5,
           "vous | franais | rpublique | et | je",
           47
          ],
          [
           6,
           "rpublicain | rpublicaine | lordre | cest | rpublicains",
           45
          ],
          [
           7,
           "vous | la | de | que | le",
           42
          ],
          [
           8,
           "rpublique | droite | lextrme | la | pas",
           41
          ],
          [
           9,
           "de | services | les | la | des",
           41
          ],
          [
           10,
           "nous | de | que | ne | pas",
           38
          ],
          [
           11,
           "limmigration | de | et | que | le",
           36
          ],
          [
           12,
           "les | de | le | des | en",
           33
          ],
          [
           13,
           "sant | de | soins | les | la",
           31
          ],
          [
           14,
           "police | de | gendarmerie | la | les",
           30
          ],
          [
           15,
           "lantismitisme | racisme | haine | et | contre",
           28
          ],
          [
           16,
           "de | le | que | la | des",
           28
          ],
          [
           17,
           "nouvellecaldonie | lections | caldoniens | lectoral | le",
           27
          ],
          [
           18,
           "paty | samuel | notre | et | nous",
           27
          ],
          [
           19,
           "justice | de | la | des | plus",
           27
          ],
          [
           20,
           "la | et | isral | de | hamas",
           26
          ],
          [
           21,
           "sociale | scurit | de | la | vous",
           26
          ],
          [
           22,
           "sparatisme | rpublique | contre | le | principes",
           26
          ],
          [
           23,
           "larc | rpublicain | barrage | incarn | vous",
           24
          ],
          [
           24,
           "constitution | la | de | du | le",
           23
          ],
          [
           25,
           "associations | dengagement | du | de | la",
           23
          ],
          [
           26,
           "ministre | madame | premire | vous | rpublique",
           22
          ],
          [
           27,
           "mayotte | mahorais | comores | la | de",
           22
          ],
          [
           28,
           "de | et | la | le | des",
           20
          ],
          [
           29,
           "drapeau | le | leurope | europen | tricolore",
           18
          ],
          [
           30,
           "lacit | la | de | et | franais",
           18
          ],
          [
           31,
           "octobre | victimes | 17 | de | la",
           17
          ],
          [
           32,
           "gauche | sestil | policiers | pass | la",
           17
          ],
          [
           33,
           "lacit | religieux | de | la | religion",
           16
          ],
          [
           34,
           "de | la | prison | justice | en",
           15
          ],
          [
           35,
           "polynsie | fonction | publique | lordonnance | franaise",
           14
          ],
          [
           36,
           "lukraine | europenne | leurope | paix | la",
           13
          ],
          [
           37,
           "vous | que | pas | ne | le",
           13
          ],
          [
           38,
           "lexpulsion | sret | trangers | personnes | de",
           13
          ],
          [
           39,
           "langues | langue | rgionales | dans | la",
           13
          ],
          [
           40,
           "police | policiers | sont | scandaleux | vous",
           12
          ],
          [
           41,
           "discriminations | discrimination | de | les | des",
           12
          ],
          [
           42,
           "larmnie | lazerbadjan | hautkarabakh | armniens | armnien",
           12
          ],
          [
           43,
           "de | la | nous | le | que",
           11
          ],
          [
           44,
           "soins | palliatifs | de | le | la",
           11
          ],
          [
           45,
           "rpublique | confirmant | la | dintrts | prsident",
           10
          ],
          [
           46,
           "milliards | aux | la | des | de",
           10
          ]
         ],
         "hovertemplate": "<b>Topic %{customdata[0]}</b><br>%{customdata[1]}<br>Size: %{customdata[2]}",
         "legendgroup": "",
         "marker": {
          "color": "#B0BEC5",
          "line": {
           "color": "DarkSlateGrey",
           "width": 2
          },
          "size": [
           326,
           181,
           106,
           106,
           64,
           47,
           45,
           42,
           41,
           41,
           38,
           36,
           33,
           31,
           30,
           28,
           28,
           27,
           27,
           27,
           26,
           26,
           26,
           24,
           23,
           23,
           22,
           22,
           20,
           18,
           18,
           17,
           17,
           16,
           15,
           14,
           13,
           13,
           13,
           13,
           12,
           12,
           12,
           11,
           11,
           10,
           10
          ],
          "sizemode": "area",
          "sizeref": 0.20375,
          "symbol": "circle"
         },
         "mode": "markers",
         "name": "",
         "orientation": "v",
         "showlegend": false,
         "type": "scatter",
         "x": [
          9.907388,
          5.0980787,
          -2.8287194,
          -2.7142663,
          10.32157,
          13.744084,
          17.241877,
          -1.1329515,
          4.9784946,
          10.168427,
          -1.1772,
          14.245717,
          5.092011,
          -13.077602,
          -2.4849777,
          -2.5200438,
          5.204785,
          -1.9458516,
          7.11723,
          -2.9526317,
          7.0836735,
          10.219651,
          -1.1001077,
          17.241901,
          3.02981,
          1.3974291,
          5.120549,
          14.365946,
          1.3974621,
          13.99808,
          13.954242,
          -3.3930824,
          -1.5941428,
          -1.1388056,
          -2.8514895,
          9.983012,
          -1.4154695,
          -1.2460585,
          -2.9658751,
          13.781247,
          -2.9858115,
          -2.6024964,
          -3.5174336,
          3.0297143,
          -13.123655,
          4.9009256,
          4.994432
         ],
         "xaxis": "x",
         "y": [
          1.5116088,
          20.708883,
          14.40691,
          13.815951,
          1.0970875,
          10.976881,
          3.2841551,
          11.770097,
          20.82813,
          1.2504632,
          12.08275,
          10.644621,
          -5.4226646,
          7.945324,
          14.8472395,
          14.398421,
          -5.53565,
          11.755401,
          14.505796,
          6.3589487,
          14.508597,
          1.1995819,
          11.197661,
          3.284195,
          -2.150235,
          -8.868325,
          20.68624,
          10.413102,
          -8.868318,
          10.841174,
          10.923058,
          15.045267,
          12.05053,
          11.350681,
          6.488462,
          1.435811,
          11.60487,
          11.958081,
          14.481627,
          10.712334,
          14.805317,
          13.746674,
          15.2155285,
          -2.1501105,
          7.899408,
          20.905788,
          -5.3242717
         ],
         "yaxis": "y"
        }
       ],
       "layout": {
        "annotations": [
         {
          "showarrow": false,
          "text": "D1",
          "x": -15.092203617095947,
          "y": 6.921541333198547,
          "yshift": 10
         },
         {
          "showarrow": false,
          "text": "D2",
          "x": 2.367991495132447,
          "xshift": 10,
          "y": 24.041656684875488
         }
        ],
        "height": 650,
        "hoverlabel": {
         "bgcolor": "white",
         "font": {
          "family": "Rockwell",
          "size": 16
         }
        },
        "legend": {
         "itemsizing": "constant",
         "tracegroupgap": 0
        },
        "margin": {
         "t": 60
        },
        "shapes": [
         {
          "line": {
           "color": "#CFD8DC",
           "width": 2
          },
          "type": "line",
          "x0": 2.367991495132447,
          "x1": 2.367991495132447,
          "y0": -10.198574018478393,
          "y1": 24.041656684875488
         },
         {
          "line": {
           "color": "#9E9E9E",
           "width": 2
          },
          "type": "line",
          "x0": -15.092203617095947,
          "x1": 19.82818660736084,
          "y0": 6.921541333198547,
          "y1": 6.921541333198547
         }
        ],
        "sliders": [
         {
          "active": 0,
          "pad": {
           "t": 50
          },
          "steps": [
           {
            "args": [
             {
              "marker.color": [
               [
                "red",
                "#B0BEC5",
                "#B0BEC5",
                "#B0BEC5",
                "#B0BEC5",
                "#B0BEC5",
                "#B0BEC5",
                "#B0BEC5",
                "#B0BEC5",
                "#B0BEC5",
                "#B0BEC5",
                "#B0BEC5",
                "#B0BEC5",
                "#B0BEC5",
                "#B0BEC5",
                "#B0BEC5",
                "#B0BEC5",
                "#B0BEC5",
                "#B0BEC5",
                "#B0BEC5",
                "#B0BEC5",
                "#B0BEC5",
                "#B0BEC5",
                "#B0BEC5",
                "#B0BEC5",
                "#B0BEC5",
                "#B0BEC5",
                "#B0BEC5",
                "#B0BEC5",
                "#B0BEC5",
                "#B0BEC5",
                "#B0BEC5",
                "#B0BEC5",
                "#B0BEC5",
                "#B0BEC5",
                "#B0BEC5",
                "#B0BEC5",
                "#B0BEC5",
                "#B0BEC5",
                "#B0BEC5",
                "#B0BEC5",
                "#B0BEC5",
                "#B0BEC5",
                "#B0BEC5",
                "#B0BEC5",
                "#B0BEC5",
                "#B0BEC5"
               ]
              ]
             }
            ],
            "label": "Topic 0",
            "method": "update"
           },
           {
            "args": [
             {
              "marker.color": [
               [
                "#B0BEC5",
                "red",
                "#B0BEC5",
                "#B0BEC5",
                "#B0BEC5",
                "#B0BEC5",
                "#B0BEC5",
                "#B0BEC5",
                "#B0BEC5",
                "#B0BEC5",
                "#B0BEC5",
                "#B0BEC5",
                "#B0BEC5",
                "#B0BEC5",
                "#B0BEC5",
                "#B0BEC5",
                "#B0BEC5",
                "#B0BEC5",
                "#B0BEC5",
                "#B0BEC5",
                "#B0BEC5",
                "#B0BEC5",
                "#B0BEC5",
                "#B0BEC5",
                "#B0BEC5",
                "#B0BEC5",
                "#B0BEC5",
                "#B0BEC5",
                "#B0BEC5",
                "#B0BEC5",
                "#B0BEC5",
                "#B0BEC5",
                "#B0BEC5",
                "#B0BEC5",
                "#B0BEC5",
                "#B0BEC5",
                "#B0BEC5",
                "#B0BEC5",
                "#B0BEC5",
                "#B0BEC5",
                "#B0BEC5",
                "#B0BEC5",
                "#B0BEC5",
                "#B0BEC5",
                "#B0BEC5",
                "#B0BEC5",
                "#B0BEC5"
               ]
              ]
             }
            ],
            "label": "Topic 1",
            "method": "update"
           },
           {
            "args": [
             {
              "marker.color": [
               [
                "#B0BEC5",
                "#B0BEC5",
                "red",
                "#B0BEC5",
                "#B0BEC5",
                "#B0BEC5",
                "#B0BEC5",
                "#B0BEC5",
                "#B0BEC5",
                "#B0BEC5",
                "#B0BEC5",
                "#B0BEC5",
                "#B0BEC5",
                "#B0BEC5",
                "#B0BEC5",
                "#B0BEC5",
                "#B0BEC5",
                "#B0BEC5",
                "#B0BEC5",
                "#B0BEC5",
                "#B0BEC5",
                "#B0BEC5",
                "#B0BEC5",
                "#B0BEC5",
                "#B0BEC5",
                "#B0BEC5",
                "#B0BEC5",
                "#B0BEC5",
                "#B0BEC5",
                "#B0BEC5",
                "#B0BEC5",
                "#B0BEC5",
                "#B0BEC5",
                "#B0BEC5",
                "#B0BEC5",
                "#B0BEC5",
                "#B0BEC5",
                "#B0BEC5",
                "#B0BEC5",
                "#B0BEC5",
                "#B0BEC5",
                "#B0BEC5",
                "#B0BEC5",
                "#B0BEC5",
                "#B0BEC5",
                "#B0BEC5",
                "#B0BEC5"
               ]
              ]
             }
            ],
            "label": "Topic 2",
            "method": "update"
           },
           {
            "args": [
             {
              "marker.color": [
               [
                "#B0BEC5",
                "#B0BEC5",
                "#B0BEC5",
                "red",
                "#B0BEC5",
                "#B0BEC5",
                "#B0BEC5",
                "#B0BEC5",
                "#B0BEC5",
                "#B0BEC5",
                "#B0BEC5",
                "#B0BEC5",
                "#B0BEC5",
                "#B0BEC5",
                "#B0BEC5",
                "#B0BEC5",
                "#B0BEC5",
                "#B0BEC5",
                "#B0BEC5",
                "#B0BEC5",
                "#B0BEC5",
                "#B0BEC5",
                "#B0BEC5",
                "#B0BEC5",
                "#B0BEC5",
                "#B0BEC5",
                "#B0BEC5",
                "#B0BEC5",
                "#B0BEC5",
                "#B0BEC5",
                "#B0BEC5",
                "#B0BEC5",
                "#B0BEC5",
                "#B0BEC5",
                "#B0BEC5",
                "#B0BEC5",
                "#B0BEC5",
                "#B0BEC5",
                "#B0BEC5",
                "#B0BEC5",
                "#B0BEC5",
                "#B0BEC5",
                "#B0BEC5",
                "#B0BEC5",
                "#B0BEC5",
                "#B0BEC5",
                "#B0BEC5"
               ]
              ]
             }
            ],
            "label": "Topic 3",
            "method": "update"
           },
           {
            "args": [
             {
              "marker.color": [
               [
                "#B0BEC5",
                "#B0BEC5",
                "#B0BEC5",
                "#B0BEC5",
                "red",
                "#B0BEC5",
                "#B0BEC5",
                "#B0BEC5",
                "#B0BEC5",
                "#B0BEC5",
                "#B0BEC5",
                "#B0BEC5",
                "#B0BEC5",
                "#B0BEC5",
                "#B0BEC5",
                "#B0BEC5",
                "#B0BEC5",
                "#B0BEC5",
                "#B0BEC5",
                "#B0BEC5",
                "#B0BEC5",
                "#B0BEC5",
                "#B0BEC5",
                "#B0BEC5",
                "#B0BEC5",
                "#B0BEC5",
                "#B0BEC5",
                "#B0BEC5",
                "#B0BEC5",
                "#B0BEC5",
                "#B0BEC5",
                "#B0BEC5",
                "#B0BEC5",
                "#B0BEC5",
                "#B0BEC5",
                "#B0BEC5",
                "#B0BEC5",
                "#B0BEC5",
                "#B0BEC5",
                "#B0BEC5",
                "#B0BEC5",
                "#B0BEC5",
                "#B0BEC5",
                "#B0BEC5",
                "#B0BEC5",
                "#B0BEC5",
                "#B0BEC5"
               ]
              ]
             }
            ],
            "label": "Topic 4",
            "method": "update"
           },
           {
            "args": [
             {
              "marker.color": [
               [
                "#B0BEC5",
                "#B0BEC5",
                "#B0BEC5",
                "#B0BEC5",
                "#B0BEC5",
                "red",
                "#B0BEC5",
                "#B0BEC5",
                "#B0BEC5",
                "#B0BEC5",
                "#B0BEC5",
                "#B0BEC5",
                "#B0BEC5",
                "#B0BEC5",
                "#B0BEC5",
                "#B0BEC5",
                "#B0BEC5",
                "#B0BEC5",
                "#B0BEC5",
                "#B0BEC5",
                "#B0BEC5",
                "#B0BEC5",
                "#B0BEC5",
                "#B0BEC5",
                "#B0BEC5",
                "#B0BEC5",
                "#B0BEC5",
                "#B0BEC5",
                "#B0BEC5",
                "#B0BEC5",
                "#B0BEC5",
                "#B0BEC5",
                "#B0BEC5",
                "#B0BEC5",
                "#B0BEC5",
                "#B0BEC5",
                "#B0BEC5",
                "#B0BEC5",
                "#B0BEC5",
                "#B0BEC5",
                "#B0BEC5",
                "#B0BEC5",
                "#B0BEC5",
                "#B0BEC5",
                "#B0BEC5",
                "#B0BEC5",
                "#B0BEC5"
               ]
              ]
             }
            ],
            "label": "Topic 5",
            "method": "update"
           },
           {
            "args": [
             {
              "marker.color": [
               [
                "#B0BEC5",
                "#B0BEC5",
                "#B0BEC5",
                "#B0BEC5",
                "#B0BEC5",
                "#B0BEC5",
                "red",
                "#B0BEC5",
                "#B0BEC5",
                "#B0BEC5",
                "#B0BEC5",
                "#B0BEC5",
                "#B0BEC5",
                "#B0BEC5",
                "#B0BEC5",
                "#B0BEC5",
                "#B0BEC5",
                "#B0BEC5",
                "#B0BEC5",
                "#B0BEC5",
                "#B0BEC5",
                "#B0BEC5",
                "#B0BEC5",
                "#B0BEC5",
                "#B0BEC5",
                "#B0BEC5",
                "#B0BEC5",
                "#B0BEC5",
                "#B0BEC5",
                "#B0BEC5",
                "#B0BEC5",
                "#B0BEC5",
                "#B0BEC5",
                "#B0BEC5",
                "#B0BEC5",
                "#B0BEC5",
                "#B0BEC5",
                "#B0BEC5",
                "#B0BEC5",
                "#B0BEC5",
                "#B0BEC5",
                "#B0BEC5",
                "#B0BEC5",
                "#B0BEC5",
                "#B0BEC5",
                "#B0BEC5",
                "#B0BEC5"
               ]
              ]
             }
            ],
            "label": "Topic 6",
            "method": "update"
           },
           {
            "args": [
             {
              "marker.color": [
               [
                "#B0BEC5",
                "#B0BEC5",
                "#B0BEC5",
                "#B0BEC5",
                "#B0BEC5",
                "#B0BEC5",
                "#B0BEC5",
                "red",
                "#B0BEC5",
                "#B0BEC5",
                "#B0BEC5",
                "#B0BEC5",
                "#B0BEC5",
                "#B0BEC5",
                "#B0BEC5",
                "#B0BEC5",
                "#B0BEC5",
                "#B0BEC5",
                "#B0BEC5",
                "#B0BEC5",
                "#B0BEC5",
                "#B0BEC5",
                "#B0BEC5",
                "#B0BEC5",
                "#B0BEC5",
                "#B0BEC5",
                "#B0BEC5",
                "#B0BEC5",
                "#B0BEC5",
                "#B0BEC5",
                "#B0BEC5",
                "#B0BEC5",
                "#B0BEC5",
                "#B0BEC5",
                "#B0BEC5",
                "#B0BEC5",
                "#B0BEC5",
                "#B0BEC5",
                "#B0BEC5",
                "#B0BEC5",
                "#B0BEC5",
                "#B0BEC5",
                "#B0BEC5",
                "#B0BEC5",
                "#B0BEC5",
                "#B0BEC5",
                "#B0BEC5"
               ]
              ]
             }
            ],
            "label": "Topic 7",
            "method": "update"
           },
           {
            "args": [
             {
              "marker.color": [
               [
                "#B0BEC5",
                "#B0BEC5",
                "#B0BEC5",
                "#B0BEC5",
                "#B0BEC5",
                "#B0BEC5",
                "#B0BEC5",
                "#B0BEC5",
                "red",
                "#B0BEC5",
                "#B0BEC5",
                "#B0BEC5",
                "#B0BEC5",
                "#B0BEC5",
                "#B0BEC5",
                "#B0BEC5",
                "#B0BEC5",
                "#B0BEC5",
                "#B0BEC5",
                "#B0BEC5",
                "#B0BEC5",
                "#B0BEC5",
                "#B0BEC5",
                "#B0BEC5",
                "#B0BEC5",
                "#B0BEC5",
                "#B0BEC5",
                "#B0BEC5",
                "#B0BEC5",
                "#B0BEC5",
                "#B0BEC5",
                "#B0BEC5",
                "#B0BEC5",
                "#B0BEC5",
                "#B0BEC5",
                "#B0BEC5",
                "#B0BEC5",
                "#B0BEC5",
                "#B0BEC5",
                "#B0BEC5",
                "#B0BEC5",
                "#B0BEC5",
                "#B0BEC5",
                "#B0BEC5",
                "#B0BEC5",
                "#B0BEC5",
                "#B0BEC5"
               ]
              ]
             }
            ],
            "label": "Topic 8",
            "method": "update"
           },
           {
            "args": [
             {
              "marker.color": [
               [
                "#B0BEC5",
                "#B0BEC5",
                "#B0BEC5",
                "#B0BEC5",
                "#B0BEC5",
                "#B0BEC5",
                "#B0BEC5",
                "#B0BEC5",
                "#B0BEC5",
                "red",
                "#B0BEC5",
                "#B0BEC5",
                "#B0BEC5",
                "#B0BEC5",
                "#B0BEC5",
                "#B0BEC5",
                "#B0BEC5",
                "#B0BEC5",
                "#B0BEC5",
                "#B0BEC5",
                "#B0BEC5",
                "#B0BEC5",
                "#B0BEC5",
                "#B0BEC5",
                "#B0BEC5",
                "#B0BEC5",
                "#B0BEC5",
                "#B0BEC5",
                "#B0BEC5",
                "#B0BEC5",
                "#B0BEC5",
                "#B0BEC5",
                "#B0BEC5",
                "#B0BEC5",
                "#B0BEC5",
                "#B0BEC5",
                "#B0BEC5",
                "#B0BEC5",
                "#B0BEC5",
                "#B0BEC5",
                "#B0BEC5",
                "#B0BEC5",
                "#B0BEC5",
                "#B0BEC5",
                "#B0BEC5",
                "#B0BEC5",
                "#B0BEC5"
               ]
              ]
             }
            ],
            "label": "Topic 9",
            "method": "update"
           },
           {
            "args": [
             {
              "marker.color": [
               [
                "#B0BEC5",
                "#B0BEC5",
                "#B0BEC5",
                "#B0BEC5",
                "#B0BEC5",
                "#B0BEC5",
                "#B0BEC5",
                "#B0BEC5",
                "#B0BEC5",
                "#B0BEC5",
                "red",
                "#B0BEC5",
                "#B0BEC5",
                "#B0BEC5",
                "#B0BEC5",
                "#B0BEC5",
                "#B0BEC5",
                "#B0BEC5",
                "#B0BEC5",
                "#B0BEC5",
                "#B0BEC5",
                "#B0BEC5",
                "#B0BEC5",
                "#B0BEC5",
                "#B0BEC5",
                "#B0BEC5",
                "#B0BEC5",
                "#B0BEC5",
                "#B0BEC5",
                "#B0BEC5",
                "#B0BEC5",
                "#B0BEC5",
                "#B0BEC5",
                "#B0BEC5",
                "#B0BEC5",
                "#B0BEC5",
                "#B0BEC5",
                "#B0BEC5",
                "#B0BEC5",
                "#B0BEC5",
                "#B0BEC5",
                "#B0BEC5",
                "#B0BEC5",
                "#B0BEC5",
                "#B0BEC5",
                "#B0BEC5",
                "#B0BEC5"
               ]
              ]
             }
            ],
            "label": "Topic 10",
            "method": "update"
           },
           {
            "args": [
             {
              "marker.color": [
               [
                "#B0BEC5",
                "#B0BEC5",
                "#B0BEC5",
                "#B0BEC5",
                "#B0BEC5",
                "#B0BEC5",
                "#B0BEC5",
                "#B0BEC5",
                "#B0BEC5",
                "#B0BEC5",
                "#B0BEC5",
                "red",
                "#B0BEC5",
                "#B0BEC5",
                "#B0BEC5",
                "#B0BEC5",
                "#B0BEC5",
                "#B0BEC5",
                "#B0BEC5",
                "#B0BEC5",
                "#B0BEC5",
                "#B0BEC5",
                "#B0BEC5",
                "#B0BEC5",
                "#B0BEC5",
                "#B0BEC5",
                "#B0BEC5",
                "#B0BEC5",
                "#B0BEC5",
                "#B0BEC5",
                "#B0BEC5",
                "#B0BEC5",
                "#B0BEC5",
                "#B0BEC5",
                "#B0BEC5",
                "#B0BEC5",
                "#B0BEC5",
                "#B0BEC5",
                "#B0BEC5",
                "#B0BEC5",
                "#B0BEC5",
                "#B0BEC5",
                "#B0BEC5",
                "#B0BEC5",
                "#B0BEC5",
                "#B0BEC5",
                "#B0BEC5"
               ]
              ]
             }
            ],
            "label": "Topic 11",
            "method": "update"
           },
           {
            "args": [
             {
              "marker.color": [
               [
                "#B0BEC5",
                "#B0BEC5",
                "#B0BEC5",
                "#B0BEC5",
                "#B0BEC5",
                "#B0BEC5",
                "#B0BEC5",
                "#B0BEC5",
                "#B0BEC5",
                "#B0BEC5",
                "#B0BEC5",
                "#B0BEC5",
                "red",
                "#B0BEC5",
                "#B0BEC5",
                "#B0BEC5",
                "#B0BEC5",
                "#B0BEC5",
                "#B0BEC5",
                "#B0BEC5",
                "#B0BEC5",
                "#B0BEC5",
                "#B0BEC5",
                "#B0BEC5",
                "#B0BEC5",
                "#B0BEC5",
                "#B0BEC5",
                "#B0BEC5",
                "#B0BEC5",
                "#B0BEC5",
                "#B0BEC5",
                "#B0BEC5",
                "#B0BEC5",
                "#B0BEC5",
                "#B0BEC5",
                "#B0BEC5",
                "#B0BEC5",
                "#B0BEC5",
                "#B0BEC5",
                "#B0BEC5",
                "#B0BEC5",
                "#B0BEC5",
                "#B0BEC5",
                "#B0BEC5",
                "#B0BEC5",
                "#B0BEC5",
                "#B0BEC5"
               ]
              ]
             }
            ],
            "label": "Topic 12",
            "method": "update"
           },
           {
            "args": [
             {
              "marker.color": [
               [
                "#B0BEC5",
                "#B0BEC5",
                "#B0BEC5",
                "#B0BEC5",
                "#B0BEC5",
                "#B0BEC5",
                "#B0BEC5",
                "#B0BEC5",
                "#B0BEC5",
                "#B0BEC5",
                "#B0BEC5",
                "#B0BEC5",
                "#B0BEC5",
                "red",
                "#B0BEC5",
                "#B0BEC5",
                "#B0BEC5",
                "#B0BEC5",
                "#B0BEC5",
                "#B0BEC5",
                "#B0BEC5",
                "#B0BEC5",
                "#B0BEC5",
                "#B0BEC5",
                "#B0BEC5",
                "#B0BEC5",
                "#B0BEC5",
                "#B0BEC5",
                "#B0BEC5",
                "#B0BEC5",
                "#B0BEC5",
                "#B0BEC5",
                "#B0BEC5",
                "#B0BEC5",
                "#B0BEC5",
                "#B0BEC5",
                "#B0BEC5",
                "#B0BEC5",
                "#B0BEC5",
                "#B0BEC5",
                "#B0BEC5",
                "#B0BEC5",
                "#B0BEC5",
                "#B0BEC5",
                "#B0BEC5",
                "#B0BEC5",
                "#B0BEC5"
               ]
              ]
             }
            ],
            "label": "Topic 13",
            "method": "update"
           },
           {
            "args": [
             {
              "marker.color": [
               [
                "#B0BEC5",
                "#B0BEC5",
                "#B0BEC5",
                "#B0BEC5",
                "#B0BEC5",
                "#B0BEC5",
                "#B0BEC5",
                "#B0BEC5",
                "#B0BEC5",
                "#B0BEC5",
                "#B0BEC5",
                "#B0BEC5",
                "#B0BEC5",
                "#B0BEC5",
                "red",
                "#B0BEC5",
                "#B0BEC5",
                "#B0BEC5",
                "#B0BEC5",
                "#B0BEC5",
                "#B0BEC5",
                "#B0BEC5",
                "#B0BEC5",
                "#B0BEC5",
                "#B0BEC5",
                "#B0BEC5",
                "#B0BEC5",
                "#B0BEC5",
                "#B0BEC5",
                "#B0BEC5",
                "#B0BEC5",
                "#B0BEC5",
                "#B0BEC5",
                "#B0BEC5",
                "#B0BEC5",
                "#B0BEC5",
                "#B0BEC5",
                "#B0BEC5",
                "#B0BEC5",
                "#B0BEC5",
                "#B0BEC5",
                "#B0BEC5",
                "#B0BEC5",
                "#B0BEC5",
                "#B0BEC5",
                "#B0BEC5",
                "#B0BEC5"
               ]
              ]
             }
            ],
            "label": "Topic 14",
            "method": "update"
           },
           {
            "args": [
             {
              "marker.color": [
               [
                "#B0BEC5",
                "#B0BEC5",
                "#B0BEC5",
                "#B0BEC5",
                "#B0BEC5",
                "#B0BEC5",
                "#B0BEC5",
                "#B0BEC5",
                "#B0BEC5",
                "#B0BEC5",
                "#B0BEC5",
                "#B0BEC5",
                "#B0BEC5",
                "#B0BEC5",
                "#B0BEC5",
                "red",
                "#B0BEC5",
                "#B0BEC5",
                "#B0BEC5",
                "#B0BEC5",
                "#B0BEC5",
                "#B0BEC5",
                "#B0BEC5",
                "#B0BEC5",
                "#B0BEC5",
                "#B0BEC5",
                "#B0BEC5",
                "#B0BEC5",
                "#B0BEC5",
                "#B0BEC5",
                "#B0BEC5",
                "#B0BEC5",
                "#B0BEC5",
                "#B0BEC5",
                "#B0BEC5",
                "#B0BEC5",
                "#B0BEC5",
                "#B0BEC5",
                "#B0BEC5",
                "#B0BEC5",
                "#B0BEC5",
                "#B0BEC5",
                "#B0BEC5",
                "#B0BEC5",
                "#B0BEC5",
                "#B0BEC5",
                "#B0BEC5"
               ]
              ]
             }
            ],
            "label": "Topic 15",
            "method": "update"
           },
           {
            "args": [
             {
              "marker.color": [
               [
                "#B0BEC5",
                "#B0BEC5",
                "#B0BEC5",
                "#B0BEC5",
                "#B0BEC5",
                "#B0BEC5",
                "#B0BEC5",
                "#B0BEC5",
                "#B0BEC5",
                "#B0BEC5",
                "#B0BEC5",
                "#B0BEC5",
                "#B0BEC5",
                "#B0BEC5",
                "#B0BEC5",
                "#B0BEC5",
                "red",
                "#B0BEC5",
                "#B0BEC5",
                "#B0BEC5",
                "#B0BEC5",
                "#B0BEC5",
                "#B0BEC5",
                "#B0BEC5",
                "#B0BEC5",
                "#B0BEC5",
                "#B0BEC5",
                "#B0BEC5",
                "#B0BEC5",
                "#B0BEC5",
                "#B0BEC5",
                "#B0BEC5",
                "#B0BEC5",
                "#B0BEC5",
                "#B0BEC5",
                "#B0BEC5",
                "#B0BEC5",
                "#B0BEC5",
                "#B0BEC5",
                "#B0BEC5",
                "#B0BEC5",
                "#B0BEC5",
                "#B0BEC5",
                "#B0BEC5",
                "#B0BEC5",
                "#B0BEC5",
                "#B0BEC5"
               ]
              ]
             }
            ],
            "label": "Topic 16",
            "method": "update"
           },
           {
            "args": [
             {
              "marker.color": [
               [
                "#B0BEC5",
                "#B0BEC5",
                "#B0BEC5",
                "#B0BEC5",
                "#B0BEC5",
                "#B0BEC5",
                "#B0BEC5",
                "#B0BEC5",
                "#B0BEC5",
                "#B0BEC5",
                "#B0BEC5",
                "#B0BEC5",
                "#B0BEC5",
                "#B0BEC5",
                "#B0BEC5",
                "#B0BEC5",
                "#B0BEC5",
                "red",
                "#B0BEC5",
                "#B0BEC5",
                "#B0BEC5",
                "#B0BEC5",
                "#B0BEC5",
                "#B0BEC5",
                "#B0BEC5",
                "#B0BEC5",
                "#B0BEC5",
                "#B0BEC5",
                "#B0BEC5",
                "#B0BEC5",
                "#B0BEC5",
                "#B0BEC5",
                "#B0BEC5",
                "#B0BEC5",
                "#B0BEC5",
                "#B0BEC5",
                "#B0BEC5",
                "#B0BEC5",
                "#B0BEC5",
                "#B0BEC5",
                "#B0BEC5",
                "#B0BEC5",
                "#B0BEC5",
                "#B0BEC5",
                "#B0BEC5",
                "#B0BEC5",
                "#B0BEC5"
               ]
              ]
             }
            ],
            "label": "Topic 17",
            "method": "update"
           },
           {
            "args": [
             {
              "marker.color": [
               [
                "#B0BEC5",
                "#B0BEC5",
                "#B0BEC5",
                "#B0BEC5",
                "#B0BEC5",
                "#B0BEC5",
                "#B0BEC5",
                "#B0BEC5",
                "#B0BEC5",
                "#B0BEC5",
                "#B0BEC5",
                "#B0BEC5",
                "#B0BEC5",
                "#B0BEC5",
                "#B0BEC5",
                "#B0BEC5",
                "#B0BEC5",
                "#B0BEC5",
                "red",
                "#B0BEC5",
                "#B0BEC5",
                "#B0BEC5",
                "#B0BEC5",
                "#B0BEC5",
                "#B0BEC5",
                "#B0BEC5",
                "#B0BEC5",
                "#B0BEC5",
                "#B0BEC5",
                "#B0BEC5",
                "#B0BEC5",
                "#B0BEC5",
                "#B0BEC5",
                "#B0BEC5",
                "#B0BEC5",
                "#B0BEC5",
                "#B0BEC5",
                "#B0BEC5",
                "#B0BEC5",
                "#B0BEC5",
                "#B0BEC5",
                "#B0BEC5",
                "#B0BEC5",
                "#B0BEC5",
                "#B0BEC5",
                "#B0BEC5",
                "#B0BEC5"
               ]
              ]
             }
            ],
            "label": "Topic 18",
            "method": "update"
           },
           {
            "args": [
             {
              "marker.color": [
               [
                "#B0BEC5",
                "#B0BEC5",
                "#B0BEC5",
                "#B0BEC5",
                "#B0BEC5",
                "#B0BEC5",
                "#B0BEC5",
                "#B0BEC5",
                "#B0BEC5",
                "#B0BEC5",
                "#B0BEC5",
                "#B0BEC5",
                "#B0BEC5",
                "#B0BEC5",
                "#B0BEC5",
                "#B0BEC5",
                "#B0BEC5",
                "#B0BEC5",
                "#B0BEC5",
                "red",
                "#B0BEC5",
                "#B0BEC5",
                "#B0BEC5",
                "#B0BEC5",
                "#B0BEC5",
                "#B0BEC5",
                "#B0BEC5",
                "#B0BEC5",
                "#B0BEC5",
                "#B0BEC5",
                "#B0BEC5",
                "#B0BEC5",
                "#B0BEC5",
                "#B0BEC5",
                "#B0BEC5",
                "#B0BEC5",
                "#B0BEC5",
                "#B0BEC5",
                "#B0BEC5",
                "#B0BEC5",
                "#B0BEC5",
                "#B0BEC5",
                "#B0BEC5",
                "#B0BEC5",
                "#B0BEC5",
                "#B0BEC5",
                "#B0BEC5"
               ]
              ]
             }
            ],
            "label": "Topic 19",
            "method": "update"
           },
           {
            "args": [
             {
              "marker.color": [
               [
                "#B0BEC5",
                "#B0BEC5",
                "#B0BEC5",
                "#B0BEC5",
                "#B0BEC5",
                "#B0BEC5",
                "#B0BEC5",
                "#B0BEC5",
                "#B0BEC5",
                "#B0BEC5",
                "#B0BEC5",
                "#B0BEC5",
                "#B0BEC5",
                "#B0BEC5",
                "#B0BEC5",
                "#B0BEC5",
                "#B0BEC5",
                "#B0BEC5",
                "#B0BEC5",
                "#B0BEC5",
                "red",
                "#B0BEC5",
                "#B0BEC5",
                "#B0BEC5",
                "#B0BEC5",
                "#B0BEC5",
                "#B0BEC5",
                "#B0BEC5",
                "#B0BEC5",
                "#B0BEC5",
                "#B0BEC5",
                "#B0BEC5",
                "#B0BEC5",
                "#B0BEC5",
                "#B0BEC5",
                "#B0BEC5",
                "#B0BEC5",
                "#B0BEC5",
                "#B0BEC5",
                "#B0BEC5",
                "#B0BEC5",
                "#B0BEC5",
                "#B0BEC5",
                "#B0BEC5",
                "#B0BEC5",
                "#B0BEC5",
                "#B0BEC5"
               ]
              ]
             }
            ],
            "label": "Topic 20",
            "method": "update"
           },
           {
            "args": [
             {
              "marker.color": [
               [
                "#B0BEC5",
                "#B0BEC5",
                "#B0BEC5",
                "#B0BEC5",
                "#B0BEC5",
                "#B0BEC5",
                "#B0BEC5",
                "#B0BEC5",
                "#B0BEC5",
                "#B0BEC5",
                "#B0BEC5",
                "#B0BEC5",
                "#B0BEC5",
                "#B0BEC5",
                "#B0BEC5",
                "#B0BEC5",
                "#B0BEC5",
                "#B0BEC5",
                "#B0BEC5",
                "#B0BEC5",
                "#B0BEC5",
                "red",
                "#B0BEC5",
                "#B0BEC5",
                "#B0BEC5",
                "#B0BEC5",
                "#B0BEC5",
                "#B0BEC5",
                "#B0BEC5",
                "#B0BEC5",
                "#B0BEC5",
                "#B0BEC5",
                "#B0BEC5",
                "#B0BEC5",
                "#B0BEC5",
                "#B0BEC5",
                "#B0BEC5",
                "#B0BEC5",
                "#B0BEC5",
                "#B0BEC5",
                "#B0BEC5",
                "#B0BEC5",
                "#B0BEC5",
                "#B0BEC5",
                "#B0BEC5",
                "#B0BEC5",
                "#B0BEC5"
               ]
              ]
             }
            ],
            "label": "Topic 21",
            "method": "update"
           },
           {
            "args": [
             {
              "marker.color": [
               [
                "#B0BEC5",
                "#B0BEC5",
                "#B0BEC5",
                "#B0BEC5",
                "#B0BEC5",
                "#B0BEC5",
                "#B0BEC5",
                "#B0BEC5",
                "#B0BEC5",
                "#B0BEC5",
                "#B0BEC5",
                "#B0BEC5",
                "#B0BEC5",
                "#B0BEC5",
                "#B0BEC5",
                "#B0BEC5",
                "#B0BEC5",
                "#B0BEC5",
                "#B0BEC5",
                "#B0BEC5",
                "#B0BEC5",
                "#B0BEC5",
                "red",
                "#B0BEC5",
                "#B0BEC5",
                "#B0BEC5",
                "#B0BEC5",
                "#B0BEC5",
                "#B0BEC5",
                "#B0BEC5",
                "#B0BEC5",
                "#B0BEC5",
                "#B0BEC5",
                "#B0BEC5",
                "#B0BEC5",
                "#B0BEC5",
                "#B0BEC5",
                "#B0BEC5",
                "#B0BEC5",
                "#B0BEC5",
                "#B0BEC5",
                "#B0BEC5",
                "#B0BEC5",
                "#B0BEC5",
                "#B0BEC5",
                "#B0BEC5",
                "#B0BEC5"
               ]
              ]
             }
            ],
            "label": "Topic 22",
            "method": "update"
           },
           {
            "args": [
             {
              "marker.color": [
               [
                "#B0BEC5",
                "#B0BEC5",
                "#B0BEC5",
                "#B0BEC5",
                "#B0BEC5",
                "#B0BEC5",
                "#B0BEC5",
                "#B0BEC5",
                "#B0BEC5",
                "#B0BEC5",
                "#B0BEC5",
                "#B0BEC5",
                "#B0BEC5",
                "#B0BEC5",
                "#B0BEC5",
                "#B0BEC5",
                "#B0BEC5",
                "#B0BEC5",
                "#B0BEC5",
                "#B0BEC5",
                "#B0BEC5",
                "#B0BEC5",
                "#B0BEC5",
                "red",
                "#B0BEC5",
                "#B0BEC5",
                "#B0BEC5",
                "#B0BEC5",
                "#B0BEC5",
                "#B0BEC5",
                "#B0BEC5",
                "#B0BEC5",
                "#B0BEC5",
                "#B0BEC5",
                "#B0BEC5",
                "#B0BEC5",
                "#B0BEC5",
                "#B0BEC5",
                "#B0BEC5",
                "#B0BEC5",
                "#B0BEC5",
                "#B0BEC5",
                "#B0BEC5",
                "#B0BEC5",
                "#B0BEC5",
                "#B0BEC5",
                "#B0BEC5"
               ]
              ]
             }
            ],
            "label": "Topic 23",
            "method": "update"
           },
           {
            "args": [
             {
              "marker.color": [
               [
                "#B0BEC5",
                "#B0BEC5",
                "#B0BEC5",
                "#B0BEC5",
                "#B0BEC5",
                "#B0BEC5",
                "#B0BEC5",
                "#B0BEC5",
                "#B0BEC5",
                "#B0BEC5",
                "#B0BEC5",
                "#B0BEC5",
                "#B0BEC5",
                "#B0BEC5",
                "#B0BEC5",
                "#B0BEC5",
                "#B0BEC5",
                "#B0BEC5",
                "#B0BEC5",
                "#B0BEC5",
                "#B0BEC5",
                "#B0BEC5",
                "#B0BEC5",
                "#B0BEC5",
                "red",
                "#B0BEC5",
                "#B0BEC5",
                "#B0BEC5",
                "#B0BEC5",
                "#B0BEC5",
                "#B0BEC5",
                "#B0BEC5",
                "#B0BEC5",
                "#B0BEC5",
                "#B0BEC5",
                "#B0BEC5",
                "#B0BEC5",
                "#B0BEC5",
                "#B0BEC5",
                "#B0BEC5",
                "#B0BEC5",
                "#B0BEC5",
                "#B0BEC5",
                "#B0BEC5",
                "#B0BEC5",
                "#B0BEC5",
                "#B0BEC5"
               ]
              ]
             }
            ],
            "label": "Topic 24",
            "method": "update"
           },
           {
            "args": [
             {
              "marker.color": [
               [
                "#B0BEC5",
                "#B0BEC5",
                "#B0BEC5",
                "#B0BEC5",
                "#B0BEC5",
                "#B0BEC5",
                "#B0BEC5",
                "#B0BEC5",
                "#B0BEC5",
                "#B0BEC5",
                "#B0BEC5",
                "#B0BEC5",
                "#B0BEC5",
                "#B0BEC5",
                "#B0BEC5",
                "#B0BEC5",
                "#B0BEC5",
                "#B0BEC5",
                "#B0BEC5",
                "#B0BEC5",
                "#B0BEC5",
                "#B0BEC5",
                "#B0BEC5",
                "#B0BEC5",
                "#B0BEC5",
                "red",
                "#B0BEC5",
                "#B0BEC5",
                "#B0BEC5",
                "#B0BEC5",
                "#B0BEC5",
                "#B0BEC5",
                "#B0BEC5",
                "#B0BEC5",
                "#B0BEC5",
                "#B0BEC5",
                "#B0BEC5",
                "#B0BEC5",
                "#B0BEC5",
                "#B0BEC5",
                "#B0BEC5",
                "#B0BEC5",
                "#B0BEC5",
                "#B0BEC5",
                "#B0BEC5",
                "#B0BEC5",
                "#B0BEC5"
               ]
              ]
             }
            ],
            "label": "Topic 25",
            "method": "update"
           },
           {
            "args": [
             {
              "marker.color": [
               [
                "#B0BEC5",
                "#B0BEC5",
                "#B0BEC5",
                "#B0BEC5",
                "#B0BEC5",
                "#B0BEC5",
                "#B0BEC5",
                "#B0BEC5",
                "#B0BEC5",
                "#B0BEC5",
                "#B0BEC5",
                "#B0BEC5",
                "#B0BEC5",
                "#B0BEC5",
                "#B0BEC5",
                "#B0BEC5",
                "#B0BEC5",
                "#B0BEC5",
                "#B0BEC5",
                "#B0BEC5",
                "#B0BEC5",
                "#B0BEC5",
                "#B0BEC5",
                "#B0BEC5",
                "#B0BEC5",
                "#B0BEC5",
                "red",
                "#B0BEC5",
                "#B0BEC5",
                "#B0BEC5",
                "#B0BEC5",
                "#B0BEC5",
                "#B0BEC5",
                "#B0BEC5",
                "#B0BEC5",
                "#B0BEC5",
                "#B0BEC5",
                "#B0BEC5",
                "#B0BEC5",
                "#B0BEC5",
                "#B0BEC5",
                "#B0BEC5",
                "#B0BEC5",
                "#B0BEC5",
                "#B0BEC5",
                "#B0BEC5",
                "#B0BEC5"
               ]
              ]
             }
            ],
            "label": "Topic 26",
            "method": "update"
           },
           {
            "args": [
             {
              "marker.color": [
               [
                "#B0BEC5",
                "#B0BEC5",
                "#B0BEC5",
                "#B0BEC5",
                "#B0BEC5",
                "#B0BEC5",
                "#B0BEC5",
                "#B0BEC5",
                "#B0BEC5",
                "#B0BEC5",
                "#B0BEC5",
                "#B0BEC5",
                "#B0BEC5",
                "#B0BEC5",
                "#B0BEC5",
                "#B0BEC5",
                "#B0BEC5",
                "#B0BEC5",
                "#B0BEC5",
                "#B0BEC5",
                "#B0BEC5",
                "#B0BEC5",
                "#B0BEC5",
                "#B0BEC5",
                "#B0BEC5",
                "#B0BEC5",
                "#B0BEC5",
                "red",
                "#B0BEC5",
                "#B0BEC5",
                "#B0BEC5",
                "#B0BEC5",
                "#B0BEC5",
                "#B0BEC5",
                "#B0BEC5",
                "#B0BEC5",
                "#B0BEC5",
                "#B0BEC5",
                "#B0BEC5",
                "#B0BEC5",
                "#B0BEC5",
                "#B0BEC5",
                "#B0BEC5",
                "#B0BEC5",
                "#B0BEC5",
                "#B0BEC5",
                "#B0BEC5"
               ]
              ]
             }
            ],
            "label": "Topic 27",
            "method": "update"
           },
           {
            "args": [
             {
              "marker.color": [
               [
                "#B0BEC5",
                "#B0BEC5",
                "#B0BEC5",
                "#B0BEC5",
                "#B0BEC5",
                "#B0BEC5",
                "#B0BEC5",
                "#B0BEC5",
                "#B0BEC5",
                "#B0BEC5",
                "#B0BEC5",
                "#B0BEC5",
                "#B0BEC5",
                "#B0BEC5",
                "#B0BEC5",
                "#B0BEC5",
                "#B0BEC5",
                "#B0BEC5",
                "#B0BEC5",
                "#B0BEC5",
                "#B0BEC5",
                "#B0BEC5",
                "#B0BEC5",
                "#B0BEC5",
                "#B0BEC5",
                "#B0BEC5",
                "#B0BEC5",
                "#B0BEC5",
                "red",
                "#B0BEC5",
                "#B0BEC5",
                "#B0BEC5",
                "#B0BEC5",
                "#B0BEC5",
                "#B0BEC5",
                "#B0BEC5",
                "#B0BEC5",
                "#B0BEC5",
                "#B0BEC5",
                "#B0BEC5",
                "#B0BEC5",
                "#B0BEC5",
                "#B0BEC5",
                "#B0BEC5",
                "#B0BEC5",
                "#B0BEC5",
                "#B0BEC5"
               ]
              ]
             }
            ],
            "label": "Topic 28",
            "method": "update"
           },
           {
            "args": [
             {
              "marker.color": [
               [
                "#B0BEC5",
                "#B0BEC5",
                "#B0BEC5",
                "#B0BEC5",
                "#B0BEC5",
                "#B0BEC5",
                "#B0BEC5",
                "#B0BEC5",
                "#B0BEC5",
                "#B0BEC5",
                "#B0BEC5",
                "#B0BEC5",
                "#B0BEC5",
                "#B0BEC5",
                "#B0BEC5",
                "#B0BEC5",
                "#B0BEC5",
                "#B0BEC5",
                "#B0BEC5",
                "#B0BEC5",
                "#B0BEC5",
                "#B0BEC5",
                "#B0BEC5",
                "#B0BEC5",
                "#B0BEC5",
                "#B0BEC5",
                "#B0BEC5",
                "#B0BEC5",
                "#B0BEC5",
                "red",
                "#B0BEC5",
                "#B0BEC5",
                "#B0BEC5",
                "#B0BEC5",
                "#B0BEC5",
                "#B0BEC5",
                "#B0BEC5",
                "#B0BEC5",
                "#B0BEC5",
                "#B0BEC5",
                "#B0BEC5",
                "#B0BEC5",
                "#B0BEC5",
                "#B0BEC5",
                "#B0BEC5",
                "#B0BEC5",
                "#B0BEC5"
               ]
              ]
             }
            ],
            "label": "Topic 29",
            "method": "update"
           },
           {
            "args": [
             {
              "marker.color": [
               [
                "#B0BEC5",
                "#B0BEC5",
                "#B0BEC5",
                "#B0BEC5",
                "#B0BEC5",
                "#B0BEC5",
                "#B0BEC5",
                "#B0BEC5",
                "#B0BEC5",
                "#B0BEC5",
                "#B0BEC5",
                "#B0BEC5",
                "#B0BEC5",
                "#B0BEC5",
                "#B0BEC5",
                "#B0BEC5",
                "#B0BEC5",
                "#B0BEC5",
                "#B0BEC5",
                "#B0BEC5",
                "#B0BEC5",
                "#B0BEC5",
                "#B0BEC5",
                "#B0BEC5",
                "#B0BEC5",
                "#B0BEC5",
                "#B0BEC5",
                "#B0BEC5",
                "#B0BEC5",
                "#B0BEC5",
                "red",
                "#B0BEC5",
                "#B0BEC5",
                "#B0BEC5",
                "#B0BEC5",
                "#B0BEC5",
                "#B0BEC5",
                "#B0BEC5",
                "#B0BEC5",
                "#B0BEC5",
                "#B0BEC5",
                "#B0BEC5",
                "#B0BEC5",
                "#B0BEC5",
                "#B0BEC5",
                "#B0BEC5",
                "#B0BEC5"
               ]
              ]
             }
            ],
            "label": "Topic 30",
            "method": "update"
           },
           {
            "args": [
             {
              "marker.color": [
               [
                "#B0BEC5",
                "#B0BEC5",
                "#B0BEC5",
                "#B0BEC5",
                "#B0BEC5",
                "#B0BEC5",
                "#B0BEC5",
                "#B0BEC5",
                "#B0BEC5",
                "#B0BEC5",
                "#B0BEC5",
                "#B0BEC5",
                "#B0BEC5",
                "#B0BEC5",
                "#B0BEC5",
                "#B0BEC5",
                "#B0BEC5",
                "#B0BEC5",
                "#B0BEC5",
                "#B0BEC5",
                "#B0BEC5",
                "#B0BEC5",
                "#B0BEC5",
                "#B0BEC5",
                "#B0BEC5",
                "#B0BEC5",
                "#B0BEC5",
                "#B0BEC5",
                "#B0BEC5",
                "#B0BEC5",
                "#B0BEC5",
                "red",
                "#B0BEC5",
                "#B0BEC5",
                "#B0BEC5",
                "#B0BEC5",
                "#B0BEC5",
                "#B0BEC5",
                "#B0BEC5",
                "#B0BEC5",
                "#B0BEC5",
                "#B0BEC5",
                "#B0BEC5",
                "#B0BEC5",
                "#B0BEC5",
                "#B0BEC5",
                "#B0BEC5"
               ]
              ]
             }
            ],
            "label": "Topic 31",
            "method": "update"
           },
           {
            "args": [
             {
              "marker.color": [
               [
                "#B0BEC5",
                "#B0BEC5",
                "#B0BEC5",
                "#B0BEC5",
                "#B0BEC5",
                "#B0BEC5",
                "#B0BEC5",
                "#B0BEC5",
                "#B0BEC5",
                "#B0BEC5",
                "#B0BEC5",
                "#B0BEC5",
                "#B0BEC5",
                "#B0BEC5",
                "#B0BEC5",
                "#B0BEC5",
                "#B0BEC5",
                "#B0BEC5",
                "#B0BEC5",
                "#B0BEC5",
                "#B0BEC5",
                "#B0BEC5",
                "#B0BEC5",
                "#B0BEC5",
                "#B0BEC5",
                "#B0BEC5",
                "#B0BEC5",
                "#B0BEC5",
                "#B0BEC5",
                "#B0BEC5",
                "#B0BEC5",
                "#B0BEC5",
                "red",
                "#B0BEC5",
                "#B0BEC5",
                "#B0BEC5",
                "#B0BEC5",
                "#B0BEC5",
                "#B0BEC5",
                "#B0BEC5",
                "#B0BEC5",
                "#B0BEC5",
                "#B0BEC5",
                "#B0BEC5",
                "#B0BEC5",
                "#B0BEC5",
                "#B0BEC5"
               ]
              ]
             }
            ],
            "label": "Topic 32",
            "method": "update"
           },
           {
            "args": [
             {
              "marker.color": [
               [
                "#B0BEC5",
                "#B0BEC5",
                "#B0BEC5",
                "#B0BEC5",
                "#B0BEC5",
                "#B0BEC5",
                "#B0BEC5",
                "#B0BEC5",
                "#B0BEC5",
                "#B0BEC5",
                "#B0BEC5",
                "#B0BEC5",
                "#B0BEC5",
                "#B0BEC5",
                "#B0BEC5",
                "#B0BEC5",
                "#B0BEC5",
                "#B0BEC5",
                "#B0BEC5",
                "#B0BEC5",
                "#B0BEC5",
                "#B0BEC5",
                "#B0BEC5",
                "#B0BEC5",
                "#B0BEC5",
                "#B0BEC5",
                "#B0BEC5",
                "#B0BEC5",
                "#B0BEC5",
                "#B0BEC5",
                "#B0BEC5",
                "#B0BEC5",
                "#B0BEC5",
                "red",
                "#B0BEC5",
                "#B0BEC5",
                "#B0BEC5",
                "#B0BEC5",
                "#B0BEC5",
                "#B0BEC5",
                "#B0BEC5",
                "#B0BEC5",
                "#B0BEC5",
                "#B0BEC5",
                "#B0BEC5",
                "#B0BEC5",
                "#B0BEC5"
               ]
              ]
             }
            ],
            "label": "Topic 33",
            "method": "update"
           },
           {
            "args": [
             {
              "marker.color": [
               [
                "#B0BEC5",
                "#B0BEC5",
                "#B0BEC5",
                "#B0BEC5",
                "#B0BEC5",
                "#B0BEC5",
                "#B0BEC5",
                "#B0BEC5",
                "#B0BEC5",
                "#B0BEC5",
                "#B0BEC5",
                "#B0BEC5",
                "#B0BEC5",
                "#B0BEC5",
                "#B0BEC5",
                "#B0BEC5",
                "#B0BEC5",
                "#B0BEC5",
                "#B0BEC5",
                "#B0BEC5",
                "#B0BEC5",
                "#B0BEC5",
                "#B0BEC5",
                "#B0BEC5",
                "#B0BEC5",
                "#B0BEC5",
                "#B0BEC5",
                "#B0BEC5",
                "#B0BEC5",
                "#B0BEC5",
                "#B0BEC5",
                "#B0BEC5",
                "#B0BEC5",
                "#B0BEC5",
                "red",
                "#B0BEC5",
                "#B0BEC5",
                "#B0BEC5",
                "#B0BEC5",
                "#B0BEC5",
                "#B0BEC5",
                "#B0BEC5",
                "#B0BEC5",
                "#B0BEC5",
                "#B0BEC5",
                "#B0BEC5",
                "#B0BEC5"
               ]
              ]
             }
            ],
            "label": "Topic 34",
            "method": "update"
           },
           {
            "args": [
             {
              "marker.color": [
               [
                "#B0BEC5",
                "#B0BEC5",
                "#B0BEC5",
                "#B0BEC5",
                "#B0BEC5",
                "#B0BEC5",
                "#B0BEC5",
                "#B0BEC5",
                "#B0BEC5",
                "#B0BEC5",
                "#B0BEC5",
                "#B0BEC5",
                "#B0BEC5",
                "#B0BEC5",
                "#B0BEC5",
                "#B0BEC5",
                "#B0BEC5",
                "#B0BEC5",
                "#B0BEC5",
                "#B0BEC5",
                "#B0BEC5",
                "#B0BEC5",
                "#B0BEC5",
                "#B0BEC5",
                "#B0BEC5",
                "#B0BEC5",
                "#B0BEC5",
                "#B0BEC5",
                "#B0BEC5",
                "#B0BEC5",
                "#B0BEC5",
                "#B0BEC5",
                "#B0BEC5",
                "#B0BEC5",
                "#B0BEC5",
                "red",
                "#B0BEC5",
                "#B0BEC5",
                "#B0BEC5",
                "#B0BEC5",
                "#B0BEC5",
                "#B0BEC5",
                "#B0BEC5",
                "#B0BEC5",
                "#B0BEC5",
                "#B0BEC5",
                "#B0BEC5"
               ]
              ]
             }
            ],
            "label": "Topic 35",
            "method": "update"
           },
           {
            "args": [
             {
              "marker.color": [
               [
                "#B0BEC5",
                "#B0BEC5",
                "#B0BEC5",
                "#B0BEC5",
                "#B0BEC5",
                "#B0BEC5",
                "#B0BEC5",
                "#B0BEC5",
                "#B0BEC5",
                "#B0BEC5",
                "#B0BEC5",
                "#B0BEC5",
                "#B0BEC5",
                "#B0BEC5",
                "#B0BEC5",
                "#B0BEC5",
                "#B0BEC5",
                "#B0BEC5",
                "#B0BEC5",
                "#B0BEC5",
                "#B0BEC5",
                "#B0BEC5",
                "#B0BEC5",
                "#B0BEC5",
                "#B0BEC5",
                "#B0BEC5",
                "#B0BEC5",
                "#B0BEC5",
                "#B0BEC5",
                "#B0BEC5",
                "#B0BEC5",
                "#B0BEC5",
                "#B0BEC5",
                "#B0BEC5",
                "#B0BEC5",
                "#B0BEC5",
                "red",
                "#B0BEC5",
                "#B0BEC5",
                "#B0BEC5",
                "#B0BEC5",
                "#B0BEC5",
                "#B0BEC5",
                "#B0BEC5",
                "#B0BEC5",
                "#B0BEC5",
                "#B0BEC5"
               ]
              ]
             }
            ],
            "label": "Topic 36",
            "method": "update"
           },
           {
            "args": [
             {
              "marker.color": [
               [
                "#B0BEC5",
                "#B0BEC5",
                "#B0BEC5",
                "#B0BEC5",
                "#B0BEC5",
                "#B0BEC5",
                "#B0BEC5",
                "#B0BEC5",
                "#B0BEC5",
                "#B0BEC5",
                "#B0BEC5",
                "#B0BEC5",
                "#B0BEC5",
                "#B0BEC5",
                "#B0BEC5",
                "#B0BEC5",
                "#B0BEC5",
                "#B0BEC5",
                "#B0BEC5",
                "#B0BEC5",
                "#B0BEC5",
                "#B0BEC5",
                "#B0BEC5",
                "#B0BEC5",
                "#B0BEC5",
                "#B0BEC5",
                "#B0BEC5",
                "#B0BEC5",
                "#B0BEC5",
                "#B0BEC5",
                "#B0BEC5",
                "#B0BEC5",
                "#B0BEC5",
                "#B0BEC5",
                "#B0BEC5",
                "#B0BEC5",
                "#B0BEC5",
                "red",
                "#B0BEC5",
                "#B0BEC5",
                "#B0BEC5",
                "#B0BEC5",
                "#B0BEC5",
                "#B0BEC5",
                "#B0BEC5",
                "#B0BEC5",
                "#B0BEC5"
               ]
              ]
             }
            ],
            "label": "Topic 37",
            "method": "update"
           },
           {
            "args": [
             {
              "marker.color": [
               [
                "#B0BEC5",
                "#B0BEC5",
                "#B0BEC5",
                "#B0BEC5",
                "#B0BEC5",
                "#B0BEC5",
                "#B0BEC5",
                "#B0BEC5",
                "#B0BEC5",
                "#B0BEC5",
                "#B0BEC5",
                "#B0BEC5",
                "#B0BEC5",
                "#B0BEC5",
                "#B0BEC5",
                "#B0BEC5",
                "#B0BEC5",
                "#B0BEC5",
                "#B0BEC5",
                "#B0BEC5",
                "#B0BEC5",
                "#B0BEC5",
                "#B0BEC5",
                "#B0BEC5",
                "#B0BEC5",
                "#B0BEC5",
                "#B0BEC5",
                "#B0BEC5",
                "#B0BEC5",
                "#B0BEC5",
                "#B0BEC5",
                "#B0BEC5",
                "#B0BEC5",
                "#B0BEC5",
                "#B0BEC5",
                "#B0BEC5",
                "#B0BEC5",
                "#B0BEC5",
                "red",
                "#B0BEC5",
                "#B0BEC5",
                "#B0BEC5",
                "#B0BEC5",
                "#B0BEC5",
                "#B0BEC5",
                "#B0BEC5",
                "#B0BEC5"
               ]
              ]
             }
            ],
            "label": "Topic 38",
            "method": "update"
           },
           {
            "args": [
             {
              "marker.color": [
               [
                "#B0BEC5",
                "#B0BEC5",
                "#B0BEC5",
                "#B0BEC5",
                "#B0BEC5",
                "#B0BEC5",
                "#B0BEC5",
                "#B0BEC5",
                "#B0BEC5",
                "#B0BEC5",
                "#B0BEC5",
                "#B0BEC5",
                "#B0BEC5",
                "#B0BEC5",
                "#B0BEC5",
                "#B0BEC5",
                "#B0BEC5",
                "#B0BEC5",
                "#B0BEC5",
                "#B0BEC5",
                "#B0BEC5",
                "#B0BEC5",
                "#B0BEC5",
                "#B0BEC5",
                "#B0BEC5",
                "#B0BEC5",
                "#B0BEC5",
                "#B0BEC5",
                "#B0BEC5",
                "#B0BEC5",
                "#B0BEC5",
                "#B0BEC5",
                "#B0BEC5",
                "#B0BEC5",
                "#B0BEC5",
                "#B0BEC5",
                "#B0BEC5",
                "#B0BEC5",
                "#B0BEC5",
                "red",
                "#B0BEC5",
                "#B0BEC5",
                "#B0BEC5",
                "#B0BEC5",
                "#B0BEC5",
                "#B0BEC5",
                "#B0BEC5"
               ]
              ]
             }
            ],
            "label": "Topic 39",
            "method": "update"
           },
           {
            "args": [
             {
              "marker.color": [
               [
                "#B0BEC5",
                "#B0BEC5",
                "#B0BEC5",
                "#B0BEC5",
                "#B0BEC5",
                "#B0BEC5",
                "#B0BEC5",
                "#B0BEC5",
                "#B0BEC5",
                "#B0BEC5",
                "#B0BEC5",
                "#B0BEC5",
                "#B0BEC5",
                "#B0BEC5",
                "#B0BEC5",
                "#B0BEC5",
                "#B0BEC5",
                "#B0BEC5",
                "#B0BEC5",
                "#B0BEC5",
                "#B0BEC5",
                "#B0BEC5",
                "#B0BEC5",
                "#B0BEC5",
                "#B0BEC5",
                "#B0BEC5",
                "#B0BEC5",
                "#B0BEC5",
                "#B0BEC5",
                "#B0BEC5",
                "#B0BEC5",
                "#B0BEC5",
                "#B0BEC5",
                "#B0BEC5",
                "#B0BEC5",
                "#B0BEC5",
                "#B0BEC5",
                "#B0BEC5",
                "#B0BEC5",
                "#B0BEC5",
                "red",
                "#B0BEC5",
                "#B0BEC5",
                "#B0BEC5",
                "#B0BEC5",
                "#B0BEC5",
                "#B0BEC5"
               ]
              ]
             }
            ],
            "label": "Topic 40",
            "method": "update"
           },
           {
            "args": [
             {
              "marker.color": [
               [
                "#B0BEC5",
                "#B0BEC5",
                "#B0BEC5",
                "#B0BEC5",
                "#B0BEC5",
                "#B0BEC5",
                "#B0BEC5",
                "#B0BEC5",
                "#B0BEC5",
                "#B0BEC5",
                "#B0BEC5",
                "#B0BEC5",
                "#B0BEC5",
                "#B0BEC5",
                "#B0BEC5",
                "#B0BEC5",
                "#B0BEC5",
                "#B0BEC5",
                "#B0BEC5",
                "#B0BEC5",
                "#B0BEC5",
                "#B0BEC5",
                "#B0BEC5",
                "#B0BEC5",
                "#B0BEC5",
                "#B0BEC5",
                "#B0BEC5",
                "#B0BEC5",
                "#B0BEC5",
                "#B0BEC5",
                "#B0BEC5",
                "#B0BEC5",
                "#B0BEC5",
                "#B0BEC5",
                "#B0BEC5",
                "#B0BEC5",
                "#B0BEC5",
                "#B0BEC5",
                "#B0BEC5",
                "#B0BEC5",
                "#B0BEC5",
                "red",
                "#B0BEC5",
                "#B0BEC5",
                "#B0BEC5",
                "#B0BEC5",
                "#B0BEC5"
               ]
              ]
             }
            ],
            "label": "Topic 41",
            "method": "update"
           },
           {
            "args": [
             {
              "marker.color": [
               [
                "#B0BEC5",
                "#B0BEC5",
                "#B0BEC5",
                "#B0BEC5",
                "#B0BEC5",
                "#B0BEC5",
                "#B0BEC5",
                "#B0BEC5",
                "#B0BEC5",
                "#B0BEC5",
                "#B0BEC5",
                "#B0BEC5",
                "#B0BEC5",
                "#B0BEC5",
                "#B0BEC5",
                "#B0BEC5",
                "#B0BEC5",
                "#B0BEC5",
                "#B0BEC5",
                "#B0BEC5",
                "#B0BEC5",
                "#B0BEC5",
                "#B0BEC5",
                "#B0BEC5",
                "#B0BEC5",
                "#B0BEC5",
                "#B0BEC5",
                "#B0BEC5",
                "#B0BEC5",
                "#B0BEC5",
                "#B0BEC5",
                "#B0BEC5",
                "#B0BEC5",
                "#B0BEC5",
                "#B0BEC5",
                "#B0BEC5",
                "#B0BEC5",
                "#B0BEC5",
                "#B0BEC5",
                "#B0BEC5",
                "#B0BEC5",
                "#B0BEC5",
                "red",
                "#B0BEC5",
                "#B0BEC5",
                "#B0BEC5",
                "#B0BEC5"
               ]
              ]
             }
            ],
            "label": "Topic 42",
            "method": "update"
           },
           {
            "args": [
             {
              "marker.color": [
               [
                "#B0BEC5",
                "#B0BEC5",
                "#B0BEC5",
                "#B0BEC5",
                "#B0BEC5",
                "#B0BEC5",
                "#B0BEC5",
                "#B0BEC5",
                "#B0BEC5",
                "#B0BEC5",
                "#B0BEC5",
                "#B0BEC5",
                "#B0BEC5",
                "#B0BEC5",
                "#B0BEC5",
                "#B0BEC5",
                "#B0BEC5",
                "#B0BEC5",
                "#B0BEC5",
                "#B0BEC5",
                "#B0BEC5",
                "#B0BEC5",
                "#B0BEC5",
                "#B0BEC5",
                "#B0BEC5",
                "#B0BEC5",
                "#B0BEC5",
                "#B0BEC5",
                "#B0BEC5",
                "#B0BEC5",
                "#B0BEC5",
                "#B0BEC5",
                "#B0BEC5",
                "#B0BEC5",
                "#B0BEC5",
                "#B0BEC5",
                "#B0BEC5",
                "#B0BEC5",
                "#B0BEC5",
                "#B0BEC5",
                "#B0BEC5",
                "#B0BEC5",
                "#B0BEC5",
                "red",
                "#B0BEC5",
                "#B0BEC5",
                "#B0BEC5"
               ]
              ]
             }
            ],
            "label": "Topic 43",
            "method": "update"
           },
           {
            "args": [
             {
              "marker.color": [
               [
                "#B0BEC5",
                "#B0BEC5",
                "#B0BEC5",
                "#B0BEC5",
                "#B0BEC5",
                "#B0BEC5",
                "#B0BEC5",
                "#B0BEC5",
                "#B0BEC5",
                "#B0BEC5",
                "#B0BEC5",
                "#B0BEC5",
                "#B0BEC5",
                "#B0BEC5",
                "#B0BEC5",
                "#B0BEC5",
                "#B0BEC5",
                "#B0BEC5",
                "#B0BEC5",
                "#B0BEC5",
                "#B0BEC5",
                "#B0BEC5",
                "#B0BEC5",
                "#B0BEC5",
                "#B0BEC5",
                "#B0BEC5",
                "#B0BEC5",
                "#B0BEC5",
                "#B0BEC5",
                "#B0BEC5",
                "#B0BEC5",
                "#B0BEC5",
                "#B0BEC5",
                "#B0BEC5",
                "#B0BEC5",
                "#B0BEC5",
                "#B0BEC5",
                "#B0BEC5",
                "#B0BEC5",
                "#B0BEC5",
                "#B0BEC5",
                "#B0BEC5",
                "#B0BEC5",
                "#B0BEC5",
                "red",
                "#B0BEC5",
                "#B0BEC5"
               ]
              ]
             }
            ],
            "label": "Topic 44",
            "method": "update"
           },
           {
            "args": [
             {
              "marker.color": [
               [
                "#B0BEC5",
                "#B0BEC5",
                "#B0BEC5",
                "#B0BEC5",
                "#B0BEC5",
                "#B0BEC5",
                "#B0BEC5",
                "#B0BEC5",
                "#B0BEC5",
                "#B0BEC5",
                "#B0BEC5",
                "#B0BEC5",
                "#B0BEC5",
                "#B0BEC5",
                "#B0BEC5",
                "#B0BEC5",
                "#B0BEC5",
                "#B0BEC5",
                "#B0BEC5",
                "#B0BEC5",
                "#B0BEC5",
                "#B0BEC5",
                "#B0BEC5",
                "#B0BEC5",
                "#B0BEC5",
                "#B0BEC5",
                "#B0BEC5",
                "#B0BEC5",
                "#B0BEC5",
                "#B0BEC5",
                "#B0BEC5",
                "#B0BEC5",
                "#B0BEC5",
                "#B0BEC5",
                "#B0BEC5",
                "#B0BEC5",
                "#B0BEC5",
                "#B0BEC5",
                "#B0BEC5",
                "#B0BEC5",
                "#B0BEC5",
                "#B0BEC5",
                "#B0BEC5",
                "#B0BEC5",
                "#B0BEC5",
                "red",
                "#B0BEC5"
               ]
              ]
             }
            ],
            "label": "Topic 45",
            "method": "update"
           },
           {
            "args": [
             {
              "marker.color": [
               [
                "#B0BEC5",
                "#B0BEC5",
                "#B0BEC5",
                "#B0BEC5",
                "#B0BEC5",
                "#B0BEC5",
                "#B0BEC5",
                "#B0BEC5",
                "#B0BEC5",
                "#B0BEC5",
                "#B0BEC5",
                "#B0BEC5",
                "#B0BEC5",
                "#B0BEC5",
                "#B0BEC5",
                "#B0BEC5",
                "#B0BEC5",
                "#B0BEC5",
                "#B0BEC5",
                "#B0BEC5",
                "#B0BEC5",
                "#B0BEC5",
                "#B0BEC5",
                "#B0BEC5",
                "#B0BEC5",
                "#B0BEC5",
                "#B0BEC5",
                "#B0BEC5",
                "#B0BEC5",
                "#B0BEC5",
                "#B0BEC5",
                "#B0BEC5",
                "#B0BEC5",
                "#B0BEC5",
                "#B0BEC5",
                "#B0BEC5",
                "#B0BEC5",
                "#B0BEC5",
                "#B0BEC5",
                "#B0BEC5",
                "#B0BEC5",
                "#B0BEC5",
                "#B0BEC5",
                "#B0BEC5",
                "#B0BEC5",
                "#B0BEC5",
                "red"
               ]
              ]
             }
            ],
            "label": "Topic 46",
            "method": "update"
           }
          ]
         }
        ],
        "template": {
         "data": {
          "bar": [
           {
            "error_x": {
             "color": "rgb(36,36,36)"
            },
            "error_y": {
             "color": "rgb(36,36,36)"
            },
            "marker": {
             "line": {
              "color": "white",
              "width": 0.5
             },
             "pattern": {
              "fillmode": "overlay",
              "size": 10,
              "solidity": 0.2
             }
            },
            "type": "bar"
           }
          ],
          "barpolar": [
           {
            "marker": {
             "line": {
              "color": "white",
              "width": 0.5
             },
             "pattern": {
              "fillmode": "overlay",
              "size": 10,
              "solidity": 0.2
             }
            },
            "type": "barpolar"
           }
          ],
          "carpet": [
           {
            "aaxis": {
             "endlinecolor": "rgb(36,36,36)",
             "gridcolor": "white",
             "linecolor": "white",
             "minorgridcolor": "white",
             "startlinecolor": "rgb(36,36,36)"
            },
            "baxis": {
             "endlinecolor": "rgb(36,36,36)",
             "gridcolor": "white",
             "linecolor": "white",
             "minorgridcolor": "white",
             "startlinecolor": "rgb(36,36,36)"
            },
            "type": "carpet"
           }
          ],
          "choropleth": [
           {
            "colorbar": {
             "outlinewidth": 1,
             "tickcolor": "rgb(36,36,36)",
             "ticks": "outside"
            },
            "type": "choropleth"
           }
          ],
          "contour": [
           {
            "colorbar": {
             "outlinewidth": 1,
             "tickcolor": "rgb(36,36,36)",
             "ticks": "outside"
            },
            "colorscale": [
             [
              0,
              "#440154"
             ],
             [
              0.1111111111111111,
              "#482878"
             ],
             [
              0.2222222222222222,
              "#3e4989"
             ],
             [
              0.3333333333333333,
              "#31688e"
             ],
             [
              0.4444444444444444,
              "#26828e"
             ],
             [
              0.5555555555555556,
              "#1f9e89"
             ],
             [
              0.6666666666666666,
              "#35b779"
             ],
             [
              0.7777777777777778,
              "#6ece58"
             ],
             [
              0.8888888888888888,
              "#b5de2b"
             ],
             [
              1,
              "#fde725"
             ]
            ],
            "type": "contour"
           }
          ],
          "contourcarpet": [
           {
            "colorbar": {
             "outlinewidth": 1,
             "tickcolor": "rgb(36,36,36)",
             "ticks": "outside"
            },
            "type": "contourcarpet"
           }
          ],
          "heatmap": [
           {
            "colorbar": {
             "outlinewidth": 1,
             "tickcolor": "rgb(36,36,36)",
             "ticks": "outside"
            },
            "colorscale": [
             [
              0,
              "#440154"
             ],
             [
              0.1111111111111111,
              "#482878"
             ],
             [
              0.2222222222222222,
              "#3e4989"
             ],
             [
              0.3333333333333333,
              "#31688e"
             ],
             [
              0.4444444444444444,
              "#26828e"
             ],
             [
              0.5555555555555556,
              "#1f9e89"
             ],
             [
              0.6666666666666666,
              "#35b779"
             ],
             [
              0.7777777777777778,
              "#6ece58"
             ],
             [
              0.8888888888888888,
              "#b5de2b"
             ],
             [
              1,
              "#fde725"
             ]
            ],
            "type": "heatmap"
           }
          ],
          "heatmapgl": [
           {
            "colorbar": {
             "outlinewidth": 1,
             "tickcolor": "rgb(36,36,36)",
             "ticks": "outside"
            },
            "colorscale": [
             [
              0,
              "#440154"
             ],
             [
              0.1111111111111111,
              "#482878"
             ],
             [
              0.2222222222222222,
              "#3e4989"
             ],
             [
              0.3333333333333333,
              "#31688e"
             ],
             [
              0.4444444444444444,
              "#26828e"
             ],
             [
              0.5555555555555556,
              "#1f9e89"
             ],
             [
              0.6666666666666666,
              "#35b779"
             ],
             [
              0.7777777777777778,
              "#6ece58"
             ],
             [
              0.8888888888888888,
              "#b5de2b"
             ],
             [
              1,
              "#fde725"
             ]
            ],
            "type": "heatmapgl"
           }
          ],
          "histogram": [
           {
            "marker": {
             "line": {
              "color": "white",
              "width": 0.6
             }
            },
            "type": "histogram"
           }
          ],
          "histogram2d": [
           {
            "colorbar": {
             "outlinewidth": 1,
             "tickcolor": "rgb(36,36,36)",
             "ticks": "outside"
            },
            "colorscale": [
             [
              0,
              "#440154"
             ],
             [
              0.1111111111111111,
              "#482878"
             ],
             [
              0.2222222222222222,
              "#3e4989"
             ],
             [
              0.3333333333333333,
              "#31688e"
             ],
             [
              0.4444444444444444,
              "#26828e"
             ],
             [
              0.5555555555555556,
              "#1f9e89"
             ],
             [
              0.6666666666666666,
              "#35b779"
             ],
             [
              0.7777777777777778,
              "#6ece58"
             ],
             [
              0.8888888888888888,
              "#b5de2b"
             ],
             [
              1,
              "#fde725"
             ]
            ],
            "type": "histogram2d"
           }
          ],
          "histogram2dcontour": [
           {
            "colorbar": {
             "outlinewidth": 1,
             "tickcolor": "rgb(36,36,36)",
             "ticks": "outside"
            },
            "colorscale": [
             [
              0,
              "#440154"
             ],
             [
              0.1111111111111111,
              "#482878"
             ],
             [
              0.2222222222222222,
              "#3e4989"
             ],
             [
              0.3333333333333333,
              "#31688e"
             ],
             [
              0.4444444444444444,
              "#26828e"
             ],
             [
              0.5555555555555556,
              "#1f9e89"
             ],
             [
              0.6666666666666666,
              "#35b779"
             ],
             [
              0.7777777777777778,
              "#6ece58"
             ],
             [
              0.8888888888888888,
              "#b5de2b"
             ],
             [
              1,
              "#fde725"
             ]
            ],
            "type": "histogram2dcontour"
           }
          ],
          "mesh3d": [
           {
            "colorbar": {
             "outlinewidth": 1,
             "tickcolor": "rgb(36,36,36)",
             "ticks": "outside"
            },
            "type": "mesh3d"
           }
          ],
          "parcoords": [
           {
            "line": {
             "colorbar": {
              "outlinewidth": 1,
              "tickcolor": "rgb(36,36,36)",
              "ticks": "outside"
             }
            },
            "type": "parcoords"
           }
          ],
          "pie": [
           {
            "automargin": true,
            "type": "pie"
           }
          ],
          "scatter": [
           {
            "fillpattern": {
             "fillmode": "overlay",
             "size": 10,
             "solidity": 0.2
            },
            "type": "scatter"
           }
          ],
          "scatter3d": [
           {
            "line": {
             "colorbar": {
              "outlinewidth": 1,
              "tickcolor": "rgb(36,36,36)",
              "ticks": "outside"
             }
            },
            "marker": {
             "colorbar": {
              "outlinewidth": 1,
              "tickcolor": "rgb(36,36,36)",
              "ticks": "outside"
             }
            },
            "type": "scatter3d"
           }
          ],
          "scattercarpet": [
           {
            "marker": {
             "colorbar": {
              "outlinewidth": 1,
              "tickcolor": "rgb(36,36,36)",
              "ticks": "outside"
             }
            },
            "type": "scattercarpet"
           }
          ],
          "scattergeo": [
           {
            "marker": {
             "colorbar": {
              "outlinewidth": 1,
              "tickcolor": "rgb(36,36,36)",
              "ticks": "outside"
             }
            },
            "type": "scattergeo"
           }
          ],
          "scattergl": [
           {
            "marker": {
             "colorbar": {
              "outlinewidth": 1,
              "tickcolor": "rgb(36,36,36)",
              "ticks": "outside"
             }
            },
            "type": "scattergl"
           }
          ],
          "scattermapbox": [
           {
            "marker": {
             "colorbar": {
              "outlinewidth": 1,
              "tickcolor": "rgb(36,36,36)",
              "ticks": "outside"
             }
            },
            "type": "scattermapbox"
           }
          ],
          "scatterpolar": [
           {
            "marker": {
             "colorbar": {
              "outlinewidth": 1,
              "tickcolor": "rgb(36,36,36)",
              "ticks": "outside"
             }
            },
            "type": "scatterpolar"
           }
          ],
          "scatterpolargl": [
           {
            "marker": {
             "colorbar": {
              "outlinewidth": 1,
              "tickcolor": "rgb(36,36,36)",
              "ticks": "outside"
             }
            },
            "type": "scatterpolargl"
           }
          ],
          "scatterternary": [
           {
            "marker": {
             "colorbar": {
              "outlinewidth": 1,
              "tickcolor": "rgb(36,36,36)",
              "ticks": "outside"
             }
            },
            "type": "scatterternary"
           }
          ],
          "surface": [
           {
            "colorbar": {
             "outlinewidth": 1,
             "tickcolor": "rgb(36,36,36)",
             "ticks": "outside"
            },
            "colorscale": [
             [
              0,
              "#440154"
             ],
             [
              0.1111111111111111,
              "#482878"
             ],
             [
              0.2222222222222222,
              "#3e4989"
             ],
             [
              0.3333333333333333,
              "#31688e"
             ],
             [
              0.4444444444444444,
              "#26828e"
             ],
             [
              0.5555555555555556,
              "#1f9e89"
             ],
             [
              0.6666666666666666,
              "#35b779"
             ],
             [
              0.7777777777777778,
              "#6ece58"
             ],
             [
              0.8888888888888888,
              "#b5de2b"
             ],
             [
              1,
              "#fde725"
             ]
            ],
            "type": "surface"
           }
          ],
          "table": [
           {
            "cells": {
             "fill": {
              "color": "rgb(237,237,237)"
             },
             "line": {
              "color": "white"
             }
            },
            "header": {
             "fill": {
              "color": "rgb(217,217,217)"
             },
             "line": {
              "color": "white"
             }
            },
            "type": "table"
           }
          ]
         },
         "layout": {
          "annotationdefaults": {
           "arrowhead": 0,
           "arrowwidth": 1
          },
          "autotypenumbers": "strict",
          "coloraxis": {
           "colorbar": {
            "outlinewidth": 1,
            "tickcolor": "rgb(36,36,36)",
            "ticks": "outside"
           }
          },
          "colorscale": {
           "diverging": [
            [
             0,
             "rgb(103,0,31)"
            ],
            [
             0.1,
             "rgb(178,24,43)"
            ],
            [
             0.2,
             "rgb(214,96,77)"
            ],
            [
             0.3,
             "rgb(244,165,130)"
            ],
            [
             0.4,
             "rgb(253,219,199)"
            ],
            [
             0.5,
             "rgb(247,247,247)"
            ],
            [
             0.6,
             "rgb(209,229,240)"
            ],
            [
             0.7,
             "rgb(146,197,222)"
            ],
            [
             0.8,
             "rgb(67,147,195)"
            ],
            [
             0.9,
             "rgb(33,102,172)"
            ],
            [
             1,
             "rgb(5,48,97)"
            ]
           ],
           "sequential": [
            [
             0,
             "#440154"
            ],
            [
             0.1111111111111111,
             "#482878"
            ],
            [
             0.2222222222222222,
             "#3e4989"
            ],
            [
             0.3333333333333333,
             "#31688e"
            ],
            [
             0.4444444444444444,
             "#26828e"
            ],
            [
             0.5555555555555556,
             "#1f9e89"
            ],
            [
             0.6666666666666666,
             "#35b779"
            ],
            [
             0.7777777777777778,
             "#6ece58"
            ],
            [
             0.8888888888888888,
             "#b5de2b"
            ],
            [
             1,
             "#fde725"
            ]
           ],
           "sequentialminus": [
            [
             0,
             "#440154"
            ],
            [
             0.1111111111111111,
             "#482878"
            ],
            [
             0.2222222222222222,
             "#3e4989"
            ],
            [
             0.3333333333333333,
             "#31688e"
            ],
            [
             0.4444444444444444,
             "#26828e"
            ],
            [
             0.5555555555555556,
             "#1f9e89"
            ],
            [
             0.6666666666666666,
             "#35b779"
            ],
            [
             0.7777777777777778,
             "#6ece58"
            ],
            [
             0.8888888888888888,
             "#b5de2b"
            ],
            [
             1,
             "#fde725"
            ]
           ]
          },
          "colorway": [
           "#1F77B4",
           "#FF7F0E",
           "#2CA02C",
           "#D62728",
           "#9467BD",
           "#8C564B",
           "#E377C2",
           "#7F7F7F",
           "#BCBD22",
           "#17BECF"
          ],
          "font": {
           "color": "rgb(36,36,36)"
          },
          "geo": {
           "bgcolor": "white",
           "lakecolor": "white",
           "landcolor": "white",
           "showlakes": true,
           "showland": true,
           "subunitcolor": "white"
          },
          "hoverlabel": {
           "align": "left"
          },
          "hovermode": "closest",
          "mapbox": {
           "style": "light"
          },
          "paper_bgcolor": "white",
          "plot_bgcolor": "white",
          "polar": {
           "angularaxis": {
            "gridcolor": "rgb(232,232,232)",
            "linecolor": "rgb(36,36,36)",
            "showgrid": false,
            "showline": true,
            "ticks": "outside"
           },
           "bgcolor": "white",
           "radialaxis": {
            "gridcolor": "rgb(232,232,232)",
            "linecolor": "rgb(36,36,36)",
            "showgrid": false,
            "showline": true,
            "ticks": "outside"
           }
          },
          "scene": {
           "xaxis": {
            "backgroundcolor": "white",
            "gridcolor": "rgb(232,232,232)",
            "gridwidth": 2,
            "linecolor": "rgb(36,36,36)",
            "showbackground": true,
            "showgrid": false,
            "showline": true,
            "ticks": "outside",
            "zeroline": false,
            "zerolinecolor": "rgb(36,36,36)"
           },
           "yaxis": {
            "backgroundcolor": "white",
            "gridcolor": "rgb(232,232,232)",
            "gridwidth": 2,
            "linecolor": "rgb(36,36,36)",
            "showbackground": true,
            "showgrid": false,
            "showline": true,
            "ticks": "outside",
            "zeroline": false,
            "zerolinecolor": "rgb(36,36,36)"
           },
           "zaxis": {
            "backgroundcolor": "white",
            "gridcolor": "rgb(232,232,232)",
            "gridwidth": 2,
            "linecolor": "rgb(36,36,36)",
            "showbackground": true,
            "showgrid": false,
            "showline": true,
            "ticks": "outside",
            "zeroline": false,
            "zerolinecolor": "rgb(36,36,36)"
           }
          },
          "shapedefaults": {
           "fillcolor": "black",
           "line": {
            "width": 0
           },
           "opacity": 0.3
          },
          "ternary": {
           "aaxis": {
            "gridcolor": "rgb(232,232,232)",
            "linecolor": "rgb(36,36,36)",
            "showgrid": false,
            "showline": true,
            "ticks": "outside"
           },
           "baxis": {
            "gridcolor": "rgb(232,232,232)",
            "linecolor": "rgb(36,36,36)",
            "showgrid": false,
            "showline": true,
            "ticks": "outside"
           },
           "bgcolor": "white",
           "caxis": {
            "gridcolor": "rgb(232,232,232)",
            "linecolor": "rgb(36,36,36)",
            "showgrid": false,
            "showline": true,
            "ticks": "outside"
           }
          },
          "title": {
           "x": 0.05
          },
          "xaxis": {
           "automargin": true,
           "gridcolor": "rgb(232,232,232)",
           "linecolor": "rgb(36,36,36)",
           "showgrid": false,
           "showline": true,
           "ticks": "outside",
           "title": {
            "standoff": 15
           },
           "zeroline": false,
           "zerolinecolor": "rgb(36,36,36)"
          },
          "yaxis": {
           "automargin": true,
           "gridcolor": "rgb(232,232,232)",
           "linecolor": "rgb(36,36,36)",
           "showgrid": false,
           "showline": true,
           "ticks": "outside",
           "title": {
            "standoff": 15
           },
           "zeroline": false,
           "zerolinecolor": "rgb(36,36,36)"
          }
         }
        },
        "title": {
         "font": {
          "color": "Black",
          "size": 22
         },
         "text": "<b>Intertopic Distance Map</b>",
         "x": 0.5,
         "xanchor": "center",
         "y": 0.95,
         "yanchor": "top"
        },
        "width": 650,
        "xaxis": {
         "anchor": "y",
         "domain": [
          0,
          1
         ],
         "range": [
          -15.092203617095947,
          19.82818660736084
         ],
         "title": {
          "text": ""
         },
         "visible": false
        },
        "yaxis": {
         "anchor": "x",
         "domain": [
          0,
          1
         ],
         "range": [
          -10.198574018478393,
          24.041656684875488
         ],
         "title": {
          "text": ""
         },
         "visible": false
        }
       }
      }
     },
     "metadata": {},
     "output_type": "display_data"
    }
   ],
   "source": [
    "# Optional: visualize\n",
    "topic_model_better.visualize_topics().show()"
   ]
  },
  {
   "cell_type": "code",
   "execution_count": null,
   "id": "f5505376",
   "metadata": {},
   "outputs": [
    {
     "name": "stderr",
     "output_type": "stream",
     "text": [
      "2025-06-30 00:25:23,641 - BERTopic - WARNING: When you use `pickle` to save/load a BERTopic model,please make sure that the environments in which you saveand load the model are **exactly** the same. The version of BERTopic,its dependencies, and python need to remain the same.\n"
     ]
    }
   ],
   "source": [
    "topic_model_better.save(\"../models/bert/modele_bert_better\", save_embedding_model=True)"
   ]
  },
  {
   "cell_type": "markdown",
   "id": "fe14e503",
   "metadata": {},
   "source": [
    "## Dynamic topic model"
   ]
  },
  {
   "cell_type": "markdown",
   "id": "f654946a",
   "metadata": {},
   "source": [
    "There are a few important parameters that you should take note of, namely:\n",
    "\n",
    "* `docs`\n",
    "  * the texts that we are using\n",
    "* `timestamps`\n",
    "  * The timestamp of each document\n",
    "* `global_tuning`\n",
    "  * Whether to average the topic representation of a topic at time *t* with its global topic representation\n",
    "* `evolution_tuning`\n",
    "  * Whether to average the topic representation of a topic at time *t* with the topic representation of that topic at time *t-1*\n",
    "* `nr_bins`\n",
    "  * The number of bins to put our timestamps into. It is computationally inefficient to extract the topics at thousands of different timestamps. Therefore, it is advised to keep this value below 20.\n"
   ]
  },
  {
   "cell_type": "code",
   "execution_count": 41,
   "id": "b8e773fa",
   "metadata": {},
   "outputs": [
    {
     "name": "stderr",
     "output_type": "stream",
     "text": [
      "18it [00:02,  6.42it/s]\n"
     ]
    }
   ],
   "source": [
    "topics_over_time_better = topic_model_better.topics_over_time(\n",
    "    docs=df[\"Texte_clean\"],\n",
    "    timestamps=df[\"DateSeance_ts\"],\n",
    "    global_tuning=True,\n",
    "    evolution_tuning=True,\n",
    "    nr_bins=20,\n",
    ")"
   ]
  },
  {
   "cell_type": "code",
   "execution_count": 42,
   "id": "721ecaad",
   "metadata": {},
   "outputs": [
    {
     "data": {
      "application/vnd.plotly.v1+json": {
       "config": {
        "plotlyServerURL": "https://plot.ly"
       },
       "data": [
        {
         "hoverinfo": "text",
         "hovertext": [
          "<b>Topic 0</b><br>Words: de, lcole, des, la, les",
          "<b>Topic 0</b><br>Words: lves, de, enfants, les, la",
          "<b>Topic 0</b><br>Words: lves, des, de, les, dans",
          "<b>Topic 0</b><br>Words: mineurs, administrative, de, enfants, la",
          "<b>Topic 0</b><br>Words: lcole, lves, de, des, les",
          "<b>Topic 0</b><br>Words: lcole, lves, de, les, des",
          "<b>Topic 0</b><br>Words: de, lves, des, lcole, les",
          "<b>Topic 0</b><br>Words: des, les, de, et, lves",
          "<b>Topic 0</b><br>Words: de, des, ensa, les, et",
          "<b>Topic 0</b><br>Words: les, lautorit, de, lcole, ces",
          "<b>Topic 0</b><br>Words: handicap, opp, de, en, emploi",
          "<b>Topic 0</b><br>Words: lcole, de, les, lves, et",
          "<b>Topic 0</b><br>Words: lcole, de, des, et, la",
          "<b>Topic 0</b><br>Words: parents, lcole, des, de, les",
          "<b>Topic 0</b><br>Words: lcole, de, lves, les, des",
          "<b>Topic 0</b><br>Words: de, lves, des, les, lcole",
          "<b>Topic 0</b><br>Words: de, les, lcole, enfants, des",
          "<b>Topic 0</b><br>Words: lves, de, des, les, lcole"
         ],
         "marker": {
          "color": "#E69F00"
         },
         "mode": "lines",
         "name": "0_lcole_de_lves_des",
         "type": "scatter",
         "x": [
          "2022-07-05T22:09:07.200000",
          "2022-09-14T19:48:00",
          "2022-10-19T22:12:00",
          "2022-11-24T00:36:00",
          "2022-12-29T03:00:00",
          "2023-02-02T05:24:00",
          "2023-03-09T07:48:00",
          "2023-04-13T10:12:00",
          "2023-05-18T12:36:00",
          "2023-06-22T15:00:00",
          "2023-08-31T19:48:00",
          "2023-10-05T22:12:00",
          "2023-11-10T00:36:00",
          "2023-12-15T03:00:00",
          "2024-01-19T05:24:00",
          "2024-02-23T07:48:00",
          "2024-03-29T10:12:00",
          "2024-05-03T12:36:00"
         ],
         "y": [
          10,
          9,
          14,
          4,
          54,
          13,
          28,
          6,
          10,
          9,
          6,
          29,
          15,
          37,
          22,
          19,
          20,
          21
         ]
        },
        {
         "hoverinfo": "text",
         "hovertext": [
          "<b>Topic 1</b><br>Words: rpublique, cest, vous, la, ve",
          "<b>Topic 1</b><br>Words: rpublique, paritarisme, inhrente, contestez, dmocratie",
          "<b>Topic 1</b><br>Words: rpublique, vous, la, cesse, nest",
          "<b>Topic 1</b><br>Words: rpublique, laimons, naiment, police, vie",
          "<b>Topic 1</b><br>Words: rpublique, iiie, la, unanimistes, rplique",
          "<b>Topic 1</b><br>Words: rpublique, respectez, vous, insinuez, dvore",
          "<b>Topic 1</b><br>Words: rpublique, la, vous, cest, pas",
          "<b>Topic 1</b><br>Words: rpublique, mauvaise, la, vous, vive",
          "<b>Topic 1</b><br>Words: rpublique, vous, ve, la, mauvaise",
          "<b>Topic 1</b><br>Words: rpublique, vous, jaime, la, nabandonne",
          "<b>Topic 1</b><br>Words: dbusquer, rpublique, perquisition, bafouez, journaliste",
          "<b>Topic 1</b><br>Words: rpublique, la, vous, dmocratie, ve",
          "<b>Topic 1</b><br>Words: rpublique, la, resserrer, sousentendu, heurt",
          "<b>Topic 1</b><br>Words: rpublique, vous, cd, avez, cocus",
          "<b>Topic 1</b><br>Words: rpublique, vous, mlenchon, nest, la",
          "<b>Topic 1</b><br>Words: rpublique, vive, fermerai, dfient, dpeignez",
          "<b>Topic 1</b><br>Words: passait, rpublique, acceptables, indivisible, recul",
          "<b>Topic 1</b><br>Words: rpublique, radicalsocialiste, souille, hauteur, rpcr"
         ],
         "marker": {
          "color": "#56B4E9"
         },
         "mode": "lines",
         "name": "1_rpublique_vous_la_cest",
         "type": "scatter",
         "x": [
          "2022-07-05T22:09:07.200000",
          "2022-09-14T19:48:00",
          "2022-10-19T22:12:00",
          "2022-11-24T00:36:00",
          "2022-12-29T03:00:00",
          "2023-02-02T05:24:00",
          "2023-03-09T07:48:00",
          "2023-04-13T10:12:00",
          "2023-05-18T12:36:00",
          "2023-06-22T15:00:00",
          "2023-08-31T19:48:00",
          "2023-10-05T22:12:00",
          "2023-11-10T00:36:00",
          "2023-12-15T03:00:00",
          "2024-01-19T05:24:00",
          "2024-02-23T07:48:00",
          "2024-03-29T10:12:00",
          "2024-05-03T12:36:00"
         ],
         "y": [
          11,
          5,
          10,
          5,
          8,
          7,
          13,
          20,
          17,
          24,
          2,
          14,
          8,
          8,
          9,
          9,
          3,
          8
         ]
        },
        {
         "hoverinfo": "text",
         "hovertext": [
          "<b>Topic 2</b><br>Words: martinique, et, les, la, en",
          "<b>Topic 2</b><br>Words: lola, douleur, barbarie, elle, mincline",
          "<b>Topic 2</b><br>Words: la, et, de, des, les",
          "<b>Topic 2</b><br>Words: des, la, de, le, dextrme",
          "<b>Topic 2</b><br>Words: violences, de, femmes, des, la",
          "<b>Topic 2</b><br>Words: violences, peine, dinligibilit, la, de",
          "<b>Topic 2</b><br>Words: terrorisme, dextrme, violence, de, des",
          "<b>Topic 2</b><br>Words: violences, de, et, la, des",
          "<b>Topic 2</b><br>Words: lorsquon, naime, dgradation, on, terre",
          "<b>Topic 2</b><br>Words: violences, des, les, de, la",
          "<b>Topic 2</b><br>Words: violences, choque, notre, des, les",
          "<b>Topic 2</b><br>Words: peuton, de, et, la, des",
          "<b>Topic 2</b><br>Words: fraie, rationalit, for, intrieur, profondes",
          "<b>Topic 2</b><br>Words: lus, des, de, la, en",
          "<b>Topic 2</b><br>Words: de, violences, et, des, la",
          "<b>Topic 2</b><br>Words: et, violences, des, la, les"
         ],
         "marker": {
          "color": "#009E73"
         },
         "mode": "lines",
         "name": "2_des_de_violences_la",
         "type": "scatter",
         "x": [
          "2022-07-05T22:09:07.200000",
          "2022-09-14T19:48:00",
          "2022-10-19T22:12:00",
          "2022-11-24T00:36:00",
          "2022-12-29T03:00:00",
          "2023-02-02T05:24:00",
          "2023-03-09T07:48:00",
          "2023-04-13T10:12:00",
          "2023-05-18T12:36:00",
          "2023-06-22T15:00:00",
          "2023-10-05T22:12:00",
          "2023-11-10T00:36:00",
          "2023-12-15T03:00:00",
          "2024-01-19T05:24:00",
          "2024-02-23T07:48:00",
          "2024-05-03T12:36:00"
         ],
         "y": [
          3,
          1,
          8,
          4,
          2,
          3,
          13,
          20,
          2,
          17,
          4,
          8,
          1,
          9,
          7,
          4
         ]
        },
        {
         "hoverinfo": "text",
         "hovertext": [
          "<b>Topic 3</b><br>Words: femmes, nous, des, et, la",
          "<b>Topic 3</b><br>Words: lhritage, plus, moiti, 211, 10",
          "<b>Topic 3</b><br>Words: droits, la, de, des, liberts",
          "<b>Topic 3</b><br>Words: femmes, des, droit, et, de",
          "<b>Topic 3</b><br>Words: violences, femmes, victimes, de, les",
          "<b>Topic 3</b><br>Words: femmes, les, de, et, des",
          "<b>Topic 3</b><br>Words: et, de, des, la, femmes",
          "<b>Topic 3</b><br>Words: et, de, droit, tout, son",
          "<b>Topic 3</b><br>Words: femmes, la, des, de, les",
          "<b>Topic 3</b><br>Words: femmes, et, de, les, hommes",
          "<b>Topic 3</b><br>Words: estil, devoir, quen, loger, soigner",
          "<b>Topic 3</b><br>Words: la, de, que, des, et",
          "<b>Topic 3</b><br>Words: tests, discriminations, de, des, la",
          "<b>Topic 3</b><br>Words: matrimonial, de, droit, fiscale, la",
          "<b>Topic 3</b><br>Words: femmes, de, droit, la, droits",
          "<b>Topic 3</b><br>Words: femmes, la, de, et, des",
          "<b>Topic 3</b><br>Words: dexpression, absurdesjamais, pdocriminels, chape, attent",
          "<b>Topic 3</b><br>Words: patrimoniale, nous, la, que, une"
         ],
         "marker": {
          "color": "#F0E442"
         },
         "mode": "lines",
         "name": "3_femmes_de_la_et",
         "type": "scatter",
         "x": [
          "2022-07-05T22:09:07.200000",
          "2022-09-14T19:48:00",
          "2022-10-19T22:12:00",
          "2022-11-24T00:36:00",
          "2022-12-29T03:00:00",
          "2023-02-02T05:24:00",
          "2023-03-09T07:48:00",
          "2023-04-13T10:12:00",
          "2023-05-18T12:36:00",
          "2023-06-22T15:00:00",
          "2023-08-31T19:48:00",
          "2023-10-05T22:12:00",
          "2023-11-10T00:36:00",
          "2023-12-15T03:00:00",
          "2024-01-19T05:24:00",
          "2024-02-23T07:48:00",
          "2024-03-29T10:12:00",
          "2024-05-03T12:36:00"
         ],
         "y": [
          8,
          1,
          6,
          9,
          3,
          13,
          5,
          2,
          8,
          5,
          1,
          5,
          4,
          2,
          9,
          20,
          1,
          4
         ]
        },
        {
         "hoverinfo": "text",
         "hovertext": [
          "<b>Topic 4</b><br>Words: de, nous, les, et, pas",
          "<b>Topic 4</b><br>Words: territoires, doutremer, dpartements, serva, conseillers",
          "<b>Topic 4</b><br>Words: les, et, de, des, la",
          "<b>Topic 4</b><br>Words: notre, pesticides, de, pays, la",
          "<b>Topic 4</b><br>Words: de, marins, les, fonds, la",
          "<b>Topic 4</b><br>Words: vie, de, la, et, les",
          "<b>Topic 4</b><br>Words: de, des, communes, du, et",
          "<b>Topic 4</b><br>Words: de, territoires, territoriale, les, en",
          "<b>Topic 4</b><br>Words: de, des, territoires, nos, les",
          "<b>Topic 4</b><br>Words: doutremer, exclure, territoires, ordonnances, adapt",
          "<b>Topic 4</b><br>Words: de, des, en, la, milliards",
          "<b>Topic 4</b><br>Words: des, de, et, la, lucidit",
          "<b>Topic 4</b><br>Words: collectivits, seulement, logements, relve, de",
          "<b>Topic 4</b><br>Words: mmes, sentir, dcouverte, lextension, de",
          "<b>Topic 4</b><br>Words: rgions, les, en, et, de",
          "<b>Topic 4</b><br>Words: polynsie, ultramarins, avis, de, applicables",
          "<b>Topic 4</b><br>Words: outremer, les, de, des, et"
         ],
         "marker": {
          "color": "#D55E00"
         },
         "mode": "lines",
         "name": "4_de_des_les_et",
         "type": "scatter",
         "x": [
          "2022-07-05T22:09:07.200000",
          "2022-09-14T19:48:00",
          "2022-10-19T22:12:00",
          "2022-11-24T00:36:00",
          "2022-12-29T03:00:00",
          "2023-02-02T05:24:00",
          "2023-03-09T07:48:00",
          "2023-05-18T12:36:00",
          "2023-06-22T15:00:00",
          "2023-08-31T19:48:00",
          "2023-10-05T22:12:00",
          "2023-11-10T00:36:00",
          "2023-12-15T03:00:00",
          "2024-01-19T05:24:00",
          "2024-02-23T07:48:00",
          "2024-03-29T10:12:00",
          "2024-05-03T12:36:00"
         ],
         "y": [
          4,
          3,
          2,
          3,
          6,
          5,
          5,
          13,
          6,
          1,
          2,
          3,
          1,
          2,
          3,
          1,
          4
         ]
        },
        {
         "hoverinfo": "text",
         "hovertext": [
          "<b>Topic 5</b><br>Words: espoirsnous, institutions, mesurons, sollicite, sera",
          "<b>Topic 5</b><br>Words: vous, pays, majorit, tous, et",
          "<b>Topic 5</b><br>Words: vous, franais, hautsdefrance, rpublique, convaincue",
          "<b>Topic 5</b><br>Words: tes, criminels, dfendre, trangers, dputs",
          "<b>Topic 5</b><br>Words: franais, je, collgues, rpublique, vous",
          "<b>Topic 5</b><br>Words: ct, possdants, principeavec, volent, nchappe",
          "<b>Topic 5</b><br>Words: vous, franais, vaut, et, contre",
          "<b>Topic 5</b><br>Words: vive, ensemble, lecamp, lectrochocs, compreniez",
          "<b>Topic 5</b><br>Words: vous, franais, votons, protgeons, rpublique",
          "<b>Topic 5</b><br>Words: ensemble, servons, assurons, publics, services",
          "<b>Topic 5</b><br>Words: langue, cest, devoir, rpublique, unit",
          "<b>Topic 5</b><br>Words: dsolidaris, messagearrtons, parlaient, grandsparents, hominem",
          "<b>Topic 5</b><br>Words: dpassons, partisane, france, lorsque, peuple",
          "<b>Topic 5</b><br>Words: tu, ten, bicentenaire, clique, pars",
          "<b>Topic 5</b><br>Words: voulez, vous, dfenseurs, pourri, potentat",
          "<b>Topic 5</b><br>Words: dalgrie, guerre, honteux, ive, dites"
         ],
         "marker": {
          "color": "#0072B2"
         },
         "mode": "lines",
         "name": "5_vous_franais_rpublique_et",
         "type": "scatter",
         "x": [
          "2022-07-05T22:09:07.200000",
          "2022-09-14T19:48:00",
          "2022-10-19T22:12:00",
          "2022-11-24T00:36:00",
          "2023-02-02T05:24:00",
          "2023-03-09T07:48:00",
          "2023-04-13T10:12:00",
          "2023-05-18T12:36:00",
          "2023-06-22T15:00:00",
          "2023-08-31T19:48:00",
          "2023-10-05T22:12:00",
          "2023-11-10T00:36:00",
          "2023-12-15T03:00:00",
          "2024-01-19T05:24:00",
          "2024-02-23T07:48:00",
          "2024-03-29T10:12:00"
         ],
         "y": [
          2,
          4,
          4,
          1,
          5,
          2,
          4,
          2,
          8,
          1,
          5,
          1,
          3,
          2,
          2,
          1
         ]
        },
        {
         "hoverinfo": "text",
         "hovertext": [
          "<b>Topic 6</b><br>Words: rpublicain, jeu, voil, rpublicains, cest",
          "<b>Topic 6</b><br>Words: proccup, lment, rupture, deuxime, dgalit",
          "<b>Topic 6</b><br>Words: rpublicain, attendent, poser, mpris, lesprit",
          "<b>Topic 6</b><br>Words: courtoisie, arrtez, rpublicaine, lordre, loccasion",
          "<b>Topic 6</b><br>Words: pensais, ladhsion, fallait, exemples, citer",
          "<b>Topic 6</b><br>Words: voil, gauche, rpublicaine, rpublicain, la",
          "<b>Topic 6</b><br>Words: digue, crase, rpublicain, pratique, rpublicaine",
          "<b>Topic 6</b><br>Words: rpublicain, domine, lvent, nuits, lordre",
          "<b>Topic 6</b><br>Words: rpublicain, rpublicaine, dincohrence, laxe, nappartenez",
          "<b>Topic 6</b><br>Words: rpublicain, lordre, vitez, enfin, rpublicaine",
          "<b>Topic 6</b><br>Words: incomptente, blague, rpublicain, assurer, lordre",
          "<b>Topic 6</b><br>Words: rpublicain, dorfraie, naccepte, respect, denseigner",
          "<b>Topic 6</b><br>Words: rpublicaine, lordre, rpublicain, craque, feindre",
          "<b>Topic 6</b><br>Words: navez, nom, rpublicain, plus, vous",
          "<b>Topic 6</b><br>Words: commences, conclut, sanglantes, avantgot, malraux",
          "<b>Topic 6</b><br>Words: respectez, agissent, affaire, rpublicaine, lordre"
         ],
         "marker": {
          "color": "#CC79A7"
         },
         "mode": "lines",
         "name": "6_rpublicain_rpublicaine_lordre_cest",
         "type": "scatter",
         "x": [
          "2022-07-05T22:09:07.200000",
          "2022-09-14T19:48:00",
          "2022-10-19T22:12:00",
          "2022-11-24T00:36:00",
          "2022-12-29T03:00:00",
          "2023-02-02T05:24:00",
          "2023-03-09T07:48:00",
          "2023-04-13T10:12:00",
          "2023-05-18T12:36:00",
          "2023-06-22T15:00:00",
          "2023-08-31T19:48:00",
          "2023-10-05T22:12:00",
          "2023-11-10T00:36:00",
          "2023-12-15T03:00:00",
          "2024-02-23T07:48:00",
          "2024-05-03T12:36:00"
         ],
         "y": [
          4,
          1,
          3,
          1,
          2,
          1,
          2,
          5,
          4,
          7,
          1,
          3,
          6,
          1,
          1,
          3
         ]
        },
        {
         "hoverinfo": "text",
         "hovertext": [
          "<b>Topic 7</b><br>Words: vous, motion, censure, votre, la",
          "<b>Topic 7</b><br>Words: vous, menorgueillis, excutent, que, autoritariste",
          "<b>Topic 7</b><br>Words: vous, nous, de, et, la",
          "<b>Topic 7</b><br>Words: vous, 493, que, la, de",
          "<b>Topic 7</b><br>Words: vous, la, le, pour, que",
          "<b>Topic 7</b><br>Words: vous, la, rsolution, de, chers",
          "<b>Topic 7</b><br>Words: vous, jour, amis, nous, ne",
          "<b>Topic 7</b><br>Words: vous, dputs, eux, qui, pour",
          "<b>Topic 7</b><br>Words: vous, dpenses, que, des, dputs",
          "<b>Topic 7</b><br>Words: vous, lgitimes, ntes, absolument, soutenez",
          "<b>Topic 7</b><br>Words: hamas, la, le, des, sanctions",
          "<b>Topic 7</b><br>Words: vous, idaux, votre, lextrme, motions",
          "<b>Topic 7</b><br>Words: abattre, vous, quinvisibles, fraternit, lointain",
          "<b>Topic 7</b><br>Words: pas, ne, votent, dput, pourrions",
          "<b>Topic 7</b><br>Words: vous, pas, gendarmes, que, kanak"
         ],
         "marker": {
          "color": "#E69F00"
         },
         "mode": "lines",
         "name": "7_vous_la_de_que",
         "type": "scatter",
         "x": [
          "2022-07-05T22:09:07.200000",
          "2022-09-14T19:48:00",
          "2022-10-19T22:12:00",
          "2022-11-24T00:36:00",
          "2023-03-09T07:48:00",
          "2023-04-13T10:12:00",
          "2023-05-18T12:36:00",
          "2023-06-22T15:00:00",
          "2023-08-31T19:48:00",
          "2023-10-05T22:12:00",
          "2023-11-10T00:36:00",
          "2023-12-15T03:00:00",
          "2024-01-19T05:24:00",
          "2024-02-23T07:48:00",
          "2024-05-03T12:36:00"
         ],
         "y": [
          5,
          1,
          3,
          7,
          3,
          3,
          4,
          3,
          2,
          2,
          1,
          3,
          1,
          2,
          2
         ]
        },
        {
         "hoverinfo": "text",
         "hovertext": [
          "<b>Topic 8</b><br>Words: avais, relatifs, convaincus, arguments, protge",
          "<b>Topic 8</b><br>Words: remorque, droite, proclament, ardents, sortira",
          "<b>Topic 8</b><br>Words: essaie, concilier, dgager, assumons, reprsenter",
          "<b>Topic 8</b><br>Words: progrs, rpublique, obstinez, basait, votre",
          "<b>Topic 8</b><br>Words: lextrme, droite, conviction, lesprer, rpublique",
          "<b>Topic 8</b><br>Words: rpublique, mauvaise, certaines, ne, pas",
          "<b>Topic 8</b><br>Words: affaiblissant, rpublique, pourquoi, dfendre, voil",
          "<b>Topic 8</b><br>Words: rpublique, lordre, la, gnie, caricature",
          "<b>Topic 8</b><br>Words: rcessive, biaise, linefficacit, contestons, dattentats",
          "<b>Topic 8</b><br>Words: veuxtu, droit, doublier, principes, oubliez",
          "<b>Topic 8</b><br>Words: droite, dinjures, rpublique, ngocier, faut",
          "<b>Topic 8</b><br>Words: droite, lextrme, rpublique, grossi, aventurer",
          "<b>Topic 8</b><br>Words: intimids, chevilles, lthique, ouvrires, agresss",
          "<b>Topic 8</b><br>Words: professer, planter, tente, vague, racistes"
         ],
         "marker": {
          "color": "#56B4E9"
         },
         "mode": "lines",
         "name": "8_rpublique_droite_lextrme_la",
         "type": "scatter",
         "x": [
          "2022-09-14T19:48:00",
          "2022-11-24T00:36:00",
          "2022-12-29T03:00:00",
          "2023-02-02T05:24:00",
          "2023-03-09T07:48:00",
          "2023-04-13T10:12:00",
          "2023-05-18T12:36:00",
          "2023-06-22T15:00:00",
          "2023-08-31T19:48:00",
          "2023-10-05T22:12:00",
          "2023-11-10T00:36:00",
          "2023-12-15T03:00:00",
          "2024-01-19T05:24:00",
          "2024-02-23T07:48:00"
         ],
         "y": [
          1,
          2,
          1,
          2,
          2,
          7,
          4,
          7,
          2,
          2,
          5,
          3,
          2,
          1
         ]
        },
        {
         "hoverinfo": "text",
         "hovertext": [
          "<b>Topic 9</b><br>Words: reconqute, revitalisation, rurale, jeunes, zones",
          "<b>Topic 9</b><br>Words: publics, agents, sant, de, la",
          "<b>Topic 9</b><br>Words: cultuelles, mixtes, activits, les, dans",
          "<b>Topic 9</b><br>Words: lhpital, sant, de, les, public",
          "<b>Topic 9</b><br>Words: pour, communes, des, mais, les",
          "<b>Topic 9</b><br>Words: les, services, de, des, dans",
          "<b>Topic 9</b><br>Words: principes, satisfaits, fdrations, sports, des",
          "<b>Topic 9</b><br>Words: services, publics, de, les, des",
          "<b>Topic 9</b><br>Words: mairie, secrtaires, secrtaire, mtier, de",
          "<b>Topic 9</b><br>Words: et, de, la, les, des",
          "<b>Topic 9</b><br>Words: services, ruralit, publics, les, des",
          "<b>Topic 9</b><br>Words: casse, ruraux, ni, flambant, provoquez",
          "<b>Topic 9</b><br>Words: lentrisme, contrles, lutte, voqu, les"
         ],
         "marker": {
          "color": "#009E73"
         },
         "mode": "lines",
         "name": "9_de_services_les_la",
         "type": "scatter",
         "x": [
          "2022-10-19T22:12:00",
          "2023-02-02T05:24:00",
          "2023-03-09T07:48:00",
          "2023-04-13T10:12:00",
          "2023-05-18T12:36:00",
          "2023-06-22T15:00:00",
          "2023-10-05T22:12:00",
          "2023-11-10T00:36:00",
          "2023-12-15T03:00:00",
          "2024-01-19T05:24:00",
          "2024-02-23T07:48:00",
          "2024-03-29T10:12:00",
          "2024-05-03T12:36:00"
         ],
         "y": [
          1,
          5,
          2,
          3,
          2,
          6,
          3,
          6,
          1,
          2,
          7,
          2,
          1
         ]
        },
        {
         "hoverinfo": "text",
         "hovertext": [
          "<b>Topic 10</b><br>Words: nous, notre, de, que, et",
          "<b>Topic 10</b><br>Words: arrive, daccord, majoritmais, mmes, nous",
          "<b>Topic 10</b><br>Words: nous, que, pas, ne, une",
          "<b>Topic 10</b><br>Words: nous, nos, de, qui, repenser",
          "<b>Topic 10</b><br>Words: ne, nous, scrutin, cest, de",
          "<b>Topic 10</b><br>Words: nous, juger, bureau, lassemble, pas",
          "<b>Topic 10</b><br>Words: nous, vous, jeux, olympiques, pas",
          "<b>Topic 10</b><br>Words: racheter, droite, vous, nous, raciste",
          "<b>Topic 10</b><br>Words: cohrents, approuvions, rpublicainsde, nous, dmontrons",
          "<b>Topic 10</b><br>Words: nous, vous, que, la, de",
          "<b>Topic 10</b><br>Words: nous, sommes, lorsquil, ennemi, que",
          "<b>Topic 10</b><br>Words: nous, secrtaires, rle, mairie, de",
          "<b>Topic 10</b><br>Words: nous, rac, notre, vous, resterons",
          "<b>Topic 10</b><br>Words: exhaustiveaprs, napportons, navement, rassur, rimane"
         ],
         "marker": {
          "color": "#F0E442"
         },
         "mode": "lines",
         "name": "10_nous_de_que_ne",
         "type": "scatter",
         "x": [
          "2022-07-05T22:09:07.200000",
          "2022-09-14T19:48:00",
          "2022-10-19T22:12:00",
          "2022-11-24T00:36:00",
          "2022-12-29T03:00:00",
          "2023-02-02T05:24:00",
          "2023-03-09T07:48:00",
          "2023-04-13T10:12:00",
          "2023-05-18T12:36:00",
          "2023-10-05T22:12:00",
          "2023-11-10T00:36:00",
          "2023-12-15T03:00:00",
          "2024-01-19T05:24:00",
          "2024-02-23T07:48:00"
         ],
         "y": [
          3,
          1,
          7,
          3,
          2,
          1,
          4,
          1,
          1,
          6,
          4,
          1,
          3,
          1
         ]
        },
        {
         "hoverinfo": "text",
         "hovertext": [
          "<b>Topic 11</b><br>Words: droitle, conduirons, lorsquune, quilibr, uvrent",
          "<b>Topic 11</b><br>Words: et, limmigration, france, cest, que",
          "<b>Topic 11</b><br>Words: limmigration, regroupement, trangers, familial, familiale",
          "<b>Topic 11</b><br>Words: limmigration, clandestine, contre, de, france",
          "<b>Topic 11</b><br>Words: domicili, accomplis, problme, tranger, vingt",
          "<b>Topic 11</b><br>Words: limmigration, de, que, et, le",
          "<b>Topic 11</b><br>Words: lhbergement, de, nous, la, limmigration",
          "<b>Topic 11</b><br>Words: censurer, servilement, vous, abandonnant, hideux",
          "<b>Topic 11</b><br>Words: dans, le, et, femme, jeune",
          "<b>Topic 11</b><br>Words: dasile, pacte, europenne, dans, solidarit"
         ],
         "marker": {
          "color": "#D55E00"
         },
         "mode": "lines",
         "name": "11_limmigration_de_et_que",
         "type": "scatter",
         "x": [
          "2022-10-19T22:12:00",
          "2022-11-24T00:36:00",
          "2023-02-02T05:24:00",
          "2023-03-09T07:48:00",
          "2023-06-22T15:00:00",
          "2023-11-10T00:36:00",
          "2023-12-15T03:00:00",
          "2024-01-19T05:24:00",
          "2024-02-23T07:48:00",
          "2024-05-03T12:36:00"
         ],
         "y": [
          1,
          9,
          2,
          2,
          1,
          13,
          4,
          1,
          1,
          2
         ]
        },
        {
         "hoverinfo": "text",
         "hovertext": [
          "<b>Topic 12</b><br>Words: les, linflation, des, le, de",
          "<b>Topic 12</b><br>Words: vous, les, de, croissance, le",
          "<b>Topic 12</b><br>Words: milliards, de, les, millions, en",
          "<b>Topic 12</b><br>Words: produits, bqp, panier, nouveaux, euros",
          "<b>Topic 12</b><br>Words: prix, antiinflation, 13, panier, blocage",
          "<b>Topic 12</b><br>Words: lpm, de, les, la, le",
          "<b>Topic 12</b><br>Words: locataires, logement, nous, le, loyer",
          "<b>Topic 12</b><br>Words: salaires, parquet, rivaliser, fiscale, de",
          "<b>Topic 12</b><br>Words: pour, 18, avancer, emploi, transition",
          "<b>Topic 12</b><br>Words: les, de, des, budget, que",
          "<b>Topic 12</b><br>Words: alimentaires, linflation, cette, salaires, anormalement"
         ],
         "marker": {
          "color": "#0072B2"
         },
         "mode": "lines",
         "name": "12_les_de_le_des",
         "type": "scatter",
         "x": [
          "2022-07-05T22:09:07.200000",
          "2022-09-14T19:48:00",
          "2022-10-19T22:12:00",
          "2022-12-29T03:00:00",
          "2023-02-02T05:24:00",
          "2023-04-13T10:12:00",
          "2023-05-18T12:36:00",
          "2023-06-22T15:00:00",
          "2023-08-31T19:48:00",
          "2023-10-05T22:12:00",
          "2023-11-10T00:36:00"
         ],
         "y": [
          5,
          2,
          8,
          1,
          1,
          1,
          4,
          2,
          1,
          7,
          1
         ]
        },
        {
         "hoverinfo": "text",
         "hovertext": [
          "<b>Topic 13</b><br>Words: sant, parviendrons, devons, maison, nous",
          "<b>Topic 13</b><br>Words: sant, de, les, la, soins",
          "<b>Topic 13</b><br>Words: sant, les, de, nous, que",
          "<b>Topic 13</b><br>Words: sant, soins, les, mdecins, ipa",
          "<b>Topic 13</b><br>Words: sant, mdecins, de, la, des",
          "<b>Topic 13</b><br>Words: sant, soins, mdecins, de, des",
          "<b>Topic 13</b><br>Words: mdecins, lassurance, maladie, convention, soins",
          "<b>Topic 13</b><br>Words: sant, mdicale, pratiques, de, des",
          "<b>Topic 13</b><br>Words: dargentan, patients, daumnerie, sant, daumnier",
          "<b>Topic 13</b><br>Words: drives, sectaires, pratiques, sant, la",
          "<b>Topic 13</b><br>Words: chlordcone, prjudices, les, la, de",
          "<b>Topic 13</b><br>Words: prvention, vador, moyenso, contreattaque, dassistants",
          "<b>Topic 13</b><br>Words: exceptions, javoue, clause, respectives, droger"
         ],
         "marker": {
          "color": "#CC79A7"
         },
         "mode": "lines",
         "name": "13_sant_de_soins_les",
         "type": "scatter",
         "x": [
          "2022-07-05T22:09:07.200000",
          "2022-10-19T22:12:00",
          "2022-11-24T00:36:00",
          "2022-12-29T03:00:00",
          "2023-03-09T07:48:00",
          "2023-05-18T12:36:00",
          "2023-06-22T15:00:00",
          "2023-10-05T22:12:00",
          "2023-11-10T00:36:00",
          "2024-01-19T05:24:00",
          "2024-02-23T07:48:00",
          "2024-03-29T10:12:00",
          "2024-05-03T12:36:00"
         ],
         "y": [
          1,
          4,
          3,
          2,
          3,
          9,
          1,
          3,
          1,
          1,
          1,
          1,
          1
         ]
        },
        {
         "hoverinfo": "text",
         "hovertext": [
          "<b>Topic 14</b><br>Words: gendarmerie, police, jimaginais, vous, fonctions",
          "<b>Topic 14</b><br>Words: police, gendarmerie, la, de, judiciaire",
          "<b>Topic 14</b><br>Words: filet, ministre, police, les, scurit",
          "<b>Topic 14</b><br>Words: police, contrle, les, de, des",
          "<b>Topic 14</b><br>Words: police, drones, pas, que, de",
          "<b>Topic 14</b><br>Words: gendarmerie, automobile, parc, 000, police",
          "<b>Topic 14</b><br>Words: police, violences, que, les, tirs",
          "<b>Topic 14</b><br>Words: police, travail, donner, dpression, remplissent",
          "<b>Topic 14</b><br>Words: clspd, police, citoyens, prsence, des"
         ],
         "marker": {
          "color": "#E69F00"
         },
         "mode": "lines",
         "name": "14_police_de_gendarmerie_la",
         "type": "scatter",
         "x": [
          "2022-07-05T22:09:07.200000",
          "2022-10-19T22:12:00",
          "2022-11-24T00:36:00",
          "2022-12-29T03:00:00",
          "2023-03-09T07:48:00",
          "2023-04-13T10:12:00",
          "2023-06-22T15:00:00",
          "2023-10-05T22:12:00",
          "2024-01-19T05:24:00"
         ],
         "y": [
          3,
          14,
          2,
          2,
          4,
          1,
          2,
          1,
          1
         ]
        },
        {
         "hoverinfo": "text",
         "hovertext": [
          "<b>Topic 15</b><br>Words: lantismitisme, haine, ninventez, dpches, habib",
          "<b>Topic 15</b><br>Words: lantismitisme, racisme, universalisme, haines, luniversalisme",
          "<b>Topic 15</b><br>Words: maladies, racistes, mdicaments, nationalit, vous",
          "<b>Topic 15</b><br>Words: pensezvous, considration, dennemi, emploient, sauvages",
          "<b>Topic 15</b><br>Words: lantismitisme, antismites, haine, actes, recenss",
          "<b>Topic 15</b><br>Words: lantismitisme, rpondu, haine, contre, groupuscules",
          "<b>Topic 15</b><br>Words: rfrents, racisme, lantismitisme, tablissements, antismitisme",
          "<b>Topic 15</b><br>Words: lantismitisme, racisme, haine, et, la"
         ],
         "marker": {
          "color": "#56B4E9"
         },
         "mode": "lines",
         "name": "15_lantismitisme_racisme_haine_et",
         "type": "scatter",
         "x": [
          "2022-07-05T22:09:07.200000",
          "2022-12-29T03:00:00",
          "2023-05-18T12:36:00",
          "2023-06-22T15:00:00",
          "2023-10-05T22:12:00",
          "2023-11-10T00:36:00",
          "2024-01-19T05:24:00",
          "2024-02-23T07:48:00"
         ],
         "y": [
          2,
          3,
          2,
          1,
          7,
          3,
          1,
          9
         ]
        },
        {
         "hoverinfo": "text",
         "hovertext": [
          "<b>Topic 16</b><br>Words: de, milliards, le, crdits, que",
          "<b>Topic 16</b><br>Words: budget, crdits, outremer, de, en",
          "<b>Topic 16</b><br>Words: fin, auraitil, vous, 493, bientt",
          "<b>Topic 16</b><br>Words: le, vous, de, on, des",
          "<b>Topic 16</b><br>Words: 500, conseils, vous, abaissez, fabriquez",
          "<b>Topic 16</b><br>Words: que, de, nous, le, la",
          "<b>Topic 16</b><br>Words: vnrons, fongibilit, dallotissement, foulerons, aborderezvous",
          "<b>Topic 16</b><br>Words: de, 2030, milliards, le, des",
          "<b>Topic 16</b><br>Words: wulfranc, peu, pointstout, cordialit, huchon",
          "<b>Topic 16</b><br>Words: locaux, dcentralisation, lus, le, de"
         ],
         "marker": {
          "color": "#009E73"
         },
         "mode": "lines",
         "name": "16_de_le_que_la",
         "type": "scatter",
         "x": [
          "2022-07-05T22:09:07.200000",
          "2022-10-19T22:12:00",
          "2022-11-24T00:36:00",
          "2023-02-02T05:24:00",
          "2023-04-13T10:12:00",
          "2023-05-18T12:36:00",
          "2023-06-22T15:00:00",
          "2023-10-05T22:12:00",
          "2023-11-10T00:36:00",
          "2024-01-19T05:24:00"
         ],
         "y": [
          6,
          2,
          2,
          4,
          1,
          4,
          1,
          6,
          1,
          1
         ]
        },
        {
         "hoverinfo": "text",
         "hovertext": [
          "<b>Topic 17</b><br>Words: nouvellecaldonienous, crire, dfini, page, nouma",
          "<b>Topic 17</b><br>Words: caldoniens, nouvellecaldonie, mtal, honneur, vous",
          "<b>Topic 17</b><br>Words: caldoniens, nouvellecaldonie, le, les, runi",
          "<b>Topic 17</b><br>Words: ns, matremot, indpendantistes, le, ils",
          "<b>Topic 17</b><br>Words: nouvellecaldonie, lections, caldoniens, le, lectoral",
          "<b>Topic 17</b><br>Words: nouvellecaldonie, lections, lectoral, le, caldoniens"
         ],
         "marker": {
          "color": "#F0E442"
         },
         "mode": "lines",
         "name": "17_nouvellecaldonie_lections_caldoniens_...",
         "type": "scatter",
         "x": [
          "2022-07-05T22:09:07.200000",
          "2022-11-24T00:36:00",
          "2023-10-05T22:12:00",
          "2023-11-10T00:36:00",
          "2024-02-23T07:48:00",
          "2024-05-03T12:36:00"
         ],
         "y": [
          1,
          1,
          1,
          1,
          5,
          18
         ]
        },
        {
         "hoverinfo": "text",
         "hovertext": [
          "<b>Topic 18</b><br>Words: paty, samuel, dimanche, islamiste, terroriste",
          "<b>Topic 18</b><br>Words: enseignants, phnomnes, ladministration, scolaires, enjoignons",
          "<b>Topic 18</b><br>Words: dtablissement, chefs, retranche, dispositifmonsieur, dfie",
          "<b>Topic 18</b><br>Words: notre, paty, samuel, nous, terrorisme",
          "<b>Topic 18</b><br>Words: islamiste, attentat, terroriste, poser, commis",
          "<b>Topic 18</b><br>Words: manuel, israliens, palestiniens, humaniste, gravitation",
          "<b>Topic 18</b><br>Words: tablissements, scolaires, coles, scurisation, et",
          "<b>Topic 18</b><br>Words: terroriste, terrorisme, panneau, victimes, square"
         ],
         "marker": {
          "color": "#D55E00"
         },
         "mode": "lines",
         "name": "18_paty_samuel_notre_et",
         "type": "scatter",
         "x": [
          "2022-09-14T19:48:00",
          "2022-10-19T22:12:00",
          "2022-12-29T03:00:00",
          "2023-10-05T22:12:00",
          "2023-11-10T00:36:00",
          "2023-12-15T03:00:00",
          "2024-01-19T05:24:00",
          "2024-02-23T07:48:00"
         ],
         "y": [
          4,
          1,
          1,
          17,
          1,
          1,
          1,
          1
         ]
        },
        {
         "hoverinfo": "text",
         "hovertext": [
          "<b>Topic 19</b><br>Words: justice, de, des, budget, plus",
          "<b>Topic 19</b><br>Words: 000, confirme, reprises, malheureusement, justice",
          "<b>Topic 19</b><br>Words: justice, magistrats, de, la, des",
          "<b>Topic 19</b><br>Words: justice, de, des, la, magistrats",
          "<b>Topic 19</b><br>Words: justice, chercherons, diffrenciation, plus, mmes",
          "<b>Topic 19</b><br>Words: justice, plus, les, de, la",
          "<b>Topic 19</b><br>Words: nihilisme, souveniren, honteux, semblant, lavoir"
         ],
         "marker": {
          "color": "#0072B2"
         },
         "mode": "lines",
         "name": "19_justice_de_la_des",
         "type": "scatter",
         "x": [
          "2022-10-19T22:12:00",
          "2023-05-18T12:36:00",
          "2023-06-22T15:00:00",
          "2023-10-05T22:12:00",
          "2024-01-19T05:24:00",
          "2024-02-23T07:48:00",
          "2024-03-29T10:12:00"
         ],
         "y": [
          5,
          1,
          12,
          3,
          1,
          4,
          1
         ]
        },
        {
         "hoverinfo": "text",
         "hovertext": [
          "<b>Topic 20</b><br>Words: disral, isral, arabes, juifs, dapartheid",
          "<b>Topic 20</b><br>Words: vous, bollor, et, ministre, journalistes",
          "<b>Topic 20</b><br>Words: la, et, isral, hamas, de",
          "<b>Topic 20</b><br>Words: lantismitisme, juive, confession, actes, antismites",
          "<b>Topic 20</b><br>Words: sud, lafrique, palestiniens, du, gnocide",
          "<b>Topic 20</b><br>Words: luniversit, hamas, juifs, haine, lhommage",
          "<b>Topic 20</b><br>Words: juifs, tudiants, haine, actes, implacable"
         ],
         "marker": {
          "color": "#CC79A7"
         },
         "mode": "lines",
         "name": "20_la_et_isral_de",
         "type": "scatter",
         "x": [
          "2023-04-13T10:12:00",
          "2023-06-22T15:00:00",
          "2023-10-05T22:12:00",
          "2023-11-10T00:36:00",
          "2023-12-15T03:00:00",
          "2024-01-19T05:24:00",
          "2024-02-23T07:48:00"
         ],
         "y": [
          2,
          1,
          15,
          2,
          2,
          2,
          2
         ]
        },
        {
         "hoverinfo": "text",
         "hovertext": [
          "<b>Topic 21</b><br>Words: sociale, vous, scurit, chmeurs, soixantedixsept",
          "<b>Topic 21</b><br>Words: scurit, secours, sociale, premiers, dcouter",
          "<b>Topic 21</b><br>Words: sant, scurit, sociale, de, plfss",
          "<b>Topic 21</b><br>Words: summum, sousentendant, tendancieux, passez, linstrumentalisation",
          "<b>Topic 21</b><br>Words: sociale, scurit, rsorbent, dapprobation, fierts",
          "<b>Topic 21</b><br>Words: scurit, pacte, trouve, vous, survit",
          "<b>Topic 21</b><br>Words: sociale, scurit, vous, de, la",
          "<b>Topic 21</b><br>Words: sociale, scurit, de, sant, en",
          "<b>Topic 21</b><br>Words: sociale, scurit, de, la, notre"
         ],
         "marker": {
          "color": "#E69F00"
         },
         "mode": "lines",
         "name": "21_sociale_scurit_de_la",
         "type": "scatter",
         "x": [
          "2022-09-14T19:48:00",
          "2022-10-19T22:12:00",
          "2022-11-24T00:36:00",
          "2022-12-29T03:00:00",
          "2023-05-18T12:36:00",
          "2023-08-31T19:48:00",
          "2023-10-05T22:12:00",
          "2023-11-10T00:36:00",
          "2024-05-03T12:36:00"
         ],
         "y": [
          1,
          2,
          1,
          1,
          2,
          1,
          5,
          2,
          11
         ]
        },
        {
         "hoverinfo": "text",
         "hovertext": [
          "<b>Topic 22</b><br>Words: sparatisme, gourous, sectaire, signalements, drives",
          "<b>Topic 22</b><br>Words: lislamisme, confusionnisme, rougier, politicoreligieuse, emprise",
          "<b>Topic 22</b><br>Words: sparatisme, contre, rpublique, le, lutte",
          "<b>Topic 22</b><br>Words: nos, sparatisme, rpublique, lislamisme, radical",
          "<b>Topic 22</b><br>Words: sparatisme, principes, le, larticle, de",
          "<b>Topic 22</b><br>Words: sparatismele, poigne, obir, contournement, dchapper",
          "<b>Topic 22</b><br>Words: islamistes, musulmans, religion, gens, dissoute",
          "<b>Topic 22</b><br>Words: lislamogauchisme, islamique, lfistes, 161e, fatwa",
          "<b>Topic 22</b><br>Words: sparatisme, contre, principes, islamiste, discours"
         ],
         "marker": {
          "color": "#56B4E9"
         },
         "mode": "lines",
         "name": "22_sparatisme_rpublique_contre_le",
         "type": "scatter",
         "x": [
          "2022-10-19T22:12:00",
          "2022-12-29T03:00:00",
          "2023-03-09T07:48:00",
          "2023-10-05T22:12:00",
          "2023-11-10T00:36:00",
          "2024-01-19T05:24:00",
          "2024-02-23T07:48:00",
          "2024-03-29T10:12:00",
          "2024-05-03T12:36:00"
         ],
         "y": [
          1,
          1,
          8,
          4,
          4,
          1,
          2,
          2,
          3
         ]
        },
        {
         "hoverinfo": "text",
         "hovertext": [
          "<b>Topic 23</b><br>Words: larc, situerait, excluant, rpublicain, lappui",
          "<b>Topic 23</b><br>Words: larc, lappartenance, dtermine, rpublicain, dcider",
          "<b>Topic 23</b><br>Words: larc, rpublicain, barrage, vous, sortir",
          "<b>Topic 23</b><br>Words: barrage, trahison, quavezvous, rpublicain, usages",
          "<b>Topic 23</b><br>Words: devise, pauvrophobe, lautorit, traque, larc",
          "<b>Topic 23</b><br>Words: larc, rpublicain, tonnement, lucas, dfinir",
          "<b>Topic 23</b><br>Words: barrage, rpublicain, larc, incarn, macron",
          "<b>Topic 23</b><br>Words: croyais, larc, rn, rpublicain, taient",
          "<b>Topic 23</b><br>Words: dimpriales, monarchistes, rpublicain, prcisions, votes"
         ],
         "marker": {
          "color": "#009E73"
         },
         "mode": "lines",
         "name": "23_larc_rpublicain_barrage_incarn",
         "type": "scatter",
         "x": [
          "2023-04-13T10:12:00",
          "2023-05-18T12:36:00",
          "2023-06-22T15:00:00",
          "2023-08-31T19:48:00",
          "2023-10-05T22:12:00",
          "2023-11-10T00:36:00",
          "2023-12-15T03:00:00",
          "2024-02-23T07:48:00",
          "2024-05-03T12:36:00"
         ],
         "y": [
          1,
          1,
          10,
          1,
          1,
          3,
          5,
          1,
          1
         ]
        },
        {
         "hoverinfo": "text",
         "hovertext": [
          "<b>Topic 24</b><br>Words: petites, constitution, dgalit, trs, stipule",
          "<b>Topic 24</b><br>Words: constitution, la, de, du, le",
          "<b>Topic 24</b><br>Words: voie, lves, professionnel, lyces, de",
          "<b>Topic 24</b><br>Words: retraites, motion, page, daugmenter, dbat",
          "<b>Topic 24</b><br>Words: sombrer, parlement, limpuissance, censurer, dengager",
          "<b>Topic 24</b><br>Words: 40, budgtaire, prtera, compenserlarticle, pinardiers",
          "<b>Topic 24</b><br>Words: vous, de, la, le, constitution",
          "<b>Topic 24</b><br>Words: constitution, du, la, de, le",
          "<b>Topic 24</b><br>Words: corse, prsident, constitution, loccasion, la",
          "<b>Topic 24</b><br>Words: constitution, la, constitutionnelle, prambule, de"
         ],
         "marker": {
          "color": "#F0E442"
         },
         "mode": "lines",
         "name": "24_constitution_la_de_du",
         "type": "scatter",
         "x": [
          "2022-07-05T22:09:07.200000",
          "2022-11-24T00:36:00",
          "2022-12-29T03:00:00",
          "2023-02-02T05:24:00",
          "2023-03-09T07:48:00",
          "2023-05-18T12:36:00",
          "2023-10-05T22:12:00",
          "2023-11-10T00:36:00",
          "2024-01-19T05:24:00",
          "2024-05-03T12:36:00"
         ],
         "y": [
          1,
          4,
          1,
          2,
          1,
          1,
          1,
          6,
          2,
          4
         ]
        },
        {
         "hoverinfo": "text",
         "hovertext": [
          "<b>Topic 25</b><br>Words: dcision, associations, na, pendante, condamnationcertains",
          "<b>Topic 25</b><br>Words: dissolution, administrative, 2021, associations, lassociation",
          "<b>Topic 25</b><br>Words: espr, comports, matireje, prsidentiellegroupe, antilocatairesje",
          "<b>Topic 25</b><br>Words: rcidive, peines, planchers, la, de",
          "<b>Topic 25</b><br>Words: associations, contrat, subventions, dengagement, du",
          "<b>Topic 25</b><br>Words: fipd, lopposent, intransigeant, attribus, vienne",
          "<b>Topic 25</b><br>Words: bnvole, dengagement, associations, associatif, du",
          "<b>Topic 25</b><br>Words: lukraine, transparence, lengagement, russie, dengagement",
          "<b>Topic 25</b><br>Words: associations, associatif, bnvole, lengagement, dengagement",
          "<b>Topic 25</b><br>Words: associations, proslytisme, affiche, sportives, respectent"
         ],
         "marker": {
          "color": "#D55E00"
         },
         "mode": "lines",
         "name": "25_associations_dengagement_du_de",
         "type": "scatter",
         "x": [
          "2022-09-14T19:48:00",
          "2022-10-19T22:12:00",
          "2022-11-24T00:36:00",
          "2023-02-02T05:24:00",
          "2023-03-09T07:48:00",
          "2023-10-05T22:12:00",
          "2024-01-19T05:24:00",
          "2024-02-23T07:48:00",
          "2024-03-29T10:12:00",
          "2024-05-03T12:36:00"
         ],
         "y": [
          1,
          3,
          1,
          3,
          6,
          1,
          3,
          2,
          2,
          1
         ]
        },
        {
         "hoverinfo": "text",
         "hovertext": [
          "<b>Topic 26</b><br>Words: lassallemadame, occuper, souhaiter, madame, adresse",
          "<b>Topic 26</b><br>Words: ve, tes, trop, monsieur, ministre",
          "<b>Topic 26</b><br>Words: indit, usage, 493, madame, ve",
          "<b>Topic 26</b><br>Words: rprime, courtoisie, bonjour, ministre, pire",
          "<b>Topic 26</b><br>Words: choquant, spectacle, daffirmer, manifestants, premire",
          "<b>Topic 26</b><br>Words: ministre, monsieur, madame, vous, premire",
          "<b>Topic 26</b><br>Words: madame, premire, ministre, elyseefr, terminant",
          "<b>Topic 26</b><br>Words: yeux, madame, premire, ministre, vous",
          "<b>Topic 26</b><br>Words: madame, premire, 493, imaginezvous, najoutez",
          "<b>Topic 26</b><br>Words: emmenez, changez, chou, pourrez, fier",
          "<b>Topic 26</b><br>Words: calomnier, apaiss, adversaires, mentir, arrter"
         ],
         "marker": {
          "color": "#0072B2"
         },
         "mode": "lines",
         "name": "26_ministre_madame_premire_vous",
         "type": "scatter",
         "x": [
          "2022-07-05T22:09:07.200000",
          "2022-10-19T22:12:00",
          "2022-11-24T00:36:00",
          "2023-03-09T07:48:00",
          "2023-04-13T10:12:00",
          "2023-06-22T15:00:00",
          "2023-08-31T19:48:00",
          "2023-10-05T22:12:00",
          "2023-12-15T03:00:00",
          "2024-03-29T10:12:00",
          "2024-05-03T12:36:00"
         ],
         "y": [
          1,
          1,
          1,
          2,
          1,
          5,
          3,
          4,
          2,
          1,
          1
         ]
        },
        {
         "hoverinfo": "text",
         "hovertext": [
          "<b>Topic 27</b><br>Words: mayotte, mahorais, comores, assoumani, la",
          "<b>Topic 27</b><br>Words: mayotte, mahorais, de, la, lallocation",
          "<b>Topic 27</b><br>Words: mayotte, sois, 80, que, lampedusa",
          "<b>Topic 27</b><br>Words: mayotte, migratoire, territorialis, bidonvilles, visa",
          "<b>Topic 27</b><br>Words: mayotte, opration, mahorais, comores, wuambushu",
          "<b>Topic 27</b><br>Words: mayotte, comores, compatriotes, ministre, mahorais",
          "<b>Topic 27</b><br>Words: mayotte, mahorais, deau, eau, potable",
          "<b>Topic 27</b><br>Words: mayotte, opration, compatriotes, ultramarins, vous",
          "<b>Topic 27</b><br>Words: mayotte, situation, savaient, trouve, depuis",
          "<b>Topic 27</b><br>Words: mayotte, comores, souvenezvous, et, la",
          "<b>Topic 27</b><br>Words: cholra, mayotte, leptospirose, runion, frappent"
         ],
         "marker": {
          "color": "#CC79A7"
         },
         "mode": "lines",
         "name": "27_mayotte_mahorais_comores_la",
         "type": "scatter",
         "x": [
          "2022-07-05T22:09:07.200000",
          "2022-10-19T22:12:00",
          "2022-11-24T00:36:00",
          "2023-02-02T05:24:00",
          "2023-04-13T10:12:00",
          "2023-05-18T12:36:00",
          "2023-08-31T19:48:00",
          "2023-10-05T22:12:00",
          "2024-01-19T05:24:00",
          "2024-02-23T07:48:00",
          "2024-05-03T12:36:00"
         ],
         "y": [
          2,
          4,
          2,
          1,
          3,
          1,
          2,
          1,
          3,
          2,
          1
         ]
        },
        {
         "hoverinfo": "text",
         "hovertext": [
          "<b>Topic 28</b><br>Words: macron, emmanuel, duber, uber, secrets",
          "<b>Topic 28</b><br>Words: legrain, extrieursmalheureusement, travailler, conservant, darriver",
          "<b>Topic 28</b><br>Words: texte, commission, et, europenne, de",
          "<b>Topic 28</b><br>Words: dimpartialit, agents, preuves, conduire, contrle",
          "<b>Topic 28</b><br>Words: comptences, de, le, que, savoirfaire",
          "<b>Topic 28</b><br>Words: article, verte, lindustrie, no, supprimer",
          "<b>Topic 28</b><br>Words: numrique, ingrences, numriques, notre, et",
          "<b>Topic 28</b><br>Words: adopt, demain, texte, si, votez",
          "<b>Topic 28</b><br>Words: compromis, cabinets, de, snat, le",
          "<b>Topic 28</b><br>Words: citoyens, parlement, constatent, et, entre",
          "<b>Topic 28</b><br>Words: temps, mridienne, de, aesh, pause",
          "<b>Topic 28</b><br>Words: mayotte, ingrences, trangres, et, de"
         ],
         "marker": {
          "color": "#E69F00"
         },
         "mode": "lines",
         "name": "28_de_et_la_le",
         "type": "scatter",
         "x": [
          "2022-07-05T22:09:07.200000",
          "2022-12-29T03:00:00",
          "2023-02-02T05:24:00",
          "2023-03-09T07:48:00",
          "2023-05-18T12:36:00",
          "2023-06-22T15:00:00",
          "2023-08-31T19:48:00",
          "2023-11-10T00:36:00",
          "2024-01-19T05:24:00",
          "2024-02-23T07:48:00",
          "2024-03-29T10:12:00",
          "2024-05-03T12:36:00"
         ],
         "y": [
          1,
          1,
          2,
          1,
          3,
          2,
          2,
          1,
          2,
          1,
          2,
          2
         ]
        },
        {
         "hoverinfo": "text",
         "hovertext": [
          "<b>Topic 29</b><br>Words: drapeau, le, leurope, europen, tricolore",
          "<b>Topic 29</b><br>Words: symboles, drapeau, connat, proposons, trs"
         ],
         "marker": {
          "color": "#56B4E9"
         },
         "mode": "lines",
         "name": "29_drapeau_le_leurope_europen",
         "type": "scatter",
         "x": [
          "2023-04-13T10:12:00",
          "2023-11-10T00:36:00"
         ],
         "y": [
          17,
          1
         ]
        },
        {
         "hoverinfo": "text",
         "hovertext": [
          "<b>Topic 30</b><br>Words: autorisezmoi, gentille, nentendiez, langue, hmicycle",
          "<b>Topic 30</b><br>Words: mends, pierre, ve, france, fondateur",
          "<b>Topic 30</b><br>Words: tre, nuancer, raccompagn, voleur, droitsagissant",
          "<b>Topic 30</b><br>Words: ve, scrutin, volue, majoritaire, dbat",
          "<b>Topic 30</b><br>Words: vibrant, singulirement, lgitimement, dmontre, beau",
          "<b>Topic 30</b><br>Words: montaire, de, lieom, pacifique, pour",
          "<b>Topic 30</b><br>Words: biens, dlinquants, franais, la, de",
          "<b>Topic 30</b><br>Words: la, france, religion, et, lacit",
          "<b>Topic 30</b><br>Words: prts, uvrer, franais, pays, cap",
          "<b>Topic 30</b><br>Words: lacit, la, agents, de, et"
         ],
         "marker": {
          "color": "#009E73"
         },
         "mode": "lines",
         "name": "30_lacit_la_de_et",
         "type": "scatter",
         "x": [
          "2022-07-05T22:09:07.200000",
          "2022-10-19T22:12:00",
          "2022-11-24T00:36:00",
          "2022-12-29T03:00:00",
          "2023-04-13T10:12:00",
          "2023-05-18T12:36:00",
          "2023-06-22T15:00:00",
          "2023-11-10T00:36:00",
          "2024-01-19T05:24:00",
          "2024-05-03T12:36:00"
         ],
         "y": [
          1,
          1,
          1,
          1,
          1,
          2,
          2,
          6,
          1,
          2
         ]
        },
        {
         "hoverinfo": "text",
         "hovertext": [
          "<b>Topic 31</b><br>Words: prenions, mondiales, 1901, guerres, majorits",
          "<b>Topic 31</b><br>Words: peuple, armnien, ans, aide, vint",
          "<b>Topic 31</b><br>Words: famine, gnocide, sovitique, de, faim",
          "<b>Topic 31</b><br>Words: octobre, 17, 1961, victimes, dalgrie",
          "<b>Topic 31</b><br>Words: assyrochaldens, gnocide, vote, allons, et",
          "<b>Topic 31</b><br>Words: mineurs, mineur, pnale, lattnuation, dlinquants"
         ],
         "marker": {
          "color": "#F0E442"
         },
         "mode": "lines",
         "name": "31_octobre_victimes_17_de",
         "type": "scatter",
         "x": [
          "2022-09-14T19:48:00",
          "2022-11-24T00:36:00",
          "2023-03-09T07:48:00",
          "2024-02-23T07:48:00",
          "2024-03-29T10:12:00",
          "2024-05-03T12:36:00"
         ],
         "y": [
          1,
          1,
          5,
          8,
          1,
          1
         ]
        },
        {
         "hoverinfo": "text",
         "hovertext": [
          "<b>Topic 32</b><br>Words: gauche, victoire, sommes, incio, jair",
          "<b>Topic 32</b><br>Words: gauche, dos, droite, dmocratie, darrogance",
          "<b>Topic 32</b><br>Words: madresser, gauche, cautionne, dfendonsje, fragilisons",
          "<b>Topic 32</b><br>Words: gauche, sestil, pass, policiers, quelle",
          "<b>Topic 32</b><br>Words: gauche, france, timors, franfreluches, perdrez",
          "<b>Topic 32</b><br>Words: policier, gauche, flicparce, policiers, quun",
          "<b>Topic 32</b><br>Words: gauche, dis, particularismes, nayez, audessus",
          "<b>Topic 32</b><br>Words: gauche, valeurs, fraternitm, trahissant, rangerais",
          "<b>Topic 32</b><br>Words: gauche, hritage, quand, effondre, dvoyeau",
          "<b>Topic 32</b><br>Words: entendu, gauchistes, algriens, marine, secours"
         ],
         "marker": {
          "color": "#D55E00"
         },
         "mode": "lines",
         "name": "32_gauche_sestil_policiers_pass",
         "type": "scatter",
         "x": [
          "2022-10-19T22:12:00",
          "2022-11-24T00:36:00",
          "2023-02-02T05:24:00",
          "2023-03-09T07:48:00",
          "2023-05-18T12:36:00",
          "2023-06-22T15:00:00",
          "2023-11-10T00:36:00",
          "2023-12-15T03:00:00",
          "2024-01-19T05:24:00",
          "2024-02-23T07:48:00"
         ],
         "y": [
          2,
          1,
          1,
          2,
          3,
          1,
          2,
          2,
          2,
          1
         ]
        },
        {
         "hoverinfo": "text",
         "hovertext": [
          "<b>Topic 33</b><br>Words: lacit, religieux, neutralit, allezvous, lcole",
          "<b>Topic 33</b><br>Words: lacit, croire, sparatisme, religions, cl",
          "<b>Topic 33</b><br>Words: quelconques, agressives, maladroite, affaiblissez, gnrales",
          "<b>Topic 33</b><br>Words: lacit, religion, remercionsles, hritier, apprennent",
          "<b>Topic 33</b><br>Words: lacit, religieux, de, la, religion"
         ],
         "marker": {
          "color": "#0072B2"
         },
         "mode": "lines",
         "name": "33_lacit_religieux_de_la",
         "type": "scatter",
         "x": [
          "2022-09-14T19:48:00",
          "2023-03-09T07:48:00",
          "2023-05-18T12:36:00",
          "2023-11-10T00:36:00",
          "2024-05-03T12:36:00"
         ],
         "y": [
          2,
          3,
          1,
          1,
          9
         ]
        },
        {
         "hoverinfo": "text",
         "hovertext": [
          "<b>Topic 34</b><br>Words: animaux, rendues, spare, cassation, en",
          "<b>Topic 34</b><br>Words: rcidive, la, de, justice, les",
          "<b>Topic 34</b><br>Words: esclavage, toussaint, louverture, hati, la",
          "<b>Topic 34</b><br>Words: prison, dflation, provisoire, dtention, de",
          "<b>Topic 34</b><br>Words: justice, de, la, des, magistrats",
          "<b>Topic 34</b><br>Words: dtenus, les, pnitentiaire, et, de"
         ],
         "marker": {
          "color": "#CC79A7"
         },
         "mode": "lines",
         "name": "34_de_la_prison_justice",
         "type": "scatter",
         "x": [
          "2022-11-24T00:36:00",
          "2023-02-02T05:24:00",
          "2023-05-18T12:36:00",
          "2023-06-22T15:00:00",
          "2023-10-05T22:12:00",
          "2024-01-19T05:24:00"
         ],
         "y": [
          2,
          1,
          3,
          5,
          2,
          2
         ]
        },
        {
         "hoverinfo": "text",
         "hovertext": [
          "<b>Topic 35</b><br>Words: polynsie, fonction, publique, franaise, lordonnance",
          "<b>Topic 35</b><br>Words: polynsie, agents, fonction, polynsiens, de",
          "<b>Topic 35</b><br>Words: polynsie, dispositions, lordonnance, collectivits, des"
         ],
         "marker": {
          "color": "#E69F00"
         },
         "mode": "lines",
         "name": "35_polynsie_fonction_publique_lordonnanc...",
         "type": "scatter",
         "x": [
          "2022-07-05T22:09:07.200000",
          "2022-09-14T19:48:00",
          "2024-03-29T10:12:00"
         ],
         "y": [
          9,
          2,
          3
         ]
        },
        {
         "hoverinfo": "text",
         "hovertext": [
          "<b>Topic 36</b><br>Words: balkans, nations, vnements, europenne, russe",
          "<b>Topic 36</b><br>Words: merci, lukraine, ukraine, nos, et",
          "<b>Topic 36</b><br>Words: lukraine, courage, ukrainien, peuple, soutenir",
          "<b>Topic 36</b><br>Words: poutine, russe, poupe, seriezvous, paix",
          "<b>Topic 36</b><br>Words: leurope, europenne, paix, lunion, lukraine",
          "<b>Topic 36</b><br>Words: lukraine, persuader, allemands, celle, dsinformation",
          "<b>Topic 36</b><br>Words: lukraine, europenne, tionsnous, souverainet, avec"
         ],
         "marker": {
          "color": "#56B4E9"
         },
         "mode": "lines",
         "name": "36_lukraine_europenne_leurope_paix",
         "type": "scatter",
         "x": [
          "2022-07-05T22:09:07.200000",
          "2022-09-14T19:48:00",
          "2022-11-24T00:36:00",
          "2023-05-18T12:36:00",
          "2023-11-10T00:36:00",
          "2024-01-19T05:24:00",
          "2024-02-23T07:48:00"
         ],
         "y": [
          1,
          2,
          1,
          2,
          3,
          2,
          2
         ]
        },
        {
         "hoverinfo": "text",
         "hovertext": [
          "<b>Topic 37</b><br>Words: vous, chmage, travail, rforme, sur",
          "<b>Topic 37</b><br>Words: vous, lafd, que, directeur, pas",
          "<b>Topic 37</b><br>Words: ehpad, famille, visiter, ceux, maltraitance",
          "<b>Topic 37</b><br>Words: vu, jai, foisci, cest, aiment",
          "<b>Topic 37</b><br>Words: vous, votre, rpterai, cette, rforme",
          "<b>Topic 37</b><br>Words: comprendrez, vous, choses, vou, meubler",
          "<b>Topic 37</b><br>Words: vous, dignit, emploinous, radier, sansdroits",
          "<b>Topic 37</b><br>Words: nimporte, vous, obligatoiresencore, sousemploi, dimmersion",
          "<b>Topic 37</b><br>Words: agents, vous, avais, postes, congs",
          "<b>Topic 37</b><br>Words: sembl, passer, amples, quitablement, procdonspar"
         ],
         "marker": {
          "color": "#009E73"
         },
         "mode": "lines",
         "name": "37_vous_que_pas_ne",
         "type": "scatter",
         "x": [
          "2022-09-14T19:48:00",
          "2022-10-19T22:12:00",
          "2022-12-29T03:00:00",
          "2023-02-02T05:24:00",
          "2023-03-09T07:48:00",
          "2023-04-13T10:12:00",
          "2023-08-31T19:48:00",
          "2023-10-05T22:12:00",
          "2024-01-19T05:24:00",
          "2024-05-03T12:36:00"
         ],
         "y": [
          1,
          4,
          1,
          1,
          1,
          1,
          1,
          1,
          1,
          1
         ]
        },
        {
         "hoverinfo": "text",
         "hovertext": [
          "<b>Topic 38</b><br>Words: sret, lexpulsion, trangers, personnes, juridiction",
          "<b>Topic 38</b><br>Words: dadversaires, lois, probit, confiance, loi",
          "<b>Topic 38</b><br>Words: juge, dpartements, logement, expulses, sature",
          "<b>Topic 38</b><br>Words: de, manifestation, organisations, lexistence, les",
          "<b>Topic 38</b><br>Words: formaliser, dchir, violant, personnes, expulsions"
         ],
         "marker": {
          "color": "#F0E442"
         },
         "mode": "lines",
         "name": "38_lexpulsion_sret_trangers_personnes",
         "type": "scatter",
         "x": [
          "2022-11-24T00:36:00",
          "2023-02-02T05:24:00",
          "2023-03-09T07:48:00",
          "2023-04-13T10:12:00",
          "2023-11-10T00:36:00"
         ],
         "y": [
          8,
          2,
          1,
          1,
          1
         ]
        },
        {
         "hoverinfo": "text",
         "hovertext": [
          "<b>Topic 39</b><br>Words: langues, breton, capes, postes, rgionales",
          "<b>Topic 39</b><br>Words: langues, colonies, langue, outremer, des",
          "<b>Topic 39</b><br>Words: langues, langue, rgionales, franaise, la",
          "<b>Topic 39</b><br>Words: langue, franaise, langues, tmoin, cit",
          "<b>Topic 39</b><br>Words: langues, langue, rgionales, dans, et"
         ],
         "marker": {
          "color": "#D55E00"
         },
         "mode": "lines",
         "name": "39_langues_langue_rgionales_dans",
         "type": "scatter",
         "x": [
          "2022-12-29T03:00:00",
          "2023-10-05T22:12:00",
          "2023-11-10T00:36:00",
          "2024-03-29T10:12:00",
          "2024-05-03T12:36:00"
         ],
         "y": [
          1,
          1,
          3,
          1,
          7
         ]
        }
       ],
       "layout": {
        "height": 450,
        "hoverlabel": {
         "bgcolor": "white",
         "font": {
          "family": "Rockwell",
          "size": 16
         }
        },
        "legend": {
         "title": {
          "text": "<b>Global Topic Representation"
         }
        },
        "template": {
         "data": {
          "bar": [
           {
            "error_x": {
             "color": "rgb(36,36,36)"
            },
            "error_y": {
             "color": "rgb(36,36,36)"
            },
            "marker": {
             "line": {
              "color": "white",
              "width": 0.5
             },
             "pattern": {
              "fillmode": "overlay",
              "size": 10,
              "solidity": 0.2
             }
            },
            "type": "bar"
           }
          ],
          "barpolar": [
           {
            "marker": {
             "line": {
              "color": "white",
              "width": 0.5
             },
             "pattern": {
              "fillmode": "overlay",
              "size": 10,
              "solidity": 0.2
             }
            },
            "type": "barpolar"
           }
          ],
          "carpet": [
           {
            "aaxis": {
             "endlinecolor": "rgb(36,36,36)",
             "gridcolor": "white",
             "linecolor": "white",
             "minorgridcolor": "white",
             "startlinecolor": "rgb(36,36,36)"
            },
            "baxis": {
             "endlinecolor": "rgb(36,36,36)",
             "gridcolor": "white",
             "linecolor": "white",
             "minorgridcolor": "white",
             "startlinecolor": "rgb(36,36,36)"
            },
            "type": "carpet"
           }
          ],
          "choropleth": [
           {
            "colorbar": {
             "outlinewidth": 1,
             "tickcolor": "rgb(36,36,36)",
             "ticks": "outside"
            },
            "type": "choropleth"
           }
          ],
          "contour": [
           {
            "colorbar": {
             "outlinewidth": 1,
             "tickcolor": "rgb(36,36,36)",
             "ticks": "outside"
            },
            "colorscale": [
             [
              0,
              "#440154"
             ],
             [
              0.1111111111111111,
              "#482878"
             ],
             [
              0.2222222222222222,
              "#3e4989"
             ],
             [
              0.3333333333333333,
              "#31688e"
             ],
             [
              0.4444444444444444,
              "#26828e"
             ],
             [
              0.5555555555555556,
              "#1f9e89"
             ],
             [
              0.6666666666666666,
              "#35b779"
             ],
             [
              0.7777777777777778,
              "#6ece58"
             ],
             [
              0.8888888888888888,
              "#b5de2b"
             ],
             [
              1,
              "#fde725"
             ]
            ],
            "type": "contour"
           }
          ],
          "contourcarpet": [
           {
            "colorbar": {
             "outlinewidth": 1,
             "tickcolor": "rgb(36,36,36)",
             "ticks": "outside"
            },
            "type": "contourcarpet"
           }
          ],
          "heatmap": [
           {
            "colorbar": {
             "outlinewidth": 1,
             "tickcolor": "rgb(36,36,36)",
             "ticks": "outside"
            },
            "colorscale": [
             [
              0,
              "#440154"
             ],
             [
              0.1111111111111111,
              "#482878"
             ],
             [
              0.2222222222222222,
              "#3e4989"
             ],
             [
              0.3333333333333333,
              "#31688e"
             ],
             [
              0.4444444444444444,
              "#26828e"
             ],
             [
              0.5555555555555556,
              "#1f9e89"
             ],
             [
              0.6666666666666666,
              "#35b779"
             ],
             [
              0.7777777777777778,
              "#6ece58"
             ],
             [
              0.8888888888888888,
              "#b5de2b"
             ],
             [
              1,
              "#fde725"
             ]
            ],
            "type": "heatmap"
           }
          ],
          "heatmapgl": [
           {
            "colorbar": {
             "outlinewidth": 1,
             "tickcolor": "rgb(36,36,36)",
             "ticks": "outside"
            },
            "colorscale": [
             [
              0,
              "#440154"
             ],
             [
              0.1111111111111111,
              "#482878"
             ],
             [
              0.2222222222222222,
              "#3e4989"
             ],
             [
              0.3333333333333333,
              "#31688e"
             ],
             [
              0.4444444444444444,
              "#26828e"
             ],
             [
              0.5555555555555556,
              "#1f9e89"
             ],
             [
              0.6666666666666666,
              "#35b779"
             ],
             [
              0.7777777777777778,
              "#6ece58"
             ],
             [
              0.8888888888888888,
              "#b5de2b"
             ],
             [
              1,
              "#fde725"
             ]
            ],
            "type": "heatmapgl"
           }
          ],
          "histogram": [
           {
            "marker": {
             "line": {
              "color": "white",
              "width": 0.6
             }
            },
            "type": "histogram"
           }
          ],
          "histogram2d": [
           {
            "colorbar": {
             "outlinewidth": 1,
             "tickcolor": "rgb(36,36,36)",
             "ticks": "outside"
            },
            "colorscale": [
             [
              0,
              "#440154"
             ],
             [
              0.1111111111111111,
              "#482878"
             ],
             [
              0.2222222222222222,
              "#3e4989"
             ],
             [
              0.3333333333333333,
              "#31688e"
             ],
             [
              0.4444444444444444,
              "#26828e"
             ],
             [
              0.5555555555555556,
              "#1f9e89"
             ],
             [
              0.6666666666666666,
              "#35b779"
             ],
             [
              0.7777777777777778,
              "#6ece58"
             ],
             [
              0.8888888888888888,
              "#b5de2b"
             ],
             [
              1,
              "#fde725"
             ]
            ],
            "type": "histogram2d"
           }
          ],
          "histogram2dcontour": [
           {
            "colorbar": {
             "outlinewidth": 1,
             "tickcolor": "rgb(36,36,36)",
             "ticks": "outside"
            },
            "colorscale": [
             [
              0,
              "#440154"
             ],
             [
              0.1111111111111111,
              "#482878"
             ],
             [
              0.2222222222222222,
              "#3e4989"
             ],
             [
              0.3333333333333333,
              "#31688e"
             ],
             [
              0.4444444444444444,
              "#26828e"
             ],
             [
              0.5555555555555556,
              "#1f9e89"
             ],
             [
              0.6666666666666666,
              "#35b779"
             ],
             [
              0.7777777777777778,
              "#6ece58"
             ],
             [
              0.8888888888888888,
              "#b5de2b"
             ],
             [
              1,
              "#fde725"
             ]
            ],
            "type": "histogram2dcontour"
           }
          ],
          "mesh3d": [
           {
            "colorbar": {
             "outlinewidth": 1,
             "tickcolor": "rgb(36,36,36)",
             "ticks": "outside"
            },
            "type": "mesh3d"
           }
          ],
          "parcoords": [
           {
            "line": {
             "colorbar": {
              "outlinewidth": 1,
              "tickcolor": "rgb(36,36,36)",
              "ticks": "outside"
             }
            },
            "type": "parcoords"
           }
          ],
          "pie": [
           {
            "automargin": true,
            "type": "pie"
           }
          ],
          "scatter": [
           {
            "fillpattern": {
             "fillmode": "overlay",
             "size": 10,
             "solidity": 0.2
            },
            "type": "scatter"
           }
          ],
          "scatter3d": [
           {
            "line": {
             "colorbar": {
              "outlinewidth": 1,
              "tickcolor": "rgb(36,36,36)",
              "ticks": "outside"
             }
            },
            "marker": {
             "colorbar": {
              "outlinewidth": 1,
              "tickcolor": "rgb(36,36,36)",
              "ticks": "outside"
             }
            },
            "type": "scatter3d"
           }
          ],
          "scattercarpet": [
           {
            "marker": {
             "colorbar": {
              "outlinewidth": 1,
              "tickcolor": "rgb(36,36,36)",
              "ticks": "outside"
             }
            },
            "type": "scattercarpet"
           }
          ],
          "scattergeo": [
           {
            "marker": {
             "colorbar": {
              "outlinewidth": 1,
              "tickcolor": "rgb(36,36,36)",
              "ticks": "outside"
             }
            },
            "type": "scattergeo"
           }
          ],
          "scattergl": [
           {
            "marker": {
             "colorbar": {
              "outlinewidth": 1,
              "tickcolor": "rgb(36,36,36)",
              "ticks": "outside"
             }
            },
            "type": "scattergl"
           }
          ],
          "scattermapbox": [
           {
            "marker": {
             "colorbar": {
              "outlinewidth": 1,
              "tickcolor": "rgb(36,36,36)",
              "ticks": "outside"
             }
            },
            "type": "scattermapbox"
           }
          ],
          "scatterpolar": [
           {
            "marker": {
             "colorbar": {
              "outlinewidth": 1,
              "tickcolor": "rgb(36,36,36)",
              "ticks": "outside"
             }
            },
            "type": "scatterpolar"
           }
          ],
          "scatterpolargl": [
           {
            "marker": {
             "colorbar": {
              "outlinewidth": 1,
              "tickcolor": "rgb(36,36,36)",
              "ticks": "outside"
             }
            },
            "type": "scatterpolargl"
           }
          ],
          "scatterternary": [
           {
            "marker": {
             "colorbar": {
              "outlinewidth": 1,
              "tickcolor": "rgb(36,36,36)",
              "ticks": "outside"
             }
            },
            "type": "scatterternary"
           }
          ],
          "surface": [
           {
            "colorbar": {
             "outlinewidth": 1,
             "tickcolor": "rgb(36,36,36)",
             "ticks": "outside"
            },
            "colorscale": [
             [
              0,
              "#440154"
             ],
             [
              0.1111111111111111,
              "#482878"
             ],
             [
              0.2222222222222222,
              "#3e4989"
             ],
             [
              0.3333333333333333,
              "#31688e"
             ],
             [
              0.4444444444444444,
              "#26828e"
             ],
             [
              0.5555555555555556,
              "#1f9e89"
             ],
             [
              0.6666666666666666,
              "#35b779"
             ],
             [
              0.7777777777777778,
              "#6ece58"
             ],
             [
              0.8888888888888888,
              "#b5de2b"
             ],
             [
              1,
              "#fde725"
             ]
            ],
            "type": "surface"
           }
          ],
          "table": [
           {
            "cells": {
             "fill": {
              "color": "rgb(237,237,237)"
             },
             "line": {
              "color": "white"
             }
            },
            "header": {
             "fill": {
              "color": "rgb(217,217,217)"
             },
             "line": {
              "color": "white"
             }
            },
            "type": "table"
           }
          ]
         },
         "layout": {
          "annotationdefaults": {
           "arrowhead": 0,
           "arrowwidth": 1
          },
          "autotypenumbers": "strict",
          "coloraxis": {
           "colorbar": {
            "outlinewidth": 1,
            "tickcolor": "rgb(36,36,36)",
            "ticks": "outside"
           }
          },
          "colorscale": {
           "diverging": [
            [
             0,
             "rgb(103,0,31)"
            ],
            [
             0.1,
             "rgb(178,24,43)"
            ],
            [
             0.2,
             "rgb(214,96,77)"
            ],
            [
             0.3,
             "rgb(244,165,130)"
            ],
            [
             0.4,
             "rgb(253,219,199)"
            ],
            [
             0.5,
             "rgb(247,247,247)"
            ],
            [
             0.6,
             "rgb(209,229,240)"
            ],
            [
             0.7,
             "rgb(146,197,222)"
            ],
            [
             0.8,
             "rgb(67,147,195)"
            ],
            [
             0.9,
             "rgb(33,102,172)"
            ],
            [
             1,
             "rgb(5,48,97)"
            ]
           ],
           "sequential": [
            [
             0,
             "#440154"
            ],
            [
             0.1111111111111111,
             "#482878"
            ],
            [
             0.2222222222222222,
             "#3e4989"
            ],
            [
             0.3333333333333333,
             "#31688e"
            ],
            [
             0.4444444444444444,
             "#26828e"
            ],
            [
             0.5555555555555556,
             "#1f9e89"
            ],
            [
             0.6666666666666666,
             "#35b779"
            ],
            [
             0.7777777777777778,
             "#6ece58"
            ],
            [
             0.8888888888888888,
             "#b5de2b"
            ],
            [
             1,
             "#fde725"
            ]
           ],
           "sequentialminus": [
            [
             0,
             "#440154"
            ],
            [
             0.1111111111111111,
             "#482878"
            ],
            [
             0.2222222222222222,
             "#3e4989"
            ],
            [
             0.3333333333333333,
             "#31688e"
            ],
            [
             0.4444444444444444,
             "#26828e"
            ],
            [
             0.5555555555555556,
             "#1f9e89"
            ],
            [
             0.6666666666666666,
             "#35b779"
            ],
            [
             0.7777777777777778,
             "#6ece58"
            ],
            [
             0.8888888888888888,
             "#b5de2b"
            ],
            [
             1,
             "#fde725"
            ]
           ]
          },
          "colorway": [
           "#1F77B4",
           "#FF7F0E",
           "#2CA02C",
           "#D62728",
           "#9467BD",
           "#8C564B",
           "#E377C2",
           "#7F7F7F",
           "#BCBD22",
           "#17BECF"
          ],
          "font": {
           "color": "rgb(36,36,36)"
          },
          "geo": {
           "bgcolor": "white",
           "lakecolor": "white",
           "landcolor": "white",
           "showlakes": true,
           "showland": true,
           "subunitcolor": "white"
          },
          "hoverlabel": {
           "align": "left"
          },
          "hovermode": "closest",
          "mapbox": {
           "style": "light"
          },
          "paper_bgcolor": "white",
          "plot_bgcolor": "white",
          "polar": {
           "angularaxis": {
            "gridcolor": "rgb(232,232,232)",
            "linecolor": "rgb(36,36,36)",
            "showgrid": false,
            "showline": true,
            "ticks": "outside"
           },
           "bgcolor": "white",
           "radialaxis": {
            "gridcolor": "rgb(232,232,232)",
            "linecolor": "rgb(36,36,36)",
            "showgrid": false,
            "showline": true,
            "ticks": "outside"
           }
          },
          "scene": {
           "xaxis": {
            "backgroundcolor": "white",
            "gridcolor": "rgb(232,232,232)",
            "gridwidth": 2,
            "linecolor": "rgb(36,36,36)",
            "showbackground": true,
            "showgrid": false,
            "showline": true,
            "ticks": "outside",
            "zeroline": false,
            "zerolinecolor": "rgb(36,36,36)"
           },
           "yaxis": {
            "backgroundcolor": "white",
            "gridcolor": "rgb(232,232,232)",
            "gridwidth": 2,
            "linecolor": "rgb(36,36,36)",
            "showbackground": true,
            "showgrid": false,
            "showline": true,
            "ticks": "outside",
            "zeroline": false,
            "zerolinecolor": "rgb(36,36,36)"
           },
           "zaxis": {
            "backgroundcolor": "white",
            "gridcolor": "rgb(232,232,232)",
            "gridwidth": 2,
            "linecolor": "rgb(36,36,36)",
            "showbackground": true,
            "showgrid": false,
            "showline": true,
            "ticks": "outside",
            "zeroline": false,
            "zerolinecolor": "rgb(36,36,36)"
           }
          },
          "shapedefaults": {
           "fillcolor": "black",
           "line": {
            "width": 0
           },
           "opacity": 0.3
          },
          "ternary": {
           "aaxis": {
            "gridcolor": "rgb(232,232,232)",
            "linecolor": "rgb(36,36,36)",
            "showgrid": false,
            "showline": true,
            "ticks": "outside"
           },
           "baxis": {
            "gridcolor": "rgb(232,232,232)",
            "linecolor": "rgb(36,36,36)",
            "showgrid": false,
            "showline": true,
            "ticks": "outside"
           },
           "bgcolor": "white",
           "caxis": {
            "gridcolor": "rgb(232,232,232)",
            "linecolor": "rgb(36,36,36)",
            "showgrid": false,
            "showline": true,
            "ticks": "outside"
           }
          },
          "title": {
           "x": 0.05
          },
          "xaxis": {
           "automargin": true,
           "gridcolor": "rgb(232,232,232)",
           "linecolor": "rgb(36,36,36)",
           "showgrid": false,
           "showline": true,
           "ticks": "outside",
           "title": {
            "standoff": 15
           },
           "zeroline": false,
           "zerolinecolor": "rgb(36,36,36)"
          },
          "yaxis": {
           "automargin": true,
           "gridcolor": "rgb(232,232,232)",
           "linecolor": "rgb(36,36,36)",
           "showgrid": false,
           "showline": true,
           "ticks": "outside",
           "title": {
            "standoff": 15
           },
           "zeroline": false,
           "zerolinecolor": "rgb(36,36,36)"
          }
         }
        },
        "title": {
         "font": {
          "color": "Black",
          "size": 22
         },
         "text": "<b>Topics over Time</b>",
         "x": 0.4,
         "xanchor": "center",
         "y": 0.95,
         "yanchor": "top"
        },
        "width": 1250,
        "xaxis": {
         "showgrid": true
        },
        "yaxis": {
         "showgrid": true,
         "title": {
          "text": "Frequency"
         }
        }
       }
      }
     },
     "metadata": {},
     "output_type": "display_data"
    }
   ],
   "source": [
    "topic_model_better.visualize_topics_over_time(topics_over_time_better, top_n_topics=40)"
   ]
  },
  {
   "cell_type": "markdown",
   "id": "0b4c59b8",
   "metadata": {},
   "source": [
    "## Hierarchical topics"
   ]
  },
  {
   "cell_type": "code",
   "execution_count": 43,
   "id": "c861b1aa",
   "metadata": {},
   "outputs": [
    {
     "name": "stderr",
     "output_type": "stream",
     "text": [
      "100%|██████████| 46/46 [00:00<00:00, 536.62it/s]\n"
     ]
    }
   ],
   "source": [
    "hierarchical_topics = topic_model_better.hierarchical_topics(df[\"Texte_clean\"])"
   ]
  },
  {
   "cell_type": "code",
   "execution_count": 47,
   "id": "827e73ba",
   "metadata": {},
   "outputs": [
    {
     "data": {
      "application/vnd.plotly.v1+json": {
       "config": {
        "plotlyServerURL": "https://plot.ly"
       },
       "data": [
        {
         "hoverinfo": "text",
         "marker": {
          "color": "rgb(61,153,112)"
         },
         "mode": "lines",
         "text": [
          "de_la_et_des_le",
          "",
          "",
          "drapeau_de_le_la_et"
         ],
         "type": "scatter",
         "x": [
          0,
          0.4392673224354421,
          0.4392673224354421,
          0
         ],
         "xaxis": "x",
         "y": [
          -15,
          -15,
          -25,
          -25
         ],
         "yaxis": "y"
        },
        {
         "hoverinfo": "text",
         "marker": {
          "color": "rgb(61,153,112)"
         },
         "mode": "lines",
         "text": [
          "de_la_et_des_les",
          "",
          "",
          "de_des_la_les_et"
         ],
         "type": "scatter",
         "x": [
          0,
          0.0853845536160257,
          0.0853845536160257,
          0
         ],
         "xaxis": "x",
         "y": [
          -85,
          -85,
          -95,
          -95
         ],
         "yaxis": "y"
        },
        {
         "hoverinfo": "text",
         "marker": {
          "color": "rgb(61,153,112)"
         },
         "mode": "lines",
         "text": [
          "de_la_le_et_les",
          "",
          "",
          "de_des_la_les_et"
         ],
         "type": "scatter",
         "x": [
          0,
          0.11212786931366231,
          0.11212786931366231,
          0.0853845536160257
         ],
         "xaxis": "x",
         "y": [
          -75,
          -75,
          -90,
          -90
         ],
         "yaxis": "y"
        },
        {
         "hoverinfo": "text",
         "marker": {
          "color": "rgb(61,153,112)"
         },
         "mode": "lines",
         "text": [
          "de_la_le_et_les",
          "",
          "",
          "de_la_nous_vous_et"
         ],
         "type": "scatter",
         "x": [
          0.11212786931366231,
          0.13061699754048042,
          0.13061699754048042,
          0
         ],
         "xaxis": "x",
         "y": [
          -82.5,
          -82.5,
          -105,
          -105
         ],
         "yaxis": "y"
        },
        {
         "hoverinfo": "text",
         "marker": {
          "color": "rgb(61,153,112)"
         },
         "mode": "lines",
         "text": [
          "de_la_le_les_des",
          "",
          "",
          "de_la_nous_vous_et"
         ],
         "type": "scatter",
         "x": [
          0,
          0.16218487724506972,
          0.16218487724506972,
          0.13061699754048042
         ],
         "xaxis": "x",
         "y": [
          -65,
          -65,
          -93.75,
          -93.75
         ],
         "yaxis": "y"
        },
        {
         "hoverinfo": "text",
         "marker": {
          "color": "rgb(61,153,112)"
         },
         "mode": "lines",
         "text": [
          "de_la_le_les_des",
          "",
          "",
          "de_la_les_sant_des"
         ],
         "type": "scatter",
         "x": [
          0.16218487724506972,
          0.1998527112614012,
          0.1998527112614012,
          0
         ],
         "xaxis": "x",
         "y": [
          -79.375,
          -79.375,
          -115,
          -115
         ],
         "yaxis": "y"
        },
        {
         "hoverinfo": "text",
         "marker": {
          "color": "rgb(61,153,112)"
         },
         "mode": "lines",
         "text": [
          "justice_de_la_des_les",
          "",
          "",
          "de_la_les_sant_des"
         ],
         "type": "scatter",
         "x": [
          0,
          0.2596548981168256,
          0.2596548981168256,
          0.1998527112614012
         ],
         "xaxis": "x",
         "y": [
          -55,
          -55,
          -97.1875,
          -97.1875
         ],
         "yaxis": "y"
        },
        {
         "hoverinfo": "text",
         "marker": {
          "color": "rgb(61,153,112)"
         },
         "mode": "lines",
         "text": [
          "police_de_la_les_des",
          "",
          "",
          "de_la_les_sant_des"
         ],
         "type": "scatter",
         "x": [
          0,
          0.3253593412429113,
          0.3253593412429113,
          0.2596548981168256
         ],
         "xaxis": "x",
         "y": [
          -45,
          -45,
          -76.09375,
          -76.09375
         ],
         "yaxis": "y"
        },
        {
         "hoverinfo": "text",
         "marker": {
          "color": "rgb(61,153,112)"
         },
         "mode": "lines",
         "text": [
          "police_de_la_les_des",
          "",
          "",
          "sociale_scurit_de_la_le"
         ],
         "type": "scatter",
         "x": [
          0.3253593412429113,
          0.3373261468571411,
          0.3373261468571411,
          0
         ],
         "xaxis": "x",
         "y": [
          -60.546875,
          -60.546875,
          -125,
          -125
         ],
         "yaxis": "y"
        },
        {
         "hoverinfo": "text",
         "marker": {
          "color": "rgb(61,153,112)"
         },
         "mode": "lines",
         "text": [
          "vous_que_de_le_les",
          "",
          "",
          "sociale_scurit_de_la_le"
         ],
         "type": "scatter",
         "x": [
          0,
          0.3560832376854637,
          0.3560832376854637,
          0.3373261468571411
         ],
         "xaxis": "x",
         "y": [
          -35,
          -35,
          -92.7734375,
          -92.7734375
         ],
         "yaxis": "y"
        },
        {
         "hoverinfo": "text",
         "marker": {
          "color": "rgb(61,153,112)"
         },
         "mode": "lines",
         "text": [
          "vous_que_de_le_les",
          "",
          "",
          "lacit_de_la_le_sparatisme"
         ],
         "type": "scatter",
         "x": [
          0.3560832376854637,
          0.392804439952335,
          0.392804439952335,
          0
         ],
         "xaxis": "x",
         "y": [
          -63.88671875,
          -63.88671875,
          -135,
          -135
         ],
         "yaxis": "y"
        },
        {
         "hoverinfo": "text",
         "marker": {
          "color": "rgb(61,153,112)"
         },
         "mode": "lines",
         "text": [
          "vous_que_de_le_les",
          "",
          "",
          "de_discriminations_discrimination_les_des"
         ],
         "type": "scatter",
         "x": [
          0.392804439952335,
          0.39959116685939955,
          0.39959116685939955,
          0
         ],
         "xaxis": "x",
         "y": [
          -99.443359375,
          -99.443359375,
          -145,
          -145
         ],
         "yaxis": "y"
        },
        {
         "hoverinfo": "text",
         "marker": {
          "color": "rgb(61,153,112)"
         },
         "mode": "lines",
         "text": [
          "vous_que_de_le_les",
          "",
          "",
          "de_discriminations_discrimination_les_des"
         ],
         "type": "scatter",
         "x": [
          0.4392673224354421,
          0.4609696480261072,
          0.4609696480261072,
          0.39959116685939955
         ],
         "xaxis": "x",
         "y": [
          -20,
          -20,
          -122.2216796875,
          -122.2216796875
         ],
         "yaxis": "y"
        },
        {
         "hoverinfo": "text",
         "marker": {
          "color": "rgb(61,153,112)"
         },
         "mode": "lines",
         "text": [
          "vous_que_de_le_les",
          "",
          "",
          "mayotte_de_la_et_mahorais"
         ],
         "type": "scatter",
         "x": [
          0.4609696480261072,
          0.4927669592389813,
          0.4927669592389813,
          0
         ],
         "xaxis": "x",
         "y": [
          -71.11083984375,
          -71.11083984375,
          -155,
          -155
         ],
         "yaxis": "y"
        },
        {
         "hoverinfo": "text",
         "marker": {
          "color": "rgb(61,153,112)"
         },
         "mode": "lines",
         "text": [
          "larmnie_de_lazerbadjan_hautkarabakh_la",
          "",
          "",
          "mayotte_de_la_et_mahorais"
         ],
         "type": "scatter",
         "x": [
          0,
          0.606655574500155,
          0.606655574500155,
          0.4927669592389813
         ],
         "xaxis": "x",
         "y": [
          -5,
          -5,
          -113.055419921875,
          -113.055419921875
         ],
         "yaxis": "y"
        },
        {
         "hoverinfo": "text",
         "marker": {
          "color": "rgb(61,153,112)"
         },
         "mode": "lines",
         "text": [
          "ministre_madame_premire_vous_rpublique",
          "",
          "",
          "rpublique_la_vous_de_pas"
         ],
         "type": "scatter",
         "x": [
          0,
          0.5031633119076813,
          0.5031633119076813,
          0
         ],
         "xaxis": "x",
         "y": [
          -165,
          -165,
          -175,
          -175
         ],
         "yaxis": "y"
        },
        {
         "hoverinfo": "text",
         "marker": {
          "color": "rgb(61,153,112)"
         },
         "mode": "lines",
         "text": [
          "ministre_madame_premire_vous_rpublique",
          "",
          "",
          "rpublicain_larc_barrage_rpublicaine_vous"
         ],
         "type": "scatter",
         "x": [
          0.5031633119076813,
          0.7651639421452615,
          0.7651639421452615,
          0
         ],
         "xaxis": "x",
         "y": [
          -170,
          -170,
          -185,
          -185
         ],
         "yaxis": "y"
        },
        {
         "hoverinfo": "text",
         "marker": {
          "color": "rgb(61,153,112)"
         },
         "mode": "lines",
         "text": [
          "ministre_madame_premire_vous_rpublique",
          "",
          "",
          "rpublicain_larc_barrage_rpublicaine_vous"
         ],
         "type": "scatter",
         "x": [
          0.606655574500155,
          0.8585573305528997,
          0.8585573305528997,
          0.7651639421452615
         ],
         "xaxis": "x",
         "y": [
          -59.0277099609375,
          -59.0277099609375,
          -177.5,
          -177.5
         ],
         "yaxis": "y"
        },
        {
         "hoverinfo": "text",
         "hovertext": [
          "de_la_le_et_les",
          "de_la_le_les_des",
          "police_de_la_les_des",
          "vous_que_de_le_les",
          "vous_que_de_le_les",
          "vous_que_de_le_les",
          "vous_que_de_le_les",
          "ministre_madame_premire_vous_rpublique",
          "ministre_madame_premire_vous_rpublique"
         ],
         "marker": {
          "color": "black"
         },
         "mode": "markers",
         "showlegend": false,
         "type": "scatter",
         "x": [
          0.11212786931366231,
          0.16218487724506972,
          0.3253593412429113,
          0.3560832376854637,
          0.392804439952335,
          0.4392673224354421,
          0.4609696480261072,
          0.5031633119076813,
          0.606655574500155
         ],
         "y": [
          -82.5,
          -79.375,
          -60.546875,
          -63.88671875,
          -99.443359375,
          -20,
          -71.11083984375,
          -170,
          -59.0277099609375
         ]
        },
        {
         "hoverinfo": "text",
         "hovertext": [
          "de_des_la_les_et",
          "de_la_nous_vous_et",
          "de_la_les_sant_des",
          "de_la_les_sant_des",
          "sociale_scurit_de_la_le",
          "de_discriminations_discrimination_les_des",
          "mayotte_de_la_et_mahorais",
          "rpublicain_larc_barrage_rpublicaine_vous"
         ],
         "marker": {
          "color": "black"
         },
         "mode": "markers",
         "showlegend": false,
         "type": "scatter",
         "x": [
          0.0853845536160257,
          0.13061699754048042,
          0.1998527112614012,
          0.2596548981168256,
          0.3373261468571411,
          0.39959116685939955,
          0.4927669592389813,
          0.7651639421452615
         ],
         "y": [
          -90,
          -93.75,
          -97.1875,
          -76.09375,
          -92.7734375,
          -122.2216796875,
          -113.055419921875,
          -177.5
         ]
        }
       ],
       "layout": {
        "autosize": false,
        "height": 485,
        "hoverlabel": {
         "bgcolor": "white",
         "font": {
          "family": "Rockwell",
          "size": 16
         }
        },
        "hovermode": "closest",
        "plot_bgcolor": "#ECEFF1",
        "showlegend": false,
        "template": {
         "data": {
          "bar": [
           {
            "error_x": {
             "color": "#2a3f5f"
            },
            "error_y": {
             "color": "#2a3f5f"
            },
            "marker": {
             "line": {
              "color": "white",
              "width": 0.5
             },
             "pattern": {
              "fillmode": "overlay",
              "size": 10,
              "solidity": 0.2
             }
            },
            "type": "bar"
           }
          ],
          "barpolar": [
           {
            "marker": {
             "line": {
              "color": "white",
              "width": 0.5
             },
             "pattern": {
              "fillmode": "overlay",
              "size": 10,
              "solidity": 0.2
             }
            },
            "type": "barpolar"
           }
          ],
          "carpet": [
           {
            "aaxis": {
             "endlinecolor": "#2a3f5f",
             "gridcolor": "#C8D4E3",
             "linecolor": "#C8D4E3",
             "minorgridcolor": "#C8D4E3",
             "startlinecolor": "#2a3f5f"
            },
            "baxis": {
             "endlinecolor": "#2a3f5f",
             "gridcolor": "#C8D4E3",
             "linecolor": "#C8D4E3",
             "minorgridcolor": "#C8D4E3",
             "startlinecolor": "#2a3f5f"
            },
            "type": "carpet"
           }
          ],
          "choropleth": [
           {
            "colorbar": {
             "outlinewidth": 0,
             "ticks": ""
            },
            "type": "choropleth"
           }
          ],
          "contour": [
           {
            "colorbar": {
             "outlinewidth": 0,
             "ticks": ""
            },
            "colorscale": [
             [
              0,
              "#0d0887"
             ],
             [
              0.1111111111111111,
              "#46039f"
             ],
             [
              0.2222222222222222,
              "#7201a8"
             ],
             [
              0.3333333333333333,
              "#9c179e"
             ],
             [
              0.4444444444444444,
              "#bd3786"
             ],
             [
              0.5555555555555556,
              "#d8576b"
             ],
             [
              0.6666666666666666,
              "#ed7953"
             ],
             [
              0.7777777777777778,
              "#fb9f3a"
             ],
             [
              0.8888888888888888,
              "#fdca26"
             ],
             [
              1,
              "#f0f921"
             ]
            ],
            "type": "contour"
           }
          ],
          "contourcarpet": [
           {
            "colorbar": {
             "outlinewidth": 0,
             "ticks": ""
            },
            "type": "contourcarpet"
           }
          ],
          "heatmap": [
           {
            "colorbar": {
             "outlinewidth": 0,
             "ticks": ""
            },
            "colorscale": [
             [
              0,
              "#0d0887"
             ],
             [
              0.1111111111111111,
              "#46039f"
             ],
             [
              0.2222222222222222,
              "#7201a8"
             ],
             [
              0.3333333333333333,
              "#9c179e"
             ],
             [
              0.4444444444444444,
              "#bd3786"
             ],
             [
              0.5555555555555556,
              "#d8576b"
             ],
             [
              0.6666666666666666,
              "#ed7953"
             ],
             [
              0.7777777777777778,
              "#fb9f3a"
             ],
             [
              0.8888888888888888,
              "#fdca26"
             ],
             [
              1,
              "#f0f921"
             ]
            ],
            "type": "heatmap"
           }
          ],
          "heatmapgl": [
           {
            "colorbar": {
             "outlinewidth": 0,
             "ticks": ""
            },
            "colorscale": [
             [
              0,
              "#0d0887"
             ],
             [
              0.1111111111111111,
              "#46039f"
             ],
             [
              0.2222222222222222,
              "#7201a8"
             ],
             [
              0.3333333333333333,
              "#9c179e"
             ],
             [
              0.4444444444444444,
              "#bd3786"
             ],
             [
              0.5555555555555556,
              "#d8576b"
             ],
             [
              0.6666666666666666,
              "#ed7953"
             ],
             [
              0.7777777777777778,
              "#fb9f3a"
             ],
             [
              0.8888888888888888,
              "#fdca26"
             ],
             [
              1,
              "#f0f921"
             ]
            ],
            "type": "heatmapgl"
           }
          ],
          "histogram": [
           {
            "marker": {
             "pattern": {
              "fillmode": "overlay",
              "size": 10,
              "solidity": 0.2
             }
            },
            "type": "histogram"
           }
          ],
          "histogram2d": [
           {
            "colorbar": {
             "outlinewidth": 0,
             "ticks": ""
            },
            "colorscale": [
             [
              0,
              "#0d0887"
             ],
             [
              0.1111111111111111,
              "#46039f"
             ],
             [
              0.2222222222222222,
              "#7201a8"
             ],
             [
              0.3333333333333333,
              "#9c179e"
             ],
             [
              0.4444444444444444,
              "#bd3786"
             ],
             [
              0.5555555555555556,
              "#d8576b"
             ],
             [
              0.6666666666666666,
              "#ed7953"
             ],
             [
              0.7777777777777778,
              "#fb9f3a"
             ],
             [
              0.8888888888888888,
              "#fdca26"
             ],
             [
              1,
              "#f0f921"
             ]
            ],
            "type": "histogram2d"
           }
          ],
          "histogram2dcontour": [
           {
            "colorbar": {
             "outlinewidth": 0,
             "ticks": ""
            },
            "colorscale": [
             [
              0,
              "#0d0887"
             ],
             [
              0.1111111111111111,
              "#46039f"
             ],
             [
              0.2222222222222222,
              "#7201a8"
             ],
             [
              0.3333333333333333,
              "#9c179e"
             ],
             [
              0.4444444444444444,
              "#bd3786"
             ],
             [
              0.5555555555555556,
              "#d8576b"
             ],
             [
              0.6666666666666666,
              "#ed7953"
             ],
             [
              0.7777777777777778,
              "#fb9f3a"
             ],
             [
              0.8888888888888888,
              "#fdca26"
             ],
             [
              1,
              "#f0f921"
             ]
            ],
            "type": "histogram2dcontour"
           }
          ],
          "mesh3d": [
           {
            "colorbar": {
             "outlinewidth": 0,
             "ticks": ""
            },
            "type": "mesh3d"
           }
          ],
          "parcoords": [
           {
            "line": {
             "colorbar": {
              "outlinewidth": 0,
              "ticks": ""
             }
            },
            "type": "parcoords"
           }
          ],
          "pie": [
           {
            "automargin": true,
            "type": "pie"
           }
          ],
          "scatter": [
           {
            "fillpattern": {
             "fillmode": "overlay",
             "size": 10,
             "solidity": 0.2
            },
            "type": "scatter"
           }
          ],
          "scatter3d": [
           {
            "line": {
             "colorbar": {
              "outlinewidth": 0,
              "ticks": ""
             }
            },
            "marker": {
             "colorbar": {
              "outlinewidth": 0,
              "ticks": ""
             }
            },
            "type": "scatter3d"
           }
          ],
          "scattercarpet": [
           {
            "marker": {
             "colorbar": {
              "outlinewidth": 0,
              "ticks": ""
             }
            },
            "type": "scattercarpet"
           }
          ],
          "scattergeo": [
           {
            "marker": {
             "colorbar": {
              "outlinewidth": 0,
              "ticks": ""
             }
            },
            "type": "scattergeo"
           }
          ],
          "scattergl": [
           {
            "marker": {
             "colorbar": {
              "outlinewidth": 0,
              "ticks": ""
             }
            },
            "type": "scattergl"
           }
          ],
          "scattermapbox": [
           {
            "marker": {
             "colorbar": {
              "outlinewidth": 0,
              "ticks": ""
             }
            },
            "type": "scattermapbox"
           }
          ],
          "scatterpolar": [
           {
            "marker": {
             "colorbar": {
              "outlinewidth": 0,
              "ticks": ""
             }
            },
            "type": "scatterpolar"
           }
          ],
          "scatterpolargl": [
           {
            "marker": {
             "colorbar": {
              "outlinewidth": 0,
              "ticks": ""
             }
            },
            "type": "scatterpolargl"
           }
          ],
          "scatterternary": [
           {
            "marker": {
             "colorbar": {
              "outlinewidth": 0,
              "ticks": ""
             }
            },
            "type": "scatterternary"
           }
          ],
          "surface": [
           {
            "colorbar": {
             "outlinewidth": 0,
             "ticks": ""
            },
            "colorscale": [
             [
              0,
              "#0d0887"
             ],
             [
              0.1111111111111111,
              "#46039f"
             ],
             [
              0.2222222222222222,
              "#7201a8"
             ],
             [
              0.3333333333333333,
              "#9c179e"
             ],
             [
              0.4444444444444444,
              "#bd3786"
             ],
             [
              0.5555555555555556,
              "#d8576b"
             ],
             [
              0.6666666666666666,
              "#ed7953"
             ],
             [
              0.7777777777777778,
              "#fb9f3a"
             ],
             [
              0.8888888888888888,
              "#fdca26"
             ],
             [
              1,
              "#f0f921"
             ]
            ],
            "type": "surface"
           }
          ],
          "table": [
           {
            "cells": {
             "fill": {
              "color": "#EBF0F8"
             },
             "line": {
              "color": "white"
             }
            },
            "header": {
             "fill": {
              "color": "#C8D4E3"
             },
             "line": {
              "color": "white"
             }
            },
            "type": "table"
           }
          ]
         },
         "layout": {
          "annotationdefaults": {
           "arrowcolor": "#2a3f5f",
           "arrowhead": 0,
           "arrowwidth": 1
          },
          "autotypenumbers": "strict",
          "coloraxis": {
           "colorbar": {
            "outlinewidth": 0,
            "ticks": ""
           }
          },
          "colorscale": {
           "diverging": [
            [
             0,
             "#8e0152"
            ],
            [
             0.1,
             "#c51b7d"
            ],
            [
             0.2,
             "#de77ae"
            ],
            [
             0.3,
             "#f1b6da"
            ],
            [
             0.4,
             "#fde0ef"
            ],
            [
             0.5,
             "#f7f7f7"
            ],
            [
             0.6,
             "#e6f5d0"
            ],
            [
             0.7,
             "#b8e186"
            ],
            [
             0.8,
             "#7fbc41"
            ],
            [
             0.9,
             "#4d9221"
            ],
            [
             1,
             "#276419"
            ]
           ],
           "sequential": [
            [
             0,
             "#0d0887"
            ],
            [
             0.1111111111111111,
             "#46039f"
            ],
            [
             0.2222222222222222,
             "#7201a8"
            ],
            [
             0.3333333333333333,
             "#9c179e"
            ],
            [
             0.4444444444444444,
             "#bd3786"
            ],
            [
             0.5555555555555556,
             "#d8576b"
            ],
            [
             0.6666666666666666,
             "#ed7953"
            ],
            [
             0.7777777777777778,
             "#fb9f3a"
            ],
            [
             0.8888888888888888,
             "#fdca26"
            ],
            [
             1,
             "#f0f921"
            ]
           ],
           "sequentialminus": [
            [
             0,
             "#0d0887"
            ],
            [
             0.1111111111111111,
             "#46039f"
            ],
            [
             0.2222222222222222,
             "#7201a8"
            ],
            [
             0.3333333333333333,
             "#9c179e"
            ],
            [
             0.4444444444444444,
             "#bd3786"
            ],
            [
             0.5555555555555556,
             "#d8576b"
            ],
            [
             0.6666666666666666,
             "#ed7953"
            ],
            [
             0.7777777777777778,
             "#fb9f3a"
            ],
            [
             0.8888888888888888,
             "#fdca26"
            ],
            [
             1,
             "#f0f921"
            ]
           ]
          },
          "colorway": [
           "#636efa",
           "#EF553B",
           "#00cc96",
           "#ab63fa",
           "#FFA15A",
           "#19d3f3",
           "#FF6692",
           "#B6E880",
           "#FF97FF",
           "#FECB52"
          ],
          "font": {
           "color": "#2a3f5f"
          },
          "geo": {
           "bgcolor": "white",
           "lakecolor": "white",
           "landcolor": "white",
           "showlakes": true,
           "showland": true,
           "subunitcolor": "#C8D4E3"
          },
          "hoverlabel": {
           "align": "left"
          },
          "hovermode": "closest",
          "mapbox": {
           "style": "light"
          },
          "paper_bgcolor": "white",
          "plot_bgcolor": "white",
          "polar": {
           "angularaxis": {
            "gridcolor": "#EBF0F8",
            "linecolor": "#EBF0F8",
            "ticks": ""
           },
           "bgcolor": "white",
           "radialaxis": {
            "gridcolor": "#EBF0F8",
            "linecolor": "#EBF0F8",
            "ticks": ""
           }
          },
          "scene": {
           "xaxis": {
            "backgroundcolor": "white",
            "gridcolor": "#DFE8F3",
            "gridwidth": 2,
            "linecolor": "#EBF0F8",
            "showbackground": true,
            "ticks": "",
            "zerolinecolor": "#EBF0F8"
           },
           "yaxis": {
            "backgroundcolor": "white",
            "gridcolor": "#DFE8F3",
            "gridwidth": 2,
            "linecolor": "#EBF0F8",
            "showbackground": true,
            "ticks": "",
            "zerolinecolor": "#EBF0F8"
           },
           "zaxis": {
            "backgroundcolor": "white",
            "gridcolor": "#DFE8F3",
            "gridwidth": 2,
            "linecolor": "#EBF0F8",
            "showbackground": true,
            "ticks": "",
            "zerolinecolor": "#EBF0F8"
           }
          },
          "shapedefaults": {
           "line": {
            "color": "#2a3f5f"
           }
          },
          "ternary": {
           "aaxis": {
            "gridcolor": "#DFE8F3",
            "linecolor": "#A2B1C6",
            "ticks": ""
           },
           "baxis": {
            "gridcolor": "#DFE8F3",
            "linecolor": "#A2B1C6",
            "ticks": ""
           },
           "bgcolor": "white",
           "caxis": {
            "gridcolor": "#DFE8F3",
            "linecolor": "#A2B1C6",
            "ticks": ""
           }
          },
          "title": {
           "x": 0.05
          },
          "xaxis": {
           "automargin": true,
           "gridcolor": "#EBF0F8",
           "linecolor": "#EBF0F8",
           "ticks": "",
           "title": {
            "standoff": 15
           },
           "zerolinecolor": "#EBF0F8",
           "zerolinewidth": 2
          },
          "yaxis": {
           "automargin": true,
           "gridcolor": "#EBF0F8",
           "linecolor": "#EBF0F8",
           "ticks": "",
           "title": {
            "standoff": 15
           },
           "zerolinecolor": "#EBF0F8",
           "zerolinewidth": 2
          }
         }
        },
        "title": {
         "font": {
          "color": "Black",
          "size": 22
         },
         "text": "<b>Hierarchical Clustering</b>",
         "x": 0.5,
         "xanchor": "center",
         "yanchor": "top"
        },
        "width": 1000,
        "xaxis": {
         "mirror": "allticks",
         "rangemode": "tozero",
         "showgrid": false,
         "showline": true,
         "showticklabels": true,
         "ticks": "outside",
         "type": "linear",
         "zeroline": false
        },
        "yaxis": {
         "mirror": "allticks",
         "range": [
          -190,
          0
         ],
         "rangemode": "tozero",
         "showgrid": false,
         "showline": true,
         "showticklabels": true,
         "tickmode": "array",
         "ticks": "outside",
         "ticktext": [
          "18_larmnie_de_lazerbadjan",
          "15_de_la_et",
          "11_drapeau_de_le",
          "16_vous_que_de",
          "8_police_de_la",
          "9_justice_de_la",
          "5_de_la_le",
          "4_de_la_le",
          "1_de_la_et",
          "0_de_des_la",
          "3_de_la_nous",
          "10_de_la_les",
          "12_sociale_scurit_de",
          "7_lacit_de_la",
          "17_de_discriminations_discr...",
          "13_mayotte_de_la",
          "14_ministre_madame_premire",
          "2_rpublique_la_vous",
          "6_rpublicain_larc_barrage"
         ],
         "tickvals": [
          -5,
          -15,
          -25,
          -35,
          -45,
          -55,
          -65,
          -75,
          -85,
          -95,
          -105,
          -115,
          -125,
          -135,
          -145,
          -155,
          -165,
          -175,
          -185
         ],
         "type": "linear",
         "zeroline": false
        }
       }
      }
     },
     "metadata": {},
     "output_type": "display_data"
    }
   ],
   "source": [
    "topic_model_better.visualize_hierarchy(hierarchical_topics=hierarchical_topics)"
   ]
  },
  {
   "cell_type": "markdown",
   "id": "3759ab0d",
   "metadata": {},
   "source": [
    "## Topic reduction"
   ]
  },
  {
   "cell_type": "code",
   "execution_count": 48,
   "id": "64ea47c7",
   "metadata": {},
   "outputs": [
    {
     "name": "stderr",
     "output_type": "stream",
     "text": [
      "2025-07-02 18:46:30,812 - BERTopic - Topic reduction - Reducing number of topics\n",
      "2025-07-02 18:46:30,813 - BERTopic - Topic reduction - Reduced number of topics from 20 to 20\n"
     ]
    },
    {
     "data": {
      "text/plain": [
       "<bertopic._bertopic.BERTopic at 0x3fbea0f80>"
      ]
     },
     "execution_count": 48,
     "metadata": {},
     "output_type": "execute_result"
    }
   ],
   "source": [
    "topic_model_better.reduce_topics(df[\"Texte_clean\"], nr_topics=20)"
   ]
  },
  {
   "cell_type": "code",
   "execution_count": null,
   "id": "9956ee6a",
   "metadata": {},
   "outputs": [],
   "source": []
  },
  {
   "cell_type": "markdown",
   "id": "78f7e3a9",
   "metadata": {},
   "source": [
    "voir le modèle dans le notebook emilien qui découpe en paragraphe sans avoir de marqueur de paragrphae. et garder que celui qui contient répu."
   ]
  },
  {
   "cell_type": "markdown",
   "id": "ba78879d",
   "metadata": {},
   "source": [
    "Passer à l'échelle de la phrase pour tout ce qui va être pour sentiment, réseau de mots, proba des termes, etc."
   ]
  }
 ],
 "metadata": {
  "kernelspec": {
   "display_name": "nlp_env",
   "language": "python",
   "name": "python3"
  },
  "language_info": {
   "codemirror_mode": {
    "name": "ipython",
    "version": 3
   },
   "file_extension": ".py",
   "mimetype": "text/x-python",
   "name": "python",
   "nbconvert_exporter": "python",
   "pygments_lexer": "ipython3",
   "version": "3.12.2"
  }
 },
 "nbformat": 4,
 "nbformat_minor": 5
}
