{
 "cells": [
  {
   "cell_type": "markdown",
   "id": "b399a5cc",
   "metadata": {},
   "source": [
    "## 4.2 NLP(ish)"
   ]
  },
  {
   "cell_type": "markdown",
   "id": "bc763a4c",
   "metadata": {},
   "source": [
    "https://maartengr.github.io/BERTopic/getting_started/quickstart/quickstart.html"
   ]
  },
  {
   "cell_type": "markdown",
   "id": "1114d3c8",
   "metadata": {},
   "source": [
    "## décider de comment on découpe\n",
    "- sentence ?\n",
    "- paragraphe (existe pas ici) -> mais possible avec wtpsplit : https://github.com/segment-any-text/wtpsplit\n",
    "- dire que tant pis ? Ok si utilise modèle avec fenetre suffisante (qwen ? https://huggingface.co/Qwen/Qwen3-Embedding-0.6B)\n",
    "- faire un check global du nb token par intervention et cut que ce qui dépasse ?\n",
    "- Passer à l'échelle de la phrase pour tout ce qui va être pour sentiment, réseau de mots, proba des termes, etc.\n",
    "- etc."
   ]
  },
  {
   "cell_type": "code",
   "execution_count": 9,
   "id": "5751b067",
   "metadata": {},
   "outputs": [],
   "source": [
    "import pandas as pd\n",
    "import nltk\n",
    "from nltk.corpus import stopwords\n",
    "from sentence_transformers import SentenceTransformer\n",
    "from sklearn.feature_extraction.text import CountVectorizer\n",
    "import bertopic\n",
    "from bertopic import BERTopic\n",
    "from sklearn.feature_extraction.text import CountVectorizer\n",
    "from sentence_transformers import SentenceTransformer\n",
    "import spacy\n",
    "from bertopic.vectorizers import ClassTfidfTransformer"
   ]
  },
  {
   "cell_type": "code",
   "execution_count": 50,
   "id": "9540d8c8",
   "metadata": {},
   "outputs": [],
   "source": [
    "df = pd.read_csv(\n",
    "    \"../data/interim/df_repu.csv\", low_memory=False, dtype={\"ID_orateur\": str}\n",
    ")"
   ]
  },
  {
   "cell_type": "code",
   "execution_count": 51,
   "id": "798aa1d4",
   "metadata": {},
   "outputs": [],
   "source": [
    "df[\"DateSeance_ts\"] = pd.to_datetime(df[\"DateSeance\"], format=\"%Y%m%d%H%M%S%f\")\n",
    "df[\"DateSeance_day\"] = df[\"DateSeance_ts\"].dt.normalize()  # guess it works\n"
   ]
  },
  {
   "cell_type": "markdown",
   "id": "97744ea6",
   "metadata": {},
   "source": [
    "## Bert things"
   ]
  },
  {
   "cell_type": "code",
   "execution_count": 12,
   "id": "1177e3ea",
   "metadata": {},
   "outputs": [],
   "source": [
    "#########\n",
    "# Si besoin, revenir au plus simple :\n",
    "#########\n",
    "\n",
    "# nltk.download(\"stopwords\")\n",
    "# french_stopwords = list(set(stopwords.words(\"french\")))\n",
    "# vectorizer_model = CountVectorizer(stop_words=french_stopwords)\n",
    "# topic_model = bertopic.BERTopic(language=\"french\", vectorizer_model=vectorizer_model)\n",
    "# # topics, probs = topic_model.fit_transform(df[\"Texte_clean\"])"
   ]
  },
  {
   "cell_type": "code",
   "execution_count": 13,
   "id": "f6016b21",
   "metadata": {},
   "outputs": [],
   "source": [
    "# TODO: redo with the good sentencetransformer"
   ]
  },
  {
   "cell_type": "markdown",
   "id": "623dda45",
   "metadata": {},
   "source": [
    "Stopwords :\n",
    "- https://maartengr.github.io/BERTopic/getting_started/tips_and_tricks/tips_and_tricks.html#document-length\n",
    "- Instead, we can use the CountVectorizer to preprocess our documents after having generated embeddings and clustered our documents. Personally, I have found almost no disadvantages to using the CountVectorizer to remove stopwords and it is something I would strongly advise to try out:\n",
    "- We can also use the ClassTfidfTransformer to reduce the impact of frequent words. The end result is very similar to explicitly removing stopwords but this process does this automatically:"
   ]
  },
  {
   "cell_type": "code",
   "execution_count": 14,
   "id": "4c0ea339",
   "metadata": {},
   "outputs": [],
   "source": [
    "# # tester un truc autour de alibaba pour l'embedding ?\n",
    "\n",
    "# model_name_or_path=\"Alibaba-NLP/gte-multilingual-base\""
   ]
  },
  {
   "cell_type": "code",
   "execution_count": null,
   "id": "d8d05fe9",
   "metadata": {},
   "outputs": [],
   "source": [
    "# TODO: Tester Flaubert et autres, qwen, etc. ALibaba = cry in GPU, , etc. Aviser dans colab ou humanum ?\n",
    "# Qwen pour sa Context Length ? + est multilingue ?\n",
    "# pousser vers leur 4B ou 8B si ressources suffisantes ?\n"
   ]
  },
  {
   "cell_type": "code",
   "execution_count": null,
   "id": "1eb30131",
   "metadata": {},
   "outputs": [
    {
     "name": "stderr",
     "output_type": "stream",
     "text": [
      "No sentence-transformers model found with name dangvantuan/sentence-camembert-large. Creating a new one with MEAN pooling.\n"
     ]
    },
    {
     "name": "stdout",
     "output_type": "stream",
     "text": [
      "device used : mps:0\n"
     ]
    }
   ],
   "source": [
    "# vectorizer_model et french stopwords\n",
    "# Avec spacy\n",
    "nlp = spacy.load(\"fr_core_news_sm\")\n",
    "french_stopwords = list(nlp.Defaults.stop_words)\n",
    "vectorizer_model = CountVectorizer(stop_words=french_stopwords)\n",
    "\n",
    "# # Ou avec nltk\n",
    "# import nltk\n",
    "# from nltk.corpus import stopwords\n",
    "# nltk.download(\"stopwords\")\n",
    "# french_stopwords = list(set(stopwords.words(\"french\")))\n",
    "# vectorizer_model = CountVectorizer(stop_words=french_stopwords)\n",
    "\n",
    "\n",
    "#####################################\n",
    "# TODO: Choisir le modèle d'embedding final\n",
    "#####################################\n",
    "# \"dangvantuan/sentence-camembert-large\"\n",
    "# \"all-MiniLM-L6-v2\"\n",
    "\n",
    "\n",
    "embedding_model = SentenceTransformer(\n",
    "    # \"Alibaba-NLP/gte-multilingual-base\", trust_remote_code=True # cry in gpu, something wrong ?\n",
    "    \"dangvantuan/sentence-camembert-large\"\n",
    "    # \"all-MiniLM-L6-v2\" # celui par défaut ?\n",
    ")\n",
    "\n",
    "print(\n",
    "    \"device used :\", embedding_model.device\n",
    ")  # Vérifie si le modèle est sur GPU ou CPU\n",
    "\n",
    "# ctfidf_model = ClassTfidfTransformer(reduce_frequent_words=True)\n",
    "\n",
    "# créer le modèle\n",
    "topic_model = BERTopic(\n",
    "    embedding_model=embedding_model,\n",
    "    vectorizer_model=vectorizer_model,  # remove stopwords after embbedings\n",
    "    # ctfidf_model=ctfidf_model, # (or) reduce the impact of frequent word\n",
    ")"
   ]
  },
  {
   "cell_type": "code",
   "execution_count": null,
   "id": "859138ac",
   "metadata": {},
   "outputs": [],
   "source": [
    "# # Fiter le modèle\n",
    "# topics, probs = topic_model.fit_transform(\n",
    "#     df[\"Texte_clean\"]\n",
    "# )  # .tolist() ? pas obligatoire ?"
   ]
  },
  {
   "cell_type": "code",
   "execution_count": null,
   "id": "95e25eec",
   "metadata": {},
   "outputs": [],
   "source": [
    "# # V1 safetensors\n",
    "# topic_model.save(\n",
    "#     \"../models/bert/camembert_safetensors\",\n",
    "#     serialization=\"safetensors\",\n",
    "#     save_ctfidf=True,\n",
    "#     save_embedding_model=embedding_model,\n",
    "# )\n",
    "\n",
    "# # V2 pytorch\n",
    "# topic_model.save(\n",
    "#     \"../models/bert/camembert_pytorch\",\n",
    "#     serialization=\"pytorch\",\n",
    "#     save_ctfidf=True,\n",
    "#     save_embedding_model=embedding_model,\n",
    "# )\n",
    "\n",
    "# # V3 pickle (pas recommandé ?)\n",
    "# topic_model.save(\"../models/bert/############\", save_embedding_model=True)\n"
   ]
  },
  {
   "cell_type": "code",
   "execution_count": null,
   "id": "9e2814ec",
   "metadata": {},
   "outputs": [],
   "source": [
    "# Load from directory\n",
    "# loaded_model = BERTopic.load(\"../models/bert/############\")\n"
   ]
  },
  {
   "cell_type": "code",
   "execution_count": null,
   "id": "ccdcc888",
   "metadata": {},
   "outputs": [],
   "source": [
    "# TODO: does mean pooling thing really works ?"
   ]
  },
  {
   "cell_type": "markdown",
   "id": "4f2c9bdc",
   "metadata": {},
   "source": [
    "Pour \"dangvantuan/sentence-camembert-large\"\n",
    "- No sentence-transformers model found with name dangvantuan/sentence-camembert-large. Creating a new one with MEAN pooling.\n",
    "- https://github.com/UKPLab/sentence-transformers/issues/2779 In short: even with a will create a new model with mean pooling warning, your model uses the tokenizer from https://huggingface.co/dangvantuan/sentence-camembert-large.\n",
    "\n",
    "\n",
    "DOES IT REALLY WORKS ?"
   ]
  },
  {
   "cell_type": "code",
   "execution_count": null,
   "id": "f3dc3c45",
   "metadata": {},
   "outputs": [],
   "source": [
    "# help(topic_model)"
   ]
  },
  {
   "cell_type": "code",
   "execution_count": 26,
   "id": "369077be",
   "metadata": {},
   "outputs": [
    {
     "data": {
      "text/html": [
       "<div>\n",
       "<style scoped>\n",
       "    .dataframe tbody tr th:only-of-type {\n",
       "        vertical-align: middle;\n",
       "    }\n",
       "\n",
       "    .dataframe tbody tr th {\n",
       "        vertical-align: top;\n",
       "    }\n",
       "\n",
       "    .dataframe thead th {\n",
       "        text-align: right;\n",
       "    }\n",
       "</style>\n",
       "<table border=\"1\" class=\"dataframe\">\n",
       "  <thead>\n",
       "    <tr style=\"text-align: right;\">\n",
       "      <th></th>\n",
       "      <th>Topic</th>\n",
       "      <th>Count</th>\n",
       "      <th>Name</th>\n",
       "      <th>Representation</th>\n",
       "      <th>Representative_Docs</th>\n",
       "    </tr>\n",
       "  </thead>\n",
       "  <tbody>\n",
       "    <tr>\n",
       "      <th>0</th>\n",
       "      <td>-1</td>\n",
       "      <td>1212</td>\n",
       "      <td>-1_république_qu_loi_avez</td>\n",
       "      <td>[république, qu, loi, avez, contre, été, minis...</td>\n",
       "      <td>[J’entends vos protestations, chers collègues ...</td>\n",
       "    </tr>\n",
       "    <tr>\n",
       "      <th>1</th>\n",
       "      <td>0</td>\n",
       "      <td>188</td>\n",
       "      <td>0_étrangers_immigration_asile_intégration</td>\n",
       "      <td>[étrangers, immigration, asile, intégration, e...</td>\n",
       "      <td>[…redonnez du sens à une politique qui n’en a ...</td>\n",
       "    </tr>\n",
       "    <tr>\n",
       "      <th>2</th>\n",
       "      <td>1</td>\n",
       "      <td>152</td>\n",
       "      <td>1_élèves_école_éducation_enseignants</td>\n",
       "      <td>[élèves, école, éducation, enseignants, enseig...</td>\n",
       "      <td>[Merci, mesdames et messieurs les députés, de ...</td>\n",
       "    </tr>\n",
       "    <tr>\n",
       "      <th>3</th>\n",
       "      <td>2</td>\n",
       "      <td>122</td>\n",
       "      <td>2_république_sommes_valeurs_français</td>\n",
       "      <td>[république, sommes, valeurs, français, compro...</td>\n",
       "      <td>[Cette réalité nous invite tous, à la modestie...</td>\n",
       "    </tr>\n",
       "    <tr>\n",
       "      <th>4</th>\n",
       "      <td>3</td>\n",
       "      <td>116</td>\n",
       "      <td>3_laïcité_école_élèves_uniforme</td>\n",
       "      <td>[laïcité, école, élèves, uniforme, religieux, ...</td>\n",
       "      <td>[…qui enseignent des matières fondamentales te...</td>\n",
       "    </tr>\n",
       "    <tr>\n",
       "      <th>...</th>\n",
       "      <td>...</td>\n",
       "      <td>...</td>\n",
       "      <td>...</td>\n",
       "      <td>...</td>\n",
       "      <td>...</td>\n",
       "    </tr>\n",
       "    <tr>\n",
       "      <th>68</th>\n",
       "      <td>67</td>\n",
       "      <td>11</td>\n",
       "      <td>67_aimez_aiment_république_rance</td>\n",
       "      <td>[aimez, aiment, république, rance, aimait, dét...</td>\n",
       "      <td>[Et vous, vous n’aimez pas la République !, Vo...</td>\n",
       "    </tr>\n",
       "    <tr>\n",
       "      <th>69</th>\n",
       "      <td>68</td>\n",
       "      <td>11</td>\n",
       "      <td>68_promesse_dignité_siècles_précaires</td>\n",
       "      <td>[promesse, dignité, siècles, précaires, corres...</td>\n",
       "      <td>[Vous n’avez cessé de proclamer qu’à des droit...</td>\n",
       "    </tr>\n",
       "    <tr>\n",
       "      <th>70</th>\n",
       "      <td>69</td>\n",
       "      <td>11</td>\n",
       "      <td>69_biens_restitution_spoliés_culturels</td>\n",
       "      <td>[biens, restitution, spoliés, culturels, resti...</td>\n",
       "      <td>[Je m’exprime au nom de notre collègue Claudia...</td>\n",
       "    </tr>\n",
       "    <tr>\n",
       "      <th>71</th>\n",
       "      <td>70</td>\n",
       "      <td>11</td>\n",
       "      <td>70_soustraire_religion_origine_prévaloir</td>\n",
       "      <td>[soustraire, religion, origine, prévaloir, loi...</td>\n",
       "      <td>[Ils sont partis, en effet. Nous nous targuons...</td>\n",
       "    </tr>\n",
       "    <tr>\n",
       "      <th>72</th>\n",
       "      <td>71</td>\n",
       "      <td>11</td>\n",
       "      <td>71_extrême_droite_immigration_peur</td>\n",
       "      <td>[extrême, droite, immigration, peur, ennemi, l...</td>\n",
       "      <td>[Nous sommes la France, généreuse, fraternelle...</td>\n",
       "    </tr>\n",
       "  </tbody>\n",
       "</table>\n",
       "<p>73 rows × 5 columns</p>\n",
       "</div>"
      ],
      "text/plain": [
       "    Topic  Count                                       Name  \\\n",
       "0      -1   1212                  -1_république_qu_loi_avez   \n",
       "1       0    188  0_étrangers_immigration_asile_intégration   \n",
       "2       1    152       1_élèves_école_éducation_enseignants   \n",
       "3       2    122       2_république_sommes_valeurs_français   \n",
       "4       3    116            3_laïcité_école_élèves_uniforme   \n",
       "..    ...    ...                                        ...   \n",
       "68     67     11           67_aimez_aiment_république_rance   \n",
       "69     68     11      68_promesse_dignité_siècles_précaires   \n",
       "70     69     11     69_biens_restitution_spoliés_culturels   \n",
       "71     70     11   70_soustraire_religion_origine_prévaloir   \n",
       "72     71     11         71_extrême_droite_immigration_peur   \n",
       "\n",
       "                                       Representation  \\\n",
       "0   [république, qu, loi, avez, contre, été, minis...   \n",
       "1   [étrangers, immigration, asile, intégration, e...   \n",
       "2   [élèves, école, éducation, enseignants, enseig...   \n",
       "3   [république, sommes, valeurs, français, compro...   \n",
       "4   [laïcité, école, élèves, uniforme, religieux, ...   \n",
       "..                                                ...   \n",
       "68  [aimez, aiment, république, rance, aimait, dét...   \n",
       "69  [promesse, dignité, siècles, précaires, corres...   \n",
       "70  [biens, restitution, spoliés, culturels, resti...   \n",
       "71  [soustraire, religion, origine, prévaloir, loi...   \n",
       "72  [extrême, droite, immigration, peur, ennemi, l...   \n",
       "\n",
       "                                  Representative_Docs  \n",
       "0   [J’entends vos protestations, chers collègues ...  \n",
       "1   […redonnez du sens à une politique qui n’en a ...  \n",
       "2   [Merci, mesdames et messieurs les députés, de ...  \n",
       "3   [Cette réalité nous invite tous, à la modestie...  \n",
       "4   […qui enseignent des matières fondamentales te...  \n",
       "..                                                ...  \n",
       "68  [Et vous, vous n’aimez pas la République !, Vo...  \n",
       "69  [Vous n’avez cessé de proclamer qu’à des droit...  \n",
       "70  [Je m’exprime au nom de notre collègue Claudia...  \n",
       "71  [Ils sont partis, en effet. Nous nous targuons...  \n",
       "72  [Nous sommes la France, généreuse, fraternelle...  \n",
       "\n",
       "[73 rows x 5 columns]"
      ]
     },
     "execution_count": 26,
     "metadata": {},
     "output_type": "execute_result"
    }
   ],
   "source": [
    "topic_model.get_topic_info()"
   ]
  },
  {
   "cell_type": "markdown",
   "id": "f3dcf058",
   "metadata": {},
   "source": [
    "### Tester des trucs rapides"
   ]
  },
  {
   "cell_type": "code",
   "execution_count": null,
   "id": "a75f8c21",
   "metadata": {},
   "outputs": [],
   "source": [
    "# # Les principales fonctions à tester pour avoir un aperçu simple :\n",
    "\n",
    "# topic_model.get_topic_info()\n",
    "# topic_model.visualize_barchart()\n",
    "# topic_model.visualize_topics()\n",
    "# topic_model.visualize_hierarchy()\n",
    "# topic_model.visualize_documents(df[\"Texte_clean\"].to_list())\n"
   ]
  },
  {
   "cell_type": "markdown",
   "id": "ea430eb1",
   "metadata": {},
   "source": [
    "### Tester plus"
   ]
  },
  {
   "cell_type": "code",
   "execution_count": 94,
   "id": "05d4433b",
   "metadata": {},
   "outputs": [
    {
     "data": {
      "application/vnd.plotly.v1+json": {
       "config": {
        "plotlyServerURL": "https://plot.ly"
       },
       "data": [
        {
         "customdata": [
          [
           0,
           "étrangers | immigration | asile | intégration | expulsion",
           188
          ],
          [
           1,
           "élèves | école | éducation | enseignants | enseignement",
           152
          ],
          [
           2,
           "république | sommes | valeurs | français | compromis",
           122
          ],
          [
           3,
           "laïcité | école | élèves | uniforme | religieux",
           116
          ],
          [
           4,
           "49 | ve | censure | assemblée | majorité",
           81
          ],
          [
           5,
           "santé | soins | hôpital | médecins | soignants",
           77
          ],
          [
           6,
           "mer | territoires | ultramarins | prix | eau",
           74
          ],
          [
           7,
           "antisémitisme | israël | haine | antisémites | juifs",
           64
          ],
          [
           8,
           "policiers | ordre | gendarmes | police | forces",
           59
          ],
          [
           9,
           "élus | maires | maire | locaux | élu",
           58
          ],
          [
           10,
           "drapeau | mairies | européen | tricolore | pavoisement",
           54
          ],
          [
           11,
           "armées | lpm | militaire | programmation | défense",
           52
          ],
          [
           12,
           "calédonie | nouvelle | calédoniens | accord | nouméa",
           51
          ],
          [
           13,
           "logement | logements | locataires | abri | domicile",
           50
          ],
          [
           14,
           "collectivités | communes | locales | finances | dgf",
           48
          ],
          [
           15,
           "scientifique | écologique | climatique | énergie | nucléaire",
           48
          ],
          [
           16,
           "républicain | république | iiie | ordre | barrage",
           45
          ],
          [
           17,
           "texte | remercie | proposition | loi | amendements",
           42
          ],
          [
           18,
           "extrême | droite | terrorisme | groupuscules | ultradroite",
           40
          ],
          [
           19,
           "sécurité | police | policiers | gendarmes | ministère",
           35
          ],
          [
           20,
           "république | honte | êtes | détruisant | détruisez",
           33
          ],
          [
           21,
           "femmes | ivg | avortement | droit | liberté",
           31
          ],
          [
           22,
           "scrutin | proportionnelle | mode | majoritaire | ve",
           31
          ],
          [
           23,
           "aesh | handicap | enfants | école | élèves",
           31
          ],
          [
           24,
           "salariés | salaire | salaires | entreprises | valeur",
           30
          ],
          [
           25,
           "paty | samuel | terrorisme | bernard | dominique",
           30
          ],
          [
           26,
           "sociale | sécurité | constitutionnelle | institution | constitution",
           29
          ],
          [
           27,
           "polynésie | ordonnance | française | fonction | publique",
           29
          ],
          [
           28,
           "discriminations | discrimination | tests | racisme | statistiques",
           28
          ],
          [
           29,
           "justice | magistrats | judiciaire | magistrature | moyens",
           27
          ],
          [
           30,
           "ve | république | vie | présidente | pen",
           26
          ],
          [
           31,
           "retraites | réforme | peuple | retraite | 64",
           26
          ],
          [
           32,
           "impôt | salaires | riches | milliards | entreprises",
           25
          ],
          [
           33,
           "parents | école | élèves | conseils | extrême",
           25
          ],
          [
           34,
           "emploi | chômage | chômeurs | travail | rsa",
           25
          ],
          [
           35,
           "associations | contrat | engagement | association | subventions",
           24
          ],
          [
           36,
           "49 | constitution | article | alinéa | 1958",
           24
          ],
          [
           37,
           "associations | bénévoles | engagement | associatif | bénévole",
           22
          ],
          [
           38,
           "langues | langue | régionales | française | enseignement",
           21
          ],
          [
           39,
           "droite | extrême | gauche | histoire | dos",
           21
          ],
          [
           40,
           "républicains | grâce | républicain | attachées | espèrent",
           20
          ],
          [
           41,
           "cnil | drones | données | avis | conseil",
           20
          ],
          [
           42,
           "agricole | exploitation | agriculteurs | marins | agriculture",
           20
          ],
          [
           43,
           "snu | jeunesse | jeunes | militaire | smv",
           19
          ],
          [
           44,
           "avez | réparerons | démocratie | macron | emmanuel",
           19
          ],
          [
           45,
           "dette | milliards | publiques | dépenses | finances",
           18
          ],
          [
           46,
           "peines | récidive | peine | planchers | emprisonnement",
           18
          ],
          [
           47,
           "vols | métropoles | serm | transports | ferroviaire",
           15
          ],
          [
           48,
           "quartier | drogue | trafic | ville | stupéfiants",
           15
          ],
          [
           49,
           "homosexualité | réparation | 1942 | vichy | homosexuelles",
           15
          ],
          [
           50,
           "quartiers | reconquête | populaires | habitants | républicaine",
           15
          ],
          [
           51,
           "inéligibilité | peine | violences | délits | complémentaire",
           15
          ],
          [
           52,
           "mayotte | comores | mahorais | migratoire | comorienne",
           15
          ],
          [
           53,
           "soignants | vaccinés | vaccinale | santé | covid",
           15
          ],
          [
           54,
           "octobre | algérie | 1961 | 17 | victimes",
           14
          ],
          [
           55,
           "arménie | azerbaïdjan | arménien | karabakh | arméniens",
           14
          ],
          [
           56,
           "esclavage | mer | toussaint | louverture | aboli",
           14
          ],
          [
           57,
           "séparatisme | loi | principes | confortant | radicalisation",
           14
          ],
          [
           58,
           "arc | républicain | sortir | étonnement | situerait",
           14
          ],
          [
           59,
           "citoyen | droits | homme | déclaration | liberté",
           13
          ],
          [
           60,
           "quartiers | bâtiments | reconstruction | publics | reconstruire",
           13
          ],
          [
           61,
           "sport | jeux | sportifs | clubs | sportive",
           13
          ],
          [
           62,
           "iran | islamique | iraniennes | iranien | iraniens",
           12
          ],
          [
           63,
           "ligne | numérique | privée | image | contre",
           12
          ],
          [
           64,
           "dématérialisation | services | numérique | publics | accueil",
           12
          ],
          [
           65,
           "mairie | fonction | secrétaires | publique | métier",
           12
          ],
          [
           66,
           "ingérences | étrangères | kazakhstan | mayotte | ingérence",
           11
          ],
          [
           67,
           "aimez | aiment | république | rance | aimait",
           11
          ],
          [
           68,
           "promesse | dignité | siècles | précaires | correspondre",
           11
          ],
          [
           69,
           "biens | restitution | spoliés | culturels | restitutions",
           11
          ],
          [
           70,
           "soustraire | religion | origine | prévaloir | lois",
           11
          ],
          [
           71,
           "extrême | droite | immigration | peur | ennemi",
           11
          ]
         ],
         "hovertemplate": "<b>Topic %{customdata[0]}</b><br>%{customdata[1]}<br>Size: %{customdata[2]}",
         "legendgroup": "",
         "marker": {
          "color": "#B0BEC5",
          "line": {
           "color": "DarkSlateGrey",
           "width": 2
          },
          "size": [
           188,
           152,
           122,
           116,
           81,
           77,
           74,
           64,
           59,
           58,
           54,
           52,
           51,
           50,
           48,
           48,
           45,
           42,
           40,
           35,
           33,
           31,
           31,
           31,
           30,
           30,
           29,
           29,
           28,
           27,
           26,
           26,
           25,
           25,
           25,
           24,
           24,
           22,
           21,
           21,
           20,
           20,
           20,
           19,
           19,
           18,
           18,
           15,
           15,
           15,
           15,
           15,
           15,
           15,
           14,
           14,
           14,
           14,
           14,
           13,
           13,
           13,
           12,
           12,
           12,
           12,
           11,
           11,
           11,
           11,
           11,
           11
          ],
          "sizemode": "area",
          "sizeref": 0.1175,
          "symbol": "circle"
         },
         "mode": "markers",
         "name": "",
         "orientation": "v",
         "showlegend": false,
         "type": "scatter",
         "x": [
          -13.223124,
          11.315819,
          8.278095,
          11.39163,
          9.588633,
          -4.8502116,
          -7.961842,
          14.48272,
          6.284485,
          5.9411426,
          8.135966,
          8.676861,
          9.62717,
          5.7287397,
          -7.960887,
          -10.502966,
          16.558212,
          8.638611,
          14.454213,
          6.089712,
          16.811285,
          8.551062,
          9.624867,
          11.473488,
          -2.1617692,
          14.616562,
          -4.5598416,
          -7.7626376,
          -13.377385,
          5.8783493,
          16.596472,
          7.1139264,
          -2.269078,
          11.325486,
          -2.102271,
          1.6229849,
          9.522626,
          1.3996513,
          11.430661,
          10.39698,
          16.544647,
          0.105182886,
          -10.490888,
          1.4567192,
          7.1139183,
          -8.02961,
          -15.748603,
          -10.562838,
          6.1059537,
          -13.484987,
          11.216784,
          -15.744039,
          -13.068733,
          -4.9152875,
          -13.663747,
          0.47929832,
          -8.080674,
          1.6448007,
          16.447496,
          -0.68769395,
          5.7316046,
          1.2466484,
          8.542223,
          0.25752452,
          0.021634853,
          -7.652776,
          0.36971194,
          16.8799,
          -4.5581927,
          -13.623564,
          -0.6869299,
          10.397036
         ],
         "xaxis": "x",
         "y": [
          10.512762,
          4.099038,
          -8.794333,
          4.1562786,
          17.497347,
          -3.4338326,
          10.287398,
          5.508957,
          12.19797,
          11.854255,
          -8.6482525,
          -9.202602,
          17.45846,
          6.082426,
          10.425753,
          -1.2508879,
          3.47359,
          -9.171624,
          5.487687,
          12.002728,
          3.2185998,
          -9.119621,
          17.464558,
          4.170703,
          -5.511731,
          5.631395,
          8.953127,
          10.027097,
          10.671496,
          11.791381,
          3.4345417,
          -0.59862834,
          -5.4045615,
          4.0058403,
          -5.57091,
          7.1932807,
          17.563313,
          6.9698367,
          4.204449,
          -4.9449387,
          3.486658,
          13.833347,
          -1.2630093,
          7.0267057,
          -0.5985634,
          10.519282,
          12.385155,
          -1.190763,
          12.018779,
          10.785757,
          4.285218,
          12.381903,
          10.357387,
          -3.382106,
          10.970083,
          13.45813,
          10.233271,
          7.2154284,
          3.583605,
          10.13961,
          6.058053,
          6.815941,
          -9.0900955,
          13.682674,
          13.916396,
          9.925276,
          13.568864,
          3.1495438,
          8.952628,
          10.930916,
          10.139177,
          -4.944796
         ],
         "yaxis": "y"
        }
       ],
       "layout": {
        "annotations": [
         {
          "showarrow": false,
          "text": "D1",
          "x": -18.110893297195435,
          "y": 4.807408332824707,
          "yshift": 10
         },
         {
          "showarrow": false,
          "text": "D2",
          "x": 0.6504958391189568,
          "xshift": 10,
          "y": 20.197809410095214
         }
        ],
        "height": 650,
        "hoverlabel": {
         "bgcolor": "white",
         "font": {
          "family": "Rockwell",
          "size": 16
         }
        },
        "legend": {
         "itemsizing": "constant",
         "tracegroupgap": 0
        },
        "margin": {
         "t": 60
        },
        "shapes": [
         {
          "line": {
           "color": "#CFD8DC",
           "width": 2
          },
          "type": "line",
          "x0": 0.6504958391189568,
          "x1": 0.6504958391189568,
          "y0": -10.5829927444458,
          "y1": 20.197809410095214
         },
         {
          "line": {
           "color": "#9E9E9E",
           "width": 2
          },
          "type": "line",
          "x0": -18.110893297195435,
          "x1": 19.41188497543335,
          "y0": 4.807408332824707,
          "y1": 4.807408332824707
         }
        ],
        "sliders": [
         {
          "active": 0,
          "pad": {
           "t": 50
          },
          "steps": [
           {
            "args": [
             {
              "marker.color": [
               [
                "red",
                "#B0BEC5",
                "#B0BEC5",
                "#B0BEC5",
                "#B0BEC5",
                "#B0BEC5",
                "#B0BEC5",
                "#B0BEC5",
                "#B0BEC5",
                "#B0BEC5",
                "#B0BEC5",
                "#B0BEC5",
                "#B0BEC5",
                "#B0BEC5",
                "#B0BEC5",
                "#B0BEC5",
                "#B0BEC5",
                "#B0BEC5",
                "#B0BEC5",
                "#B0BEC5",
                "#B0BEC5",
                "#B0BEC5",
                "#B0BEC5",
                "#B0BEC5",
                "#B0BEC5",
                "#B0BEC5",
                "#B0BEC5",
                "#B0BEC5",
                "#B0BEC5",
                "#B0BEC5",
                "#B0BEC5",
                "#B0BEC5",
                "#B0BEC5",
                "#B0BEC5",
                "#B0BEC5",
                "#B0BEC5",
                "#B0BEC5",
                "#B0BEC5",
                "#B0BEC5",
                "#B0BEC5",
                "#B0BEC5",
                "#B0BEC5",
                "#B0BEC5",
                "#B0BEC5",
                "#B0BEC5",
                "#B0BEC5",
                "#B0BEC5",
                "#B0BEC5",
                "#B0BEC5",
                "#B0BEC5",
                "#B0BEC5",
                "#B0BEC5",
                "#B0BEC5",
                "#B0BEC5",
                "#B0BEC5",
                "#B0BEC5",
                "#B0BEC5",
                "#B0BEC5",
                "#B0BEC5",
                "#B0BEC5",
                "#B0BEC5",
                "#B0BEC5",
                "#B0BEC5",
                "#B0BEC5",
                "#B0BEC5",
                "#B0BEC5",
                "#B0BEC5",
                "#B0BEC5",
                "#B0BEC5",
                "#B0BEC5",
                "#B0BEC5",
                "#B0BEC5"
               ]
              ]
             }
            ],
            "label": "Topic 0",
            "method": "update"
           },
           {
            "args": [
             {
              "marker.color": [
               [
                "#B0BEC5",
                "red",
                "#B0BEC5",
                "#B0BEC5",
                "#B0BEC5",
                "#B0BEC5",
                "#B0BEC5",
                "#B0BEC5",
                "#B0BEC5",
                "#B0BEC5",
                "#B0BEC5",
                "#B0BEC5",
                "#B0BEC5",
                "#B0BEC5",
                "#B0BEC5",
                "#B0BEC5",
                "#B0BEC5",
                "#B0BEC5",
                "#B0BEC5",
                "#B0BEC5",
                "#B0BEC5",
                "#B0BEC5",
                "#B0BEC5",
                "#B0BEC5",
                "#B0BEC5",
                "#B0BEC5",
                "#B0BEC5",
                "#B0BEC5",
                "#B0BEC5",
                "#B0BEC5",
                "#B0BEC5",
                "#B0BEC5",
                "#B0BEC5",
                "#B0BEC5",
                "#B0BEC5",
                "#B0BEC5",
                "#B0BEC5",
                "#B0BEC5",
                "#B0BEC5",
                "#B0BEC5",
                "#B0BEC5",
                "#B0BEC5",
                "#B0BEC5",
                "#B0BEC5",
                "#B0BEC5",
                "#B0BEC5",
                "#B0BEC5",
                "#B0BEC5",
                "#B0BEC5",
                "#B0BEC5",
                "#B0BEC5",
                "#B0BEC5",
                "#B0BEC5",
                "#B0BEC5",
                "#B0BEC5",
                "#B0BEC5",
                "#B0BEC5",
                "#B0BEC5",
                "#B0BEC5",
                "#B0BEC5",
                "#B0BEC5",
                "#B0BEC5",
                "#B0BEC5",
                "#B0BEC5",
                "#B0BEC5",
                "#B0BEC5",
                "#B0BEC5",
                "#B0BEC5",
                "#B0BEC5",
                "#B0BEC5",
                "#B0BEC5",
                "#B0BEC5"
               ]
              ]
             }
            ],
            "label": "Topic 1",
            "method": "update"
           },
           {
            "args": [
             {
              "marker.color": [
               [
                "#B0BEC5",
                "#B0BEC5",
                "red",
                "#B0BEC5",
                "#B0BEC5",
                "#B0BEC5",
                "#B0BEC5",
                "#B0BEC5",
                "#B0BEC5",
                "#B0BEC5",
                "#B0BEC5",
                "#B0BEC5",
                "#B0BEC5",
                "#B0BEC5",
                "#B0BEC5",
                "#B0BEC5",
                "#B0BEC5",
                "#B0BEC5",
                "#B0BEC5",
                "#B0BEC5",
                "#B0BEC5",
                "#B0BEC5",
                "#B0BEC5",
                "#B0BEC5",
                "#B0BEC5",
                "#B0BEC5",
                "#B0BEC5",
                "#B0BEC5",
                "#B0BEC5",
                "#B0BEC5",
                "#B0BEC5",
                "#B0BEC5",
                "#B0BEC5",
                "#B0BEC5",
                "#B0BEC5",
                "#B0BEC5",
                "#B0BEC5",
                "#B0BEC5",
                "#B0BEC5",
                "#B0BEC5",
                "#B0BEC5",
                "#B0BEC5",
                "#B0BEC5",
                "#B0BEC5",
                "#B0BEC5",
                "#B0BEC5",
                "#B0BEC5",
                "#B0BEC5",
                "#B0BEC5",
                "#B0BEC5",
                "#B0BEC5",
                "#B0BEC5",
                "#B0BEC5",
                "#B0BEC5",
                "#B0BEC5",
                "#B0BEC5",
                "#B0BEC5",
                "#B0BEC5",
                "#B0BEC5",
                "#B0BEC5",
                "#B0BEC5",
                "#B0BEC5",
                "#B0BEC5",
                "#B0BEC5",
                "#B0BEC5",
                "#B0BEC5",
                "#B0BEC5",
                "#B0BEC5",
                "#B0BEC5",
                "#B0BEC5",
                "#B0BEC5",
                "#B0BEC5"
               ]
              ]
             }
            ],
            "label": "Topic 2",
            "method": "update"
           },
           {
            "args": [
             {
              "marker.color": [
               [
                "#B0BEC5",
                "#B0BEC5",
                "#B0BEC5",
                "red",
                "#B0BEC5",
                "#B0BEC5",
                "#B0BEC5",
                "#B0BEC5",
                "#B0BEC5",
                "#B0BEC5",
                "#B0BEC5",
                "#B0BEC5",
                "#B0BEC5",
                "#B0BEC5",
                "#B0BEC5",
                "#B0BEC5",
                "#B0BEC5",
                "#B0BEC5",
                "#B0BEC5",
                "#B0BEC5",
                "#B0BEC5",
                "#B0BEC5",
                "#B0BEC5",
                "#B0BEC5",
                "#B0BEC5",
                "#B0BEC5",
                "#B0BEC5",
                "#B0BEC5",
                "#B0BEC5",
                "#B0BEC5",
                "#B0BEC5",
                "#B0BEC5",
                "#B0BEC5",
                "#B0BEC5",
                "#B0BEC5",
                "#B0BEC5",
                "#B0BEC5",
                "#B0BEC5",
                "#B0BEC5",
                "#B0BEC5",
                "#B0BEC5",
                "#B0BEC5",
                "#B0BEC5",
                "#B0BEC5",
                "#B0BEC5",
                "#B0BEC5",
                "#B0BEC5",
                "#B0BEC5",
                "#B0BEC5",
                "#B0BEC5",
                "#B0BEC5",
                "#B0BEC5",
                "#B0BEC5",
                "#B0BEC5",
                "#B0BEC5",
                "#B0BEC5",
                "#B0BEC5",
                "#B0BEC5",
                "#B0BEC5",
                "#B0BEC5",
                "#B0BEC5",
                "#B0BEC5",
                "#B0BEC5",
                "#B0BEC5",
                "#B0BEC5",
                "#B0BEC5",
                "#B0BEC5",
                "#B0BEC5",
                "#B0BEC5",
                "#B0BEC5",
                "#B0BEC5",
                "#B0BEC5"
               ]
              ]
             }
            ],
            "label": "Topic 3",
            "method": "update"
           },
           {
            "args": [
             {
              "marker.color": [
               [
                "#B0BEC5",
                "#B0BEC5",
                "#B0BEC5",
                "#B0BEC5",
                "red",
                "#B0BEC5",
                "#B0BEC5",
                "#B0BEC5",
                "#B0BEC5",
                "#B0BEC5",
                "#B0BEC5",
                "#B0BEC5",
                "#B0BEC5",
                "#B0BEC5",
                "#B0BEC5",
                "#B0BEC5",
                "#B0BEC5",
                "#B0BEC5",
                "#B0BEC5",
                "#B0BEC5",
                "#B0BEC5",
                "#B0BEC5",
                "#B0BEC5",
                "#B0BEC5",
                "#B0BEC5",
                "#B0BEC5",
                "#B0BEC5",
                "#B0BEC5",
                "#B0BEC5",
                "#B0BEC5",
                "#B0BEC5",
                "#B0BEC5",
                "#B0BEC5",
                "#B0BEC5",
                "#B0BEC5",
                "#B0BEC5",
                "#B0BEC5",
                "#B0BEC5",
                "#B0BEC5",
                "#B0BEC5",
                "#B0BEC5",
                "#B0BEC5",
                "#B0BEC5",
                "#B0BEC5",
                "#B0BEC5",
                "#B0BEC5",
                "#B0BEC5",
                "#B0BEC5",
                "#B0BEC5",
                "#B0BEC5",
                "#B0BEC5",
                "#B0BEC5",
                "#B0BEC5",
                "#B0BEC5",
                "#B0BEC5",
                "#B0BEC5",
                "#B0BEC5",
                "#B0BEC5",
                "#B0BEC5",
                "#B0BEC5",
                "#B0BEC5",
                "#B0BEC5",
                "#B0BEC5",
                "#B0BEC5",
                "#B0BEC5",
                "#B0BEC5",
                "#B0BEC5",
                "#B0BEC5",
                "#B0BEC5",
                "#B0BEC5",
                "#B0BEC5",
                "#B0BEC5"
               ]
              ]
             }
            ],
            "label": "Topic 4",
            "method": "update"
           },
           {
            "args": [
             {
              "marker.color": [
               [
                "#B0BEC5",
                "#B0BEC5",
                "#B0BEC5",
                "#B0BEC5",
                "#B0BEC5",
                "red",
                "#B0BEC5",
                "#B0BEC5",
                "#B0BEC5",
                "#B0BEC5",
                "#B0BEC5",
                "#B0BEC5",
                "#B0BEC5",
                "#B0BEC5",
                "#B0BEC5",
                "#B0BEC5",
                "#B0BEC5",
                "#B0BEC5",
                "#B0BEC5",
                "#B0BEC5",
                "#B0BEC5",
                "#B0BEC5",
                "#B0BEC5",
                "#B0BEC5",
                "#B0BEC5",
                "#B0BEC5",
                "#B0BEC5",
                "#B0BEC5",
                "#B0BEC5",
                "#B0BEC5",
                "#B0BEC5",
                "#B0BEC5",
                "#B0BEC5",
                "#B0BEC5",
                "#B0BEC5",
                "#B0BEC5",
                "#B0BEC5",
                "#B0BEC5",
                "#B0BEC5",
                "#B0BEC5",
                "#B0BEC5",
                "#B0BEC5",
                "#B0BEC5",
                "#B0BEC5",
                "#B0BEC5",
                "#B0BEC5",
                "#B0BEC5",
                "#B0BEC5",
                "#B0BEC5",
                "#B0BEC5",
                "#B0BEC5",
                "#B0BEC5",
                "#B0BEC5",
                "#B0BEC5",
                "#B0BEC5",
                "#B0BEC5",
                "#B0BEC5",
                "#B0BEC5",
                "#B0BEC5",
                "#B0BEC5",
                "#B0BEC5",
                "#B0BEC5",
                "#B0BEC5",
                "#B0BEC5",
                "#B0BEC5",
                "#B0BEC5",
                "#B0BEC5",
                "#B0BEC5",
                "#B0BEC5",
                "#B0BEC5",
                "#B0BEC5",
                "#B0BEC5"
               ]
              ]
             }
            ],
            "label": "Topic 5",
            "method": "update"
           },
           {
            "args": [
             {
              "marker.color": [
               [
                "#B0BEC5",
                "#B0BEC5",
                "#B0BEC5",
                "#B0BEC5",
                "#B0BEC5",
                "#B0BEC5",
                "red",
                "#B0BEC5",
                "#B0BEC5",
                "#B0BEC5",
                "#B0BEC5",
                "#B0BEC5",
                "#B0BEC5",
                "#B0BEC5",
                "#B0BEC5",
                "#B0BEC5",
                "#B0BEC5",
                "#B0BEC5",
                "#B0BEC5",
                "#B0BEC5",
                "#B0BEC5",
                "#B0BEC5",
                "#B0BEC5",
                "#B0BEC5",
                "#B0BEC5",
                "#B0BEC5",
                "#B0BEC5",
                "#B0BEC5",
                "#B0BEC5",
                "#B0BEC5",
                "#B0BEC5",
                "#B0BEC5",
                "#B0BEC5",
                "#B0BEC5",
                "#B0BEC5",
                "#B0BEC5",
                "#B0BEC5",
                "#B0BEC5",
                "#B0BEC5",
                "#B0BEC5",
                "#B0BEC5",
                "#B0BEC5",
                "#B0BEC5",
                "#B0BEC5",
                "#B0BEC5",
                "#B0BEC5",
                "#B0BEC5",
                "#B0BEC5",
                "#B0BEC5",
                "#B0BEC5",
                "#B0BEC5",
                "#B0BEC5",
                "#B0BEC5",
                "#B0BEC5",
                "#B0BEC5",
                "#B0BEC5",
                "#B0BEC5",
                "#B0BEC5",
                "#B0BEC5",
                "#B0BEC5",
                "#B0BEC5",
                "#B0BEC5",
                "#B0BEC5",
                "#B0BEC5",
                "#B0BEC5",
                "#B0BEC5",
                "#B0BEC5",
                "#B0BEC5",
                "#B0BEC5",
                "#B0BEC5",
                "#B0BEC5",
                "#B0BEC5"
               ]
              ]
             }
            ],
            "label": "Topic 6",
            "method": "update"
           },
           {
            "args": [
             {
              "marker.color": [
               [
                "#B0BEC5",
                "#B0BEC5",
                "#B0BEC5",
                "#B0BEC5",
                "#B0BEC5",
                "#B0BEC5",
                "#B0BEC5",
                "red",
                "#B0BEC5",
                "#B0BEC5",
                "#B0BEC5",
                "#B0BEC5",
                "#B0BEC5",
                "#B0BEC5",
                "#B0BEC5",
                "#B0BEC5",
                "#B0BEC5",
                "#B0BEC5",
                "#B0BEC5",
                "#B0BEC5",
                "#B0BEC5",
                "#B0BEC5",
                "#B0BEC5",
                "#B0BEC5",
                "#B0BEC5",
                "#B0BEC5",
                "#B0BEC5",
                "#B0BEC5",
                "#B0BEC5",
                "#B0BEC5",
                "#B0BEC5",
                "#B0BEC5",
                "#B0BEC5",
                "#B0BEC5",
                "#B0BEC5",
                "#B0BEC5",
                "#B0BEC5",
                "#B0BEC5",
                "#B0BEC5",
                "#B0BEC5",
                "#B0BEC5",
                "#B0BEC5",
                "#B0BEC5",
                "#B0BEC5",
                "#B0BEC5",
                "#B0BEC5",
                "#B0BEC5",
                "#B0BEC5",
                "#B0BEC5",
                "#B0BEC5",
                "#B0BEC5",
                "#B0BEC5",
                "#B0BEC5",
                "#B0BEC5",
                "#B0BEC5",
                "#B0BEC5",
                "#B0BEC5",
                "#B0BEC5",
                "#B0BEC5",
                "#B0BEC5",
                "#B0BEC5",
                "#B0BEC5",
                "#B0BEC5",
                "#B0BEC5",
                "#B0BEC5",
                "#B0BEC5",
                "#B0BEC5",
                "#B0BEC5",
                "#B0BEC5",
                "#B0BEC5",
                "#B0BEC5",
                "#B0BEC5"
               ]
              ]
             }
            ],
            "label": "Topic 7",
            "method": "update"
           },
           {
            "args": [
             {
              "marker.color": [
               [
                "#B0BEC5",
                "#B0BEC5",
                "#B0BEC5",
                "#B0BEC5",
                "#B0BEC5",
                "#B0BEC5",
                "#B0BEC5",
                "#B0BEC5",
                "red",
                "#B0BEC5",
                "#B0BEC5",
                "#B0BEC5",
                "#B0BEC5",
                "#B0BEC5",
                "#B0BEC5",
                "#B0BEC5",
                "#B0BEC5",
                "#B0BEC5",
                "#B0BEC5",
                "#B0BEC5",
                "#B0BEC5",
                "#B0BEC5",
                "#B0BEC5",
                "#B0BEC5",
                "#B0BEC5",
                "#B0BEC5",
                "#B0BEC5",
                "#B0BEC5",
                "#B0BEC5",
                "#B0BEC5",
                "#B0BEC5",
                "#B0BEC5",
                "#B0BEC5",
                "#B0BEC5",
                "#B0BEC5",
                "#B0BEC5",
                "#B0BEC5",
                "#B0BEC5",
                "#B0BEC5",
                "#B0BEC5",
                "#B0BEC5",
                "#B0BEC5",
                "#B0BEC5",
                "#B0BEC5",
                "#B0BEC5",
                "#B0BEC5",
                "#B0BEC5",
                "#B0BEC5",
                "#B0BEC5",
                "#B0BEC5",
                "#B0BEC5",
                "#B0BEC5",
                "#B0BEC5",
                "#B0BEC5",
                "#B0BEC5",
                "#B0BEC5",
                "#B0BEC5",
                "#B0BEC5",
                "#B0BEC5",
                "#B0BEC5",
                "#B0BEC5",
                "#B0BEC5",
                "#B0BEC5",
                "#B0BEC5",
                "#B0BEC5",
                "#B0BEC5",
                "#B0BEC5",
                "#B0BEC5",
                "#B0BEC5",
                "#B0BEC5",
                "#B0BEC5",
                "#B0BEC5"
               ]
              ]
             }
            ],
            "label": "Topic 8",
            "method": "update"
           },
           {
            "args": [
             {
              "marker.color": [
               [
                "#B0BEC5",
                "#B0BEC5",
                "#B0BEC5",
                "#B0BEC5",
                "#B0BEC5",
                "#B0BEC5",
                "#B0BEC5",
                "#B0BEC5",
                "#B0BEC5",
                "red",
                "#B0BEC5",
                "#B0BEC5",
                "#B0BEC5",
                "#B0BEC5",
                "#B0BEC5",
                "#B0BEC5",
                "#B0BEC5",
                "#B0BEC5",
                "#B0BEC5",
                "#B0BEC5",
                "#B0BEC5",
                "#B0BEC5",
                "#B0BEC5",
                "#B0BEC5",
                "#B0BEC5",
                "#B0BEC5",
                "#B0BEC5",
                "#B0BEC5",
                "#B0BEC5",
                "#B0BEC5",
                "#B0BEC5",
                "#B0BEC5",
                "#B0BEC5",
                "#B0BEC5",
                "#B0BEC5",
                "#B0BEC5",
                "#B0BEC5",
                "#B0BEC5",
                "#B0BEC5",
                "#B0BEC5",
                "#B0BEC5",
                "#B0BEC5",
                "#B0BEC5",
                "#B0BEC5",
                "#B0BEC5",
                "#B0BEC5",
                "#B0BEC5",
                "#B0BEC5",
                "#B0BEC5",
                "#B0BEC5",
                "#B0BEC5",
                "#B0BEC5",
                "#B0BEC5",
                "#B0BEC5",
                "#B0BEC5",
                "#B0BEC5",
                "#B0BEC5",
                "#B0BEC5",
                "#B0BEC5",
                "#B0BEC5",
                "#B0BEC5",
                "#B0BEC5",
                "#B0BEC5",
                "#B0BEC5",
                "#B0BEC5",
                "#B0BEC5",
                "#B0BEC5",
                "#B0BEC5",
                "#B0BEC5",
                "#B0BEC5",
                "#B0BEC5",
                "#B0BEC5"
               ]
              ]
             }
            ],
            "label": "Topic 9",
            "method": "update"
           },
           {
            "args": [
             {
              "marker.color": [
               [
                "#B0BEC5",
                "#B0BEC5",
                "#B0BEC5",
                "#B0BEC5",
                "#B0BEC5",
                "#B0BEC5",
                "#B0BEC5",
                "#B0BEC5",
                "#B0BEC5",
                "#B0BEC5",
                "red",
                "#B0BEC5",
                "#B0BEC5",
                "#B0BEC5",
                "#B0BEC5",
                "#B0BEC5",
                "#B0BEC5",
                "#B0BEC5",
                "#B0BEC5",
                "#B0BEC5",
                "#B0BEC5",
                "#B0BEC5",
                "#B0BEC5",
                "#B0BEC5",
                "#B0BEC5",
                "#B0BEC5",
                "#B0BEC5",
                "#B0BEC5",
                "#B0BEC5",
                "#B0BEC5",
                "#B0BEC5",
                "#B0BEC5",
                "#B0BEC5",
                "#B0BEC5",
                "#B0BEC5",
                "#B0BEC5",
                "#B0BEC5",
                "#B0BEC5",
                "#B0BEC5",
                "#B0BEC5",
                "#B0BEC5",
                "#B0BEC5",
                "#B0BEC5",
                "#B0BEC5",
                "#B0BEC5",
                "#B0BEC5",
                "#B0BEC5",
                "#B0BEC5",
                "#B0BEC5",
                "#B0BEC5",
                "#B0BEC5",
                "#B0BEC5",
                "#B0BEC5",
                "#B0BEC5",
                "#B0BEC5",
                "#B0BEC5",
                "#B0BEC5",
                "#B0BEC5",
                "#B0BEC5",
                "#B0BEC5",
                "#B0BEC5",
                "#B0BEC5",
                "#B0BEC5",
                "#B0BEC5",
                "#B0BEC5",
                "#B0BEC5",
                "#B0BEC5",
                "#B0BEC5",
                "#B0BEC5",
                "#B0BEC5",
                "#B0BEC5",
                "#B0BEC5"
               ]
              ]
             }
            ],
            "label": "Topic 10",
            "method": "update"
           },
           {
            "args": [
             {
              "marker.color": [
               [
                "#B0BEC5",
                "#B0BEC5",
                "#B0BEC5",
                "#B0BEC5",
                "#B0BEC5",
                "#B0BEC5",
                "#B0BEC5",
                "#B0BEC5",
                "#B0BEC5",
                "#B0BEC5",
                "#B0BEC5",
                "red",
                "#B0BEC5",
                "#B0BEC5",
                "#B0BEC5",
                "#B0BEC5",
                "#B0BEC5",
                "#B0BEC5",
                "#B0BEC5",
                "#B0BEC5",
                "#B0BEC5",
                "#B0BEC5",
                "#B0BEC5",
                "#B0BEC5",
                "#B0BEC5",
                "#B0BEC5",
                "#B0BEC5",
                "#B0BEC5",
                "#B0BEC5",
                "#B0BEC5",
                "#B0BEC5",
                "#B0BEC5",
                "#B0BEC5",
                "#B0BEC5",
                "#B0BEC5",
                "#B0BEC5",
                "#B0BEC5",
                "#B0BEC5",
                "#B0BEC5",
                "#B0BEC5",
                "#B0BEC5",
                "#B0BEC5",
                "#B0BEC5",
                "#B0BEC5",
                "#B0BEC5",
                "#B0BEC5",
                "#B0BEC5",
                "#B0BEC5",
                "#B0BEC5",
                "#B0BEC5",
                "#B0BEC5",
                "#B0BEC5",
                "#B0BEC5",
                "#B0BEC5",
                "#B0BEC5",
                "#B0BEC5",
                "#B0BEC5",
                "#B0BEC5",
                "#B0BEC5",
                "#B0BEC5",
                "#B0BEC5",
                "#B0BEC5",
                "#B0BEC5",
                "#B0BEC5",
                "#B0BEC5",
                "#B0BEC5",
                "#B0BEC5",
                "#B0BEC5",
                "#B0BEC5",
                "#B0BEC5",
                "#B0BEC5",
                "#B0BEC5"
               ]
              ]
             }
            ],
            "label": "Topic 11",
            "method": "update"
           },
           {
            "args": [
             {
              "marker.color": [
               [
                "#B0BEC5",
                "#B0BEC5",
                "#B0BEC5",
                "#B0BEC5",
                "#B0BEC5",
                "#B0BEC5",
                "#B0BEC5",
                "#B0BEC5",
                "#B0BEC5",
                "#B0BEC5",
                "#B0BEC5",
                "#B0BEC5",
                "red",
                "#B0BEC5",
                "#B0BEC5",
                "#B0BEC5",
                "#B0BEC5",
                "#B0BEC5",
                "#B0BEC5",
                "#B0BEC5",
                "#B0BEC5",
                "#B0BEC5",
                "#B0BEC5",
                "#B0BEC5",
                "#B0BEC5",
                "#B0BEC5",
                "#B0BEC5",
                "#B0BEC5",
                "#B0BEC5",
                "#B0BEC5",
                "#B0BEC5",
                "#B0BEC5",
                "#B0BEC5",
                "#B0BEC5",
                "#B0BEC5",
                "#B0BEC5",
                "#B0BEC5",
                "#B0BEC5",
                "#B0BEC5",
                "#B0BEC5",
                "#B0BEC5",
                "#B0BEC5",
                "#B0BEC5",
                "#B0BEC5",
                "#B0BEC5",
                "#B0BEC5",
                "#B0BEC5",
                "#B0BEC5",
                "#B0BEC5",
                "#B0BEC5",
                "#B0BEC5",
                "#B0BEC5",
                "#B0BEC5",
                "#B0BEC5",
                "#B0BEC5",
                "#B0BEC5",
                "#B0BEC5",
                "#B0BEC5",
                "#B0BEC5",
                "#B0BEC5",
                "#B0BEC5",
                "#B0BEC5",
                "#B0BEC5",
                "#B0BEC5",
                "#B0BEC5",
                "#B0BEC5",
                "#B0BEC5",
                "#B0BEC5",
                "#B0BEC5",
                "#B0BEC5",
                "#B0BEC5",
                "#B0BEC5"
               ]
              ]
             }
            ],
            "label": "Topic 12",
            "method": "update"
           },
           {
            "args": [
             {
              "marker.color": [
               [
                "#B0BEC5",
                "#B0BEC5",
                "#B0BEC5",
                "#B0BEC5",
                "#B0BEC5",
                "#B0BEC5",
                "#B0BEC5",
                "#B0BEC5",
                "#B0BEC5",
                "#B0BEC5",
                "#B0BEC5",
                "#B0BEC5",
                "#B0BEC5",
                "red",
                "#B0BEC5",
                "#B0BEC5",
                "#B0BEC5",
                "#B0BEC5",
                "#B0BEC5",
                "#B0BEC5",
                "#B0BEC5",
                "#B0BEC5",
                "#B0BEC5",
                "#B0BEC5",
                "#B0BEC5",
                "#B0BEC5",
                "#B0BEC5",
                "#B0BEC5",
                "#B0BEC5",
                "#B0BEC5",
                "#B0BEC5",
                "#B0BEC5",
                "#B0BEC5",
                "#B0BEC5",
                "#B0BEC5",
                "#B0BEC5",
                "#B0BEC5",
                "#B0BEC5",
                "#B0BEC5",
                "#B0BEC5",
                "#B0BEC5",
                "#B0BEC5",
                "#B0BEC5",
                "#B0BEC5",
                "#B0BEC5",
                "#B0BEC5",
                "#B0BEC5",
                "#B0BEC5",
                "#B0BEC5",
                "#B0BEC5",
                "#B0BEC5",
                "#B0BEC5",
                "#B0BEC5",
                "#B0BEC5",
                "#B0BEC5",
                "#B0BEC5",
                "#B0BEC5",
                "#B0BEC5",
                "#B0BEC5",
                "#B0BEC5",
                "#B0BEC5",
                "#B0BEC5",
                "#B0BEC5",
                "#B0BEC5",
                "#B0BEC5",
                "#B0BEC5",
                "#B0BEC5",
                "#B0BEC5",
                "#B0BEC5",
                "#B0BEC5",
                "#B0BEC5",
                "#B0BEC5"
               ]
              ]
             }
            ],
            "label": "Topic 13",
            "method": "update"
           },
           {
            "args": [
             {
              "marker.color": [
               [
                "#B0BEC5",
                "#B0BEC5",
                "#B0BEC5",
                "#B0BEC5",
                "#B0BEC5",
                "#B0BEC5",
                "#B0BEC5",
                "#B0BEC5",
                "#B0BEC5",
                "#B0BEC5",
                "#B0BEC5",
                "#B0BEC5",
                "#B0BEC5",
                "#B0BEC5",
                "red",
                "#B0BEC5",
                "#B0BEC5",
                "#B0BEC5",
                "#B0BEC5",
                "#B0BEC5",
                "#B0BEC5",
                "#B0BEC5",
                "#B0BEC5",
                "#B0BEC5",
                "#B0BEC5",
                "#B0BEC5",
                "#B0BEC5",
                "#B0BEC5",
                "#B0BEC5",
                "#B0BEC5",
                "#B0BEC5",
                "#B0BEC5",
                "#B0BEC5",
                "#B0BEC5",
                "#B0BEC5",
                "#B0BEC5",
                "#B0BEC5",
                "#B0BEC5",
                "#B0BEC5",
                "#B0BEC5",
                "#B0BEC5",
                "#B0BEC5",
                "#B0BEC5",
                "#B0BEC5",
                "#B0BEC5",
                "#B0BEC5",
                "#B0BEC5",
                "#B0BEC5",
                "#B0BEC5",
                "#B0BEC5",
                "#B0BEC5",
                "#B0BEC5",
                "#B0BEC5",
                "#B0BEC5",
                "#B0BEC5",
                "#B0BEC5",
                "#B0BEC5",
                "#B0BEC5",
                "#B0BEC5",
                "#B0BEC5",
                "#B0BEC5",
                "#B0BEC5",
                "#B0BEC5",
                "#B0BEC5",
                "#B0BEC5",
                "#B0BEC5",
                "#B0BEC5",
                "#B0BEC5",
                "#B0BEC5",
                "#B0BEC5",
                "#B0BEC5",
                "#B0BEC5"
               ]
              ]
             }
            ],
            "label": "Topic 14",
            "method": "update"
           },
           {
            "args": [
             {
              "marker.color": [
               [
                "#B0BEC5",
                "#B0BEC5",
                "#B0BEC5",
                "#B0BEC5",
                "#B0BEC5",
                "#B0BEC5",
                "#B0BEC5",
                "#B0BEC5",
                "#B0BEC5",
                "#B0BEC5",
                "#B0BEC5",
                "#B0BEC5",
                "#B0BEC5",
                "#B0BEC5",
                "#B0BEC5",
                "red",
                "#B0BEC5",
                "#B0BEC5",
                "#B0BEC5",
                "#B0BEC5",
                "#B0BEC5",
                "#B0BEC5",
                "#B0BEC5",
                "#B0BEC5",
                "#B0BEC5",
                "#B0BEC5",
                "#B0BEC5",
                "#B0BEC5",
                "#B0BEC5",
                "#B0BEC5",
                "#B0BEC5",
                "#B0BEC5",
                "#B0BEC5",
                "#B0BEC5",
                "#B0BEC5",
                "#B0BEC5",
                "#B0BEC5",
                "#B0BEC5",
                "#B0BEC5",
                "#B0BEC5",
                "#B0BEC5",
                "#B0BEC5",
                "#B0BEC5",
                "#B0BEC5",
                "#B0BEC5",
                "#B0BEC5",
                "#B0BEC5",
                "#B0BEC5",
                "#B0BEC5",
                "#B0BEC5",
                "#B0BEC5",
                "#B0BEC5",
                "#B0BEC5",
                "#B0BEC5",
                "#B0BEC5",
                "#B0BEC5",
                "#B0BEC5",
                "#B0BEC5",
                "#B0BEC5",
                "#B0BEC5",
                "#B0BEC5",
                "#B0BEC5",
                "#B0BEC5",
                "#B0BEC5",
                "#B0BEC5",
                "#B0BEC5",
                "#B0BEC5",
                "#B0BEC5",
                "#B0BEC5",
                "#B0BEC5",
                "#B0BEC5",
                "#B0BEC5"
               ]
              ]
             }
            ],
            "label": "Topic 15",
            "method": "update"
           },
           {
            "args": [
             {
              "marker.color": [
               [
                "#B0BEC5",
                "#B0BEC5",
                "#B0BEC5",
                "#B0BEC5",
                "#B0BEC5",
                "#B0BEC5",
                "#B0BEC5",
                "#B0BEC5",
                "#B0BEC5",
                "#B0BEC5",
                "#B0BEC5",
                "#B0BEC5",
                "#B0BEC5",
                "#B0BEC5",
                "#B0BEC5",
                "#B0BEC5",
                "red",
                "#B0BEC5",
                "#B0BEC5",
                "#B0BEC5",
                "#B0BEC5",
                "#B0BEC5",
                "#B0BEC5",
                "#B0BEC5",
                "#B0BEC5",
                "#B0BEC5",
                "#B0BEC5",
                "#B0BEC5",
                "#B0BEC5",
                "#B0BEC5",
                "#B0BEC5",
                "#B0BEC5",
                "#B0BEC5",
                "#B0BEC5",
                "#B0BEC5",
                "#B0BEC5",
                "#B0BEC5",
                "#B0BEC5",
                "#B0BEC5",
                "#B0BEC5",
                "#B0BEC5",
                "#B0BEC5",
                "#B0BEC5",
                "#B0BEC5",
                "#B0BEC5",
                "#B0BEC5",
                "#B0BEC5",
                "#B0BEC5",
                "#B0BEC5",
                "#B0BEC5",
                "#B0BEC5",
                "#B0BEC5",
                "#B0BEC5",
                "#B0BEC5",
                "#B0BEC5",
                "#B0BEC5",
                "#B0BEC5",
                "#B0BEC5",
                "#B0BEC5",
                "#B0BEC5",
                "#B0BEC5",
                "#B0BEC5",
                "#B0BEC5",
                "#B0BEC5",
                "#B0BEC5",
                "#B0BEC5",
                "#B0BEC5",
                "#B0BEC5",
                "#B0BEC5",
                "#B0BEC5",
                "#B0BEC5",
                "#B0BEC5"
               ]
              ]
             }
            ],
            "label": "Topic 16",
            "method": "update"
           },
           {
            "args": [
             {
              "marker.color": [
               [
                "#B0BEC5",
                "#B0BEC5",
                "#B0BEC5",
                "#B0BEC5",
                "#B0BEC5",
                "#B0BEC5",
                "#B0BEC5",
                "#B0BEC5",
                "#B0BEC5",
                "#B0BEC5",
                "#B0BEC5",
                "#B0BEC5",
                "#B0BEC5",
                "#B0BEC5",
                "#B0BEC5",
                "#B0BEC5",
                "#B0BEC5",
                "red",
                "#B0BEC5",
                "#B0BEC5",
                "#B0BEC5",
                "#B0BEC5",
                "#B0BEC5",
                "#B0BEC5",
                "#B0BEC5",
                "#B0BEC5",
                "#B0BEC5",
                "#B0BEC5",
                "#B0BEC5",
                "#B0BEC5",
                "#B0BEC5",
                "#B0BEC5",
                "#B0BEC5",
                "#B0BEC5",
                "#B0BEC5",
                "#B0BEC5",
                "#B0BEC5",
                "#B0BEC5",
                "#B0BEC5",
                "#B0BEC5",
                "#B0BEC5",
                "#B0BEC5",
                "#B0BEC5",
                "#B0BEC5",
                "#B0BEC5",
                "#B0BEC5",
                "#B0BEC5",
                "#B0BEC5",
                "#B0BEC5",
                "#B0BEC5",
                "#B0BEC5",
                "#B0BEC5",
                "#B0BEC5",
                "#B0BEC5",
                "#B0BEC5",
                "#B0BEC5",
                "#B0BEC5",
                "#B0BEC5",
                "#B0BEC5",
                "#B0BEC5",
                "#B0BEC5",
                "#B0BEC5",
                "#B0BEC5",
                "#B0BEC5",
                "#B0BEC5",
                "#B0BEC5",
                "#B0BEC5",
                "#B0BEC5",
                "#B0BEC5",
                "#B0BEC5",
                "#B0BEC5",
                "#B0BEC5"
               ]
              ]
             }
            ],
            "label": "Topic 17",
            "method": "update"
           },
           {
            "args": [
             {
              "marker.color": [
               [
                "#B0BEC5",
                "#B0BEC5",
                "#B0BEC5",
                "#B0BEC5",
                "#B0BEC5",
                "#B0BEC5",
                "#B0BEC5",
                "#B0BEC5",
                "#B0BEC5",
                "#B0BEC5",
                "#B0BEC5",
                "#B0BEC5",
                "#B0BEC5",
                "#B0BEC5",
                "#B0BEC5",
                "#B0BEC5",
                "#B0BEC5",
                "#B0BEC5",
                "red",
                "#B0BEC5",
                "#B0BEC5",
                "#B0BEC5",
                "#B0BEC5",
                "#B0BEC5",
                "#B0BEC5",
                "#B0BEC5",
                "#B0BEC5",
                "#B0BEC5",
                "#B0BEC5",
                "#B0BEC5",
                "#B0BEC5",
                "#B0BEC5",
                "#B0BEC5",
                "#B0BEC5",
                "#B0BEC5",
                "#B0BEC5",
                "#B0BEC5",
                "#B0BEC5",
                "#B0BEC5",
                "#B0BEC5",
                "#B0BEC5",
                "#B0BEC5",
                "#B0BEC5",
                "#B0BEC5",
                "#B0BEC5",
                "#B0BEC5",
                "#B0BEC5",
                "#B0BEC5",
                "#B0BEC5",
                "#B0BEC5",
                "#B0BEC5",
                "#B0BEC5",
                "#B0BEC5",
                "#B0BEC5",
                "#B0BEC5",
                "#B0BEC5",
                "#B0BEC5",
                "#B0BEC5",
                "#B0BEC5",
                "#B0BEC5",
                "#B0BEC5",
                "#B0BEC5",
                "#B0BEC5",
                "#B0BEC5",
                "#B0BEC5",
                "#B0BEC5",
                "#B0BEC5",
                "#B0BEC5",
                "#B0BEC5",
                "#B0BEC5",
                "#B0BEC5",
                "#B0BEC5"
               ]
              ]
             }
            ],
            "label": "Topic 18",
            "method": "update"
           },
           {
            "args": [
             {
              "marker.color": [
               [
                "#B0BEC5",
                "#B0BEC5",
                "#B0BEC5",
                "#B0BEC5",
                "#B0BEC5",
                "#B0BEC5",
                "#B0BEC5",
                "#B0BEC5",
                "#B0BEC5",
                "#B0BEC5",
                "#B0BEC5",
                "#B0BEC5",
                "#B0BEC5",
                "#B0BEC5",
                "#B0BEC5",
                "#B0BEC5",
                "#B0BEC5",
                "#B0BEC5",
                "#B0BEC5",
                "red",
                "#B0BEC5",
                "#B0BEC5",
                "#B0BEC5",
                "#B0BEC5",
                "#B0BEC5",
                "#B0BEC5",
                "#B0BEC5",
                "#B0BEC5",
                "#B0BEC5",
                "#B0BEC5",
                "#B0BEC5",
                "#B0BEC5",
                "#B0BEC5",
                "#B0BEC5",
                "#B0BEC5",
                "#B0BEC5",
                "#B0BEC5",
                "#B0BEC5",
                "#B0BEC5",
                "#B0BEC5",
                "#B0BEC5",
                "#B0BEC5",
                "#B0BEC5",
                "#B0BEC5",
                "#B0BEC5",
                "#B0BEC5",
                "#B0BEC5",
                "#B0BEC5",
                "#B0BEC5",
                "#B0BEC5",
                "#B0BEC5",
                "#B0BEC5",
                "#B0BEC5",
                "#B0BEC5",
                "#B0BEC5",
                "#B0BEC5",
                "#B0BEC5",
                "#B0BEC5",
                "#B0BEC5",
                "#B0BEC5",
                "#B0BEC5",
                "#B0BEC5",
                "#B0BEC5",
                "#B0BEC5",
                "#B0BEC5",
                "#B0BEC5",
                "#B0BEC5",
                "#B0BEC5",
                "#B0BEC5",
                "#B0BEC5",
                "#B0BEC5",
                "#B0BEC5"
               ]
              ]
             }
            ],
            "label": "Topic 19",
            "method": "update"
           },
           {
            "args": [
             {
              "marker.color": [
               [
                "#B0BEC5",
                "#B0BEC5",
                "#B0BEC5",
                "#B0BEC5",
                "#B0BEC5",
                "#B0BEC5",
                "#B0BEC5",
                "#B0BEC5",
                "#B0BEC5",
                "#B0BEC5",
                "#B0BEC5",
                "#B0BEC5",
                "#B0BEC5",
                "#B0BEC5",
                "#B0BEC5",
                "#B0BEC5",
                "#B0BEC5",
                "#B0BEC5",
                "#B0BEC5",
                "#B0BEC5",
                "red",
                "#B0BEC5",
                "#B0BEC5",
                "#B0BEC5",
                "#B0BEC5",
                "#B0BEC5",
                "#B0BEC5",
                "#B0BEC5",
                "#B0BEC5",
                "#B0BEC5",
                "#B0BEC5",
                "#B0BEC5",
                "#B0BEC5",
                "#B0BEC5",
                "#B0BEC5",
                "#B0BEC5",
                "#B0BEC5",
                "#B0BEC5",
                "#B0BEC5",
                "#B0BEC5",
                "#B0BEC5",
                "#B0BEC5",
                "#B0BEC5",
                "#B0BEC5",
                "#B0BEC5",
                "#B0BEC5",
                "#B0BEC5",
                "#B0BEC5",
                "#B0BEC5",
                "#B0BEC5",
                "#B0BEC5",
                "#B0BEC5",
                "#B0BEC5",
                "#B0BEC5",
                "#B0BEC5",
                "#B0BEC5",
                "#B0BEC5",
                "#B0BEC5",
                "#B0BEC5",
                "#B0BEC5",
                "#B0BEC5",
                "#B0BEC5",
                "#B0BEC5",
                "#B0BEC5",
                "#B0BEC5",
                "#B0BEC5",
                "#B0BEC5",
                "#B0BEC5",
                "#B0BEC5",
                "#B0BEC5",
                "#B0BEC5",
                "#B0BEC5"
               ]
              ]
             }
            ],
            "label": "Topic 20",
            "method": "update"
           },
           {
            "args": [
             {
              "marker.color": [
               [
                "#B0BEC5",
                "#B0BEC5",
                "#B0BEC5",
                "#B0BEC5",
                "#B0BEC5",
                "#B0BEC5",
                "#B0BEC5",
                "#B0BEC5",
                "#B0BEC5",
                "#B0BEC5",
                "#B0BEC5",
                "#B0BEC5",
                "#B0BEC5",
                "#B0BEC5",
                "#B0BEC5",
                "#B0BEC5",
                "#B0BEC5",
                "#B0BEC5",
                "#B0BEC5",
                "#B0BEC5",
                "#B0BEC5",
                "red",
                "#B0BEC5",
                "#B0BEC5",
                "#B0BEC5",
                "#B0BEC5",
                "#B0BEC5",
                "#B0BEC5",
                "#B0BEC5",
                "#B0BEC5",
                "#B0BEC5",
                "#B0BEC5",
                "#B0BEC5",
                "#B0BEC5",
                "#B0BEC5",
                "#B0BEC5",
                "#B0BEC5",
                "#B0BEC5",
                "#B0BEC5",
                "#B0BEC5",
                "#B0BEC5",
                "#B0BEC5",
                "#B0BEC5",
                "#B0BEC5",
                "#B0BEC5",
                "#B0BEC5",
                "#B0BEC5",
                "#B0BEC5",
                "#B0BEC5",
                "#B0BEC5",
                "#B0BEC5",
                "#B0BEC5",
                "#B0BEC5",
                "#B0BEC5",
                "#B0BEC5",
                "#B0BEC5",
                "#B0BEC5",
                "#B0BEC5",
                "#B0BEC5",
                "#B0BEC5",
                "#B0BEC5",
                "#B0BEC5",
                "#B0BEC5",
                "#B0BEC5",
                "#B0BEC5",
                "#B0BEC5",
                "#B0BEC5",
                "#B0BEC5",
                "#B0BEC5",
                "#B0BEC5",
                "#B0BEC5",
                "#B0BEC5"
               ]
              ]
             }
            ],
            "label": "Topic 21",
            "method": "update"
           },
           {
            "args": [
             {
              "marker.color": [
               [
                "#B0BEC5",
                "#B0BEC5",
                "#B0BEC5",
                "#B0BEC5",
                "#B0BEC5",
                "#B0BEC5",
                "#B0BEC5",
                "#B0BEC5",
                "#B0BEC5",
                "#B0BEC5",
                "#B0BEC5",
                "#B0BEC5",
                "#B0BEC5",
                "#B0BEC5",
                "#B0BEC5",
                "#B0BEC5",
                "#B0BEC5",
                "#B0BEC5",
                "#B0BEC5",
                "#B0BEC5",
                "#B0BEC5",
                "#B0BEC5",
                "red",
                "#B0BEC5",
                "#B0BEC5",
                "#B0BEC5",
                "#B0BEC5",
                "#B0BEC5",
                "#B0BEC5",
                "#B0BEC5",
                "#B0BEC5",
                "#B0BEC5",
                "#B0BEC5",
                "#B0BEC5",
                "#B0BEC5",
                "#B0BEC5",
                "#B0BEC5",
                "#B0BEC5",
                "#B0BEC5",
                "#B0BEC5",
                "#B0BEC5",
                "#B0BEC5",
                "#B0BEC5",
                "#B0BEC5",
                "#B0BEC5",
                "#B0BEC5",
                "#B0BEC5",
                "#B0BEC5",
                "#B0BEC5",
                "#B0BEC5",
                "#B0BEC5",
                "#B0BEC5",
                "#B0BEC5",
                "#B0BEC5",
                "#B0BEC5",
                "#B0BEC5",
                "#B0BEC5",
                "#B0BEC5",
                "#B0BEC5",
                "#B0BEC5",
                "#B0BEC5",
                "#B0BEC5",
                "#B0BEC5",
                "#B0BEC5",
                "#B0BEC5",
                "#B0BEC5",
                "#B0BEC5",
                "#B0BEC5",
                "#B0BEC5",
                "#B0BEC5",
                "#B0BEC5",
                "#B0BEC5"
               ]
              ]
             }
            ],
            "label": "Topic 22",
            "method": "update"
           },
           {
            "args": [
             {
              "marker.color": [
               [
                "#B0BEC5",
                "#B0BEC5",
                "#B0BEC5",
                "#B0BEC5",
                "#B0BEC5",
                "#B0BEC5",
                "#B0BEC5",
                "#B0BEC5",
                "#B0BEC5",
                "#B0BEC5",
                "#B0BEC5",
                "#B0BEC5",
                "#B0BEC5",
                "#B0BEC5",
                "#B0BEC5",
                "#B0BEC5",
                "#B0BEC5",
                "#B0BEC5",
                "#B0BEC5",
                "#B0BEC5",
                "#B0BEC5",
                "#B0BEC5",
                "#B0BEC5",
                "red",
                "#B0BEC5",
                "#B0BEC5",
                "#B0BEC5",
                "#B0BEC5",
                "#B0BEC5",
                "#B0BEC5",
                "#B0BEC5",
                "#B0BEC5",
                "#B0BEC5",
                "#B0BEC5",
                "#B0BEC5",
                "#B0BEC5",
                "#B0BEC5",
                "#B0BEC5",
                "#B0BEC5",
                "#B0BEC5",
                "#B0BEC5",
                "#B0BEC5",
                "#B0BEC5",
                "#B0BEC5",
                "#B0BEC5",
                "#B0BEC5",
                "#B0BEC5",
                "#B0BEC5",
                "#B0BEC5",
                "#B0BEC5",
                "#B0BEC5",
                "#B0BEC5",
                "#B0BEC5",
                "#B0BEC5",
                "#B0BEC5",
                "#B0BEC5",
                "#B0BEC5",
                "#B0BEC5",
                "#B0BEC5",
                "#B0BEC5",
                "#B0BEC5",
                "#B0BEC5",
                "#B0BEC5",
                "#B0BEC5",
                "#B0BEC5",
                "#B0BEC5",
                "#B0BEC5",
                "#B0BEC5",
                "#B0BEC5",
                "#B0BEC5",
                "#B0BEC5",
                "#B0BEC5"
               ]
              ]
             }
            ],
            "label": "Topic 23",
            "method": "update"
           },
           {
            "args": [
             {
              "marker.color": [
               [
                "#B0BEC5",
                "#B0BEC5",
                "#B0BEC5",
                "#B0BEC5",
                "#B0BEC5",
                "#B0BEC5",
                "#B0BEC5",
                "#B0BEC5",
                "#B0BEC5",
                "#B0BEC5",
                "#B0BEC5",
                "#B0BEC5",
                "#B0BEC5",
                "#B0BEC5",
                "#B0BEC5",
                "#B0BEC5",
                "#B0BEC5",
                "#B0BEC5",
                "#B0BEC5",
                "#B0BEC5",
                "#B0BEC5",
                "#B0BEC5",
                "#B0BEC5",
                "#B0BEC5",
                "red",
                "#B0BEC5",
                "#B0BEC5",
                "#B0BEC5",
                "#B0BEC5",
                "#B0BEC5",
                "#B0BEC5",
                "#B0BEC5",
                "#B0BEC5",
                "#B0BEC5",
                "#B0BEC5",
                "#B0BEC5",
                "#B0BEC5",
                "#B0BEC5",
                "#B0BEC5",
                "#B0BEC5",
                "#B0BEC5",
                "#B0BEC5",
                "#B0BEC5",
                "#B0BEC5",
                "#B0BEC5",
                "#B0BEC5",
                "#B0BEC5",
                "#B0BEC5",
                "#B0BEC5",
                "#B0BEC5",
                "#B0BEC5",
                "#B0BEC5",
                "#B0BEC5",
                "#B0BEC5",
                "#B0BEC5",
                "#B0BEC5",
                "#B0BEC5",
                "#B0BEC5",
                "#B0BEC5",
                "#B0BEC5",
                "#B0BEC5",
                "#B0BEC5",
                "#B0BEC5",
                "#B0BEC5",
                "#B0BEC5",
                "#B0BEC5",
                "#B0BEC5",
                "#B0BEC5",
                "#B0BEC5",
                "#B0BEC5",
                "#B0BEC5",
                "#B0BEC5"
               ]
              ]
             }
            ],
            "label": "Topic 24",
            "method": "update"
           },
           {
            "args": [
             {
              "marker.color": [
               [
                "#B0BEC5",
                "#B0BEC5",
                "#B0BEC5",
                "#B0BEC5",
                "#B0BEC5",
                "#B0BEC5",
                "#B0BEC5",
                "#B0BEC5",
                "#B0BEC5",
                "#B0BEC5",
                "#B0BEC5",
                "#B0BEC5",
                "#B0BEC5",
                "#B0BEC5",
                "#B0BEC5",
                "#B0BEC5",
                "#B0BEC5",
                "#B0BEC5",
                "#B0BEC5",
                "#B0BEC5",
                "#B0BEC5",
                "#B0BEC5",
                "#B0BEC5",
                "#B0BEC5",
                "#B0BEC5",
                "red",
                "#B0BEC5",
                "#B0BEC5",
                "#B0BEC5",
                "#B0BEC5",
                "#B0BEC5",
                "#B0BEC5",
                "#B0BEC5",
                "#B0BEC5",
                "#B0BEC5",
                "#B0BEC5",
                "#B0BEC5",
                "#B0BEC5",
                "#B0BEC5",
                "#B0BEC5",
                "#B0BEC5",
                "#B0BEC5",
                "#B0BEC5",
                "#B0BEC5",
                "#B0BEC5",
                "#B0BEC5",
                "#B0BEC5",
                "#B0BEC5",
                "#B0BEC5",
                "#B0BEC5",
                "#B0BEC5",
                "#B0BEC5",
                "#B0BEC5",
                "#B0BEC5",
                "#B0BEC5",
                "#B0BEC5",
                "#B0BEC5",
                "#B0BEC5",
                "#B0BEC5",
                "#B0BEC5",
                "#B0BEC5",
                "#B0BEC5",
                "#B0BEC5",
                "#B0BEC5",
                "#B0BEC5",
                "#B0BEC5",
                "#B0BEC5",
                "#B0BEC5",
                "#B0BEC5",
                "#B0BEC5",
                "#B0BEC5",
                "#B0BEC5"
               ]
              ]
             }
            ],
            "label": "Topic 25",
            "method": "update"
           },
           {
            "args": [
             {
              "marker.color": [
               [
                "#B0BEC5",
                "#B0BEC5",
                "#B0BEC5",
                "#B0BEC5",
                "#B0BEC5",
                "#B0BEC5",
                "#B0BEC5",
                "#B0BEC5",
                "#B0BEC5",
                "#B0BEC5",
                "#B0BEC5",
                "#B0BEC5",
                "#B0BEC5",
                "#B0BEC5",
                "#B0BEC5",
                "#B0BEC5",
                "#B0BEC5",
                "#B0BEC5",
                "#B0BEC5",
                "#B0BEC5",
                "#B0BEC5",
                "#B0BEC5",
                "#B0BEC5",
                "#B0BEC5",
                "#B0BEC5",
                "#B0BEC5",
                "red",
                "#B0BEC5",
                "#B0BEC5",
                "#B0BEC5",
                "#B0BEC5",
                "#B0BEC5",
                "#B0BEC5",
                "#B0BEC5",
                "#B0BEC5",
                "#B0BEC5",
                "#B0BEC5",
                "#B0BEC5",
                "#B0BEC5",
                "#B0BEC5",
                "#B0BEC5",
                "#B0BEC5",
                "#B0BEC5",
                "#B0BEC5",
                "#B0BEC5",
                "#B0BEC5",
                "#B0BEC5",
                "#B0BEC5",
                "#B0BEC5",
                "#B0BEC5",
                "#B0BEC5",
                "#B0BEC5",
                "#B0BEC5",
                "#B0BEC5",
                "#B0BEC5",
                "#B0BEC5",
                "#B0BEC5",
                "#B0BEC5",
                "#B0BEC5",
                "#B0BEC5",
                "#B0BEC5",
                "#B0BEC5",
                "#B0BEC5",
                "#B0BEC5",
                "#B0BEC5",
                "#B0BEC5",
                "#B0BEC5",
                "#B0BEC5",
                "#B0BEC5",
                "#B0BEC5",
                "#B0BEC5",
                "#B0BEC5"
               ]
              ]
             }
            ],
            "label": "Topic 26",
            "method": "update"
           },
           {
            "args": [
             {
              "marker.color": [
               [
                "#B0BEC5",
                "#B0BEC5",
                "#B0BEC5",
                "#B0BEC5",
                "#B0BEC5",
                "#B0BEC5",
                "#B0BEC5",
                "#B0BEC5",
                "#B0BEC5",
                "#B0BEC5",
                "#B0BEC5",
                "#B0BEC5",
                "#B0BEC5",
                "#B0BEC5",
                "#B0BEC5",
                "#B0BEC5",
                "#B0BEC5",
                "#B0BEC5",
                "#B0BEC5",
                "#B0BEC5",
                "#B0BEC5",
                "#B0BEC5",
                "#B0BEC5",
                "#B0BEC5",
                "#B0BEC5",
                "#B0BEC5",
                "#B0BEC5",
                "red",
                "#B0BEC5",
                "#B0BEC5",
                "#B0BEC5",
                "#B0BEC5",
                "#B0BEC5",
                "#B0BEC5",
                "#B0BEC5",
                "#B0BEC5",
                "#B0BEC5",
                "#B0BEC5",
                "#B0BEC5",
                "#B0BEC5",
                "#B0BEC5",
                "#B0BEC5",
                "#B0BEC5",
                "#B0BEC5",
                "#B0BEC5",
                "#B0BEC5",
                "#B0BEC5",
                "#B0BEC5",
                "#B0BEC5",
                "#B0BEC5",
                "#B0BEC5",
                "#B0BEC5",
                "#B0BEC5",
                "#B0BEC5",
                "#B0BEC5",
                "#B0BEC5",
                "#B0BEC5",
                "#B0BEC5",
                "#B0BEC5",
                "#B0BEC5",
                "#B0BEC5",
                "#B0BEC5",
                "#B0BEC5",
                "#B0BEC5",
                "#B0BEC5",
                "#B0BEC5",
                "#B0BEC5",
                "#B0BEC5",
                "#B0BEC5",
                "#B0BEC5",
                "#B0BEC5",
                "#B0BEC5"
               ]
              ]
             }
            ],
            "label": "Topic 27",
            "method": "update"
           },
           {
            "args": [
             {
              "marker.color": [
               [
                "#B0BEC5",
                "#B0BEC5",
                "#B0BEC5",
                "#B0BEC5",
                "#B0BEC5",
                "#B0BEC5",
                "#B0BEC5",
                "#B0BEC5",
                "#B0BEC5",
                "#B0BEC5",
                "#B0BEC5",
                "#B0BEC5",
                "#B0BEC5",
                "#B0BEC5",
                "#B0BEC5",
                "#B0BEC5",
                "#B0BEC5",
                "#B0BEC5",
                "#B0BEC5",
                "#B0BEC5",
                "#B0BEC5",
                "#B0BEC5",
                "#B0BEC5",
                "#B0BEC5",
                "#B0BEC5",
                "#B0BEC5",
                "#B0BEC5",
                "#B0BEC5",
                "red",
                "#B0BEC5",
                "#B0BEC5",
                "#B0BEC5",
                "#B0BEC5",
                "#B0BEC5",
                "#B0BEC5",
                "#B0BEC5",
                "#B0BEC5",
                "#B0BEC5",
                "#B0BEC5",
                "#B0BEC5",
                "#B0BEC5",
                "#B0BEC5",
                "#B0BEC5",
                "#B0BEC5",
                "#B0BEC5",
                "#B0BEC5",
                "#B0BEC5",
                "#B0BEC5",
                "#B0BEC5",
                "#B0BEC5",
                "#B0BEC5",
                "#B0BEC5",
                "#B0BEC5",
                "#B0BEC5",
                "#B0BEC5",
                "#B0BEC5",
                "#B0BEC5",
                "#B0BEC5",
                "#B0BEC5",
                "#B0BEC5",
                "#B0BEC5",
                "#B0BEC5",
                "#B0BEC5",
                "#B0BEC5",
                "#B0BEC5",
                "#B0BEC5",
                "#B0BEC5",
                "#B0BEC5",
                "#B0BEC5",
                "#B0BEC5",
                "#B0BEC5",
                "#B0BEC5"
               ]
              ]
             }
            ],
            "label": "Topic 28",
            "method": "update"
           },
           {
            "args": [
             {
              "marker.color": [
               [
                "#B0BEC5",
                "#B0BEC5",
                "#B0BEC5",
                "#B0BEC5",
                "#B0BEC5",
                "#B0BEC5",
                "#B0BEC5",
                "#B0BEC5",
                "#B0BEC5",
                "#B0BEC5",
                "#B0BEC5",
                "#B0BEC5",
                "#B0BEC5",
                "#B0BEC5",
                "#B0BEC5",
                "#B0BEC5",
                "#B0BEC5",
                "#B0BEC5",
                "#B0BEC5",
                "#B0BEC5",
                "#B0BEC5",
                "#B0BEC5",
                "#B0BEC5",
                "#B0BEC5",
                "#B0BEC5",
                "#B0BEC5",
                "#B0BEC5",
                "#B0BEC5",
                "#B0BEC5",
                "red",
                "#B0BEC5",
                "#B0BEC5",
                "#B0BEC5",
                "#B0BEC5",
                "#B0BEC5",
                "#B0BEC5",
                "#B0BEC5",
                "#B0BEC5",
                "#B0BEC5",
                "#B0BEC5",
                "#B0BEC5",
                "#B0BEC5",
                "#B0BEC5",
                "#B0BEC5",
                "#B0BEC5",
                "#B0BEC5",
                "#B0BEC5",
                "#B0BEC5",
                "#B0BEC5",
                "#B0BEC5",
                "#B0BEC5",
                "#B0BEC5",
                "#B0BEC5",
                "#B0BEC5",
                "#B0BEC5",
                "#B0BEC5",
                "#B0BEC5",
                "#B0BEC5",
                "#B0BEC5",
                "#B0BEC5",
                "#B0BEC5",
                "#B0BEC5",
                "#B0BEC5",
                "#B0BEC5",
                "#B0BEC5",
                "#B0BEC5",
                "#B0BEC5",
                "#B0BEC5",
                "#B0BEC5",
                "#B0BEC5",
                "#B0BEC5",
                "#B0BEC5"
               ]
              ]
             }
            ],
            "label": "Topic 29",
            "method": "update"
           },
           {
            "args": [
             {
              "marker.color": [
               [
                "#B0BEC5",
                "#B0BEC5",
                "#B0BEC5",
                "#B0BEC5",
                "#B0BEC5",
                "#B0BEC5",
                "#B0BEC5",
                "#B0BEC5",
                "#B0BEC5",
                "#B0BEC5",
                "#B0BEC5",
                "#B0BEC5",
                "#B0BEC5",
                "#B0BEC5",
                "#B0BEC5",
                "#B0BEC5",
                "#B0BEC5",
                "#B0BEC5",
                "#B0BEC5",
                "#B0BEC5",
                "#B0BEC5",
                "#B0BEC5",
                "#B0BEC5",
                "#B0BEC5",
                "#B0BEC5",
                "#B0BEC5",
                "#B0BEC5",
                "#B0BEC5",
                "#B0BEC5",
                "#B0BEC5",
                "red",
                "#B0BEC5",
                "#B0BEC5",
                "#B0BEC5",
                "#B0BEC5",
                "#B0BEC5",
                "#B0BEC5",
                "#B0BEC5",
                "#B0BEC5",
                "#B0BEC5",
                "#B0BEC5",
                "#B0BEC5",
                "#B0BEC5",
                "#B0BEC5",
                "#B0BEC5",
                "#B0BEC5",
                "#B0BEC5",
                "#B0BEC5",
                "#B0BEC5",
                "#B0BEC5",
                "#B0BEC5",
                "#B0BEC5",
                "#B0BEC5",
                "#B0BEC5",
                "#B0BEC5",
                "#B0BEC5",
                "#B0BEC5",
                "#B0BEC5",
                "#B0BEC5",
                "#B0BEC5",
                "#B0BEC5",
                "#B0BEC5",
                "#B0BEC5",
                "#B0BEC5",
                "#B0BEC5",
                "#B0BEC5",
                "#B0BEC5",
                "#B0BEC5",
                "#B0BEC5",
                "#B0BEC5",
                "#B0BEC5",
                "#B0BEC5"
               ]
              ]
             }
            ],
            "label": "Topic 30",
            "method": "update"
           },
           {
            "args": [
             {
              "marker.color": [
               [
                "#B0BEC5",
                "#B0BEC5",
                "#B0BEC5",
                "#B0BEC5",
                "#B0BEC5",
                "#B0BEC5",
                "#B0BEC5",
                "#B0BEC5",
                "#B0BEC5",
                "#B0BEC5",
                "#B0BEC5",
                "#B0BEC5",
                "#B0BEC5",
                "#B0BEC5",
                "#B0BEC5",
                "#B0BEC5",
                "#B0BEC5",
                "#B0BEC5",
                "#B0BEC5",
                "#B0BEC5",
                "#B0BEC5",
                "#B0BEC5",
                "#B0BEC5",
                "#B0BEC5",
                "#B0BEC5",
                "#B0BEC5",
                "#B0BEC5",
                "#B0BEC5",
                "#B0BEC5",
                "#B0BEC5",
                "#B0BEC5",
                "red",
                "#B0BEC5",
                "#B0BEC5",
                "#B0BEC5",
                "#B0BEC5",
                "#B0BEC5",
                "#B0BEC5",
                "#B0BEC5",
                "#B0BEC5",
                "#B0BEC5",
                "#B0BEC5",
                "#B0BEC5",
                "#B0BEC5",
                "#B0BEC5",
                "#B0BEC5",
                "#B0BEC5",
                "#B0BEC5",
                "#B0BEC5",
                "#B0BEC5",
                "#B0BEC5",
                "#B0BEC5",
                "#B0BEC5",
                "#B0BEC5",
                "#B0BEC5",
                "#B0BEC5",
                "#B0BEC5",
                "#B0BEC5",
                "#B0BEC5",
                "#B0BEC5",
                "#B0BEC5",
                "#B0BEC5",
                "#B0BEC5",
                "#B0BEC5",
                "#B0BEC5",
                "#B0BEC5",
                "#B0BEC5",
                "#B0BEC5",
                "#B0BEC5",
                "#B0BEC5",
                "#B0BEC5",
                "#B0BEC5"
               ]
              ]
             }
            ],
            "label": "Topic 31",
            "method": "update"
           },
           {
            "args": [
             {
              "marker.color": [
               [
                "#B0BEC5",
                "#B0BEC5",
                "#B0BEC5",
                "#B0BEC5",
                "#B0BEC5",
                "#B0BEC5",
                "#B0BEC5",
                "#B0BEC5",
                "#B0BEC5",
                "#B0BEC5",
                "#B0BEC5",
                "#B0BEC5",
                "#B0BEC5",
                "#B0BEC5",
                "#B0BEC5",
                "#B0BEC5",
                "#B0BEC5",
                "#B0BEC5",
                "#B0BEC5",
                "#B0BEC5",
                "#B0BEC5",
                "#B0BEC5",
                "#B0BEC5",
                "#B0BEC5",
                "#B0BEC5",
                "#B0BEC5",
                "#B0BEC5",
                "#B0BEC5",
                "#B0BEC5",
                "#B0BEC5",
                "#B0BEC5",
                "#B0BEC5",
                "red",
                "#B0BEC5",
                "#B0BEC5",
                "#B0BEC5",
                "#B0BEC5",
                "#B0BEC5",
                "#B0BEC5",
                "#B0BEC5",
                "#B0BEC5",
                "#B0BEC5",
                "#B0BEC5",
                "#B0BEC5",
                "#B0BEC5",
                "#B0BEC5",
                "#B0BEC5",
                "#B0BEC5",
                "#B0BEC5",
                "#B0BEC5",
                "#B0BEC5",
                "#B0BEC5",
                "#B0BEC5",
                "#B0BEC5",
                "#B0BEC5",
                "#B0BEC5",
                "#B0BEC5",
                "#B0BEC5",
                "#B0BEC5",
                "#B0BEC5",
                "#B0BEC5",
                "#B0BEC5",
                "#B0BEC5",
                "#B0BEC5",
                "#B0BEC5",
                "#B0BEC5",
                "#B0BEC5",
                "#B0BEC5",
                "#B0BEC5",
                "#B0BEC5",
                "#B0BEC5",
                "#B0BEC5"
               ]
              ]
             }
            ],
            "label": "Topic 32",
            "method": "update"
           },
           {
            "args": [
             {
              "marker.color": [
               [
                "#B0BEC5",
                "#B0BEC5",
                "#B0BEC5",
                "#B0BEC5",
                "#B0BEC5",
                "#B0BEC5",
                "#B0BEC5",
                "#B0BEC5",
                "#B0BEC5",
                "#B0BEC5",
                "#B0BEC5",
                "#B0BEC5",
                "#B0BEC5",
                "#B0BEC5",
                "#B0BEC5",
                "#B0BEC5",
                "#B0BEC5",
                "#B0BEC5",
                "#B0BEC5",
                "#B0BEC5",
                "#B0BEC5",
                "#B0BEC5",
                "#B0BEC5",
                "#B0BEC5",
                "#B0BEC5",
                "#B0BEC5",
                "#B0BEC5",
                "#B0BEC5",
                "#B0BEC5",
                "#B0BEC5",
                "#B0BEC5",
                "#B0BEC5",
                "#B0BEC5",
                "red",
                "#B0BEC5",
                "#B0BEC5",
                "#B0BEC5",
                "#B0BEC5",
                "#B0BEC5",
                "#B0BEC5",
                "#B0BEC5",
                "#B0BEC5",
                "#B0BEC5",
                "#B0BEC5",
                "#B0BEC5",
                "#B0BEC5",
                "#B0BEC5",
                "#B0BEC5",
                "#B0BEC5",
                "#B0BEC5",
                "#B0BEC5",
                "#B0BEC5",
                "#B0BEC5",
                "#B0BEC5",
                "#B0BEC5",
                "#B0BEC5",
                "#B0BEC5",
                "#B0BEC5",
                "#B0BEC5",
                "#B0BEC5",
                "#B0BEC5",
                "#B0BEC5",
                "#B0BEC5",
                "#B0BEC5",
                "#B0BEC5",
                "#B0BEC5",
                "#B0BEC5",
                "#B0BEC5",
                "#B0BEC5",
                "#B0BEC5",
                "#B0BEC5",
                "#B0BEC5"
               ]
              ]
             }
            ],
            "label": "Topic 33",
            "method": "update"
           },
           {
            "args": [
             {
              "marker.color": [
               [
                "#B0BEC5",
                "#B0BEC5",
                "#B0BEC5",
                "#B0BEC5",
                "#B0BEC5",
                "#B0BEC5",
                "#B0BEC5",
                "#B0BEC5",
                "#B0BEC5",
                "#B0BEC5",
                "#B0BEC5",
                "#B0BEC5",
                "#B0BEC5",
                "#B0BEC5",
                "#B0BEC5",
                "#B0BEC5",
                "#B0BEC5",
                "#B0BEC5",
                "#B0BEC5",
                "#B0BEC5",
                "#B0BEC5",
                "#B0BEC5",
                "#B0BEC5",
                "#B0BEC5",
                "#B0BEC5",
                "#B0BEC5",
                "#B0BEC5",
                "#B0BEC5",
                "#B0BEC5",
                "#B0BEC5",
                "#B0BEC5",
                "#B0BEC5",
                "#B0BEC5",
                "#B0BEC5",
                "red",
                "#B0BEC5",
                "#B0BEC5",
                "#B0BEC5",
                "#B0BEC5",
                "#B0BEC5",
                "#B0BEC5",
                "#B0BEC5",
                "#B0BEC5",
                "#B0BEC5",
                "#B0BEC5",
                "#B0BEC5",
                "#B0BEC5",
                "#B0BEC5",
                "#B0BEC5",
                "#B0BEC5",
                "#B0BEC5",
                "#B0BEC5",
                "#B0BEC5",
                "#B0BEC5",
                "#B0BEC5",
                "#B0BEC5",
                "#B0BEC5",
                "#B0BEC5",
                "#B0BEC5",
                "#B0BEC5",
                "#B0BEC5",
                "#B0BEC5",
                "#B0BEC5",
                "#B0BEC5",
                "#B0BEC5",
                "#B0BEC5",
                "#B0BEC5",
                "#B0BEC5",
                "#B0BEC5",
                "#B0BEC5",
                "#B0BEC5",
                "#B0BEC5"
               ]
              ]
             }
            ],
            "label": "Topic 34",
            "method": "update"
           },
           {
            "args": [
             {
              "marker.color": [
               [
                "#B0BEC5",
                "#B0BEC5",
                "#B0BEC5",
                "#B0BEC5",
                "#B0BEC5",
                "#B0BEC5",
                "#B0BEC5",
                "#B0BEC5",
                "#B0BEC5",
                "#B0BEC5",
                "#B0BEC5",
                "#B0BEC5",
                "#B0BEC5",
                "#B0BEC5",
                "#B0BEC5",
                "#B0BEC5",
                "#B0BEC5",
                "#B0BEC5",
                "#B0BEC5",
                "#B0BEC5",
                "#B0BEC5",
                "#B0BEC5",
                "#B0BEC5",
                "#B0BEC5",
                "#B0BEC5",
                "#B0BEC5",
                "#B0BEC5",
                "#B0BEC5",
                "#B0BEC5",
                "#B0BEC5",
                "#B0BEC5",
                "#B0BEC5",
                "#B0BEC5",
                "#B0BEC5",
                "#B0BEC5",
                "red",
                "#B0BEC5",
                "#B0BEC5",
                "#B0BEC5",
                "#B0BEC5",
                "#B0BEC5",
                "#B0BEC5",
                "#B0BEC5",
                "#B0BEC5",
                "#B0BEC5",
                "#B0BEC5",
                "#B0BEC5",
                "#B0BEC5",
                "#B0BEC5",
                "#B0BEC5",
                "#B0BEC5",
                "#B0BEC5",
                "#B0BEC5",
                "#B0BEC5",
                "#B0BEC5",
                "#B0BEC5",
                "#B0BEC5",
                "#B0BEC5",
                "#B0BEC5",
                "#B0BEC5",
                "#B0BEC5",
                "#B0BEC5",
                "#B0BEC5",
                "#B0BEC5",
                "#B0BEC5",
                "#B0BEC5",
                "#B0BEC5",
                "#B0BEC5",
                "#B0BEC5",
                "#B0BEC5",
                "#B0BEC5",
                "#B0BEC5"
               ]
              ]
             }
            ],
            "label": "Topic 35",
            "method": "update"
           },
           {
            "args": [
             {
              "marker.color": [
               [
                "#B0BEC5",
                "#B0BEC5",
                "#B0BEC5",
                "#B0BEC5",
                "#B0BEC5",
                "#B0BEC5",
                "#B0BEC5",
                "#B0BEC5",
                "#B0BEC5",
                "#B0BEC5",
                "#B0BEC5",
                "#B0BEC5",
                "#B0BEC5",
                "#B0BEC5",
                "#B0BEC5",
                "#B0BEC5",
                "#B0BEC5",
                "#B0BEC5",
                "#B0BEC5",
                "#B0BEC5",
                "#B0BEC5",
                "#B0BEC5",
                "#B0BEC5",
                "#B0BEC5",
                "#B0BEC5",
                "#B0BEC5",
                "#B0BEC5",
                "#B0BEC5",
                "#B0BEC5",
                "#B0BEC5",
                "#B0BEC5",
                "#B0BEC5",
                "#B0BEC5",
                "#B0BEC5",
                "#B0BEC5",
                "#B0BEC5",
                "red",
                "#B0BEC5",
                "#B0BEC5",
                "#B0BEC5",
                "#B0BEC5",
                "#B0BEC5",
                "#B0BEC5",
                "#B0BEC5",
                "#B0BEC5",
                "#B0BEC5",
                "#B0BEC5",
                "#B0BEC5",
                "#B0BEC5",
                "#B0BEC5",
                "#B0BEC5",
                "#B0BEC5",
                "#B0BEC5",
                "#B0BEC5",
                "#B0BEC5",
                "#B0BEC5",
                "#B0BEC5",
                "#B0BEC5",
                "#B0BEC5",
                "#B0BEC5",
                "#B0BEC5",
                "#B0BEC5",
                "#B0BEC5",
                "#B0BEC5",
                "#B0BEC5",
                "#B0BEC5",
                "#B0BEC5",
                "#B0BEC5",
                "#B0BEC5",
                "#B0BEC5",
                "#B0BEC5",
                "#B0BEC5"
               ]
              ]
             }
            ],
            "label": "Topic 36",
            "method": "update"
           },
           {
            "args": [
             {
              "marker.color": [
               [
                "#B0BEC5",
                "#B0BEC5",
                "#B0BEC5",
                "#B0BEC5",
                "#B0BEC5",
                "#B0BEC5",
                "#B0BEC5",
                "#B0BEC5",
                "#B0BEC5",
                "#B0BEC5",
                "#B0BEC5",
                "#B0BEC5",
                "#B0BEC5",
                "#B0BEC5",
                "#B0BEC5",
                "#B0BEC5",
                "#B0BEC5",
                "#B0BEC5",
                "#B0BEC5",
                "#B0BEC5",
                "#B0BEC5",
                "#B0BEC5",
                "#B0BEC5",
                "#B0BEC5",
                "#B0BEC5",
                "#B0BEC5",
                "#B0BEC5",
                "#B0BEC5",
                "#B0BEC5",
                "#B0BEC5",
                "#B0BEC5",
                "#B0BEC5",
                "#B0BEC5",
                "#B0BEC5",
                "#B0BEC5",
                "#B0BEC5",
                "#B0BEC5",
                "red",
                "#B0BEC5",
                "#B0BEC5",
                "#B0BEC5",
                "#B0BEC5",
                "#B0BEC5",
                "#B0BEC5",
                "#B0BEC5",
                "#B0BEC5",
                "#B0BEC5",
                "#B0BEC5",
                "#B0BEC5",
                "#B0BEC5",
                "#B0BEC5",
                "#B0BEC5",
                "#B0BEC5",
                "#B0BEC5",
                "#B0BEC5",
                "#B0BEC5",
                "#B0BEC5",
                "#B0BEC5",
                "#B0BEC5",
                "#B0BEC5",
                "#B0BEC5",
                "#B0BEC5",
                "#B0BEC5",
                "#B0BEC5",
                "#B0BEC5",
                "#B0BEC5",
                "#B0BEC5",
                "#B0BEC5",
                "#B0BEC5",
                "#B0BEC5",
                "#B0BEC5",
                "#B0BEC5"
               ]
              ]
             }
            ],
            "label": "Topic 37",
            "method": "update"
           },
           {
            "args": [
             {
              "marker.color": [
               [
                "#B0BEC5",
                "#B0BEC5",
                "#B0BEC5",
                "#B0BEC5",
                "#B0BEC5",
                "#B0BEC5",
                "#B0BEC5",
                "#B0BEC5",
                "#B0BEC5",
                "#B0BEC5",
                "#B0BEC5",
                "#B0BEC5",
                "#B0BEC5",
                "#B0BEC5",
                "#B0BEC5",
                "#B0BEC5",
                "#B0BEC5",
                "#B0BEC5",
                "#B0BEC5",
                "#B0BEC5",
                "#B0BEC5",
                "#B0BEC5",
                "#B0BEC5",
                "#B0BEC5",
                "#B0BEC5",
                "#B0BEC5",
                "#B0BEC5",
                "#B0BEC5",
                "#B0BEC5",
                "#B0BEC5",
                "#B0BEC5",
                "#B0BEC5",
                "#B0BEC5",
                "#B0BEC5",
                "#B0BEC5",
                "#B0BEC5",
                "#B0BEC5",
                "#B0BEC5",
                "red",
                "#B0BEC5",
                "#B0BEC5",
                "#B0BEC5",
                "#B0BEC5",
                "#B0BEC5",
                "#B0BEC5",
                "#B0BEC5",
                "#B0BEC5",
                "#B0BEC5",
                "#B0BEC5",
                "#B0BEC5",
                "#B0BEC5",
                "#B0BEC5",
                "#B0BEC5",
                "#B0BEC5",
                "#B0BEC5",
                "#B0BEC5",
                "#B0BEC5",
                "#B0BEC5",
                "#B0BEC5",
                "#B0BEC5",
                "#B0BEC5",
                "#B0BEC5",
                "#B0BEC5",
                "#B0BEC5",
                "#B0BEC5",
                "#B0BEC5",
                "#B0BEC5",
                "#B0BEC5",
                "#B0BEC5",
                "#B0BEC5",
                "#B0BEC5",
                "#B0BEC5"
               ]
              ]
             }
            ],
            "label": "Topic 38",
            "method": "update"
           },
           {
            "args": [
             {
              "marker.color": [
               [
                "#B0BEC5",
                "#B0BEC5",
                "#B0BEC5",
                "#B0BEC5",
                "#B0BEC5",
                "#B0BEC5",
                "#B0BEC5",
                "#B0BEC5",
                "#B0BEC5",
                "#B0BEC5",
                "#B0BEC5",
                "#B0BEC5",
                "#B0BEC5",
                "#B0BEC5",
                "#B0BEC5",
                "#B0BEC5",
                "#B0BEC5",
                "#B0BEC5",
                "#B0BEC5",
                "#B0BEC5",
                "#B0BEC5",
                "#B0BEC5",
                "#B0BEC5",
                "#B0BEC5",
                "#B0BEC5",
                "#B0BEC5",
                "#B0BEC5",
                "#B0BEC5",
                "#B0BEC5",
                "#B0BEC5",
                "#B0BEC5",
                "#B0BEC5",
                "#B0BEC5",
                "#B0BEC5",
                "#B0BEC5",
                "#B0BEC5",
                "#B0BEC5",
                "#B0BEC5",
                "#B0BEC5",
                "red",
                "#B0BEC5",
                "#B0BEC5",
                "#B0BEC5",
                "#B0BEC5",
                "#B0BEC5",
                "#B0BEC5",
                "#B0BEC5",
                "#B0BEC5",
                "#B0BEC5",
                "#B0BEC5",
                "#B0BEC5",
                "#B0BEC5",
                "#B0BEC5",
                "#B0BEC5",
                "#B0BEC5",
                "#B0BEC5",
                "#B0BEC5",
                "#B0BEC5",
                "#B0BEC5",
                "#B0BEC5",
                "#B0BEC5",
                "#B0BEC5",
                "#B0BEC5",
                "#B0BEC5",
                "#B0BEC5",
                "#B0BEC5",
                "#B0BEC5",
                "#B0BEC5",
                "#B0BEC5",
                "#B0BEC5",
                "#B0BEC5",
                "#B0BEC5"
               ]
              ]
             }
            ],
            "label": "Topic 39",
            "method": "update"
           },
           {
            "args": [
             {
              "marker.color": [
               [
                "#B0BEC5",
                "#B0BEC5",
                "#B0BEC5",
                "#B0BEC5",
                "#B0BEC5",
                "#B0BEC5",
                "#B0BEC5",
                "#B0BEC5",
                "#B0BEC5",
                "#B0BEC5",
                "#B0BEC5",
                "#B0BEC5",
                "#B0BEC5",
                "#B0BEC5",
                "#B0BEC5",
                "#B0BEC5",
                "#B0BEC5",
                "#B0BEC5",
                "#B0BEC5",
                "#B0BEC5",
                "#B0BEC5",
                "#B0BEC5",
                "#B0BEC5",
                "#B0BEC5",
                "#B0BEC5",
                "#B0BEC5",
                "#B0BEC5",
                "#B0BEC5",
                "#B0BEC5",
                "#B0BEC5",
                "#B0BEC5",
                "#B0BEC5",
                "#B0BEC5",
                "#B0BEC5",
                "#B0BEC5",
                "#B0BEC5",
                "#B0BEC5",
                "#B0BEC5",
                "#B0BEC5",
                "#B0BEC5",
                "red",
                "#B0BEC5",
                "#B0BEC5",
                "#B0BEC5",
                "#B0BEC5",
                "#B0BEC5",
                "#B0BEC5",
                "#B0BEC5",
                "#B0BEC5",
                "#B0BEC5",
                "#B0BEC5",
                "#B0BEC5",
                "#B0BEC5",
                "#B0BEC5",
                "#B0BEC5",
                "#B0BEC5",
                "#B0BEC5",
                "#B0BEC5",
                "#B0BEC5",
                "#B0BEC5",
                "#B0BEC5",
                "#B0BEC5",
                "#B0BEC5",
                "#B0BEC5",
                "#B0BEC5",
                "#B0BEC5",
                "#B0BEC5",
                "#B0BEC5",
                "#B0BEC5",
                "#B0BEC5",
                "#B0BEC5",
                "#B0BEC5"
               ]
              ]
             }
            ],
            "label": "Topic 40",
            "method": "update"
           },
           {
            "args": [
             {
              "marker.color": [
               [
                "#B0BEC5",
                "#B0BEC5",
                "#B0BEC5",
                "#B0BEC5",
                "#B0BEC5",
                "#B0BEC5",
                "#B0BEC5",
                "#B0BEC5",
                "#B0BEC5",
                "#B0BEC5",
                "#B0BEC5",
                "#B0BEC5",
                "#B0BEC5",
                "#B0BEC5",
                "#B0BEC5",
                "#B0BEC5",
                "#B0BEC5",
                "#B0BEC5",
                "#B0BEC5",
                "#B0BEC5",
                "#B0BEC5",
                "#B0BEC5",
                "#B0BEC5",
                "#B0BEC5",
                "#B0BEC5",
                "#B0BEC5",
                "#B0BEC5",
                "#B0BEC5",
                "#B0BEC5",
                "#B0BEC5",
                "#B0BEC5",
                "#B0BEC5",
                "#B0BEC5",
                "#B0BEC5",
                "#B0BEC5",
                "#B0BEC5",
                "#B0BEC5",
                "#B0BEC5",
                "#B0BEC5",
                "#B0BEC5",
                "#B0BEC5",
                "red",
                "#B0BEC5",
                "#B0BEC5",
                "#B0BEC5",
                "#B0BEC5",
                "#B0BEC5",
                "#B0BEC5",
                "#B0BEC5",
                "#B0BEC5",
                "#B0BEC5",
                "#B0BEC5",
                "#B0BEC5",
                "#B0BEC5",
                "#B0BEC5",
                "#B0BEC5",
                "#B0BEC5",
                "#B0BEC5",
                "#B0BEC5",
                "#B0BEC5",
                "#B0BEC5",
                "#B0BEC5",
                "#B0BEC5",
                "#B0BEC5",
                "#B0BEC5",
                "#B0BEC5",
                "#B0BEC5",
                "#B0BEC5",
                "#B0BEC5",
                "#B0BEC5",
                "#B0BEC5",
                "#B0BEC5"
               ]
              ]
             }
            ],
            "label": "Topic 41",
            "method": "update"
           },
           {
            "args": [
             {
              "marker.color": [
               [
                "#B0BEC5",
                "#B0BEC5",
                "#B0BEC5",
                "#B0BEC5",
                "#B0BEC5",
                "#B0BEC5",
                "#B0BEC5",
                "#B0BEC5",
                "#B0BEC5",
                "#B0BEC5",
                "#B0BEC5",
                "#B0BEC5",
                "#B0BEC5",
                "#B0BEC5",
                "#B0BEC5",
                "#B0BEC5",
                "#B0BEC5",
                "#B0BEC5",
                "#B0BEC5",
                "#B0BEC5",
                "#B0BEC5",
                "#B0BEC5",
                "#B0BEC5",
                "#B0BEC5",
                "#B0BEC5",
                "#B0BEC5",
                "#B0BEC5",
                "#B0BEC5",
                "#B0BEC5",
                "#B0BEC5",
                "#B0BEC5",
                "#B0BEC5",
                "#B0BEC5",
                "#B0BEC5",
                "#B0BEC5",
                "#B0BEC5",
                "#B0BEC5",
                "#B0BEC5",
                "#B0BEC5",
                "#B0BEC5",
                "#B0BEC5",
                "#B0BEC5",
                "red",
                "#B0BEC5",
                "#B0BEC5",
                "#B0BEC5",
                "#B0BEC5",
                "#B0BEC5",
                "#B0BEC5",
                "#B0BEC5",
                "#B0BEC5",
                "#B0BEC5",
                "#B0BEC5",
                "#B0BEC5",
                "#B0BEC5",
                "#B0BEC5",
                "#B0BEC5",
                "#B0BEC5",
                "#B0BEC5",
                "#B0BEC5",
                "#B0BEC5",
                "#B0BEC5",
                "#B0BEC5",
                "#B0BEC5",
                "#B0BEC5",
                "#B0BEC5",
                "#B0BEC5",
                "#B0BEC5",
                "#B0BEC5",
                "#B0BEC5",
                "#B0BEC5",
                "#B0BEC5"
               ]
              ]
             }
            ],
            "label": "Topic 42",
            "method": "update"
           },
           {
            "args": [
             {
              "marker.color": [
               [
                "#B0BEC5",
                "#B0BEC5",
                "#B0BEC5",
                "#B0BEC5",
                "#B0BEC5",
                "#B0BEC5",
                "#B0BEC5",
                "#B0BEC5",
                "#B0BEC5",
                "#B0BEC5",
                "#B0BEC5",
                "#B0BEC5",
                "#B0BEC5",
                "#B0BEC5",
                "#B0BEC5",
                "#B0BEC5",
                "#B0BEC5",
                "#B0BEC5",
                "#B0BEC5",
                "#B0BEC5",
                "#B0BEC5",
                "#B0BEC5",
                "#B0BEC5",
                "#B0BEC5",
                "#B0BEC5",
                "#B0BEC5",
                "#B0BEC5",
                "#B0BEC5",
                "#B0BEC5",
                "#B0BEC5",
                "#B0BEC5",
                "#B0BEC5",
                "#B0BEC5",
                "#B0BEC5",
                "#B0BEC5",
                "#B0BEC5",
                "#B0BEC5",
                "#B0BEC5",
                "#B0BEC5",
                "#B0BEC5",
                "#B0BEC5",
                "#B0BEC5",
                "#B0BEC5",
                "red",
                "#B0BEC5",
                "#B0BEC5",
                "#B0BEC5",
                "#B0BEC5",
                "#B0BEC5",
                "#B0BEC5",
                "#B0BEC5",
                "#B0BEC5",
                "#B0BEC5",
                "#B0BEC5",
                "#B0BEC5",
                "#B0BEC5",
                "#B0BEC5",
                "#B0BEC5",
                "#B0BEC5",
                "#B0BEC5",
                "#B0BEC5",
                "#B0BEC5",
                "#B0BEC5",
                "#B0BEC5",
                "#B0BEC5",
                "#B0BEC5",
                "#B0BEC5",
                "#B0BEC5",
                "#B0BEC5",
                "#B0BEC5",
                "#B0BEC5",
                "#B0BEC5"
               ]
              ]
             }
            ],
            "label": "Topic 43",
            "method": "update"
           },
           {
            "args": [
             {
              "marker.color": [
               [
                "#B0BEC5",
                "#B0BEC5",
                "#B0BEC5",
                "#B0BEC5",
                "#B0BEC5",
                "#B0BEC5",
                "#B0BEC5",
                "#B0BEC5",
                "#B0BEC5",
                "#B0BEC5",
                "#B0BEC5",
                "#B0BEC5",
                "#B0BEC5",
                "#B0BEC5",
                "#B0BEC5",
                "#B0BEC5",
                "#B0BEC5",
                "#B0BEC5",
                "#B0BEC5",
                "#B0BEC5",
                "#B0BEC5",
                "#B0BEC5",
                "#B0BEC5",
                "#B0BEC5",
                "#B0BEC5",
                "#B0BEC5",
                "#B0BEC5",
                "#B0BEC5",
                "#B0BEC5",
                "#B0BEC5",
                "#B0BEC5",
                "#B0BEC5",
                "#B0BEC5",
                "#B0BEC5",
                "#B0BEC5",
                "#B0BEC5",
                "#B0BEC5",
                "#B0BEC5",
                "#B0BEC5",
                "#B0BEC5",
                "#B0BEC5",
                "#B0BEC5",
                "#B0BEC5",
                "#B0BEC5",
                "red",
                "#B0BEC5",
                "#B0BEC5",
                "#B0BEC5",
                "#B0BEC5",
                "#B0BEC5",
                "#B0BEC5",
                "#B0BEC5",
                "#B0BEC5",
                "#B0BEC5",
                "#B0BEC5",
                "#B0BEC5",
                "#B0BEC5",
                "#B0BEC5",
                "#B0BEC5",
                "#B0BEC5",
                "#B0BEC5",
                "#B0BEC5",
                "#B0BEC5",
                "#B0BEC5",
                "#B0BEC5",
                "#B0BEC5",
                "#B0BEC5",
                "#B0BEC5",
                "#B0BEC5",
                "#B0BEC5",
                "#B0BEC5",
                "#B0BEC5"
               ]
              ]
             }
            ],
            "label": "Topic 44",
            "method": "update"
           },
           {
            "args": [
             {
              "marker.color": [
               [
                "#B0BEC5",
                "#B0BEC5",
                "#B0BEC5",
                "#B0BEC5",
                "#B0BEC5",
                "#B0BEC5",
                "#B0BEC5",
                "#B0BEC5",
                "#B0BEC5",
                "#B0BEC5",
                "#B0BEC5",
                "#B0BEC5",
                "#B0BEC5",
                "#B0BEC5",
                "#B0BEC5",
                "#B0BEC5",
                "#B0BEC5",
                "#B0BEC5",
                "#B0BEC5",
                "#B0BEC5",
                "#B0BEC5",
                "#B0BEC5",
                "#B0BEC5",
                "#B0BEC5",
                "#B0BEC5",
                "#B0BEC5",
                "#B0BEC5",
                "#B0BEC5",
                "#B0BEC5",
                "#B0BEC5",
                "#B0BEC5",
                "#B0BEC5",
                "#B0BEC5",
                "#B0BEC5",
                "#B0BEC5",
                "#B0BEC5",
                "#B0BEC5",
                "#B0BEC5",
                "#B0BEC5",
                "#B0BEC5",
                "#B0BEC5",
                "#B0BEC5",
                "#B0BEC5",
                "#B0BEC5",
                "#B0BEC5",
                "red",
                "#B0BEC5",
                "#B0BEC5",
                "#B0BEC5",
                "#B0BEC5",
                "#B0BEC5",
                "#B0BEC5",
                "#B0BEC5",
                "#B0BEC5",
                "#B0BEC5",
                "#B0BEC5",
                "#B0BEC5",
                "#B0BEC5",
                "#B0BEC5",
                "#B0BEC5",
                "#B0BEC5",
                "#B0BEC5",
                "#B0BEC5",
                "#B0BEC5",
                "#B0BEC5",
                "#B0BEC5",
                "#B0BEC5",
                "#B0BEC5",
                "#B0BEC5",
                "#B0BEC5",
                "#B0BEC5",
                "#B0BEC5"
               ]
              ]
             }
            ],
            "label": "Topic 45",
            "method": "update"
           },
           {
            "args": [
             {
              "marker.color": [
               [
                "#B0BEC5",
                "#B0BEC5",
                "#B0BEC5",
                "#B0BEC5",
                "#B0BEC5",
                "#B0BEC5",
                "#B0BEC5",
                "#B0BEC5",
                "#B0BEC5",
                "#B0BEC5",
                "#B0BEC5",
                "#B0BEC5",
                "#B0BEC5",
                "#B0BEC5",
                "#B0BEC5",
                "#B0BEC5",
                "#B0BEC5",
                "#B0BEC5",
                "#B0BEC5",
                "#B0BEC5",
                "#B0BEC5",
                "#B0BEC5",
                "#B0BEC5",
                "#B0BEC5",
                "#B0BEC5",
                "#B0BEC5",
                "#B0BEC5",
                "#B0BEC5",
                "#B0BEC5",
                "#B0BEC5",
                "#B0BEC5",
                "#B0BEC5",
                "#B0BEC5",
                "#B0BEC5",
                "#B0BEC5",
                "#B0BEC5",
                "#B0BEC5",
                "#B0BEC5",
                "#B0BEC5",
                "#B0BEC5",
                "#B0BEC5",
                "#B0BEC5",
                "#B0BEC5",
                "#B0BEC5",
                "#B0BEC5",
                "#B0BEC5",
                "red",
                "#B0BEC5",
                "#B0BEC5",
                "#B0BEC5",
                "#B0BEC5",
                "#B0BEC5",
                "#B0BEC5",
                "#B0BEC5",
                "#B0BEC5",
                "#B0BEC5",
                "#B0BEC5",
                "#B0BEC5",
                "#B0BEC5",
                "#B0BEC5",
                "#B0BEC5",
                "#B0BEC5",
                "#B0BEC5",
                "#B0BEC5",
                "#B0BEC5",
                "#B0BEC5",
                "#B0BEC5",
                "#B0BEC5",
                "#B0BEC5",
                "#B0BEC5",
                "#B0BEC5",
                "#B0BEC5"
               ]
              ]
             }
            ],
            "label": "Topic 46",
            "method": "update"
           },
           {
            "args": [
             {
              "marker.color": [
               [
                "#B0BEC5",
                "#B0BEC5",
                "#B0BEC5",
                "#B0BEC5",
                "#B0BEC5",
                "#B0BEC5",
                "#B0BEC5",
                "#B0BEC5",
                "#B0BEC5",
                "#B0BEC5",
                "#B0BEC5",
                "#B0BEC5",
                "#B0BEC5",
                "#B0BEC5",
                "#B0BEC5",
                "#B0BEC5",
                "#B0BEC5",
                "#B0BEC5",
                "#B0BEC5",
                "#B0BEC5",
                "#B0BEC5",
                "#B0BEC5",
                "#B0BEC5",
                "#B0BEC5",
                "#B0BEC5",
                "#B0BEC5",
                "#B0BEC5",
                "#B0BEC5",
                "#B0BEC5",
                "#B0BEC5",
                "#B0BEC5",
                "#B0BEC5",
                "#B0BEC5",
                "#B0BEC5",
                "#B0BEC5",
                "#B0BEC5",
                "#B0BEC5",
                "#B0BEC5",
                "#B0BEC5",
                "#B0BEC5",
                "#B0BEC5",
                "#B0BEC5",
                "#B0BEC5",
                "#B0BEC5",
                "#B0BEC5",
                "#B0BEC5",
                "#B0BEC5",
                "red",
                "#B0BEC5",
                "#B0BEC5",
                "#B0BEC5",
                "#B0BEC5",
                "#B0BEC5",
                "#B0BEC5",
                "#B0BEC5",
                "#B0BEC5",
                "#B0BEC5",
                "#B0BEC5",
                "#B0BEC5",
                "#B0BEC5",
                "#B0BEC5",
                "#B0BEC5",
                "#B0BEC5",
                "#B0BEC5",
                "#B0BEC5",
                "#B0BEC5",
                "#B0BEC5",
                "#B0BEC5",
                "#B0BEC5",
                "#B0BEC5",
                "#B0BEC5",
                "#B0BEC5"
               ]
              ]
             }
            ],
            "label": "Topic 47",
            "method": "update"
           },
           {
            "args": [
             {
              "marker.color": [
               [
                "#B0BEC5",
                "#B0BEC5",
                "#B0BEC5",
                "#B0BEC5",
                "#B0BEC5",
                "#B0BEC5",
                "#B0BEC5",
                "#B0BEC5",
                "#B0BEC5",
                "#B0BEC5",
                "#B0BEC5",
                "#B0BEC5",
                "#B0BEC5",
                "#B0BEC5",
                "#B0BEC5",
                "#B0BEC5",
                "#B0BEC5",
                "#B0BEC5",
                "#B0BEC5",
                "#B0BEC5",
                "#B0BEC5",
                "#B0BEC5",
                "#B0BEC5",
                "#B0BEC5",
                "#B0BEC5",
                "#B0BEC5",
                "#B0BEC5",
                "#B0BEC5",
                "#B0BEC5",
                "#B0BEC5",
                "#B0BEC5",
                "#B0BEC5",
                "#B0BEC5",
                "#B0BEC5",
                "#B0BEC5",
                "#B0BEC5",
                "#B0BEC5",
                "#B0BEC5",
                "#B0BEC5",
                "#B0BEC5",
                "#B0BEC5",
                "#B0BEC5",
                "#B0BEC5",
                "#B0BEC5",
                "#B0BEC5",
                "#B0BEC5",
                "#B0BEC5",
                "#B0BEC5",
                "red",
                "#B0BEC5",
                "#B0BEC5",
                "#B0BEC5",
                "#B0BEC5",
                "#B0BEC5",
                "#B0BEC5",
                "#B0BEC5",
                "#B0BEC5",
                "#B0BEC5",
                "#B0BEC5",
                "#B0BEC5",
                "#B0BEC5",
                "#B0BEC5",
                "#B0BEC5",
                "#B0BEC5",
                "#B0BEC5",
                "#B0BEC5",
                "#B0BEC5",
                "#B0BEC5",
                "#B0BEC5",
                "#B0BEC5",
                "#B0BEC5",
                "#B0BEC5"
               ]
              ]
             }
            ],
            "label": "Topic 48",
            "method": "update"
           },
           {
            "args": [
             {
              "marker.color": [
               [
                "#B0BEC5",
                "#B0BEC5",
                "#B0BEC5",
                "#B0BEC5",
                "#B0BEC5",
                "#B0BEC5",
                "#B0BEC5",
                "#B0BEC5",
                "#B0BEC5",
                "#B0BEC5",
                "#B0BEC5",
                "#B0BEC5",
                "#B0BEC5",
                "#B0BEC5",
                "#B0BEC5",
                "#B0BEC5",
                "#B0BEC5",
                "#B0BEC5",
                "#B0BEC5",
                "#B0BEC5",
                "#B0BEC5",
                "#B0BEC5",
                "#B0BEC5",
                "#B0BEC5",
                "#B0BEC5",
                "#B0BEC5",
                "#B0BEC5",
                "#B0BEC5",
                "#B0BEC5",
                "#B0BEC5",
                "#B0BEC5",
                "#B0BEC5",
                "#B0BEC5",
                "#B0BEC5",
                "#B0BEC5",
                "#B0BEC5",
                "#B0BEC5",
                "#B0BEC5",
                "#B0BEC5",
                "#B0BEC5",
                "#B0BEC5",
                "#B0BEC5",
                "#B0BEC5",
                "#B0BEC5",
                "#B0BEC5",
                "#B0BEC5",
                "#B0BEC5",
                "#B0BEC5",
                "#B0BEC5",
                "red",
                "#B0BEC5",
                "#B0BEC5",
                "#B0BEC5",
                "#B0BEC5",
                "#B0BEC5",
                "#B0BEC5",
                "#B0BEC5",
                "#B0BEC5",
                "#B0BEC5",
                "#B0BEC5",
                "#B0BEC5",
                "#B0BEC5",
                "#B0BEC5",
                "#B0BEC5",
                "#B0BEC5",
                "#B0BEC5",
                "#B0BEC5",
                "#B0BEC5",
                "#B0BEC5",
                "#B0BEC5",
                "#B0BEC5",
                "#B0BEC5"
               ]
              ]
             }
            ],
            "label": "Topic 49",
            "method": "update"
           },
           {
            "args": [
             {
              "marker.color": [
               [
                "#B0BEC5",
                "#B0BEC5",
                "#B0BEC5",
                "#B0BEC5",
                "#B0BEC5",
                "#B0BEC5",
                "#B0BEC5",
                "#B0BEC5",
                "#B0BEC5",
                "#B0BEC5",
                "#B0BEC5",
                "#B0BEC5",
                "#B0BEC5",
                "#B0BEC5",
                "#B0BEC5",
                "#B0BEC5",
                "#B0BEC5",
                "#B0BEC5",
                "#B0BEC5",
                "#B0BEC5",
                "#B0BEC5",
                "#B0BEC5",
                "#B0BEC5",
                "#B0BEC5",
                "#B0BEC5",
                "#B0BEC5",
                "#B0BEC5",
                "#B0BEC5",
                "#B0BEC5",
                "#B0BEC5",
                "#B0BEC5",
                "#B0BEC5",
                "#B0BEC5",
                "#B0BEC5",
                "#B0BEC5",
                "#B0BEC5",
                "#B0BEC5",
                "#B0BEC5",
                "#B0BEC5",
                "#B0BEC5",
                "#B0BEC5",
                "#B0BEC5",
                "#B0BEC5",
                "#B0BEC5",
                "#B0BEC5",
                "#B0BEC5",
                "#B0BEC5",
                "#B0BEC5",
                "#B0BEC5",
                "#B0BEC5",
                "red",
                "#B0BEC5",
                "#B0BEC5",
                "#B0BEC5",
                "#B0BEC5",
                "#B0BEC5",
                "#B0BEC5",
                "#B0BEC5",
                "#B0BEC5",
                "#B0BEC5",
                "#B0BEC5",
                "#B0BEC5",
                "#B0BEC5",
                "#B0BEC5",
                "#B0BEC5",
                "#B0BEC5",
                "#B0BEC5",
                "#B0BEC5",
                "#B0BEC5",
                "#B0BEC5",
                "#B0BEC5",
                "#B0BEC5"
               ]
              ]
             }
            ],
            "label": "Topic 50",
            "method": "update"
           },
           {
            "args": [
             {
              "marker.color": [
               [
                "#B0BEC5",
                "#B0BEC5",
                "#B0BEC5",
                "#B0BEC5",
                "#B0BEC5",
                "#B0BEC5",
                "#B0BEC5",
                "#B0BEC5",
                "#B0BEC5",
                "#B0BEC5",
                "#B0BEC5",
                "#B0BEC5",
                "#B0BEC5",
                "#B0BEC5",
                "#B0BEC5",
                "#B0BEC5",
                "#B0BEC5",
                "#B0BEC5",
                "#B0BEC5",
                "#B0BEC5",
                "#B0BEC5",
                "#B0BEC5",
                "#B0BEC5",
                "#B0BEC5",
                "#B0BEC5",
                "#B0BEC5",
                "#B0BEC5",
                "#B0BEC5",
                "#B0BEC5",
                "#B0BEC5",
                "#B0BEC5",
                "#B0BEC5",
                "#B0BEC5",
                "#B0BEC5",
                "#B0BEC5",
                "#B0BEC5",
                "#B0BEC5",
                "#B0BEC5",
                "#B0BEC5",
                "#B0BEC5",
                "#B0BEC5",
                "#B0BEC5",
                "#B0BEC5",
                "#B0BEC5",
                "#B0BEC5",
                "#B0BEC5",
                "#B0BEC5",
                "#B0BEC5",
                "#B0BEC5",
                "#B0BEC5",
                "#B0BEC5",
                "red",
                "#B0BEC5",
                "#B0BEC5",
                "#B0BEC5",
                "#B0BEC5",
                "#B0BEC5",
                "#B0BEC5",
                "#B0BEC5",
                "#B0BEC5",
                "#B0BEC5",
                "#B0BEC5",
                "#B0BEC5",
                "#B0BEC5",
                "#B0BEC5",
                "#B0BEC5",
                "#B0BEC5",
                "#B0BEC5",
                "#B0BEC5",
                "#B0BEC5",
                "#B0BEC5",
                "#B0BEC5"
               ]
              ]
             }
            ],
            "label": "Topic 51",
            "method": "update"
           },
           {
            "args": [
             {
              "marker.color": [
               [
                "#B0BEC5",
                "#B0BEC5",
                "#B0BEC5",
                "#B0BEC5",
                "#B0BEC5",
                "#B0BEC5",
                "#B0BEC5",
                "#B0BEC5",
                "#B0BEC5",
                "#B0BEC5",
                "#B0BEC5",
                "#B0BEC5",
                "#B0BEC5",
                "#B0BEC5",
                "#B0BEC5",
                "#B0BEC5",
                "#B0BEC5",
                "#B0BEC5",
                "#B0BEC5",
                "#B0BEC5",
                "#B0BEC5",
                "#B0BEC5",
                "#B0BEC5",
                "#B0BEC5",
                "#B0BEC5",
                "#B0BEC5",
                "#B0BEC5",
                "#B0BEC5",
                "#B0BEC5",
                "#B0BEC5",
                "#B0BEC5",
                "#B0BEC5",
                "#B0BEC5",
                "#B0BEC5",
                "#B0BEC5",
                "#B0BEC5",
                "#B0BEC5",
                "#B0BEC5",
                "#B0BEC5",
                "#B0BEC5",
                "#B0BEC5",
                "#B0BEC5",
                "#B0BEC5",
                "#B0BEC5",
                "#B0BEC5",
                "#B0BEC5",
                "#B0BEC5",
                "#B0BEC5",
                "#B0BEC5",
                "#B0BEC5",
                "#B0BEC5",
                "#B0BEC5",
                "red",
                "#B0BEC5",
                "#B0BEC5",
                "#B0BEC5",
                "#B0BEC5",
                "#B0BEC5",
                "#B0BEC5",
                "#B0BEC5",
                "#B0BEC5",
                "#B0BEC5",
                "#B0BEC5",
                "#B0BEC5",
                "#B0BEC5",
                "#B0BEC5",
                "#B0BEC5",
                "#B0BEC5",
                "#B0BEC5",
                "#B0BEC5",
                "#B0BEC5",
                "#B0BEC5"
               ]
              ]
             }
            ],
            "label": "Topic 52",
            "method": "update"
           },
           {
            "args": [
             {
              "marker.color": [
               [
                "#B0BEC5",
                "#B0BEC5",
                "#B0BEC5",
                "#B0BEC5",
                "#B0BEC5",
                "#B0BEC5",
                "#B0BEC5",
                "#B0BEC5",
                "#B0BEC5",
                "#B0BEC5",
                "#B0BEC5",
                "#B0BEC5",
                "#B0BEC5",
                "#B0BEC5",
                "#B0BEC5",
                "#B0BEC5",
                "#B0BEC5",
                "#B0BEC5",
                "#B0BEC5",
                "#B0BEC5",
                "#B0BEC5",
                "#B0BEC5",
                "#B0BEC5",
                "#B0BEC5",
                "#B0BEC5",
                "#B0BEC5",
                "#B0BEC5",
                "#B0BEC5",
                "#B0BEC5",
                "#B0BEC5",
                "#B0BEC5",
                "#B0BEC5",
                "#B0BEC5",
                "#B0BEC5",
                "#B0BEC5",
                "#B0BEC5",
                "#B0BEC5",
                "#B0BEC5",
                "#B0BEC5",
                "#B0BEC5",
                "#B0BEC5",
                "#B0BEC5",
                "#B0BEC5",
                "#B0BEC5",
                "#B0BEC5",
                "#B0BEC5",
                "#B0BEC5",
                "#B0BEC5",
                "#B0BEC5",
                "#B0BEC5",
                "#B0BEC5",
                "#B0BEC5",
                "#B0BEC5",
                "red",
                "#B0BEC5",
                "#B0BEC5",
                "#B0BEC5",
                "#B0BEC5",
                "#B0BEC5",
                "#B0BEC5",
                "#B0BEC5",
                "#B0BEC5",
                "#B0BEC5",
                "#B0BEC5",
                "#B0BEC5",
                "#B0BEC5",
                "#B0BEC5",
                "#B0BEC5",
                "#B0BEC5",
                "#B0BEC5",
                "#B0BEC5",
                "#B0BEC5"
               ]
              ]
             }
            ],
            "label": "Topic 53",
            "method": "update"
           },
           {
            "args": [
             {
              "marker.color": [
               [
                "#B0BEC5",
                "#B0BEC5",
                "#B0BEC5",
                "#B0BEC5",
                "#B0BEC5",
                "#B0BEC5",
                "#B0BEC5",
                "#B0BEC5",
                "#B0BEC5",
                "#B0BEC5",
                "#B0BEC5",
                "#B0BEC5",
                "#B0BEC5",
                "#B0BEC5",
                "#B0BEC5",
                "#B0BEC5",
                "#B0BEC5",
                "#B0BEC5",
                "#B0BEC5",
                "#B0BEC5",
                "#B0BEC5",
                "#B0BEC5",
                "#B0BEC5",
                "#B0BEC5",
                "#B0BEC5",
                "#B0BEC5",
                "#B0BEC5",
                "#B0BEC5",
                "#B0BEC5",
                "#B0BEC5",
                "#B0BEC5",
                "#B0BEC5",
                "#B0BEC5",
                "#B0BEC5",
                "#B0BEC5",
                "#B0BEC5",
                "#B0BEC5",
                "#B0BEC5",
                "#B0BEC5",
                "#B0BEC5",
                "#B0BEC5",
                "#B0BEC5",
                "#B0BEC5",
                "#B0BEC5",
                "#B0BEC5",
                "#B0BEC5",
                "#B0BEC5",
                "#B0BEC5",
                "#B0BEC5",
                "#B0BEC5",
                "#B0BEC5",
                "#B0BEC5",
                "#B0BEC5",
                "#B0BEC5",
                "red",
                "#B0BEC5",
                "#B0BEC5",
                "#B0BEC5",
                "#B0BEC5",
                "#B0BEC5",
                "#B0BEC5",
                "#B0BEC5",
                "#B0BEC5",
                "#B0BEC5",
                "#B0BEC5",
                "#B0BEC5",
                "#B0BEC5",
                "#B0BEC5",
                "#B0BEC5",
                "#B0BEC5",
                "#B0BEC5",
                "#B0BEC5"
               ]
              ]
             }
            ],
            "label": "Topic 54",
            "method": "update"
           },
           {
            "args": [
             {
              "marker.color": [
               [
                "#B0BEC5",
                "#B0BEC5",
                "#B0BEC5",
                "#B0BEC5",
                "#B0BEC5",
                "#B0BEC5",
                "#B0BEC5",
                "#B0BEC5",
                "#B0BEC5",
                "#B0BEC5",
                "#B0BEC5",
                "#B0BEC5",
                "#B0BEC5",
                "#B0BEC5",
                "#B0BEC5",
                "#B0BEC5",
                "#B0BEC5",
                "#B0BEC5",
                "#B0BEC5",
                "#B0BEC5",
                "#B0BEC5",
                "#B0BEC5",
                "#B0BEC5",
                "#B0BEC5",
                "#B0BEC5",
                "#B0BEC5",
                "#B0BEC5",
                "#B0BEC5",
                "#B0BEC5",
                "#B0BEC5",
                "#B0BEC5",
                "#B0BEC5",
                "#B0BEC5",
                "#B0BEC5",
                "#B0BEC5",
                "#B0BEC5",
                "#B0BEC5",
                "#B0BEC5",
                "#B0BEC5",
                "#B0BEC5",
                "#B0BEC5",
                "#B0BEC5",
                "#B0BEC5",
                "#B0BEC5",
                "#B0BEC5",
                "#B0BEC5",
                "#B0BEC5",
                "#B0BEC5",
                "#B0BEC5",
                "#B0BEC5",
                "#B0BEC5",
                "#B0BEC5",
                "#B0BEC5",
                "#B0BEC5",
                "#B0BEC5",
                "red",
                "#B0BEC5",
                "#B0BEC5",
                "#B0BEC5",
                "#B0BEC5",
                "#B0BEC5",
                "#B0BEC5",
                "#B0BEC5",
                "#B0BEC5",
                "#B0BEC5",
                "#B0BEC5",
                "#B0BEC5",
                "#B0BEC5",
                "#B0BEC5",
                "#B0BEC5",
                "#B0BEC5",
                "#B0BEC5"
               ]
              ]
             }
            ],
            "label": "Topic 55",
            "method": "update"
           },
           {
            "args": [
             {
              "marker.color": [
               [
                "#B0BEC5",
                "#B0BEC5",
                "#B0BEC5",
                "#B0BEC5",
                "#B0BEC5",
                "#B0BEC5",
                "#B0BEC5",
                "#B0BEC5",
                "#B0BEC5",
                "#B0BEC5",
                "#B0BEC5",
                "#B0BEC5",
                "#B0BEC5",
                "#B0BEC5",
                "#B0BEC5",
                "#B0BEC5",
                "#B0BEC5",
                "#B0BEC5",
                "#B0BEC5",
                "#B0BEC5",
                "#B0BEC5",
                "#B0BEC5",
                "#B0BEC5",
                "#B0BEC5",
                "#B0BEC5",
                "#B0BEC5",
                "#B0BEC5",
                "#B0BEC5",
                "#B0BEC5",
                "#B0BEC5",
                "#B0BEC5",
                "#B0BEC5",
                "#B0BEC5",
                "#B0BEC5",
                "#B0BEC5",
                "#B0BEC5",
                "#B0BEC5",
                "#B0BEC5",
                "#B0BEC5",
                "#B0BEC5",
                "#B0BEC5",
                "#B0BEC5",
                "#B0BEC5",
                "#B0BEC5",
                "#B0BEC5",
                "#B0BEC5",
                "#B0BEC5",
                "#B0BEC5",
                "#B0BEC5",
                "#B0BEC5",
                "#B0BEC5",
                "#B0BEC5",
                "#B0BEC5",
                "#B0BEC5",
                "#B0BEC5",
                "#B0BEC5",
                "red",
                "#B0BEC5",
                "#B0BEC5",
                "#B0BEC5",
                "#B0BEC5",
                "#B0BEC5",
                "#B0BEC5",
                "#B0BEC5",
                "#B0BEC5",
                "#B0BEC5",
                "#B0BEC5",
                "#B0BEC5",
                "#B0BEC5",
                "#B0BEC5",
                "#B0BEC5",
                "#B0BEC5"
               ]
              ]
             }
            ],
            "label": "Topic 56",
            "method": "update"
           },
           {
            "args": [
             {
              "marker.color": [
               [
                "#B0BEC5",
                "#B0BEC5",
                "#B0BEC5",
                "#B0BEC5",
                "#B0BEC5",
                "#B0BEC5",
                "#B0BEC5",
                "#B0BEC5",
                "#B0BEC5",
                "#B0BEC5",
                "#B0BEC5",
                "#B0BEC5",
                "#B0BEC5",
                "#B0BEC5",
                "#B0BEC5",
                "#B0BEC5",
                "#B0BEC5",
                "#B0BEC5",
                "#B0BEC5",
                "#B0BEC5",
                "#B0BEC5",
                "#B0BEC5",
                "#B0BEC5",
                "#B0BEC5",
                "#B0BEC5",
                "#B0BEC5",
                "#B0BEC5",
                "#B0BEC5",
                "#B0BEC5",
                "#B0BEC5",
                "#B0BEC5",
                "#B0BEC5",
                "#B0BEC5",
                "#B0BEC5",
                "#B0BEC5",
                "#B0BEC5",
                "#B0BEC5",
                "#B0BEC5",
                "#B0BEC5",
                "#B0BEC5",
                "#B0BEC5",
                "#B0BEC5",
                "#B0BEC5",
                "#B0BEC5",
                "#B0BEC5",
                "#B0BEC5",
                "#B0BEC5",
                "#B0BEC5",
                "#B0BEC5",
                "#B0BEC5",
                "#B0BEC5",
                "#B0BEC5",
                "#B0BEC5",
                "#B0BEC5",
                "#B0BEC5",
                "#B0BEC5",
                "#B0BEC5",
                "red",
                "#B0BEC5",
                "#B0BEC5",
                "#B0BEC5",
                "#B0BEC5",
                "#B0BEC5",
                "#B0BEC5",
                "#B0BEC5",
                "#B0BEC5",
                "#B0BEC5",
                "#B0BEC5",
                "#B0BEC5",
                "#B0BEC5",
                "#B0BEC5",
                "#B0BEC5"
               ]
              ]
             }
            ],
            "label": "Topic 57",
            "method": "update"
           },
           {
            "args": [
             {
              "marker.color": [
               [
                "#B0BEC5",
                "#B0BEC5",
                "#B0BEC5",
                "#B0BEC5",
                "#B0BEC5",
                "#B0BEC5",
                "#B0BEC5",
                "#B0BEC5",
                "#B0BEC5",
                "#B0BEC5",
                "#B0BEC5",
                "#B0BEC5",
                "#B0BEC5",
                "#B0BEC5",
                "#B0BEC5",
                "#B0BEC5",
                "#B0BEC5",
                "#B0BEC5",
                "#B0BEC5",
                "#B0BEC5",
                "#B0BEC5",
                "#B0BEC5",
                "#B0BEC5",
                "#B0BEC5",
                "#B0BEC5",
                "#B0BEC5",
                "#B0BEC5",
                "#B0BEC5",
                "#B0BEC5",
                "#B0BEC5",
                "#B0BEC5",
                "#B0BEC5",
                "#B0BEC5",
                "#B0BEC5",
                "#B0BEC5",
                "#B0BEC5",
                "#B0BEC5",
                "#B0BEC5",
                "#B0BEC5",
                "#B0BEC5",
                "#B0BEC5",
                "#B0BEC5",
                "#B0BEC5",
                "#B0BEC5",
                "#B0BEC5",
                "#B0BEC5",
                "#B0BEC5",
                "#B0BEC5",
                "#B0BEC5",
                "#B0BEC5",
                "#B0BEC5",
                "#B0BEC5",
                "#B0BEC5",
                "#B0BEC5",
                "#B0BEC5",
                "#B0BEC5",
                "#B0BEC5",
                "#B0BEC5",
                "red",
                "#B0BEC5",
                "#B0BEC5",
                "#B0BEC5",
                "#B0BEC5",
                "#B0BEC5",
                "#B0BEC5",
                "#B0BEC5",
                "#B0BEC5",
                "#B0BEC5",
                "#B0BEC5",
                "#B0BEC5",
                "#B0BEC5",
                "#B0BEC5"
               ]
              ]
             }
            ],
            "label": "Topic 58",
            "method": "update"
           },
           {
            "args": [
             {
              "marker.color": [
               [
                "#B0BEC5",
                "#B0BEC5",
                "#B0BEC5",
                "#B0BEC5",
                "#B0BEC5",
                "#B0BEC5",
                "#B0BEC5",
                "#B0BEC5",
                "#B0BEC5",
                "#B0BEC5",
                "#B0BEC5",
                "#B0BEC5",
                "#B0BEC5",
                "#B0BEC5",
                "#B0BEC5",
                "#B0BEC5",
                "#B0BEC5",
                "#B0BEC5",
                "#B0BEC5",
                "#B0BEC5",
                "#B0BEC5",
                "#B0BEC5",
                "#B0BEC5",
                "#B0BEC5",
                "#B0BEC5",
                "#B0BEC5",
                "#B0BEC5",
                "#B0BEC5",
                "#B0BEC5",
                "#B0BEC5",
                "#B0BEC5",
                "#B0BEC5",
                "#B0BEC5",
                "#B0BEC5",
                "#B0BEC5",
                "#B0BEC5",
                "#B0BEC5",
                "#B0BEC5",
                "#B0BEC5",
                "#B0BEC5",
                "#B0BEC5",
                "#B0BEC5",
                "#B0BEC5",
                "#B0BEC5",
                "#B0BEC5",
                "#B0BEC5",
                "#B0BEC5",
                "#B0BEC5",
                "#B0BEC5",
                "#B0BEC5",
                "#B0BEC5",
                "#B0BEC5",
                "#B0BEC5",
                "#B0BEC5",
                "#B0BEC5",
                "#B0BEC5",
                "#B0BEC5",
                "#B0BEC5",
                "#B0BEC5",
                "red",
                "#B0BEC5",
                "#B0BEC5",
                "#B0BEC5",
                "#B0BEC5",
                "#B0BEC5",
                "#B0BEC5",
                "#B0BEC5",
                "#B0BEC5",
                "#B0BEC5",
                "#B0BEC5",
                "#B0BEC5",
                "#B0BEC5"
               ]
              ]
             }
            ],
            "label": "Topic 59",
            "method": "update"
           },
           {
            "args": [
             {
              "marker.color": [
               [
                "#B0BEC5",
                "#B0BEC5",
                "#B0BEC5",
                "#B0BEC5",
                "#B0BEC5",
                "#B0BEC5",
                "#B0BEC5",
                "#B0BEC5",
                "#B0BEC5",
                "#B0BEC5",
                "#B0BEC5",
                "#B0BEC5",
                "#B0BEC5",
                "#B0BEC5",
                "#B0BEC5",
                "#B0BEC5",
                "#B0BEC5",
                "#B0BEC5",
                "#B0BEC5",
                "#B0BEC5",
                "#B0BEC5",
                "#B0BEC5",
                "#B0BEC5",
                "#B0BEC5",
                "#B0BEC5",
                "#B0BEC5",
                "#B0BEC5",
                "#B0BEC5",
                "#B0BEC5",
                "#B0BEC5",
                "#B0BEC5",
                "#B0BEC5",
                "#B0BEC5",
                "#B0BEC5",
                "#B0BEC5",
                "#B0BEC5",
                "#B0BEC5",
                "#B0BEC5",
                "#B0BEC5",
                "#B0BEC5",
                "#B0BEC5",
                "#B0BEC5",
                "#B0BEC5",
                "#B0BEC5",
                "#B0BEC5",
                "#B0BEC5",
                "#B0BEC5",
                "#B0BEC5",
                "#B0BEC5",
                "#B0BEC5",
                "#B0BEC5",
                "#B0BEC5",
                "#B0BEC5",
                "#B0BEC5",
                "#B0BEC5",
                "#B0BEC5",
                "#B0BEC5",
                "#B0BEC5",
                "#B0BEC5",
                "#B0BEC5",
                "red",
                "#B0BEC5",
                "#B0BEC5",
                "#B0BEC5",
                "#B0BEC5",
                "#B0BEC5",
                "#B0BEC5",
                "#B0BEC5",
                "#B0BEC5",
                "#B0BEC5",
                "#B0BEC5",
                "#B0BEC5"
               ]
              ]
             }
            ],
            "label": "Topic 60",
            "method": "update"
           },
           {
            "args": [
             {
              "marker.color": [
               [
                "#B0BEC5",
                "#B0BEC5",
                "#B0BEC5",
                "#B0BEC5",
                "#B0BEC5",
                "#B0BEC5",
                "#B0BEC5",
                "#B0BEC5",
                "#B0BEC5",
                "#B0BEC5",
                "#B0BEC5",
                "#B0BEC5",
                "#B0BEC5",
                "#B0BEC5",
                "#B0BEC5",
                "#B0BEC5",
                "#B0BEC5",
                "#B0BEC5",
                "#B0BEC5",
                "#B0BEC5",
                "#B0BEC5",
                "#B0BEC5",
                "#B0BEC5",
                "#B0BEC5",
                "#B0BEC5",
                "#B0BEC5",
                "#B0BEC5",
                "#B0BEC5",
                "#B0BEC5",
                "#B0BEC5",
                "#B0BEC5",
                "#B0BEC5",
                "#B0BEC5",
                "#B0BEC5",
                "#B0BEC5",
                "#B0BEC5",
                "#B0BEC5",
                "#B0BEC5",
                "#B0BEC5",
                "#B0BEC5",
                "#B0BEC5",
                "#B0BEC5",
                "#B0BEC5",
                "#B0BEC5",
                "#B0BEC5",
                "#B0BEC5",
                "#B0BEC5",
                "#B0BEC5",
                "#B0BEC5",
                "#B0BEC5",
                "#B0BEC5",
                "#B0BEC5",
                "#B0BEC5",
                "#B0BEC5",
                "#B0BEC5",
                "#B0BEC5",
                "#B0BEC5",
                "#B0BEC5",
                "#B0BEC5",
                "#B0BEC5",
                "#B0BEC5",
                "red",
                "#B0BEC5",
                "#B0BEC5",
                "#B0BEC5",
                "#B0BEC5",
                "#B0BEC5",
                "#B0BEC5",
                "#B0BEC5",
                "#B0BEC5",
                "#B0BEC5",
                "#B0BEC5"
               ]
              ]
             }
            ],
            "label": "Topic 61",
            "method": "update"
           },
           {
            "args": [
             {
              "marker.color": [
               [
                "#B0BEC5",
                "#B0BEC5",
                "#B0BEC5",
                "#B0BEC5",
                "#B0BEC5",
                "#B0BEC5",
                "#B0BEC5",
                "#B0BEC5",
                "#B0BEC5",
                "#B0BEC5",
                "#B0BEC5",
                "#B0BEC5",
                "#B0BEC5",
                "#B0BEC5",
                "#B0BEC5",
                "#B0BEC5",
                "#B0BEC5",
                "#B0BEC5",
                "#B0BEC5",
                "#B0BEC5",
                "#B0BEC5",
                "#B0BEC5",
                "#B0BEC5",
                "#B0BEC5",
                "#B0BEC5",
                "#B0BEC5",
                "#B0BEC5",
                "#B0BEC5",
                "#B0BEC5",
                "#B0BEC5",
                "#B0BEC5",
                "#B0BEC5",
                "#B0BEC5",
                "#B0BEC5",
                "#B0BEC5",
                "#B0BEC5",
                "#B0BEC5",
                "#B0BEC5",
                "#B0BEC5",
                "#B0BEC5",
                "#B0BEC5",
                "#B0BEC5",
                "#B0BEC5",
                "#B0BEC5",
                "#B0BEC5",
                "#B0BEC5",
                "#B0BEC5",
                "#B0BEC5",
                "#B0BEC5",
                "#B0BEC5",
                "#B0BEC5",
                "#B0BEC5",
                "#B0BEC5",
                "#B0BEC5",
                "#B0BEC5",
                "#B0BEC5",
                "#B0BEC5",
                "#B0BEC5",
                "#B0BEC5",
                "#B0BEC5",
                "#B0BEC5",
                "#B0BEC5",
                "red",
                "#B0BEC5",
                "#B0BEC5",
                "#B0BEC5",
                "#B0BEC5",
                "#B0BEC5",
                "#B0BEC5",
                "#B0BEC5",
                "#B0BEC5",
                "#B0BEC5"
               ]
              ]
             }
            ],
            "label": "Topic 62",
            "method": "update"
           },
           {
            "args": [
             {
              "marker.color": [
               [
                "#B0BEC5",
                "#B0BEC5",
                "#B0BEC5",
                "#B0BEC5",
                "#B0BEC5",
                "#B0BEC5",
                "#B0BEC5",
                "#B0BEC5",
                "#B0BEC5",
                "#B0BEC5",
                "#B0BEC5",
                "#B0BEC5",
                "#B0BEC5",
                "#B0BEC5",
                "#B0BEC5",
                "#B0BEC5",
                "#B0BEC5",
                "#B0BEC5",
                "#B0BEC5",
                "#B0BEC5",
                "#B0BEC5",
                "#B0BEC5",
                "#B0BEC5",
                "#B0BEC5",
                "#B0BEC5",
                "#B0BEC5",
                "#B0BEC5",
                "#B0BEC5",
                "#B0BEC5",
                "#B0BEC5",
                "#B0BEC5",
                "#B0BEC5",
                "#B0BEC5",
                "#B0BEC5",
                "#B0BEC5",
                "#B0BEC5",
                "#B0BEC5",
                "#B0BEC5",
                "#B0BEC5",
                "#B0BEC5",
                "#B0BEC5",
                "#B0BEC5",
                "#B0BEC5",
                "#B0BEC5",
                "#B0BEC5",
                "#B0BEC5",
                "#B0BEC5",
                "#B0BEC5",
                "#B0BEC5",
                "#B0BEC5",
                "#B0BEC5",
                "#B0BEC5",
                "#B0BEC5",
                "#B0BEC5",
                "#B0BEC5",
                "#B0BEC5",
                "#B0BEC5",
                "#B0BEC5",
                "#B0BEC5",
                "#B0BEC5",
                "#B0BEC5",
                "#B0BEC5",
                "#B0BEC5",
                "red",
                "#B0BEC5",
                "#B0BEC5",
                "#B0BEC5",
                "#B0BEC5",
                "#B0BEC5",
                "#B0BEC5",
                "#B0BEC5",
                "#B0BEC5"
               ]
              ]
             }
            ],
            "label": "Topic 63",
            "method": "update"
           },
           {
            "args": [
             {
              "marker.color": [
               [
                "#B0BEC5",
                "#B0BEC5",
                "#B0BEC5",
                "#B0BEC5",
                "#B0BEC5",
                "#B0BEC5",
                "#B0BEC5",
                "#B0BEC5",
                "#B0BEC5",
                "#B0BEC5",
                "#B0BEC5",
                "#B0BEC5",
                "#B0BEC5",
                "#B0BEC5",
                "#B0BEC5",
                "#B0BEC5",
                "#B0BEC5",
                "#B0BEC5",
                "#B0BEC5",
                "#B0BEC5",
                "#B0BEC5",
                "#B0BEC5",
                "#B0BEC5",
                "#B0BEC5",
                "#B0BEC5",
                "#B0BEC5",
                "#B0BEC5",
                "#B0BEC5",
                "#B0BEC5",
                "#B0BEC5",
                "#B0BEC5",
                "#B0BEC5",
                "#B0BEC5",
                "#B0BEC5",
                "#B0BEC5",
                "#B0BEC5",
                "#B0BEC5",
                "#B0BEC5",
                "#B0BEC5",
                "#B0BEC5",
                "#B0BEC5",
                "#B0BEC5",
                "#B0BEC5",
                "#B0BEC5",
                "#B0BEC5",
                "#B0BEC5",
                "#B0BEC5",
                "#B0BEC5",
                "#B0BEC5",
                "#B0BEC5",
                "#B0BEC5",
                "#B0BEC5",
                "#B0BEC5",
                "#B0BEC5",
                "#B0BEC5",
                "#B0BEC5",
                "#B0BEC5",
                "#B0BEC5",
                "#B0BEC5",
                "#B0BEC5",
                "#B0BEC5",
                "#B0BEC5",
                "#B0BEC5",
                "#B0BEC5",
                "red",
                "#B0BEC5",
                "#B0BEC5",
                "#B0BEC5",
                "#B0BEC5",
                "#B0BEC5",
                "#B0BEC5",
                "#B0BEC5"
               ]
              ]
             }
            ],
            "label": "Topic 64",
            "method": "update"
           },
           {
            "args": [
             {
              "marker.color": [
               [
                "#B0BEC5",
                "#B0BEC5",
                "#B0BEC5",
                "#B0BEC5",
                "#B0BEC5",
                "#B0BEC5",
                "#B0BEC5",
                "#B0BEC5",
                "#B0BEC5",
                "#B0BEC5",
                "#B0BEC5",
                "#B0BEC5",
                "#B0BEC5",
                "#B0BEC5",
                "#B0BEC5",
                "#B0BEC5",
                "#B0BEC5",
                "#B0BEC5",
                "#B0BEC5",
                "#B0BEC5",
                "#B0BEC5",
                "#B0BEC5",
                "#B0BEC5",
                "#B0BEC5",
                "#B0BEC5",
                "#B0BEC5",
                "#B0BEC5",
                "#B0BEC5",
                "#B0BEC5",
                "#B0BEC5",
                "#B0BEC5",
                "#B0BEC5",
                "#B0BEC5",
                "#B0BEC5",
                "#B0BEC5",
                "#B0BEC5",
                "#B0BEC5",
                "#B0BEC5",
                "#B0BEC5",
                "#B0BEC5",
                "#B0BEC5",
                "#B0BEC5",
                "#B0BEC5",
                "#B0BEC5",
                "#B0BEC5",
                "#B0BEC5",
                "#B0BEC5",
                "#B0BEC5",
                "#B0BEC5",
                "#B0BEC5",
                "#B0BEC5",
                "#B0BEC5",
                "#B0BEC5",
                "#B0BEC5",
                "#B0BEC5",
                "#B0BEC5",
                "#B0BEC5",
                "#B0BEC5",
                "#B0BEC5",
                "#B0BEC5",
                "#B0BEC5",
                "#B0BEC5",
                "#B0BEC5",
                "#B0BEC5",
                "#B0BEC5",
                "red",
                "#B0BEC5",
                "#B0BEC5",
                "#B0BEC5",
                "#B0BEC5",
                "#B0BEC5",
                "#B0BEC5"
               ]
              ]
             }
            ],
            "label": "Topic 65",
            "method": "update"
           },
           {
            "args": [
             {
              "marker.color": [
               [
                "#B0BEC5",
                "#B0BEC5",
                "#B0BEC5",
                "#B0BEC5",
                "#B0BEC5",
                "#B0BEC5",
                "#B0BEC5",
                "#B0BEC5",
                "#B0BEC5",
                "#B0BEC5",
                "#B0BEC5",
                "#B0BEC5",
                "#B0BEC5",
                "#B0BEC5",
                "#B0BEC5",
                "#B0BEC5",
                "#B0BEC5",
                "#B0BEC5",
                "#B0BEC5",
                "#B0BEC5",
                "#B0BEC5",
                "#B0BEC5",
                "#B0BEC5",
                "#B0BEC5",
                "#B0BEC5",
                "#B0BEC5",
                "#B0BEC5",
                "#B0BEC5",
                "#B0BEC5",
                "#B0BEC5",
                "#B0BEC5",
                "#B0BEC5",
                "#B0BEC5",
                "#B0BEC5",
                "#B0BEC5",
                "#B0BEC5",
                "#B0BEC5",
                "#B0BEC5",
                "#B0BEC5",
                "#B0BEC5",
                "#B0BEC5",
                "#B0BEC5",
                "#B0BEC5",
                "#B0BEC5",
                "#B0BEC5",
                "#B0BEC5",
                "#B0BEC5",
                "#B0BEC5",
                "#B0BEC5",
                "#B0BEC5",
                "#B0BEC5",
                "#B0BEC5",
                "#B0BEC5",
                "#B0BEC5",
                "#B0BEC5",
                "#B0BEC5",
                "#B0BEC5",
                "#B0BEC5",
                "#B0BEC5",
                "#B0BEC5",
                "#B0BEC5",
                "#B0BEC5",
                "#B0BEC5",
                "#B0BEC5",
                "#B0BEC5",
                "#B0BEC5",
                "red",
                "#B0BEC5",
                "#B0BEC5",
                "#B0BEC5",
                "#B0BEC5",
                "#B0BEC5"
               ]
              ]
             }
            ],
            "label": "Topic 66",
            "method": "update"
           },
           {
            "args": [
             {
              "marker.color": [
               [
                "#B0BEC5",
                "#B0BEC5",
                "#B0BEC5",
                "#B0BEC5",
                "#B0BEC5",
                "#B0BEC5",
                "#B0BEC5",
                "#B0BEC5",
                "#B0BEC5",
                "#B0BEC5",
                "#B0BEC5",
                "#B0BEC5",
                "#B0BEC5",
                "#B0BEC5",
                "#B0BEC5",
                "#B0BEC5",
                "#B0BEC5",
                "#B0BEC5",
                "#B0BEC5",
                "#B0BEC5",
                "#B0BEC5",
                "#B0BEC5",
                "#B0BEC5",
                "#B0BEC5",
                "#B0BEC5",
                "#B0BEC5",
                "#B0BEC5",
                "#B0BEC5",
                "#B0BEC5",
                "#B0BEC5",
                "#B0BEC5",
                "#B0BEC5",
                "#B0BEC5",
                "#B0BEC5",
                "#B0BEC5",
                "#B0BEC5",
                "#B0BEC5",
                "#B0BEC5",
                "#B0BEC5",
                "#B0BEC5",
                "#B0BEC5",
                "#B0BEC5",
                "#B0BEC5",
                "#B0BEC5",
                "#B0BEC5",
                "#B0BEC5",
                "#B0BEC5",
                "#B0BEC5",
                "#B0BEC5",
                "#B0BEC5",
                "#B0BEC5",
                "#B0BEC5",
                "#B0BEC5",
                "#B0BEC5",
                "#B0BEC5",
                "#B0BEC5",
                "#B0BEC5",
                "#B0BEC5",
                "#B0BEC5",
                "#B0BEC5",
                "#B0BEC5",
                "#B0BEC5",
                "#B0BEC5",
                "#B0BEC5",
                "#B0BEC5",
                "#B0BEC5",
                "#B0BEC5",
                "red",
                "#B0BEC5",
                "#B0BEC5",
                "#B0BEC5",
                "#B0BEC5"
               ]
              ]
             }
            ],
            "label": "Topic 67",
            "method": "update"
           },
           {
            "args": [
             {
              "marker.color": [
               [
                "#B0BEC5",
                "#B0BEC5",
                "#B0BEC5",
                "#B0BEC5",
                "#B0BEC5",
                "#B0BEC5",
                "#B0BEC5",
                "#B0BEC5",
                "#B0BEC5",
                "#B0BEC5",
                "#B0BEC5",
                "#B0BEC5",
                "#B0BEC5",
                "#B0BEC5",
                "#B0BEC5",
                "#B0BEC5",
                "#B0BEC5",
                "#B0BEC5",
                "#B0BEC5",
                "#B0BEC5",
                "#B0BEC5",
                "#B0BEC5",
                "#B0BEC5",
                "#B0BEC5",
                "#B0BEC5",
                "#B0BEC5",
                "#B0BEC5",
                "#B0BEC5",
                "#B0BEC5",
                "#B0BEC5",
                "#B0BEC5",
                "#B0BEC5",
                "#B0BEC5",
                "#B0BEC5",
                "#B0BEC5",
                "#B0BEC5",
                "#B0BEC5",
                "#B0BEC5",
                "#B0BEC5",
                "#B0BEC5",
                "#B0BEC5",
                "#B0BEC5",
                "#B0BEC5",
                "#B0BEC5",
                "#B0BEC5",
                "#B0BEC5",
                "#B0BEC5",
                "#B0BEC5",
                "#B0BEC5",
                "#B0BEC5",
                "#B0BEC5",
                "#B0BEC5",
                "#B0BEC5",
                "#B0BEC5",
                "#B0BEC5",
                "#B0BEC5",
                "#B0BEC5",
                "#B0BEC5",
                "#B0BEC5",
                "#B0BEC5",
                "#B0BEC5",
                "#B0BEC5",
                "#B0BEC5",
                "#B0BEC5",
                "#B0BEC5",
                "#B0BEC5",
                "#B0BEC5",
                "#B0BEC5",
                "red",
                "#B0BEC5",
                "#B0BEC5",
                "#B0BEC5"
               ]
              ]
             }
            ],
            "label": "Topic 68",
            "method": "update"
           },
           {
            "args": [
             {
              "marker.color": [
               [
                "#B0BEC5",
                "#B0BEC5",
                "#B0BEC5",
                "#B0BEC5",
                "#B0BEC5",
                "#B0BEC5",
                "#B0BEC5",
                "#B0BEC5",
                "#B0BEC5",
                "#B0BEC5",
                "#B0BEC5",
                "#B0BEC5",
                "#B0BEC5",
                "#B0BEC5",
                "#B0BEC5",
                "#B0BEC5",
                "#B0BEC5",
                "#B0BEC5",
                "#B0BEC5",
                "#B0BEC5",
                "#B0BEC5",
                "#B0BEC5",
                "#B0BEC5",
                "#B0BEC5",
                "#B0BEC5",
                "#B0BEC5",
                "#B0BEC5",
                "#B0BEC5",
                "#B0BEC5",
                "#B0BEC5",
                "#B0BEC5",
                "#B0BEC5",
                "#B0BEC5",
                "#B0BEC5",
                "#B0BEC5",
                "#B0BEC5",
                "#B0BEC5",
                "#B0BEC5",
                "#B0BEC5",
                "#B0BEC5",
                "#B0BEC5",
                "#B0BEC5",
                "#B0BEC5",
                "#B0BEC5",
                "#B0BEC5",
                "#B0BEC5",
                "#B0BEC5",
                "#B0BEC5",
                "#B0BEC5",
                "#B0BEC5",
                "#B0BEC5",
                "#B0BEC5",
                "#B0BEC5",
                "#B0BEC5",
                "#B0BEC5",
                "#B0BEC5",
                "#B0BEC5",
                "#B0BEC5",
                "#B0BEC5",
                "#B0BEC5",
                "#B0BEC5",
                "#B0BEC5",
                "#B0BEC5",
                "#B0BEC5",
                "#B0BEC5",
                "#B0BEC5",
                "#B0BEC5",
                "#B0BEC5",
                "#B0BEC5",
                "red",
                "#B0BEC5",
                "#B0BEC5"
               ]
              ]
             }
            ],
            "label": "Topic 69",
            "method": "update"
           },
           {
            "args": [
             {
              "marker.color": [
               [
                "#B0BEC5",
                "#B0BEC5",
                "#B0BEC5",
                "#B0BEC5",
                "#B0BEC5",
                "#B0BEC5",
                "#B0BEC5",
                "#B0BEC5",
                "#B0BEC5",
                "#B0BEC5",
                "#B0BEC5",
                "#B0BEC5",
                "#B0BEC5",
                "#B0BEC5",
                "#B0BEC5",
                "#B0BEC5",
                "#B0BEC5",
                "#B0BEC5",
                "#B0BEC5",
                "#B0BEC5",
                "#B0BEC5",
                "#B0BEC5",
                "#B0BEC5",
                "#B0BEC5",
                "#B0BEC5",
                "#B0BEC5",
                "#B0BEC5",
                "#B0BEC5",
                "#B0BEC5",
                "#B0BEC5",
                "#B0BEC5",
                "#B0BEC5",
                "#B0BEC5",
                "#B0BEC5",
                "#B0BEC5",
                "#B0BEC5",
                "#B0BEC5",
                "#B0BEC5",
                "#B0BEC5",
                "#B0BEC5",
                "#B0BEC5",
                "#B0BEC5",
                "#B0BEC5",
                "#B0BEC5",
                "#B0BEC5",
                "#B0BEC5",
                "#B0BEC5",
                "#B0BEC5",
                "#B0BEC5",
                "#B0BEC5",
                "#B0BEC5",
                "#B0BEC5",
                "#B0BEC5",
                "#B0BEC5",
                "#B0BEC5",
                "#B0BEC5",
                "#B0BEC5",
                "#B0BEC5",
                "#B0BEC5",
                "#B0BEC5",
                "#B0BEC5",
                "#B0BEC5",
                "#B0BEC5",
                "#B0BEC5",
                "#B0BEC5",
                "#B0BEC5",
                "#B0BEC5",
                "#B0BEC5",
                "#B0BEC5",
                "#B0BEC5",
                "red",
                "#B0BEC5"
               ]
              ]
             }
            ],
            "label": "Topic 70",
            "method": "update"
           },
           {
            "args": [
             {
              "marker.color": [
               [
                "#B0BEC5",
                "#B0BEC5",
                "#B0BEC5",
                "#B0BEC5",
                "#B0BEC5",
                "#B0BEC5",
                "#B0BEC5",
                "#B0BEC5",
                "#B0BEC5",
                "#B0BEC5",
                "#B0BEC5",
                "#B0BEC5",
                "#B0BEC5",
                "#B0BEC5",
                "#B0BEC5",
                "#B0BEC5",
                "#B0BEC5",
                "#B0BEC5",
                "#B0BEC5",
                "#B0BEC5",
                "#B0BEC5",
                "#B0BEC5",
                "#B0BEC5",
                "#B0BEC5",
                "#B0BEC5",
                "#B0BEC5",
                "#B0BEC5",
                "#B0BEC5",
                "#B0BEC5",
                "#B0BEC5",
                "#B0BEC5",
                "#B0BEC5",
                "#B0BEC5",
                "#B0BEC5",
                "#B0BEC5",
                "#B0BEC5",
                "#B0BEC5",
                "#B0BEC5",
                "#B0BEC5",
                "#B0BEC5",
                "#B0BEC5",
                "#B0BEC5",
                "#B0BEC5",
                "#B0BEC5",
                "#B0BEC5",
                "#B0BEC5",
                "#B0BEC5",
                "#B0BEC5",
                "#B0BEC5",
                "#B0BEC5",
                "#B0BEC5",
                "#B0BEC5",
                "#B0BEC5",
                "#B0BEC5",
                "#B0BEC5",
                "#B0BEC5",
                "#B0BEC5",
                "#B0BEC5",
                "#B0BEC5",
                "#B0BEC5",
                "#B0BEC5",
                "#B0BEC5",
                "#B0BEC5",
                "#B0BEC5",
                "#B0BEC5",
                "#B0BEC5",
                "#B0BEC5",
                "#B0BEC5",
                "#B0BEC5",
                "#B0BEC5",
                "#B0BEC5",
                "red"
               ]
              ]
             }
            ],
            "label": "Topic 71",
            "method": "update"
           }
          ]
         }
        ],
        "template": {
         "data": {
          "bar": [
           {
            "error_x": {
             "color": "rgb(36,36,36)"
            },
            "error_y": {
             "color": "rgb(36,36,36)"
            },
            "marker": {
             "line": {
              "color": "white",
              "width": 0.5
             },
             "pattern": {
              "fillmode": "overlay",
              "size": 10,
              "solidity": 0.2
             }
            },
            "type": "bar"
           }
          ],
          "barpolar": [
           {
            "marker": {
             "line": {
              "color": "white",
              "width": 0.5
             },
             "pattern": {
              "fillmode": "overlay",
              "size": 10,
              "solidity": 0.2
             }
            },
            "type": "barpolar"
           }
          ],
          "carpet": [
           {
            "aaxis": {
             "endlinecolor": "rgb(36,36,36)",
             "gridcolor": "white",
             "linecolor": "white",
             "minorgridcolor": "white",
             "startlinecolor": "rgb(36,36,36)"
            },
            "baxis": {
             "endlinecolor": "rgb(36,36,36)",
             "gridcolor": "white",
             "linecolor": "white",
             "minorgridcolor": "white",
             "startlinecolor": "rgb(36,36,36)"
            },
            "type": "carpet"
           }
          ],
          "choropleth": [
           {
            "colorbar": {
             "outlinewidth": 1,
             "tickcolor": "rgb(36,36,36)",
             "ticks": "outside"
            },
            "type": "choropleth"
           }
          ],
          "contour": [
           {
            "colorbar": {
             "outlinewidth": 1,
             "tickcolor": "rgb(36,36,36)",
             "ticks": "outside"
            },
            "colorscale": [
             [
              0,
              "#440154"
             ],
             [
              0.1111111111111111,
              "#482878"
             ],
             [
              0.2222222222222222,
              "#3e4989"
             ],
             [
              0.3333333333333333,
              "#31688e"
             ],
             [
              0.4444444444444444,
              "#26828e"
             ],
             [
              0.5555555555555556,
              "#1f9e89"
             ],
             [
              0.6666666666666666,
              "#35b779"
             ],
             [
              0.7777777777777778,
              "#6ece58"
             ],
             [
              0.8888888888888888,
              "#b5de2b"
             ],
             [
              1,
              "#fde725"
             ]
            ],
            "type": "contour"
           }
          ],
          "contourcarpet": [
           {
            "colorbar": {
             "outlinewidth": 1,
             "tickcolor": "rgb(36,36,36)",
             "ticks": "outside"
            },
            "type": "contourcarpet"
           }
          ],
          "heatmap": [
           {
            "colorbar": {
             "outlinewidth": 1,
             "tickcolor": "rgb(36,36,36)",
             "ticks": "outside"
            },
            "colorscale": [
             [
              0,
              "#440154"
             ],
             [
              0.1111111111111111,
              "#482878"
             ],
             [
              0.2222222222222222,
              "#3e4989"
             ],
             [
              0.3333333333333333,
              "#31688e"
             ],
             [
              0.4444444444444444,
              "#26828e"
             ],
             [
              0.5555555555555556,
              "#1f9e89"
             ],
             [
              0.6666666666666666,
              "#35b779"
             ],
             [
              0.7777777777777778,
              "#6ece58"
             ],
             [
              0.8888888888888888,
              "#b5de2b"
             ],
             [
              1,
              "#fde725"
             ]
            ],
            "type": "heatmap"
           }
          ],
          "heatmapgl": [
           {
            "colorbar": {
             "outlinewidth": 1,
             "tickcolor": "rgb(36,36,36)",
             "ticks": "outside"
            },
            "colorscale": [
             [
              0,
              "#440154"
             ],
             [
              0.1111111111111111,
              "#482878"
             ],
             [
              0.2222222222222222,
              "#3e4989"
             ],
             [
              0.3333333333333333,
              "#31688e"
             ],
             [
              0.4444444444444444,
              "#26828e"
             ],
             [
              0.5555555555555556,
              "#1f9e89"
             ],
             [
              0.6666666666666666,
              "#35b779"
             ],
             [
              0.7777777777777778,
              "#6ece58"
             ],
             [
              0.8888888888888888,
              "#b5de2b"
             ],
             [
              1,
              "#fde725"
             ]
            ],
            "type": "heatmapgl"
           }
          ],
          "histogram": [
           {
            "marker": {
             "line": {
              "color": "white",
              "width": 0.6
             }
            },
            "type": "histogram"
           }
          ],
          "histogram2d": [
           {
            "colorbar": {
             "outlinewidth": 1,
             "tickcolor": "rgb(36,36,36)",
             "ticks": "outside"
            },
            "colorscale": [
             [
              0,
              "#440154"
             ],
             [
              0.1111111111111111,
              "#482878"
             ],
             [
              0.2222222222222222,
              "#3e4989"
             ],
             [
              0.3333333333333333,
              "#31688e"
             ],
             [
              0.4444444444444444,
              "#26828e"
             ],
             [
              0.5555555555555556,
              "#1f9e89"
             ],
             [
              0.6666666666666666,
              "#35b779"
             ],
             [
              0.7777777777777778,
              "#6ece58"
             ],
             [
              0.8888888888888888,
              "#b5de2b"
             ],
             [
              1,
              "#fde725"
             ]
            ],
            "type": "histogram2d"
           }
          ],
          "histogram2dcontour": [
           {
            "colorbar": {
             "outlinewidth": 1,
             "tickcolor": "rgb(36,36,36)",
             "ticks": "outside"
            },
            "colorscale": [
             [
              0,
              "#440154"
             ],
             [
              0.1111111111111111,
              "#482878"
             ],
             [
              0.2222222222222222,
              "#3e4989"
             ],
             [
              0.3333333333333333,
              "#31688e"
             ],
             [
              0.4444444444444444,
              "#26828e"
             ],
             [
              0.5555555555555556,
              "#1f9e89"
             ],
             [
              0.6666666666666666,
              "#35b779"
             ],
             [
              0.7777777777777778,
              "#6ece58"
             ],
             [
              0.8888888888888888,
              "#b5de2b"
             ],
             [
              1,
              "#fde725"
             ]
            ],
            "type": "histogram2dcontour"
           }
          ],
          "mesh3d": [
           {
            "colorbar": {
             "outlinewidth": 1,
             "tickcolor": "rgb(36,36,36)",
             "ticks": "outside"
            },
            "type": "mesh3d"
           }
          ],
          "parcoords": [
           {
            "line": {
             "colorbar": {
              "outlinewidth": 1,
              "tickcolor": "rgb(36,36,36)",
              "ticks": "outside"
             }
            },
            "type": "parcoords"
           }
          ],
          "pie": [
           {
            "automargin": true,
            "type": "pie"
           }
          ],
          "scatter": [
           {
            "fillpattern": {
             "fillmode": "overlay",
             "size": 10,
             "solidity": 0.2
            },
            "type": "scatter"
           }
          ],
          "scatter3d": [
           {
            "line": {
             "colorbar": {
              "outlinewidth": 1,
              "tickcolor": "rgb(36,36,36)",
              "ticks": "outside"
             }
            },
            "marker": {
             "colorbar": {
              "outlinewidth": 1,
              "tickcolor": "rgb(36,36,36)",
              "ticks": "outside"
             }
            },
            "type": "scatter3d"
           }
          ],
          "scattercarpet": [
           {
            "marker": {
             "colorbar": {
              "outlinewidth": 1,
              "tickcolor": "rgb(36,36,36)",
              "ticks": "outside"
             }
            },
            "type": "scattercarpet"
           }
          ],
          "scattergeo": [
           {
            "marker": {
             "colorbar": {
              "outlinewidth": 1,
              "tickcolor": "rgb(36,36,36)",
              "ticks": "outside"
             }
            },
            "type": "scattergeo"
           }
          ],
          "scattergl": [
           {
            "marker": {
             "colorbar": {
              "outlinewidth": 1,
              "tickcolor": "rgb(36,36,36)",
              "ticks": "outside"
             }
            },
            "type": "scattergl"
           }
          ],
          "scattermapbox": [
           {
            "marker": {
             "colorbar": {
              "outlinewidth": 1,
              "tickcolor": "rgb(36,36,36)",
              "ticks": "outside"
             }
            },
            "type": "scattermapbox"
           }
          ],
          "scatterpolar": [
           {
            "marker": {
             "colorbar": {
              "outlinewidth": 1,
              "tickcolor": "rgb(36,36,36)",
              "ticks": "outside"
             }
            },
            "type": "scatterpolar"
           }
          ],
          "scatterpolargl": [
           {
            "marker": {
             "colorbar": {
              "outlinewidth": 1,
              "tickcolor": "rgb(36,36,36)",
              "ticks": "outside"
             }
            },
            "type": "scatterpolargl"
           }
          ],
          "scatterternary": [
           {
            "marker": {
             "colorbar": {
              "outlinewidth": 1,
              "tickcolor": "rgb(36,36,36)",
              "ticks": "outside"
             }
            },
            "type": "scatterternary"
           }
          ],
          "surface": [
           {
            "colorbar": {
             "outlinewidth": 1,
             "tickcolor": "rgb(36,36,36)",
             "ticks": "outside"
            },
            "colorscale": [
             [
              0,
              "#440154"
             ],
             [
              0.1111111111111111,
              "#482878"
             ],
             [
              0.2222222222222222,
              "#3e4989"
             ],
             [
              0.3333333333333333,
              "#31688e"
             ],
             [
              0.4444444444444444,
              "#26828e"
             ],
             [
              0.5555555555555556,
              "#1f9e89"
             ],
             [
              0.6666666666666666,
              "#35b779"
             ],
             [
              0.7777777777777778,
              "#6ece58"
             ],
             [
              0.8888888888888888,
              "#b5de2b"
             ],
             [
              1,
              "#fde725"
             ]
            ],
            "type": "surface"
           }
          ],
          "table": [
           {
            "cells": {
             "fill": {
              "color": "rgb(237,237,237)"
             },
             "line": {
              "color": "white"
             }
            },
            "header": {
             "fill": {
              "color": "rgb(217,217,217)"
             },
             "line": {
              "color": "white"
             }
            },
            "type": "table"
           }
          ]
         },
         "layout": {
          "annotationdefaults": {
           "arrowhead": 0,
           "arrowwidth": 1
          },
          "autotypenumbers": "strict",
          "coloraxis": {
           "colorbar": {
            "outlinewidth": 1,
            "tickcolor": "rgb(36,36,36)",
            "ticks": "outside"
           }
          },
          "colorscale": {
           "diverging": [
            [
             0,
             "rgb(103,0,31)"
            ],
            [
             0.1,
             "rgb(178,24,43)"
            ],
            [
             0.2,
             "rgb(214,96,77)"
            ],
            [
             0.3,
             "rgb(244,165,130)"
            ],
            [
             0.4,
             "rgb(253,219,199)"
            ],
            [
             0.5,
             "rgb(247,247,247)"
            ],
            [
             0.6,
             "rgb(209,229,240)"
            ],
            [
             0.7,
             "rgb(146,197,222)"
            ],
            [
             0.8,
             "rgb(67,147,195)"
            ],
            [
             0.9,
             "rgb(33,102,172)"
            ],
            [
             1,
             "rgb(5,48,97)"
            ]
           ],
           "sequential": [
            [
             0,
             "#440154"
            ],
            [
             0.1111111111111111,
             "#482878"
            ],
            [
             0.2222222222222222,
             "#3e4989"
            ],
            [
             0.3333333333333333,
             "#31688e"
            ],
            [
             0.4444444444444444,
             "#26828e"
            ],
            [
             0.5555555555555556,
             "#1f9e89"
            ],
            [
             0.6666666666666666,
             "#35b779"
            ],
            [
             0.7777777777777778,
             "#6ece58"
            ],
            [
             0.8888888888888888,
             "#b5de2b"
            ],
            [
             1,
             "#fde725"
            ]
           ],
           "sequentialminus": [
            [
             0,
             "#440154"
            ],
            [
             0.1111111111111111,
             "#482878"
            ],
            [
             0.2222222222222222,
             "#3e4989"
            ],
            [
             0.3333333333333333,
             "#31688e"
            ],
            [
             0.4444444444444444,
             "#26828e"
            ],
            [
             0.5555555555555556,
             "#1f9e89"
            ],
            [
             0.6666666666666666,
             "#35b779"
            ],
            [
             0.7777777777777778,
             "#6ece58"
            ],
            [
             0.8888888888888888,
             "#b5de2b"
            ],
            [
             1,
             "#fde725"
            ]
           ]
          },
          "colorway": [
           "#1F77B4",
           "#FF7F0E",
           "#2CA02C",
           "#D62728",
           "#9467BD",
           "#8C564B",
           "#E377C2",
           "#7F7F7F",
           "#BCBD22",
           "#17BECF"
          ],
          "font": {
           "color": "rgb(36,36,36)"
          },
          "geo": {
           "bgcolor": "white",
           "lakecolor": "white",
           "landcolor": "white",
           "showlakes": true,
           "showland": true,
           "subunitcolor": "white"
          },
          "hoverlabel": {
           "align": "left"
          },
          "hovermode": "closest",
          "mapbox": {
           "style": "light"
          },
          "paper_bgcolor": "white",
          "plot_bgcolor": "white",
          "polar": {
           "angularaxis": {
            "gridcolor": "rgb(232,232,232)",
            "linecolor": "rgb(36,36,36)",
            "showgrid": false,
            "showline": true,
            "ticks": "outside"
           },
           "bgcolor": "white",
           "radialaxis": {
            "gridcolor": "rgb(232,232,232)",
            "linecolor": "rgb(36,36,36)",
            "showgrid": false,
            "showline": true,
            "ticks": "outside"
           }
          },
          "scene": {
           "xaxis": {
            "backgroundcolor": "white",
            "gridcolor": "rgb(232,232,232)",
            "gridwidth": 2,
            "linecolor": "rgb(36,36,36)",
            "showbackground": true,
            "showgrid": false,
            "showline": true,
            "ticks": "outside",
            "zeroline": false,
            "zerolinecolor": "rgb(36,36,36)"
           },
           "yaxis": {
            "backgroundcolor": "white",
            "gridcolor": "rgb(232,232,232)",
            "gridwidth": 2,
            "linecolor": "rgb(36,36,36)",
            "showbackground": true,
            "showgrid": false,
            "showline": true,
            "ticks": "outside",
            "zeroline": false,
            "zerolinecolor": "rgb(36,36,36)"
           },
           "zaxis": {
            "backgroundcolor": "white",
            "gridcolor": "rgb(232,232,232)",
            "gridwidth": 2,
            "linecolor": "rgb(36,36,36)",
            "showbackground": true,
            "showgrid": false,
            "showline": true,
            "ticks": "outside",
            "zeroline": false,
            "zerolinecolor": "rgb(36,36,36)"
           }
          },
          "shapedefaults": {
           "fillcolor": "black",
           "line": {
            "width": 0
           },
           "opacity": 0.3
          },
          "ternary": {
           "aaxis": {
            "gridcolor": "rgb(232,232,232)",
            "linecolor": "rgb(36,36,36)",
            "showgrid": false,
            "showline": true,
            "ticks": "outside"
           },
           "baxis": {
            "gridcolor": "rgb(232,232,232)",
            "linecolor": "rgb(36,36,36)",
            "showgrid": false,
            "showline": true,
            "ticks": "outside"
           },
           "bgcolor": "white",
           "caxis": {
            "gridcolor": "rgb(232,232,232)",
            "linecolor": "rgb(36,36,36)",
            "showgrid": false,
            "showline": true,
            "ticks": "outside"
           }
          },
          "title": {
           "x": 0.05
          },
          "xaxis": {
           "automargin": true,
           "gridcolor": "rgb(232,232,232)",
           "linecolor": "rgb(36,36,36)",
           "showgrid": false,
           "showline": true,
           "ticks": "outside",
           "title": {
            "standoff": 15
           },
           "zeroline": false,
           "zerolinecolor": "rgb(36,36,36)"
          },
          "yaxis": {
           "automargin": true,
           "gridcolor": "rgb(232,232,232)",
           "linecolor": "rgb(36,36,36)",
           "showgrid": false,
           "showline": true,
           "ticks": "outside",
           "title": {
            "standoff": 15
           },
           "zeroline": false,
           "zerolinecolor": "rgb(36,36,36)"
          }
         }
        },
        "title": {
         "font": {
          "color": "Black",
          "size": 22
         },
         "text": "<b>Intertopic Distance Map</b>",
         "x": 0.5,
         "xanchor": "center",
         "y": 0.95,
         "yanchor": "top"
        },
        "width": 650,
        "xaxis": {
         "anchor": "y",
         "domain": [
          0,
          1
         ],
         "range": [
          -18.110893297195435,
          19.41188497543335
         ],
         "title": {
          "text": ""
         },
         "visible": false
        },
        "yaxis": {
         "anchor": "x",
         "domain": [
          0,
          1
         ],
         "range": [
          -10.5829927444458,
          20.197809410095214
         ],
         "title": {
          "text": ""
         },
         "visible": false
        }
       }
      }
     },
     "metadata": {},
     "output_type": "display_data"
    }
   ],
   "source": [
    "# Optional: visualize\n",
    "fig_topic_distance_map = topic_model.visualize_topics()\n",
    "fig_topic_distance_map"
   ]
  },
  {
   "cell_type": "code",
   "execution_count": null,
   "id": "e03d25dd",
   "metadata": {},
   "outputs": [],
   "source": [
    "fig_topic_distance_map.write_html(\"../reports/figures/topic_distance_map.html\")"
   ]
  },
  {
   "cell_type": "code",
   "execution_count": 104,
   "id": "f275b225",
   "metadata": {},
   "outputs": [
    {
     "data": {
      "text/html": [
       "<div>\n",
       "<style scoped>\n",
       "    .dataframe tbody tr th:only-of-type {\n",
       "        vertical-align: middle;\n",
       "    }\n",
       "\n",
       "    .dataframe tbody tr th {\n",
       "        vertical-align: top;\n",
       "    }\n",
       "\n",
       "    .dataframe thead th {\n",
       "        text-align: right;\n",
       "    }\n",
       "</style>\n",
       "<table border=\"1\" class=\"dataframe\">\n",
       "  <thead>\n",
       "    <tr style=\"text-align: right;\">\n",
       "      <th></th>\n",
       "      <th>Topic</th>\n",
       "      <th>Count</th>\n",
       "      <th>Name</th>\n",
       "      <th>Representation</th>\n",
       "      <th>Representative_Docs</th>\n",
       "    </tr>\n",
       "  </thead>\n",
       "  <tbody>\n",
       "    <tr>\n",
       "      <th>0</th>\n",
       "      <td>-1</td>\n",
       "      <td>1212</td>\n",
       "      <td>-1_république_qu_loi_avez</td>\n",
       "      <td>[république, qu, loi, avez, contre, été, minis...</td>\n",
       "      <td>[J’entends vos protestations, chers collègues ...</td>\n",
       "    </tr>\n",
       "    <tr>\n",
       "      <th>1</th>\n",
       "      <td>0</td>\n",
       "      <td>188</td>\n",
       "      <td>0_étrangers_immigration_asile_intégration</td>\n",
       "      <td>[étrangers, immigration, asile, intégration, e...</td>\n",
       "      <td>[…redonnez du sens à une politique qui n’en a ...</td>\n",
       "    </tr>\n",
       "    <tr>\n",
       "      <th>2</th>\n",
       "      <td>1</td>\n",
       "      <td>152</td>\n",
       "      <td>1_élèves_école_éducation_enseignants</td>\n",
       "      <td>[élèves, école, éducation, enseignants, enseig...</td>\n",
       "      <td>[Merci, mesdames et messieurs les députés, de ...</td>\n",
       "    </tr>\n",
       "    <tr>\n",
       "      <th>3</th>\n",
       "      <td>2</td>\n",
       "      <td>122</td>\n",
       "      <td>2_république_sommes_valeurs_français</td>\n",
       "      <td>[république, sommes, valeurs, français, compro...</td>\n",
       "      <td>[Cette réalité nous invite tous, à la modestie...</td>\n",
       "    </tr>\n",
       "    <tr>\n",
       "      <th>4</th>\n",
       "      <td>3</td>\n",
       "      <td>116</td>\n",
       "      <td>3_laïcité_école_élèves_uniforme</td>\n",
       "      <td>[laïcité, école, élèves, uniforme, religieux, ...</td>\n",
       "      <td>[…qui enseignent des matières fondamentales te...</td>\n",
       "    </tr>\n",
       "    <tr>\n",
       "      <th>5</th>\n",
       "      <td>4</td>\n",
       "      <td>81</td>\n",
       "      <td>4_49_ve_censure_assemblée</td>\n",
       "      <td>[49, ve, censure, assemblée, majorité, finance...</td>\n",
       "      <td>[Cinq 49.3 en un peu moins de sept semaines, c...</td>\n",
       "    </tr>\n",
       "    <tr>\n",
       "      <th>6</th>\n",
       "      <td>5</td>\n",
       "      <td>77</td>\n",
       "      <td>5_santé_soins_hôpital_médecins</td>\n",
       "      <td>[santé, soins, hôpital, médecins, soignants, s...</td>\n",
       "      <td>[Personne n’ignore la situation catastrophique...</td>\n",
       "    </tr>\n",
       "    <tr>\n",
       "      <th>7</th>\n",
       "      <td>6</td>\n",
       "      <td>74</td>\n",
       "      <td>6_mer_territoires_ultramarins_prix</td>\n",
       "      <td>[mer, territoires, ultramarins, prix, eau, hex...</td>\n",
       "      <td>[Or la République refuse l’assignation à résid...</td>\n",
       "    </tr>\n",
       "    <tr>\n",
       "      <th>8</th>\n",
       "      <td>7</td>\n",
       "      <td>64</td>\n",
       "      <td>7_antisémitisme_israël_haine_antisémites</td>\n",
       "      <td>[antisémitisme, israël, haine, antisémites, ju...</td>\n",
       "      <td>[Après la Shoah, on pensait que la bête avait ...</td>\n",
       "    </tr>\n",
       "    <tr>\n",
       "      <th>9</th>\n",
       "      <td>8</td>\n",
       "      <td>59</td>\n",
       "      <td>8_policiers_ordre_gendarmes_police</td>\n",
       "      <td>[policiers, ordre, gendarmes, police, forces, ...</td>\n",
       "      <td>[Monsieur Taverne, vous avez rappelé avec rais...</td>\n",
       "    </tr>\n",
       "    <tr>\n",
       "      <th>10</th>\n",
       "      <td>9</td>\n",
       "      <td>58</td>\n",
       "      <td>9_élus_maires_maire_locaux</td>\n",
       "      <td>[élus, maires, maire, locaux, élu, violences, ...</td>\n",
       "      <td>[Je sais, comme beaucoup d’entre vous, ce que ...</td>\n",
       "    </tr>\n",
       "    <tr>\n",
       "      <th>11</th>\n",
       "      <td>10</td>\n",
       "      <td>54</td>\n",
       "      <td>10_drapeau_mairies_européen_tricolore</td>\n",
       "      <td>[drapeau, mairies, européen, tricolore, pavois...</td>\n",
       "      <td>[Seul l’usage et la tradition y sont pris en c...</td>\n",
       "    </tr>\n",
       "    <tr>\n",
       "      <th>12</th>\n",
       "      <td>11</td>\n",
       "      <td>52</td>\n",
       "      <td>11_armées_lpm_militaire_programmation</td>\n",
       "      <td>[armées, lpm, militaire, programmation, défens...</td>\n",
       "      <td>[La fin de la période d’exécution de la LPM es...</td>\n",
       "    </tr>\n",
       "    <tr>\n",
       "      <th>13</th>\n",
       "      <td>12</td>\n",
       "      <td>51</td>\n",
       "      <td>12_calédonie_nouvelle_calédoniens_accord</td>\n",
       "      <td>[calédonie, nouvelle, calédoniens, accord, nou...</td>\n",
       "      <td>[Cela fait désormais cent soixante et onze ans...</td>\n",
       "    </tr>\n",
       "    <tr>\n",
       "      <th>14</th>\n",
       "      <td>13</td>\n",
       "      <td>50</td>\n",
       "      <td>13_logement_logements_locataires_abri</td>\n",
       "      <td>[logement, logements, locataires, abri, domici...</td>\n",
       "      <td>[Estimant que la mesure ne va pas assez loin, ...</td>\n",
       "    </tr>\n",
       "    <tr>\n",
       "      <th>15</th>\n",
       "      <td>14</td>\n",
       "      <td>48</td>\n",
       "      <td>14_collectivités_communes_locales_finances</td>\n",
       "      <td>[collectivités, communes, locales, finances, d...</td>\n",
       "      <td>[Nos collectivités sont les racines de la Répu...</td>\n",
       "    </tr>\n",
       "    <tr>\n",
       "      <th>16</th>\n",
       "      <td>15</td>\n",
       "      <td>48</td>\n",
       "      <td>15_scientifique_écologique_climatique_énergie</td>\n",
       "      <td>[scientifique, écologique, climatique, énergie...</td>\n",
       "      <td>[Pour commencer, je veux remercier le groupe S...</td>\n",
       "    </tr>\n",
       "    <tr>\n",
       "      <th>17</th>\n",
       "      <td>16</td>\n",
       "      <td>45</td>\n",
       "      <td>16_républicain_république_iiie_ordre</td>\n",
       "      <td>[républicain, république, iiie, ordre, barrage...</td>\n",
       "      <td>[…et le respect de l’ordre républicain., Ce n’...</td>\n",
       "    </tr>\n",
       "    <tr>\n",
       "      <th>18</th>\n",
       "      <td>17</td>\n",
       "      <td>42</td>\n",
       "      <td>17_texte_remercie_proposition_loi</td>\n",
       "      <td>[texte, remercie, proposition, loi, amendement...</td>\n",
       "      <td>[C’est avec beaucoup d’émotion que je m’adress...</td>\n",
       "    </tr>\n",
       "    <tr>\n",
       "      <th>19</th>\n",
       "      <td>18</td>\n",
       "      <td>40</td>\n",
       "      <td>18_extrême_droite_terrorisme_groupuscules</td>\n",
       "      <td>[extrême, droite, terrorisme, groupuscules, ul...</td>\n",
       "      <td>[Aucun gouvernement n’avait fait autant que ce...</td>\n",
       "    </tr>\n",
       "  </tbody>\n",
       "</table>\n",
       "</div>"
      ],
      "text/plain": [
       "    Topic  Count                                           Name  \\\n",
       "0      -1   1212                      -1_république_qu_loi_avez   \n",
       "1       0    188      0_étrangers_immigration_asile_intégration   \n",
       "2       1    152           1_élèves_école_éducation_enseignants   \n",
       "3       2    122           2_république_sommes_valeurs_français   \n",
       "4       3    116                3_laïcité_école_élèves_uniforme   \n",
       "5       4     81                      4_49_ve_censure_assemblée   \n",
       "6       5     77                 5_santé_soins_hôpital_médecins   \n",
       "7       6     74             6_mer_territoires_ultramarins_prix   \n",
       "8       7     64       7_antisémitisme_israël_haine_antisémites   \n",
       "9       8     59             8_policiers_ordre_gendarmes_police   \n",
       "10      9     58                     9_élus_maires_maire_locaux   \n",
       "11     10     54          10_drapeau_mairies_européen_tricolore   \n",
       "12     11     52          11_armées_lpm_militaire_programmation   \n",
       "13     12     51       12_calédonie_nouvelle_calédoniens_accord   \n",
       "14     13     50          13_logement_logements_locataires_abri   \n",
       "15     14     48     14_collectivités_communes_locales_finances   \n",
       "16     15     48  15_scientifique_écologique_climatique_énergie   \n",
       "17     16     45           16_républicain_république_iiie_ordre   \n",
       "18     17     42              17_texte_remercie_proposition_loi   \n",
       "19     18     40      18_extrême_droite_terrorisme_groupuscules   \n",
       "\n",
       "                                       Representation  \\\n",
       "0   [république, qu, loi, avez, contre, été, minis...   \n",
       "1   [étrangers, immigration, asile, intégration, e...   \n",
       "2   [élèves, école, éducation, enseignants, enseig...   \n",
       "3   [république, sommes, valeurs, français, compro...   \n",
       "4   [laïcité, école, élèves, uniforme, religieux, ...   \n",
       "5   [49, ve, censure, assemblée, majorité, finance...   \n",
       "6   [santé, soins, hôpital, médecins, soignants, s...   \n",
       "7   [mer, territoires, ultramarins, prix, eau, hex...   \n",
       "8   [antisémitisme, israël, haine, antisémites, ju...   \n",
       "9   [policiers, ordre, gendarmes, police, forces, ...   \n",
       "10  [élus, maires, maire, locaux, élu, violences, ...   \n",
       "11  [drapeau, mairies, européen, tricolore, pavois...   \n",
       "12  [armées, lpm, militaire, programmation, défens...   \n",
       "13  [calédonie, nouvelle, calédoniens, accord, nou...   \n",
       "14  [logement, logements, locataires, abri, domici...   \n",
       "15  [collectivités, communes, locales, finances, d...   \n",
       "16  [scientifique, écologique, climatique, énergie...   \n",
       "17  [républicain, république, iiie, ordre, barrage...   \n",
       "18  [texte, remercie, proposition, loi, amendement...   \n",
       "19  [extrême, droite, terrorisme, groupuscules, ul...   \n",
       "\n",
       "                                  Representative_Docs  \n",
       "0   [J’entends vos protestations, chers collègues ...  \n",
       "1   […redonnez du sens à une politique qui n’en a ...  \n",
       "2   [Merci, mesdames et messieurs les députés, de ...  \n",
       "3   [Cette réalité nous invite tous, à la modestie...  \n",
       "4   […qui enseignent des matières fondamentales te...  \n",
       "5   [Cinq 49.3 en un peu moins de sept semaines, c...  \n",
       "6   [Personne n’ignore la situation catastrophique...  \n",
       "7   [Or la République refuse l’assignation à résid...  \n",
       "8   [Après la Shoah, on pensait que la bête avait ...  \n",
       "9   [Monsieur Taverne, vous avez rappelé avec rais...  \n",
       "10  [Je sais, comme beaucoup d’entre vous, ce que ...  \n",
       "11  [Seul l’usage et la tradition y sont pris en c...  \n",
       "12  [La fin de la période d’exécution de la LPM es...  \n",
       "13  [Cela fait désormais cent soixante et onze ans...  \n",
       "14  [Estimant que la mesure ne va pas assez loin, ...  \n",
       "15  [Nos collectivités sont les racines de la Répu...  \n",
       "16  [Pour commencer, je veux remercier le groupe S...  \n",
       "17  […et le respect de l’ordre républicain., Ce n’...  \n",
       "18  [C’est avec beaucoup d’émotion que je m’adress...  \n",
       "19  [Aucun gouvernement n’avait fait autant que ce...  "
      ]
     },
     "execution_count": 104,
     "metadata": {},
     "output_type": "execute_result"
    }
   ],
   "source": [
    "table_topic = topic_model.get_topic_info()\n",
    "table_topic[:20]"
   ]
  },
  {
   "cell_type": "code",
   "execution_count": 103,
   "id": "7b655f6a",
   "metadata": {},
   "outputs": [],
   "source": [
    "table_topic.to_csv(\"../data/interim/table_topics.csv\", index=False)"
   ]
  },
  {
   "cell_type": "code",
   "execution_count": 97,
   "id": "32e4108e",
   "metadata": {},
   "outputs": [],
   "source": [
    "df[\"Topic\"] = topics"
   ]
  },
  {
   "cell_type": "code",
   "execution_count": null,
   "id": "34a6aca7",
   "metadata": {},
   "outputs": [],
   "source": [
    "import csv\n",
    "\n",
    "df.to_csv(\"../data/interim/df_repu_with_topics.csv\", index=False, quoting=csv.QUOTE_ALL)"
   ]
  },
  {
   "cell_type": "markdown",
   "id": "fe14e503",
   "metadata": {},
   "source": [
    "## Dynamic topic model"
   ]
  },
  {
   "cell_type": "markdown",
   "id": "f654946a",
   "metadata": {},
   "source": [
    "* `global_tuning`\n",
    "  * Whether to average the topic representation of a topic at time *t* with its global topic representation\n",
    "* `evolution_tuning`\n",
    "  * Whether to average the topic representation of a topic at time *t* with the topic representation of that topic at time *t-1*\n",
    "* `nr_bins`\n",
    "  * The number of bins to put our timestamps into. It is computationally inefficient to extract the topics at thousands of different timestamps. Therefore, it is advised to keep this value below 20.\n"
   ]
  },
  {
   "cell_type": "code",
   "execution_count": 30,
   "id": "b8e773fa",
   "metadata": {},
   "outputs": [],
   "source": [
    "topics_over_time = topic_model.topics_over_time(\n",
    "    docs=df[\"Texte_clean\"],\n",
    "    timestamps=df[\"DateSeance_ts\"],\n",
    "    global_tuning=True,\n",
    "    evolution_tuning=True,\n",
    "    nr_bins=20,\n",
    ")"
   ]
  },
  {
   "cell_type": "code",
   "execution_count": null,
   "id": "721ecaad",
   "metadata": {},
   "outputs": [
    {
     "data": {
      "application/vnd.plotly.v1+json": {
       "config": {
        "plotlyServerURL": "https://plot.ly"
       },
       "data": [
        {
         "hoverinfo": "text",
         "hovertext": [
          "<b>Topic 0</b><br>Words: présenterez, présence, programmation, renforcer, courageuse",
          "<b>Topic 0</b><br>Words: asile, étrangers, immigration, droit, 234",
          "<b>Topic 0</b><br>Words: étrangers, expulsion, immigration, intégration, asile",
          "<b>Topic 0</b><br>Words: étrangers, immigration, séjour, rétention, intégration",
          "<b>Topic 0</b><br>Words: immigration, clandestine, face, contre, flux",
          "<b>Topic 0</b><br>Words: binationaux, français, étrangers, frontières, asile",
          "<b>Topic 0</b><br>Words: mineurs, protégeons, rechange, requièrent, étrangers",
          "<b>Topic 0</b><br>Words: serons, débarrassé, fraternels, gouvernementaux, portable",
          "<b>Topic 0</b><br>Words: étrangers, immigration, attentat, retirer, devons",
          "<b>Topic 0</b><br>Words: asile, immigration, étrangers, france, intégration",
          "<b>Topic 0</b><br>Words: étrangers, immigration, droit, irrégulière, texte",
          "<b>Topic 0</b><br>Words: mna, évaluation, étrangers, fichier, séjour",
          "<b>Topic 0</b><br>Words: asile, immigration, pacte, étrangers, européenne"
         ],
         "marker": {
          "color": "#E69F00"
         },
         "mode": "lines",
         "name": "0_étrangers_immigration_asile_intégratio...",
         "type": "scatter",
         "x": [
          "2022-07-05T22:09:07.200000",
          "2022-10-19T22:12:00",
          "2022-11-24T00:36:00",
          "2023-02-02T05:24:00",
          "2023-03-09T07:48:00",
          "2023-05-18T12:36:00",
          "2023-06-22T15:00:00",
          "2023-08-31T19:48:00",
          "2023-10-05T22:12:00",
          "2023-11-10T00:36:00",
          "2023-12-15T03:00:00",
          "2024-02-23T07:48:00",
          "2024-05-03T12:36:00"
         ],
         "y": [
          1,
          10,
          53,
          13,
          5,
          5,
          7,
          1,
          2,
          60,
          17,
          7,
          7
         ]
        },
        {
         "hoverinfo": "text",
         "hovertext": [
          "<b>Topic 1</b><br>Words: école, rentrée, concours, élèves, éducation",
          "<b>Topic 1</b><br>Words: évoquiez, entourent, fragilités, élèves, méritent",
          "<b>Topic 1</b><br>Words: reconquête, élèves, classes, éducation, lycéens",
          "<b>Topic 1</b><br>Words: bricoler, ascenseur, séquence, secondaire, suppressions",
          "<b>Topic 1</b><br>Words: élèves, école, éducation, scolaire, enseignants",
          "<b>Topic 1</b><br>Words: école, élèves, classes, éducation, enfants",
          "<b>Topic 1</b><br>Words: élèves, école, éducation, enseignants, enseignement",
          "<b>Topic 1</b><br>Words: élèves, école, professionnel, enseignement, éducation",
          "<b>Topic 1</b><br>Words: ensa, architectes, enseignants, étudiants, élèves",
          "<b>Topic 1</b><br>Words: maltraitée, abandonne, école, assisterez, notablement",
          "<b>Topic 1</b><br>Words: promesse, élèves, école, savoirs, choc",
          "<b>Topic 1</b><br>Words: école, élèves, éducation, budget, professeurs",
          "<b>Topic 1</b><br>Words: école, éducation, élèves, professionnel, enseignement",
          "<b>Topic 1</b><br>Words: école, éducation, ministre, élèves, êtes",
          "<b>Topic 1</b><br>Words: école, élèves, enseignants, éducation, écoles",
          "<b>Topic 1</b><br>Words: élèves, école, éducation, inégalités, scolaire",
          "<b>Topic 1</b><br>Words: élèves, école, éducation, moyens, scolaire",
          "<b>Topic 1</b><br>Words: élèves, école, classes, enseignement, rentrée"
         ],
         "marker": {
          "color": "#56B4E9"
         },
         "mode": "lines",
         "name": "1_élèves_école_éducation_enseignants",
         "type": "scatter",
         "x": [
          "2022-07-05T22:09:07.200000",
          "2022-09-14T19:48:00",
          "2022-10-19T22:12:00",
          "2022-11-24T00:36:00",
          "2022-12-29T03:00:00",
          "2023-02-02T05:24:00",
          "2023-03-09T07:48:00",
          "2023-04-13T10:12:00",
          "2023-05-18T12:36:00",
          "2023-06-22T15:00:00",
          "2023-08-31T19:48:00",
          "2023-10-05T22:12:00",
          "2023-11-10T00:36:00",
          "2023-12-15T03:00:00",
          "2024-01-19T05:24:00",
          "2024-02-23T07:48:00",
          "2024-03-29T10:12:00",
          "2024-05-03T12:36:00"
         ],
         "y": [
          5,
          1,
          6,
          1,
          24,
          7,
          15,
          6,
          2,
          4,
          3,
          16,
          7,
          10,
          16,
          15,
          6,
          8
         ]
        },
        {
         "hoverinfo": "text",
         "hovertext": [
          "<b>Topic 2</b><br>Words: français, sommes, compromis, république, pays",
          "<b>Topic 2</b><br>Words: paritarisme, inhérente, prenions, mondiales, tiktok",
          "<b>Topic 2</b><br>Words: constructif, boussole, ministre, français, attendent",
          "<b>Topic 2</b><br>Words: convictions, fut, ici, honneur, donateurs",
          "<b>Topic 2</b><br>Words: idée, réagit, jacobins, occupaient, tabula",
          "<b>Topic 2</b><br>Words: respectez, parlons, imprégnées, rétroactive, corde",
          "<b>Topic 2</b><br>Words: valeurs, égalité, éternellement, principes, républicaines",
          "<b>Topic 2</b><br>Words: bonnes, évoqué, démocratie, républicain, adéquats",
          "<b>Topic 2</b><br>Words: 2002, collègues, grandeur, vive, républicaine",
          "<b>Topic 2</b><br>Words: redonnant, mener, bâcler, fêter, actualiser",
          "<b>Topic 2</b><br>Words: coïncider, destructrice, gardiens, souverain, patrie",
          "<b>Topic 2</b><br>Words: textes, yeux, républicains, élémentaires, valeurs",
          "<b>Topic 2</b><br>Words: textes, humanistes, sommes, république, arc",
          "<b>Topic 2</b><br>Words: valeurs, république, textes, sommes, fraternité",
          "<b>Topic 2</b><br>Words: prêts, résonnent, côté, œuvrer, pays",
          "<b>Topic 2</b><br>Words: veut, vote, institutionnellement, diviser, regarde",
          "<b>Topic 2</b><br>Words: parole, démocratie, progrès, considérerai, descendez"
         ],
         "marker": {
          "color": "#009E73"
         },
         "mode": "lines",
         "name": "2_république_sommes_valeurs_français",
         "type": "scatter",
         "x": [
          "2022-07-05T22:09:07.200000",
          "2022-09-14T19:48:00",
          "2022-10-19T22:12:00",
          "2022-11-24T00:36:00",
          "2022-12-29T03:00:00",
          "2023-02-02T05:24:00",
          "2023-03-09T07:48:00",
          "2023-04-13T10:12:00",
          "2023-05-18T12:36:00",
          "2023-06-22T15:00:00",
          "2023-08-31T19:48:00",
          "2023-10-05T22:12:00",
          "2023-11-10T00:36:00",
          "2023-12-15T03:00:00",
          "2024-01-19T05:24:00",
          "2024-02-23T07:48:00",
          "2024-05-03T12:36:00"
         ],
         "y": [
          15,
          5,
          6,
          2,
          1,
          5,
          12,
          5,
          8,
          7,
          2,
          11,
          12,
          18,
          8,
          1,
          4
         ]
        },
        {
         "hoverinfo": "text",
         "hovertext": [
          "<b>Topic 3</b><br>Words: laïcité, religieux, bâtiments, bénis, turbulences",
          "<b>Topic 3</b><br>Words: laïcité, religieux, vêtements, signalements, 2004",
          "<b>Topic 3</b><br>Words: laïcité, enseignants, adolescents, offensive, sérieusement",
          "<b>Topic 3</b><br>Words: laïcité, élèves, dialogue, sanction, protection",
          "<b>Topic 3</b><br>Words: uniforme, école, laïcité, élèves, tenue",
          "<b>Topic 3</b><br>Words: laïcité, atteintes, personnels, voûte, croire",
          "<b>Topic 3</b><br>Words: laïcité, éducation, école, ramadan, fichage",
          "<b>Topic 3</b><br>Words: enseignants, école, laïcité, dégoûter, sécurité",
          "<b>Topic 3</b><br>Words: école, laïcité, abaya, issou, religion",
          "<b>Topic 3</b><br>Words: laïcité, école, élèves, neutralité, parents",
          "<b>Topic 3</b><br>Words: matière, laïcité, notions, établissement, veillerai",
          "<b>Topic 3</b><br>Words: laïcité, école, fac, po, sciences",
          "<b>Topic 3</b><br>Words: laïcité, école, qamis, actions, fille",
          "<b>Topic 3</b><br>Words: laïcité, religieux, 1905, école, cultes"
         ],
         "marker": {
          "color": "#F0E442"
         },
         "mode": "lines",
         "name": "3_laïcité_école_élèves_uniforme",
         "type": "scatter",
         "x": [
          "2022-07-05T22:09:07.200000",
          "2022-09-14T19:48:00",
          "2022-10-19T22:12:00",
          "2022-11-24T00:36:00",
          "2022-12-29T03:00:00",
          "2023-03-09T07:48:00",
          "2023-05-18T12:36:00",
          "2023-10-05T22:12:00",
          "2023-11-10T00:36:00",
          "2023-12-15T03:00:00",
          "2024-01-19T05:24:00",
          "2024-02-23T07:48:00",
          "2024-03-29T10:12:00",
          "2024-05-03T12:36:00"
         ],
         "y": [
          2,
          5,
          4,
          2,
          30,
          6,
          7,
          3,
          6,
          10,
          4,
          7,
          5,
          25
         ]
        },
        {
         "hoverinfo": "text",
         "hovertext": [
          "<b>Topic 4</b><br>Words: décidez, rejettera, refaites, impartial, tombent",
          "<b>Topic 4</b><br>Words: majorité, marchandage, 49, ve, groupes",
          "<b>Topic 4</b><br>Words: 49, finances, voter, démocratie, motions",
          "<b>Topic 4</b><br>Words: 49, ve, censure, assemblée, parlementaire",
          "<b>Topic 4</b><br>Words: directive, directives, 49, ordonnance, transposer",
          "<b>Topic 4</b><br>Words: ve, majorité, présidente, règlement, assemblée",
          "<b>Topic 4</b><br>Words: cosigné, bascule, assisté, instants, qualifier",
          "<b>Topic 4</b><br>Words: précises, contrôle, tentons, restez, flou",
          "<b>Topic 4</b><br>Words: 49, assemblée, constitution, ve, fois",
          "<b>Topic 4</b><br>Words: demander, 49, utiliser, censure, destitution",
          "<b>Topic 4</b><br>Words: 49, ve, majorité, finances, censure",
          "<b>Topic 4</b><br>Words: 49, méprisez, force, censure, textes",
          "<b>Topic 4</b><br>Words: 49, censure, ve, borne, refusé",
          "<b>Topic 4</b><br>Words: inconstitutionnel, réintroduisant, article, persister, sciemment",
          "<b>Topic 4</b><br>Words: ceta, assemblée, 49, ratification, transmettre"
         ],
         "marker": {
          "color": "#D55E00"
         },
         "mode": "lines",
         "name": "4_49_ve_censure_assemblée",
         "type": "scatter",
         "x": [
          "2022-07-05T22:09:07.200000",
          "2022-09-14T19:48:00",
          "2022-10-19T22:12:00",
          "2022-11-24T00:36:00",
          "2022-12-29T03:00:00",
          "2023-02-02T05:24:00",
          "2023-03-09T07:48:00",
          "2023-04-13T10:12:00",
          "2023-05-18T12:36:00",
          "2023-08-31T19:48:00",
          "2023-10-05T22:12:00",
          "2023-11-10T00:36:00",
          "2023-12-15T03:00:00",
          "2024-01-19T05:24:00",
          "2024-05-03T12:36:00"
         ],
         "y": [
          2,
          3,
          4,
          20,
          1,
          8,
          1,
          1,
          15,
          3,
          9,
          4,
          5,
          1,
          4
         ]
        },
        {
         "hoverinfo": "text",
         "hovertext": [
          "<b>Topic 5</b><br>Words: santé, trésorerie, hôpital, construire, confusion",
          "<b>Topic 5</b><br>Words: santé, soins, hôpital, médecins, système",
          "<b>Topic 5</b><br>Words: santé, hôpital, soins, soignants, urgences",
          "<b>Topic 5</b><br>Words: soins, santé, accès, direct, ipa",
          "<b>Topic 5</b><br>Words: médecins, vieillir, soins, santé, sarthe",
          "<b>Topic 5</b><br>Words: hôpital, santé, soins, soignants, public",
          "<b>Topic 5</b><br>Words: soins, santé, médecins, professionnels, régulation",
          "<b>Topic 5</b><br>Words: psy, hospitalières, structure, soins, unités",
          "<b>Topic 5</b><br>Words: santé, soins, plfss, hôpital, ehpad",
          "<b>Topic 5</b><br>Words: soins, santé, palliatifs, système, hôpital",
          "<b>Topic 5</b><br>Words: soins, santé, médecins, soignants, urgences",
          "<b>Topic 5</b><br>Words: santé, soins, patients, médicament, médecin",
          "<b>Topic 5</b><br>Words: casse, provoquez, menaçant, invitons, attaquant",
          "<b>Topic 5</b><br>Words: palliatifs, soins, santé, mourir, liberté"
         ],
         "marker": {
          "color": "#0072B2"
         },
         "mode": "lines",
         "name": "5_santé_soins_hôpital_médecins",
         "type": "scatter",
         "x": [
          "2022-07-05T22:09:07.200000",
          "2022-10-19T22:12:00",
          "2022-11-24T00:36:00",
          "2022-12-29T03:00:00",
          "2023-03-09T07:48:00",
          "2023-04-13T10:12:00",
          "2023-05-18T12:36:00",
          "2023-06-22T15:00:00",
          "2023-10-05T22:12:00",
          "2023-11-10T00:36:00",
          "2024-01-19T05:24:00",
          "2024-02-23T07:48:00",
          "2024-03-29T10:12:00",
          "2024-05-03T12:36:00"
         ],
         "y": [
          3,
          5,
          11,
          1,
          2,
          7,
          11,
          2,
          7,
          8,
          4,
          3,
          1,
          12
         ]
        },
        {
         "hoverinfo": "text",
         "hovertext": [
          "<b>Topic 6</b><br>Words: mer, électricité, tarifs, territoires, mayotte",
          "<b>Topic 6</b><br>Words: mer, territoires, serva, pauvreté, circonstanciées",
          "<b>Topic 6</b><br>Words: mer, territoires, ultramarins, eau, mayotte",
          "<b>Topic 6</b><br>Words: mer, territoires, manque, parte, containers",
          "<b>Topic 6</b><br>Words: mer, eau, territoires, prix, ultramarins",
          "<b>Topic 6</b><br>Words: mer, territoires, prix, vie, enquête",
          "<b>Topic 6</b><br>Words: misère, territoires, particulière, mer, programmé",
          "<b>Topic 6</b><br>Words: air, mer, prix, partagerait, ourdi",
          "<b>Topic 6</b><br>Words: mer, continuité, territoriale, ultramarins, territoires",
          "<b>Topic 6</b><br>Words: mer, territoires, guyane, retard, belfort",
          "<b>Topic 6</b><br>Words: eau, mer, mayotte, territoires, ultramarins",
          "<b>Topic 6</b><br>Words: mer, territoires, eau, potable, ultramarins",
          "<b>Topic 6</b><br>Words: mer, territoires, risques, naturels, ultramarins",
          "<b>Topic 6</b><br>Words: chlordécone, territoires, guadeloupe, guadeloupéens, martinique",
          "<b>Topic 6</b><br>Words: mer, réalités, singularités, ultramarins, davy"
         ],
         "marker": {
          "color": "#CC79A7"
         },
         "mode": "lines",
         "name": "6_mer_territoires_ultramarins_prix",
         "type": "scatter",
         "x": [
          "2022-07-05T22:09:07.200000",
          "2022-09-14T19:48:00",
          "2022-10-19T22:12:00",
          "2022-11-24T00:36:00",
          "2022-12-29T03:00:00",
          "2023-02-02T05:24:00",
          "2023-03-09T07:48:00",
          "2023-04-13T10:12:00",
          "2023-05-18T12:36:00",
          "2023-06-22T15:00:00",
          "2023-08-31T19:48:00",
          "2023-10-05T22:12:00",
          "2023-11-10T00:36:00",
          "2024-02-23T07:48:00",
          "2024-05-03T12:36:00"
         ],
         "y": [
          7,
          2,
          8,
          2,
          6,
          8,
          1,
          1,
          13,
          3,
          5,
          6,
          5,
          4,
          3
         ]
        },
        {
         "hoverinfo": "text",
         "hovertext": [
          "<b>Topic 7</b><br>Words: antisémitisme, prendre, habib, dépêches, authentiques",
          "<b>Topic 7</b><br>Words: bathily, lassana, hypercacher, fauche, quitterait",
          "<b>Topic 7</b><br>Words: antisémitisme, lieux, renoncé, antisémites, insultes",
          "<b>Topic 7</b><br>Words: israël, antisémitisme, accuse, gauche, apartheid",
          "<b>Topic 7</b><br>Words: masques, gauchisme, tombent, islamo, comportement",
          "<b>Topic 7</b><br>Words: antisémitisme, dimanche, bolloré, journalistes, propos",
          "<b>Topic 7</b><br>Words: antisémitisme, israël, antisémites, juive, juifs",
          "<b>Topic 7</b><br>Words: antisémitisme, hamas, juive, israël, contre",
          "<b>Topic 7</b><br>Words: université, antisémitisme, haine, juifs, hamas",
          "<b>Topic 7</b><br>Words: antisémitisme, haine, racisme, antisémites, antisémite",
          "<b>Topic 7</b><br>Words: gauchisme, islamo, camerone, 161e, lfistes",
          "<b>Topic 7</b><br>Words: incendie, antisémites, rouen, juive, antisémite"
         ],
         "marker": {
          "color": "#E69F00"
         },
         "mode": "lines",
         "name": "7_antisémitisme_israël_haine_antisémites",
         "type": "scatter",
         "x": [
          "2022-07-05T22:09:07.200000",
          "2022-11-24T00:36:00",
          "2022-12-29T03:00:00",
          "2023-04-13T10:12:00",
          "2023-05-18T12:36:00",
          "2023-06-22T15:00:00",
          "2023-10-05T22:12:00",
          "2023-11-10T00:36:00",
          "2024-01-19T05:24:00",
          "2024-02-23T07:48:00",
          "2024-03-29T10:12:00",
          "2024-05-03T12:36:00"
         ],
         "y": [
          2,
          1,
          1,
          6,
          1,
          1,
          23,
          9,
          2,
          14,
          1,
          3
         ]
        },
        {
         "hoverinfo": "text",
         "hovertext": [
          "<b>Topic 8</b><br>Words: police, défilons, chiffres, haut, pancartes",
          "<b>Topic 8</b><br>Words: policiers, ordre, manifestants, gendarmes, police",
          "<b>Topic 8</b><br>Words: aimons, police, contrairement, républicaine, policiers",
          "<b>Topic 8</b><br>Words: policiers, barbares, devriez, marseillaises, siégez",
          "<b>Topic 8</b><br>Words: policiers, forces, gendarmes, ordre, insultés",
          "<b>Topic 8</b><br>Words: policiers, gauche, gendarmes, passé, manifestation",
          "<b>Topic 8</b><br>Words: policiers, ordre, manifester, forces, gendarmes",
          "<b>Topic 8</b><br>Words: douanes, antipolice, antidouanes, assumez, transmettre",
          "<b>Topic 8</b><br>Words: policiers, gendarmes, police, ordre, policier",
          "<b>Topic 8</b><br>Words: vomissez, antirépublicains, accusez, longueur, gardiens",
          "<b>Topic 8</b><br>Words: ordre, litige, qualifiez, tarn, désarmer",
          "<b>Topic 8</b><br>Words: obtempérer, ordre, jeune, courneuve, rétablissent"
         ],
         "marker": {
          "color": "#56B4E9"
         },
         "mode": "lines",
         "name": "8_policiers_ordre_gendarmes_police",
         "type": "scatter",
         "x": [
          "2022-07-05T22:09:07.200000",
          "2022-10-19T22:12:00",
          "2022-11-24T00:36:00",
          "2022-12-29T03:00:00",
          "2023-02-02T05:24:00",
          "2023-03-09T07:48:00",
          "2023-04-13T10:12:00",
          "2023-05-18T12:36:00",
          "2023-06-22T15:00:00",
          "2023-08-31T19:48:00",
          "2023-10-05T22:12:00",
          "2024-02-23T07:48:00"
         ],
         "y": [
          2,
          8,
          1,
          1,
          3,
          7,
          18,
          1,
          14,
          1,
          2,
          1
         ]
        },
        {
         "hoverinfo": "text",
         "hovertext": [
          "<b>Topic 9</b><br>Words: delattre, élus, nathalie, auteure, agresse",
          "<b>Topic 9</b><br>Words: violences, condamné, légitimité, intrafamiliales, élu",
          "<b>Topic 9</b><br>Words: élus, maire, maires, brevin, locaux",
          "<b>Topic 9</b><br>Words: interrogation, amoindrit, trouver, vivier, incompatibilité",
          "<b>Topic 9</b><br>Words: élus, violences, pompiers, maires, doublé",
          "<b>Topic 9</b><br>Words: maire, maires, commune, élus, outrages",
          "<b>Topic 9</b><br>Words: élus, maires, locaux, maire, protection",
          "<b>Topic 9</b><br>Words: élus, maires, locaux, élu, maire",
          "<b>Topic 9</b><br>Words: élus, maires, locaux, élu, violences"
         ],
         "marker": {
          "color": "#009E73"
         },
         "mode": "lines",
         "name": "9_élus_maires_maire_locaux",
         "type": "scatter",
         "x": [
          "2022-12-29T03:00:00",
          "2023-02-02T05:24:00",
          "2023-04-13T10:12:00",
          "2023-05-18T12:36:00",
          "2023-06-22T15:00:00",
          "2023-10-05T22:12:00",
          "2023-11-10T00:36:00",
          "2024-01-19T05:24:00",
          "2024-02-23T07:48:00"
         ],
         "y": [
          1,
          1,
          12,
          2,
          4,
          3,
          7,
          20,
          8
         ]
        }
       ],
       "layout": {
        "height": 450,
        "hoverlabel": {
         "bgcolor": "white",
         "font": {
          "family": "Rockwell",
          "size": 16
         }
        },
        "legend": {
         "title": {
          "text": "<b>Global Topic Representation"
         }
        },
        "template": {
         "data": {
          "bar": [
           {
            "error_x": {
             "color": "rgb(36,36,36)"
            },
            "error_y": {
             "color": "rgb(36,36,36)"
            },
            "marker": {
             "line": {
              "color": "white",
              "width": 0.5
             },
             "pattern": {
              "fillmode": "overlay",
              "size": 10,
              "solidity": 0.2
             }
            },
            "type": "bar"
           }
          ],
          "barpolar": [
           {
            "marker": {
             "line": {
              "color": "white",
              "width": 0.5
             },
             "pattern": {
              "fillmode": "overlay",
              "size": 10,
              "solidity": 0.2
             }
            },
            "type": "barpolar"
           }
          ],
          "carpet": [
           {
            "aaxis": {
             "endlinecolor": "rgb(36,36,36)",
             "gridcolor": "white",
             "linecolor": "white",
             "minorgridcolor": "white",
             "startlinecolor": "rgb(36,36,36)"
            },
            "baxis": {
             "endlinecolor": "rgb(36,36,36)",
             "gridcolor": "white",
             "linecolor": "white",
             "minorgridcolor": "white",
             "startlinecolor": "rgb(36,36,36)"
            },
            "type": "carpet"
           }
          ],
          "choropleth": [
           {
            "colorbar": {
             "outlinewidth": 1,
             "tickcolor": "rgb(36,36,36)",
             "ticks": "outside"
            },
            "type": "choropleth"
           }
          ],
          "contour": [
           {
            "colorbar": {
             "outlinewidth": 1,
             "tickcolor": "rgb(36,36,36)",
             "ticks": "outside"
            },
            "colorscale": [
             [
              0,
              "#440154"
             ],
             [
              0.1111111111111111,
              "#482878"
             ],
             [
              0.2222222222222222,
              "#3e4989"
             ],
             [
              0.3333333333333333,
              "#31688e"
             ],
             [
              0.4444444444444444,
              "#26828e"
             ],
             [
              0.5555555555555556,
              "#1f9e89"
             ],
             [
              0.6666666666666666,
              "#35b779"
             ],
             [
              0.7777777777777778,
              "#6ece58"
             ],
             [
              0.8888888888888888,
              "#b5de2b"
             ],
             [
              1,
              "#fde725"
             ]
            ],
            "type": "contour"
           }
          ],
          "contourcarpet": [
           {
            "colorbar": {
             "outlinewidth": 1,
             "tickcolor": "rgb(36,36,36)",
             "ticks": "outside"
            },
            "type": "contourcarpet"
           }
          ],
          "heatmap": [
           {
            "colorbar": {
             "outlinewidth": 1,
             "tickcolor": "rgb(36,36,36)",
             "ticks": "outside"
            },
            "colorscale": [
             [
              0,
              "#440154"
             ],
             [
              0.1111111111111111,
              "#482878"
             ],
             [
              0.2222222222222222,
              "#3e4989"
             ],
             [
              0.3333333333333333,
              "#31688e"
             ],
             [
              0.4444444444444444,
              "#26828e"
             ],
             [
              0.5555555555555556,
              "#1f9e89"
             ],
             [
              0.6666666666666666,
              "#35b779"
             ],
             [
              0.7777777777777778,
              "#6ece58"
             ],
             [
              0.8888888888888888,
              "#b5de2b"
             ],
             [
              1,
              "#fde725"
             ]
            ],
            "type": "heatmap"
           }
          ],
          "heatmapgl": [
           {
            "colorbar": {
             "outlinewidth": 1,
             "tickcolor": "rgb(36,36,36)",
             "ticks": "outside"
            },
            "colorscale": [
             [
              0,
              "#440154"
             ],
             [
              0.1111111111111111,
              "#482878"
             ],
             [
              0.2222222222222222,
              "#3e4989"
             ],
             [
              0.3333333333333333,
              "#31688e"
             ],
             [
              0.4444444444444444,
              "#26828e"
             ],
             [
              0.5555555555555556,
              "#1f9e89"
             ],
             [
              0.6666666666666666,
              "#35b779"
             ],
             [
              0.7777777777777778,
              "#6ece58"
             ],
             [
              0.8888888888888888,
              "#b5de2b"
             ],
             [
              1,
              "#fde725"
             ]
            ],
            "type": "heatmapgl"
           }
          ],
          "histogram": [
           {
            "marker": {
             "line": {
              "color": "white",
              "width": 0.6
             }
            },
            "type": "histogram"
           }
          ],
          "histogram2d": [
           {
            "colorbar": {
             "outlinewidth": 1,
             "tickcolor": "rgb(36,36,36)",
             "ticks": "outside"
            },
            "colorscale": [
             [
              0,
              "#440154"
             ],
             [
              0.1111111111111111,
              "#482878"
             ],
             [
              0.2222222222222222,
              "#3e4989"
             ],
             [
              0.3333333333333333,
              "#31688e"
             ],
             [
              0.4444444444444444,
              "#26828e"
             ],
             [
              0.5555555555555556,
              "#1f9e89"
             ],
             [
              0.6666666666666666,
              "#35b779"
             ],
             [
              0.7777777777777778,
              "#6ece58"
             ],
             [
              0.8888888888888888,
              "#b5de2b"
             ],
             [
              1,
              "#fde725"
             ]
            ],
            "type": "histogram2d"
           }
          ],
          "histogram2dcontour": [
           {
            "colorbar": {
             "outlinewidth": 1,
             "tickcolor": "rgb(36,36,36)",
             "ticks": "outside"
            },
            "colorscale": [
             [
              0,
              "#440154"
             ],
             [
              0.1111111111111111,
              "#482878"
             ],
             [
              0.2222222222222222,
              "#3e4989"
             ],
             [
              0.3333333333333333,
              "#31688e"
             ],
             [
              0.4444444444444444,
              "#26828e"
             ],
             [
              0.5555555555555556,
              "#1f9e89"
             ],
             [
              0.6666666666666666,
              "#35b779"
             ],
             [
              0.7777777777777778,
              "#6ece58"
             ],
             [
              0.8888888888888888,
              "#b5de2b"
             ],
             [
              1,
              "#fde725"
             ]
            ],
            "type": "histogram2dcontour"
           }
          ],
          "mesh3d": [
           {
            "colorbar": {
             "outlinewidth": 1,
             "tickcolor": "rgb(36,36,36)",
             "ticks": "outside"
            },
            "type": "mesh3d"
           }
          ],
          "parcoords": [
           {
            "line": {
             "colorbar": {
              "outlinewidth": 1,
              "tickcolor": "rgb(36,36,36)",
              "ticks": "outside"
             }
            },
            "type": "parcoords"
           }
          ],
          "pie": [
           {
            "automargin": true,
            "type": "pie"
           }
          ],
          "scatter": [
           {
            "fillpattern": {
             "fillmode": "overlay",
             "size": 10,
             "solidity": 0.2
            },
            "type": "scatter"
           }
          ],
          "scatter3d": [
           {
            "line": {
             "colorbar": {
              "outlinewidth": 1,
              "tickcolor": "rgb(36,36,36)",
              "ticks": "outside"
             }
            },
            "marker": {
             "colorbar": {
              "outlinewidth": 1,
              "tickcolor": "rgb(36,36,36)",
              "ticks": "outside"
             }
            },
            "type": "scatter3d"
           }
          ],
          "scattercarpet": [
           {
            "marker": {
             "colorbar": {
              "outlinewidth": 1,
              "tickcolor": "rgb(36,36,36)",
              "ticks": "outside"
             }
            },
            "type": "scattercarpet"
           }
          ],
          "scattergeo": [
           {
            "marker": {
             "colorbar": {
              "outlinewidth": 1,
              "tickcolor": "rgb(36,36,36)",
              "ticks": "outside"
             }
            },
            "type": "scattergeo"
           }
          ],
          "scattergl": [
           {
            "marker": {
             "colorbar": {
              "outlinewidth": 1,
              "tickcolor": "rgb(36,36,36)",
              "ticks": "outside"
             }
            },
            "type": "scattergl"
           }
          ],
          "scattermapbox": [
           {
            "marker": {
             "colorbar": {
              "outlinewidth": 1,
              "tickcolor": "rgb(36,36,36)",
              "ticks": "outside"
             }
            },
            "type": "scattermapbox"
           }
          ],
          "scatterpolar": [
           {
            "marker": {
             "colorbar": {
              "outlinewidth": 1,
              "tickcolor": "rgb(36,36,36)",
              "ticks": "outside"
             }
            },
            "type": "scatterpolar"
           }
          ],
          "scatterpolargl": [
           {
            "marker": {
             "colorbar": {
              "outlinewidth": 1,
              "tickcolor": "rgb(36,36,36)",
              "ticks": "outside"
             }
            },
            "type": "scatterpolargl"
           }
          ],
          "scatterternary": [
           {
            "marker": {
             "colorbar": {
              "outlinewidth": 1,
              "tickcolor": "rgb(36,36,36)",
              "ticks": "outside"
             }
            },
            "type": "scatterternary"
           }
          ],
          "surface": [
           {
            "colorbar": {
             "outlinewidth": 1,
             "tickcolor": "rgb(36,36,36)",
             "ticks": "outside"
            },
            "colorscale": [
             [
              0,
              "#440154"
             ],
             [
              0.1111111111111111,
              "#482878"
             ],
             [
              0.2222222222222222,
              "#3e4989"
             ],
             [
              0.3333333333333333,
              "#31688e"
             ],
             [
              0.4444444444444444,
              "#26828e"
             ],
             [
              0.5555555555555556,
              "#1f9e89"
             ],
             [
              0.6666666666666666,
              "#35b779"
             ],
             [
              0.7777777777777778,
              "#6ece58"
             ],
             [
              0.8888888888888888,
              "#b5de2b"
             ],
             [
              1,
              "#fde725"
             ]
            ],
            "type": "surface"
           }
          ],
          "table": [
           {
            "cells": {
             "fill": {
              "color": "rgb(237,237,237)"
             },
             "line": {
              "color": "white"
             }
            },
            "header": {
             "fill": {
              "color": "rgb(217,217,217)"
             },
             "line": {
              "color": "white"
             }
            },
            "type": "table"
           }
          ]
         },
         "layout": {
          "annotationdefaults": {
           "arrowhead": 0,
           "arrowwidth": 1
          },
          "autotypenumbers": "strict",
          "coloraxis": {
           "colorbar": {
            "outlinewidth": 1,
            "tickcolor": "rgb(36,36,36)",
            "ticks": "outside"
           }
          },
          "colorscale": {
           "diverging": [
            [
             0,
             "rgb(103,0,31)"
            ],
            [
             0.1,
             "rgb(178,24,43)"
            ],
            [
             0.2,
             "rgb(214,96,77)"
            ],
            [
             0.3,
             "rgb(244,165,130)"
            ],
            [
             0.4,
             "rgb(253,219,199)"
            ],
            [
             0.5,
             "rgb(247,247,247)"
            ],
            [
             0.6,
             "rgb(209,229,240)"
            ],
            [
             0.7,
             "rgb(146,197,222)"
            ],
            [
             0.8,
             "rgb(67,147,195)"
            ],
            [
             0.9,
             "rgb(33,102,172)"
            ],
            [
             1,
             "rgb(5,48,97)"
            ]
           ],
           "sequential": [
            [
             0,
             "#440154"
            ],
            [
             0.1111111111111111,
             "#482878"
            ],
            [
             0.2222222222222222,
             "#3e4989"
            ],
            [
             0.3333333333333333,
             "#31688e"
            ],
            [
             0.4444444444444444,
             "#26828e"
            ],
            [
             0.5555555555555556,
             "#1f9e89"
            ],
            [
             0.6666666666666666,
             "#35b779"
            ],
            [
             0.7777777777777778,
             "#6ece58"
            ],
            [
             0.8888888888888888,
             "#b5de2b"
            ],
            [
             1,
             "#fde725"
            ]
           ],
           "sequentialminus": [
            [
             0,
             "#440154"
            ],
            [
             0.1111111111111111,
             "#482878"
            ],
            [
             0.2222222222222222,
             "#3e4989"
            ],
            [
             0.3333333333333333,
             "#31688e"
            ],
            [
             0.4444444444444444,
             "#26828e"
            ],
            [
             0.5555555555555556,
             "#1f9e89"
            ],
            [
             0.6666666666666666,
             "#35b779"
            ],
            [
             0.7777777777777778,
             "#6ece58"
            ],
            [
             0.8888888888888888,
             "#b5de2b"
            ],
            [
             1,
             "#fde725"
            ]
           ]
          },
          "colorway": [
           "#1F77B4",
           "#FF7F0E",
           "#2CA02C",
           "#D62728",
           "#9467BD",
           "#8C564B",
           "#E377C2",
           "#7F7F7F",
           "#BCBD22",
           "#17BECF"
          ],
          "font": {
           "color": "rgb(36,36,36)"
          },
          "geo": {
           "bgcolor": "white",
           "lakecolor": "white",
           "landcolor": "white",
           "showlakes": true,
           "showland": true,
           "subunitcolor": "white"
          },
          "hoverlabel": {
           "align": "left"
          },
          "hovermode": "closest",
          "mapbox": {
           "style": "light"
          },
          "paper_bgcolor": "white",
          "plot_bgcolor": "white",
          "polar": {
           "angularaxis": {
            "gridcolor": "rgb(232,232,232)",
            "linecolor": "rgb(36,36,36)",
            "showgrid": false,
            "showline": true,
            "ticks": "outside"
           },
           "bgcolor": "white",
           "radialaxis": {
            "gridcolor": "rgb(232,232,232)",
            "linecolor": "rgb(36,36,36)",
            "showgrid": false,
            "showline": true,
            "ticks": "outside"
           }
          },
          "scene": {
           "xaxis": {
            "backgroundcolor": "white",
            "gridcolor": "rgb(232,232,232)",
            "gridwidth": 2,
            "linecolor": "rgb(36,36,36)",
            "showbackground": true,
            "showgrid": false,
            "showline": true,
            "ticks": "outside",
            "zeroline": false,
            "zerolinecolor": "rgb(36,36,36)"
           },
           "yaxis": {
            "backgroundcolor": "white",
            "gridcolor": "rgb(232,232,232)",
            "gridwidth": 2,
            "linecolor": "rgb(36,36,36)",
            "showbackground": true,
            "showgrid": false,
            "showline": true,
            "ticks": "outside",
            "zeroline": false,
            "zerolinecolor": "rgb(36,36,36)"
           },
           "zaxis": {
            "backgroundcolor": "white",
            "gridcolor": "rgb(232,232,232)",
            "gridwidth": 2,
            "linecolor": "rgb(36,36,36)",
            "showbackground": true,
            "showgrid": false,
            "showline": true,
            "ticks": "outside",
            "zeroline": false,
            "zerolinecolor": "rgb(36,36,36)"
           }
          },
          "shapedefaults": {
           "fillcolor": "black",
           "line": {
            "width": 0
           },
           "opacity": 0.3
          },
          "ternary": {
           "aaxis": {
            "gridcolor": "rgb(232,232,232)",
            "linecolor": "rgb(36,36,36)",
            "showgrid": false,
            "showline": true,
            "ticks": "outside"
           },
           "baxis": {
            "gridcolor": "rgb(232,232,232)",
            "linecolor": "rgb(36,36,36)",
            "showgrid": false,
            "showline": true,
            "ticks": "outside"
           },
           "bgcolor": "white",
           "caxis": {
            "gridcolor": "rgb(232,232,232)",
            "linecolor": "rgb(36,36,36)",
            "showgrid": false,
            "showline": true,
            "ticks": "outside"
           }
          },
          "title": {
           "x": 0.05
          },
          "xaxis": {
           "automargin": true,
           "gridcolor": "rgb(232,232,232)",
           "linecolor": "rgb(36,36,36)",
           "showgrid": false,
           "showline": true,
           "ticks": "outside",
           "title": {
            "standoff": 15
           },
           "zeroline": false,
           "zerolinecolor": "rgb(36,36,36)"
          },
          "yaxis": {
           "automargin": true,
           "gridcolor": "rgb(232,232,232)",
           "linecolor": "rgb(36,36,36)",
           "showgrid": false,
           "showline": true,
           "ticks": "outside",
           "title": {
            "standoff": 15
           },
           "zeroline": false,
           "zerolinecolor": "rgb(36,36,36)"
          }
         }
        },
        "title": {
         "font": {
          "color": "Black",
          "size": 22
         },
         "text": "<b>Topics over Time</b>",
         "x": 0.4,
         "xanchor": "center",
         "y": 0.95,
         "yanchor": "top"
        },
        "width": 1250,
        "xaxis": {
         "showgrid": true
        },
        "yaxis": {
         "showgrid": true,
         "title": {
          "text": "Frequency"
         }
        }
       }
      }
     },
     "metadata": {},
     "output_type": "display_data"
    }
   ],
   "source": [
    "fig_dynamic_topic = topic_model.visualize_topics_over_time(\n",
    "    topics_over_time, top_n_topics=10\n",
    ")\n",
    "fig_dynamic_topic"
   ]
  },
  {
   "cell_type": "code",
   "execution_count": null,
   "id": "732df659",
   "metadata": {},
   "outputs": [],
   "source": [
    "fig_dynamic_topic.write_html(\"../reports/figures/dynamic_topics.html\")"
   ]
  },
  {
   "cell_type": "markdown",
   "id": "0b4c59b8",
   "metadata": {},
   "source": [
    "## Hierarchical topics"
   ]
  },
  {
   "cell_type": "code",
   "execution_count": 32,
   "id": "c861b1aa",
   "metadata": {},
   "outputs": [
    {
     "name": "stderr",
     "output_type": "stream",
     "text": [
      "100%|██████████| 71/71 [00:00<00:00, 692.89it/s]\n"
     ]
    }
   ],
   "source": [
    "hierarchical_topics = topic_model.hierarchical_topics(df[\"Texte_clean\"])"
   ]
  },
  {
   "cell_type": "code",
   "execution_count": null,
   "id": "827e73ba",
   "metadata": {},
   "outputs": [
    {
     "data": {
      "application/vnd.plotly.v1+json": {
       "config": {
        "plotlyServerURL": "https://plot.ly"
       },
       "data": [
        {
         "hoverinfo": "text",
         "marker": {
          "color": "rgb(61,153,112)"
         },
         "mode": "lines",
         "text": [
          "républicain_république_iiie_ordre_barrage",
          "",
          "",
          "républicains_grâce_républicain_attachées_espèrent"
         ],
         "type": "scatter",
         "x": [
          0,
          0.7600413704905727,
          0.7600413704905727,
          0
         ],
         "xaxis": "x",
         "y": [
          -15,
          -15,
          -25,
          -25
         ],
         "yaxis": "y"
        },
        {
         "hoverinfo": "text",
         "marker": {
          "color": "rgb(61,153,112)"
         },
         "mode": "lines",
         "text": [
          "arc_républicain_sortir_étonnement_situerait",
          "",
          "",
          "républicain_républicains_république_grâce_iiie"
         ],
         "type": "scatter",
         "x": [
          0,
          0.8451933340201908,
          0.8451933340201908,
          0.7600413704905727
         ],
         "xaxis": "x",
         "y": [
          -5,
          -5,
          -20,
          -20
         ],
         "yaxis": "y"
        },
        {
         "hoverinfo": "text",
         "marker": {
          "color": "rgb(255,65,54)"
         },
         "mode": "lines",
         "text": [
          "république_honte_êtes_détruisant_détruisez",
          "",
          "",
          "ve_république_vie_présidente_pen"
         ],
         "type": "scatter",
         "x": [
          0,
          0.8271863011034151,
          0.8271863011034151,
          0
         ],
         "xaxis": "x",
         "y": [
          -35,
          -35,
          -45,
          -45
         ],
         "yaxis": "y"
        },
        {
         "hoverinfo": "text",
         "marker": {
          "color": "rgb(255,65,54)"
         },
         "mode": "lines",
         "text": [
          "république_honte_ve_vie_êtes",
          "",
          "",
          "aimez_aiment_république_rance_aimait"
         ],
         "type": "scatter",
         "x": [
          0.8271863011034151,
          0.9045922823702028,
          0.9045922823702028,
          0
         ],
         "xaxis": "x",
         "y": [
          -40,
          -40,
          -55,
          -55
         ],
         "yaxis": "y"
        },
        {
         "hoverinfo": "text",
         "marker": {
          "color": "rgb(0,116,217)"
         },
         "mode": "lines",
         "text": [
          "républicain_arc_républicains_république_grâce",
          "",
          "",
          "république_honte_ve_aimez_vie"
         ],
         "type": "scatter",
         "x": [
          0.8451933340201908,
          1.1242805800912572,
          1.1242805800912572,
          0.9045922823702028
         ],
         "xaxis": "x",
         "y": [
          -12.5,
          -12.5,
          -47.5,
          -47.5
         ],
         "yaxis": "y"
        },
        {
         "hoverinfo": "text",
         "marker": {
          "color": "rgb(35,205,205)"
         },
         "mode": "lines",
         "text": [
          "extrême_droite_immigration_peur_ennemi",
          "",
          "",
          "droite_extrême_gauche_histoire_dos"
         ],
         "type": "scatter",
         "x": [
          0,
          0.7152353388968626,
          0.7152353388968626,
          0
         ],
         "xaxis": "x",
         "y": [
          -65,
          -65,
          -75,
          -75
         ],
         "yaxis": "y"
        },
        {
         "hoverinfo": "text",
         "marker": {
          "color": "rgb(133,20,75)"
         },
         "mode": "lines",
         "text": [
          "avez_réparerons_démocratie_macron_emmanuel",
          "",
          "",
          "retraites_réforme_peuple_retraite_64"
         ],
         "type": "scatter",
         "x": [
          0,
          0.6208791320701108,
          0.6208791320701108,
          0
         ],
         "xaxis": "x",
         "y": [
          -85,
          -85,
          -95,
          -95
         ],
         "yaxis": "y"
        },
        {
         "hoverinfo": "text",
         "marker": {
          "color": "rgb(133,20,75)"
         },
         "mode": "lines",
         "text": [
          "49_ve_censure_assemblée_majorité",
          "",
          "",
          "49_constitution_article_alinéa_1958"
         ],
         "type": "scatter",
         "x": [
          0,
          0.4679455979458855,
          0.4679455979458855,
          0
         ],
         "xaxis": "x",
         "y": [
          -105,
          -105,
          -115,
          -115
         ],
         "yaxis": "y"
        },
        {
         "hoverinfo": "text",
         "marker": {
          "color": "rgb(133,20,75)"
         },
         "mode": "lines",
         "text": [
          "retraites_réforme_peuple_avez_démocratie",
          "",
          "",
          "49_ve_constitution_assemblée_majorité"
         ],
         "type": "scatter",
         "x": [
          0.6208791320701108,
          0.8373296014953191,
          0.8373296014953191,
          0.4679455979458855
         ],
         "xaxis": "x",
         "y": [
          -90,
          -90,
          -110,
          -110
         ],
         "yaxis": "y"
        },
        {
         "hoverinfo": "text",
         "marker": {
          "color": "rgb(133,20,75)"
         },
         "mode": "lines",
         "text": [
          "scrutin_proportionnelle_mode_majoritaire_ve",
          "",
          "",
          "calédonie_nouvelle_calédoniens_accord_nouméa"
         ],
         "type": "scatter",
         "x": [
          0,
          0.7532273996660475,
          0.7532273996660475,
          0
         ],
         "xaxis": "x",
         "y": [
          -125,
          -125,
          -135,
          -135
         ],
         "yaxis": "y"
        },
        {
         "hoverinfo": "text",
         "marker": {
          "color": "rgb(133,20,75)"
         },
         "mode": "lines",
         "text": [
          "49_ve_assemblée_avez_constitution",
          "",
          "",
          "calédonie_nouvelle_élections_scrutin_calédoniens"
         ],
         "type": "scatter",
         "x": [
          0.8373296014953191,
          0.862128030138348,
          0.862128030138348,
          0.7532273996660475
         ],
         "xaxis": "x",
         "y": [
          -100,
          -100,
          -130,
          -130
         ],
         "yaxis": "y"
        },
        {
         "hoverinfo": "text",
         "marker": {
          "color": "rgb(0,116,217)"
         },
         "mode": "lines",
         "text": [
          "droite_extrême_gauche_peur_histoire",
          "",
          "",
          "calédonie_nouvelle_49_ve_élections"
         ],
         "type": "scatter",
         "x": [
          0.7152353388968626,
          1.0242704588030502,
          1.0242704588030502,
          0.862128030138348
         ],
         "xaxis": "x",
         "y": [
          -70,
          -70,
          -115,
          -115
         ],
         "yaxis": "y"
        },
        {
         "hoverinfo": "text",
         "marker": {
          "color": "rgb(255,220,0)"
         },
         "mode": "lines",
         "text": [
          "langues_langue_régionales_française_enseignement",
          "",
          "",
          "sport_jeux_sportifs_clubs_sportive"
         ],
         "type": "scatter",
         "x": [
          0,
          0.8802683651660481,
          0.8802683651660481,
          0
         ],
         "xaxis": "x",
         "y": [
          -155,
          -155,
          -165,
          -165
         ],
         "yaxis": "y"
        },
        {
         "hoverinfo": "text",
         "marker": {
          "color": "rgb(255,220,0)"
         },
         "mode": "lines",
         "text": [
          "esclavage_mer_toussaint_louverture_aboli",
          "",
          "",
          "langues_langue_régionales_sport_jeux"
         ],
         "type": "scatter",
         "x": [
          0,
          0.9018740321509623,
          0.9018740321509623,
          0.8802683651660481
         ],
         "xaxis": "x",
         "y": [
          -145,
          -145,
          -160,
          -160
         ],
         "yaxis": "y"
        },
        {
         "hoverinfo": "text",
         "marker": {
          "color": "rgb(255,220,0)"
         },
         "mode": "lines",
         "text": [
          "armées_lpm_militaire_programmation_défense",
          "",
          "",
          "snu_jeunesse_jeunes_militaire_smv"
         ],
         "type": "scatter",
         "x": [
          0,
          0.7003957544509525,
          0.7003957544509525,
          0
         ],
         "xaxis": "x",
         "y": [
          -175,
          -175,
          -185,
          -185
         ],
         "yaxis": "y"
        },
        {
         "hoverinfo": "text",
         "marker": {
          "color": "rgb(255,220,0)"
         },
         "mode": "lines",
         "text": [
          "armées_militaire_défense_lpm_programmation",
          "",
          "",
          "drapeau_mairies_européen_tricolore_pavoisement"
         ],
         "type": "scatter",
         "x": [
          0.7003957544509525,
          0.8474672317581435,
          0.8474672317581435,
          0
         ],
         "xaxis": "x",
         "y": [
          -180,
          -180,
          -195,
          -195
         ],
         "yaxis": "y"
        },
        {
         "hoverinfo": "text",
         "marker": {
          "color": "rgb(255,220,0)"
         },
         "mode": "lines",
         "text": [
          "langues_langue_régionales_sport_française",
          "",
          "",
          "armées_drapeau_militaire_défense_programmation"
         ],
         "type": "scatter",
         "x": [
          0.9018740321509623,
          0.9125607467805285,
          0.9125607467805285,
          0.8474672317581435
         ],
         "xaxis": "x",
         "y": [
          -152.5,
          -152.5,
          -187.5,
          -187.5
         ],
         "yaxis": "y"
        },
        {
         "hoverinfo": "text",
         "marker": {
          "color": "rgb(40,35,35)"
         },
         "mode": "lines",
         "text": [
          "scientifique_écologique_climatique_énergie_nucléaire",
          "",
          "",
          "dette_milliards_publiques_dépenses_finances"
         ],
         "type": "scatter",
         "x": [
          0,
          0.5918009362658825,
          0.5918009362658825,
          0
         ],
         "xaxis": "x",
         "y": [
          -215,
          -215,
          -225,
          -225
         ],
         "yaxis": "y"
        },
        {
         "hoverinfo": "text",
         "marker": {
          "color": "rgb(40,35,35)"
         },
         "mode": "lines",
         "text": [
          "dette_milliards_publiques_écologique_finances",
          "",
          "",
          "collectivités_communes_locales_finances_dgf"
         ],
         "type": "scatter",
         "x": [
          0.5918009362658825,
          0.6231939838976219,
          0.6231939838976219,
          0
         ],
         "xaxis": "x",
         "y": [
          -220,
          -220,
          -235,
          -235
         ],
         "yaxis": "y"
        },
        {
         "hoverinfo": "text",
         "marker": {
          "color": "rgb(40,35,35)"
         },
         "mode": "lines",
         "text": [
          "impôt_salaires_riches_milliards_entreprises",
          "",
          "",
          "collectivités_milliards_finances_dette_publiques"
         ],
         "type": "scatter",
         "x": [
          0,
          0.6428889398918812,
          0.6428889398918812,
          0.6231939838976219
         ],
         "xaxis": "x",
         "y": [
          -205,
          -205,
          -227.5,
          -227.5
         ],
         "yaxis": "y"
        },
        {
         "hoverinfo": "text",
         "marker": {
          "color": "rgb(40,35,35)"
         },
         "mode": "lines",
         "text": [
          "polynésie_ordonnance_française_fonction_publique",
          "",
          "",
          "mer_territoires_ultramarins_prix_eau"
         ],
         "type": "scatter",
         "x": [
          0,
          0.6787532925119388,
          0.6787532925119388,
          0
         ],
         "xaxis": "x",
         "y": [
          -245,
          -245,
          -255,
          -255
         ],
         "yaxis": "y"
        },
        {
         "hoverinfo": "text",
         "marker": {
          "color": "rgb(40,35,35)"
         },
         "mode": "lines",
         "text": [
          "mer_territoires_polynésie_ultramarins_ordonnance",
          "",
          "",
          "logement_logements_locataires_abri_domicile"
         ],
         "type": "scatter",
         "x": [
          0.6787532925119388,
          0.755232167286952,
          0.755232167286952,
          0
         ],
         "xaxis": "x",
         "y": [
          -250,
          -250,
          -265,
          -265
         ],
         "yaxis": "y"
        },
        {
         "hoverinfo": "text",
         "marker": {
          "color": "rgb(40,35,35)"
         },
         "mode": "lines",
         "text": [
          "mer_territoires_polynésie_ultramarins_ordonnance",
          "",
          "",
          "agricole_exploitation_agriculteurs_marins_agriculture"
         ],
         "type": "scatter",
         "x": [
          0.755232167286952,
          0.8004200101172814,
          0.8004200101172814,
          0
         ],
         "xaxis": "x",
         "y": [
          -257.5,
          -257.5,
          -275,
          -275
         ],
         "yaxis": "y"
        },
        {
         "hoverinfo": "text",
         "marker": {
          "color": "rgb(40,35,35)"
         },
         "mode": "lines",
         "text": [
          "vols_métropoles_serm_transports_ferroviaire",
          "",
          "",
          "dématérialisation_services_numérique_publics_accueil"
         ],
         "type": "scatter",
         "x": [
          0,
          0.8012692680418962,
          0.8012692680418962,
          0
         ],
         "xaxis": "x",
         "y": [
          -285,
          -285,
          -295,
          -295
         ],
         "yaxis": "y"
        },
        {
         "hoverinfo": "text",
         "marker": {
          "color": "rgb(40,35,35)"
         },
         "mode": "lines",
         "text": [
          "mer_territoires_polynésie_ultramarins_ordonnance",
          "",
          "",
          "services_dématérialisation_publics_numérique_accueil"
         ],
         "type": "scatter",
         "x": [
          0.8004200101172814,
          0.8486563556736141,
          0.8486563556736141,
          0.8012692680418962
         ],
         "xaxis": "x",
         "y": [
          -266.25,
          -266.25,
          -290,
          -290
         ],
         "yaxis": "y"
        },
        {
         "hoverinfo": "text",
         "marker": {
          "color": "rgb(40,35,35)"
         },
         "mode": "lines",
         "text": [
          "collectivités_milliards_finances_euros_dette",
          "",
          "",
          "mer_territoires_polynésie_ultramarins_ordonnance"
         ],
         "type": "scatter",
         "x": [
          0.6428889398918812,
          0.8879441817298299,
          0.8879441817298299,
          0.8486563556736141
         ],
         "xaxis": "x",
         "y": [
          -216.25,
          -216.25,
          -278.125,
          -278.125
         ],
         "yaxis": "y"
        },
        {
         "hoverinfo": "text",
         "marker": {
          "color": "rgb(0,116,217)"
         },
         "mode": "lines",
         "text": [
          "langues_armées_drapeau_langue_militaire",
          "",
          "",
          "mer_collectivités_territoires_qu_euros"
         ],
         "type": "scatter",
         "x": [
          0.9125607467805285,
          1.0203237819268838,
          1.0203237819268838,
          0.8879441817298299
         ],
         "xaxis": "x",
         "y": [
          -170,
          -170,
          -247.1875,
          -247.1875
         ],
         "yaxis": "y"
        },
        {
         "hoverinfo": "text",
         "marker": {
          "color": "rgb(61,153,112)"
         },
         "mode": "lines",
         "text": [
          "emploi_chômage_chômeurs_travail_rsa",
          "",
          "",
          "salariés_salaire_salaires_entreprises_valeur"
         ],
         "type": "scatter",
         "x": [
          0,
          0.7464899769108908,
          0.7464899769108908,
          0
         ],
         "xaxis": "x",
         "y": [
          -315,
          -315,
          -325,
          -325
         ],
         "yaxis": "y"
        },
        {
         "hoverinfo": "text",
         "marker": {
          "color": "rgb(61,153,112)"
         },
         "mode": "lines",
         "text": [
          "emploi_salariés_salaires_salaire_entreprises",
          "",
          "",
          "mairie_fonction_secrétaires_publique_métier"
         ],
         "type": "scatter",
         "x": [
          0.7464899769108908,
          0.851508739817353,
          0.851508739817353,
          0
         ],
         "xaxis": "x",
         "y": [
          -320,
          -320,
          -335,
          -335
         ],
         "yaxis": "y"
        },
        {
         "hoverinfo": "text",
         "marker": {
          "color": "rgb(61,153,112)"
         },
         "mode": "lines",
         "text": [
          "promesse_dignité_siècles_précaires_correspondre",
          "",
          "",
          "emploi_salariés_salaires_travail_salaire"
         ],
         "type": "scatter",
         "x": [
          0,
          0.9132217820277633,
          0.9132217820277633,
          0.851508739817353
         ],
         "xaxis": "x",
         "y": [
          -305,
          -305,
          -327.5,
          -327.5
         ],
         "yaxis": "y"
        },
        {
         "hoverinfo": "text",
         "marker": {
          "color": "rgb(61,153,112)"
         },
         "mode": "lines",
         "text": [
          "soignants_vaccinés_vaccinale_santé_covid",
          "",
          "",
          "santé_soins_hôpital_médecins_soignants"
         ],
         "type": "scatter",
         "x": [
          0,
          0.5880568948419572,
          0.5880568948419572,
          0
         ],
         "xaxis": "x",
         "y": [
          -345,
          -345,
          -355,
          -355
         ],
         "yaxis": "y"
        },
        {
         "hoverinfo": "text",
         "marker": {
          "color": "rgb(61,153,112)"
         },
         "mode": "lines",
         "text": [
          "république_sommes_valeurs_français_compromis",
          "",
          "",
          "étrangers_immigration_asile_intégration_expulsion"
         ],
         "type": "scatter",
         "x": [
          0,
          0.5925681006302086,
          0.5925681006302086,
          0
         ],
         "xaxis": "x",
         "y": [
          -385,
          -385,
          -395,
          -395
         ],
         "yaxis": "y"
        },
        {
         "hoverinfo": "text",
         "marker": {
          "color": "rgb(61,153,112)"
         },
         "mode": "lines",
         "text": [
          "texte_remercie_proposition_loi_amendements",
          "",
          "",
          "étrangers_immigration_asile_intégration_france"
         ],
         "type": "scatter",
         "x": [
          0,
          0.6337220386505394,
          0.6337220386505394,
          0.5925681006302086
         ],
         "xaxis": "x",
         "y": [
          -375,
          -375,
          -390,
          -390
         ],
         "yaxis": "y"
        },
        {
         "hoverinfo": "text",
         "marker": {
          "color": "rgb(61,153,112)"
         },
         "mode": "lines",
         "text": [
          "étrangers_immigration_asile_france_intégration",
          "",
          "",
          "femmes_ivg_avortement_droit_liberté"
         ],
         "type": "scatter",
         "x": [
          0.6337220386505394,
          0.7174238378438414,
          0.7174238378438414,
          0
         ],
         "xaxis": "x",
         "y": [
          -382.5,
          -382.5,
          -405,
          -405
         ],
         "yaxis": "y"
        },
        {
         "hoverinfo": "text",
         "marker": {
          "color": "rgb(61,153,112)"
         },
         "mode": "lines",
         "text": [
          "sociale_sécurité_constitutionnelle_institution_constitution",
          "",
          "",
          "droit_étrangers_femmes_immigration_asile"
         ],
         "type": "scatter",
         "x": [
          0,
          0.7759792686504985,
          0.7759792686504985,
          0.7174238378438414
         ],
         "xaxis": "x",
         "y": [
          -365,
          -365,
          -393.75,
          -393.75
         ],
         "yaxis": "y"
        },
        {
         "hoverinfo": "text",
         "marker": {
          "color": "rgb(61,153,112)"
         },
         "mode": "lines",
         "text": [
          "santé_soins_hôpital_soignants_système",
          "",
          "",
          "droit_étrangers_femmes_immigration_asile"
         ],
         "type": "scatter",
         "x": [
          0.5880568948419572,
          0.8252954995715029,
          0.8252954995715029,
          0.7759792686504985
         ],
         "xaxis": "x",
         "y": [
          -350,
          -350,
          -379.375,
          -379.375
         ],
         "yaxis": "y"
        },
        {
         "hoverinfo": "text",
         "marker": {
          "color": "rgb(61,153,112)"
         },
         "mode": "lines",
         "text": [
          "cnil_drones_données_avis_conseil",
          "",
          "",
          "ligne_numérique_privée_image_contre"
         ],
         "type": "scatter",
         "x": [
          0,
          0.7399967485115796,
          0.7399967485115796,
          0
         ],
         "xaxis": "x",
         "y": [
          -415,
          -415,
          -425,
          -425
         ],
         "yaxis": "y"
        },
        {
         "hoverinfo": "text",
         "marker": {
          "color": "rgb(61,153,112)"
         },
         "mode": "lines",
         "text": [
          "santé_droit_loi_étrangers_qu",
          "",
          "",
          "cnil_ligne_numérique_données_libertés"
         ],
         "type": "scatter",
         "x": [
          0.8252954995715029,
          0.8917203052875196,
          0.8917203052875196,
          0.7399967485115796
         ],
         "xaxis": "x",
         "y": [
          -364.6875,
          -364.6875,
          -420,
          -420
         ],
         "yaxis": "y"
        },
        {
         "hoverinfo": "text",
         "marker": {
          "color": "rgb(61,153,112)"
         },
         "mode": "lines",
         "text": [
          "emploi_salariés_salaires_travail_salaire",
          "",
          "",
          "droit_santé_loi_qu_femmes"
         ],
         "type": "scatter",
         "x": [
          0.9132217820277633,
          0.9778828303839034,
          0.9778828303839034,
          0.8917203052875196
         ],
         "xaxis": "x",
         "y": [
          -316.25,
          -316.25,
          -392.34375,
          -392.34375
         ],
         "yaxis": "y"
        },
        {
         "hoverinfo": "text",
         "marker": {
          "color": "rgb(255,65,54)"
         },
         "mode": "lines",
         "text": [
          "soustraire_religion_origine_prévaloir_lois",
          "",
          "",
          "citoyen_droits_homme_déclaration_liberté"
         ],
         "type": "scatter",
         "x": [
          0,
          0.6662992721886889,
          0.6662992721886889,
          0
         ],
         "xaxis": "x",
         "y": [
          -435,
          -435,
          -445,
          -445
         ],
         "yaxis": "y"
        },
        {
         "hoverinfo": "text",
         "marker": {
          "color": "rgb(0,116,217)"
         },
         "mode": "lines",
         "text": [
          "droit_femmes_santé_loi_qu",
          "",
          "",
          "citoyen_droits_déclaration_homme_article"
         ],
         "type": "scatter",
         "x": [
          0.9778828303839034,
          1.0327285639406671,
          1.0327285639406671,
          0.6662992721886889
         ],
         "xaxis": "x",
         "y": [
          -354.296875,
          -354.296875,
          -440,
          -440
         ],
         "yaxis": "y"
        },
        {
         "hoverinfo": "text",
         "marker": {
          "color": "rgb(0,116,217)"
         },
         "mode": "lines",
         "text": [
          "mer_collectivités_territoires_qu_euros",
          "",
          "",
          "droit_loi_femmes_santé_qu"
         ],
         "type": "scatter",
         "x": [
          1.0203237819268838,
          1.107562041701295,
          1.107562041701295,
          1.0327285639406671
         ],
         "xaxis": "x",
         "y": [
          -208.59375,
          -208.59375,
          -397.1484375,
          -397.1484375
         ],
         "yaxis": "y"
        },
        {
         "hoverinfo": "text",
         "marker": {
          "color": "rgb(0,116,217)"
         },
         "mode": "lines",
         "text": [
          "calédonie_nouvelle_49_ve_république",
          "",
          "",
          "qu_loi_république_france_droit"
         ],
         "type": "scatter",
         "x": [
          1.0242704588030502,
          1.237389399145576,
          1.237389399145576,
          1.107562041701295
         ],
         "xaxis": "x",
         "y": [
          -92.5,
          -92.5,
          -302.87109375,
          -302.87109375
         ],
         "yaxis": "y"
        },
        {
         "hoverinfo": "text",
         "marker": {
          "color": "rgb(35,205,205)"
         },
         "mode": "lines",
         "text": [
          "mayotte_comores_mahorais_migratoire_comorienne",
          "",
          "",
          "ingérences_étrangères_kazakhstan_mayotte_ingérence"
         ],
         "type": "scatter",
         "x": [
          0,
          0.6485664165049085,
          0.6485664165049085,
          0
         ],
         "xaxis": "x",
         "y": [
          -455,
          -455,
          -465,
          -465
         ],
         "yaxis": "y"
        },
        {
         "hoverinfo": "text",
         "marker": {
          "color": "rgb(61,153,112)"
         },
         "mode": "lines",
         "text": [
          "arménie_azerbaïdjan_arménien_karabakh_arméniens",
          "",
          "",
          "iran_islamique_iraniennes_iranien_iraniens"
         ],
         "type": "scatter",
         "x": [
          0,
          0.8515778302506205,
          0.8515778302506205,
          0
         ],
         "xaxis": "x",
         "y": [
          -475,
          -475,
          -485,
          -485
         ],
         "yaxis": "y"
        },
        {
         "hoverinfo": "text",
         "marker": {
          "color": "rgb(61,153,112)"
         },
         "mode": "lines",
         "text": [
          "antisémitisme_israël_haine_antisémites_juifs",
          "",
          "",
          "extrême_droite_terrorisme_groupuscules_ultradroite"
         ],
         "type": "scatter",
         "x": [
          0,
          0.6535541795112481,
          0.6535541795112481,
          0
         ],
         "xaxis": "x",
         "y": [
          -505,
          -505,
          -515,
          -515
         ],
         "yaxis": "y"
        },
        {
         "hoverinfo": "text",
         "marker": {
          "color": "rgb(61,153,112)"
         },
         "mode": "lines",
         "text": [
          "paty_samuel_terrorisme_bernard_dominique",
          "",
          "",
          "antisémitisme_terrorisme_extrême_haine_droite"
         ],
         "type": "scatter",
         "x": [
          0,
          0.7490518147224187,
          0.7490518147224187,
          0.6535541795112481
         ],
         "xaxis": "x",
         "y": [
          -495,
          -495,
          -510,
          -510
         ],
         "yaxis": "y"
        },
        {
         "hoverinfo": "text",
         "marker": {
          "color": "rgb(61,153,112)"
         },
         "mode": "lines",
         "text": [
          "discriminations_discrimination_tests_racisme_statistiques",
          "",
          "",
          "homosexualité_réparation_1942_vichy_homosexuelles"
         ],
         "type": "scatter",
         "x": [
          0,
          0.7452493869614423,
          0.7452493869614423,
          0
         ],
         "xaxis": "x",
         "y": [
          -525,
          -525,
          -535,
          -535
         ],
         "yaxis": "y"
        },
        {
         "hoverinfo": "text",
         "marker": {
          "color": "rgb(61,153,112)"
         },
         "mode": "lines",
         "text": [
          "biens_restitution_spoliés_culturels_restitutions",
          "",
          "",
          "octobre_algérie_1961_17_victimes"
         ],
         "type": "scatter",
         "x": [
          0,
          0.8079384146520427,
          0.8079384146520427,
          0
         ],
         "xaxis": "x",
         "y": [
          -545,
          -545,
          -555,
          -555
         ],
         "yaxis": "y"
        },
        {
         "hoverinfo": "text",
         "marker": {
          "color": "rgb(61,153,112)"
         },
         "mode": "lines",
         "text": [
          "discriminations_discrimination_tests_homosexualité_réparation",
          "",
          "",
          "octobre_histoire_mémoire_algérie_1961"
         ],
         "type": "scatter",
         "x": [
          0.7452493869614423,
          0.8765188624766379,
          0.8765188624766379,
          0.8079384146520427
         ],
         "xaxis": "x",
         "y": [
          -530,
          -530,
          -550,
          -550
         ],
         "yaxis": "y"
        },
        {
         "hoverinfo": "text",
         "marker": {
          "color": "rgb(61,153,112)"
         },
         "mode": "lines",
         "text": [
          "terrorisme_antisémitisme_haine_extrême_contre",
          "",
          "",
          "discriminations_discrimination_victimes_histoire_mémoire"
         ],
         "type": "scatter",
         "x": [
          0.7490518147224187,
          0.9267856456504387,
          0.9267856456504387,
          0.8765188624766379
         ],
         "xaxis": "x",
         "y": [
          -502.5,
          -502.5,
          -540,
          -540
         ],
         "yaxis": "y"
        },
        {
         "hoverinfo": "text",
         "marker": {
          "color": "rgb(61,153,112)"
         },
         "mode": "lines",
         "text": [
          "arménie_iran_azerbaïdjan_arménien_karabakh",
          "",
          "",
          "antisémitisme_terrorisme_contre_discriminations_france"
         ],
         "type": "scatter",
         "x": [
          0.8515778302506205,
          0.9659173064117845,
          0.9659173064117845,
          0.9267856456504387
         ],
         "xaxis": "x",
         "y": [
          -480,
          -480,
          -521.25,
          -521.25
         ],
         "yaxis": "y"
        },
        {
         "hoverinfo": "text",
         "marker": {
          "color": "rgb(0,116,217)"
         },
         "mode": "lines",
         "text": [
          "mayotte_comores_étrangères_ingérences_kazakhstan",
          "",
          "",
          "antisémitisme_france_contre_arménie_terrorisme"
         ],
         "type": "scatter",
         "x": [
          0.6485664165049085,
          1.0874082496599569,
          1.0874082496599569,
          0.9659173064117845
         ],
         "xaxis": "x",
         "y": [
          -460,
          -460,
          -500.625,
          -500.625
         ],
         "yaxis": "y"
        },
        {
         "hoverinfo": "text",
         "marker": {
          "color": "rgb(255,65,54)"
         },
         "mode": "lines",
         "text": [
          "associations_contrat_engagement_association_subventions",
          "",
          "",
          "associations_bénévoles_engagement_associatif_bénévole"
         ],
         "type": "scatter",
         "x": [
          0,
          0.5955732169112868,
          0.5955732169112868,
          0
         ],
         "xaxis": "x",
         "y": [
          -575,
          -575,
          -585,
          -585
         ],
         "yaxis": "y"
        },
        {
         "hoverinfo": "text",
         "marker": {
          "color": "rgb(255,65,54)"
         },
         "mode": "lines",
         "text": [
          "séparatisme_loi_principes_confortant_radicalisation",
          "",
          "",
          "associations_engagement_associatif_bénévoles_contrat"
         ],
         "type": "scatter",
         "x": [
          0,
          0.7769429079106119,
          0.7769429079106119,
          0.5955732169112868
         ],
         "xaxis": "x",
         "y": [
          -565,
          -565,
          -580,
          -580
         ],
         "yaxis": "y"
        },
        {
         "hoverinfo": "text",
         "marker": {
          "color": "rgb(35,205,205)"
         },
         "mode": "lines",
         "text": [
          "quartiers_bâtiments_reconstruction_publics_reconstruire",
          "",
          "",
          "quartiers_reconquête_populaires_habitants_républicaine"
         ],
         "type": "scatter",
         "x": [
          0,
          0.7814759845426711,
          0.7814759845426711,
          0
         ],
         "xaxis": "x",
         "y": [
          -595,
          -595,
          -605,
          -605
         ],
         "yaxis": "y"
        },
        {
         "hoverinfo": "text",
         "marker": {
          "color": "rgb(0,116,217)"
         },
         "mode": "lines",
         "text": [
          "associations_engagement_associatif_bénévoles_contrat",
          "",
          "",
          "quartiers_reconquête_habitants_bâtiments_reconstruction"
         ],
         "type": "scatter",
         "x": [
          0.7769429079106119,
          1.0663294539902464,
          1.0663294539902464,
          0.7814759845426711
         ],
         "xaxis": "x",
         "y": [
          -572.5,
          -572.5,
          -600,
          -600
         ],
         "yaxis": "y"
        },
        {
         "hoverinfo": "text",
         "marker": {
          "color": "rgb(133,20,75)"
         },
         "mode": "lines",
         "text": [
          "policiers_ordre_gendarmes_police_forces",
          "",
          "",
          "sécurité_police_policiers_gendarmes_ministère"
         ],
         "type": "scatter",
         "x": [
          0,
          0.5755612004222337,
          0.5755612004222337,
          0
         ],
         "xaxis": "x",
         "y": [
          -625,
          -625,
          -635,
          -635
         ],
         "yaxis": "y"
        },
        {
         "hoverinfo": "text",
         "marker": {
          "color": "rgb(133,20,75)"
         },
         "mode": "lines",
         "text": [
          "policiers_police_gendarmes_ordre_forces",
          "",
          "",
          "élus_maires_maire_locaux_élu"
         ],
         "type": "scatter",
         "x": [
          0.5755612004222337,
          0.7397748743877862,
          0.7397748743877862,
          0
         ],
         "xaxis": "x",
         "y": [
          -630,
          -630,
          -645,
          -645
         ],
         "yaxis": "y"
        },
        {
         "hoverinfo": "text",
         "marker": {
          "color": "rgb(133,20,75)"
         },
         "mode": "lines",
         "text": [
          "quartier_drogue_trafic_ville_stupéfiants",
          "",
          "",
          "élus_policiers_maires_police_violences"
         ],
         "type": "scatter",
         "x": [
          0,
          0.7812950339846272,
          0.7812950339846272,
          0.7397748743877862
         ],
         "xaxis": "x",
         "y": [
          -615,
          -615,
          -637.5,
          -637.5
         ],
         "yaxis": "y"
        },
        {
         "hoverinfo": "text",
         "marker": {
          "color": "rgb(133,20,75)"
         },
         "mode": "lines",
         "text": [
          "inéligibilité_peine_violences_délits_complémentaire",
          "",
          "",
          "peines_récidive_peine_planchers_emprisonnement"
         ],
         "type": "scatter",
         "x": [
          0,
          0.671386966771816,
          0.671386966771816,
          0
         ],
         "xaxis": "x",
         "y": [
          -655,
          -655,
          -665,
          -665
         ],
         "yaxis": "y"
        },
        {
         "hoverinfo": "text",
         "marker": {
          "color": "rgb(133,20,75)"
         },
         "mode": "lines",
         "text": [
          "peine_peines_récidive_délits_inéligibilité",
          "",
          "",
          "justice_magistrats_judiciaire_magistrature_moyens"
         ],
         "type": "scatter",
         "x": [
          0.671386966771816,
          0.7237749748521993,
          0.7237749748521993,
          0
         ],
         "xaxis": "x",
         "y": [
          -660,
          -660,
          -675,
          -675
         ],
         "yaxis": "y"
        },
        {
         "hoverinfo": "text",
         "marker": {
          "color": "rgb(133,20,75)"
         },
         "mode": "lines",
         "text": [
          "élus_policiers_police_maires_sécurité",
          "",
          "",
          "justice_magistrats_peine_récidive_peines"
         ],
         "type": "scatter",
         "x": [
          0.7812950339846272,
          0.978129266028721,
          0.978129266028721,
          0.7237749748521993
         ],
         "xaxis": "x",
         "y": [
          -626.25,
          -626.25,
          -667.5,
          -667.5
         ],
         "yaxis": "y"
        },
        {
         "hoverinfo": "text",
         "marker": {
          "color": "rgb(0,116,217)"
         },
         "mode": "lines",
         "text": [
          "associations_engagement_associatif_bénévoles_contrat",
          "",
          "",
          "élus_policiers_justice_violences_police"
         ],
         "type": "scatter",
         "x": [
          1.0663294539902464,
          1.1000638013091542,
          1.1000638013091542,
          0.978129266028721
         ],
         "xaxis": "x",
         "y": [
          -586.25,
          -586.25,
          -646.875,
          -646.875
         ],
         "yaxis": "y"
        },
        {
         "hoverinfo": "text",
         "marker": {
          "color": "rgb(0,116,217)"
         },
         "mode": "lines",
         "text": [
          "france_contre_antisémitisme_terrorisme_arménie",
          "",
          "",
          "élus_associations_policiers_justice_violences"
         ],
         "type": "scatter",
         "x": [
          1.0874082496599569,
          1.1649055694074728,
          1.1649055694074728,
          1.1000638013091542
         ],
         "xaxis": "x",
         "y": [
          -480.3125,
          -480.3125,
          -616.5625,
          -616.5625
         ],
         "yaxis": "y"
        },
        {
         "hoverinfo": "text",
         "marker": {
          "color": "rgb(255,220,0)"
         },
         "mode": "lines",
         "text": [
          "laïcité_école_élèves_uniforme_religieux",
          "",
          "",
          "élèves_école_éducation_enseignants_enseignement"
         ],
         "type": "scatter",
         "x": [
          0,
          0.4668391184103353,
          0.4668391184103353,
          0
         ],
         "xaxis": "x",
         "y": [
          -695,
          -695,
          -705,
          -705
         ],
         "yaxis": "y"
        },
        {
         "hoverinfo": "text",
         "marker": {
          "color": "rgb(255,220,0)"
         },
         "mode": "lines",
         "text": [
          "école_élèves_laïcité_éducation_enseignants",
          "",
          "",
          "parents_école_élèves_conseils_extrême"
         ],
         "type": "scatter",
         "x": [
          0.4668391184103353,
          0.5801558517257951,
          0.5801558517257951,
          0
         ],
         "xaxis": "x",
         "y": [
          -700,
          -700,
          -715,
          -715
         ],
         "yaxis": "y"
        },
        {
         "hoverinfo": "text",
         "marker": {
          "color": "rgb(255,220,0)"
         },
         "mode": "lines",
         "text": [
          "aesh_handicap_enfants_école_élèves",
          "",
          "",
          "école_élèves_laïcité_éducation_enseignants"
         ],
         "type": "scatter",
         "x": [
          0,
          0.6941516550751381,
          0.6941516550751381,
          0.5801558517257951
         ],
         "xaxis": "x",
         "y": [
          -685,
          -685,
          -707.5,
          -707.5
         ],
         "yaxis": "y"
        },
        {
         "hoverinfo": "text",
         "marker": {
          "color": "rgb(0,116,217)"
         },
         "mode": "lines",
         "text": [
          "contre_qu_élus_été_république",
          "",
          "",
          "école_élèves_éducation_laïcité_scolaire"
         ],
         "type": "scatter",
         "x": [
          1.1649055694074728,
          1.2436375689086303,
          1.2436375689086303,
          0.6941516550751381
         ],
         "xaxis": "x",
         "y": [
          -548.4375,
          -548.4375,
          -696.25,
          -696.25
         ],
         "yaxis": "y"
        },
        {
         "hoverinfo": "text",
         "marker": {
          "color": "rgb(0,116,217)"
         },
         "mode": "lines",
         "text": [
          "qu_loi_république_france_bien",
          "",
          "",
          "école_élèves_qu_république_été"
         ],
         "type": "scatter",
         "x": [
          1.237389399145576,
          1.3069731518204997,
          1.3069731518204997,
          1.2436375689086303
         ],
         "xaxis": "x",
         "y": [
          -197.685546875,
          -197.685546875,
          -622.34375,
          -622.34375
         ],
         "yaxis": "y"
        },
        {
         "hoverinfo": "text",
         "marker": {
          "color": "rgb(0,116,217)"
         },
         "mode": "lines",
         "text": [
          "république_républicain_arc_républicains_honte",
          "",
          "",
          "qu_république_loi_été_france"
         ],
         "type": "scatter",
         "x": [
          1.1242805800912572,
          1.5039485117283824,
          1.5039485117283824,
          1.3069731518204997
         ],
         "xaxis": "x",
         "y": [
          -30,
          -30,
          -410.0146484375,
          -410.0146484375
         ],
         "yaxis": "y"
        },
        {
         "hoverinfo": "text",
         "hovertext": [
          "république_honte_ve_vie_êtes",
          "républicain_arc_républicains_république_grâce",
          "retraites_réforme_peuple_avez_démocratie",
          "49_ve_assemblée_avez_constitution",
          "droite_extrême_gauche_peur_histoire",
          "armées_militaire_défense_lpm_programmation",
          "langues_langue_régionales_sport_française",
          "dette_milliards_publiques_écologique_finances",
          "mer_territoires_polynésie_ultramarins_ordonnance",
          "mer_territoires_polynésie_ultramarins_ordonnance",
          "mer_territoires_polynésie_ultramarins_ordonnance",
          "collectivités_milliards_finances_euros_dette",
          "langues_armées_drapeau_langue_militaire",
          "emploi_salariés_salaires_salaire_entreprises",
          "étrangers_immigration_asile_france_intégration",
          "santé_soins_hôpital_soignants_système",
          "santé_droit_loi_étrangers_qu",
          "emploi_salariés_salaires_travail_salaire",
          "droit_femmes_santé_loi_qu",
          "mer_collectivités_territoires_qu_euros",
          "calédonie_nouvelle_49_ve_république",
          "discriminations_discrimination_tests_homosexualité_réparation",
          "terrorisme_antisémitisme_haine_extrême_contre",
          "arménie_iran_azerbaïdjan_arménien_karabakh",
          "mayotte_comores_étrangères_ingérences_kazakhstan",
          "associations_engagement_associatif_bénévoles_contrat",
          "policiers_police_gendarmes_ordre_forces",
          "peine_peines_récidive_délits_inéligibilité",
          "élus_policiers_police_maires_sécurité",
          "associations_engagement_associatif_bénévoles_contrat",
          "france_contre_antisémitisme_terrorisme_arménie",
          "école_élèves_laïcité_éducation_enseignants",
          "contre_qu_élus_été_république",
          "qu_loi_république_france_bien",
          "république_républicain_arc_républicains_honte"
         ],
         "marker": {
          "color": "black"
         },
         "mode": "markers",
         "showlegend": false,
         "type": "scatter",
         "x": [
          0.8271863011034151,
          0.8451933340201908,
          0.6208791320701108,
          0.8373296014953191,
          0.7152353388968626,
          0.7003957544509525,
          0.9018740321509623,
          0.5918009362658825,
          0.6787532925119388,
          0.755232167286952,
          0.8004200101172814,
          0.6428889398918812,
          0.9125607467805285,
          0.7464899769108908,
          0.6337220386505394,
          0.5880568948419572,
          0.8252954995715029,
          0.9132217820277633,
          0.9778828303839034,
          1.0203237819268838,
          1.0242704588030502,
          0.7452493869614423,
          0.7490518147224187,
          0.8515778302506205,
          0.6485664165049085,
          0.7769429079106119,
          0.5755612004222337,
          0.671386966771816,
          0.7812950339846272,
          1.0663294539902464,
          1.0874082496599569,
          0.4668391184103353,
          1.1649055694074728,
          1.237389399145576,
          1.1242805800912572
         ],
         "y": [
          -40,
          -12.5,
          -90,
          -100,
          -70,
          -180,
          -152.5,
          -220,
          -250,
          -257.5,
          -266.25,
          -216.25,
          -170,
          -320,
          -382.5,
          -350,
          -364.6875,
          -316.25,
          -354.296875,
          -208.59375,
          -92.5,
          -530,
          -502.5,
          -480,
          -460,
          -572.5,
          -630,
          -660,
          -626.25,
          -586.25,
          -480.3125,
          -700,
          -548.4375,
          -197.685546875,
          -30
         ]
        },
        {
         "hoverinfo": "text",
         "hovertext": [
          "républicain_républicains_république_grâce_iiie",
          "république_honte_ve_aimez_vie",
          "49_ve_constitution_assemblée_majorité",
          "calédonie_nouvelle_élections_scrutin_calédoniens",
          "calédonie_nouvelle_49_ve_élections",
          "langues_langue_régionales_sport_jeux",
          "armées_drapeau_militaire_défense_programmation",
          "collectivités_milliards_finances_dette_publiques",
          "services_dématérialisation_publics_numérique_accueil",
          "mer_territoires_polynésie_ultramarins_ordonnance",
          "mer_collectivités_territoires_qu_euros",
          "emploi_salariés_salaires_travail_salaire",
          "étrangers_immigration_asile_intégration_france",
          "droit_étrangers_femmes_immigration_asile",
          "droit_étrangers_femmes_immigration_asile",
          "cnil_ligne_numérique_données_libertés",
          "droit_santé_loi_qu_femmes",
          "citoyen_droits_déclaration_homme_article",
          "droit_loi_femmes_santé_qu",
          "qu_loi_république_france_droit",
          "antisémitisme_terrorisme_extrême_haine_droite",
          "octobre_histoire_mémoire_algérie_1961",
          "discriminations_discrimination_victimes_histoire_mémoire",
          "antisémitisme_terrorisme_contre_discriminations_france",
          "antisémitisme_france_contre_arménie_terrorisme",
          "associations_engagement_associatif_bénévoles_contrat",
          "quartiers_reconquête_habitants_bâtiments_reconstruction",
          "élus_policiers_maires_police_violences",
          "justice_magistrats_peine_récidive_peines",
          "élus_policiers_justice_violences_police",
          "élus_associations_policiers_justice_violences",
          "école_élèves_laïcité_éducation_enseignants",
          "école_élèves_éducation_laïcité_scolaire",
          "école_élèves_qu_république_été",
          "qu_république_loi_été_france"
         ],
         "marker": {
          "color": "black"
         },
         "mode": "markers",
         "showlegend": false,
         "type": "scatter",
         "x": [
          0.7600413704905727,
          0.9045922823702028,
          0.4679455979458855,
          0.7532273996660475,
          0.862128030138348,
          0.8802683651660481,
          0.8474672317581435,
          0.6231939838976219,
          0.8012692680418962,
          0.8486563556736141,
          0.8879441817298299,
          0.851508739817353,
          0.5925681006302086,
          0.7174238378438414,
          0.7759792686504985,
          0.7399967485115796,
          0.8917203052875196,
          0.6662992721886889,
          1.0327285639406671,
          1.107562041701295,
          0.6535541795112481,
          0.8079384146520427,
          0.8765188624766379,
          0.9267856456504387,
          0.9659173064117845,
          0.5955732169112868,
          0.7814759845426711,
          0.7397748743877862,
          0.7237749748521993,
          0.978129266028721,
          1.1000638013091542,
          0.5801558517257951,
          0.6941516550751381,
          1.2436375689086303,
          1.3069731518204997
         ],
         "y": [
          -20,
          -47.5,
          -110,
          -130,
          -115,
          -160,
          -187.5,
          -227.5,
          -290,
          -278.125,
          -247.1875,
          -327.5,
          -390,
          -393.75,
          -379.375,
          -420,
          -392.34375,
          -440,
          -397.1484375,
          -302.87109375,
          -510,
          -550,
          -540,
          -521.25,
          -500.625,
          -580,
          -600,
          -637.5,
          -667.5,
          -646.875,
          -616.5625,
          -707.5,
          -696.25,
          -622.34375,
          -410.0146484375
         ]
        }
       ],
       "layout": {
        "autosize": false,
        "height": 1280,
        "hoverlabel": {
         "bgcolor": "white",
         "font": {
          "family": "Rockwell",
          "size": 16
         }
        },
        "hovermode": "closest",
        "plot_bgcolor": "#ECEFF1",
        "showlegend": false,
        "template": {
         "data": {
          "bar": [
           {
            "error_x": {
             "color": "#2a3f5f"
            },
            "error_y": {
             "color": "#2a3f5f"
            },
            "marker": {
             "line": {
              "color": "white",
              "width": 0.5
             },
             "pattern": {
              "fillmode": "overlay",
              "size": 10,
              "solidity": 0.2
             }
            },
            "type": "bar"
           }
          ],
          "barpolar": [
           {
            "marker": {
             "line": {
              "color": "white",
              "width": 0.5
             },
             "pattern": {
              "fillmode": "overlay",
              "size": 10,
              "solidity": 0.2
             }
            },
            "type": "barpolar"
           }
          ],
          "carpet": [
           {
            "aaxis": {
             "endlinecolor": "#2a3f5f",
             "gridcolor": "#C8D4E3",
             "linecolor": "#C8D4E3",
             "minorgridcolor": "#C8D4E3",
             "startlinecolor": "#2a3f5f"
            },
            "baxis": {
             "endlinecolor": "#2a3f5f",
             "gridcolor": "#C8D4E3",
             "linecolor": "#C8D4E3",
             "minorgridcolor": "#C8D4E3",
             "startlinecolor": "#2a3f5f"
            },
            "type": "carpet"
           }
          ],
          "choropleth": [
           {
            "colorbar": {
             "outlinewidth": 0,
             "ticks": ""
            },
            "type": "choropleth"
           }
          ],
          "contour": [
           {
            "colorbar": {
             "outlinewidth": 0,
             "ticks": ""
            },
            "colorscale": [
             [
              0,
              "#0d0887"
             ],
             [
              0.1111111111111111,
              "#46039f"
             ],
             [
              0.2222222222222222,
              "#7201a8"
             ],
             [
              0.3333333333333333,
              "#9c179e"
             ],
             [
              0.4444444444444444,
              "#bd3786"
             ],
             [
              0.5555555555555556,
              "#d8576b"
             ],
             [
              0.6666666666666666,
              "#ed7953"
             ],
             [
              0.7777777777777778,
              "#fb9f3a"
             ],
             [
              0.8888888888888888,
              "#fdca26"
             ],
             [
              1,
              "#f0f921"
             ]
            ],
            "type": "contour"
           }
          ],
          "contourcarpet": [
           {
            "colorbar": {
             "outlinewidth": 0,
             "ticks": ""
            },
            "type": "contourcarpet"
           }
          ],
          "heatmap": [
           {
            "colorbar": {
             "outlinewidth": 0,
             "ticks": ""
            },
            "colorscale": [
             [
              0,
              "#0d0887"
             ],
             [
              0.1111111111111111,
              "#46039f"
             ],
             [
              0.2222222222222222,
              "#7201a8"
             ],
             [
              0.3333333333333333,
              "#9c179e"
             ],
             [
              0.4444444444444444,
              "#bd3786"
             ],
             [
              0.5555555555555556,
              "#d8576b"
             ],
             [
              0.6666666666666666,
              "#ed7953"
             ],
             [
              0.7777777777777778,
              "#fb9f3a"
             ],
             [
              0.8888888888888888,
              "#fdca26"
             ],
             [
              1,
              "#f0f921"
             ]
            ],
            "type": "heatmap"
           }
          ],
          "heatmapgl": [
           {
            "colorbar": {
             "outlinewidth": 0,
             "ticks": ""
            },
            "colorscale": [
             [
              0,
              "#0d0887"
             ],
             [
              0.1111111111111111,
              "#46039f"
             ],
             [
              0.2222222222222222,
              "#7201a8"
             ],
             [
              0.3333333333333333,
              "#9c179e"
             ],
             [
              0.4444444444444444,
              "#bd3786"
             ],
             [
              0.5555555555555556,
              "#d8576b"
             ],
             [
              0.6666666666666666,
              "#ed7953"
             ],
             [
              0.7777777777777778,
              "#fb9f3a"
             ],
             [
              0.8888888888888888,
              "#fdca26"
             ],
             [
              1,
              "#f0f921"
             ]
            ],
            "type": "heatmapgl"
           }
          ],
          "histogram": [
           {
            "marker": {
             "pattern": {
              "fillmode": "overlay",
              "size": 10,
              "solidity": 0.2
             }
            },
            "type": "histogram"
           }
          ],
          "histogram2d": [
           {
            "colorbar": {
             "outlinewidth": 0,
             "ticks": ""
            },
            "colorscale": [
             [
              0,
              "#0d0887"
             ],
             [
              0.1111111111111111,
              "#46039f"
             ],
             [
              0.2222222222222222,
              "#7201a8"
             ],
             [
              0.3333333333333333,
              "#9c179e"
             ],
             [
              0.4444444444444444,
              "#bd3786"
             ],
             [
              0.5555555555555556,
              "#d8576b"
             ],
             [
              0.6666666666666666,
              "#ed7953"
             ],
             [
              0.7777777777777778,
              "#fb9f3a"
             ],
             [
              0.8888888888888888,
              "#fdca26"
             ],
             [
              1,
              "#f0f921"
             ]
            ],
            "type": "histogram2d"
           }
          ],
          "histogram2dcontour": [
           {
            "colorbar": {
             "outlinewidth": 0,
             "ticks": ""
            },
            "colorscale": [
             [
              0,
              "#0d0887"
             ],
             [
              0.1111111111111111,
              "#46039f"
             ],
             [
              0.2222222222222222,
              "#7201a8"
             ],
             [
              0.3333333333333333,
              "#9c179e"
             ],
             [
              0.4444444444444444,
              "#bd3786"
             ],
             [
              0.5555555555555556,
              "#d8576b"
             ],
             [
              0.6666666666666666,
              "#ed7953"
             ],
             [
              0.7777777777777778,
              "#fb9f3a"
             ],
             [
              0.8888888888888888,
              "#fdca26"
             ],
             [
              1,
              "#f0f921"
             ]
            ],
            "type": "histogram2dcontour"
           }
          ],
          "mesh3d": [
           {
            "colorbar": {
             "outlinewidth": 0,
             "ticks": ""
            },
            "type": "mesh3d"
           }
          ],
          "parcoords": [
           {
            "line": {
             "colorbar": {
              "outlinewidth": 0,
              "ticks": ""
             }
            },
            "type": "parcoords"
           }
          ],
          "pie": [
           {
            "automargin": true,
            "type": "pie"
           }
          ],
          "scatter": [
           {
            "fillpattern": {
             "fillmode": "overlay",
             "size": 10,
             "solidity": 0.2
            },
            "type": "scatter"
           }
          ],
          "scatter3d": [
           {
            "line": {
             "colorbar": {
              "outlinewidth": 0,
              "ticks": ""
             }
            },
            "marker": {
             "colorbar": {
              "outlinewidth": 0,
              "ticks": ""
             }
            },
            "type": "scatter3d"
           }
          ],
          "scattercarpet": [
           {
            "marker": {
             "colorbar": {
              "outlinewidth": 0,
              "ticks": ""
             }
            },
            "type": "scattercarpet"
           }
          ],
          "scattergeo": [
           {
            "marker": {
             "colorbar": {
              "outlinewidth": 0,
              "ticks": ""
             }
            },
            "type": "scattergeo"
           }
          ],
          "scattergl": [
           {
            "marker": {
             "colorbar": {
              "outlinewidth": 0,
              "ticks": ""
             }
            },
            "type": "scattergl"
           }
          ],
          "scattermapbox": [
           {
            "marker": {
             "colorbar": {
              "outlinewidth": 0,
              "ticks": ""
             }
            },
            "type": "scattermapbox"
           }
          ],
          "scatterpolar": [
           {
            "marker": {
             "colorbar": {
              "outlinewidth": 0,
              "ticks": ""
             }
            },
            "type": "scatterpolar"
           }
          ],
          "scatterpolargl": [
           {
            "marker": {
             "colorbar": {
              "outlinewidth": 0,
              "ticks": ""
             }
            },
            "type": "scatterpolargl"
           }
          ],
          "scatterternary": [
           {
            "marker": {
             "colorbar": {
              "outlinewidth": 0,
              "ticks": ""
             }
            },
            "type": "scatterternary"
           }
          ],
          "surface": [
           {
            "colorbar": {
             "outlinewidth": 0,
             "ticks": ""
            },
            "colorscale": [
             [
              0,
              "#0d0887"
             ],
             [
              0.1111111111111111,
              "#46039f"
             ],
             [
              0.2222222222222222,
              "#7201a8"
             ],
             [
              0.3333333333333333,
              "#9c179e"
             ],
             [
              0.4444444444444444,
              "#bd3786"
             ],
             [
              0.5555555555555556,
              "#d8576b"
             ],
             [
              0.6666666666666666,
              "#ed7953"
             ],
             [
              0.7777777777777778,
              "#fb9f3a"
             ],
             [
              0.8888888888888888,
              "#fdca26"
             ],
             [
              1,
              "#f0f921"
             ]
            ],
            "type": "surface"
           }
          ],
          "table": [
           {
            "cells": {
             "fill": {
              "color": "#EBF0F8"
             },
             "line": {
              "color": "white"
             }
            },
            "header": {
             "fill": {
              "color": "#C8D4E3"
             },
             "line": {
              "color": "white"
             }
            },
            "type": "table"
           }
          ]
         },
         "layout": {
          "annotationdefaults": {
           "arrowcolor": "#2a3f5f",
           "arrowhead": 0,
           "arrowwidth": 1
          },
          "autotypenumbers": "strict",
          "coloraxis": {
           "colorbar": {
            "outlinewidth": 0,
            "ticks": ""
           }
          },
          "colorscale": {
           "diverging": [
            [
             0,
             "#8e0152"
            ],
            [
             0.1,
             "#c51b7d"
            ],
            [
             0.2,
             "#de77ae"
            ],
            [
             0.3,
             "#f1b6da"
            ],
            [
             0.4,
             "#fde0ef"
            ],
            [
             0.5,
             "#f7f7f7"
            ],
            [
             0.6,
             "#e6f5d0"
            ],
            [
             0.7,
             "#b8e186"
            ],
            [
             0.8,
             "#7fbc41"
            ],
            [
             0.9,
             "#4d9221"
            ],
            [
             1,
             "#276419"
            ]
           ],
           "sequential": [
            [
             0,
             "#0d0887"
            ],
            [
             0.1111111111111111,
             "#46039f"
            ],
            [
             0.2222222222222222,
             "#7201a8"
            ],
            [
             0.3333333333333333,
             "#9c179e"
            ],
            [
             0.4444444444444444,
             "#bd3786"
            ],
            [
             0.5555555555555556,
             "#d8576b"
            ],
            [
             0.6666666666666666,
             "#ed7953"
            ],
            [
             0.7777777777777778,
             "#fb9f3a"
            ],
            [
             0.8888888888888888,
             "#fdca26"
            ],
            [
             1,
             "#f0f921"
            ]
           ],
           "sequentialminus": [
            [
             0,
             "#0d0887"
            ],
            [
             0.1111111111111111,
             "#46039f"
            ],
            [
             0.2222222222222222,
             "#7201a8"
            ],
            [
             0.3333333333333333,
             "#9c179e"
            ],
            [
             0.4444444444444444,
             "#bd3786"
            ],
            [
             0.5555555555555556,
             "#d8576b"
            ],
            [
             0.6666666666666666,
             "#ed7953"
            ],
            [
             0.7777777777777778,
             "#fb9f3a"
            ],
            [
             0.8888888888888888,
             "#fdca26"
            ],
            [
             1,
             "#f0f921"
            ]
           ]
          },
          "colorway": [
           "#636efa",
           "#EF553B",
           "#00cc96",
           "#ab63fa",
           "#FFA15A",
           "#19d3f3",
           "#FF6692",
           "#B6E880",
           "#FF97FF",
           "#FECB52"
          ],
          "font": {
           "color": "#2a3f5f"
          },
          "geo": {
           "bgcolor": "white",
           "lakecolor": "white",
           "landcolor": "white",
           "showlakes": true,
           "showland": true,
           "subunitcolor": "#C8D4E3"
          },
          "hoverlabel": {
           "align": "left"
          },
          "hovermode": "closest",
          "mapbox": {
           "style": "light"
          },
          "paper_bgcolor": "white",
          "plot_bgcolor": "white",
          "polar": {
           "angularaxis": {
            "gridcolor": "#EBF0F8",
            "linecolor": "#EBF0F8",
            "ticks": ""
           },
           "bgcolor": "white",
           "radialaxis": {
            "gridcolor": "#EBF0F8",
            "linecolor": "#EBF0F8",
            "ticks": ""
           }
          },
          "scene": {
           "xaxis": {
            "backgroundcolor": "white",
            "gridcolor": "#DFE8F3",
            "gridwidth": 2,
            "linecolor": "#EBF0F8",
            "showbackground": true,
            "ticks": "",
            "zerolinecolor": "#EBF0F8"
           },
           "yaxis": {
            "backgroundcolor": "white",
            "gridcolor": "#DFE8F3",
            "gridwidth": 2,
            "linecolor": "#EBF0F8",
            "showbackground": true,
            "ticks": "",
            "zerolinecolor": "#EBF0F8"
           },
           "zaxis": {
            "backgroundcolor": "white",
            "gridcolor": "#DFE8F3",
            "gridwidth": 2,
            "linecolor": "#EBF0F8",
            "showbackground": true,
            "ticks": "",
            "zerolinecolor": "#EBF0F8"
           }
          },
          "shapedefaults": {
           "line": {
            "color": "#2a3f5f"
           }
          },
          "ternary": {
           "aaxis": {
            "gridcolor": "#DFE8F3",
            "linecolor": "#A2B1C6",
            "ticks": ""
           },
           "baxis": {
            "gridcolor": "#DFE8F3",
            "linecolor": "#A2B1C6",
            "ticks": ""
           },
           "bgcolor": "white",
           "caxis": {
            "gridcolor": "#DFE8F3",
            "linecolor": "#A2B1C6",
            "ticks": ""
           }
          },
          "title": {
           "x": 0.05
          },
          "xaxis": {
           "automargin": true,
           "gridcolor": "#EBF0F8",
           "linecolor": "#EBF0F8",
           "ticks": "",
           "title": {
            "standoff": 15
           },
           "zerolinecolor": "#EBF0F8",
           "zerolinewidth": 2
          },
          "yaxis": {
           "automargin": true,
           "gridcolor": "#EBF0F8",
           "linecolor": "#EBF0F8",
           "ticks": "",
           "title": {
            "standoff": 15
           },
           "zerolinecolor": "#EBF0F8",
           "zerolinewidth": 2
          }
         }
        },
        "title": {
         "font": {
          "color": "Black",
          "size": 22
         },
         "text": "<b>Hierarchical Clustering</b>",
         "x": 0.5,
         "xanchor": "center",
         "yanchor": "top"
        },
        "width": 1000,
        "xaxis": {
         "mirror": "allticks",
         "rangemode": "tozero",
         "showgrid": false,
         "showline": true,
         "showticklabels": true,
         "ticks": "outside",
         "type": "linear",
         "zeroline": false
        },
        "yaxis": {
         "mirror": "allticks",
         "range": [
          -720,
          0
         ],
         "rangemode": "tozero",
         "showgrid": false,
         "showline": true,
         "showticklabels": true,
         "tickmode": "array",
         "ticks": "outside",
         "ticktext": [
          "58_arc_républicain_sortir",
          "16_républicain_république_i...",
          "40_républicains_grâce_répub...",
          "20_république_honte_êtes",
          "30_ve_république_vie",
          "67_aimez_aiment_république",
          "71_extrême_droite_immigration",
          "39_droite_extrême_gauche",
          "44_avez_réparerons_démocratie",
          "31_retraites_réforme_peuple",
          "4_49_ve_censure",
          "36_49_constitution_article",
          "22_scrutin_proportionnelle_...",
          "12_calédonie_nouvelle_caléd...",
          "56_esclavage_mer_toussaint",
          "38_langues_langue_régionales",
          "61_sport_jeux_sportifs",
          "11_armées_lpm_militaire",
          "43_snu_jeunesse_jeunes",
          "10_drapeau_mairies_européen",
          "32_impôt_salaires_riches",
          "15_scientifique_écologique_...",
          "45_dette_milliards_publiques",
          "14_collectivités_communes_l...",
          "27_polynésie_ordonnance_fra...",
          "6_mer_territoires_ultramarins",
          "13_logement_logements_locat...",
          "42_agricole_exploitation_ag...",
          "47_vols_métropoles_serm",
          "64_dématérialisation_servic...",
          "68_promesse_dignité_siècles",
          "34_emploi_chômage_chômeurs",
          "24_salariés_salaire_salaires",
          "65_mairie_fonction_secrétai...",
          "53_soignants_vaccinés_vacci...",
          "5_santé_soins_hôpital",
          "26_sociale_sécurité_constit...",
          "17_texte_remercie_proposition",
          "2_république_sommes_valeurs",
          "0_étrangers_immigration_asile",
          "21_femmes_ivg_avortement",
          "41_cnil_drones_données",
          "63_ligne_numérique_privée",
          "70_soustraire_religion_orig...",
          "59_citoyen_droits_homme",
          "52_mayotte_comores_mahorais",
          "66_ingérences_étrangères_ka...",
          "55_arménie_azerbaïdjan_armé...",
          "62_iran_islamique_iraniennes",
          "25_paty_samuel_terrorisme",
          "7_antisémitisme_israël_haine",
          "18_extrême_droite_terrorisme",
          "28_discriminations_discrimi...",
          "49_homosexualité_réparation...",
          "69_biens_restitution_spoliés",
          "54_octobre_algérie_1961",
          "57_séparatisme_loi_principes",
          "35_associations_contrat_eng...",
          "37_associations_bénévoles_e...",
          "60_quartiers_bâtiments_reco...",
          "50_quartiers_reconquête_pop...",
          "48_quartier_drogue_trafic",
          "8_policiers_ordre_gendarmes",
          "19_sécurité_police_policiers",
          "9_élus_maires_maire",
          "51_inéligibilité_peine_viol...",
          "46_peines_récidive_peine",
          "29_justice_magistrats_judic...",
          "23_aesh_handicap_enfants",
          "3_laïcité_école_élèves",
          "1_élèves_école_éducation",
          "33_parents_école_élèves"
         ],
         "tickvals": [
          -5,
          -15,
          -25,
          -35,
          -45,
          -55,
          -65,
          -75,
          -85,
          -95,
          -105,
          -115,
          -125,
          -135,
          -145,
          -155,
          -165,
          -175,
          -185,
          -195,
          -205,
          -215,
          -225,
          -235,
          -245,
          -255,
          -265,
          -275,
          -285,
          -295,
          -305,
          -315,
          -325,
          -335,
          -345,
          -355,
          -365,
          -375,
          -385,
          -395,
          -405,
          -415,
          -425,
          -435,
          -445,
          -455,
          -465,
          -475,
          -485,
          -495,
          -505,
          -515,
          -525,
          -535,
          -545,
          -555,
          -565,
          -575,
          -585,
          -595,
          -605,
          -615,
          -625,
          -635,
          -645,
          -655,
          -665,
          -675,
          -685,
          -695,
          -705,
          -715
         ],
         "type": "linear",
         "zeroline": false
        }
       }
      }
     },
     "metadata": {},
     "output_type": "display_data"
    }
   ],
   "source": [
    "fig_hierarchical = topic_model.visualize_hierarchy(\n",
    "    hierarchical_topics=hierarchical_topics\n",
    ")\n",
    "fig_hierarchical"
   ]
  },
  {
   "cell_type": "code",
   "execution_count": null,
   "id": "be981cff",
   "metadata": {},
   "outputs": [],
   "source": [
    "fig_hierarchical.write_html(\"../reports/figures/hierarchical_topics.html\")"
   ]
  },
  {
   "cell_type": "code",
   "execution_count": 40,
   "id": "08fb5c1e",
   "metadata": {},
   "outputs": [
    {
     "name": "stdout",
     "output_type": "stream",
     "text": [
      ".\n",
      "├─république_républicain_arc_républicains_honte\n",
      "│    ├─républicain_arc_républicains_république_grâce\n",
      "│    │    ├─■──arc_républicain_sortir_étonnement_situerait ── Topic: 58\n",
      "│    │    └─républicain_républicains_république_grâce_iiie\n",
      "│    │         ├─■──républicain_république_iiie_ordre_barrage ── Topic: 16\n",
      "│    │         └─■──républicains_grâce_républicain_attachées_espèrent ── Topic: 40\n",
      "│    └─république_honte_ve_aimez_vie\n",
      "│         ├─république_honte_ve_vie_êtes\n",
      "│         │    ├─■──république_honte_êtes_détruisant_détruisez ── Topic: 20\n",
      "│         │    └─■──ve_république_vie_présidente_pen ── Topic: 30\n",
      "│         └─■──aimez_aiment_république_rance_aimait ── Topic: 67\n",
      "└─qu_république_loi_été_france\n",
      "     ├─qu_loi_république_france_bien\n",
      "     │    ├─calédonie_nouvelle_49_ve_république\n",
      "     │    │    ├─droite_extrême_gauche_peur_histoire\n",
      "     │    │    │    ├─■──extrême_droite_immigration_peur_ennemi ── Topic: 71\n",
      "     │    │    │    └─■──droite_extrême_gauche_histoire_dos ── Topic: 39\n",
      "     │    │    └─calédonie_nouvelle_49_ve_élections\n",
      "     │    │         ├─49_ve_assemblée_avez_constitution\n",
      "     │    │         │    ├─retraites_réforme_peuple_avez_démocratie\n",
      "     │    │         │    │    ├─■──avez_réparerons_démocratie_macron_emmanuel ── Topic: 44\n",
      "     │    │         │    │    └─■──retraites_réforme_peuple_retraite_64 ── Topic: 31\n",
      "     │    │         │    └─49_ve_constitution_assemblée_majorité\n",
      "     │    │         │         ├─■──49_ve_censure_assemblée_majorité ── Topic: 4\n",
      "     │    │         │         └─■──49_constitution_article_alinéa_1958 ── Topic: 36\n",
      "     │    │         └─calédonie_nouvelle_élections_scrutin_calédoniens\n",
      "     │    │              ├─■──scrutin_proportionnelle_mode_majoritaire_ve ── Topic: 22\n",
      "     │    │              └─■──calédonie_nouvelle_calédoniens_accord_nouméa ── Topic: 12\n",
      "     │    └─qu_loi_république_france_droit\n",
      "     │         ├─mer_collectivités_territoires_qu_euros\n",
      "     │         │    ├─langues_armées_drapeau_langue_militaire\n",
      "     │         │    │    ├─langues_langue_régionales_sport_française\n",
      "     │         │    │    │    ├─■──esclavage_mer_toussaint_louverture_aboli ── Topic: 56\n",
      "     │         │    │    │    └─langues_langue_régionales_sport_jeux\n",
      "     │         │    │    │         ├─■──langues_langue_régionales_française_enseignement ── Topic: 38\n",
      "     │         │    │    │         └─■──sport_jeux_sportifs_clubs_sportive ── Topic: 61\n",
      "     │         │    │    └─armées_drapeau_militaire_défense_programmation\n",
      "     │         │    │         ├─armées_militaire_défense_lpm_programmation\n",
      "     │         │    │         │    ├─■──armées_lpm_militaire_programmation_défense ── Topic: 11\n",
      "     │         │    │         │    └─■──snu_jeunesse_jeunes_militaire_smv ── Topic: 43\n",
      "     │         │    │         └─■──drapeau_mairies_européen_tricolore_pavoisement ── Topic: 10\n",
      "     │         │    └─mer_collectivités_territoires_qu_euros\n",
      "     │         │         ├─collectivités_milliards_finances_euros_dette\n",
      "     │         │         │    ├─■──impôt_salaires_riches_milliards_entreprises ── Topic: 32\n",
      "     │         │         │    └─collectivités_milliards_finances_dette_publiques\n",
      "     │         │         │         ├─dette_milliards_publiques_écologique_finances\n",
      "     │         │         │         │    ├─■──scientifique_écologique_climatique_énergie_nucléaire ── Topic: 15\n",
      "     │         │         │         │    └─■──dette_milliards_publiques_dépenses_finances ── Topic: 45\n",
      "     │         │         │         └─■──collectivités_communes_locales_finances_dgf ── Topic: 14\n",
      "     │         │         └─mer_territoires_polynésie_ultramarins_ordonnance\n",
      "     │         │              ├─mer_territoires_polynésie_ultramarins_ordonnance\n",
      "     │         │              │    ├─mer_territoires_polynésie_ultramarins_ordonnance\n",
      "     │         │              │    │    ├─mer_territoires_polynésie_ultramarins_ordonnance\n",
      "     │         │              │    │    │    ├─■──polynésie_ordonnance_française_fonction_publique ── Topic: 27\n",
      "     │         │              │    │    │    └─■──mer_territoires_ultramarins_prix_eau ── Topic: 6\n",
      "     │         │              │    │    └─■──logement_logements_locataires_abri_domicile ── Topic: 13\n",
      "     │         │              │    └─■──agricole_exploitation_agriculteurs_marins_agriculture ── Topic: 42\n",
      "     │         │              └─services_dématérialisation_publics_numérique_accueil\n",
      "     │         │                   ├─■──vols_métropoles_serm_transports_ferroviaire ── Topic: 47\n",
      "     │         │                   └─■──dématérialisation_services_numérique_publics_accueil ── Topic: 64\n",
      "     │         └─droit_loi_femmes_santé_qu\n",
      "     │              ├─droit_femmes_santé_loi_qu\n",
      "     │              │    ├─emploi_salariés_salaires_travail_salaire\n",
      "     │              │    │    ├─■──promesse_dignité_siècles_précaires_correspondre ── Topic: 68\n",
      "     │              │    │    └─emploi_salariés_salaires_travail_salaire\n",
      "     │              │    │         ├─emploi_salariés_salaires_salaire_entreprises\n",
      "     │              │    │         │    ├─■──emploi_chômage_chômeurs_travail_rsa ── Topic: 34\n",
      "     │              │    │         │    └─■──salariés_salaire_salaires_entreprises_valeur ── Topic: 24\n",
      "     │              │    │         └─■──mairie_fonction_secrétaires_publique_métier ── Topic: 65\n",
      "     │              │    └─droit_santé_loi_qu_femmes\n",
      "     │              │         ├─santé_droit_loi_étrangers_qu\n",
      "     │              │         │    ├─santé_soins_hôpital_soignants_système\n",
      "     │              │         │    │    ├─■──soignants_vaccinés_vaccinale_santé_covid ── Topic: 53\n",
      "     │              │         │    │    └─■──santé_soins_hôpital_médecins_soignants ── Topic: 5\n",
      "     │              │         │    └─droit_étrangers_femmes_immigration_asile\n",
      "     │              │         │         ├─■──sociale_sécurité_constitutionnelle_institution_constitution ── Topic: 26\n",
      "     │              │         │         └─droit_étrangers_femmes_immigration_asile\n",
      "     │              │         │              ├─étrangers_immigration_asile_france_intégration\n",
      "     │              │         │              │    ├─■──texte_remercie_proposition_loi_amendements ── Topic: 17\n",
      "     │              │         │              │    └─étrangers_immigration_asile_intégration_france\n",
      "     │              │         │              │         ├─■──république_sommes_valeurs_français_compromis ── Topic: 2\n",
      "     │              │         │              │         └─■──étrangers_immigration_asile_intégration_expulsion ── Topic: 0\n",
      "     │              │         │              └─■──femmes_ivg_avortement_droit_liberté ── Topic: 21\n",
      "     │              │         └─cnil_ligne_numérique_données_libertés\n",
      "     │              │              ├─■──cnil_drones_données_avis_conseil ── Topic: 41\n",
      "     │              │              └─■──ligne_numérique_privée_image_contre ── Topic: 63\n",
      "     │              └─citoyen_droits_déclaration_homme_article\n",
      "     │                   ├─■──soustraire_religion_origine_prévaloir_lois ── Topic: 70\n",
      "     │                   └─■──citoyen_droits_homme_déclaration_liberté ── Topic: 59\n",
      "     └─école_élèves_qu_république_été\n",
      "          ├─contre_qu_élus_été_république\n",
      "          │    ├─france_contre_antisémitisme_terrorisme_arménie\n",
      "          │    │    ├─mayotte_comores_étrangères_ingérences_kazakhstan\n",
      "          │    │    │    ├─■──mayotte_comores_mahorais_migratoire_comorienne ── Topic: 52\n",
      "          │    │    │    └─■──ingérences_étrangères_kazakhstan_mayotte_ingérence ── Topic: 66\n",
      "          │    │    └─antisémitisme_france_contre_arménie_terrorisme\n",
      "          │    │         ├─arménie_iran_azerbaïdjan_arménien_karabakh\n",
      "          │    │         │    ├─■──arménie_azerbaïdjan_arménien_karabakh_arméniens ── Topic: 55\n",
      "          │    │         │    └─■──iran_islamique_iraniennes_iranien_iraniens ── Topic: 62\n",
      "          │    │         └─antisémitisme_terrorisme_contre_discriminations_france\n",
      "          │    │              ├─terrorisme_antisémitisme_haine_extrême_contre\n",
      "          │    │              │    ├─■──paty_samuel_terrorisme_bernard_dominique ── Topic: 25\n",
      "          │    │              │    └─antisémitisme_terrorisme_extrême_haine_droite\n",
      "          │    │              │         ├─■──antisémitisme_israël_haine_antisémites_juifs ── Topic: 7\n",
      "          │    │              │         └─■──extrême_droite_terrorisme_groupuscules_ultradroite ── Topic: 18\n",
      "          │    │              └─discriminations_discrimination_victimes_histoire_mémoire\n",
      "          │    │                   ├─discriminations_discrimination_tests_homosexualité_réparation\n",
      "          │    │                   │    ├─■──discriminations_discrimination_tests_racisme_statistiques ── Topic: 28\n",
      "          │    │                   │    └─■──homosexualité_réparation_1942_vichy_homosexuelles ── Topic: 49\n",
      "          │    │                   └─octobre_histoire_mémoire_algérie_1961\n",
      "          │    │                        ├─■──biens_restitution_spoliés_culturels_restitutions ── Topic: 69\n",
      "          │    │                        └─■──octobre_algérie_1961_17_victimes ── Topic: 54\n",
      "          │    └─élus_associations_policiers_justice_violences\n",
      "          │         ├─associations_engagement_associatif_bénévoles_contrat\n",
      "          │         │    ├─associations_engagement_associatif_bénévoles_contrat\n",
      "          │         │    │    ├─■──séparatisme_loi_principes_confortant_radicalisation ── Topic: 57\n",
      "          │         │    │    └─associations_engagement_associatif_bénévoles_contrat\n",
      "          │         │    │         ├─■──associations_contrat_engagement_association_subventions ── Topic: 35\n",
      "          │         │    │         └─■──associations_bénévoles_engagement_associatif_bénévole ── Topic: 37\n",
      "          │         │    └─quartiers_reconquête_habitants_bâtiments_reconstruction\n",
      "          │         │         ├─■──quartiers_bâtiments_reconstruction_publics_reconstruire ── Topic: 60\n",
      "          │         │         └─■──quartiers_reconquête_populaires_habitants_républicaine ── Topic: 50\n",
      "          │         └─élus_policiers_justice_violences_police\n",
      "          │              ├─élus_policiers_police_maires_sécurité\n",
      "          │              │    ├─■──quartier_drogue_trafic_ville_stupéfiants ── Topic: 48\n",
      "          │              │    └─élus_policiers_maires_police_violences\n",
      "          │              │         ├─policiers_police_gendarmes_ordre_forces\n",
      "          │              │         │    ├─■──policiers_ordre_gendarmes_police_forces ── Topic: 8\n",
      "          │              │         │    └─■──sécurité_police_policiers_gendarmes_ministère ── Topic: 19\n",
      "          │              │         └─■──élus_maires_maire_locaux_élu ── Topic: 9\n",
      "          │              └─justice_magistrats_peine_récidive_peines\n",
      "          │                   ├─peine_peines_récidive_délits_inéligibilité\n",
      "          │                   │    ├─■──inéligibilité_peine_violences_délits_complémentaire ── Topic: 51\n",
      "          │                   │    └─■──peines_récidive_peine_planchers_emprisonnement ── Topic: 46\n",
      "          │                   └─■──justice_magistrats_judiciaire_magistrature_moyens ── Topic: 29\n",
      "          └─école_élèves_éducation_laïcité_scolaire\n",
      "               ├─■──aesh_handicap_enfants_école_élèves ── Topic: 23\n",
      "               └─école_élèves_laïcité_éducation_enseignants\n",
      "                    ├─école_élèves_laïcité_éducation_enseignants\n",
      "                    │    ├─■──laïcité_école_élèves_uniforme_religieux ── Topic: 3\n",
      "                    │    └─■──élèves_école_éducation_enseignants_enseignement ── Topic: 1\n",
      "                    └─■──parents_école_élèves_conseils_extrême ── Topic: 33\n",
      "\n"
     ]
    }
   ],
   "source": [
    "tree = topic_model.get_topic_tree(hierarchical_topics)\n",
    "print(tree)"
   ]
  },
  {
   "cell_type": "markdown",
   "id": "3759ab0d",
   "metadata": {},
   "source": [
    "## Topic reduction"
   ]
  },
  {
   "cell_type": "code",
   "execution_count": null,
   "id": "4852ccac",
   "metadata": {},
   "outputs": [],
   "source": [
    "# topics_to_merge = [[X, Y],\n",
    "#                    [Z, W]]\n",
    "# topic_model.merge_topics(df[\"Texte_clean\"], topics_to_merge)"
   ]
  },
  {
   "cell_type": "code",
   "execution_count": null,
   "id": "64ea47c7",
   "metadata": {},
   "outputs": [
    {
     "name": "stderr",
     "output_type": "stream",
     "text": [
      "2025-07-02 18:46:30,812 - BERTopic - Topic reduction - Reducing number of topics\n",
      "2025-07-02 18:46:30,813 - BERTopic - Topic reduction - Reduced number of topics from 20 to 20\n"
     ]
    },
    {
     "data": {
      "text/plain": [
       "<bertopic._bertopic.BERTopic at 0x3fbea0f80>"
      ]
     },
     "execution_count": 48,
     "metadata": {},
     "output_type": "execute_result"
    }
   ],
   "source": [
    "# DONT : # topic_model.reduce_topics(df[\"Texte_clean\"], nr_topics=40) # DONT, IT NUKES THE TOPICS IN MODEL\n",
    "# # Access updated topics\n",
    "# topics = topic_model.topics_"
   ]
  },
  {
   "cell_type": "markdown",
   "id": "e5260810",
   "metadata": {},
   "source": [
    "### Topics per class"
   ]
  },
  {
   "cell_type": "code",
   "execution_count": 52,
   "id": "5e411622",
   "metadata": {},
   "outputs": [
    {
     "data": {
      "text/plain": [
       "Index(['UID', 'SeanceRef', 'SessionRef', 'DateSeance', 'DateSeanceJour',\n",
       "       'NumSeanceJour', 'NumSeance', 'TypeAssemblee', 'Legislature', 'Session',\n",
       "       'NomFichierJO', 'President', 'Titre_general', 'Sous_titre',\n",
       "       'Contexte_hierarchique', 'Section_courante', 'Sujet_point',\n",
       "       'Valeur_ODJ', 'Point_ID', 'Point_type', 'ID_paragraphe', 'Ordre_seance',\n",
       "       'Code_grammaire', 'Code_style', 'Code_parole', 'Role_debat',\n",
       "       'Nom_orateur', 'Qualite_orateur', 'ID_orateur', 'stime', 'Texte',\n",
       "       'Source_extraction', 'len_dirtytext', 'legislatureLast', 'civ', 'nom',\n",
       "       'prenom', 'villeNaissance', 'naissance', 'age', 'groupe', 'groupeAbrev',\n",
       "       'departementNom', 'departementCode', 'circo', 'datePriseFonction',\n",
       "       'job', 'mail', 'twitter', 'facebook', 'website', 'nombreMandats',\n",
       "       'experienceDepute', 'scoreParticipation',\n",
       "       'scoreParticipationSpecialite', 'scoreLoyaute', 'scoreMajorite',\n",
       "       'active', 'dateMaj', 'Texte_clean', 'repu_match_valide',\n",
       "       'DateSeance_ts', 'DateSeance_day'],\n",
       "      dtype='object')"
      ]
     },
     "execution_count": 52,
     "metadata": {},
     "output_type": "execute_result"
    }
   ],
   "source": [
    "df.columns"
   ]
  },
  {
   "cell_type": "code",
   "execution_count": 74,
   "id": "424ab052",
   "metadata": {},
   "outputs": [],
   "source": [
    "df[\"groupeAbrev\"] = df[\"groupeAbrev\"].fillna(\"gouv_TEMP\")"
   ]
  },
  {
   "cell_type": "code",
   "execution_count": null,
   "id": "fc9831fc",
   "metadata": {},
   "outputs": [],
   "source": [
    "# ATTENTION, PLANTAIT À CAUSE DES NA\n",
    "topics_per_class = topic_model.topics_per_class(\n",
    "    df[\"Texte_clean\"], classes=df[\"groupeAbrev\"]\n",
    ")"
   ]
  },
  {
   "cell_type": "code",
   "execution_count": null,
   "id": "1b3958aa",
   "metadata": {},
   "outputs": [
    {
     "data": {
      "application/vnd.plotly.v1+json": {
       "config": {
        "plotlyServerURL": "https://plot.ly"
       },
       "data": [
        {
         "hoverinfo": "text",
         "hovertext": [
          "<b>Topic 0</b><br>Words: bateaux, étrangers, immigration, pays, craignez",
          "<b>Topic 0</b><br>Words: immigration, populiste, article, référendum, droits",
          "<b>Topic 0</b><br>Words: étrangers, immigration, vérité, france, asile",
          "<b>Topic 0</b><br>Words: mna, intégration, étrangers, immigration, asile",
          "<b>Topic 0</b><br>Words: étrangers, expulsion, contentieux, immigration, mineurs",
          "<b>Topic 0</b><br>Words: frontières, adopté, étrangers, demain, asile",
          "<b>Topic 0</b><br>Words: mariage, immigration, asile, intégration, étrangers",
          "<b>Topic 0</b><br>Words: france, immigration, étrangers, asile, français",
          "<b>Topic 0</b><br>Words: immigration, assouplir, étrangers, expulsion, insécurité",
          "<b>Topic 0</b><br>Words: asile, étrangers, immigration, séjour, intégration",
          "<b>Topic 0</b><br>Words: protégeons, rechange, débarrasserez, ascendance, opériez",
          "<b>Topic 0</b><br>Words: irrégulière, immigration, lorsqu, étrangers, intégration",
          "<b>Topic 0</b><br>Words: asile, demandes, séjour, étrangers, immigration",
          "<b>Topic 0</b><br>Words: étrangers, immigration, intégration, asile, expulsion",
          "<b>Topic 0</b><br>Words: étrangers, expulsion, immigration, asile, séjour",
          "<b>Topic 0</b><br>Words: expulsion, sûreté, asile, immigration, personnes",
          "<b>Topic 0</b><br>Words: étrangers, immigration, intégration, droit, migratoire"
         ],
         "marker": {
          "color": "#E69F00"
         },
         "name": "0_étrangers_immigration_asile_intégratio...",
         "orientation": "h",
         "type": "bar",
         "visible": true,
         "x": [
          8,
          2,
          16,
          7,
          7,
          2,
          6,
          23,
          3,
          56,
          2,
          4,
          10,
          17,
          11,
          5,
          9
         ],
         "y": [
          "DR",
          "SOC-A",
          "ECOS",
          "DEM",
          "RN",
          "NI",
          "RE",
          "LFI-NFP",
          "LR",
          "EPR",
          "LFI-NUPES",
          "LIOT",
          "UDR",
          "gouv_TEMP",
          "HOR",
          "GDR",
          "SOC"
         ]
        },
        {
         "hoverinfo": "text",
         "hovertext": [
          "<b>Topic 1</b><br>Words: école, éducation, élèves, lycée, enseignants",
          "<b>Topic 1</b><br>Words: calais, passera, postes, surseoir, inondations",
          "<b>Topic 1</b><br>Words: élèves, école, enseignement, éducation, professionnel",
          "<b>Topic 1</b><br>Words: élèves, école, éducation, scolaire, classes",
          "<b>Topic 1</b><br>Words: élèves, école, éducation, scolaire, enseignement",
          "<b>Topic 1</b><br>Words: élèves, école, scolaire, éducation, enseignement",
          "<b>Topic 1</b><br>Words: élèves, école, éducation, enfants, classes",
          "<b>Topic 1</b><br>Words: calais, plan, rebond, fermeture, règle",
          "<b>Topic 1</b><br>Words: école, élèves, éducation, classe, enseignants",
          "<b>Topic 1</b><br>Words: élèves, heures, enseignants, établissements, école",
          "<b>Topic 1</b><br>Words: élèves, breton, école, capes, postes",
          "<b>Topic 1</b><br>Words: élèves, école, enseignement, éducation, scolaire",
          "<b>Topic 1</b><br>Words: école, péril, jules, ferry, solutions",
          "<b>Topic 1</b><br>Words: élèves, école, éducation, classes, enseignants",
          "<b>Topic 1</b><br>Words: école, éducation, élèves, scolaire, rentrée",
          "<b>Topic 1</b><br>Words: milieu, études, dut, gallot, école",
          "<b>Topic 1</b><br>Words: élèves, école, danse, éducation, enseignants"
         ],
         "marker": {
          "color": "#56B4E9"
         },
         "name": "1_élèves_école_éducation_enseignants",
         "orientation": "h",
         "type": "bar",
         "visible": "legendonly",
         "x": [
          5,
          1,
          18,
          12,
          20,
          15,
          19,
          2,
          15,
          7,
          2,
          9,
          1,
          7,
          9,
          3,
          7
         ],
         "y": [
          "DR",
          "SOC-A",
          "ECOS",
          "DEM",
          "RN",
          "RE",
          "LFI-NFP",
          "LR",
          "EPR",
          "LFI-NUPES",
          "LIOT",
          "gouv_TEMP",
          "ECOLO",
          "HOR",
          "GDR",
          "GDR-NUPES",
          "SOC"
         ]
        },
        {
         "hoverinfo": "text",
         "hovertext": [
          "<b>Topic 2</b><br>Words: partageaient, éphémère, chrétiens, décisive, gaullistes",
          "<b>Topic 2</b><br>Words: convictions, république, valeurs, défendre, ici",
          "<b>Topic 2</b><br>Words: courage, parlement, constructif, affaiblissement, république",
          "<b>Topic 2</b><br>Words: idée, occupaient, jacobins, tabula, réagit",
          "<b>Topic 2</b><br>Words: prenions, mondiales, 1901, aînés, guerres",
          "<b>Topic 2</b><br>Words: élémentaires, parlons, républicains, principes, progrès",
          "<b>Topic 2</b><br>Words: républicains, yeux, république, fraternité, principes",
          "<b>Topic 2</b><br>Words: textes, compromis, arc, sommes, république",
          "<b>Topic 2</b><br>Words: égalité, éternellement, valeurs, france, principes",
          "<b>Topic 2</b><br>Words: défavorable, révolution, dégradante, avilissez, extraordinairement",
          "<b>Topic 2</b><br>Words: combat, mesdames, combattons, messieurs, conviction",
          "<b>Topic 2</b><br>Words: français, horizons, sommes, république, chers",
          "<b>Topic 2</b><br>Words: resserrer, perdons, partenariats, solide, serai",
          "<b>Topic 2</b><br>Words: hésiter, humiliés, réconcilier, mettons, donnons",
          "<b>Topic 2</b><br>Words: respectez, parole, démocratie, boutiquiers, différenciés"
         ],
         "marker": {
          "color": "#009E73"
         },
         "name": "2_république_sommes_valeurs_français",
         "orientation": "h",
         "type": "bar",
         "visible": "legendonly",
         "x": [
          2,
          21,
          6,
          3,
          1,
          8,
          19,
          38,
          5,
          1,
          7,
          3,
          1,
          1,
          6
         ],
         "y": [
          "DR",
          "ECOS",
          "DEM",
          "RN",
          "NI",
          "RE",
          "LFI-NFP",
          "EPR",
          "LIOT",
          "UDR",
          "gouv_TEMP",
          "HOR",
          "GDR",
          "GDR-NUPES",
          "SOC"
         ]
        },
        {
         "hoverinfo": "text",
         "hovertext": [
          "<b>Topic 3</b><br>Words: laïcité, religieux, signes, élèves, école",
          "<b>Topic 3</b><br>Words: école, énergique, compliment, enraciné, programme",
          "<b>Topic 3</b><br>Words: laïcité, voûte, clé, religion, 118",
          "<b>Topic 3</b><br>Words: tenue, uniforme, laïcité, école, établissement",
          "<b>Topic 3</b><br>Words: uniforme, mode, vêtement, récréation, saute",
          "<b>Topic 3</b><br>Words: laïcité, religieux, école, religion, élèves",
          "<b>Topic 3</b><br>Words: saint, invitation, laïcité, chanoine, chambéry",
          "<b>Topic 3</b><br>Words: confiance, port, tenue, déviances, encadrants",
          "<b>Topic 3</b><br>Words: laïcité, école, uniforme, élèves, port",
          "<b>Topic 3</b><br>Words: laïcité, école, opportun, laïque, forme",
          "<b>Topic 3</b><br>Words: laïcité, élèves, école, 1905, religieux",
          "<b>Topic 3</b><br>Words: civique, laïcité, école, cyberharceleurs, élèves",
          "<b>Topic 3</b><br>Words: antirépublicaine, institué, gratuite, ferry, atteinte",
          "<b>Topic 3</b><br>Words: religieux, bâtiments, bénis, cohabitent, expliciter",
          "<b>Topic 3</b><br>Words: laïcité, uniforme, école, port, vêtements"
         ],
         "marker": {
          "color": "#F0E442"
         },
         "name": "3_laïcité_école_élèves_uniforme",
         "orientation": "h",
         "type": "bar",
         "visible": "legendonly",
         "x": [
          3,
          3,
          3,
          16,
          2,
          11,
          5,
          1,
          18,
          2,
          43,
          3,
          1,
          1,
          4
         ],
         "y": [
          "DR",
          "ECOS",
          "DEM",
          "RN",
          "NI",
          "RE",
          "LFI-NFP",
          "LR",
          "EPR",
          "LIOT",
          "gouv_TEMP",
          "HOR",
          "GDR",
          "GDR-NUPES",
          "SOC"
         ]
        },
        {
         "hoverinfo": "text",
         "hovertext": [
          "<b>Topic 4</b><br>Words: obstruction, 49, ve, gouvernement, assemblée",
          "<b>Topic 4</b><br>Words: 49, finances, ve, censure, fois",
          "<b>Topic 4</b><br>Words: 49, majorité, démocratie, madame, ve",
          "<b>Topic 4</b><br>Words: censure, année, 49, constitution, motions",
          "<b>Topic 4</b><br>Words: aligne, censure, motions, article, ve",
          "<b>Topic 4</b><br>Words: 49, censure, ve, contrairement, rocard",
          "<b>Topic 4</b><br>Words: oppositions, fallu, 49, laisse, insoumise",
          "<b>Topic 4</b><br>Words: 49, ve, minoritaires, assemblée, avez",
          "<b>Topic 4</b><br>Words: ceta, assemblée, ratification, transmettre, lecture",
          "<b>Topic 4</b><br>Words: auriez, constitution, décidez, censure, ve",
          "<b>Topic 4</b><br>Words: 49, directive, assemblée, directives, ve",
          "<b>Topic 4</b><br>Words: fois, ve, avez, 49, assemblée",
          "<b>Topic 4</b><br>Words: mentir, protestez, créé, ve, intangible",
          "<b>Topic 4</b><br>Words: majorité, marchandage, reproche, majoritaires, réunir",
          "<b>Topic 4</b><br>Words: surgit, pêchés, contorsionnisme, tentiez, reproduisez",
          "<b>Topic 4</b><br>Words: ve, exécutif, jeudi, présidente, assemblée",
          "<b>Topic 4</b><br>Words: 49, censure, ve, finances, motions"
         ],
         "marker": {
          "color": "#D55E00"
         },
         "name": "4_49_ve_censure_assemblée",
         "orientation": "h",
         "type": "bar",
         "visible": "legendonly",
         "x": [
          4,
          3,
          14,
          8,
          3,
          3,
          2,
          14,
          2,
          4,
          4,
          3,
          2,
          1,
          1,
          4,
          9
         ],
         "y": [
          "DR",
          "SOC-A",
          "ECOS",
          "DEM",
          "RN",
          "NI",
          "RE",
          "LFI-NFP",
          "LR",
          "EPR",
          "LFI-NUPES",
          "LIOT",
          "HOR",
          "LAREM",
          "GDR",
          "GDR-NUPES",
          "SOC"
         ]
        },
        {
         "hoverinfo": "text",
         "hovertext": [
          "<b>Topic 5</b><br>Words: argentan, aumônerie, aumônier, patients, poste",
          "<b>Topic 5</b><br>Words: scandale, patients, soins, martinique, cancer",
          "<b>Topic 5</b><br>Words: santé, hôpital, soignants, charge, soins",
          "<b>Topic 5</b><br>Words: soins, ehpad, humilité, écrire, devons",
          "<b>Topic 5</b><br>Words: soins, santé, palliatifs, hôpital, charge",
          "<b>Topic 5</b><br>Words: exceptions, avoue, clause, respectives, déroger",
          "<b>Topic 5</b><br>Words: inintéressant, privons, expatriés, intuition, ajuster",
          "<b>Topic 5</b><br>Words: santé, soins, urgences, hôpital, patients",
          "<b>Topic 5</b><br>Words: santé, médecins, soins, hôpital, soignants",
          "<b>Topic 5</b><br>Words: santé, honoraires, moselle, généraliste, soins",
          "<b>Topic 5</b><br>Words: santé, soins, détenus, psychiatrie, régulation",
          "<b>Topic 5</b><br>Words: médecin, femme, jeune, culpabilité, hôpital",
          "<b>Topic 5</b><br>Words: santé, soins, hôpital, système, professionnels",
          "<b>Topic 5</b><br>Words: trésorerie, confusion, problèmes, milliards, hôpitaux",
          "<b>Topic 5</b><br>Words: santé, médicament, médecins, martinique, soins",
          "<b>Topic 5</b><br>Words: santé, soins, sociale, palliatifs, médecins",
          "<b>Topic 5</b><br>Words: soins, santé, palliatifs, hôpital, médicaux"
         ],
         "marker": {
          "color": "#0072B2"
         },
         "name": "5_santé_soins_hôpital_médecins",
         "orientation": "h",
         "type": "bar",
         "visible": "legendonly",
         "x": [
          1,
          1,
          3,
          2,
          6,
          1,
          1,
          8,
          8,
          1,
          4,
          1,
          11,
          1,
          3,
          5,
          20
         ],
         "y": [
          "DR",
          "SOC-A",
          "ECOS",
          "DEM",
          "RN",
          "NI",
          "RE",
          "LFI-NFP",
          "EPR",
          "LFI-NUPES",
          "LIOT",
          "gouv_TEMP",
          "HOR",
          "LAREM",
          "GDR",
          "GDR-NUPES",
          "SOC"
         ]
        },
        {
         "hoverinfo": "text",
         "hovertext": [
          "<b>Topic 6</b><br>Words: mer, kamardine, mansour, guyane, belfort",
          "<b>Topic 6</b><br>Words: mer, vie, territoires, prix, enquête",
          "<b>Topic 6</b><br>Words: territoires, mer, hexagone, prix, ultramarins",
          "<b>Topic 6</b><br>Words: mer, hexagone, ultramarins, territoires, prix",
          "<b>Topic 6</b><br>Words: mer, territoires, ultramarins, eau, compatriotes",
          "<b>Topic 6</b><br>Words: mer, territoires, ultramarins, tolérerions, hexagone",
          "<b>Topic 6</b><br>Words: mer, territoires, électricité, tarifs, hexagone",
          "<b>Topic 6</b><br>Words: eau, mer, territoires, prix, guadeloupe",
          "<b>Topic 6</b><br>Words: mayotte, méritons, mer, compensation, rsa",
          "<b>Topic 6</b><br>Words: travaillez, mahoraise, calculs, incarnation, politiciens",
          "<b>Topic 6</b><br>Words: mer, eau, territoires, ultramarins, continuité",
          "<b>Topic 6</b><br>Words: mer, prix, territoriale, continuité, ultramarins",
          "<b>Topic 6</b><br>Words: mer, territoires, ultramarins, millions, prix",
          "<b>Topic 6</b><br>Words: mer, ultramarins, territoires, prix, continuité",
          "<b>Topic 6</b><br>Words: mer, chlordécone, territoires, prix, ultramarins"
         ],
         "marker": {
          "color": "#CC79A7"
         },
         "name": "6_mer_territoires_ultramarins_prix",
         "orientation": "h",
         "type": "bar",
         "visible": "legendonly",
         "x": [
          3,
          2,
          6,
          3,
          11,
          3,
          4,
          8,
          2,
          1,
          7,
          3,
          4,
          11,
          6
         ],
         "y": [
          "DR",
          "SOC-A",
          "ECOS",
          "DEM",
          "RN",
          "NI",
          "RE",
          "LFI-NFP",
          "LR",
          "EPR",
          "LIOT",
          "gouv_TEMP",
          "HOR",
          "GDR",
          "SOC"
         ]
        },
        {
         "hoverinfo": "text",
         "hovertext": [
          "<b>Topic 7</b><br>Words: concomitamment, chancelante, pouls, préoccupant, dialogue",
          "<b>Topic 7</b><br>Words: injures, antisémitisme, publiques, restaurative, racisme",
          "<b>Topic 7</b><br>Words: antisémitisme, actes, antisémite, antisémites, dizaines",
          "<b>Topic 7</b><br>Words: antisémitisme, racisme, partout, israël, terrorisme",
          "<b>Topic 7</b><br>Words: terrorisme, terroriste, panneau, assassinat, gauchisme",
          "<b>Topic 7</b><br>Words: antisémitisme, antisémites, hamas, incendie, juive",
          "<b>Topic 7</b><br>Words: israël, antisémitisme, juifs, gauche, accuse",
          "<b>Topic 7</b><br>Words: antisémitisme, haine, antisémites, juive, juifs",
          "<b>Topic 7</b><br>Words: israël, terroristes, attablés, terrasses, cisjordanie",
          "<b>Topic 7</b><br>Words: antisémitisme, haine, hamas, contre, wagner",
          "<b>Topic 7</b><br>Words: antisémitisme, haine, juifs, israël, resterai",
          "<b>Topic 7</b><br>Words: résolution, israël, critique, éclats, siégeais",
          "<b>Topic 7</b><br>Words: avocat, badinter, robert, antisémitisme, clients"
         ],
         "marker": {
          "color": "#E69F00"
         },
         "name": "7_antisémitisme_israël_haine_antisémites",
         "orientation": "h",
         "type": "bar",
         "visible": "legendonly",
         "x": [
          1,
          1,
          2,
          3,
          6,
          3,
          8,
          27,
          1,
          4,
          4,
          1,
          3
         ],
         "y": [
          "DR",
          "SOC-A",
          "ECOS",
          "DEM",
          "RN",
          "RE",
          "LR",
          "EPR",
          "UDR",
          "gouv_TEMP",
          "HOR",
          "GDR",
          "SOC"
         ]
        },
        {
         "hoverinfo": "text",
         "hovertext": [
          "<b>Topic 8</b><br>Words: forces, ordre, défendre, mettez, mal",
          "<b>Topic 8</b><br>Words: ordre, manifestants, policiers, maintien, failli",
          "<b>Topic 8</b><br>Words: légitime, déambulation, pétanque, joyeuse, poétiques",
          "<b>Topic 8</b><br>Words: brûle, policiers, forces, ordre, insultés",
          "<b>Topic 8</b><br>Words: policiers, ordre, gendarmes, blessés, manifester",
          "<b>Topic 8</b><br>Words: refusez, pavé, brav, black, police",
          "<b>Topic 8</b><br>Words: policiers, gendarmes, police, ordre, policier",
          "<b>Topic 8</b><br>Words: policiers, gendarmes, constateront, glissés, instrumentalisant",
          "<b>Topic 8</b><br>Words: aime, mécontentement, police, condamner, déteste",
          "<b>Topic 8</b><br>Words: policiers, ordre, forces, gendarmes, manifester",
          "<b>Topic 8</b><br>Words: policiers, ordre, manifestants, fois, mouvement"
         ],
         "marker": {
          "color": "#56B4E9"
         },
         "name": "8_policiers_ordre_gendarmes_police",
         "orientation": "h",
         "type": "bar",
         "visible": "legendonly",
         "x": [
          3,
          5,
          2,
          5,
          4,
          2,
          22,
          1,
          5,
          7,
          3
         ],
         "y": [
          "DR",
          "ECOS",
          "DEM",
          "RN",
          "RE",
          "LFI-NFP",
          "EPR",
          "UDR",
          "gouv_TEMP",
          "HOR",
          "SOC"
         ]
        },
        {
         "hoverinfo": "text",
         "hovertext": [
          "<b>Topic 9</b><br>Words: ressenti, intolérables, malaise, soutiens, accroître",
          "<b>Topic 9</b><br>Words: maire, commune, maires, élus, portée",
          "<b>Topic 9</b><br>Words: élus, maires, fonctionnelle, élu, maire",
          "<b>Topic 9</b><br>Words: élus, maires, violences, locaux, encontre",
          "<b>Topic 9</b><br>Words: élus, engagement, tarit, locaux, électif",
          "<b>Topic 9</b><br>Words: élus, maire, locaux, violences, maires",
          "<b>Topic 9</b><br>Words: élus, maires, durcissement, élu, locaux",
          "<b>Topic 9</b><br>Words: élus, maires, locaux, maire, violences",
          "<b>Topic 9</b><br>Words: élus, agressions, locaux, agression, alourdissement",
          "<b>Topic 9</b><br>Words: élus, violences, maires, locaux, élu",
          "<b>Topic 9</b><br>Words: élus, élu, maires, maire, violences",
          "<b>Topic 9</b><br>Words: élus, maires, locaux, élu, maire",
          "<b>Topic 9</b><br>Words: élus, maires, maire, soin, élu",
          "<b>Topic 9</b><br>Words: locaux, élus, décentralisation, maires, statut"
         ],
         "marker": {
          "color": "#009E73"
         },
         "name": "9_élus_maires_maire_locaux",
         "orientation": "h",
         "type": "bar",
         "visible": "legendonly",
         "x": [
          1,
          3,
          3,
          3,
          2,
          5,
          1,
          19,
          2,
          2,
          6,
          3,
          7,
          1
         ],
         "y": [
          "DR",
          "ECOS",
          "DEM",
          "RN",
          "NI",
          "RE",
          "LR",
          "EPR",
          "LFI-NUPES",
          "LIOT",
          "gouv_TEMP",
          "HOR",
          "GDR-NUPES",
          "SOC"
         ]
        }
       ],
       "layout": {
        "height": 900,
        "hoverlabel": {
         "bgcolor": "white",
         "font": {
          "family": "Rockwell",
          "size": 16
         }
        },
        "legend": {
         "title": {
          "text": "<b>Global Topic Representation"
         }
        },
        "template": {
         "data": {
          "bar": [
           {
            "error_x": {
             "color": "rgb(36,36,36)"
            },
            "error_y": {
             "color": "rgb(36,36,36)"
            },
            "marker": {
             "line": {
              "color": "white",
              "width": 0.5
             },
             "pattern": {
              "fillmode": "overlay",
              "size": 10,
              "solidity": 0.2
             }
            },
            "type": "bar"
           }
          ],
          "barpolar": [
           {
            "marker": {
             "line": {
              "color": "white",
              "width": 0.5
             },
             "pattern": {
              "fillmode": "overlay",
              "size": 10,
              "solidity": 0.2
             }
            },
            "type": "barpolar"
           }
          ],
          "carpet": [
           {
            "aaxis": {
             "endlinecolor": "rgb(36,36,36)",
             "gridcolor": "white",
             "linecolor": "white",
             "minorgridcolor": "white",
             "startlinecolor": "rgb(36,36,36)"
            },
            "baxis": {
             "endlinecolor": "rgb(36,36,36)",
             "gridcolor": "white",
             "linecolor": "white",
             "minorgridcolor": "white",
             "startlinecolor": "rgb(36,36,36)"
            },
            "type": "carpet"
           }
          ],
          "choropleth": [
           {
            "colorbar": {
             "outlinewidth": 1,
             "tickcolor": "rgb(36,36,36)",
             "ticks": "outside"
            },
            "type": "choropleth"
           }
          ],
          "contour": [
           {
            "colorbar": {
             "outlinewidth": 1,
             "tickcolor": "rgb(36,36,36)",
             "ticks": "outside"
            },
            "colorscale": [
             [
              0,
              "#440154"
             ],
             [
              0.1111111111111111,
              "#482878"
             ],
             [
              0.2222222222222222,
              "#3e4989"
             ],
             [
              0.3333333333333333,
              "#31688e"
             ],
             [
              0.4444444444444444,
              "#26828e"
             ],
             [
              0.5555555555555556,
              "#1f9e89"
             ],
             [
              0.6666666666666666,
              "#35b779"
             ],
             [
              0.7777777777777778,
              "#6ece58"
             ],
             [
              0.8888888888888888,
              "#b5de2b"
             ],
             [
              1,
              "#fde725"
             ]
            ],
            "type": "contour"
           }
          ],
          "contourcarpet": [
           {
            "colorbar": {
             "outlinewidth": 1,
             "tickcolor": "rgb(36,36,36)",
             "ticks": "outside"
            },
            "type": "contourcarpet"
           }
          ],
          "heatmap": [
           {
            "colorbar": {
             "outlinewidth": 1,
             "tickcolor": "rgb(36,36,36)",
             "ticks": "outside"
            },
            "colorscale": [
             [
              0,
              "#440154"
             ],
             [
              0.1111111111111111,
              "#482878"
             ],
             [
              0.2222222222222222,
              "#3e4989"
             ],
             [
              0.3333333333333333,
              "#31688e"
             ],
             [
              0.4444444444444444,
              "#26828e"
             ],
             [
              0.5555555555555556,
              "#1f9e89"
             ],
             [
              0.6666666666666666,
              "#35b779"
             ],
             [
              0.7777777777777778,
              "#6ece58"
             ],
             [
              0.8888888888888888,
              "#b5de2b"
             ],
             [
              1,
              "#fde725"
             ]
            ],
            "type": "heatmap"
           }
          ],
          "heatmapgl": [
           {
            "colorbar": {
             "outlinewidth": 1,
             "tickcolor": "rgb(36,36,36)",
             "ticks": "outside"
            },
            "colorscale": [
             [
              0,
              "#440154"
             ],
             [
              0.1111111111111111,
              "#482878"
             ],
             [
              0.2222222222222222,
              "#3e4989"
             ],
             [
              0.3333333333333333,
              "#31688e"
             ],
             [
              0.4444444444444444,
              "#26828e"
             ],
             [
              0.5555555555555556,
              "#1f9e89"
             ],
             [
              0.6666666666666666,
              "#35b779"
             ],
             [
              0.7777777777777778,
              "#6ece58"
             ],
             [
              0.8888888888888888,
              "#b5de2b"
             ],
             [
              1,
              "#fde725"
             ]
            ],
            "type": "heatmapgl"
           }
          ],
          "histogram": [
           {
            "marker": {
             "line": {
              "color": "white",
              "width": 0.6
             }
            },
            "type": "histogram"
           }
          ],
          "histogram2d": [
           {
            "colorbar": {
             "outlinewidth": 1,
             "tickcolor": "rgb(36,36,36)",
             "ticks": "outside"
            },
            "colorscale": [
             [
              0,
              "#440154"
             ],
             [
              0.1111111111111111,
              "#482878"
             ],
             [
              0.2222222222222222,
              "#3e4989"
             ],
             [
              0.3333333333333333,
              "#31688e"
             ],
             [
              0.4444444444444444,
              "#26828e"
             ],
             [
              0.5555555555555556,
              "#1f9e89"
             ],
             [
              0.6666666666666666,
              "#35b779"
             ],
             [
              0.7777777777777778,
              "#6ece58"
             ],
             [
              0.8888888888888888,
              "#b5de2b"
             ],
             [
              1,
              "#fde725"
             ]
            ],
            "type": "histogram2d"
           }
          ],
          "histogram2dcontour": [
           {
            "colorbar": {
             "outlinewidth": 1,
             "tickcolor": "rgb(36,36,36)",
             "ticks": "outside"
            },
            "colorscale": [
             [
              0,
              "#440154"
             ],
             [
              0.1111111111111111,
              "#482878"
             ],
             [
              0.2222222222222222,
              "#3e4989"
             ],
             [
              0.3333333333333333,
              "#31688e"
             ],
             [
              0.4444444444444444,
              "#26828e"
             ],
             [
              0.5555555555555556,
              "#1f9e89"
             ],
             [
              0.6666666666666666,
              "#35b779"
             ],
             [
              0.7777777777777778,
              "#6ece58"
             ],
             [
              0.8888888888888888,
              "#b5de2b"
             ],
             [
              1,
              "#fde725"
             ]
            ],
            "type": "histogram2dcontour"
           }
          ],
          "mesh3d": [
           {
            "colorbar": {
             "outlinewidth": 1,
             "tickcolor": "rgb(36,36,36)",
             "ticks": "outside"
            },
            "type": "mesh3d"
           }
          ],
          "parcoords": [
           {
            "line": {
             "colorbar": {
              "outlinewidth": 1,
              "tickcolor": "rgb(36,36,36)",
              "ticks": "outside"
             }
            },
            "type": "parcoords"
           }
          ],
          "pie": [
           {
            "automargin": true,
            "type": "pie"
           }
          ],
          "scatter": [
           {
            "fillpattern": {
             "fillmode": "overlay",
             "size": 10,
             "solidity": 0.2
            },
            "type": "scatter"
           }
          ],
          "scatter3d": [
           {
            "line": {
             "colorbar": {
              "outlinewidth": 1,
              "tickcolor": "rgb(36,36,36)",
              "ticks": "outside"
             }
            },
            "marker": {
             "colorbar": {
              "outlinewidth": 1,
              "tickcolor": "rgb(36,36,36)",
              "ticks": "outside"
             }
            },
            "type": "scatter3d"
           }
          ],
          "scattercarpet": [
           {
            "marker": {
             "colorbar": {
              "outlinewidth": 1,
              "tickcolor": "rgb(36,36,36)",
              "ticks": "outside"
             }
            },
            "type": "scattercarpet"
           }
          ],
          "scattergeo": [
           {
            "marker": {
             "colorbar": {
              "outlinewidth": 1,
              "tickcolor": "rgb(36,36,36)",
              "ticks": "outside"
             }
            },
            "type": "scattergeo"
           }
          ],
          "scattergl": [
           {
            "marker": {
             "colorbar": {
              "outlinewidth": 1,
              "tickcolor": "rgb(36,36,36)",
              "ticks": "outside"
             }
            },
            "type": "scattergl"
           }
          ],
          "scattermapbox": [
           {
            "marker": {
             "colorbar": {
              "outlinewidth": 1,
              "tickcolor": "rgb(36,36,36)",
              "ticks": "outside"
             }
            },
            "type": "scattermapbox"
           }
          ],
          "scatterpolar": [
           {
            "marker": {
             "colorbar": {
              "outlinewidth": 1,
              "tickcolor": "rgb(36,36,36)",
              "ticks": "outside"
             }
            },
            "type": "scatterpolar"
           }
          ],
          "scatterpolargl": [
           {
            "marker": {
             "colorbar": {
              "outlinewidth": 1,
              "tickcolor": "rgb(36,36,36)",
              "ticks": "outside"
             }
            },
            "type": "scatterpolargl"
           }
          ],
          "scatterternary": [
           {
            "marker": {
             "colorbar": {
              "outlinewidth": 1,
              "tickcolor": "rgb(36,36,36)",
              "ticks": "outside"
             }
            },
            "type": "scatterternary"
           }
          ],
          "surface": [
           {
            "colorbar": {
             "outlinewidth": 1,
             "tickcolor": "rgb(36,36,36)",
             "ticks": "outside"
            },
            "colorscale": [
             [
              0,
              "#440154"
             ],
             [
              0.1111111111111111,
              "#482878"
             ],
             [
              0.2222222222222222,
              "#3e4989"
             ],
             [
              0.3333333333333333,
              "#31688e"
             ],
             [
              0.4444444444444444,
              "#26828e"
             ],
             [
              0.5555555555555556,
              "#1f9e89"
             ],
             [
              0.6666666666666666,
              "#35b779"
             ],
             [
              0.7777777777777778,
              "#6ece58"
             ],
             [
              0.8888888888888888,
              "#b5de2b"
             ],
             [
              1,
              "#fde725"
             ]
            ],
            "type": "surface"
           }
          ],
          "table": [
           {
            "cells": {
             "fill": {
              "color": "rgb(237,237,237)"
             },
             "line": {
              "color": "white"
             }
            },
            "header": {
             "fill": {
              "color": "rgb(217,217,217)"
             },
             "line": {
              "color": "white"
             }
            },
            "type": "table"
           }
          ]
         },
         "layout": {
          "annotationdefaults": {
           "arrowhead": 0,
           "arrowwidth": 1
          },
          "autotypenumbers": "strict",
          "coloraxis": {
           "colorbar": {
            "outlinewidth": 1,
            "tickcolor": "rgb(36,36,36)",
            "ticks": "outside"
           }
          },
          "colorscale": {
           "diverging": [
            [
             0,
             "rgb(103,0,31)"
            ],
            [
             0.1,
             "rgb(178,24,43)"
            ],
            [
             0.2,
             "rgb(214,96,77)"
            ],
            [
             0.3,
             "rgb(244,165,130)"
            ],
            [
             0.4,
             "rgb(253,219,199)"
            ],
            [
             0.5,
             "rgb(247,247,247)"
            ],
            [
             0.6,
             "rgb(209,229,240)"
            ],
            [
             0.7,
             "rgb(146,197,222)"
            ],
            [
             0.8,
             "rgb(67,147,195)"
            ],
            [
             0.9,
             "rgb(33,102,172)"
            ],
            [
             1,
             "rgb(5,48,97)"
            ]
           ],
           "sequential": [
            [
             0,
             "#440154"
            ],
            [
             0.1111111111111111,
             "#482878"
            ],
            [
             0.2222222222222222,
             "#3e4989"
            ],
            [
             0.3333333333333333,
             "#31688e"
            ],
            [
             0.4444444444444444,
             "#26828e"
            ],
            [
             0.5555555555555556,
             "#1f9e89"
            ],
            [
             0.6666666666666666,
             "#35b779"
            ],
            [
             0.7777777777777778,
             "#6ece58"
            ],
            [
             0.8888888888888888,
             "#b5de2b"
            ],
            [
             1,
             "#fde725"
            ]
           ],
           "sequentialminus": [
            [
             0,
             "#440154"
            ],
            [
             0.1111111111111111,
             "#482878"
            ],
            [
             0.2222222222222222,
             "#3e4989"
            ],
            [
             0.3333333333333333,
             "#31688e"
            ],
            [
             0.4444444444444444,
             "#26828e"
            ],
            [
             0.5555555555555556,
             "#1f9e89"
            ],
            [
             0.6666666666666666,
             "#35b779"
            ],
            [
             0.7777777777777778,
             "#6ece58"
            ],
            [
             0.8888888888888888,
             "#b5de2b"
            ],
            [
             1,
             "#fde725"
            ]
           ]
          },
          "colorway": [
           "#1F77B4",
           "#FF7F0E",
           "#2CA02C",
           "#D62728",
           "#9467BD",
           "#8C564B",
           "#E377C2",
           "#7F7F7F",
           "#BCBD22",
           "#17BECF"
          ],
          "font": {
           "color": "rgb(36,36,36)"
          },
          "geo": {
           "bgcolor": "white",
           "lakecolor": "white",
           "landcolor": "white",
           "showlakes": true,
           "showland": true,
           "subunitcolor": "white"
          },
          "hoverlabel": {
           "align": "left"
          },
          "hovermode": "closest",
          "mapbox": {
           "style": "light"
          },
          "paper_bgcolor": "white",
          "plot_bgcolor": "white",
          "polar": {
           "angularaxis": {
            "gridcolor": "rgb(232,232,232)",
            "linecolor": "rgb(36,36,36)",
            "showgrid": false,
            "showline": true,
            "ticks": "outside"
           },
           "bgcolor": "white",
           "radialaxis": {
            "gridcolor": "rgb(232,232,232)",
            "linecolor": "rgb(36,36,36)",
            "showgrid": false,
            "showline": true,
            "ticks": "outside"
           }
          },
          "scene": {
           "xaxis": {
            "backgroundcolor": "white",
            "gridcolor": "rgb(232,232,232)",
            "gridwidth": 2,
            "linecolor": "rgb(36,36,36)",
            "showbackground": true,
            "showgrid": false,
            "showline": true,
            "ticks": "outside",
            "zeroline": false,
            "zerolinecolor": "rgb(36,36,36)"
           },
           "yaxis": {
            "backgroundcolor": "white",
            "gridcolor": "rgb(232,232,232)",
            "gridwidth": 2,
            "linecolor": "rgb(36,36,36)",
            "showbackground": true,
            "showgrid": false,
            "showline": true,
            "ticks": "outside",
            "zeroline": false,
            "zerolinecolor": "rgb(36,36,36)"
           },
           "zaxis": {
            "backgroundcolor": "white",
            "gridcolor": "rgb(232,232,232)",
            "gridwidth": 2,
            "linecolor": "rgb(36,36,36)",
            "showbackground": true,
            "showgrid": false,
            "showline": true,
            "ticks": "outside",
            "zeroline": false,
            "zerolinecolor": "rgb(36,36,36)"
           }
          },
          "shapedefaults": {
           "fillcolor": "black",
           "line": {
            "width": 0
           },
           "opacity": 0.3
          },
          "ternary": {
           "aaxis": {
            "gridcolor": "rgb(232,232,232)",
            "linecolor": "rgb(36,36,36)",
            "showgrid": false,
            "showline": true,
            "ticks": "outside"
           },
           "baxis": {
            "gridcolor": "rgb(232,232,232)",
            "linecolor": "rgb(36,36,36)",
            "showgrid": false,
            "showline": true,
            "ticks": "outside"
           },
           "bgcolor": "white",
           "caxis": {
            "gridcolor": "rgb(232,232,232)",
            "linecolor": "rgb(36,36,36)",
            "showgrid": false,
            "showline": true,
            "ticks": "outside"
           }
          },
          "title": {
           "x": 0.05
          },
          "xaxis": {
           "automargin": true,
           "gridcolor": "rgb(232,232,232)",
           "linecolor": "rgb(36,36,36)",
           "showgrid": false,
           "showline": true,
           "ticks": "outside",
           "title": {
            "standoff": 15
           },
           "zeroline": false,
           "zerolinecolor": "rgb(36,36,36)"
          },
          "yaxis": {
           "automargin": true,
           "gridcolor": "rgb(232,232,232)",
           "linecolor": "rgb(36,36,36)",
           "showgrid": false,
           "showline": true,
           "ticks": "outside",
           "title": {
            "standoff": 15
           },
           "zeroline": false,
           "zerolinecolor": "rgb(36,36,36)"
          }
         }
        },
        "title": {
         "font": {
          "color": "Black",
          "size": 22
         },
         "text": "<b>Topics per Class</b>",
         "x": 0.4,
         "xanchor": "center",
         "y": 0.95,
         "yanchor": "top"
        },
        "width": 1250,
        "xaxis": {
         "showgrid": true,
         "title": {
          "text": "Frequency"
         }
        },
        "yaxis": {
         "showgrid": true,
         "title": {
          "text": "Class"
         }
        }
       }
      }
     },
     "metadata": {},
     "output_type": "display_data"
    }
   ],
   "source": [
    "fig_topics_per_class = topic_model.visualize_topics_per_class(\n",
    "    topics_per_class, top_n_topics=10\n",
    ")\n",
    "fig_topics_per_class"
   ]
  },
  {
   "cell_type": "code",
   "execution_count": null,
   "id": "e90b2738",
   "metadata": {},
   "outputs": [],
   "source": [
    "fig_topics_per_class.write_html(\"../reports/figures/topics_per_class.html\")"
   ]
  },
  {
   "cell_type": "code",
   "execution_count": null,
   "id": "7da3b526",
   "metadata": {},
   "outputs": [],
   "source": [
    "# TODO: revoir regroupement des topics\n",
    "# TODO: revoir Topic distribution\n",
    "# TODO: aviser genAI sur le nom des topics ?"
   ]
  },
  {
   "cell_type": "code",
   "execution_count": 105,
   "id": "1d2ca927",
   "metadata": {},
   "outputs": [
    {
     "data": {
      "text/plain": [
       "(3668, 64)"
      ]
     },
     "execution_count": 105,
     "metadata": {},
     "output_type": "execute_result"
    }
   ],
   "source": [
    "df.shape"
   ]
  },
  {
   "cell_type": "code",
   "execution_count": 106,
   "id": "651c60b1",
   "metadata": {},
   "outputs": [
    {
     "data": {
      "text/plain": [
       "count     3668.000000\n",
       "mean      1455.530807\n",
       "std       1701.023067\n",
       "min         18.000000\n",
       "25%        409.750000\n",
       "50%        926.000000\n",
       "75%       1856.000000\n",
       "max      20908.000000\n",
       "Name: Texte_clean, dtype: float64"
      ]
     },
     "execution_count": 106,
     "metadata": {},
     "output_type": "execute_result"
    }
   ],
   "source": [
    "df[\"Texte_clean\"].str.len().describe()"
   ]
  }
 ],
 "metadata": {
  "kernelspec": {
   "display_name": "nlp_env",
   "language": "python",
   "name": "python3"
  },
  "language_info": {
   "codemirror_mode": {
    "name": "ipython",
    "version": 3
   },
   "file_extension": ".py",
   "mimetype": "text/x-python",
   "name": "python",
   "nbconvert_exporter": "python",
   "pygments_lexer": "ipython3",
   "version": "3.12.2"
  }
 },
 "nbformat": 4,
 "nbformat_minor": 5
}
