{
 "cells": [
  {
   "cell_type": "code",
   "execution_count": null,
   "id": "c668dadb",
   "metadata": {},
   "outputs": [],
   "source": [
    "import re\n",
    "\n",
    "# Regex du champ lexical République (simplifié ici)\n",
    "# pattern_lexical = re.compile(r\"\\b(anti-?république(s)?|république(s)?|républicain(e)?s?|républicanisme|républicanis(er|ation))\\b\", re.I)\n",
    "# sinon :\n",
    "pattern_lexical = re.compile(\n",
    "    r\"(?<!\\w)(anti-?|pré-?|post-?)?(république(s)?|républicain(e)?s?|républicanisme|républicanis(er|ation))\\b\",\n",
    "    re.I,\n",
    ")\n",
    "\n",
    "\n",
    "# Regex des expressions à exclure\n",
    "pattern_excl = re.compile(\n",
    "    r\"\\b(L|l)es Républicains\\b|(P|p)résident de la République\"\n",
    ")  # ici garder la casse\n",
    "\n",
    "\n",
    "def contains_lexical_outside_excl(text):\n",
    "    # Trouve toutes les positions des expressions exclues\n",
    "    excl_positions = [m.span() for m in pattern_excl.finditer(text)]\n",
    "\n",
    "    # Fonction pour vérifier si une position est dans une zone exclue\n",
    "    def in_excl(pos):\n",
    "        for start, end in excl_positions:\n",
    "            if start <= pos < end:\n",
    "                return True\n",
    "        return False\n",
    "\n",
    "    # Chercher toutes les occurences du champ lexical\n",
    "    for match in pattern_lexical.finditer(text):\n",
    "        start_pos = match.start()\n",
    "        if not in_excl(start_pos):\n",
    "            return True\n",
    "    return False"
   ]
  },
  {
   "cell_type": "code",
   "execution_count": 2,
   "id": "47460622",
   "metadata": {},
   "outputs": [
    {
     "data": {
      "text/plain": [
       "True"
      ]
     },
     "execution_count": 2,
     "metadata": {},
     "output_type": "execute_result"
    }
   ],
   "source": [
    "mon_texte = \"les Républicains n'aiment pas la République\"\n",
    "contains_lexical_outside_excl(mon_texte)"
   ]
  },
  {
   "cell_type": "code",
   "execution_count": 11,
   "id": "378e462f",
   "metadata": {},
   "outputs": [
    {
     "data": {
      "text/plain": [
       "True"
      ]
     },
     "execution_count": 11,
     "metadata": {},
     "output_type": "execute_result"
    }
   ],
   "source": [
    "mon_texte = \"présidence de la République\"\n",
    "contains_lexical_outside_excl(mon_texte)"
   ]
  },
  {
   "cell_type": "code",
   "execution_count": 12,
   "id": "2b8a0632",
   "metadata": {},
   "outputs": [
    {
     "data": {
      "text/plain": [
       "True"
      ]
     },
     "execution_count": 12,
     "metadata": {},
     "output_type": "execute_result"
    }
   ],
   "source": [
    "mon_texte = \"valeurs républicaines\"\n",
    "contains_lexical_outside_excl(mon_texte)"
   ]
  },
  {
   "cell_type": "code",
   "execution_count": null,
   "id": "2e457851",
   "metadata": {},
   "outputs": [],
   "source": []
  }
 ],
 "metadata": {
  "kernelspec": {
   "display_name": "myenv_clone",
   "language": "python",
   "name": "python3"
  },
  "language_info": {
   "codemirror_mode": {
    "name": "ipython",
    "version": 3
   },
   "file_extension": ".py",
   "mimetype": "text/x-python",
   "name": "python",
   "nbconvert_exporter": "python",
   "pygments_lexer": "ipython3",
   "version": "3.11.5"
  }
 },
 "nbformat": 4,
 "nbformat_minor": 5
}
