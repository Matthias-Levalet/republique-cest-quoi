{
 "cells": [
  {
   "cell_type": "code",
   "execution_count": 12,
   "id": "4efe88b9",
   "metadata": {},
   "outputs": [
    {
     "name": "stderr",
     "output_type": "stream",
     "text": [
      "/var/folders/rq/xsj46x_s2rg87wdksm1_jl3c0000gn/T/ipykernel_11086/292270290.py:2: DtypeWarning: Columns (15) have mixed types. Specify dtype option on import or set low_memory=False.\n",
      "  df = pd.read_csv(\"../data/interim/data_cleaning.csv\")\n"
     ]
    }
   ],
   "source": [
    "import pandas as pd\n",
    "df = pd.read_csv(\"../data/interim/data_cleaning.csv\")"
   ]
  },
  {
   "cell_type": "code",
   "execution_count": 14,
   "id": "43aeecba",
   "metadata": {},
   "outputs": [],
   "source": [
    "# nettoyage moche du texte\n",
    "# sinon à gérer avant !\n",
    "\n",
    "import re\n",
    "\n",
    "\n",
    "def nettoyer_texte(texte):\n",
    "    if not isinstance(texte, str):\n",
    "        return texte\n",
    "    # Supprimer les balises HTML/XML\n",
    "    texte = re.sub(r\"<[^>]+>\", \"\", texte)\n",
    "    # Supprimer contenu entre parenthèses ou crochets\n",
    "    texte = re.sub(r\"\\([^)]*\\)\", \"\", texte)  # (...)\n",
    "    # texte = re.sub(r\"\\[[^\\]]*\\]\", \"\", texte)     # [...] # TODO: vérif avant\n",
    "    # Supprimer les espaces multiples\n",
    "    texte = re.sub(r\"\\s+\", \" \", texte).strip()\n",
    "    return texte\n",
    "\n",
    "\n",
    "df[\"Texte_clean\"] = df[\"Texte\"].apply(nettoyer_texte)"
   ]
  },
  {
   "cell_type": "code",
   "execution_count": 20,
   "id": "c668dadb",
   "metadata": {},
   "outputs": [],
   "source": [
    "import re\n",
    "\n",
    "# Regex du champ lexical République (simplifié ici)\n",
    "\n",
    "# sinon :\n",
    "pattern_lexical = re.compile(\n",
    "    # r\"(?<!\\w)(anti-?|pré-?|post-?|pro?)?(république(s)?|républicain(e)?s?|républicanisme|républicanis(er|ation))\\b\",\n",
    "    r\"(république(s)?|républicain(e)?s?|républicanisme(s)?|républicanis(er|ation))\",\n",
    "    re.I,\n",
    ")\n",
    "# au pire virer le (?<!\\w)(anti-?|pré-?|post-?|pro?)?\n",
    "# genre on raterait irrépublicain\n",
    "# aussi virer finalement la fin de mot (ce qui permettrait de matcher les s etc. sans se casser les pieds)\n",
    "\n",
    "\n",
    "# Regex des expressions à exclure\n",
    "pattern_excl = re.compile(\n",
    "    r\"\\b(L|l)es Républicains\\b|(P|p)résident de la République\"\n",
    ")  # ici garder la casse\n",
    "\n",
    "\n",
    "def contains_lexical_outside_excl(text):\n",
    "    # Trouve toutes les positions des expressions exclues\n",
    "    excl_positions = [m.span() for m in pattern_excl.finditer(text)]\n",
    "\n",
    "    # Fonction pour vérifier si une position est dans une zone exclue\n",
    "    def in_excl(pos):\n",
    "        for start, end in excl_positions:\n",
    "            if start <= pos < end:\n",
    "                return True\n",
    "        return False\n",
    "\n",
    "    # Chercher toutes les occurences du champ lexical\n",
    "    for match in pattern_lexical.finditer(text):\n",
    "        start_pos = match.start()\n",
    "        if not in_excl(start_pos):\n",
    "            return True\n",
    "    return False\n",
    "\n",
    "\n",
    "# Appliquer sur la colonne\n",
    "df[\"repu_match_valide\"] = df[\"Texte_clean\"].apply(contains_lexical_outside_excl)"
   ]
  },
  {
   "cell_type": "code",
   "execution_count": 21,
   "id": "3b13426c",
   "metadata": {},
   "outputs": [
    {
     "data": {
      "text/plain": [
       "(4409, 61)"
      ]
     },
     "execution_count": 21,
     "metadata": {},
     "output_type": "execute_result"
    }
   ],
   "source": [
    "df[df[\"repu_match_valide\"]].shape"
   ]
  },
  {
   "cell_type": "code",
   "execution_count": null,
   "id": "47460622",
   "metadata": {},
   "outputs": [
    {
     "data": {
      "text/plain": [
       "True"
      ]
     },
     "execution_count": 2,
     "metadata": {},
     "output_type": "execute_result"
    }
   ],
   "source": [
    "mon_texte = \"les Républicains n'aiment pas la République\"\n",
    "contains_lexical_outside_excl(mon_texte)"
   ]
  },
  {
   "cell_type": "code",
   "execution_count": null,
   "id": "378e462f",
   "metadata": {},
   "outputs": [
    {
     "data": {
      "text/plain": [
       "True"
      ]
     },
     "execution_count": 11,
     "metadata": {},
     "output_type": "execute_result"
    }
   ],
   "source": [
    "mon_texte = \"présidence de la République\"\n",
    "contains_lexical_outside_excl(mon_texte)"
   ]
  },
  {
   "cell_type": "code",
   "execution_count": null,
   "id": "2b8a0632",
   "metadata": {},
   "outputs": [
    {
     "data": {
      "text/plain": [
       "True"
      ]
     },
     "execution_count": 12,
     "metadata": {},
     "output_type": "execute_result"
    }
   ],
   "source": [
    "mon_texte = \"valeurs républicaines\"\n",
    "contains_lexical_outside_excl(mon_texte)"
   ]
  },
  {
   "cell_type": "code",
   "execution_count": null,
   "id": "2e457851",
   "metadata": {},
   "outputs": [
    {
     "name": "stderr",
     "output_type": "stream",
     "text": [
      "/var/folders/rq/xsj46x_s2rg87wdksm1_jl3c0000gn/T/ipykernel_11086/1120758819.py:2: DtypeWarning: Columns (5,13) have mixed types. Specify dtype option on import or set low_memory=False.\n",
      "  df_full = pd.read_csv(\"../data/interim/extract_16.csv\")\n"
     ]
    }
   ],
   "source": [
    "import pandas as pd\n",
    "df_full = pd.read_csv(\"../data/interim/extract_16.csv\")"
   ]
  },
  {
   "cell_type": "code",
   "execution_count": null,
   "id": "266eeba7",
   "metadata": {},
   "outputs": [],
   "source": [
    "df_chelou = df_full[df_full[\"ID_orateur\"]<0]"
   ]
  },
  {
   "cell_type": "code",
   "execution_count": null,
   "id": "611a21bf",
   "metadata": {},
   "outputs": [
    {
     "data": {
      "text/html": [
       "<div>\n",
       "<style scoped>\n",
       "    .dataframe tbody tr th:only-of-type {\n",
       "        vertical-align: middle;\n",
       "    }\n",
       "\n",
       "    .dataframe tbody tr th {\n",
       "        vertical-align: top;\n",
       "    }\n",
       "\n",
       "    .dataframe thead th {\n",
       "        text-align: right;\n",
       "    }\n",
       "</style>\n",
       "<table border=\"1\" class=\"dataframe\">\n",
       "  <thead>\n",
       "    <tr style=\"text-align: right;\">\n",
       "      <th></th>\n",
       "      <th>UID</th>\n",
       "      <th>SeanceRef</th>\n",
       "      <th>SessionRef</th>\n",
       "      <th>DateSeance</th>\n",
       "      <th>DateSeanceJour</th>\n",
       "      <th>NumSeanceJour</th>\n",
       "      <th>NumSeance</th>\n",
       "      <th>TypeAssemblee</th>\n",
       "      <th>Legislature</th>\n",
       "      <th>Session</th>\n",
       "      <th>...</th>\n",
       "      <th>Code_grammaire</th>\n",
       "      <th>Code_style</th>\n",
       "      <th>Code_parole</th>\n",
       "      <th>Role_debat</th>\n",
       "      <th>Nom_orateur</th>\n",
       "      <th>Qualite_orateur</th>\n",
       "      <th>ID_orateur</th>\n",
       "      <th>stime</th>\n",
       "      <th>Texte</th>\n",
       "      <th>Source_extraction</th>\n",
       "    </tr>\n",
       "  </thead>\n",
       "  <tbody>\n",
       "    <tr>\n",
       "      <th>7117</th>\n",
       "      <td>CRSANR5L16S2024O1N063</td>\n",
       "      <td>RUANR5L16S2024IDS27878</td>\n",
       "      <td>SCR5A2024O1</td>\n",
       "      <td>20231127160000000</td>\n",
       "      <td>lundi 27 novembre 2023</td>\n",
       "      <td>Unique</td>\n",
       "      <td>63</td>\n",
       "      <td>AN</td>\n",
       "      <td>16</td>\n",
       "      <td>Session ordinaire 2023-2024</td>\n",
       "      <td>...</td>\n",
       "      <td>PAROLE_GENERIQUE</td>\n",
       "      <td>NORMAL</td>\n",
       "      <td>PAROLE_1_2</td>\n",
       "      <td>NaN</td>\n",
       "      <td>M. Yvon Serenus</td>\n",
       "      <td>président du Collectif des ouvriers agricoles ...</td>\n",
       "      <td>-125389.0</td>\n",
       "      <td>609.79</td>\n",
       "      <td>Au nom de notre collectif, je salue les partic...</td>\n",
       "      <td>point</td>\n",
       "    </tr>\n",
       "    <tr>\n",
       "      <th>7119</th>\n",
       "      <td>CRSANR5L16S2024O1N063</td>\n",
       "      <td>RUANR5L16S2024IDS27878</td>\n",
       "      <td>SCR5A2024O1</td>\n",
       "      <td>20231127160000000</td>\n",
       "      <td>lundi 27 novembre 2023</td>\n",
       "      <td>Unique</td>\n",
       "      <td>63</td>\n",
       "      <td>AN</td>\n",
       "      <td>16</td>\n",
       "      <td>Session ordinaire 2023-2024</td>\n",
       "      <td>...</td>\n",
       "      <td>PAROLE_GENERIQUE</td>\n",
       "      <td>NORMAL</td>\n",
       "      <td>PAROLE_1_2</td>\n",
       "      <td>NaN</td>\n",
       "      <td>M. Philippe Pierre-Charles</td>\n",
       "      <td>porte-parole du Collectif pour dépolluer la Ma...</td>\n",
       "      <td>-125399.0</td>\n",
       "      <td>1091.66</td>\n",
       "      <td>Je remercie Marcellin Nadeau et son groupe pol...</td>\n",
       "      <td>point</td>\n",
       "    </tr>\n",
       "    <tr>\n",
       "      <th>7121</th>\n",
       "      <td>CRSANR5L16S2024O1N063</td>\n",
       "      <td>RUANR5L16S2024IDS27878</td>\n",
       "      <td>SCR5A2024O1</td>\n",
       "      <td>20231127160000000</td>\n",
       "      <td>lundi 27 novembre 2023</td>\n",
       "      <td>Unique</td>\n",
       "      <td>63</td>\n",
       "      <td>AN</td>\n",
       "      <td>16</td>\n",
       "      <td>Session ordinaire 2023-2024</td>\n",
       "      <td>...</td>\n",
       "      <td>PAROLE_GENERIQUE</td>\n",
       "      <td>NORMAL</td>\n",
       "      <td>PAROLE_1_2</td>\n",
       "      <td>NaN</td>\n",
       "      <td>M. Janmari Flower</td>\n",
       "      <td>président de l’association Vivre Guadeloupe</td>\n",
       "      <td>-125409.0</td>\n",
       "      <td>1456.39</td>\n",
       "      <td>Je souhaite d’abord remercier le groupe GDR-NU...</td>\n",
       "      <td>point</td>\n",
       "    </tr>\n",
       "    <tr>\n",
       "      <th>7125</th>\n",
       "      <td>CRSANR5L16S2024O1N063</td>\n",
       "      <td>RUANR5L16S2024IDS27878</td>\n",
       "      <td>SCR5A2024O1</td>\n",
       "      <td>20231127160000000</td>\n",
       "      <td>lundi 27 novembre 2023</td>\n",
       "      <td>Unique</td>\n",
       "      <td>63</td>\n",
       "      <td>AN</td>\n",
       "      <td>16</td>\n",
       "      <td>Session ordinaire 2023-2024</td>\n",
       "      <td>...</td>\n",
       "      <td>PAROLE_GENERIQUE</td>\n",
       "      <td>NORMAL</td>\n",
       "      <td>PAROLE_1_2</td>\n",
       "      <td>NaN</td>\n",
       "      <td>M. Yvon Serenus</td>\n",
       "      <td>NaN</td>\n",
       "      <td>-125389.0</td>\n",
       "      <td>1911.25</td>\n",
       "      <td>Comme tout le monde le sait, y compris les exp...</td>\n",
       "      <td>point</td>\n",
       "    </tr>\n",
       "    <tr>\n",
       "      <th>7127</th>\n",
       "      <td>CRSANR5L16S2024O1N063</td>\n",
       "      <td>RUANR5L16S2024IDS27878</td>\n",
       "      <td>SCR5A2024O1</td>\n",
       "      <td>20231127160000000</td>\n",
       "      <td>lundi 27 novembre 2023</td>\n",
       "      <td>Unique</td>\n",
       "      <td>63</td>\n",
       "      <td>AN</td>\n",
       "      <td>16</td>\n",
       "      <td>Session ordinaire 2023-2024</td>\n",
       "      <td>...</td>\n",
       "      <td>PAROLE_GENERIQUE</td>\n",
       "      <td>NORMAL</td>\n",
       "      <td>PAROLE_1_2</td>\n",
       "      <td>NaN</td>\n",
       "      <td>M. Philippe Pierre-Charles</td>\n",
       "      <td>NaN</td>\n",
       "      <td>-125399.0</td>\n",
       "      <td>2146.85</td>\n",
       "      <td>Il faut d’abord prendre conscience des risques...</td>\n",
       "      <td>point</td>\n",
       "    </tr>\n",
       "  </tbody>\n",
       "</table>\n",
       "<p>5 rows × 32 columns</p>\n",
       "</div>"
      ],
      "text/plain": [
       "                        UID               SeanceRef   SessionRef  \\\n",
       "7117  CRSANR5L16S2024O1N063  RUANR5L16S2024IDS27878  SCR5A2024O1   \n",
       "7119  CRSANR5L16S2024O1N063  RUANR5L16S2024IDS27878  SCR5A2024O1   \n",
       "7121  CRSANR5L16S2024O1N063  RUANR5L16S2024IDS27878  SCR5A2024O1   \n",
       "7125  CRSANR5L16S2024O1N063  RUANR5L16S2024IDS27878  SCR5A2024O1   \n",
       "7127  CRSANR5L16S2024O1N063  RUANR5L16S2024IDS27878  SCR5A2024O1   \n",
       "\n",
       "             DateSeance          DateSeanceJour NumSeanceJour  NumSeance  \\\n",
       "7117  20231127160000000  lundi 27 novembre 2023        Unique         63   \n",
       "7119  20231127160000000  lundi 27 novembre 2023        Unique         63   \n",
       "7121  20231127160000000  lundi 27 novembre 2023        Unique         63   \n",
       "7125  20231127160000000  lundi 27 novembre 2023        Unique         63   \n",
       "7127  20231127160000000  lundi 27 novembre 2023        Unique         63   \n",
       "\n",
       "     TypeAssemblee  Legislature                      Session  ...  \\\n",
       "7117            AN           16  Session ordinaire 2023-2024  ...   \n",
       "7119            AN           16  Session ordinaire 2023-2024  ...   \n",
       "7121            AN           16  Session ordinaire 2023-2024  ...   \n",
       "7125            AN           16  Session ordinaire 2023-2024  ...   \n",
       "7127            AN           16  Session ordinaire 2023-2024  ...   \n",
       "\n",
       "        Code_grammaire Code_style Code_parole Role_debat  \\\n",
       "7117  PAROLE_GENERIQUE     NORMAL  PAROLE_1_2        NaN   \n",
       "7119  PAROLE_GENERIQUE     NORMAL  PAROLE_1_2        NaN   \n",
       "7121  PAROLE_GENERIQUE     NORMAL  PAROLE_1_2        NaN   \n",
       "7125  PAROLE_GENERIQUE     NORMAL  PAROLE_1_2        NaN   \n",
       "7127  PAROLE_GENERIQUE     NORMAL  PAROLE_1_2        NaN   \n",
       "\n",
       "                     Nom_orateur  \\\n",
       "7117             M. Yvon Serenus   \n",
       "7119  M. Philippe Pierre-Charles   \n",
       "7121           M. Janmari Flower   \n",
       "7125             M. Yvon Serenus   \n",
       "7127  M. Philippe Pierre-Charles   \n",
       "\n",
       "                                        Qualite_orateur ID_orateur    stime  \\\n",
       "7117  président du Collectif des ouvriers agricoles ...  -125389.0   609.79   \n",
       "7119  porte-parole du Collectif pour dépolluer la Ma...  -125399.0  1091.66   \n",
       "7121        président de l’association Vivre Guadeloupe  -125409.0  1456.39   \n",
       "7125                                                NaN  -125389.0  1911.25   \n",
       "7127                                                NaN  -125399.0  2146.85   \n",
       "\n",
       "                                                  Texte  Source_extraction  \n",
       "7117  Au nom de notre collectif, je salue les partic...              point  \n",
       "7119  Je remercie Marcellin Nadeau et son groupe pol...              point  \n",
       "7121  Je souhaite d’abord remercier le groupe GDR-NU...              point  \n",
       "7125  Comme tout le monde le sait, y compris les exp...              point  \n",
       "7127  Il faut d’abord prendre conscience des risques...              point  \n",
       "\n",
       "[5 rows x 32 columns]"
      ]
     },
     "execution_count": 9,
     "metadata": {},
     "output_type": "execute_result"
    }
   ],
   "source": [
    "df_chelou.head()"
   ]
  },
  {
   "cell_type": "code",
   "execution_count": null,
   "id": "e53ce652",
   "metadata": {},
   "outputs": [],
   "source": [
    "Conséquences de la loi « immigration » sur les enfants étrangers placés à l’aide sociale à l’enfance"
   ]
  },
  {
   "cell_type": "code",
   "execution_count": 22,
   "id": "9d4bd6ca",
   "metadata": {},
   "outputs": [],
   "source": [
    "import re\n",
    "\n",
    "# Regex du champ lexical République (simplifié ici)\n",
    "\n",
    "# sinon :\n",
    "pattern_lexical = re.compile(\n",
    "    # r\"(?<!\\w)(anti-?|pré-?|post-?|pro?)?(république(s)?|républicain(e)?s?|républicanisme|républicanis(er|ation))\\b\",\n",
    "    r\"républi\",\n",
    "    re.I,\n",
    ")\n",
    "# au pire virer le (?<!\\w)(anti-?|pré-?|post-?|pro?)?\n",
    "# genre on raterait irrépublicain\n",
    "# aussi virer finalement la fin de mot (ce qui permettrait de matcher les s etc. sans se casser les pieds)\n",
    "\n",
    "\n",
    "# Regex des expressions à exclure\n",
    "pattern_excl = re.compile(\n",
    "    r\"\\b(L|l)es Républicains\\b|(P|p)résident de la République\"\n",
    ")  # ici garder la casse\n",
    "\n",
    "\n",
    "def contains_lexical_outside_excl(text):\n",
    "    # Trouve toutes les positions des expressions exclues\n",
    "    excl_positions = [m.span() for m in pattern_excl.finditer(text)]\n",
    "\n",
    "    # Fonction pour vérifier si une position est dans une zone exclue\n",
    "    def in_excl(pos):\n",
    "        for start, end in excl_positions:\n",
    "            if start <= pos < end:\n",
    "                return True\n",
    "        return False\n",
    "\n",
    "    # Chercher toutes les occurences du champ lexical\n",
    "    for match in pattern_lexical.finditer(text):\n",
    "        start_pos = match.start()\n",
    "        if not in_excl(start_pos):\n",
    "            return True\n",
    "    return False\n",
    "\n",
    "\n",
    "# Appliquer sur la colonne\n",
    "df[\"repu_match_valide\"] = df[\"Texte_clean\"].apply(contains_lexical_outside_excl)"
   ]
  },
  {
   "cell_type": "code",
   "execution_count": 23,
   "id": "dad87ce0",
   "metadata": {},
   "outputs": [
    {
     "data": {
      "text/plain": [
       "(4409, 61)"
      ]
     },
     "execution_count": 23,
     "metadata": {},
     "output_type": "execute_result"
    }
   ],
   "source": [
    "df[df[\"repu_match_valide\"]].shape"
   ]
  },
  {
   "cell_type": "code",
   "execution_count": null,
   "id": "4efccece",
   "metadata": {},
   "outputs": [
    {
     "data": {
      "text/plain": [
       "True"
      ]
     },
     "execution_count": 19,
     "metadata": {},
     "output_type": "execute_result"
    }
   ],
   "source": [
    "mon_texte = \"ceci est la république\"\n",
    "contains_lexical_outside_excl(mon_texte)\n"
   ]
  }
 ],
 "metadata": {
  "kernelspec": {
   "display_name": "myenv_clone",
   "language": "python",
   "name": "python3"
  },
  "language_info": {
   "codemirror_mode": {
    "name": "ipython",
    "version": 3
   },
   "file_extension": ".py",
   "mimetype": "text/x-python",
   "name": "python",
   "nbconvert_exporter": "python",
   "pygments_lexer": "ipython3",
   "version": "3.11.5"
  }
 },
 "nbformat": 4,
 "nbformat_minor": 5
}
