{
 "cells": [
  {
   "cell_type": "code",
   "execution_count": null,
   "id": "1e746cfb",
   "metadata": {},
   "outputs": [
    {
     "data": {
      "text/plain": [
       "(215127, 59)"
      ]
     },
     "metadata": {},
     "output_type": "display_data"
    }
   ],
   "source": [
    "import pandas as pd\n",
    "import re\n",
    "import csv\n",
    "\n",
    "df = pd.read_csv(\n",
    "    \"../data/interim/data_cleaning.csv\", low_memory=False, dtype={\"ID_orateur\": str}\n",
    ")\n",
    "df.shape"
   ]
  },
  {
   "cell_type": "code",
   "execution_count": null,
   "id": "4878167a",
   "metadata": {},
   "outputs": [],
   "source": [
    "# nettoyage moche du texte\n",
    "\n",
    "\n",
    "def nettoyer_texte(texte):\n",
    "    if not isinstance(texte, str):\n",
    "        return texte\n",
    "    # Supprimer les balises HTML/XML\n",
    "    texte = re.sub(r\"<[^>]+>\", \"\", texte)\n",
    "    # Supprimer contenu entre parenthèses ou crochets\n",
    "    texte = re.sub(r\"\\([^)]*\\)\", \"\", texte)\n",
    "    # # TODO: aviser si enlève crochets, ou juste […] [...], surtout des troncatures citations\n",
    "    # texte = re.sub(r\"\\[[^\\]]*\\]\", \"\", texte)\n",
    "    # Supprimer les espaces multiples\n",
    "    texte = re.sub(r\"\\s+\", \" \", texte).strip()\n",
    "    return texte\n",
    "\n",
    "\n",
    "df[\"Texte_clean\"] = df[\"Texte\"].apply(nettoyer_texte)"
   ]
  },
  {
   "cell_type": "code",
   "execution_count": null,
   "id": "ad116995",
   "metadata": {},
   "outputs": [],
   "source": [
    "# A GARDER POUR LA TRACE DU LOL\n",
    "\n",
    "# pays_avec_republique = [\n",
    "#     \"République fédérative du Brésil\",\n",
    "#     \"République argentine\",\n",
    "#     \"République du Bénin\",\n",
    "#     \"République de Bolivie\",\n",
    "#     \"République du Botswana\",\n",
    "#     \"République du Burkina Faso\",\n",
    "#     \"République du Burundi\",\n",
    "#     \"République du Cameroun\",\n",
    "#     \"République du Cap-Vert\",\n",
    "#     \"République centrafricaine\",\n",
    "#     \"République du Tchad\",\n",
    "#     \"République du Chili\",\n",
    "#     \"République populaire de Chine\",\n",
    "#     \"République de Colombie\",\n",
    "#     \"République du Congo\",\n",
    "#     \"République démocratique du Congo\",\n",
    "#     \"République de Corée\",\n",
    "#     \"République populaire démocratique de Corée\",\n",
    "#     \"République de Côte d’Ivoire\",\n",
    "#     \"République de Croatie\",\n",
    "#     \"République de Cuba\",\n",
    "#     \"République tchèque\",\n",
    "#     \"République du Danemark\",\n",
    "#     \"République dominicaine\",\n",
    "#     \"République d’Équateur\",\n",
    "#     \"République arabe d’Égypte\",\n",
    "#     \"République d’El Salvador\",\n",
    "#     \"République d’Estonie\",\n",
    "#     \"République de Fidji\",\n",
    "#     \"République de Finlande\",\n",
    "#     \"République gabonaise\",\n",
    "#     \"République de Gambie\",\n",
    "#     \"République du Ghana\",\n",
    "#     \"République de Grèce\",\n",
    "#     \"République du Guatemala\",\n",
    "#     \"République de Guinée\",\n",
    "#     \"République de Guinée-Bissau\",\n",
    "#     \"République coopérative du Guyana\",\n",
    "#     \"République d’Haïti\",\n",
    "#     \"République de Hongrie\",\n",
    "#     \"République d’Inde\",\n",
    "#     \"République d’Indonésie\",\n",
    "#     \"République islamique d’Iran\",\n",
    "#     \"République d’Irak\",\n",
    "#     \"République d’Irlande\",\n",
    "#     \"République italienne\",\n",
    "#     \"République du Kazakhstan\",\n",
    "#     \"République du Kenya\",\n",
    "#     \"République kirghize\",\n",
    "#     \"République démocratique populaire lao\",\n",
    "#     \"République de Lettonie\",\n",
    "#     \"République du Liban\",\n",
    "#     \"République du Lesotho\",\n",
    "#     \"République du Libéria\",\n",
    "#     \"République de Lituanie\",\n",
    "#     \"République de Madagascar\",\n",
    "#     \"République du Malawi\",\n",
    "#     \"République des Maldives\",\n",
    "#     \"République du Mali\",\n",
    "#     \"République de Malte\",\n",
    "#     \"République des Îles Marshall\",\n",
    "#     \"République islamique de Mauritanie\",\n",
    "#     \"République de Maurice\",\n",
    "#     \"République du Mozambique\",\n",
    "#     \"République de Namibie\",\n",
    "#     \"République du Niger\",\n",
    "#     \"République fédérale du Nigeria\",\n",
    "#     \"République de Macédoine du Nord\",\n",
    "#     \"République de Palau\",\n",
    "#     \"République du Panama\",\n",
    "#     \"République du Paraguay\",\n",
    "#     \"République du Pérou\",\n",
    "#     \"République des Philippines\",\n",
    "#     \"République de Pologne\",\n",
    "#     \"République portugaise\",\n",
    "#     \"République du Rwanda\",\n",
    "#     \"République de Saint-Marin\",\n",
    "#     \"République de Sierra Leone\",\n",
    "#     \"République de Singapour\",\n",
    "#     \"République slovaque\",\n",
    "#     \"République de Slovénie\",\n",
    "#     \"République des Seychelles\",\n",
    "#     \"République somalienne\",\n",
    "#     \"République d’Afrique du Sud\",\n",
    "#     \"République du Soudan\",\n",
    "#     \"République du Soudan du Sud\",\n",
    "#     \"République arabe syrienne\",\n",
    "#     \"République de Tanzanie\",\n",
    "#     \"République togolaise\",\n",
    "#     \"République de Trinité-et-Tobago\",\n",
    "#     \"République tunisienne\",\n",
    "#     \"République de Turquie\",\n",
    "#     \"République du Turkménistan\",\n",
    "#     \"République d’Ouganda\",\n",
    "#     \"République d’Ukraine\",\n",
    "#     \"République orientale de l’Uruguay\",\n",
    "#     \"République d’Ouzbékistan\",\n",
    "#     \"République bolivarienne du Venezuela\",\n",
    "#     \"République socialiste du Viêt Nam\",\n",
    "#     \"République du Yémen\",\n",
    "#     \"République de Zambie\",\n",
    "#     \"République du Zimbabwe\"\n",
    "# ]\n",
    "\n",
    "# pattern_pays = r\"\\b(\" + r\"|\".join(re.escape(p) for p in pays_avec_republique) + r\")\\b\""
   ]
  },
  {
   "cell_type": "code",
   "execution_count": null,
   "id": "754ee693",
   "metadata": {},
   "outputs": [],
   "source": [
    "# Regex du champ lexical République (simplifié ici)\n",
    "\n",
    "\n",
    "pattern_lexical = re.compile(\n",
    "    r\"républi\",\n",
    "    re.I,\n",
    ")\n",
    "\n",
    "# Regex des expressions à exclure\n",
    "# ici garder la casse\n",
    "pattern_excl = re.compile(\n",
    "    r\"\\b[Ll]es Républicains\\b\"\n",
    "    r\"|\\b[Pp]résident de la République\\b\"\n",
    "    r\"|\\b[Pp]résidence de la République\\b\"\n",
    "    r\"\\b[Gg]auche démocrate et républicaine\\b\"\n",
    "    r\"|\\b[Rr]épublique en marche\\b\"\n",
    "    r\"|\\b[Pp]rocureur de la République\\b\"\n",
    "    r\"|\\b[Cc]our(?:s)? de justice de la République\\b\"\n",
    "    r\"|\\b[Aa]dministration générale de la République\\b\"\n",
    "    # r\"|\" + pattern_pays  # ajout des exclusions de pays si existe\n",
    ")\n",
    "\n",
    "\n",
    "def contains_lexical_outside_excl(text):\n",
    "    # Trouve toutes les positions des expressions exclues\n",
    "    excl_positions = [m.span() for m in pattern_excl.finditer(text)]\n",
    "\n",
    "    # Fonction pour vérifier si une position est dans une zone exclue\n",
    "    def in_excl(pos):\n",
    "        for start, end in excl_positions:\n",
    "            if start <= pos < end:\n",
    "                return True\n",
    "        return False\n",
    "\n",
    "    # Chercher toutes les occurences du champ lexical\n",
    "    for match in pattern_lexical.finditer(text):\n",
    "        start_pos = match.start()\n",
    "        if not in_excl(start_pos):\n",
    "            return True\n",
    "    return False\n",
    "\n",
    "\n",
    "# Appliquer sur la colonne\n",
    "df[\"repu_match_valide\"] = df[\"Texte_clean\"].apply(contains_lexical_outside_excl)"
   ]
  },
  {
   "cell_type": "code",
   "execution_count": null,
   "id": "0c7cb4c4",
   "metadata": {},
   "outputs": [
    {
     "data": {
      "text/plain": [
       "(4185, 61)"
      ]
     },
     "metadata": {},
     "output_type": "display_data"
    }
   ],
   "source": [
    "df_match = df[df[\"repu_match_valide\"]]\n",
    "df_match.shape"
   ]
  },
  {
   "cell_type": "code",
   "execution_count": null,
   "id": "149afc12",
   "metadata": {},
   "outputs": [
    {
     "data": {
      "text/plain": [
       "False"
      ]
     },
     "metadata": {},
     "output_type": "display_data"
    }
   ],
   "source": [
    "mon_texte = \"la République du Congo y a pas que des bonnes BD\"\n",
    "contains_lexical_outside_excl(mon_texte)"
   ]
  },
  {
   "cell_type": "code",
   "execution_count": null,
   "id": "950f3e15",
   "metadata": {},
   "outputs": [],
   "source": [
    "congo = df[df[\"Texte_clean\"].str.contains(\"Congo\")]"
   ]
  },
  {
   "cell_type": "code",
   "execution_count": null,
   "id": "ab12cc01",
   "metadata": {},
   "outputs": [],
   "source": [
    "congo"
   ]
  }
 ],
 "metadata": {
  "language_info": {
   "name": "python"
  }
 },
 "nbformat": 4,
 "nbformat_minor": 5
}
