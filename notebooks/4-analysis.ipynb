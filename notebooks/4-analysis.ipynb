{
 "cells": [
  {
   "cell_type": "markdown",
   "id": "33fe4428",
   "metadata": {},
   "source": [
    "# 4. Analysis"
   ]
  },
  {
   "cell_type": "markdown",
   "id": "50157c55",
   "metadata": {},
   "source": [
    "- premiers tests à l'arrache"
   ]
  },
  {
   "cell_type": "code",
   "execution_count": 1,
   "id": "24293d35",
   "metadata": {},
   "outputs": [],
   "source": [
    "import pandas as pd"
   ]
  },
  {
   "cell_type": "code",
   "execution_count": 2,
   "id": "42fde94c",
   "metadata": {},
   "outputs": [],
   "source": [
    "df = pd.read_csv(\"../data/df_repu.csv\")"
   ]
  },
  {
   "cell_type": "code",
   "execution_count": 3,
   "id": "e7898656",
   "metadata": {},
   "outputs": [
    {
     "data": {
      "text/plain": [
       "(4592, 61)"
      ]
     },
     "execution_count": 3,
     "metadata": {},
     "output_type": "execute_result"
    }
   ],
   "source": [
    "df.shape"
   ]
  },
  {
   "cell_type": "markdown",
   "id": "c26fa233",
   "metadata": {},
   "source": [
    "## décider de comment on découpe\n",
    "- sentence ?\n",
    "- paragraphe (existe pas ici)\n",
    "- dire que tant pis ?\n",
    "- faire un check global du nb token par intervention et cut que ce qui dépasse ?\n",
    "- etc."
   ]
  },
  {
   "cell_type": "markdown",
   "id": "0f461740",
   "metadata": {},
   "source": [
    "## Des tests à l'arrache"
   ]
  },
  {
   "cell_type": "code",
   "execution_count": 44,
   "id": "4c94c977",
   "metadata": {},
   "outputs": [
    {
     "data": {
      "text/plain": [
       "0       2023-03-13\n",
       "1       2023-03-13\n",
       "2       2023-03-13\n",
       "3       2023-03-13\n",
       "4       2023-03-13\n",
       "           ...    \n",
       "4587    2023-02-10\n",
       "4588    2023-02-10\n",
       "4589    2023-02-10\n",
       "4590    2023-02-27\n",
       "4591    2023-02-27\n",
       "Name: DateSeance_day, Length: 4592, dtype: object"
      ]
     },
     "execution_count": 44,
     "metadata": {},
     "output_type": "execute_result"
    }
   ],
   "source": [
    "df[\"DateSeance_ts\"] = pd.to_datetime(df[\"DateSeance\"], format=\"%Y%m%d%H%M%S%f\")\n",
    "df[\"DateSeance_day\"] = df[\"DateSeance_ts\"].dt.date"
   ]
  },
  {
   "cell_type": "code",
   "execution_count": 4,
   "id": "11f8f967",
   "metadata": {},
   "outputs": [],
   "source": [
    "# nettoyage moche du texte\n",
    "# sinon à gérer avant !\n",
    "\n",
    "import re\n",
    "\n",
    "\n",
    "def nettoyer_texte(texte):\n",
    "    if not isinstance(texte, str):\n",
    "        return texte\n",
    "    # Supprimer les balises HTML/XML\n",
    "    texte = re.sub(r\"<[^>]+>\", \"\", texte)\n",
    "    # Supprimer contenu entre parenthèses ou crochets\n",
    "    texte = re.sub(r\"\\([^)]*\\)\", \"\", texte)  # (...)\n",
    "    # texte = re.sub(r\"\\[[^\\]]*\\]\", \"\", texte)     # [...] # TODO: vérif avant\n",
    "    # Supprimer les espaces multiples\n",
    "    texte = re.sub(r\"\\s+\", \" \", texte).strip()\n",
    "    return texte\n",
    "\n",
    "\n",
    "df[\"Texte_clean\"] = df[\"Texte\"].apply(nettoyer_texte)"
   ]
  },
  {
   "cell_type": "code",
   "execution_count": 5,
   "id": "c50d686a",
   "metadata": {},
   "outputs": [
    {
     "data": {
      "text/plain": [
       "count     4592.000000\n",
       "mean      1582.548780\n",
       "std       1773.677754\n",
       "min         25.000000\n",
       "25%        475.000000\n",
       "50%       1017.500000\n",
       "75%       1983.000000\n",
       "max      20908.000000\n",
       "Name: Texte_clean, dtype: float64"
      ]
     },
     "execution_count": 5,
     "metadata": {},
     "output_type": "execute_result"
    }
   ],
   "source": [
    "df[\"Texte_clean\"].str.len().describe()"
   ]
  },
  {
   "cell_type": "code",
   "execution_count": 6,
   "id": "8e74c041",
   "metadata": {},
   "outputs": [],
   "source": [
    "# # tester un truc autour de alibaba pour l'embedding ?\n",
    "\n",
    "# import pandas as pd\n",
    "# from sentence_transformers import SentenceTransformer\n",
    "# import numpy as np\n",
    "\n",
    "# # Prepare embedding model\n",
    "# model_name_or_path=\"Alibaba-NLP/gte-multilingual-base\"\n",
    "# model = SentenceTransformer(model_name_or_path, trust_remote_code=True)\n",
    "\n",
    "# # Embed the texts\n",
    "# embeddings = [model.encode(x, normalize_embeddings=True) for x in sotu_sample[\"paragraph\"].to_list()]\n",
    "# embeddings = np.array(embeddings)"
   ]
  },
  {
   "cell_type": "code",
   "execution_count": 12,
   "id": "965cd063",
   "metadata": {},
   "outputs": [
    {
     "data": {
      "text/html": [
       "<div>\n",
       "<style scoped>\n",
       "    .dataframe tbody tr th:only-of-type {\n",
       "        vertical-align: middle;\n",
       "    }\n",
       "\n",
       "    .dataframe tbody tr th {\n",
       "        vertical-align: top;\n",
       "    }\n",
       "\n",
       "    .dataframe thead th {\n",
       "        text-align: right;\n",
       "    }\n",
       "</style>\n",
       "<table border=\"1\" class=\"dataframe\">\n",
       "  <thead>\n",
       "    <tr style=\"text-align: right;\">\n",
       "      <th></th>\n",
       "      <th>UID</th>\n",
       "      <th>SeanceRef</th>\n",
       "      <th>SessionRef</th>\n",
       "      <th>DateSeance</th>\n",
       "      <th>DateSeanceJour</th>\n",
       "      <th>NumSeanceJour</th>\n",
       "      <th>NumSeance</th>\n",
       "      <th>TypeAssemblee</th>\n",
       "      <th>Legislature</th>\n",
       "      <th>Session</th>\n",
       "      <th>...</th>\n",
       "      <th>experienceDepute</th>\n",
       "      <th>scoreParticipation</th>\n",
       "      <th>scoreParticipationSpecialite</th>\n",
       "      <th>scoreLoyaute</th>\n",
       "      <th>scoreMajorite</th>\n",
       "      <th>active</th>\n",
       "      <th>dateMaj</th>\n",
       "      <th>repu_match_valide</th>\n",
       "      <th>repu_match_simple</th>\n",
       "      <th>Texte_clean</th>\n",
       "    </tr>\n",
       "  </thead>\n",
       "  <tbody>\n",
       "    <tr>\n",
       "      <th>2</th>\n",
       "      <td>CRSANR5L16S2023O1N173</td>\n",
       "      <td>RUANR5L16S2023IDS26877</td>\n",
       "      <td>SCR5A2023O1</td>\n",
       "      <td>20230313160000000</td>\n",
       "      <td>lundi 13 mars 2023</td>\n",
       "      <td>1</td>\n",
       "      <td>173</td>\n",
       "      <td>AN</td>\n",
       "      <td>16</td>\n",
       "      <td>Session ordinaire 2022-2023</td>\n",
       "      <td>...</td>\n",
       "      <td>7 ans</td>\n",
       "      <td>0.17</td>\n",
       "      <td>0.20</td>\n",
       "      <td>0.977</td>\n",
       "      <td>0.216</td>\n",
       "      <td>0.0</td>\n",
       "      <td>2025-06-24</td>\n",
       "      <td>True</td>\n",
       "      <td>True</td>\n",
       "      <td>C’est notre sentiment, celui des élus sur les ...</td>\n",
       "    </tr>\n",
       "    <tr>\n",
       "      <th>42</th>\n",
       "      <td>CRSANR5L16S2024O1N117</td>\n",
       "      <td>RUANR5L16S2024IDS28058</td>\n",
       "      <td>SCR5A2024O1</td>\n",
       "      <td>20240206150000000</td>\n",
       "      <td>mardi 06 février 2024</td>\n",
       "      <td>1</td>\n",
       "      <td>117</td>\n",
       "      <td>AN</td>\n",
       "      <td>16</td>\n",
       "      <td>Session ordinaire 2023-2024</td>\n",
       "      <td>...</td>\n",
       "      <td>2 ans</td>\n",
       "      <td>0.17</td>\n",
       "      <td>0.23</td>\n",
       "      <td>0.990</td>\n",
       "      <td>0.245</td>\n",
       "      <td>0.0</td>\n",
       "      <td>2025-06-24</td>\n",
       "      <td>True</td>\n",
       "      <td>True</td>\n",
       "      <td>…Julien Luya, Robert Siegel ou, hier encore, l...</td>\n",
       "    </tr>\n",
       "    <tr>\n",
       "      <th>44</th>\n",
       "      <td>CRSANR5L16S2024O1N117</td>\n",
       "      <td>RUANR5L16S2024IDS28058</td>\n",
       "      <td>SCR5A2024O1</td>\n",
       "      <td>20240206150000000</td>\n",
       "      <td>mardi 06 février 2024</td>\n",
       "      <td>1</td>\n",
       "      <td>117</td>\n",
       "      <td>AN</td>\n",
       "      <td>16</td>\n",
       "      <td>Session ordinaire 2023-2024</td>\n",
       "      <td>...</td>\n",
       "      <td>3 ans</td>\n",
       "      <td>0.32</td>\n",
       "      <td>0.49</td>\n",
       "      <td>0.985</td>\n",
       "      <td>0.000</td>\n",
       "      <td>1.0</td>\n",
       "      <td>2025-06-24</td>\n",
       "      <td>True</td>\n",
       "      <td>True</td>\n",
       "      <td>Tout à l’heure, sur les bancs de l’extrême gau...</td>\n",
       "    </tr>\n",
       "    <tr>\n",
       "      <th>51</th>\n",
       "      <td>CRSANR5L16S2024O1N103</td>\n",
       "      <td>RUANR5L16S2024IDS28011</td>\n",
       "      <td>SCR5A2024O1</td>\n",
       "      <td>20240124140000000</td>\n",
       "      <td>mercredi 24 janvier 2024</td>\n",
       "      <td>1</td>\n",
       "      <td>103</td>\n",
       "      <td>AN</td>\n",
       "      <td>16</td>\n",
       "      <td>Session ordinaire 2023-2024</td>\n",
       "      <td>...</td>\n",
       "      <td>7 ans</td>\n",
       "      <td>0.12</td>\n",
       "      <td>0.33</td>\n",
       "      <td>0.984</td>\n",
       "      <td>0.000</td>\n",
       "      <td>0.0</td>\n",
       "      <td>2025-06-24</td>\n",
       "      <td>True</td>\n",
       "      <td>False</td>\n",
       "      <td>L’histoire de l’avortement, c’est l’histoire d...</td>\n",
       "    </tr>\n",
       "    <tr>\n",
       "      <th>54</th>\n",
       "      <td>CRSANR5L16S2024O1N103</td>\n",
       "      <td>RUANR5L16S2024IDS28011</td>\n",
       "      <td>SCR5A2024O1</td>\n",
       "      <td>20240124140000000</td>\n",
       "      <td>mercredi 24 janvier 2024</td>\n",
       "      <td>1</td>\n",
       "      <td>103</td>\n",
       "      <td>AN</td>\n",
       "      <td>16</td>\n",
       "      <td>Session ordinaire 2023-2024</td>\n",
       "      <td>...</td>\n",
       "      <td>8 ans</td>\n",
       "      <td>0.16</td>\n",
       "      <td>0.37</td>\n",
       "      <td>0.952</td>\n",
       "      <td>0.000</td>\n",
       "      <td>1.0</td>\n",
       "      <td>2025-06-24</td>\n",
       "      <td>True</td>\n",
       "      <td>True</td>\n",
       "      <td>« Les représentants du peuple français […] ont...</td>\n",
       "    </tr>\n",
       "    <tr>\n",
       "      <th>...</th>\n",
       "      <td>...</td>\n",
       "      <td>...</td>\n",
       "      <td>...</td>\n",
       "      <td>...</td>\n",
       "      <td>...</td>\n",
       "      <td>...</td>\n",
       "      <td>...</td>\n",
       "      <td>...</td>\n",
       "      <td>...</td>\n",
       "      <td>...</td>\n",
       "      <td>...</td>\n",
       "      <td>...</td>\n",
       "      <td>...</td>\n",
       "      <td>...</td>\n",
       "      <td>...</td>\n",
       "      <td>...</td>\n",
       "      <td>...</td>\n",
       "      <td>...</td>\n",
       "      <td>...</td>\n",
       "      <td>...</td>\n",
       "      <td>...</td>\n",
       "    </tr>\n",
       "    <tr>\n",
       "      <th>4476</th>\n",
       "      <td>CRSANR5L16S2024O1N046</td>\n",
       "      <td>RUANR5L16S2024IDS27703</td>\n",
       "      <td>SCR5A2024O1</td>\n",
       "      <td>20231108150000000</td>\n",
       "      <td>mercredi 08 novembre 2023</td>\n",
       "      <td>1</td>\n",
       "      <td>46</td>\n",
       "      <td>AN</td>\n",
       "      <td>16</td>\n",
       "      <td>Session ordinaire 2023-2024</td>\n",
       "      <td>...</td>\n",
       "      <td>7 ans</td>\n",
       "      <td>0.14</td>\n",
       "      <td>0.37</td>\n",
       "      <td>0.984</td>\n",
       "      <td>0.217</td>\n",
       "      <td>0.0</td>\n",
       "      <td>2025-06-24</td>\n",
       "      <td>True</td>\n",
       "      <td>True</td>\n",
       "      <td>…éludant le sujet de l’imposition des sociétés...</td>\n",
       "    </tr>\n",
       "    <tr>\n",
       "      <th>4478</th>\n",
       "      <td>CRSANR5L16S2024O1N046</td>\n",
       "      <td>RUANR5L16S2024IDS27703</td>\n",
       "      <td>SCR5A2024O1</td>\n",
       "      <td>20231108150000000</td>\n",
       "      <td>mercredi 08 novembre 2023</td>\n",
       "      <td>1</td>\n",
       "      <td>46</td>\n",
       "      <td>AN</td>\n",
       "      <td>16</td>\n",
       "      <td>Session ordinaire 2023-2024</td>\n",
       "      <td>...</td>\n",
       "      <td>8 ans</td>\n",
       "      <td>0.25</td>\n",
       "      <td>0.25</td>\n",
       "      <td>0.968</td>\n",
       "      <td>0.000</td>\n",
       "      <td>1.0</td>\n",
       "      <td>2025-06-24</td>\n",
       "      <td>True</td>\n",
       "      <td>True</td>\n",
       "      <td>Je remercie le rapporteur général et le minist...</td>\n",
       "    </tr>\n",
       "    <tr>\n",
       "      <th>4498</th>\n",
       "      <td>CRSANR5L16S2024O1N091</td>\n",
       "      <td>RUANR5L16S2024IDS28041</td>\n",
       "      <td>SCR5A2024O1</td>\n",
       "      <td>20231221153000000</td>\n",
       "      <td>jeudi 21 décembre 2023</td>\n",
       "      <td>Unique</td>\n",
       "      <td>91</td>\n",
       "      <td>AN</td>\n",
       "      <td>16</td>\n",
       "      <td>Session ordinaire 2023-2024</td>\n",
       "      <td>...</td>\n",
       "      <td>3 ans</td>\n",
       "      <td>0.30</td>\n",
       "      <td>0.41</td>\n",
       "      <td>0.974</td>\n",
       "      <td>0.000</td>\n",
       "      <td>1.0</td>\n",
       "      <td>2025-06-24</td>\n",
       "      <td>True</td>\n",
       "      <td>True</td>\n",
       "      <td>…l’essentiel étant de ne jamais perdre. Élisab...</td>\n",
       "    </tr>\n",
       "    <tr>\n",
       "      <th>4557</th>\n",
       "      <td>CRSANR5L16S2023O1N220</td>\n",
       "      <td>RUANR5L16S2023IDS27020</td>\n",
       "      <td>SCR5A2023O1</td>\n",
       "      <td>20230503150000000</td>\n",
       "      <td>mercredi 03 mai 2023</td>\n",
       "      <td>1</td>\n",
       "      <td>220</td>\n",
       "      <td>AN</td>\n",
       "      <td>16</td>\n",
       "      <td>Session ordinaire 2022-2023</td>\n",
       "      <td>...</td>\n",
       "      <td>3 ans</td>\n",
       "      <td>0.07</td>\n",
       "      <td>0.13</td>\n",
       "      <td>0.933</td>\n",
       "      <td>0.000</td>\n",
       "      <td>1.0</td>\n",
       "      <td>2025-06-24</td>\n",
       "      <td>True</td>\n",
       "      <td>False</td>\n",
       "      <td>Enfin, je veux réaffirmer que nous soutenons l...</td>\n",
       "    </tr>\n",
       "    <tr>\n",
       "      <th>4586</th>\n",
       "      <td>CRSANR5L16S2024O1N132</td>\n",
       "      <td>RUANR5L16S2024IDS28086</td>\n",
       "      <td>SCR5A2024O1</td>\n",
       "      <td>20240229150000000</td>\n",
       "      <td>jeudi 29 février 2024</td>\n",
       "      <td>2</td>\n",
       "      <td>132</td>\n",
       "      <td>AN</td>\n",
       "      <td>16</td>\n",
       "      <td>Session ordinaire 2023-2024</td>\n",
       "      <td>...</td>\n",
       "      <td>3 ans</td>\n",
       "      <td>0.20</td>\n",
       "      <td>0.48</td>\n",
       "      <td>0.934</td>\n",
       "      <td>0.000</td>\n",
       "      <td>1.0</td>\n",
       "      <td>2025-06-24</td>\n",
       "      <td>True</td>\n",
       "      <td>True</td>\n",
       "      <td>Je salue le travail que nous avons mené et la ...</td>\n",
       "    </tr>\n",
       "  </tbody>\n",
       "</table>\n",
       "<p>129 rows × 62 columns</p>\n",
       "</div>"
      ],
      "text/plain": [
       "                        UID               SeanceRef   SessionRef  \\\n",
       "2     CRSANR5L16S2023O1N173  RUANR5L16S2023IDS26877  SCR5A2023O1   \n",
       "42    CRSANR5L16S2024O1N117  RUANR5L16S2024IDS28058  SCR5A2024O1   \n",
       "44    CRSANR5L16S2024O1N117  RUANR5L16S2024IDS28058  SCR5A2024O1   \n",
       "51    CRSANR5L16S2024O1N103  RUANR5L16S2024IDS28011  SCR5A2024O1   \n",
       "54    CRSANR5L16S2024O1N103  RUANR5L16S2024IDS28011  SCR5A2024O1   \n",
       "...                     ...                     ...          ...   \n",
       "4476  CRSANR5L16S2024O1N046  RUANR5L16S2024IDS27703  SCR5A2024O1   \n",
       "4478  CRSANR5L16S2024O1N046  RUANR5L16S2024IDS27703  SCR5A2024O1   \n",
       "4498  CRSANR5L16S2024O1N091  RUANR5L16S2024IDS28041  SCR5A2024O1   \n",
       "4557  CRSANR5L16S2023O1N220  RUANR5L16S2023IDS27020  SCR5A2023O1   \n",
       "4586  CRSANR5L16S2024O1N132  RUANR5L16S2024IDS28086  SCR5A2024O1   \n",
       "\n",
       "             DateSeance             DateSeanceJour NumSeanceJour  NumSeance  \\\n",
       "2     20230313160000000         lundi 13 mars 2023             1        173   \n",
       "42    20240206150000000      mardi 06 février 2024             1        117   \n",
       "44    20240206150000000      mardi 06 février 2024             1        117   \n",
       "51    20240124140000000   mercredi 24 janvier 2024             1        103   \n",
       "54    20240124140000000   mercredi 24 janvier 2024             1        103   \n",
       "...                 ...                        ...           ...        ...   \n",
       "4476  20231108150000000  mercredi 08 novembre 2023             1         46   \n",
       "4478  20231108150000000  mercredi 08 novembre 2023             1         46   \n",
       "4498  20231221153000000     jeudi 21 décembre 2023        Unique         91   \n",
       "4557  20230503150000000       mercredi 03 mai 2023             1        220   \n",
       "4586  20240229150000000      jeudi 29 février 2024             2        132   \n",
       "\n",
       "     TypeAssemblee  Legislature                      Session  ...  \\\n",
       "2               AN           16  Session ordinaire 2022-2023  ...   \n",
       "42              AN           16  Session ordinaire 2023-2024  ...   \n",
       "44              AN           16  Session ordinaire 2023-2024  ...   \n",
       "51              AN           16  Session ordinaire 2023-2024  ...   \n",
       "54              AN           16  Session ordinaire 2023-2024  ...   \n",
       "...            ...          ...                          ...  ...   \n",
       "4476            AN           16  Session ordinaire 2023-2024  ...   \n",
       "4478            AN           16  Session ordinaire 2023-2024  ...   \n",
       "4498            AN           16  Session ordinaire 2023-2024  ...   \n",
       "4557            AN           16  Session ordinaire 2022-2023  ...   \n",
       "4586            AN           16  Session ordinaire 2023-2024  ...   \n",
       "\n",
       "      experienceDepute scoreParticipation scoreParticipationSpecialite  \\\n",
       "2                7 ans               0.17                         0.20   \n",
       "42               2 ans               0.17                         0.23   \n",
       "44               3 ans               0.32                         0.49   \n",
       "51               7 ans               0.12                         0.33   \n",
       "54               8 ans               0.16                         0.37   \n",
       "...                ...                ...                          ...   \n",
       "4476             7 ans               0.14                         0.37   \n",
       "4478             8 ans               0.25                         0.25   \n",
       "4498             3 ans               0.30                         0.41   \n",
       "4557             3 ans               0.07                         0.13   \n",
       "4586             3 ans               0.20                         0.48   \n",
       "\n",
       "     scoreLoyaute scoreMajorite active     dateMaj  repu_match_valide  \\\n",
       "2           0.977         0.216    0.0  2025-06-24               True   \n",
       "42          0.990         0.245    0.0  2025-06-24               True   \n",
       "44          0.985         0.000    1.0  2025-06-24               True   \n",
       "51          0.984         0.000    0.0  2025-06-24               True   \n",
       "54          0.952         0.000    1.0  2025-06-24               True   \n",
       "...           ...           ...    ...         ...                ...   \n",
       "4476        0.984         0.217    0.0  2025-06-24               True   \n",
       "4478        0.968         0.000    1.0  2025-06-24               True   \n",
       "4498        0.974         0.000    1.0  2025-06-24               True   \n",
       "4557        0.933         0.000    1.0  2025-06-24               True   \n",
       "4586        0.934         0.000    1.0  2025-06-24               True   \n",
       "\n",
       "      repu_match_simple                                        Texte_clean  \n",
       "2                  True  C’est notre sentiment, celui des élus sur les ...  \n",
       "42                 True  …Julien Luya, Robert Siegel ou, hier encore, l...  \n",
       "44                 True  Tout à l’heure, sur les bancs de l’extrême gau...  \n",
       "51                False  L’histoire de l’avortement, c’est l’histoire d...  \n",
       "54                 True  « Les représentants du peuple français […] ont...  \n",
       "...                 ...                                                ...  \n",
       "4476               True  …éludant le sujet de l’imposition des sociétés...  \n",
       "4478               True  Je remercie le rapporteur général et le minist...  \n",
       "4498               True  …l’essentiel étant de ne jamais perdre. Élisab...  \n",
       "4557              False  Enfin, je veux réaffirmer que nous soutenons l...  \n",
       "4586               True  Je salue le travail que nous avons mené et la ...  \n",
       "\n",
       "[129 rows x 62 columns]"
      ]
     },
     "execution_count": 12,
     "metadata": {},
     "output_type": "execute_result"
    }
   ],
   "source": [
    "# si besoin vérif usage de bancs dans les textes (hors des didascalies)\n",
    "bancs = df[df[\"Texte_clean\"].str.contains(\"bancs\")]\n",
    "bancs"
   ]
  },
  {
   "cell_type": "markdown",
   "id": "58a53b17",
   "metadata": {},
   "source": [
    "https://maartengr.github.io/BERTopic/getting_started/quickstart/quickstart.html"
   ]
  },
  {
   "cell_type": "code",
   "execution_count": 16,
   "id": "4451a4f2",
   "metadata": {},
   "outputs": [
    {
     "name": "stderr",
     "output_type": "stream",
     "text": [
      "[nltk_data] Downloading package stopwords to /Users/leo/nltk_data...\n",
      "[nltk_data]   Package stopwords is already up-to-date!\n"
     ]
    }
   ],
   "source": [
    "# regarder pour faire autre chose que nltk, etc.\n",
    "\n",
    "import nltk\n",
    "from nltk.corpus import stopwords\n",
    "from sentence_transformers import SentenceTransformer\n",
    "from sklearn.feature_extraction.text import CountVectorizer\n",
    "import bertopic\n",
    "\n",
    "nltk.download(\"stopwords\")\n",
    "french_stopwords = list(set(stopwords.words(\"french\")))\n",
    "vectorizer_model = CountVectorizer(stop_words=french_stopwords)\n",
    "topic_model = bertopic.BERTopic(language=\"french\", vectorizer_model=vectorizer_model)\n",
    "# topics, probs = topic_model.fit_transform(df[\"Texte_clean\"])"
   ]
  },
  {
   "cell_type": "code",
   "execution_count": null,
   "id": "d6b836a2",
   "metadata": {},
   "outputs": [],
   "source": [
    "# regarder pour faire autre chose que nltk, etc.\n",
    "\n",
    "# from bertopic import BERTopic\n",
    "# topic_model = BERTopic(language=\"french\", min_topic_size=35, verbose=True)\n",
    "# topics, _ = topic_model.fit_transform(df['Texte_clean'])"
   ]
  },
  {
   "cell_type": "code",
   "execution_count": 17,
   "id": "fdc5753f",
   "metadata": {},
   "outputs": [],
   "source": [
    "topics, probs = topic_model.fit_transform(df[\"Texte_clean\"])"
   ]
  },
  {
   "cell_type": "code",
   "execution_count": 18,
   "id": "754cc04c",
   "metadata": {},
   "outputs": [
    {
     "data": {
      "text/html": [
       "<div>\n",
       "<style scoped>\n",
       "    .dataframe tbody tr th:only-of-type {\n",
       "        vertical-align: middle;\n",
       "    }\n",
       "\n",
       "    .dataframe tbody tr th {\n",
       "        vertical-align: top;\n",
       "    }\n",
       "\n",
       "    .dataframe thead th {\n",
       "        text-align: right;\n",
       "    }\n",
       "</style>\n",
       "<table border=\"1\" class=\"dataframe\">\n",
       "  <thead>\n",
       "    <tr style=\"text-align: right;\">\n",
       "      <th></th>\n",
       "      <th>Topic</th>\n",
       "      <th>Count</th>\n",
       "      <th>Name</th>\n",
       "      <th>Representation</th>\n",
       "      <th>Representative_Docs</th>\n",
       "    </tr>\n",
       "  </thead>\n",
       "  <tbody>\n",
       "    <tr>\n",
       "      <th>0</th>\n",
       "      <td>-1</td>\n",
       "      <td>1982</td>\n",
       "      <td>-1_plus_république_cette_loi</td>\n",
       "      <td>[plus, république, cette, loi, comme, tout, êt...</td>\n",
       "      <td>[Les associations agréées de sécurité civile, ...</td>\n",
       "    </tr>\n",
       "    <tr>\n",
       "      <th>1</th>\n",
       "      <td>0</td>\n",
       "      <td>369</td>\n",
       "      <td>0_école_élèves_éducation_enfants</td>\n",
       "      <td>[école, élèves, éducation, enfants, enseignant...</td>\n",
       "      <td>[Depuis 2017, le Gouvernement a placé l’éducat...</td>\n",
       "    </tr>\n",
       "    <tr>\n",
       "      <th>2</th>\n",
       "      <td>1</td>\n",
       "      <td>239</td>\n",
       "      <td>1_procureur_justice_république_douaniers</td>\n",
       "      <td>[procureur, justice, république, douaniers, am...</td>\n",
       "      <td>[…que confirmeraient les chiffres de la récidi...</td>\n",
       "    </tr>\n",
       "    <tr>\n",
       "      <th>3</th>\n",
       "      <td>2</td>\n",
       "      <td>142</td>\n",
       "      <td>2_france_français_république_plus</td>\n",
       "      <td>[france, français, république, plus, tous, pay...</td>\n",
       "      <td>[« La France est une République indivisible » ...</td>\n",
       "    </tr>\n",
       "    <tr>\n",
       "      <th>4</th>\n",
       "      <td>3</td>\n",
       "      <td>125</td>\n",
       "      <td>3_immigration_étrangers_asile_droit</td>\n",
       "      <td>[immigration, étrangers, asile, droit, france,...</td>\n",
       "      <td>[La proposition de loi qui nous est soumise au...</td>\n",
       "    </tr>\n",
       "    <tr>\n",
       "      <th>...</th>\n",
       "      <td>...</td>\n",
       "      <td>...</td>\n",
       "      <td>...</td>\n",
       "      <td>...</td>\n",
       "      <td>...</td>\n",
       "    </tr>\n",
       "    <tr>\n",
       "      <th>59</th>\n",
       "      <td>58</td>\n",
       "      <td>11</td>\n",
       "      <td>58_mots_républicains_préfectoral_confiance</td>\n",
       "      <td>[mots, républicains, préfectoral, confiance, a...</td>\n",
       "      <td>[Je partage une part des convictions républica...</td>\n",
       "    </tr>\n",
       "    <tr>\n",
       "      <th>60</th>\n",
       "      <td>59</td>\n",
       "      <td>11</td>\n",
       "      <td>59_jeux_sport_olympiques_paralympiques</td>\n",
       "      <td>[jeux, sport, olympiques, paralympiques, événe...</td>\n",
       "      <td>[En effet, la deuxième édition de la Journée p...</td>\n",
       "    </tr>\n",
       "    <tr>\n",
       "      <th>61</th>\n",
       "      <td>60</td>\n",
       "      <td>11</td>\n",
       "      <td>60_élus_leurs_violence_agressions</td>\n",
       "      <td>[élus, leurs, violence, agressions, violences,...</td>\n",
       "      <td>[Ces attaques de grande ampleur s’ajoutent aux...</td>\n",
       "    </tr>\n",
       "    <tr>\n",
       "      <th>62</th>\n",
       "      <td>61</td>\n",
       "      <td>10</td>\n",
       "      <td>61_tarifs_énergies_renouvelables_électricité</td>\n",
       "      <td>[tarifs, énergies, renouvelables, électricité,...</td>\n",
       "      <td>[L’amendement no 812 concerne la Nouvelle-Calé...</td>\n",
       "    </tr>\n",
       "    <tr>\n",
       "      <th>63</th>\n",
       "      <td>62</td>\n",
       "      <td>10</td>\n",
       "      <td>62_chacun_travailler_travail_solidarité</td>\n",
       "      <td>[chacun, travailler, travail, solidarité, doit...</td>\n",
       "      <td>[Chacun doit avoir un travail – personne n’est...</td>\n",
       "    </tr>\n",
       "  </tbody>\n",
       "</table>\n",
       "<p>64 rows × 5 columns</p>\n",
       "</div>"
      ],
      "text/plain": [
       "    Topic  Count                                          Name  \\\n",
       "0      -1   1982                  -1_plus_république_cette_loi   \n",
       "1       0    369              0_école_élèves_éducation_enfants   \n",
       "2       1    239      1_procureur_justice_république_douaniers   \n",
       "3       2    142             2_france_français_république_plus   \n",
       "4       3    125           3_immigration_étrangers_asile_droit   \n",
       "..    ...    ...                                           ...   \n",
       "59     58     11    58_mots_républicains_préfectoral_confiance   \n",
       "60     59     11        59_jeux_sport_olympiques_paralympiques   \n",
       "61     60     11             60_élus_leurs_violence_agressions   \n",
       "62     61     10  61_tarifs_énergies_renouvelables_électricité   \n",
       "63     62     10       62_chacun_travailler_travail_solidarité   \n",
       "\n",
       "                                       Representation  \\\n",
       "0   [plus, république, cette, loi, comme, tout, êt...   \n",
       "1   [école, élèves, éducation, enfants, enseignant...   \n",
       "2   [procureur, justice, république, douaniers, am...   \n",
       "3   [france, français, république, plus, tous, pay...   \n",
       "4   [immigration, étrangers, asile, droit, france,...   \n",
       "..                                                ...   \n",
       "59  [mots, républicains, préfectoral, confiance, a...   \n",
       "60  [jeux, sport, olympiques, paralympiques, événe...   \n",
       "61  [élus, leurs, violence, agressions, violences,...   \n",
       "62  [tarifs, énergies, renouvelables, électricité,...   \n",
       "63  [chacun, travailler, travail, solidarité, doit...   \n",
       "\n",
       "                                  Representative_Docs  \n",
       "0   [Les associations agréées de sécurité civile, ...  \n",
       "1   [Depuis 2017, le Gouvernement a placé l’éducat...  \n",
       "2   […que confirmeraient les chiffres de la récidi...  \n",
       "3   [« La France est une République indivisible » ...  \n",
       "4   [La proposition de loi qui nous est soumise au...  \n",
       "..                                                ...  \n",
       "59  [Je partage une part des convictions républica...  \n",
       "60  [En effet, la deuxième édition de la Journée p...  \n",
       "61  [Ces attaques de grande ampleur s’ajoutent aux...  \n",
       "62  [L’amendement no 812 concerne la Nouvelle-Calé...  \n",
       "63  [Chacun doit avoir un travail – personne n’est...  \n",
       "\n",
       "[64 rows x 5 columns]"
      ]
     },
     "execution_count": 18,
     "metadata": {},
     "output_type": "execute_result"
    }
   ],
   "source": [
    "topic_model.get_topic_info()"
   ]
  },
  {
   "cell_type": "code",
   "execution_count": 39,
   "id": "fff7845e",
   "metadata": {},
   "outputs": [
    {
     "data": {
      "application/vnd.plotly.v1+json": {
       "config": {
        "plotlyServerURL": "https://plot.ly"
       },
       "data": [
        {
         "customdata": [
          [
           0,
           "école | élèves | éducation | enfants | enseignants",
           369
          ],
          [
           1,
           "procureur | justice | république | douaniers | amendement",
           239
          ],
          [
           2,
           "france | français | république | plus | tous",
           142
          ],
          [
           3,
           "immigration | étrangers | asile | droit | france",
           125
          ],
          [
           4,
           "santé | soins | hôpital | soignants | système",
           96
          ],
          [
           5,
           "république | ve | démocratie | débat | tout",
           94
          ],
          [
           6,
           "antisémitisme | israël | juifs | haine | hamas",
           73
          ],
          [
           7,
           "eau | agriculteurs | mer | agricole | climatique",
           69
          ],
          [
           8,
           "républicain | républicains | républicaine | extrême | droite",
           62
          ],
          [
           9,
           "français | plus | travail | france | salaires",
           61
          ],
          [
           10,
           "européenne | union | coopération | traité | france",
           52
          ],
          [
           11,
           "finances | budget | milliards | euros | collectivités",
           49
          ],
          [
           12,
           "texte | commission | proposition | loi | sénat",
           48
          ],
          [
           13,
           "censure | motion | 49 | motions | ve",
           47
          ],
          [
           14,
           "police | policiers | opj | intérieur | ordre",
           45
          ],
          [
           15,
           "emploi | salaires | salariés | travail | entreprises",
           43
          ],
          [
           16,
           "français | président | république | otan | première",
           42
          ],
          [
           17,
           "paty | samuel | islamiste | terrorisme | assassinat",
           40
          ],
          [
           18,
           "amendement | amendements | rapporteur | loi | commission",
           36
          ],
          [
           19,
           "discriminations | discrimination | racisme | capillaire | haine",
           35
          ],
          [
           20,
           "plus | collectivités | milliards | culture | inflation",
           34
          ],
          [
           21,
           "laïcité | religion | 1905 | cultes | loi",
           34
          ],
          [
           22,
           "séparatisme | islamisme | musulmans | principes | république",
           32
          ],
          [
           23,
           "article | scrutin | texte | amendements | commission",
           32
          ],
          [
           24,
           "ministre | madame | première | république | gouvernement",
           31
          ],
          [
           25,
           "calédonie | nouvelle | accord | élections | électoral",
           29
          ],
          [
           26,
           "scrutin | élections | élection | électoral | proportionnelle",
           28
          ],
          [
           27,
           "langues | langue | régionales | française | enseignement",
           27
          ],
          [
           28,
           "nucléaire | dissuasion | programmation | réacteurs | président",
           25
          ],
          [
           29,
           "retraite | retraites | réforme | âge | sociale",
           24
          ],
          [
           30,
           "police | martinique | quartiers | trafic | sécurité",
           24
          ],
          [
           31,
           "tests | discriminations | liberté | droits | discrimination",
           23
          ],
          [
           32,
           "communes | compétences | territoires | loi | collectivités",
           23
          ],
          [
           33,
           "égalité | fraternité | républicaines | liberté | valeurs",
           23
          ],
          [
           34,
           "polynésie | fonction | ordonnance | française | communes",
           22
          ],
          [
           35,
           "ukraine | russie | famine | génocide | wagner",
           22
          ],
          [
           36,
           "drapeau | tricolore | mairies | français | européen",
           22
          ],
          [
           37,
           "collectivités | élus | mairie | locaux | secrétaires",
           21
          ],
          [
           38,
           "macron | emmanuel | uber | réparerons | barrage",
           20
          ],
          [
           39,
           "voie | professionnel | élèves | lycées | démocrate",
           20
          ],
          [
           40,
           "femmes | homosexualité | liberté | halimi | vichy",
           19
          ],
          [
           41,
           "article | constitution | principe | calédonie | fondamentaux",
           18
          ],
          [
           42,
           "sociale | sécurité | institution | constitutionnelle | constitution",
           18
          ],
          [
           43,
           "49 | première | milliards | textes | plus",
           18
          ],
          [
           44,
           "ordonnance | numérique | anssi | loi | code",
           17
          ],
          [
           45,
           "arménie | arménien | azerbaïdjan | karabakh | arméniens",
           16
          ],
          [
           46,
           "algérie | algériens | octobre | 1961 | victimes",
           16
          ],
          [
           47,
           "femmes | retraites | retraités | pensions | retraite",
           15
          ],
          [
           48,
           "laïcité | jour | présidente | teuira | aujourd",
           15
          ],
          [
           49,
           "afrique | africains | pays | france | continent",
           15
          ],
          [
           50,
           "ivg | liberté | grossesse | droit | constitution",
           14
          ],
          [
           51,
           "jeune | nahel | thau | déchirure | émeutes",
           14
          ],
          [
           52,
           "femmes | droit | ivg | avortement | droits",
           14
          ],
          [
           53,
           "pouvoir | ve | démocratie | 49 | gouvernement",
           14
          ],
          [
           54,
           "combattants | anciens | nation | mémoire | blessés",
           14
          ],
          [
           55,
           "universalisme | extrêmes | républicain | haine | racisme",
           13
          ],
          [
           56,
           "femmes | hommes | fonction | publique | emplois",
           12
          ],
          [
           57,
           "mélenchon | rejet | préalable | motion | monsieur",
           12
          ],
          [
           58,
           "mots | républicains | préfectoral | confiance | appartenir",
           11
          ],
          [
           59,
           "jeux | sport | olympiques | paralympiques | événement",
           11
          ],
          [
           60,
           "élus | leurs | violence | agressions | violences",
           11
          ],
          [
           61,
           "tarifs | énergies | renouvelables | électricité | production",
           10
          ],
          [
           62,
           "chacun | travailler | travail | solidarité | doit",
           10
          ]
         ],
         "hovertemplate": "<b>Topic %{customdata[0]}</b><br>%{customdata[1]}<br>Size: %{customdata[2]}",
         "legendgroup": "",
         "marker": {
          "color": "#B0BEC5",
          "line": {
           "color": "DarkSlateGrey",
           "width": 2
          },
          "size": [
           369,
           239,
           142,
           125,
           96,
           94,
           73,
           69,
           62,
           61,
           52,
           49,
           48,
           47,
           45,
           43,
           42,
           40,
           36,
           35,
           34,
           34,
           32,
           32,
           31,
           29,
           28,
           27,
           25,
           24,
           24,
           23,
           23,
           23,
           22,
           22,
           22,
           21,
           20,
           20,
           19,
           18,
           18,
           18,
           17,
           16,
           16,
           15,
           15,
           15,
           14,
           14,
           14,
           14,
           14,
           13,
           12,
           12,
           11,
           11,
           11,
           10,
           10
          ],
          "sizemode": "area",
          "sizeref": 0.230625,
          "symbol": "circle"
         },
         "mode": "markers",
         "name": "",
         "orientation": "v",
         "showlegend": false,
         "type": "scatter",
         "x": [
          -14.669322,
          -5.785359,
          2.1736603,
          2.1296222,
          -14.763393,
          4.5435996,
          11.380528,
          -14.387776,
          24.432594,
          2.0255744,
          3.7025065,
          -13.830424,
          -5.4263067,
          -4.9701543,
          8.969165,
          -14.91394,
          3.1497915,
          5.6903296,
          -5.2126718,
          1.0319096,
          -14.014181,
          11.522381,
          11.510272,
          -4.9387407,
          -1.181897,
          9.299908,
          4.6629496,
          2.2379277,
          -13.745388,
          -5.51224,
          9.015843,
          1.774484,
          9.48351,
          24.425798,
          9.091808,
          18.453796,
          2.095025,
          9.613233,
          3.2677717,
          -5.5605474,
          0.9007223,
          1.8471903,
          -5.5212164,
          -1.3723699,
          -5.9582944,
          18.453798,
          4.1169977,
          -5.641573,
          -1.2703865,
          4.090057,
          -5.048007,
          5.464458,
          -5.042007,
          4.6240454,
          5.7024584,
          0.92394775,
          -15.078549,
          3.3220348,
          24.52447,
          4.2906194,
          5.394247,
          -14.621287,
          -14.676707
         ],
         "xaxis": "x",
         "y": [
          -0.7161161,
          5.01138,
          2.9042737,
          3.2869973,
          4.51672,
          13.557848,
          4.5158553,
          4.4341855,
          8.754803,
          3.175357,
          3.261524,
          4.6403475,
          5.309399,
          4.8951573,
          19.0966,
          -0.47123834,
          3.0545285,
          8.301387,
          5.09129,
          -4.001379,
          4.541653,
          4.6544456,
          4.642396,
          4.859951,
          8.587646,
          7.2314644,
          13.438213,
          2.7964594,
          4.711069,
          -1.123023,
          19.143423,
          2.3172991,
          7.0482583,
          8.748024,
          7.438483,
          6.47037,
          2.9214244,
          6.917504,
          3.0398252,
          5.4330015,
          -3.8711808,
          2.4077303,
          -1.1138316,
          8.777774,
          5.0975223,
          6.4703717,
          3.4484804,
          -0.9932297,
          8.675947,
          3.3557982,
          5.588084,
          8.524263,
          5.766695,
          13.477344,
          8.28982,
          -3.8924105,
          -0.30486342,
          3.250072,
          8.84679,
          3.222929,
          8.593159,
          4.3946433,
          -0.7091419
         ],
         "yaxis": "y"
        }
       ],
       "layout": {
        "annotations": [
         {
          "showarrow": false,
          "text": "D1",
          "x": -17.34033179283142,
          "y": 8.706675338745118,
          "yshift": 10
         },
         {
          "showarrow": false,
          "text": "D2",
          "x": 5.431403994560242,
          "xshift": 10,
          "y": 22.014936542510988
         }
        ],
        "height": 650,
        "hoverlabel": {
         "bgcolor": "white",
         "font": {
          "family": "Rockwell",
          "size": 16
         }
        },
        "legend": {
         "itemsizing": "constant",
         "tracegroupgap": 0
        },
        "margin": {
         "t": 60
        },
        "shapes": [
         {
          "line": {
           "color": "#CFD8DC",
           "width": 2
          },
          "type": "line",
          "x0": 5.431403994560242,
          "x1": 5.431403994560242,
          "y0": -4.601585865020752,
          "y1": 22.014936542510988
         },
         {
          "line": {
           "color": "#9E9E9E",
           "width": 2
          },
          "type": "line",
          "x0": -17.34033179283142,
          "x1": 28.203139781951904,
          "y0": 8.706675338745118,
          "y1": 8.706675338745118
         }
        ],
        "sliders": [
         {
          "active": 0,
          "pad": {
           "t": 50
          },
          "steps": [
           {
            "args": [
             {
              "marker.color": [
               [
                "red",
                "#B0BEC5",
                "#B0BEC5",
                "#B0BEC5",
                "#B0BEC5",
                "#B0BEC5",
                "#B0BEC5",
                "#B0BEC5",
                "#B0BEC5",
                "#B0BEC5",
                "#B0BEC5",
                "#B0BEC5",
                "#B0BEC5",
                "#B0BEC5",
                "#B0BEC5",
                "#B0BEC5",
                "#B0BEC5",
                "#B0BEC5",
                "#B0BEC5",
                "#B0BEC5",
                "#B0BEC5",
                "#B0BEC5",
                "#B0BEC5",
                "#B0BEC5",
                "#B0BEC5",
                "#B0BEC5",
                "#B0BEC5",
                "#B0BEC5",
                "#B0BEC5",
                "#B0BEC5",
                "#B0BEC5",
                "#B0BEC5",
                "#B0BEC5",
                "#B0BEC5",
                "#B0BEC5",
                "#B0BEC5",
                "#B0BEC5",
                "#B0BEC5",
                "#B0BEC5",
                "#B0BEC5",
                "#B0BEC5",
                "#B0BEC5",
                "#B0BEC5",
                "#B0BEC5",
                "#B0BEC5",
                "#B0BEC5",
                "#B0BEC5",
                "#B0BEC5",
                "#B0BEC5",
                "#B0BEC5",
                "#B0BEC5",
                "#B0BEC5",
                "#B0BEC5",
                "#B0BEC5",
                "#B0BEC5",
                "#B0BEC5",
                "#B0BEC5",
                "#B0BEC5",
                "#B0BEC5",
                "#B0BEC5",
                "#B0BEC5",
                "#B0BEC5",
                "#B0BEC5"
               ]
              ]
             }
            ],
            "label": "Topic 0",
            "method": "update"
           },
           {
            "args": [
             {
              "marker.color": [
               [
                "#B0BEC5",
                "red",
                "#B0BEC5",
                "#B0BEC5",
                "#B0BEC5",
                "#B0BEC5",
                "#B0BEC5",
                "#B0BEC5",
                "#B0BEC5",
                "#B0BEC5",
                "#B0BEC5",
                "#B0BEC5",
                "#B0BEC5",
                "#B0BEC5",
                "#B0BEC5",
                "#B0BEC5",
                "#B0BEC5",
                "#B0BEC5",
                "#B0BEC5",
                "#B0BEC5",
                "#B0BEC5",
                "#B0BEC5",
                "#B0BEC5",
                "#B0BEC5",
                "#B0BEC5",
                "#B0BEC5",
                "#B0BEC5",
                "#B0BEC5",
                "#B0BEC5",
                "#B0BEC5",
                "#B0BEC5",
                "#B0BEC5",
                "#B0BEC5",
                "#B0BEC5",
                "#B0BEC5",
                "#B0BEC5",
                "#B0BEC5",
                "#B0BEC5",
                "#B0BEC5",
                "#B0BEC5",
                "#B0BEC5",
                "#B0BEC5",
                "#B0BEC5",
                "#B0BEC5",
                "#B0BEC5",
                "#B0BEC5",
                "#B0BEC5",
                "#B0BEC5",
                "#B0BEC5",
                "#B0BEC5",
                "#B0BEC5",
                "#B0BEC5",
                "#B0BEC5",
                "#B0BEC5",
                "#B0BEC5",
                "#B0BEC5",
                "#B0BEC5",
                "#B0BEC5",
                "#B0BEC5",
                "#B0BEC5",
                "#B0BEC5",
                "#B0BEC5",
                "#B0BEC5"
               ]
              ]
             }
            ],
            "label": "Topic 1",
            "method": "update"
           },
           {
            "args": [
             {
              "marker.color": [
               [
                "#B0BEC5",
                "#B0BEC5",
                "red",
                "#B0BEC5",
                "#B0BEC5",
                "#B0BEC5",
                "#B0BEC5",
                "#B0BEC5",
                "#B0BEC5",
                "#B0BEC5",
                "#B0BEC5",
                "#B0BEC5",
                "#B0BEC5",
                "#B0BEC5",
                "#B0BEC5",
                "#B0BEC5",
                "#B0BEC5",
                "#B0BEC5",
                "#B0BEC5",
                "#B0BEC5",
                "#B0BEC5",
                "#B0BEC5",
                "#B0BEC5",
                "#B0BEC5",
                "#B0BEC5",
                "#B0BEC5",
                "#B0BEC5",
                "#B0BEC5",
                "#B0BEC5",
                "#B0BEC5",
                "#B0BEC5",
                "#B0BEC5",
                "#B0BEC5",
                "#B0BEC5",
                "#B0BEC5",
                "#B0BEC5",
                "#B0BEC5",
                "#B0BEC5",
                "#B0BEC5",
                "#B0BEC5",
                "#B0BEC5",
                "#B0BEC5",
                "#B0BEC5",
                "#B0BEC5",
                "#B0BEC5",
                "#B0BEC5",
                "#B0BEC5",
                "#B0BEC5",
                "#B0BEC5",
                "#B0BEC5",
                "#B0BEC5",
                "#B0BEC5",
                "#B0BEC5",
                "#B0BEC5",
                "#B0BEC5",
                "#B0BEC5",
                "#B0BEC5",
                "#B0BEC5",
                "#B0BEC5",
                "#B0BEC5",
                "#B0BEC5",
                "#B0BEC5",
                "#B0BEC5"
               ]
              ]
             }
            ],
            "label": "Topic 2",
            "method": "update"
           },
           {
            "args": [
             {
              "marker.color": [
               [
                "#B0BEC5",
                "#B0BEC5",
                "#B0BEC5",
                "red",
                "#B0BEC5",
                "#B0BEC5",
                "#B0BEC5",
                "#B0BEC5",
                "#B0BEC5",
                "#B0BEC5",
                "#B0BEC5",
                "#B0BEC5",
                "#B0BEC5",
                "#B0BEC5",
                "#B0BEC5",
                "#B0BEC5",
                "#B0BEC5",
                "#B0BEC5",
                "#B0BEC5",
                "#B0BEC5",
                "#B0BEC5",
                "#B0BEC5",
                "#B0BEC5",
                "#B0BEC5",
                "#B0BEC5",
                "#B0BEC5",
                "#B0BEC5",
                "#B0BEC5",
                "#B0BEC5",
                "#B0BEC5",
                "#B0BEC5",
                "#B0BEC5",
                "#B0BEC5",
                "#B0BEC5",
                "#B0BEC5",
                "#B0BEC5",
                "#B0BEC5",
                "#B0BEC5",
                "#B0BEC5",
                "#B0BEC5",
                "#B0BEC5",
                "#B0BEC5",
                "#B0BEC5",
                "#B0BEC5",
                "#B0BEC5",
                "#B0BEC5",
                "#B0BEC5",
                "#B0BEC5",
                "#B0BEC5",
                "#B0BEC5",
                "#B0BEC5",
                "#B0BEC5",
                "#B0BEC5",
                "#B0BEC5",
                "#B0BEC5",
                "#B0BEC5",
                "#B0BEC5",
                "#B0BEC5",
                "#B0BEC5",
                "#B0BEC5",
                "#B0BEC5",
                "#B0BEC5",
                "#B0BEC5"
               ]
              ]
             }
            ],
            "label": "Topic 3",
            "method": "update"
           },
           {
            "args": [
             {
              "marker.color": [
               [
                "#B0BEC5",
                "#B0BEC5",
                "#B0BEC5",
                "#B0BEC5",
                "red",
                "#B0BEC5",
                "#B0BEC5",
                "#B0BEC5",
                "#B0BEC5",
                "#B0BEC5",
                "#B0BEC5",
                "#B0BEC5",
                "#B0BEC5",
                "#B0BEC5",
                "#B0BEC5",
                "#B0BEC5",
                "#B0BEC5",
                "#B0BEC5",
                "#B0BEC5",
                "#B0BEC5",
                "#B0BEC5",
                "#B0BEC5",
                "#B0BEC5",
                "#B0BEC5",
                "#B0BEC5",
                "#B0BEC5",
                "#B0BEC5",
                "#B0BEC5",
                "#B0BEC5",
                "#B0BEC5",
                "#B0BEC5",
                "#B0BEC5",
                "#B0BEC5",
                "#B0BEC5",
                "#B0BEC5",
                "#B0BEC5",
                "#B0BEC5",
                "#B0BEC5",
                "#B0BEC5",
                "#B0BEC5",
                "#B0BEC5",
                "#B0BEC5",
                "#B0BEC5",
                "#B0BEC5",
                "#B0BEC5",
                "#B0BEC5",
                "#B0BEC5",
                "#B0BEC5",
                "#B0BEC5",
                "#B0BEC5",
                "#B0BEC5",
                "#B0BEC5",
                "#B0BEC5",
                "#B0BEC5",
                "#B0BEC5",
                "#B0BEC5",
                "#B0BEC5",
                "#B0BEC5",
                "#B0BEC5",
                "#B0BEC5",
                "#B0BEC5",
                "#B0BEC5",
                "#B0BEC5"
               ]
              ]
             }
            ],
            "label": "Topic 4",
            "method": "update"
           },
           {
            "args": [
             {
              "marker.color": [
               [
                "#B0BEC5",
                "#B0BEC5",
                "#B0BEC5",
                "#B0BEC5",
                "#B0BEC5",
                "red",
                "#B0BEC5",
                "#B0BEC5",
                "#B0BEC5",
                "#B0BEC5",
                "#B0BEC5",
                "#B0BEC5",
                "#B0BEC5",
                "#B0BEC5",
                "#B0BEC5",
                "#B0BEC5",
                "#B0BEC5",
                "#B0BEC5",
                "#B0BEC5",
                "#B0BEC5",
                "#B0BEC5",
                "#B0BEC5",
                "#B0BEC5",
                "#B0BEC5",
                "#B0BEC5",
                "#B0BEC5",
                "#B0BEC5",
                "#B0BEC5",
                "#B0BEC5",
                "#B0BEC5",
                "#B0BEC5",
                "#B0BEC5",
                "#B0BEC5",
                "#B0BEC5",
                "#B0BEC5",
                "#B0BEC5",
                "#B0BEC5",
                "#B0BEC5",
                "#B0BEC5",
                "#B0BEC5",
                "#B0BEC5",
                "#B0BEC5",
                "#B0BEC5",
                "#B0BEC5",
                "#B0BEC5",
                "#B0BEC5",
                "#B0BEC5",
                "#B0BEC5",
                "#B0BEC5",
                "#B0BEC5",
                "#B0BEC5",
                "#B0BEC5",
                "#B0BEC5",
                "#B0BEC5",
                "#B0BEC5",
                "#B0BEC5",
                "#B0BEC5",
                "#B0BEC5",
                "#B0BEC5",
                "#B0BEC5",
                "#B0BEC5",
                "#B0BEC5",
                "#B0BEC5"
               ]
              ]
             }
            ],
            "label": "Topic 5",
            "method": "update"
           },
           {
            "args": [
             {
              "marker.color": [
               [
                "#B0BEC5",
                "#B0BEC5",
                "#B0BEC5",
                "#B0BEC5",
                "#B0BEC5",
                "#B0BEC5",
                "red",
                "#B0BEC5",
                "#B0BEC5",
                "#B0BEC5",
                "#B0BEC5",
                "#B0BEC5",
                "#B0BEC5",
                "#B0BEC5",
                "#B0BEC5",
                "#B0BEC5",
                "#B0BEC5",
                "#B0BEC5",
                "#B0BEC5",
                "#B0BEC5",
                "#B0BEC5",
                "#B0BEC5",
                "#B0BEC5",
                "#B0BEC5",
                "#B0BEC5",
                "#B0BEC5",
                "#B0BEC5",
                "#B0BEC5",
                "#B0BEC5",
                "#B0BEC5",
                "#B0BEC5",
                "#B0BEC5",
                "#B0BEC5",
                "#B0BEC5",
                "#B0BEC5",
                "#B0BEC5",
                "#B0BEC5",
                "#B0BEC5",
                "#B0BEC5",
                "#B0BEC5",
                "#B0BEC5",
                "#B0BEC5",
                "#B0BEC5",
                "#B0BEC5",
                "#B0BEC5",
                "#B0BEC5",
                "#B0BEC5",
                "#B0BEC5",
                "#B0BEC5",
                "#B0BEC5",
                "#B0BEC5",
                "#B0BEC5",
                "#B0BEC5",
                "#B0BEC5",
                "#B0BEC5",
                "#B0BEC5",
                "#B0BEC5",
                "#B0BEC5",
                "#B0BEC5",
                "#B0BEC5",
                "#B0BEC5",
                "#B0BEC5",
                "#B0BEC5"
               ]
              ]
             }
            ],
            "label": "Topic 6",
            "method": "update"
           },
           {
            "args": [
             {
              "marker.color": [
               [
                "#B0BEC5",
                "#B0BEC5",
                "#B0BEC5",
                "#B0BEC5",
                "#B0BEC5",
                "#B0BEC5",
                "#B0BEC5",
                "red",
                "#B0BEC5",
                "#B0BEC5",
                "#B0BEC5",
                "#B0BEC5",
                "#B0BEC5",
                "#B0BEC5",
                "#B0BEC5",
                "#B0BEC5",
                "#B0BEC5",
                "#B0BEC5",
                "#B0BEC5",
                "#B0BEC5",
                "#B0BEC5",
                "#B0BEC5",
                "#B0BEC5",
                "#B0BEC5",
                "#B0BEC5",
                "#B0BEC5",
                "#B0BEC5",
                "#B0BEC5",
                "#B0BEC5",
                "#B0BEC5",
                "#B0BEC5",
                "#B0BEC5",
                "#B0BEC5",
                "#B0BEC5",
                "#B0BEC5",
                "#B0BEC5",
                "#B0BEC5",
                "#B0BEC5",
                "#B0BEC5",
                "#B0BEC5",
                "#B0BEC5",
                "#B0BEC5",
                "#B0BEC5",
                "#B0BEC5",
                "#B0BEC5",
                "#B0BEC5",
                "#B0BEC5",
                "#B0BEC5",
                "#B0BEC5",
                "#B0BEC5",
                "#B0BEC5",
                "#B0BEC5",
                "#B0BEC5",
                "#B0BEC5",
                "#B0BEC5",
                "#B0BEC5",
                "#B0BEC5",
                "#B0BEC5",
                "#B0BEC5",
                "#B0BEC5",
                "#B0BEC5",
                "#B0BEC5",
                "#B0BEC5"
               ]
              ]
             }
            ],
            "label": "Topic 7",
            "method": "update"
           },
           {
            "args": [
             {
              "marker.color": [
               [
                "#B0BEC5",
                "#B0BEC5",
                "#B0BEC5",
                "#B0BEC5",
                "#B0BEC5",
                "#B0BEC5",
                "#B0BEC5",
                "#B0BEC5",
                "red",
                "#B0BEC5",
                "#B0BEC5",
                "#B0BEC5",
                "#B0BEC5",
                "#B0BEC5",
                "#B0BEC5",
                "#B0BEC5",
                "#B0BEC5",
                "#B0BEC5",
                "#B0BEC5",
                "#B0BEC5",
                "#B0BEC5",
                "#B0BEC5",
                "#B0BEC5",
                "#B0BEC5",
                "#B0BEC5",
                "#B0BEC5",
                "#B0BEC5",
                "#B0BEC5",
                "#B0BEC5",
                "#B0BEC5",
                "#B0BEC5",
                "#B0BEC5",
                "#B0BEC5",
                "#B0BEC5",
                "#B0BEC5",
                "#B0BEC5",
                "#B0BEC5",
                "#B0BEC5",
                "#B0BEC5",
                "#B0BEC5",
                "#B0BEC5",
                "#B0BEC5",
                "#B0BEC5",
                "#B0BEC5",
                "#B0BEC5",
                "#B0BEC5",
                "#B0BEC5",
                "#B0BEC5",
                "#B0BEC5",
                "#B0BEC5",
                "#B0BEC5",
                "#B0BEC5",
                "#B0BEC5",
                "#B0BEC5",
                "#B0BEC5",
                "#B0BEC5",
                "#B0BEC5",
                "#B0BEC5",
                "#B0BEC5",
                "#B0BEC5",
                "#B0BEC5",
                "#B0BEC5",
                "#B0BEC5"
               ]
              ]
             }
            ],
            "label": "Topic 8",
            "method": "update"
           },
           {
            "args": [
             {
              "marker.color": [
               [
                "#B0BEC5",
                "#B0BEC5",
                "#B0BEC5",
                "#B0BEC5",
                "#B0BEC5",
                "#B0BEC5",
                "#B0BEC5",
                "#B0BEC5",
                "#B0BEC5",
                "red",
                "#B0BEC5",
                "#B0BEC5",
                "#B0BEC5",
                "#B0BEC5",
                "#B0BEC5",
                "#B0BEC5",
                "#B0BEC5",
                "#B0BEC5",
                "#B0BEC5",
                "#B0BEC5",
                "#B0BEC5",
                "#B0BEC5",
                "#B0BEC5",
                "#B0BEC5",
                "#B0BEC5",
                "#B0BEC5",
                "#B0BEC5",
                "#B0BEC5",
                "#B0BEC5",
                "#B0BEC5",
                "#B0BEC5",
                "#B0BEC5",
                "#B0BEC5",
                "#B0BEC5",
                "#B0BEC5",
                "#B0BEC5",
                "#B0BEC5",
                "#B0BEC5",
                "#B0BEC5",
                "#B0BEC5",
                "#B0BEC5",
                "#B0BEC5",
                "#B0BEC5",
                "#B0BEC5",
                "#B0BEC5",
                "#B0BEC5",
                "#B0BEC5",
                "#B0BEC5",
                "#B0BEC5",
                "#B0BEC5",
                "#B0BEC5",
                "#B0BEC5",
                "#B0BEC5",
                "#B0BEC5",
                "#B0BEC5",
                "#B0BEC5",
                "#B0BEC5",
                "#B0BEC5",
                "#B0BEC5",
                "#B0BEC5",
                "#B0BEC5",
                "#B0BEC5",
                "#B0BEC5"
               ]
              ]
             }
            ],
            "label": "Topic 9",
            "method": "update"
           },
           {
            "args": [
             {
              "marker.color": [
               [
                "#B0BEC5",
                "#B0BEC5",
                "#B0BEC5",
                "#B0BEC5",
                "#B0BEC5",
                "#B0BEC5",
                "#B0BEC5",
                "#B0BEC5",
                "#B0BEC5",
                "#B0BEC5",
                "red",
                "#B0BEC5",
                "#B0BEC5",
                "#B0BEC5",
                "#B0BEC5",
                "#B0BEC5",
                "#B0BEC5",
                "#B0BEC5",
                "#B0BEC5",
                "#B0BEC5",
                "#B0BEC5",
                "#B0BEC5",
                "#B0BEC5",
                "#B0BEC5",
                "#B0BEC5",
                "#B0BEC5",
                "#B0BEC5",
                "#B0BEC5",
                "#B0BEC5",
                "#B0BEC5",
                "#B0BEC5",
                "#B0BEC5",
                "#B0BEC5",
                "#B0BEC5",
                "#B0BEC5",
                "#B0BEC5",
                "#B0BEC5",
                "#B0BEC5",
                "#B0BEC5",
                "#B0BEC5",
                "#B0BEC5",
                "#B0BEC5",
                "#B0BEC5",
                "#B0BEC5",
                "#B0BEC5",
                "#B0BEC5",
                "#B0BEC5",
                "#B0BEC5",
                "#B0BEC5",
                "#B0BEC5",
                "#B0BEC5",
                "#B0BEC5",
                "#B0BEC5",
                "#B0BEC5",
                "#B0BEC5",
                "#B0BEC5",
                "#B0BEC5",
                "#B0BEC5",
                "#B0BEC5",
                "#B0BEC5",
                "#B0BEC5",
                "#B0BEC5",
                "#B0BEC5"
               ]
              ]
             }
            ],
            "label": "Topic 10",
            "method": "update"
           },
           {
            "args": [
             {
              "marker.color": [
               [
                "#B0BEC5",
                "#B0BEC5",
                "#B0BEC5",
                "#B0BEC5",
                "#B0BEC5",
                "#B0BEC5",
                "#B0BEC5",
                "#B0BEC5",
                "#B0BEC5",
                "#B0BEC5",
                "#B0BEC5",
                "red",
                "#B0BEC5",
                "#B0BEC5",
                "#B0BEC5",
                "#B0BEC5",
                "#B0BEC5",
                "#B0BEC5",
                "#B0BEC5",
                "#B0BEC5",
                "#B0BEC5",
                "#B0BEC5",
                "#B0BEC5",
                "#B0BEC5",
                "#B0BEC5",
                "#B0BEC5",
                "#B0BEC5",
                "#B0BEC5",
                "#B0BEC5",
                "#B0BEC5",
                "#B0BEC5",
                "#B0BEC5",
                "#B0BEC5",
                "#B0BEC5",
                "#B0BEC5",
                "#B0BEC5",
                "#B0BEC5",
                "#B0BEC5",
                "#B0BEC5",
                "#B0BEC5",
                "#B0BEC5",
                "#B0BEC5",
                "#B0BEC5",
                "#B0BEC5",
                "#B0BEC5",
                "#B0BEC5",
                "#B0BEC5",
                "#B0BEC5",
                "#B0BEC5",
                "#B0BEC5",
                "#B0BEC5",
                "#B0BEC5",
                "#B0BEC5",
                "#B0BEC5",
                "#B0BEC5",
                "#B0BEC5",
                "#B0BEC5",
                "#B0BEC5",
                "#B0BEC5",
                "#B0BEC5",
                "#B0BEC5",
                "#B0BEC5",
                "#B0BEC5"
               ]
              ]
             }
            ],
            "label": "Topic 11",
            "method": "update"
           },
           {
            "args": [
             {
              "marker.color": [
               [
                "#B0BEC5",
                "#B0BEC5",
                "#B0BEC5",
                "#B0BEC5",
                "#B0BEC5",
                "#B0BEC5",
                "#B0BEC5",
                "#B0BEC5",
                "#B0BEC5",
                "#B0BEC5",
                "#B0BEC5",
                "#B0BEC5",
                "red",
                "#B0BEC5",
                "#B0BEC5",
                "#B0BEC5",
                "#B0BEC5",
                "#B0BEC5",
                "#B0BEC5",
                "#B0BEC5",
                "#B0BEC5",
                "#B0BEC5",
                "#B0BEC5",
                "#B0BEC5",
                "#B0BEC5",
                "#B0BEC5",
                "#B0BEC5",
                "#B0BEC5",
                "#B0BEC5",
                "#B0BEC5",
                "#B0BEC5",
                "#B0BEC5",
                "#B0BEC5",
                "#B0BEC5",
                "#B0BEC5",
                "#B0BEC5",
                "#B0BEC5",
                "#B0BEC5",
                "#B0BEC5",
                "#B0BEC5",
                "#B0BEC5",
                "#B0BEC5",
                "#B0BEC5",
                "#B0BEC5",
                "#B0BEC5",
                "#B0BEC5",
                "#B0BEC5",
                "#B0BEC5",
                "#B0BEC5",
                "#B0BEC5",
                "#B0BEC5",
                "#B0BEC5",
                "#B0BEC5",
                "#B0BEC5",
                "#B0BEC5",
                "#B0BEC5",
                "#B0BEC5",
                "#B0BEC5",
                "#B0BEC5",
                "#B0BEC5",
                "#B0BEC5",
                "#B0BEC5",
                "#B0BEC5"
               ]
              ]
             }
            ],
            "label": "Topic 12",
            "method": "update"
           },
           {
            "args": [
             {
              "marker.color": [
               [
                "#B0BEC5",
                "#B0BEC5",
                "#B0BEC5",
                "#B0BEC5",
                "#B0BEC5",
                "#B0BEC5",
                "#B0BEC5",
                "#B0BEC5",
                "#B0BEC5",
                "#B0BEC5",
                "#B0BEC5",
                "#B0BEC5",
                "#B0BEC5",
                "red",
                "#B0BEC5",
                "#B0BEC5",
                "#B0BEC5",
                "#B0BEC5",
                "#B0BEC5",
                "#B0BEC5",
                "#B0BEC5",
                "#B0BEC5",
                "#B0BEC5",
                "#B0BEC5",
                "#B0BEC5",
                "#B0BEC5",
                "#B0BEC5",
                "#B0BEC5",
                "#B0BEC5",
                "#B0BEC5",
                "#B0BEC5",
                "#B0BEC5",
                "#B0BEC5",
                "#B0BEC5",
                "#B0BEC5",
                "#B0BEC5",
                "#B0BEC5",
                "#B0BEC5",
                "#B0BEC5",
                "#B0BEC5",
                "#B0BEC5",
                "#B0BEC5",
                "#B0BEC5",
                "#B0BEC5",
                "#B0BEC5",
                "#B0BEC5",
                "#B0BEC5",
                "#B0BEC5",
                "#B0BEC5",
                "#B0BEC5",
                "#B0BEC5",
                "#B0BEC5",
                "#B0BEC5",
                "#B0BEC5",
                "#B0BEC5",
                "#B0BEC5",
                "#B0BEC5",
                "#B0BEC5",
                "#B0BEC5",
                "#B0BEC5",
                "#B0BEC5",
                "#B0BEC5",
                "#B0BEC5"
               ]
              ]
             }
            ],
            "label": "Topic 13",
            "method": "update"
           },
           {
            "args": [
             {
              "marker.color": [
               [
                "#B0BEC5",
                "#B0BEC5",
                "#B0BEC5",
                "#B0BEC5",
                "#B0BEC5",
                "#B0BEC5",
                "#B0BEC5",
                "#B0BEC5",
                "#B0BEC5",
                "#B0BEC5",
                "#B0BEC5",
                "#B0BEC5",
                "#B0BEC5",
                "#B0BEC5",
                "red",
                "#B0BEC5",
                "#B0BEC5",
                "#B0BEC5",
                "#B0BEC5",
                "#B0BEC5",
                "#B0BEC5",
                "#B0BEC5",
                "#B0BEC5",
                "#B0BEC5",
                "#B0BEC5",
                "#B0BEC5",
                "#B0BEC5",
                "#B0BEC5",
                "#B0BEC5",
                "#B0BEC5",
                "#B0BEC5",
                "#B0BEC5",
                "#B0BEC5",
                "#B0BEC5",
                "#B0BEC5",
                "#B0BEC5",
                "#B0BEC5",
                "#B0BEC5",
                "#B0BEC5",
                "#B0BEC5",
                "#B0BEC5",
                "#B0BEC5",
                "#B0BEC5",
                "#B0BEC5",
                "#B0BEC5",
                "#B0BEC5",
                "#B0BEC5",
                "#B0BEC5",
                "#B0BEC5",
                "#B0BEC5",
                "#B0BEC5",
                "#B0BEC5",
                "#B0BEC5",
                "#B0BEC5",
                "#B0BEC5",
                "#B0BEC5",
                "#B0BEC5",
                "#B0BEC5",
                "#B0BEC5",
                "#B0BEC5",
                "#B0BEC5",
                "#B0BEC5",
                "#B0BEC5"
               ]
              ]
             }
            ],
            "label": "Topic 14",
            "method": "update"
           },
           {
            "args": [
             {
              "marker.color": [
               [
                "#B0BEC5",
                "#B0BEC5",
                "#B0BEC5",
                "#B0BEC5",
                "#B0BEC5",
                "#B0BEC5",
                "#B0BEC5",
                "#B0BEC5",
                "#B0BEC5",
                "#B0BEC5",
                "#B0BEC5",
                "#B0BEC5",
                "#B0BEC5",
                "#B0BEC5",
                "#B0BEC5",
                "red",
                "#B0BEC5",
                "#B0BEC5",
                "#B0BEC5",
                "#B0BEC5",
                "#B0BEC5",
                "#B0BEC5",
                "#B0BEC5",
                "#B0BEC5",
                "#B0BEC5",
                "#B0BEC5",
                "#B0BEC5",
                "#B0BEC5",
                "#B0BEC5",
                "#B0BEC5",
                "#B0BEC5",
                "#B0BEC5",
                "#B0BEC5",
                "#B0BEC5",
                "#B0BEC5",
                "#B0BEC5",
                "#B0BEC5",
                "#B0BEC5",
                "#B0BEC5",
                "#B0BEC5",
                "#B0BEC5",
                "#B0BEC5",
                "#B0BEC5",
                "#B0BEC5",
                "#B0BEC5",
                "#B0BEC5",
                "#B0BEC5",
                "#B0BEC5",
                "#B0BEC5",
                "#B0BEC5",
                "#B0BEC5",
                "#B0BEC5",
                "#B0BEC5",
                "#B0BEC5",
                "#B0BEC5",
                "#B0BEC5",
                "#B0BEC5",
                "#B0BEC5",
                "#B0BEC5",
                "#B0BEC5",
                "#B0BEC5",
                "#B0BEC5",
                "#B0BEC5"
               ]
              ]
             }
            ],
            "label": "Topic 15",
            "method": "update"
           },
           {
            "args": [
             {
              "marker.color": [
               [
                "#B0BEC5",
                "#B0BEC5",
                "#B0BEC5",
                "#B0BEC5",
                "#B0BEC5",
                "#B0BEC5",
                "#B0BEC5",
                "#B0BEC5",
                "#B0BEC5",
                "#B0BEC5",
                "#B0BEC5",
                "#B0BEC5",
                "#B0BEC5",
                "#B0BEC5",
                "#B0BEC5",
                "#B0BEC5",
                "red",
                "#B0BEC5",
                "#B0BEC5",
                "#B0BEC5",
                "#B0BEC5",
                "#B0BEC5",
                "#B0BEC5",
                "#B0BEC5",
                "#B0BEC5",
                "#B0BEC5",
                "#B0BEC5",
                "#B0BEC5",
                "#B0BEC5",
                "#B0BEC5",
                "#B0BEC5",
                "#B0BEC5",
                "#B0BEC5",
                "#B0BEC5",
                "#B0BEC5",
                "#B0BEC5",
                "#B0BEC5",
                "#B0BEC5",
                "#B0BEC5",
                "#B0BEC5",
                "#B0BEC5",
                "#B0BEC5",
                "#B0BEC5",
                "#B0BEC5",
                "#B0BEC5",
                "#B0BEC5",
                "#B0BEC5",
                "#B0BEC5",
                "#B0BEC5",
                "#B0BEC5",
                "#B0BEC5",
                "#B0BEC5",
                "#B0BEC5",
                "#B0BEC5",
                "#B0BEC5",
                "#B0BEC5",
                "#B0BEC5",
                "#B0BEC5",
                "#B0BEC5",
                "#B0BEC5",
                "#B0BEC5",
                "#B0BEC5",
                "#B0BEC5"
               ]
              ]
             }
            ],
            "label": "Topic 16",
            "method": "update"
           },
           {
            "args": [
             {
              "marker.color": [
               [
                "#B0BEC5",
                "#B0BEC5",
                "#B0BEC5",
                "#B0BEC5",
                "#B0BEC5",
                "#B0BEC5",
                "#B0BEC5",
                "#B0BEC5",
                "#B0BEC5",
                "#B0BEC5",
                "#B0BEC5",
                "#B0BEC5",
                "#B0BEC5",
                "#B0BEC5",
                "#B0BEC5",
                "#B0BEC5",
                "#B0BEC5",
                "red",
                "#B0BEC5",
                "#B0BEC5",
                "#B0BEC5",
                "#B0BEC5",
                "#B0BEC5",
                "#B0BEC5",
                "#B0BEC5",
                "#B0BEC5",
                "#B0BEC5",
                "#B0BEC5",
                "#B0BEC5",
                "#B0BEC5",
                "#B0BEC5",
                "#B0BEC5",
                "#B0BEC5",
                "#B0BEC5",
                "#B0BEC5",
                "#B0BEC5",
                "#B0BEC5",
                "#B0BEC5",
                "#B0BEC5",
                "#B0BEC5",
                "#B0BEC5",
                "#B0BEC5",
                "#B0BEC5",
                "#B0BEC5",
                "#B0BEC5",
                "#B0BEC5",
                "#B0BEC5",
                "#B0BEC5",
                "#B0BEC5",
                "#B0BEC5",
                "#B0BEC5",
                "#B0BEC5",
                "#B0BEC5",
                "#B0BEC5",
                "#B0BEC5",
                "#B0BEC5",
                "#B0BEC5",
                "#B0BEC5",
                "#B0BEC5",
                "#B0BEC5",
                "#B0BEC5",
                "#B0BEC5",
                "#B0BEC5"
               ]
              ]
             }
            ],
            "label": "Topic 17",
            "method": "update"
           },
           {
            "args": [
             {
              "marker.color": [
               [
                "#B0BEC5",
                "#B0BEC5",
                "#B0BEC5",
                "#B0BEC5",
                "#B0BEC5",
                "#B0BEC5",
                "#B0BEC5",
                "#B0BEC5",
                "#B0BEC5",
                "#B0BEC5",
                "#B0BEC5",
                "#B0BEC5",
                "#B0BEC5",
                "#B0BEC5",
                "#B0BEC5",
                "#B0BEC5",
                "#B0BEC5",
                "#B0BEC5",
                "red",
                "#B0BEC5",
                "#B0BEC5",
                "#B0BEC5",
                "#B0BEC5",
                "#B0BEC5",
                "#B0BEC5",
                "#B0BEC5",
                "#B0BEC5",
                "#B0BEC5",
                "#B0BEC5",
                "#B0BEC5",
                "#B0BEC5",
                "#B0BEC5",
                "#B0BEC5",
                "#B0BEC5",
                "#B0BEC5",
                "#B0BEC5",
                "#B0BEC5",
                "#B0BEC5",
                "#B0BEC5",
                "#B0BEC5",
                "#B0BEC5",
                "#B0BEC5",
                "#B0BEC5",
                "#B0BEC5",
                "#B0BEC5",
                "#B0BEC5",
                "#B0BEC5",
                "#B0BEC5",
                "#B0BEC5",
                "#B0BEC5",
                "#B0BEC5",
                "#B0BEC5",
                "#B0BEC5",
                "#B0BEC5",
                "#B0BEC5",
                "#B0BEC5",
                "#B0BEC5",
                "#B0BEC5",
                "#B0BEC5",
                "#B0BEC5",
                "#B0BEC5",
                "#B0BEC5",
                "#B0BEC5"
               ]
              ]
             }
            ],
            "label": "Topic 18",
            "method": "update"
           },
           {
            "args": [
             {
              "marker.color": [
               [
                "#B0BEC5",
                "#B0BEC5",
                "#B0BEC5",
                "#B0BEC5",
                "#B0BEC5",
                "#B0BEC5",
                "#B0BEC5",
                "#B0BEC5",
                "#B0BEC5",
                "#B0BEC5",
                "#B0BEC5",
                "#B0BEC5",
                "#B0BEC5",
                "#B0BEC5",
                "#B0BEC5",
                "#B0BEC5",
                "#B0BEC5",
                "#B0BEC5",
                "#B0BEC5",
                "red",
                "#B0BEC5",
                "#B0BEC5",
                "#B0BEC5",
                "#B0BEC5",
                "#B0BEC5",
                "#B0BEC5",
                "#B0BEC5",
                "#B0BEC5",
                "#B0BEC5",
                "#B0BEC5",
                "#B0BEC5",
                "#B0BEC5",
                "#B0BEC5",
                "#B0BEC5",
                "#B0BEC5",
                "#B0BEC5",
                "#B0BEC5",
                "#B0BEC5",
                "#B0BEC5",
                "#B0BEC5",
                "#B0BEC5",
                "#B0BEC5",
                "#B0BEC5",
                "#B0BEC5",
                "#B0BEC5",
                "#B0BEC5",
                "#B0BEC5",
                "#B0BEC5",
                "#B0BEC5",
                "#B0BEC5",
                "#B0BEC5",
                "#B0BEC5",
                "#B0BEC5",
                "#B0BEC5",
                "#B0BEC5",
                "#B0BEC5",
                "#B0BEC5",
                "#B0BEC5",
                "#B0BEC5",
                "#B0BEC5",
                "#B0BEC5",
                "#B0BEC5",
                "#B0BEC5"
               ]
              ]
             }
            ],
            "label": "Topic 19",
            "method": "update"
           },
           {
            "args": [
             {
              "marker.color": [
               [
                "#B0BEC5",
                "#B0BEC5",
                "#B0BEC5",
                "#B0BEC5",
                "#B0BEC5",
                "#B0BEC5",
                "#B0BEC5",
                "#B0BEC5",
                "#B0BEC5",
                "#B0BEC5",
                "#B0BEC5",
                "#B0BEC5",
                "#B0BEC5",
                "#B0BEC5",
                "#B0BEC5",
                "#B0BEC5",
                "#B0BEC5",
                "#B0BEC5",
                "#B0BEC5",
                "#B0BEC5",
                "red",
                "#B0BEC5",
                "#B0BEC5",
                "#B0BEC5",
                "#B0BEC5",
                "#B0BEC5",
                "#B0BEC5",
                "#B0BEC5",
                "#B0BEC5",
                "#B0BEC5",
                "#B0BEC5",
                "#B0BEC5",
                "#B0BEC5",
                "#B0BEC5",
                "#B0BEC5",
                "#B0BEC5",
                "#B0BEC5",
                "#B0BEC5",
                "#B0BEC5",
                "#B0BEC5",
                "#B0BEC5",
                "#B0BEC5",
                "#B0BEC5",
                "#B0BEC5",
                "#B0BEC5",
                "#B0BEC5",
                "#B0BEC5",
                "#B0BEC5",
                "#B0BEC5",
                "#B0BEC5",
                "#B0BEC5",
                "#B0BEC5",
                "#B0BEC5",
                "#B0BEC5",
                "#B0BEC5",
                "#B0BEC5",
                "#B0BEC5",
                "#B0BEC5",
                "#B0BEC5",
                "#B0BEC5",
                "#B0BEC5",
                "#B0BEC5",
                "#B0BEC5"
               ]
              ]
             }
            ],
            "label": "Topic 20",
            "method": "update"
           },
           {
            "args": [
             {
              "marker.color": [
               [
                "#B0BEC5",
                "#B0BEC5",
                "#B0BEC5",
                "#B0BEC5",
                "#B0BEC5",
                "#B0BEC5",
                "#B0BEC5",
                "#B0BEC5",
                "#B0BEC5",
                "#B0BEC5",
                "#B0BEC5",
                "#B0BEC5",
                "#B0BEC5",
                "#B0BEC5",
                "#B0BEC5",
                "#B0BEC5",
                "#B0BEC5",
                "#B0BEC5",
                "#B0BEC5",
                "#B0BEC5",
                "#B0BEC5",
                "red",
                "#B0BEC5",
                "#B0BEC5",
                "#B0BEC5",
                "#B0BEC5",
                "#B0BEC5",
                "#B0BEC5",
                "#B0BEC5",
                "#B0BEC5",
                "#B0BEC5",
                "#B0BEC5",
                "#B0BEC5",
                "#B0BEC5",
                "#B0BEC5",
                "#B0BEC5",
                "#B0BEC5",
                "#B0BEC5",
                "#B0BEC5",
                "#B0BEC5",
                "#B0BEC5",
                "#B0BEC5",
                "#B0BEC5",
                "#B0BEC5",
                "#B0BEC5",
                "#B0BEC5",
                "#B0BEC5",
                "#B0BEC5",
                "#B0BEC5",
                "#B0BEC5",
                "#B0BEC5",
                "#B0BEC5",
                "#B0BEC5",
                "#B0BEC5",
                "#B0BEC5",
                "#B0BEC5",
                "#B0BEC5",
                "#B0BEC5",
                "#B0BEC5",
                "#B0BEC5",
                "#B0BEC5",
                "#B0BEC5",
                "#B0BEC5"
               ]
              ]
             }
            ],
            "label": "Topic 21",
            "method": "update"
           },
           {
            "args": [
             {
              "marker.color": [
               [
                "#B0BEC5",
                "#B0BEC5",
                "#B0BEC5",
                "#B0BEC5",
                "#B0BEC5",
                "#B0BEC5",
                "#B0BEC5",
                "#B0BEC5",
                "#B0BEC5",
                "#B0BEC5",
                "#B0BEC5",
                "#B0BEC5",
                "#B0BEC5",
                "#B0BEC5",
                "#B0BEC5",
                "#B0BEC5",
                "#B0BEC5",
                "#B0BEC5",
                "#B0BEC5",
                "#B0BEC5",
                "#B0BEC5",
                "#B0BEC5",
                "red",
                "#B0BEC5",
                "#B0BEC5",
                "#B0BEC5",
                "#B0BEC5",
                "#B0BEC5",
                "#B0BEC5",
                "#B0BEC5",
                "#B0BEC5",
                "#B0BEC5",
                "#B0BEC5",
                "#B0BEC5",
                "#B0BEC5",
                "#B0BEC5",
                "#B0BEC5",
                "#B0BEC5",
                "#B0BEC5",
                "#B0BEC5",
                "#B0BEC5",
                "#B0BEC5",
                "#B0BEC5",
                "#B0BEC5",
                "#B0BEC5",
                "#B0BEC5",
                "#B0BEC5",
                "#B0BEC5",
                "#B0BEC5",
                "#B0BEC5",
                "#B0BEC5",
                "#B0BEC5",
                "#B0BEC5",
                "#B0BEC5",
                "#B0BEC5",
                "#B0BEC5",
                "#B0BEC5",
                "#B0BEC5",
                "#B0BEC5",
                "#B0BEC5",
                "#B0BEC5",
                "#B0BEC5",
                "#B0BEC5"
               ]
              ]
             }
            ],
            "label": "Topic 22",
            "method": "update"
           },
           {
            "args": [
             {
              "marker.color": [
               [
                "#B0BEC5",
                "#B0BEC5",
                "#B0BEC5",
                "#B0BEC5",
                "#B0BEC5",
                "#B0BEC5",
                "#B0BEC5",
                "#B0BEC5",
                "#B0BEC5",
                "#B0BEC5",
                "#B0BEC5",
                "#B0BEC5",
                "#B0BEC5",
                "#B0BEC5",
                "#B0BEC5",
                "#B0BEC5",
                "#B0BEC5",
                "#B0BEC5",
                "#B0BEC5",
                "#B0BEC5",
                "#B0BEC5",
                "#B0BEC5",
                "#B0BEC5",
                "red",
                "#B0BEC5",
                "#B0BEC5",
                "#B0BEC5",
                "#B0BEC5",
                "#B0BEC5",
                "#B0BEC5",
                "#B0BEC5",
                "#B0BEC5",
                "#B0BEC5",
                "#B0BEC5",
                "#B0BEC5",
                "#B0BEC5",
                "#B0BEC5",
                "#B0BEC5",
                "#B0BEC5",
                "#B0BEC5",
                "#B0BEC5",
                "#B0BEC5",
                "#B0BEC5",
                "#B0BEC5",
                "#B0BEC5",
                "#B0BEC5",
                "#B0BEC5",
                "#B0BEC5",
                "#B0BEC5",
                "#B0BEC5",
                "#B0BEC5",
                "#B0BEC5",
                "#B0BEC5",
                "#B0BEC5",
                "#B0BEC5",
                "#B0BEC5",
                "#B0BEC5",
                "#B0BEC5",
                "#B0BEC5",
                "#B0BEC5",
                "#B0BEC5",
                "#B0BEC5",
                "#B0BEC5"
               ]
              ]
             }
            ],
            "label": "Topic 23",
            "method": "update"
           },
           {
            "args": [
             {
              "marker.color": [
               [
                "#B0BEC5",
                "#B0BEC5",
                "#B0BEC5",
                "#B0BEC5",
                "#B0BEC5",
                "#B0BEC5",
                "#B0BEC5",
                "#B0BEC5",
                "#B0BEC5",
                "#B0BEC5",
                "#B0BEC5",
                "#B0BEC5",
                "#B0BEC5",
                "#B0BEC5",
                "#B0BEC5",
                "#B0BEC5",
                "#B0BEC5",
                "#B0BEC5",
                "#B0BEC5",
                "#B0BEC5",
                "#B0BEC5",
                "#B0BEC5",
                "#B0BEC5",
                "#B0BEC5",
                "red",
                "#B0BEC5",
                "#B0BEC5",
                "#B0BEC5",
                "#B0BEC5",
                "#B0BEC5",
                "#B0BEC5",
                "#B0BEC5",
                "#B0BEC5",
                "#B0BEC5",
                "#B0BEC5",
                "#B0BEC5",
                "#B0BEC5",
                "#B0BEC5",
                "#B0BEC5",
                "#B0BEC5",
                "#B0BEC5",
                "#B0BEC5",
                "#B0BEC5",
                "#B0BEC5",
                "#B0BEC5",
                "#B0BEC5",
                "#B0BEC5",
                "#B0BEC5",
                "#B0BEC5",
                "#B0BEC5",
                "#B0BEC5",
                "#B0BEC5",
                "#B0BEC5",
                "#B0BEC5",
                "#B0BEC5",
                "#B0BEC5",
                "#B0BEC5",
                "#B0BEC5",
                "#B0BEC5",
                "#B0BEC5",
                "#B0BEC5",
                "#B0BEC5",
                "#B0BEC5"
               ]
              ]
             }
            ],
            "label": "Topic 24",
            "method": "update"
           },
           {
            "args": [
             {
              "marker.color": [
               [
                "#B0BEC5",
                "#B0BEC5",
                "#B0BEC5",
                "#B0BEC5",
                "#B0BEC5",
                "#B0BEC5",
                "#B0BEC5",
                "#B0BEC5",
                "#B0BEC5",
                "#B0BEC5",
                "#B0BEC5",
                "#B0BEC5",
                "#B0BEC5",
                "#B0BEC5",
                "#B0BEC5",
                "#B0BEC5",
                "#B0BEC5",
                "#B0BEC5",
                "#B0BEC5",
                "#B0BEC5",
                "#B0BEC5",
                "#B0BEC5",
                "#B0BEC5",
                "#B0BEC5",
                "#B0BEC5",
                "red",
                "#B0BEC5",
                "#B0BEC5",
                "#B0BEC5",
                "#B0BEC5",
                "#B0BEC5",
                "#B0BEC5",
                "#B0BEC5",
                "#B0BEC5",
                "#B0BEC5",
                "#B0BEC5",
                "#B0BEC5",
                "#B0BEC5",
                "#B0BEC5",
                "#B0BEC5",
                "#B0BEC5",
                "#B0BEC5",
                "#B0BEC5",
                "#B0BEC5",
                "#B0BEC5",
                "#B0BEC5",
                "#B0BEC5",
                "#B0BEC5",
                "#B0BEC5",
                "#B0BEC5",
                "#B0BEC5",
                "#B0BEC5",
                "#B0BEC5",
                "#B0BEC5",
                "#B0BEC5",
                "#B0BEC5",
                "#B0BEC5",
                "#B0BEC5",
                "#B0BEC5",
                "#B0BEC5",
                "#B0BEC5",
                "#B0BEC5",
                "#B0BEC5"
               ]
              ]
             }
            ],
            "label": "Topic 25",
            "method": "update"
           },
           {
            "args": [
             {
              "marker.color": [
               [
                "#B0BEC5",
                "#B0BEC5",
                "#B0BEC5",
                "#B0BEC5",
                "#B0BEC5",
                "#B0BEC5",
                "#B0BEC5",
                "#B0BEC5",
                "#B0BEC5",
                "#B0BEC5",
                "#B0BEC5",
                "#B0BEC5",
                "#B0BEC5",
                "#B0BEC5",
                "#B0BEC5",
                "#B0BEC5",
                "#B0BEC5",
                "#B0BEC5",
                "#B0BEC5",
                "#B0BEC5",
                "#B0BEC5",
                "#B0BEC5",
                "#B0BEC5",
                "#B0BEC5",
                "#B0BEC5",
                "#B0BEC5",
                "red",
                "#B0BEC5",
                "#B0BEC5",
                "#B0BEC5",
                "#B0BEC5",
                "#B0BEC5",
                "#B0BEC5",
                "#B0BEC5",
                "#B0BEC5",
                "#B0BEC5",
                "#B0BEC5",
                "#B0BEC5",
                "#B0BEC5",
                "#B0BEC5",
                "#B0BEC5",
                "#B0BEC5",
                "#B0BEC5",
                "#B0BEC5",
                "#B0BEC5",
                "#B0BEC5",
                "#B0BEC5",
                "#B0BEC5",
                "#B0BEC5",
                "#B0BEC5",
                "#B0BEC5",
                "#B0BEC5",
                "#B0BEC5",
                "#B0BEC5",
                "#B0BEC5",
                "#B0BEC5",
                "#B0BEC5",
                "#B0BEC5",
                "#B0BEC5",
                "#B0BEC5",
                "#B0BEC5",
                "#B0BEC5",
                "#B0BEC5"
               ]
              ]
             }
            ],
            "label": "Topic 26",
            "method": "update"
           },
           {
            "args": [
             {
              "marker.color": [
               [
                "#B0BEC5",
                "#B0BEC5",
                "#B0BEC5",
                "#B0BEC5",
                "#B0BEC5",
                "#B0BEC5",
                "#B0BEC5",
                "#B0BEC5",
                "#B0BEC5",
                "#B0BEC5",
                "#B0BEC5",
                "#B0BEC5",
                "#B0BEC5",
                "#B0BEC5",
                "#B0BEC5",
                "#B0BEC5",
                "#B0BEC5",
                "#B0BEC5",
                "#B0BEC5",
                "#B0BEC5",
                "#B0BEC5",
                "#B0BEC5",
                "#B0BEC5",
                "#B0BEC5",
                "#B0BEC5",
                "#B0BEC5",
                "#B0BEC5",
                "red",
                "#B0BEC5",
                "#B0BEC5",
                "#B0BEC5",
                "#B0BEC5",
                "#B0BEC5",
                "#B0BEC5",
                "#B0BEC5",
                "#B0BEC5",
                "#B0BEC5",
                "#B0BEC5",
                "#B0BEC5",
                "#B0BEC5",
                "#B0BEC5",
                "#B0BEC5",
                "#B0BEC5",
                "#B0BEC5",
                "#B0BEC5",
                "#B0BEC5",
                "#B0BEC5",
                "#B0BEC5",
                "#B0BEC5",
                "#B0BEC5",
                "#B0BEC5",
                "#B0BEC5",
                "#B0BEC5",
                "#B0BEC5",
                "#B0BEC5",
                "#B0BEC5",
                "#B0BEC5",
                "#B0BEC5",
                "#B0BEC5",
                "#B0BEC5",
                "#B0BEC5",
                "#B0BEC5",
                "#B0BEC5"
               ]
              ]
             }
            ],
            "label": "Topic 27",
            "method": "update"
           },
           {
            "args": [
             {
              "marker.color": [
               [
                "#B0BEC5",
                "#B0BEC5",
                "#B0BEC5",
                "#B0BEC5",
                "#B0BEC5",
                "#B0BEC5",
                "#B0BEC5",
                "#B0BEC5",
                "#B0BEC5",
                "#B0BEC5",
                "#B0BEC5",
                "#B0BEC5",
                "#B0BEC5",
                "#B0BEC5",
                "#B0BEC5",
                "#B0BEC5",
                "#B0BEC5",
                "#B0BEC5",
                "#B0BEC5",
                "#B0BEC5",
                "#B0BEC5",
                "#B0BEC5",
                "#B0BEC5",
                "#B0BEC5",
                "#B0BEC5",
                "#B0BEC5",
                "#B0BEC5",
                "#B0BEC5",
                "red",
                "#B0BEC5",
                "#B0BEC5",
                "#B0BEC5",
                "#B0BEC5",
                "#B0BEC5",
                "#B0BEC5",
                "#B0BEC5",
                "#B0BEC5",
                "#B0BEC5",
                "#B0BEC5",
                "#B0BEC5",
                "#B0BEC5",
                "#B0BEC5",
                "#B0BEC5",
                "#B0BEC5",
                "#B0BEC5",
                "#B0BEC5",
                "#B0BEC5",
                "#B0BEC5",
                "#B0BEC5",
                "#B0BEC5",
                "#B0BEC5",
                "#B0BEC5",
                "#B0BEC5",
                "#B0BEC5",
                "#B0BEC5",
                "#B0BEC5",
                "#B0BEC5",
                "#B0BEC5",
                "#B0BEC5",
                "#B0BEC5",
                "#B0BEC5",
                "#B0BEC5",
                "#B0BEC5"
               ]
              ]
             }
            ],
            "label": "Topic 28",
            "method": "update"
           },
           {
            "args": [
             {
              "marker.color": [
               [
                "#B0BEC5",
                "#B0BEC5",
                "#B0BEC5",
                "#B0BEC5",
                "#B0BEC5",
                "#B0BEC5",
                "#B0BEC5",
                "#B0BEC5",
                "#B0BEC5",
                "#B0BEC5",
                "#B0BEC5",
                "#B0BEC5",
                "#B0BEC5",
                "#B0BEC5",
                "#B0BEC5",
                "#B0BEC5",
                "#B0BEC5",
                "#B0BEC5",
                "#B0BEC5",
                "#B0BEC5",
                "#B0BEC5",
                "#B0BEC5",
                "#B0BEC5",
                "#B0BEC5",
                "#B0BEC5",
                "#B0BEC5",
                "#B0BEC5",
                "#B0BEC5",
                "#B0BEC5",
                "red",
                "#B0BEC5",
                "#B0BEC5",
                "#B0BEC5",
                "#B0BEC5",
                "#B0BEC5",
                "#B0BEC5",
                "#B0BEC5",
                "#B0BEC5",
                "#B0BEC5",
                "#B0BEC5",
                "#B0BEC5",
                "#B0BEC5",
                "#B0BEC5",
                "#B0BEC5",
                "#B0BEC5",
                "#B0BEC5",
                "#B0BEC5",
                "#B0BEC5",
                "#B0BEC5",
                "#B0BEC5",
                "#B0BEC5",
                "#B0BEC5",
                "#B0BEC5",
                "#B0BEC5",
                "#B0BEC5",
                "#B0BEC5",
                "#B0BEC5",
                "#B0BEC5",
                "#B0BEC5",
                "#B0BEC5",
                "#B0BEC5",
                "#B0BEC5",
                "#B0BEC5"
               ]
              ]
             }
            ],
            "label": "Topic 29",
            "method": "update"
           },
           {
            "args": [
             {
              "marker.color": [
               [
                "#B0BEC5",
                "#B0BEC5",
                "#B0BEC5",
                "#B0BEC5",
                "#B0BEC5",
                "#B0BEC5",
                "#B0BEC5",
                "#B0BEC5",
                "#B0BEC5",
                "#B0BEC5",
                "#B0BEC5",
                "#B0BEC5",
                "#B0BEC5",
                "#B0BEC5",
                "#B0BEC5",
                "#B0BEC5",
                "#B0BEC5",
                "#B0BEC5",
                "#B0BEC5",
                "#B0BEC5",
                "#B0BEC5",
                "#B0BEC5",
                "#B0BEC5",
                "#B0BEC5",
                "#B0BEC5",
                "#B0BEC5",
                "#B0BEC5",
                "#B0BEC5",
                "#B0BEC5",
                "#B0BEC5",
                "red",
                "#B0BEC5",
                "#B0BEC5",
                "#B0BEC5",
                "#B0BEC5",
                "#B0BEC5",
                "#B0BEC5",
                "#B0BEC5",
                "#B0BEC5",
                "#B0BEC5",
                "#B0BEC5",
                "#B0BEC5",
                "#B0BEC5",
                "#B0BEC5",
                "#B0BEC5",
                "#B0BEC5",
                "#B0BEC5",
                "#B0BEC5",
                "#B0BEC5",
                "#B0BEC5",
                "#B0BEC5",
                "#B0BEC5",
                "#B0BEC5",
                "#B0BEC5",
                "#B0BEC5",
                "#B0BEC5",
                "#B0BEC5",
                "#B0BEC5",
                "#B0BEC5",
                "#B0BEC5",
                "#B0BEC5",
                "#B0BEC5",
                "#B0BEC5"
               ]
              ]
             }
            ],
            "label": "Topic 30",
            "method": "update"
           },
           {
            "args": [
             {
              "marker.color": [
               [
                "#B0BEC5",
                "#B0BEC5",
                "#B0BEC5",
                "#B0BEC5",
                "#B0BEC5",
                "#B0BEC5",
                "#B0BEC5",
                "#B0BEC5",
                "#B0BEC5",
                "#B0BEC5",
                "#B0BEC5",
                "#B0BEC5",
                "#B0BEC5",
                "#B0BEC5",
                "#B0BEC5",
                "#B0BEC5",
                "#B0BEC5",
                "#B0BEC5",
                "#B0BEC5",
                "#B0BEC5",
                "#B0BEC5",
                "#B0BEC5",
                "#B0BEC5",
                "#B0BEC5",
                "#B0BEC5",
                "#B0BEC5",
                "#B0BEC5",
                "#B0BEC5",
                "#B0BEC5",
                "#B0BEC5",
                "#B0BEC5",
                "red",
                "#B0BEC5",
                "#B0BEC5",
                "#B0BEC5",
                "#B0BEC5",
                "#B0BEC5",
                "#B0BEC5",
                "#B0BEC5",
                "#B0BEC5",
                "#B0BEC5",
                "#B0BEC5",
                "#B0BEC5",
                "#B0BEC5",
                "#B0BEC5",
                "#B0BEC5",
                "#B0BEC5",
                "#B0BEC5",
                "#B0BEC5",
                "#B0BEC5",
                "#B0BEC5",
                "#B0BEC5",
                "#B0BEC5",
                "#B0BEC5",
                "#B0BEC5",
                "#B0BEC5",
                "#B0BEC5",
                "#B0BEC5",
                "#B0BEC5",
                "#B0BEC5",
                "#B0BEC5",
                "#B0BEC5",
                "#B0BEC5"
               ]
              ]
             }
            ],
            "label": "Topic 31",
            "method": "update"
           },
           {
            "args": [
             {
              "marker.color": [
               [
                "#B0BEC5",
                "#B0BEC5",
                "#B0BEC5",
                "#B0BEC5",
                "#B0BEC5",
                "#B0BEC5",
                "#B0BEC5",
                "#B0BEC5",
                "#B0BEC5",
                "#B0BEC5",
                "#B0BEC5",
                "#B0BEC5",
                "#B0BEC5",
                "#B0BEC5",
                "#B0BEC5",
                "#B0BEC5",
                "#B0BEC5",
                "#B0BEC5",
                "#B0BEC5",
                "#B0BEC5",
                "#B0BEC5",
                "#B0BEC5",
                "#B0BEC5",
                "#B0BEC5",
                "#B0BEC5",
                "#B0BEC5",
                "#B0BEC5",
                "#B0BEC5",
                "#B0BEC5",
                "#B0BEC5",
                "#B0BEC5",
                "#B0BEC5",
                "red",
                "#B0BEC5",
                "#B0BEC5",
                "#B0BEC5",
                "#B0BEC5",
                "#B0BEC5",
                "#B0BEC5",
                "#B0BEC5",
                "#B0BEC5",
                "#B0BEC5",
                "#B0BEC5",
                "#B0BEC5",
                "#B0BEC5",
                "#B0BEC5",
                "#B0BEC5",
                "#B0BEC5",
                "#B0BEC5",
                "#B0BEC5",
                "#B0BEC5",
                "#B0BEC5",
                "#B0BEC5",
                "#B0BEC5",
                "#B0BEC5",
                "#B0BEC5",
                "#B0BEC5",
                "#B0BEC5",
                "#B0BEC5",
                "#B0BEC5",
                "#B0BEC5",
                "#B0BEC5",
                "#B0BEC5"
               ]
              ]
             }
            ],
            "label": "Topic 32",
            "method": "update"
           },
           {
            "args": [
             {
              "marker.color": [
               [
                "#B0BEC5",
                "#B0BEC5",
                "#B0BEC5",
                "#B0BEC5",
                "#B0BEC5",
                "#B0BEC5",
                "#B0BEC5",
                "#B0BEC5",
                "#B0BEC5",
                "#B0BEC5",
                "#B0BEC5",
                "#B0BEC5",
                "#B0BEC5",
                "#B0BEC5",
                "#B0BEC5",
                "#B0BEC5",
                "#B0BEC5",
                "#B0BEC5",
                "#B0BEC5",
                "#B0BEC5",
                "#B0BEC5",
                "#B0BEC5",
                "#B0BEC5",
                "#B0BEC5",
                "#B0BEC5",
                "#B0BEC5",
                "#B0BEC5",
                "#B0BEC5",
                "#B0BEC5",
                "#B0BEC5",
                "#B0BEC5",
                "#B0BEC5",
                "#B0BEC5",
                "red",
                "#B0BEC5",
                "#B0BEC5",
                "#B0BEC5",
                "#B0BEC5",
                "#B0BEC5",
                "#B0BEC5",
                "#B0BEC5",
                "#B0BEC5",
                "#B0BEC5",
                "#B0BEC5",
                "#B0BEC5",
                "#B0BEC5",
                "#B0BEC5",
                "#B0BEC5",
                "#B0BEC5",
                "#B0BEC5",
                "#B0BEC5",
                "#B0BEC5",
                "#B0BEC5",
                "#B0BEC5",
                "#B0BEC5",
                "#B0BEC5",
                "#B0BEC5",
                "#B0BEC5",
                "#B0BEC5",
                "#B0BEC5",
                "#B0BEC5",
                "#B0BEC5",
                "#B0BEC5"
               ]
              ]
             }
            ],
            "label": "Topic 33",
            "method": "update"
           },
           {
            "args": [
             {
              "marker.color": [
               [
                "#B0BEC5",
                "#B0BEC5",
                "#B0BEC5",
                "#B0BEC5",
                "#B0BEC5",
                "#B0BEC5",
                "#B0BEC5",
                "#B0BEC5",
                "#B0BEC5",
                "#B0BEC5",
                "#B0BEC5",
                "#B0BEC5",
                "#B0BEC5",
                "#B0BEC5",
                "#B0BEC5",
                "#B0BEC5",
                "#B0BEC5",
                "#B0BEC5",
                "#B0BEC5",
                "#B0BEC5",
                "#B0BEC5",
                "#B0BEC5",
                "#B0BEC5",
                "#B0BEC5",
                "#B0BEC5",
                "#B0BEC5",
                "#B0BEC5",
                "#B0BEC5",
                "#B0BEC5",
                "#B0BEC5",
                "#B0BEC5",
                "#B0BEC5",
                "#B0BEC5",
                "#B0BEC5",
                "red",
                "#B0BEC5",
                "#B0BEC5",
                "#B0BEC5",
                "#B0BEC5",
                "#B0BEC5",
                "#B0BEC5",
                "#B0BEC5",
                "#B0BEC5",
                "#B0BEC5",
                "#B0BEC5",
                "#B0BEC5",
                "#B0BEC5",
                "#B0BEC5",
                "#B0BEC5",
                "#B0BEC5",
                "#B0BEC5",
                "#B0BEC5",
                "#B0BEC5",
                "#B0BEC5",
                "#B0BEC5",
                "#B0BEC5",
                "#B0BEC5",
                "#B0BEC5",
                "#B0BEC5",
                "#B0BEC5",
                "#B0BEC5",
                "#B0BEC5",
                "#B0BEC5"
               ]
              ]
             }
            ],
            "label": "Topic 34",
            "method": "update"
           },
           {
            "args": [
             {
              "marker.color": [
               [
                "#B0BEC5",
                "#B0BEC5",
                "#B0BEC5",
                "#B0BEC5",
                "#B0BEC5",
                "#B0BEC5",
                "#B0BEC5",
                "#B0BEC5",
                "#B0BEC5",
                "#B0BEC5",
                "#B0BEC5",
                "#B0BEC5",
                "#B0BEC5",
                "#B0BEC5",
                "#B0BEC5",
                "#B0BEC5",
                "#B0BEC5",
                "#B0BEC5",
                "#B0BEC5",
                "#B0BEC5",
                "#B0BEC5",
                "#B0BEC5",
                "#B0BEC5",
                "#B0BEC5",
                "#B0BEC5",
                "#B0BEC5",
                "#B0BEC5",
                "#B0BEC5",
                "#B0BEC5",
                "#B0BEC5",
                "#B0BEC5",
                "#B0BEC5",
                "#B0BEC5",
                "#B0BEC5",
                "#B0BEC5",
                "red",
                "#B0BEC5",
                "#B0BEC5",
                "#B0BEC5",
                "#B0BEC5",
                "#B0BEC5",
                "#B0BEC5",
                "#B0BEC5",
                "#B0BEC5",
                "#B0BEC5",
                "#B0BEC5",
                "#B0BEC5",
                "#B0BEC5",
                "#B0BEC5",
                "#B0BEC5",
                "#B0BEC5",
                "#B0BEC5",
                "#B0BEC5",
                "#B0BEC5",
                "#B0BEC5",
                "#B0BEC5",
                "#B0BEC5",
                "#B0BEC5",
                "#B0BEC5",
                "#B0BEC5",
                "#B0BEC5",
                "#B0BEC5",
                "#B0BEC5"
               ]
              ]
             }
            ],
            "label": "Topic 35",
            "method": "update"
           },
           {
            "args": [
             {
              "marker.color": [
               [
                "#B0BEC5",
                "#B0BEC5",
                "#B0BEC5",
                "#B0BEC5",
                "#B0BEC5",
                "#B0BEC5",
                "#B0BEC5",
                "#B0BEC5",
                "#B0BEC5",
                "#B0BEC5",
                "#B0BEC5",
                "#B0BEC5",
                "#B0BEC5",
                "#B0BEC5",
                "#B0BEC5",
                "#B0BEC5",
                "#B0BEC5",
                "#B0BEC5",
                "#B0BEC5",
                "#B0BEC5",
                "#B0BEC5",
                "#B0BEC5",
                "#B0BEC5",
                "#B0BEC5",
                "#B0BEC5",
                "#B0BEC5",
                "#B0BEC5",
                "#B0BEC5",
                "#B0BEC5",
                "#B0BEC5",
                "#B0BEC5",
                "#B0BEC5",
                "#B0BEC5",
                "#B0BEC5",
                "#B0BEC5",
                "#B0BEC5",
                "red",
                "#B0BEC5",
                "#B0BEC5",
                "#B0BEC5",
                "#B0BEC5",
                "#B0BEC5",
                "#B0BEC5",
                "#B0BEC5",
                "#B0BEC5",
                "#B0BEC5",
                "#B0BEC5",
                "#B0BEC5",
                "#B0BEC5",
                "#B0BEC5",
                "#B0BEC5",
                "#B0BEC5",
                "#B0BEC5",
                "#B0BEC5",
                "#B0BEC5",
                "#B0BEC5",
                "#B0BEC5",
                "#B0BEC5",
                "#B0BEC5",
                "#B0BEC5",
                "#B0BEC5",
                "#B0BEC5",
                "#B0BEC5"
               ]
              ]
             }
            ],
            "label": "Topic 36",
            "method": "update"
           },
           {
            "args": [
             {
              "marker.color": [
               [
                "#B0BEC5",
                "#B0BEC5",
                "#B0BEC5",
                "#B0BEC5",
                "#B0BEC5",
                "#B0BEC5",
                "#B0BEC5",
                "#B0BEC5",
                "#B0BEC5",
                "#B0BEC5",
                "#B0BEC5",
                "#B0BEC5",
                "#B0BEC5",
                "#B0BEC5",
                "#B0BEC5",
                "#B0BEC5",
                "#B0BEC5",
                "#B0BEC5",
                "#B0BEC5",
                "#B0BEC5",
                "#B0BEC5",
                "#B0BEC5",
                "#B0BEC5",
                "#B0BEC5",
                "#B0BEC5",
                "#B0BEC5",
                "#B0BEC5",
                "#B0BEC5",
                "#B0BEC5",
                "#B0BEC5",
                "#B0BEC5",
                "#B0BEC5",
                "#B0BEC5",
                "#B0BEC5",
                "#B0BEC5",
                "#B0BEC5",
                "#B0BEC5",
                "red",
                "#B0BEC5",
                "#B0BEC5",
                "#B0BEC5",
                "#B0BEC5",
                "#B0BEC5",
                "#B0BEC5",
                "#B0BEC5",
                "#B0BEC5",
                "#B0BEC5",
                "#B0BEC5",
                "#B0BEC5",
                "#B0BEC5",
                "#B0BEC5",
                "#B0BEC5",
                "#B0BEC5",
                "#B0BEC5",
                "#B0BEC5",
                "#B0BEC5",
                "#B0BEC5",
                "#B0BEC5",
                "#B0BEC5",
                "#B0BEC5",
                "#B0BEC5",
                "#B0BEC5",
                "#B0BEC5"
               ]
              ]
             }
            ],
            "label": "Topic 37",
            "method": "update"
           },
           {
            "args": [
             {
              "marker.color": [
               [
                "#B0BEC5",
                "#B0BEC5",
                "#B0BEC5",
                "#B0BEC5",
                "#B0BEC5",
                "#B0BEC5",
                "#B0BEC5",
                "#B0BEC5",
                "#B0BEC5",
                "#B0BEC5",
                "#B0BEC5",
                "#B0BEC5",
                "#B0BEC5",
                "#B0BEC5",
                "#B0BEC5",
                "#B0BEC5",
                "#B0BEC5",
                "#B0BEC5",
                "#B0BEC5",
                "#B0BEC5",
                "#B0BEC5",
                "#B0BEC5",
                "#B0BEC5",
                "#B0BEC5",
                "#B0BEC5",
                "#B0BEC5",
                "#B0BEC5",
                "#B0BEC5",
                "#B0BEC5",
                "#B0BEC5",
                "#B0BEC5",
                "#B0BEC5",
                "#B0BEC5",
                "#B0BEC5",
                "#B0BEC5",
                "#B0BEC5",
                "#B0BEC5",
                "#B0BEC5",
                "red",
                "#B0BEC5",
                "#B0BEC5",
                "#B0BEC5",
                "#B0BEC5",
                "#B0BEC5",
                "#B0BEC5",
                "#B0BEC5",
                "#B0BEC5",
                "#B0BEC5",
                "#B0BEC5",
                "#B0BEC5",
                "#B0BEC5",
                "#B0BEC5",
                "#B0BEC5",
                "#B0BEC5",
                "#B0BEC5",
                "#B0BEC5",
                "#B0BEC5",
                "#B0BEC5",
                "#B0BEC5",
                "#B0BEC5",
                "#B0BEC5",
                "#B0BEC5",
                "#B0BEC5"
               ]
              ]
             }
            ],
            "label": "Topic 38",
            "method": "update"
           },
           {
            "args": [
             {
              "marker.color": [
               [
                "#B0BEC5",
                "#B0BEC5",
                "#B0BEC5",
                "#B0BEC5",
                "#B0BEC5",
                "#B0BEC5",
                "#B0BEC5",
                "#B0BEC5",
                "#B0BEC5",
                "#B0BEC5",
                "#B0BEC5",
                "#B0BEC5",
                "#B0BEC5",
                "#B0BEC5",
                "#B0BEC5",
                "#B0BEC5",
                "#B0BEC5",
                "#B0BEC5",
                "#B0BEC5",
                "#B0BEC5",
                "#B0BEC5",
                "#B0BEC5",
                "#B0BEC5",
                "#B0BEC5",
                "#B0BEC5",
                "#B0BEC5",
                "#B0BEC5",
                "#B0BEC5",
                "#B0BEC5",
                "#B0BEC5",
                "#B0BEC5",
                "#B0BEC5",
                "#B0BEC5",
                "#B0BEC5",
                "#B0BEC5",
                "#B0BEC5",
                "#B0BEC5",
                "#B0BEC5",
                "#B0BEC5",
                "red",
                "#B0BEC5",
                "#B0BEC5",
                "#B0BEC5",
                "#B0BEC5",
                "#B0BEC5",
                "#B0BEC5",
                "#B0BEC5",
                "#B0BEC5",
                "#B0BEC5",
                "#B0BEC5",
                "#B0BEC5",
                "#B0BEC5",
                "#B0BEC5",
                "#B0BEC5",
                "#B0BEC5",
                "#B0BEC5",
                "#B0BEC5",
                "#B0BEC5",
                "#B0BEC5",
                "#B0BEC5",
                "#B0BEC5",
                "#B0BEC5",
                "#B0BEC5"
               ]
              ]
             }
            ],
            "label": "Topic 39",
            "method": "update"
           },
           {
            "args": [
             {
              "marker.color": [
               [
                "#B0BEC5",
                "#B0BEC5",
                "#B0BEC5",
                "#B0BEC5",
                "#B0BEC5",
                "#B0BEC5",
                "#B0BEC5",
                "#B0BEC5",
                "#B0BEC5",
                "#B0BEC5",
                "#B0BEC5",
                "#B0BEC5",
                "#B0BEC5",
                "#B0BEC5",
                "#B0BEC5",
                "#B0BEC5",
                "#B0BEC5",
                "#B0BEC5",
                "#B0BEC5",
                "#B0BEC5",
                "#B0BEC5",
                "#B0BEC5",
                "#B0BEC5",
                "#B0BEC5",
                "#B0BEC5",
                "#B0BEC5",
                "#B0BEC5",
                "#B0BEC5",
                "#B0BEC5",
                "#B0BEC5",
                "#B0BEC5",
                "#B0BEC5",
                "#B0BEC5",
                "#B0BEC5",
                "#B0BEC5",
                "#B0BEC5",
                "#B0BEC5",
                "#B0BEC5",
                "#B0BEC5",
                "#B0BEC5",
                "red",
                "#B0BEC5",
                "#B0BEC5",
                "#B0BEC5",
                "#B0BEC5",
                "#B0BEC5",
                "#B0BEC5",
                "#B0BEC5",
                "#B0BEC5",
                "#B0BEC5",
                "#B0BEC5",
                "#B0BEC5",
                "#B0BEC5",
                "#B0BEC5",
                "#B0BEC5",
                "#B0BEC5",
                "#B0BEC5",
                "#B0BEC5",
                "#B0BEC5",
                "#B0BEC5",
                "#B0BEC5",
                "#B0BEC5",
                "#B0BEC5"
               ]
              ]
             }
            ],
            "label": "Topic 40",
            "method": "update"
           },
           {
            "args": [
             {
              "marker.color": [
               [
                "#B0BEC5",
                "#B0BEC5",
                "#B0BEC5",
                "#B0BEC5",
                "#B0BEC5",
                "#B0BEC5",
                "#B0BEC5",
                "#B0BEC5",
                "#B0BEC5",
                "#B0BEC5",
                "#B0BEC5",
                "#B0BEC5",
                "#B0BEC5",
                "#B0BEC5",
                "#B0BEC5",
                "#B0BEC5",
                "#B0BEC5",
                "#B0BEC5",
                "#B0BEC5",
                "#B0BEC5",
                "#B0BEC5",
                "#B0BEC5",
                "#B0BEC5",
                "#B0BEC5",
                "#B0BEC5",
                "#B0BEC5",
                "#B0BEC5",
                "#B0BEC5",
                "#B0BEC5",
                "#B0BEC5",
                "#B0BEC5",
                "#B0BEC5",
                "#B0BEC5",
                "#B0BEC5",
                "#B0BEC5",
                "#B0BEC5",
                "#B0BEC5",
                "#B0BEC5",
                "#B0BEC5",
                "#B0BEC5",
                "#B0BEC5",
                "red",
                "#B0BEC5",
                "#B0BEC5",
                "#B0BEC5",
                "#B0BEC5",
                "#B0BEC5",
                "#B0BEC5",
                "#B0BEC5",
                "#B0BEC5",
                "#B0BEC5",
                "#B0BEC5",
                "#B0BEC5",
                "#B0BEC5",
                "#B0BEC5",
                "#B0BEC5",
                "#B0BEC5",
                "#B0BEC5",
                "#B0BEC5",
                "#B0BEC5",
                "#B0BEC5",
                "#B0BEC5",
                "#B0BEC5"
               ]
              ]
             }
            ],
            "label": "Topic 41",
            "method": "update"
           },
           {
            "args": [
             {
              "marker.color": [
               [
                "#B0BEC5",
                "#B0BEC5",
                "#B0BEC5",
                "#B0BEC5",
                "#B0BEC5",
                "#B0BEC5",
                "#B0BEC5",
                "#B0BEC5",
                "#B0BEC5",
                "#B0BEC5",
                "#B0BEC5",
                "#B0BEC5",
                "#B0BEC5",
                "#B0BEC5",
                "#B0BEC5",
                "#B0BEC5",
                "#B0BEC5",
                "#B0BEC5",
                "#B0BEC5",
                "#B0BEC5",
                "#B0BEC5",
                "#B0BEC5",
                "#B0BEC5",
                "#B0BEC5",
                "#B0BEC5",
                "#B0BEC5",
                "#B0BEC5",
                "#B0BEC5",
                "#B0BEC5",
                "#B0BEC5",
                "#B0BEC5",
                "#B0BEC5",
                "#B0BEC5",
                "#B0BEC5",
                "#B0BEC5",
                "#B0BEC5",
                "#B0BEC5",
                "#B0BEC5",
                "#B0BEC5",
                "#B0BEC5",
                "#B0BEC5",
                "#B0BEC5",
                "red",
                "#B0BEC5",
                "#B0BEC5",
                "#B0BEC5",
                "#B0BEC5",
                "#B0BEC5",
                "#B0BEC5",
                "#B0BEC5",
                "#B0BEC5",
                "#B0BEC5",
                "#B0BEC5",
                "#B0BEC5",
                "#B0BEC5",
                "#B0BEC5",
                "#B0BEC5",
                "#B0BEC5",
                "#B0BEC5",
                "#B0BEC5",
                "#B0BEC5",
                "#B0BEC5",
                "#B0BEC5"
               ]
              ]
             }
            ],
            "label": "Topic 42",
            "method": "update"
           },
           {
            "args": [
             {
              "marker.color": [
               [
                "#B0BEC5",
                "#B0BEC5",
                "#B0BEC5",
                "#B0BEC5",
                "#B0BEC5",
                "#B0BEC5",
                "#B0BEC5",
                "#B0BEC5",
                "#B0BEC5",
                "#B0BEC5",
                "#B0BEC5",
                "#B0BEC5",
                "#B0BEC5",
                "#B0BEC5",
                "#B0BEC5",
                "#B0BEC5",
                "#B0BEC5",
                "#B0BEC5",
                "#B0BEC5",
                "#B0BEC5",
                "#B0BEC5",
                "#B0BEC5",
                "#B0BEC5",
                "#B0BEC5",
                "#B0BEC5",
                "#B0BEC5",
                "#B0BEC5",
                "#B0BEC5",
                "#B0BEC5",
                "#B0BEC5",
                "#B0BEC5",
                "#B0BEC5",
                "#B0BEC5",
                "#B0BEC5",
                "#B0BEC5",
                "#B0BEC5",
                "#B0BEC5",
                "#B0BEC5",
                "#B0BEC5",
                "#B0BEC5",
                "#B0BEC5",
                "#B0BEC5",
                "#B0BEC5",
                "red",
                "#B0BEC5",
                "#B0BEC5",
                "#B0BEC5",
                "#B0BEC5",
                "#B0BEC5",
                "#B0BEC5",
                "#B0BEC5",
                "#B0BEC5",
                "#B0BEC5",
                "#B0BEC5",
                "#B0BEC5",
                "#B0BEC5",
                "#B0BEC5",
                "#B0BEC5",
                "#B0BEC5",
                "#B0BEC5",
                "#B0BEC5",
                "#B0BEC5",
                "#B0BEC5"
               ]
              ]
             }
            ],
            "label": "Topic 43",
            "method": "update"
           },
           {
            "args": [
             {
              "marker.color": [
               [
                "#B0BEC5",
                "#B0BEC5",
                "#B0BEC5",
                "#B0BEC5",
                "#B0BEC5",
                "#B0BEC5",
                "#B0BEC5",
                "#B0BEC5",
                "#B0BEC5",
                "#B0BEC5",
                "#B0BEC5",
                "#B0BEC5",
                "#B0BEC5",
                "#B0BEC5",
                "#B0BEC5",
                "#B0BEC5",
                "#B0BEC5",
                "#B0BEC5",
                "#B0BEC5",
                "#B0BEC5",
                "#B0BEC5",
                "#B0BEC5",
                "#B0BEC5",
                "#B0BEC5",
                "#B0BEC5",
                "#B0BEC5",
                "#B0BEC5",
                "#B0BEC5",
                "#B0BEC5",
                "#B0BEC5",
                "#B0BEC5",
                "#B0BEC5",
                "#B0BEC5",
                "#B0BEC5",
                "#B0BEC5",
                "#B0BEC5",
                "#B0BEC5",
                "#B0BEC5",
                "#B0BEC5",
                "#B0BEC5",
                "#B0BEC5",
                "#B0BEC5",
                "#B0BEC5",
                "#B0BEC5",
                "red",
                "#B0BEC5",
                "#B0BEC5",
                "#B0BEC5",
                "#B0BEC5",
                "#B0BEC5",
                "#B0BEC5",
                "#B0BEC5",
                "#B0BEC5",
                "#B0BEC5",
                "#B0BEC5",
                "#B0BEC5",
                "#B0BEC5",
                "#B0BEC5",
                "#B0BEC5",
                "#B0BEC5",
                "#B0BEC5",
                "#B0BEC5",
                "#B0BEC5"
               ]
              ]
             }
            ],
            "label": "Topic 44",
            "method": "update"
           },
           {
            "args": [
             {
              "marker.color": [
               [
                "#B0BEC5",
                "#B0BEC5",
                "#B0BEC5",
                "#B0BEC5",
                "#B0BEC5",
                "#B0BEC5",
                "#B0BEC5",
                "#B0BEC5",
                "#B0BEC5",
                "#B0BEC5",
                "#B0BEC5",
                "#B0BEC5",
                "#B0BEC5",
                "#B0BEC5",
                "#B0BEC5",
                "#B0BEC5",
                "#B0BEC5",
                "#B0BEC5",
                "#B0BEC5",
                "#B0BEC5",
                "#B0BEC5",
                "#B0BEC5",
                "#B0BEC5",
                "#B0BEC5",
                "#B0BEC5",
                "#B0BEC5",
                "#B0BEC5",
                "#B0BEC5",
                "#B0BEC5",
                "#B0BEC5",
                "#B0BEC5",
                "#B0BEC5",
                "#B0BEC5",
                "#B0BEC5",
                "#B0BEC5",
                "#B0BEC5",
                "#B0BEC5",
                "#B0BEC5",
                "#B0BEC5",
                "#B0BEC5",
                "#B0BEC5",
                "#B0BEC5",
                "#B0BEC5",
                "#B0BEC5",
                "#B0BEC5",
                "red",
                "#B0BEC5",
                "#B0BEC5",
                "#B0BEC5",
                "#B0BEC5",
                "#B0BEC5",
                "#B0BEC5",
                "#B0BEC5",
                "#B0BEC5",
                "#B0BEC5",
                "#B0BEC5",
                "#B0BEC5",
                "#B0BEC5",
                "#B0BEC5",
                "#B0BEC5",
                "#B0BEC5",
                "#B0BEC5",
                "#B0BEC5"
               ]
              ]
             }
            ],
            "label": "Topic 45",
            "method": "update"
           },
           {
            "args": [
             {
              "marker.color": [
               [
                "#B0BEC5",
                "#B0BEC5",
                "#B0BEC5",
                "#B0BEC5",
                "#B0BEC5",
                "#B0BEC5",
                "#B0BEC5",
                "#B0BEC5",
                "#B0BEC5",
                "#B0BEC5",
                "#B0BEC5",
                "#B0BEC5",
                "#B0BEC5",
                "#B0BEC5",
                "#B0BEC5",
                "#B0BEC5",
                "#B0BEC5",
                "#B0BEC5",
                "#B0BEC5",
                "#B0BEC5",
                "#B0BEC5",
                "#B0BEC5",
                "#B0BEC5",
                "#B0BEC5",
                "#B0BEC5",
                "#B0BEC5",
                "#B0BEC5",
                "#B0BEC5",
                "#B0BEC5",
                "#B0BEC5",
                "#B0BEC5",
                "#B0BEC5",
                "#B0BEC5",
                "#B0BEC5",
                "#B0BEC5",
                "#B0BEC5",
                "#B0BEC5",
                "#B0BEC5",
                "#B0BEC5",
                "#B0BEC5",
                "#B0BEC5",
                "#B0BEC5",
                "#B0BEC5",
                "#B0BEC5",
                "#B0BEC5",
                "#B0BEC5",
                "red",
                "#B0BEC5",
                "#B0BEC5",
                "#B0BEC5",
                "#B0BEC5",
                "#B0BEC5",
                "#B0BEC5",
                "#B0BEC5",
                "#B0BEC5",
                "#B0BEC5",
                "#B0BEC5",
                "#B0BEC5",
                "#B0BEC5",
                "#B0BEC5",
                "#B0BEC5",
                "#B0BEC5",
                "#B0BEC5"
               ]
              ]
             }
            ],
            "label": "Topic 46",
            "method": "update"
           },
           {
            "args": [
             {
              "marker.color": [
               [
                "#B0BEC5",
                "#B0BEC5",
                "#B0BEC5",
                "#B0BEC5",
                "#B0BEC5",
                "#B0BEC5",
                "#B0BEC5",
                "#B0BEC5",
                "#B0BEC5",
                "#B0BEC5",
                "#B0BEC5",
                "#B0BEC5",
                "#B0BEC5",
                "#B0BEC5",
                "#B0BEC5",
                "#B0BEC5",
                "#B0BEC5",
                "#B0BEC5",
                "#B0BEC5",
                "#B0BEC5",
                "#B0BEC5",
                "#B0BEC5",
                "#B0BEC5",
                "#B0BEC5",
                "#B0BEC5",
                "#B0BEC5",
                "#B0BEC5",
                "#B0BEC5",
                "#B0BEC5",
                "#B0BEC5",
                "#B0BEC5",
                "#B0BEC5",
                "#B0BEC5",
                "#B0BEC5",
                "#B0BEC5",
                "#B0BEC5",
                "#B0BEC5",
                "#B0BEC5",
                "#B0BEC5",
                "#B0BEC5",
                "#B0BEC5",
                "#B0BEC5",
                "#B0BEC5",
                "#B0BEC5",
                "#B0BEC5",
                "#B0BEC5",
                "#B0BEC5",
                "red",
                "#B0BEC5",
                "#B0BEC5",
                "#B0BEC5",
                "#B0BEC5",
                "#B0BEC5",
                "#B0BEC5",
                "#B0BEC5",
                "#B0BEC5",
                "#B0BEC5",
                "#B0BEC5",
                "#B0BEC5",
                "#B0BEC5",
                "#B0BEC5",
                "#B0BEC5",
                "#B0BEC5"
               ]
              ]
             }
            ],
            "label": "Topic 47",
            "method": "update"
           },
           {
            "args": [
             {
              "marker.color": [
               [
                "#B0BEC5",
                "#B0BEC5",
                "#B0BEC5",
                "#B0BEC5",
                "#B0BEC5",
                "#B0BEC5",
                "#B0BEC5",
                "#B0BEC5",
                "#B0BEC5",
                "#B0BEC5",
                "#B0BEC5",
                "#B0BEC5",
                "#B0BEC5",
                "#B0BEC5",
                "#B0BEC5",
                "#B0BEC5",
                "#B0BEC5",
                "#B0BEC5",
                "#B0BEC5",
                "#B0BEC5",
                "#B0BEC5",
                "#B0BEC5",
                "#B0BEC5",
                "#B0BEC5",
                "#B0BEC5",
                "#B0BEC5",
                "#B0BEC5",
                "#B0BEC5",
                "#B0BEC5",
                "#B0BEC5",
                "#B0BEC5",
                "#B0BEC5",
                "#B0BEC5",
                "#B0BEC5",
                "#B0BEC5",
                "#B0BEC5",
                "#B0BEC5",
                "#B0BEC5",
                "#B0BEC5",
                "#B0BEC5",
                "#B0BEC5",
                "#B0BEC5",
                "#B0BEC5",
                "#B0BEC5",
                "#B0BEC5",
                "#B0BEC5",
                "#B0BEC5",
                "#B0BEC5",
                "red",
                "#B0BEC5",
                "#B0BEC5",
                "#B0BEC5",
                "#B0BEC5",
                "#B0BEC5",
                "#B0BEC5",
                "#B0BEC5",
                "#B0BEC5",
                "#B0BEC5",
                "#B0BEC5",
                "#B0BEC5",
                "#B0BEC5",
                "#B0BEC5",
                "#B0BEC5"
               ]
              ]
             }
            ],
            "label": "Topic 48",
            "method": "update"
           },
           {
            "args": [
             {
              "marker.color": [
               [
                "#B0BEC5",
                "#B0BEC5",
                "#B0BEC5",
                "#B0BEC5",
                "#B0BEC5",
                "#B0BEC5",
                "#B0BEC5",
                "#B0BEC5",
                "#B0BEC5",
                "#B0BEC5",
                "#B0BEC5",
                "#B0BEC5",
                "#B0BEC5",
                "#B0BEC5",
                "#B0BEC5",
                "#B0BEC5",
                "#B0BEC5",
                "#B0BEC5",
                "#B0BEC5",
                "#B0BEC5",
                "#B0BEC5",
                "#B0BEC5",
                "#B0BEC5",
                "#B0BEC5",
                "#B0BEC5",
                "#B0BEC5",
                "#B0BEC5",
                "#B0BEC5",
                "#B0BEC5",
                "#B0BEC5",
                "#B0BEC5",
                "#B0BEC5",
                "#B0BEC5",
                "#B0BEC5",
                "#B0BEC5",
                "#B0BEC5",
                "#B0BEC5",
                "#B0BEC5",
                "#B0BEC5",
                "#B0BEC5",
                "#B0BEC5",
                "#B0BEC5",
                "#B0BEC5",
                "#B0BEC5",
                "#B0BEC5",
                "#B0BEC5",
                "#B0BEC5",
                "#B0BEC5",
                "#B0BEC5",
                "red",
                "#B0BEC5",
                "#B0BEC5",
                "#B0BEC5",
                "#B0BEC5",
                "#B0BEC5",
                "#B0BEC5",
                "#B0BEC5",
                "#B0BEC5",
                "#B0BEC5",
                "#B0BEC5",
                "#B0BEC5",
                "#B0BEC5",
                "#B0BEC5"
               ]
              ]
             }
            ],
            "label": "Topic 49",
            "method": "update"
           },
           {
            "args": [
             {
              "marker.color": [
               [
                "#B0BEC5",
                "#B0BEC5",
                "#B0BEC5",
                "#B0BEC5",
                "#B0BEC5",
                "#B0BEC5",
                "#B0BEC5",
                "#B0BEC5",
                "#B0BEC5",
                "#B0BEC5",
                "#B0BEC5",
                "#B0BEC5",
                "#B0BEC5",
                "#B0BEC5",
                "#B0BEC5",
                "#B0BEC5",
                "#B0BEC5",
                "#B0BEC5",
                "#B0BEC5",
                "#B0BEC5",
                "#B0BEC5",
                "#B0BEC5",
                "#B0BEC5",
                "#B0BEC5",
                "#B0BEC5",
                "#B0BEC5",
                "#B0BEC5",
                "#B0BEC5",
                "#B0BEC5",
                "#B0BEC5",
                "#B0BEC5",
                "#B0BEC5",
                "#B0BEC5",
                "#B0BEC5",
                "#B0BEC5",
                "#B0BEC5",
                "#B0BEC5",
                "#B0BEC5",
                "#B0BEC5",
                "#B0BEC5",
                "#B0BEC5",
                "#B0BEC5",
                "#B0BEC5",
                "#B0BEC5",
                "#B0BEC5",
                "#B0BEC5",
                "#B0BEC5",
                "#B0BEC5",
                "#B0BEC5",
                "#B0BEC5",
                "red",
                "#B0BEC5",
                "#B0BEC5",
                "#B0BEC5",
                "#B0BEC5",
                "#B0BEC5",
                "#B0BEC5",
                "#B0BEC5",
                "#B0BEC5",
                "#B0BEC5",
                "#B0BEC5",
                "#B0BEC5",
                "#B0BEC5"
               ]
              ]
             }
            ],
            "label": "Topic 50",
            "method": "update"
           },
           {
            "args": [
             {
              "marker.color": [
               [
                "#B0BEC5",
                "#B0BEC5",
                "#B0BEC5",
                "#B0BEC5",
                "#B0BEC5",
                "#B0BEC5",
                "#B0BEC5",
                "#B0BEC5",
                "#B0BEC5",
                "#B0BEC5",
                "#B0BEC5",
                "#B0BEC5",
                "#B0BEC5",
                "#B0BEC5",
                "#B0BEC5",
                "#B0BEC5",
                "#B0BEC5",
                "#B0BEC5",
                "#B0BEC5",
                "#B0BEC5",
                "#B0BEC5",
                "#B0BEC5",
                "#B0BEC5",
                "#B0BEC5",
                "#B0BEC5",
                "#B0BEC5",
                "#B0BEC5",
                "#B0BEC5",
                "#B0BEC5",
                "#B0BEC5",
                "#B0BEC5",
                "#B0BEC5",
                "#B0BEC5",
                "#B0BEC5",
                "#B0BEC5",
                "#B0BEC5",
                "#B0BEC5",
                "#B0BEC5",
                "#B0BEC5",
                "#B0BEC5",
                "#B0BEC5",
                "#B0BEC5",
                "#B0BEC5",
                "#B0BEC5",
                "#B0BEC5",
                "#B0BEC5",
                "#B0BEC5",
                "#B0BEC5",
                "#B0BEC5",
                "#B0BEC5",
                "#B0BEC5",
                "red",
                "#B0BEC5",
                "#B0BEC5",
                "#B0BEC5",
                "#B0BEC5",
                "#B0BEC5",
                "#B0BEC5",
                "#B0BEC5",
                "#B0BEC5",
                "#B0BEC5",
                "#B0BEC5",
                "#B0BEC5"
               ]
              ]
             }
            ],
            "label": "Topic 51",
            "method": "update"
           },
           {
            "args": [
             {
              "marker.color": [
               [
                "#B0BEC5",
                "#B0BEC5",
                "#B0BEC5",
                "#B0BEC5",
                "#B0BEC5",
                "#B0BEC5",
                "#B0BEC5",
                "#B0BEC5",
                "#B0BEC5",
                "#B0BEC5",
                "#B0BEC5",
                "#B0BEC5",
                "#B0BEC5",
                "#B0BEC5",
                "#B0BEC5",
                "#B0BEC5",
                "#B0BEC5",
                "#B0BEC5",
                "#B0BEC5",
                "#B0BEC5",
                "#B0BEC5",
                "#B0BEC5",
                "#B0BEC5",
                "#B0BEC5",
                "#B0BEC5",
                "#B0BEC5",
                "#B0BEC5",
                "#B0BEC5",
                "#B0BEC5",
                "#B0BEC5",
                "#B0BEC5",
                "#B0BEC5",
                "#B0BEC5",
                "#B0BEC5",
                "#B0BEC5",
                "#B0BEC5",
                "#B0BEC5",
                "#B0BEC5",
                "#B0BEC5",
                "#B0BEC5",
                "#B0BEC5",
                "#B0BEC5",
                "#B0BEC5",
                "#B0BEC5",
                "#B0BEC5",
                "#B0BEC5",
                "#B0BEC5",
                "#B0BEC5",
                "#B0BEC5",
                "#B0BEC5",
                "#B0BEC5",
                "#B0BEC5",
                "red",
                "#B0BEC5",
                "#B0BEC5",
                "#B0BEC5",
                "#B0BEC5",
                "#B0BEC5",
                "#B0BEC5",
                "#B0BEC5",
                "#B0BEC5",
                "#B0BEC5",
                "#B0BEC5"
               ]
              ]
             }
            ],
            "label": "Topic 52",
            "method": "update"
           },
           {
            "args": [
             {
              "marker.color": [
               [
                "#B0BEC5",
                "#B0BEC5",
                "#B0BEC5",
                "#B0BEC5",
                "#B0BEC5",
                "#B0BEC5",
                "#B0BEC5",
                "#B0BEC5",
                "#B0BEC5",
                "#B0BEC5",
                "#B0BEC5",
                "#B0BEC5",
                "#B0BEC5",
                "#B0BEC5",
                "#B0BEC5",
                "#B0BEC5",
                "#B0BEC5",
                "#B0BEC5",
                "#B0BEC5",
                "#B0BEC5",
                "#B0BEC5",
                "#B0BEC5",
                "#B0BEC5",
                "#B0BEC5",
                "#B0BEC5",
                "#B0BEC5",
                "#B0BEC5",
                "#B0BEC5",
                "#B0BEC5",
                "#B0BEC5",
                "#B0BEC5",
                "#B0BEC5",
                "#B0BEC5",
                "#B0BEC5",
                "#B0BEC5",
                "#B0BEC5",
                "#B0BEC5",
                "#B0BEC5",
                "#B0BEC5",
                "#B0BEC5",
                "#B0BEC5",
                "#B0BEC5",
                "#B0BEC5",
                "#B0BEC5",
                "#B0BEC5",
                "#B0BEC5",
                "#B0BEC5",
                "#B0BEC5",
                "#B0BEC5",
                "#B0BEC5",
                "#B0BEC5",
                "#B0BEC5",
                "#B0BEC5",
                "red",
                "#B0BEC5",
                "#B0BEC5",
                "#B0BEC5",
                "#B0BEC5",
                "#B0BEC5",
                "#B0BEC5",
                "#B0BEC5",
                "#B0BEC5",
                "#B0BEC5"
               ]
              ]
             }
            ],
            "label": "Topic 53",
            "method": "update"
           },
           {
            "args": [
             {
              "marker.color": [
               [
                "#B0BEC5",
                "#B0BEC5",
                "#B0BEC5",
                "#B0BEC5",
                "#B0BEC5",
                "#B0BEC5",
                "#B0BEC5",
                "#B0BEC5",
                "#B0BEC5",
                "#B0BEC5",
                "#B0BEC5",
                "#B0BEC5",
                "#B0BEC5",
                "#B0BEC5",
                "#B0BEC5",
                "#B0BEC5",
                "#B0BEC5",
                "#B0BEC5",
                "#B0BEC5",
                "#B0BEC5",
                "#B0BEC5",
                "#B0BEC5",
                "#B0BEC5",
                "#B0BEC5",
                "#B0BEC5",
                "#B0BEC5",
                "#B0BEC5",
                "#B0BEC5",
                "#B0BEC5",
                "#B0BEC5",
                "#B0BEC5",
                "#B0BEC5",
                "#B0BEC5",
                "#B0BEC5",
                "#B0BEC5",
                "#B0BEC5",
                "#B0BEC5",
                "#B0BEC5",
                "#B0BEC5",
                "#B0BEC5",
                "#B0BEC5",
                "#B0BEC5",
                "#B0BEC5",
                "#B0BEC5",
                "#B0BEC5",
                "#B0BEC5",
                "#B0BEC5",
                "#B0BEC5",
                "#B0BEC5",
                "#B0BEC5",
                "#B0BEC5",
                "#B0BEC5",
                "#B0BEC5",
                "#B0BEC5",
                "red",
                "#B0BEC5",
                "#B0BEC5",
                "#B0BEC5",
                "#B0BEC5",
                "#B0BEC5",
                "#B0BEC5",
                "#B0BEC5",
                "#B0BEC5"
               ]
              ]
             }
            ],
            "label": "Topic 54",
            "method": "update"
           },
           {
            "args": [
             {
              "marker.color": [
               [
                "#B0BEC5",
                "#B0BEC5",
                "#B0BEC5",
                "#B0BEC5",
                "#B0BEC5",
                "#B0BEC5",
                "#B0BEC5",
                "#B0BEC5",
                "#B0BEC5",
                "#B0BEC5",
                "#B0BEC5",
                "#B0BEC5",
                "#B0BEC5",
                "#B0BEC5",
                "#B0BEC5",
                "#B0BEC5",
                "#B0BEC5",
                "#B0BEC5",
                "#B0BEC5",
                "#B0BEC5",
                "#B0BEC5",
                "#B0BEC5",
                "#B0BEC5",
                "#B0BEC5",
                "#B0BEC5",
                "#B0BEC5",
                "#B0BEC5",
                "#B0BEC5",
                "#B0BEC5",
                "#B0BEC5",
                "#B0BEC5",
                "#B0BEC5",
                "#B0BEC5",
                "#B0BEC5",
                "#B0BEC5",
                "#B0BEC5",
                "#B0BEC5",
                "#B0BEC5",
                "#B0BEC5",
                "#B0BEC5",
                "#B0BEC5",
                "#B0BEC5",
                "#B0BEC5",
                "#B0BEC5",
                "#B0BEC5",
                "#B0BEC5",
                "#B0BEC5",
                "#B0BEC5",
                "#B0BEC5",
                "#B0BEC5",
                "#B0BEC5",
                "#B0BEC5",
                "#B0BEC5",
                "#B0BEC5",
                "#B0BEC5",
                "red",
                "#B0BEC5",
                "#B0BEC5",
                "#B0BEC5",
                "#B0BEC5",
                "#B0BEC5",
                "#B0BEC5",
                "#B0BEC5"
               ]
              ]
             }
            ],
            "label": "Topic 55",
            "method": "update"
           },
           {
            "args": [
             {
              "marker.color": [
               [
                "#B0BEC5",
                "#B0BEC5",
                "#B0BEC5",
                "#B0BEC5",
                "#B0BEC5",
                "#B0BEC5",
                "#B0BEC5",
                "#B0BEC5",
                "#B0BEC5",
                "#B0BEC5",
                "#B0BEC5",
                "#B0BEC5",
                "#B0BEC5",
                "#B0BEC5",
                "#B0BEC5",
                "#B0BEC5",
                "#B0BEC5",
                "#B0BEC5",
                "#B0BEC5",
                "#B0BEC5",
                "#B0BEC5",
                "#B0BEC5",
                "#B0BEC5",
                "#B0BEC5",
                "#B0BEC5",
                "#B0BEC5",
                "#B0BEC5",
                "#B0BEC5",
                "#B0BEC5",
                "#B0BEC5",
                "#B0BEC5",
                "#B0BEC5",
                "#B0BEC5",
                "#B0BEC5",
                "#B0BEC5",
                "#B0BEC5",
                "#B0BEC5",
                "#B0BEC5",
                "#B0BEC5",
                "#B0BEC5",
                "#B0BEC5",
                "#B0BEC5",
                "#B0BEC5",
                "#B0BEC5",
                "#B0BEC5",
                "#B0BEC5",
                "#B0BEC5",
                "#B0BEC5",
                "#B0BEC5",
                "#B0BEC5",
                "#B0BEC5",
                "#B0BEC5",
                "#B0BEC5",
                "#B0BEC5",
                "#B0BEC5",
                "#B0BEC5",
                "red",
                "#B0BEC5",
                "#B0BEC5",
                "#B0BEC5",
                "#B0BEC5",
                "#B0BEC5",
                "#B0BEC5"
               ]
              ]
             }
            ],
            "label": "Topic 56",
            "method": "update"
           },
           {
            "args": [
             {
              "marker.color": [
               [
                "#B0BEC5",
                "#B0BEC5",
                "#B0BEC5",
                "#B0BEC5",
                "#B0BEC5",
                "#B0BEC5",
                "#B0BEC5",
                "#B0BEC5",
                "#B0BEC5",
                "#B0BEC5",
                "#B0BEC5",
                "#B0BEC5",
                "#B0BEC5",
                "#B0BEC5",
                "#B0BEC5",
                "#B0BEC5",
                "#B0BEC5",
                "#B0BEC5",
                "#B0BEC5",
                "#B0BEC5",
                "#B0BEC5",
                "#B0BEC5",
                "#B0BEC5",
                "#B0BEC5",
                "#B0BEC5",
                "#B0BEC5",
                "#B0BEC5",
                "#B0BEC5",
                "#B0BEC5",
                "#B0BEC5",
                "#B0BEC5",
                "#B0BEC5",
                "#B0BEC5",
                "#B0BEC5",
                "#B0BEC5",
                "#B0BEC5",
                "#B0BEC5",
                "#B0BEC5",
                "#B0BEC5",
                "#B0BEC5",
                "#B0BEC5",
                "#B0BEC5",
                "#B0BEC5",
                "#B0BEC5",
                "#B0BEC5",
                "#B0BEC5",
                "#B0BEC5",
                "#B0BEC5",
                "#B0BEC5",
                "#B0BEC5",
                "#B0BEC5",
                "#B0BEC5",
                "#B0BEC5",
                "#B0BEC5",
                "#B0BEC5",
                "#B0BEC5",
                "#B0BEC5",
                "red",
                "#B0BEC5",
                "#B0BEC5",
                "#B0BEC5",
                "#B0BEC5",
                "#B0BEC5"
               ]
              ]
             }
            ],
            "label": "Topic 57",
            "method": "update"
           },
           {
            "args": [
             {
              "marker.color": [
               [
                "#B0BEC5",
                "#B0BEC5",
                "#B0BEC5",
                "#B0BEC5",
                "#B0BEC5",
                "#B0BEC5",
                "#B0BEC5",
                "#B0BEC5",
                "#B0BEC5",
                "#B0BEC5",
                "#B0BEC5",
                "#B0BEC5",
                "#B0BEC5",
                "#B0BEC5",
                "#B0BEC5",
                "#B0BEC5",
                "#B0BEC5",
                "#B0BEC5",
                "#B0BEC5",
                "#B0BEC5",
                "#B0BEC5",
                "#B0BEC5",
                "#B0BEC5",
                "#B0BEC5",
                "#B0BEC5",
                "#B0BEC5",
                "#B0BEC5",
                "#B0BEC5",
                "#B0BEC5",
                "#B0BEC5",
                "#B0BEC5",
                "#B0BEC5",
                "#B0BEC5",
                "#B0BEC5",
                "#B0BEC5",
                "#B0BEC5",
                "#B0BEC5",
                "#B0BEC5",
                "#B0BEC5",
                "#B0BEC5",
                "#B0BEC5",
                "#B0BEC5",
                "#B0BEC5",
                "#B0BEC5",
                "#B0BEC5",
                "#B0BEC5",
                "#B0BEC5",
                "#B0BEC5",
                "#B0BEC5",
                "#B0BEC5",
                "#B0BEC5",
                "#B0BEC5",
                "#B0BEC5",
                "#B0BEC5",
                "#B0BEC5",
                "#B0BEC5",
                "#B0BEC5",
                "#B0BEC5",
                "red",
                "#B0BEC5",
                "#B0BEC5",
                "#B0BEC5",
                "#B0BEC5"
               ]
              ]
             }
            ],
            "label": "Topic 58",
            "method": "update"
           },
           {
            "args": [
             {
              "marker.color": [
               [
                "#B0BEC5",
                "#B0BEC5",
                "#B0BEC5",
                "#B0BEC5",
                "#B0BEC5",
                "#B0BEC5",
                "#B0BEC5",
                "#B0BEC5",
                "#B0BEC5",
                "#B0BEC5",
                "#B0BEC5",
                "#B0BEC5",
                "#B0BEC5",
                "#B0BEC5",
                "#B0BEC5",
                "#B0BEC5",
                "#B0BEC5",
                "#B0BEC5",
                "#B0BEC5",
                "#B0BEC5",
                "#B0BEC5",
                "#B0BEC5",
                "#B0BEC5",
                "#B0BEC5",
                "#B0BEC5",
                "#B0BEC5",
                "#B0BEC5",
                "#B0BEC5",
                "#B0BEC5",
                "#B0BEC5",
                "#B0BEC5",
                "#B0BEC5",
                "#B0BEC5",
                "#B0BEC5",
                "#B0BEC5",
                "#B0BEC5",
                "#B0BEC5",
                "#B0BEC5",
                "#B0BEC5",
                "#B0BEC5",
                "#B0BEC5",
                "#B0BEC5",
                "#B0BEC5",
                "#B0BEC5",
                "#B0BEC5",
                "#B0BEC5",
                "#B0BEC5",
                "#B0BEC5",
                "#B0BEC5",
                "#B0BEC5",
                "#B0BEC5",
                "#B0BEC5",
                "#B0BEC5",
                "#B0BEC5",
                "#B0BEC5",
                "#B0BEC5",
                "#B0BEC5",
                "#B0BEC5",
                "#B0BEC5",
                "red",
                "#B0BEC5",
                "#B0BEC5",
                "#B0BEC5"
               ]
              ]
             }
            ],
            "label": "Topic 59",
            "method": "update"
           },
           {
            "args": [
             {
              "marker.color": [
               [
                "#B0BEC5",
                "#B0BEC5",
                "#B0BEC5",
                "#B0BEC5",
                "#B0BEC5",
                "#B0BEC5",
                "#B0BEC5",
                "#B0BEC5",
                "#B0BEC5",
                "#B0BEC5",
                "#B0BEC5",
                "#B0BEC5",
                "#B0BEC5",
                "#B0BEC5",
                "#B0BEC5",
                "#B0BEC5",
                "#B0BEC5",
                "#B0BEC5",
                "#B0BEC5",
                "#B0BEC5",
                "#B0BEC5",
                "#B0BEC5",
                "#B0BEC5",
                "#B0BEC5",
                "#B0BEC5",
                "#B0BEC5",
                "#B0BEC5",
                "#B0BEC5",
                "#B0BEC5",
                "#B0BEC5",
                "#B0BEC5",
                "#B0BEC5",
                "#B0BEC5",
                "#B0BEC5",
                "#B0BEC5",
                "#B0BEC5",
                "#B0BEC5",
                "#B0BEC5",
                "#B0BEC5",
                "#B0BEC5",
                "#B0BEC5",
                "#B0BEC5",
                "#B0BEC5",
                "#B0BEC5",
                "#B0BEC5",
                "#B0BEC5",
                "#B0BEC5",
                "#B0BEC5",
                "#B0BEC5",
                "#B0BEC5",
                "#B0BEC5",
                "#B0BEC5",
                "#B0BEC5",
                "#B0BEC5",
                "#B0BEC5",
                "#B0BEC5",
                "#B0BEC5",
                "#B0BEC5",
                "#B0BEC5",
                "#B0BEC5",
                "red",
                "#B0BEC5",
                "#B0BEC5"
               ]
              ]
             }
            ],
            "label": "Topic 60",
            "method": "update"
           },
           {
            "args": [
             {
              "marker.color": [
               [
                "#B0BEC5",
                "#B0BEC5",
                "#B0BEC5",
                "#B0BEC5",
                "#B0BEC5",
                "#B0BEC5",
                "#B0BEC5",
                "#B0BEC5",
                "#B0BEC5",
                "#B0BEC5",
                "#B0BEC5",
                "#B0BEC5",
                "#B0BEC5",
                "#B0BEC5",
                "#B0BEC5",
                "#B0BEC5",
                "#B0BEC5",
                "#B0BEC5",
                "#B0BEC5",
                "#B0BEC5",
                "#B0BEC5",
                "#B0BEC5",
                "#B0BEC5",
                "#B0BEC5",
                "#B0BEC5",
                "#B0BEC5",
                "#B0BEC5",
                "#B0BEC5",
                "#B0BEC5",
                "#B0BEC5",
                "#B0BEC5",
                "#B0BEC5",
                "#B0BEC5",
                "#B0BEC5",
                "#B0BEC5",
                "#B0BEC5",
                "#B0BEC5",
                "#B0BEC5",
                "#B0BEC5",
                "#B0BEC5",
                "#B0BEC5",
                "#B0BEC5",
                "#B0BEC5",
                "#B0BEC5",
                "#B0BEC5",
                "#B0BEC5",
                "#B0BEC5",
                "#B0BEC5",
                "#B0BEC5",
                "#B0BEC5",
                "#B0BEC5",
                "#B0BEC5",
                "#B0BEC5",
                "#B0BEC5",
                "#B0BEC5",
                "#B0BEC5",
                "#B0BEC5",
                "#B0BEC5",
                "#B0BEC5",
                "#B0BEC5",
                "#B0BEC5",
                "red",
                "#B0BEC5"
               ]
              ]
             }
            ],
            "label": "Topic 61",
            "method": "update"
           },
           {
            "args": [
             {
              "marker.color": [
               [
                "#B0BEC5",
                "#B0BEC5",
                "#B0BEC5",
                "#B0BEC5",
                "#B0BEC5",
                "#B0BEC5",
                "#B0BEC5",
                "#B0BEC5",
                "#B0BEC5",
                "#B0BEC5",
                "#B0BEC5",
                "#B0BEC5",
                "#B0BEC5",
                "#B0BEC5",
                "#B0BEC5",
                "#B0BEC5",
                "#B0BEC5",
                "#B0BEC5",
                "#B0BEC5",
                "#B0BEC5",
                "#B0BEC5",
                "#B0BEC5",
                "#B0BEC5",
                "#B0BEC5",
                "#B0BEC5",
                "#B0BEC5",
                "#B0BEC5",
                "#B0BEC5",
                "#B0BEC5",
                "#B0BEC5",
                "#B0BEC5",
                "#B0BEC5",
                "#B0BEC5",
                "#B0BEC5",
                "#B0BEC5",
                "#B0BEC5",
                "#B0BEC5",
                "#B0BEC5",
                "#B0BEC5",
                "#B0BEC5",
                "#B0BEC5",
                "#B0BEC5",
                "#B0BEC5",
                "#B0BEC5",
                "#B0BEC5",
                "#B0BEC5",
                "#B0BEC5",
                "#B0BEC5",
                "#B0BEC5",
                "#B0BEC5",
                "#B0BEC5",
                "#B0BEC5",
                "#B0BEC5",
                "#B0BEC5",
                "#B0BEC5",
                "#B0BEC5",
                "#B0BEC5",
                "#B0BEC5",
                "#B0BEC5",
                "#B0BEC5",
                "#B0BEC5",
                "#B0BEC5",
                "red"
               ]
              ]
             }
            ],
            "label": "Topic 62",
            "method": "update"
           }
          ]
         }
        ],
        "template": {
         "data": {
          "bar": [
           {
            "error_x": {
             "color": "rgb(36,36,36)"
            },
            "error_y": {
             "color": "rgb(36,36,36)"
            },
            "marker": {
             "line": {
              "color": "white",
              "width": 0.5
             },
             "pattern": {
              "fillmode": "overlay",
              "size": 10,
              "solidity": 0.2
             }
            },
            "type": "bar"
           }
          ],
          "barpolar": [
           {
            "marker": {
             "line": {
              "color": "white",
              "width": 0.5
             },
             "pattern": {
              "fillmode": "overlay",
              "size": 10,
              "solidity": 0.2
             }
            },
            "type": "barpolar"
           }
          ],
          "carpet": [
           {
            "aaxis": {
             "endlinecolor": "rgb(36,36,36)",
             "gridcolor": "white",
             "linecolor": "white",
             "minorgridcolor": "white",
             "startlinecolor": "rgb(36,36,36)"
            },
            "baxis": {
             "endlinecolor": "rgb(36,36,36)",
             "gridcolor": "white",
             "linecolor": "white",
             "minorgridcolor": "white",
             "startlinecolor": "rgb(36,36,36)"
            },
            "type": "carpet"
           }
          ],
          "choropleth": [
           {
            "colorbar": {
             "outlinewidth": 1,
             "tickcolor": "rgb(36,36,36)",
             "ticks": "outside"
            },
            "type": "choropleth"
           }
          ],
          "contour": [
           {
            "colorbar": {
             "outlinewidth": 1,
             "tickcolor": "rgb(36,36,36)",
             "ticks": "outside"
            },
            "colorscale": [
             [
              0,
              "#440154"
             ],
             [
              0.1111111111111111,
              "#482878"
             ],
             [
              0.2222222222222222,
              "#3e4989"
             ],
             [
              0.3333333333333333,
              "#31688e"
             ],
             [
              0.4444444444444444,
              "#26828e"
             ],
             [
              0.5555555555555556,
              "#1f9e89"
             ],
             [
              0.6666666666666666,
              "#35b779"
             ],
             [
              0.7777777777777778,
              "#6ece58"
             ],
             [
              0.8888888888888888,
              "#b5de2b"
             ],
             [
              1,
              "#fde725"
             ]
            ],
            "type": "contour"
           }
          ],
          "contourcarpet": [
           {
            "colorbar": {
             "outlinewidth": 1,
             "tickcolor": "rgb(36,36,36)",
             "ticks": "outside"
            },
            "type": "contourcarpet"
           }
          ],
          "heatmap": [
           {
            "colorbar": {
             "outlinewidth": 1,
             "tickcolor": "rgb(36,36,36)",
             "ticks": "outside"
            },
            "colorscale": [
             [
              0,
              "#440154"
             ],
             [
              0.1111111111111111,
              "#482878"
             ],
             [
              0.2222222222222222,
              "#3e4989"
             ],
             [
              0.3333333333333333,
              "#31688e"
             ],
             [
              0.4444444444444444,
              "#26828e"
             ],
             [
              0.5555555555555556,
              "#1f9e89"
             ],
             [
              0.6666666666666666,
              "#35b779"
             ],
             [
              0.7777777777777778,
              "#6ece58"
             ],
             [
              0.8888888888888888,
              "#b5de2b"
             ],
             [
              1,
              "#fde725"
             ]
            ],
            "type": "heatmap"
           }
          ],
          "heatmapgl": [
           {
            "colorbar": {
             "outlinewidth": 1,
             "tickcolor": "rgb(36,36,36)",
             "ticks": "outside"
            },
            "colorscale": [
             [
              0,
              "#440154"
             ],
             [
              0.1111111111111111,
              "#482878"
             ],
             [
              0.2222222222222222,
              "#3e4989"
             ],
             [
              0.3333333333333333,
              "#31688e"
             ],
             [
              0.4444444444444444,
              "#26828e"
             ],
             [
              0.5555555555555556,
              "#1f9e89"
             ],
             [
              0.6666666666666666,
              "#35b779"
             ],
             [
              0.7777777777777778,
              "#6ece58"
             ],
             [
              0.8888888888888888,
              "#b5de2b"
             ],
             [
              1,
              "#fde725"
             ]
            ],
            "type": "heatmapgl"
           }
          ],
          "histogram": [
           {
            "marker": {
             "line": {
              "color": "white",
              "width": 0.6
             }
            },
            "type": "histogram"
           }
          ],
          "histogram2d": [
           {
            "colorbar": {
             "outlinewidth": 1,
             "tickcolor": "rgb(36,36,36)",
             "ticks": "outside"
            },
            "colorscale": [
             [
              0,
              "#440154"
             ],
             [
              0.1111111111111111,
              "#482878"
             ],
             [
              0.2222222222222222,
              "#3e4989"
             ],
             [
              0.3333333333333333,
              "#31688e"
             ],
             [
              0.4444444444444444,
              "#26828e"
             ],
             [
              0.5555555555555556,
              "#1f9e89"
             ],
             [
              0.6666666666666666,
              "#35b779"
             ],
             [
              0.7777777777777778,
              "#6ece58"
             ],
             [
              0.8888888888888888,
              "#b5de2b"
             ],
             [
              1,
              "#fde725"
             ]
            ],
            "type": "histogram2d"
           }
          ],
          "histogram2dcontour": [
           {
            "colorbar": {
             "outlinewidth": 1,
             "tickcolor": "rgb(36,36,36)",
             "ticks": "outside"
            },
            "colorscale": [
             [
              0,
              "#440154"
             ],
             [
              0.1111111111111111,
              "#482878"
             ],
             [
              0.2222222222222222,
              "#3e4989"
             ],
             [
              0.3333333333333333,
              "#31688e"
             ],
             [
              0.4444444444444444,
              "#26828e"
             ],
             [
              0.5555555555555556,
              "#1f9e89"
             ],
             [
              0.6666666666666666,
              "#35b779"
             ],
             [
              0.7777777777777778,
              "#6ece58"
             ],
             [
              0.8888888888888888,
              "#b5de2b"
             ],
             [
              1,
              "#fde725"
             ]
            ],
            "type": "histogram2dcontour"
           }
          ],
          "mesh3d": [
           {
            "colorbar": {
             "outlinewidth": 1,
             "tickcolor": "rgb(36,36,36)",
             "ticks": "outside"
            },
            "type": "mesh3d"
           }
          ],
          "parcoords": [
           {
            "line": {
             "colorbar": {
              "outlinewidth": 1,
              "tickcolor": "rgb(36,36,36)",
              "ticks": "outside"
             }
            },
            "type": "parcoords"
           }
          ],
          "pie": [
           {
            "automargin": true,
            "type": "pie"
           }
          ],
          "scatter": [
           {
            "fillpattern": {
             "fillmode": "overlay",
             "size": 10,
             "solidity": 0.2
            },
            "type": "scatter"
           }
          ],
          "scatter3d": [
           {
            "line": {
             "colorbar": {
              "outlinewidth": 1,
              "tickcolor": "rgb(36,36,36)",
              "ticks": "outside"
             }
            },
            "marker": {
             "colorbar": {
              "outlinewidth": 1,
              "tickcolor": "rgb(36,36,36)",
              "ticks": "outside"
             }
            },
            "type": "scatter3d"
           }
          ],
          "scattercarpet": [
           {
            "marker": {
             "colorbar": {
              "outlinewidth": 1,
              "tickcolor": "rgb(36,36,36)",
              "ticks": "outside"
             }
            },
            "type": "scattercarpet"
           }
          ],
          "scattergeo": [
           {
            "marker": {
             "colorbar": {
              "outlinewidth": 1,
              "tickcolor": "rgb(36,36,36)",
              "ticks": "outside"
             }
            },
            "type": "scattergeo"
           }
          ],
          "scattergl": [
           {
            "marker": {
             "colorbar": {
              "outlinewidth": 1,
              "tickcolor": "rgb(36,36,36)",
              "ticks": "outside"
             }
            },
            "type": "scattergl"
           }
          ],
          "scattermapbox": [
           {
            "marker": {
             "colorbar": {
              "outlinewidth": 1,
              "tickcolor": "rgb(36,36,36)",
              "ticks": "outside"
             }
            },
            "type": "scattermapbox"
           }
          ],
          "scatterpolar": [
           {
            "marker": {
             "colorbar": {
              "outlinewidth": 1,
              "tickcolor": "rgb(36,36,36)",
              "ticks": "outside"
             }
            },
            "type": "scatterpolar"
           }
          ],
          "scatterpolargl": [
           {
            "marker": {
             "colorbar": {
              "outlinewidth": 1,
              "tickcolor": "rgb(36,36,36)",
              "ticks": "outside"
             }
            },
            "type": "scatterpolargl"
           }
          ],
          "scatterternary": [
           {
            "marker": {
             "colorbar": {
              "outlinewidth": 1,
              "tickcolor": "rgb(36,36,36)",
              "ticks": "outside"
             }
            },
            "type": "scatterternary"
           }
          ],
          "surface": [
           {
            "colorbar": {
             "outlinewidth": 1,
             "tickcolor": "rgb(36,36,36)",
             "ticks": "outside"
            },
            "colorscale": [
             [
              0,
              "#440154"
             ],
             [
              0.1111111111111111,
              "#482878"
             ],
             [
              0.2222222222222222,
              "#3e4989"
             ],
             [
              0.3333333333333333,
              "#31688e"
             ],
             [
              0.4444444444444444,
              "#26828e"
             ],
             [
              0.5555555555555556,
              "#1f9e89"
             ],
             [
              0.6666666666666666,
              "#35b779"
             ],
             [
              0.7777777777777778,
              "#6ece58"
             ],
             [
              0.8888888888888888,
              "#b5de2b"
             ],
             [
              1,
              "#fde725"
             ]
            ],
            "type": "surface"
           }
          ],
          "table": [
           {
            "cells": {
             "fill": {
              "color": "rgb(237,237,237)"
             },
             "line": {
              "color": "white"
             }
            },
            "header": {
             "fill": {
              "color": "rgb(217,217,217)"
             },
             "line": {
              "color": "white"
             }
            },
            "type": "table"
           }
          ]
         },
         "layout": {
          "annotationdefaults": {
           "arrowhead": 0,
           "arrowwidth": 1
          },
          "autotypenumbers": "strict",
          "coloraxis": {
           "colorbar": {
            "outlinewidth": 1,
            "tickcolor": "rgb(36,36,36)",
            "ticks": "outside"
           }
          },
          "colorscale": {
           "diverging": [
            [
             0,
             "rgb(103,0,31)"
            ],
            [
             0.1,
             "rgb(178,24,43)"
            ],
            [
             0.2,
             "rgb(214,96,77)"
            ],
            [
             0.3,
             "rgb(244,165,130)"
            ],
            [
             0.4,
             "rgb(253,219,199)"
            ],
            [
             0.5,
             "rgb(247,247,247)"
            ],
            [
             0.6,
             "rgb(209,229,240)"
            ],
            [
             0.7,
             "rgb(146,197,222)"
            ],
            [
             0.8,
             "rgb(67,147,195)"
            ],
            [
             0.9,
             "rgb(33,102,172)"
            ],
            [
             1,
             "rgb(5,48,97)"
            ]
           ],
           "sequential": [
            [
             0,
             "#440154"
            ],
            [
             0.1111111111111111,
             "#482878"
            ],
            [
             0.2222222222222222,
             "#3e4989"
            ],
            [
             0.3333333333333333,
             "#31688e"
            ],
            [
             0.4444444444444444,
             "#26828e"
            ],
            [
             0.5555555555555556,
             "#1f9e89"
            ],
            [
             0.6666666666666666,
             "#35b779"
            ],
            [
             0.7777777777777778,
             "#6ece58"
            ],
            [
             0.8888888888888888,
             "#b5de2b"
            ],
            [
             1,
             "#fde725"
            ]
           ],
           "sequentialminus": [
            [
             0,
             "#440154"
            ],
            [
             0.1111111111111111,
             "#482878"
            ],
            [
             0.2222222222222222,
             "#3e4989"
            ],
            [
             0.3333333333333333,
             "#31688e"
            ],
            [
             0.4444444444444444,
             "#26828e"
            ],
            [
             0.5555555555555556,
             "#1f9e89"
            ],
            [
             0.6666666666666666,
             "#35b779"
            ],
            [
             0.7777777777777778,
             "#6ece58"
            ],
            [
             0.8888888888888888,
             "#b5de2b"
            ],
            [
             1,
             "#fde725"
            ]
           ]
          },
          "colorway": [
           "#1F77B4",
           "#FF7F0E",
           "#2CA02C",
           "#D62728",
           "#9467BD",
           "#8C564B",
           "#E377C2",
           "#7F7F7F",
           "#BCBD22",
           "#17BECF"
          ],
          "font": {
           "color": "rgb(36,36,36)"
          },
          "geo": {
           "bgcolor": "white",
           "lakecolor": "white",
           "landcolor": "white",
           "showlakes": true,
           "showland": true,
           "subunitcolor": "white"
          },
          "hoverlabel": {
           "align": "left"
          },
          "hovermode": "closest",
          "mapbox": {
           "style": "light"
          },
          "paper_bgcolor": "white",
          "plot_bgcolor": "white",
          "polar": {
           "angularaxis": {
            "gridcolor": "rgb(232,232,232)",
            "linecolor": "rgb(36,36,36)",
            "showgrid": false,
            "showline": true,
            "ticks": "outside"
           },
           "bgcolor": "white",
           "radialaxis": {
            "gridcolor": "rgb(232,232,232)",
            "linecolor": "rgb(36,36,36)",
            "showgrid": false,
            "showline": true,
            "ticks": "outside"
           }
          },
          "scene": {
           "xaxis": {
            "backgroundcolor": "white",
            "gridcolor": "rgb(232,232,232)",
            "gridwidth": 2,
            "linecolor": "rgb(36,36,36)",
            "showbackground": true,
            "showgrid": false,
            "showline": true,
            "ticks": "outside",
            "zeroline": false,
            "zerolinecolor": "rgb(36,36,36)"
           },
           "yaxis": {
            "backgroundcolor": "white",
            "gridcolor": "rgb(232,232,232)",
            "gridwidth": 2,
            "linecolor": "rgb(36,36,36)",
            "showbackground": true,
            "showgrid": false,
            "showline": true,
            "ticks": "outside",
            "zeroline": false,
            "zerolinecolor": "rgb(36,36,36)"
           },
           "zaxis": {
            "backgroundcolor": "white",
            "gridcolor": "rgb(232,232,232)",
            "gridwidth": 2,
            "linecolor": "rgb(36,36,36)",
            "showbackground": true,
            "showgrid": false,
            "showline": true,
            "ticks": "outside",
            "zeroline": false,
            "zerolinecolor": "rgb(36,36,36)"
           }
          },
          "shapedefaults": {
           "fillcolor": "black",
           "line": {
            "width": 0
           },
           "opacity": 0.3
          },
          "ternary": {
           "aaxis": {
            "gridcolor": "rgb(232,232,232)",
            "linecolor": "rgb(36,36,36)",
            "showgrid": false,
            "showline": true,
            "ticks": "outside"
           },
           "baxis": {
            "gridcolor": "rgb(232,232,232)",
            "linecolor": "rgb(36,36,36)",
            "showgrid": false,
            "showline": true,
            "ticks": "outside"
           },
           "bgcolor": "white",
           "caxis": {
            "gridcolor": "rgb(232,232,232)",
            "linecolor": "rgb(36,36,36)",
            "showgrid": false,
            "showline": true,
            "ticks": "outside"
           }
          },
          "title": {
           "x": 0.05
          },
          "xaxis": {
           "automargin": true,
           "gridcolor": "rgb(232,232,232)",
           "linecolor": "rgb(36,36,36)",
           "showgrid": false,
           "showline": true,
           "ticks": "outside",
           "title": {
            "standoff": 15
           },
           "zeroline": false,
           "zerolinecolor": "rgb(36,36,36)"
          },
          "yaxis": {
           "automargin": true,
           "gridcolor": "rgb(232,232,232)",
           "linecolor": "rgb(36,36,36)",
           "showgrid": false,
           "showline": true,
           "ticks": "outside",
           "title": {
            "standoff": 15
           },
           "zeroline": false,
           "zerolinecolor": "rgb(36,36,36)"
          }
         }
        },
        "title": {
         "font": {
          "color": "Black",
          "size": 22
         },
         "text": "<b>Intertopic Distance Map</b>",
         "x": 0.5,
         "xanchor": "center",
         "y": 0.95,
         "yanchor": "top"
        },
        "width": 650,
        "xaxis": {
         "anchor": "y",
         "domain": [
          0,
          1
         ],
         "range": [
          -17.34033179283142,
          28.203139781951904
         ],
         "title": {
          "text": ""
         },
         "visible": false
        },
        "yaxis": {
         "anchor": "x",
         "domain": [
          0,
          1
         ],
         "range": [
          -4.601585865020752,
          22.014936542510988
         ],
         "title": {
          "text": ""
         },
         "visible": false
        }
       }
      }
     },
     "metadata": {},
     "output_type": "display_data"
    }
   ],
   "source": [
    "fig_bert_moche = topic_model.visualize_topics()\n",
    "fig_bert_moche"
   ]
  },
  {
   "cell_type": "code",
   "execution_count": 40,
   "id": "b82860da",
   "metadata": {},
   "outputs": [],
   "source": [
    "fig_bert_moche.write_html(\"fig_bert_moche.html\")"
   ]
  },
  {
   "cell_type": "code",
   "execution_count": 41,
   "id": "d7b8b833",
   "metadata": {},
   "outputs": [],
   "source": [
    "bert_moche = topic_model.get_topic_info()\n",
    "bert_moche.to_csv(\"../data/intermediate/bert_moche.csv\")"
   ]
  },
  {
   "cell_type": "code",
   "execution_count": null,
   "id": "2495e5da",
   "metadata": {},
   "outputs": [
    {
     "name": "stderr",
     "output_type": "stream",
     "text": [
      "2025-06-29 23:19:18,414 - BERTopic - WARNING: When you use `pickle` to save/load a BERTopic model,please make sure that the environments in which you saveand load the model are **exactly** the same. The version of BERTopic,its dependencies, and python need to remain the same.\n"
     ]
    }
   ],
   "source": [
    "topic_model.save(\"../models/bert/modele_bert_moche\", save_embedding_model=True)"
   ]
  },
  {
   "cell_type": "markdown",
   "id": "e10effd2",
   "metadata": {},
   "source": [
    "## Dynamic topic model"
   ]
  },
  {
   "cell_type": "markdown",
   "id": "7c6f0514",
   "metadata": {},
   "source": [
    "There are a few important parameters that you should take note of, namely:\n",
    "\n",
    "* `docs`\n",
    "  * These are the tweets that we are using\n",
    "* `timestamps`\n",
    "  * The timestamp of each tweet/document\n",
    "* `global_tuning`\n",
    "  * Whether to average the topic representation of a topic at time *t* with its global topic representation\n",
    "* `evolution_tuning`\n",
    "  * Whether to average the topic representation of a topic at time *t* with the topic representation of that topic at time *t-1*\n",
    "* `nr_bins`\n",
    "  * The number of bins to put our timestamps into. It is computationally inefficient to extract the topics at thousands of different timestamps. Therefore, it is advised to keep this value below 20.\n"
   ]
  },
  {
   "cell_type": "code",
   "execution_count": 54,
   "id": "f3a7a041",
   "metadata": {},
   "outputs": [],
   "source": [
    "# Idée de base :\n",
    "# topics_over_time = model.topics_over_time(documents, timestamps)\n",
    "# model.visualize_topics_over_time(topics_over_time)\n",
    "\n",
    "topics_over_time = topic_model.topics_over_time(\n",
    "    docs=df[\"Texte_clean\"],\n",
    "    timestamps=df[\"DateSeance_ts\"],\n",
    "    global_tuning=True,\n",
    "    evolution_tuning=True,\n",
    "    nr_bins=20,\n",
    ")"
   ]
  },
  {
   "cell_type": "code",
   "execution_count": 55,
   "id": "162d2bed",
   "metadata": {},
   "outputs": [
    {
     "data": {
      "application/vnd.plotly.v1+json": {
       "config": {
        "plotlyServerURL": "https://plot.ly"
       },
       "data": [
        {
         "hoverinfo": "text",
         "hovertext": [
          "<b>Topic 0</b><br>Words: projet, laïcité, république, loi, contre",
          "<b>Topic 0</b><br>Words: européenne, france, traité, plus, république",
          "<b>Topic 0</b><br>Words: paix, unies, nations, ukrainien, république",
          "<b>Topic 0</b><br>Words: république, plus, cette, procureur, être",
          "<b>Topic 0</b><br>Words: plus, république, france, coopération, entre",
          "<b>Topic 0</b><br>Words: république, plus, cette, loi, france",
          "<b>Topic 0</b><br>Words: république, france, européenne, français, plus",
          "<b>Topic 0</b><br>Words: procureur, république, douaniers, plus, justice",
          "<b>Topic 0</b><br>Words: plus, faire, france, loi, république",
          "<b>Topic 0</b><br>Words: plus, république, justice, cette, loi",
          "<b>Topic 0</b><br>Words: plus, france, république, pays, français",
          "<b>Topic 0</b><br>Words: république, procureur, plus, justice, cette",
          "<b>Topic 0</b><br>Words: plus, france, république, français, droit"
         ],
         "marker": {
          "color": "#E69F00"
         },
         "mode": "lines",
         "name": "0_république_plus_france_cette",
         "type": "scatter",
         "x": [
          "2021-01-31T10:40:22.800000",
          "2022-06-05T10:48:00",
          "2022-08-05T13:09:00",
          "2022-10-05T15:30:00",
          "2022-12-05T17:51:00",
          "2023-02-04T20:12:00",
          "2023-04-06T22:33:00",
          "2023-06-07T00:54:00",
          "2023-08-07T03:15:00",
          "2023-10-07T05:36:00",
          "2023-12-07T07:57:00",
          "2024-02-06T10:18:00",
          "2024-04-07T12:39:00"
         ],
         "y": [
          9,
          36,
          9,
          96,
          30,
          69,
          37,
          127,
          14,
          85,
          63,
          42,
          32
         ]
        },
        {
         "hoverinfo": "text",
         "hovertext": [
          "<b>Topic 1</b><br>Words: principes, loi, république, texte, être",
          "<b>Topic 1</b><br>Words: république, gouvernement, dgccrf, assemblée, cette",
          "<b>Topic 1</b><br>Words: droits, concitoyennes, encore, réforme, point",
          "<b>Topic 1</b><br>Words: république, loi, gouvernement, plus, droit",
          "<b>Topic 1</b><br>Words: plus, république, comme, être, cette",
          "<b>Topic 1</b><br>Words: république, cette, immigration, plus, loi",
          "<b>Topic 1</b><br>Words: république, texte, plus, amendement, cette",
          "<b>Topic 1</b><br>Words: république, plus, cette, loi, texte",
          "<b>Topic 1</b><br>Words: quinze, heures, république, article, pornographie",
          "<b>Topic 1</b><br>Words: sport, loi, république, cette, plus",
          "<b>Topic 1</b><br>Words: immigration, loi, plus, texte, république",
          "<b>Topic 1</b><br>Words: élus, république, loi, texte, être",
          "<b>Topic 1</b><br>Words: loi, plus, texte, être, cette"
         ],
         "marker": {
          "color": "#56B4E9"
         },
         "mode": "lines",
         "name": "1_république_loi_plus_cette",
         "type": "scatter",
         "x": [
          "2021-01-31T10:40:22.800000",
          "2022-06-05T10:48:00",
          "2022-08-05T13:09:00",
          "2022-10-05T15:30:00",
          "2022-12-05T17:51:00",
          "2023-02-04T20:12:00",
          "2023-04-06T22:33:00",
          "2023-06-07T00:54:00",
          "2023-08-07T03:15:00",
          "2023-10-07T05:36:00",
          "2023-12-07T07:57:00",
          "2024-02-06T10:18:00",
          "2024-04-07T12:39:00"
         ],
         "y": [
          6,
          19,
          3,
          66,
          51,
          51,
          37,
          57,
          11,
          38,
          79,
          36,
          32
         ]
        },
        {
         "hoverinfo": "text",
         "hovertext": [
          "<b>Topic 2</b><br>Words: liberté, école, enfant, république, pouvoir",
          "<b>Topic 2</b><br>Words: plus, république, si, cette, comme",
          "<b>Topic 2</b><br>Words: russie, plus, ukraine, travail, droit",
          "<b>Topic 2</b><br>Words: plus, cette, police, santé, république",
          "<b>Topic 2</b><br>Words: plus, cette, marins, exploitation, fonds",
          "<b>Topic 2</b><br>Words: plus, cette, santé, tous, loi",
          "<b>Topic 2</b><br>Words: santé, hôpital, plus, soins, cette",
          "<b>Topic 2</b><br>Words: santé, plus, soins, république, cette",
          "<b>Topic 2</b><br>Words: emploi, eau, opp, pôle, rsa",
          "<b>Topic 2</b><br>Words: plus, cette, santé, être, tests",
          "<b>Topic 2</b><br>Words: plus, loi, cette, langues, droit",
          "<b>Topic 2</b><br>Words: plus, ukraine, cette, droit, république",
          "<b>Topic 2</b><br>Words: langues, langue, régionales, cette, loi"
         ],
         "marker": {
          "color": "#009E73"
         },
         "mode": "lines",
         "name": "2_plus_cette_santé_comme",
         "type": "scatter",
         "x": [
          "2021-01-31T10:40:22.800000",
          "2022-06-05T10:48:00",
          "2022-08-05T13:09:00",
          "2022-10-05T15:30:00",
          "2022-12-05T17:51:00",
          "2023-02-04T20:12:00",
          "2023-04-06T22:33:00",
          "2023-06-07T00:54:00",
          "2023-08-07T03:15:00",
          "2023-10-07T05:36:00",
          "2023-12-07T07:57:00",
          "2024-02-06T10:18:00",
          "2024-04-07T12:39:00"
         ],
         "y": [
          3,
          32,
          7,
          58,
          21,
          51,
          28,
          43,
          9,
          38,
          40,
          28,
          47
         ]
        },
        {
         "hoverinfo": "text",
         "hovertext": [
          "<b>Topic 3</b><br>Words: instruction, famille, enseignement, république, chaque",
          "<b>Topic 3</b><br>Words: école, élèves, éducation, handicap, jeunesse",
          "<b>Topic 3</b><br>Words: accompagnement, départementales, notification, handicapées, attendant",
          "<b>Topic 3</b><br>Words: élèves, école, enfants, éducation, république",
          "<b>Topic 3</b><br>Words: école, élèves, éducation, scolaire, enseignants",
          "<b>Topic 3</b><br>Words: école, élèves, enfants, éducation, parents",
          "<b>Topic 3</b><br>Words: élèves, école, éducation, plus, enseignants",
          "<b>Topic 3</b><br>Words: ensa, école, élèves, architectes, enseignants",
          "<b>Topic 3</b><br>Words: handicap, élèves, école, promesse, éducation",
          "<b>Topic 3</b><br>Words: école, élèves, enfants, éducation, enseignants",
          "<b>Topic 3</b><br>Words: école, élèves, parents, enseignants, éducation",
          "<b>Topic 3</b><br>Words: école, élèves, éducation, enfants, plus",
          "<b>Topic 3</b><br>Words: élèves, école, enfants, éducation, aesh"
         ],
         "marker": {
          "color": "#F0E442"
         },
         "mode": "lines",
         "name": "3_école_élèves_éducation_enfants",
         "type": "scatter",
         "x": [
          "2021-01-31T10:40:22.800000",
          "2022-06-05T10:48:00",
          "2022-08-05T13:09:00",
          "2022-10-05T15:30:00",
          "2022-12-05T17:51:00",
          "2023-02-04T20:12:00",
          "2023-04-06T22:33:00",
          "2023-06-07T00:54:00",
          "2023-08-07T03:15:00",
          "2023-10-07T05:36:00",
          "2023-12-07T07:57:00",
          "2024-02-06T10:18:00",
          "2024-04-07T12:39:00"
         ],
         "y": [
          1,
          14,
          1,
          31,
          60,
          42,
          18,
          15,
          5,
          37,
          67,
          44,
          34
         ]
        },
        {
         "hoverinfo": "text",
         "hovertext": [
          "<b>Topic 4</b><br>Words: séparation, état, indifférent, ni, êtres",
          "<b>Topic 4</b><br>Words: finances, martinique, ceux, antisémitisme, milliards",
          "<b>Topic 4</b><br>Words: collectivités, euros, finances, plus, budget",
          "<b>Topic 4</b><br>Words: encore, cette, plus, contre, comme",
          "<b>Topic 4</b><br>Words: cette, plus, république, comme, faire",
          "<b>Topic 4</b><br>Words: israël, comme, lpm, cette, état",
          "<b>Topic 4</b><br>Words: quartiers, plus, avignon, état, ville",
          "<b>Topic 4</b><br>Words: milliards, plus, devoirs, croissance, économies",
          "<b>Topic 4</b><br>Words: antisémitisme, plus, israël, république, comme",
          "<b>Topic 4</b><br>Words: antisémitisme, contre, plus, république, comme",
          "<b>Topic 4</b><br>Words: antisémitisme, plus, racisme, haine, contre",
          "<b>Topic 4</b><br>Words: déficit, finances, économies, prévisions, comme"
         ],
         "marker": {
          "color": "#D55E00"
         },
         "mode": "lines",
         "name": "4_plus_antisémitisme_comme_cette",
         "type": "scatter",
         "x": [
          "2021-01-31T10:40:22.800000",
          "2022-06-05T10:48:00",
          "2022-10-05T15:30:00",
          "2022-12-05T17:51:00",
          "2023-02-04T20:12:00",
          "2023-04-06T22:33:00",
          "2023-06-07T00:54:00",
          "2023-08-07T03:15:00",
          "2023-10-07T05:36:00",
          "2023-12-07T07:57:00",
          "2024-02-06T10:18:00",
          "2024-04-07T12:39:00"
         ],
         "y": [
          1,
          14,
          32,
          11,
          11,
          14,
          13,
          4,
          56,
          16,
          46,
          7
         ]
        },
        {
         "hoverinfo": "text",
         "hovertext": [
          "<b>Topic 5</b><br>Words: malade, approfondi, état, président, pluralité",
          "<b>Topic 5</b><br>Words: républicains, combattu, dénoncé, loi, comme",
          "<b>Topic 5</b><br>Words: enkyste, dotait, brandit, préoccupé, jour",
          "<b>Topic 5</b><br>Words: plus, ville, république, fait, teuira",
          "<b>Topic 5</b><br>Words: faire, territoires, âge, république, droite",
          "<b>Topic 5</b><br>Words: retraite, communes, république, loi, retraites",
          "<b>Topic 5</b><br>Words: territoires, république, moruroa, plus, atoll",
          "<b>Topic 5</b><br>Words: communes, loi, transfert, assainissement, communautés",
          "<b>Topic 5</b><br>Words: droit, inconditionnel, croyez, humain, république",
          "<b>Topic 5</b><br>Words: budget, plus, sécurité, argent, sociale",
          "<b>Topic 5</b><br>Words: ferez, croire, morale, monsieur, républicain",
          "<b>Topic 5</b><br>Words: régions, victoire, droit, jour, confiance",
          "<b>Topic 5</b><br>Words: laïcité, délégation, mer, outre, tout"
         ],
         "marker": {
          "color": "#0072B2"
         },
         "mode": "lines",
         "name": "5_république_loi_plus_communes",
         "type": "scatter",
         "x": [
          "2021-01-31T10:40:22.800000",
          "2022-06-05T10:48:00",
          "2022-08-05T13:09:00",
          "2022-10-05T15:30:00",
          "2022-12-05T17:51:00",
          "2023-02-04T20:12:00",
          "2023-04-06T22:33:00",
          "2023-06-07T00:54:00",
          "2023-08-07T03:15:00",
          "2023-10-07T05:36:00",
          "2023-12-07T07:57:00",
          "2024-02-06T10:18:00",
          "2024-04-07T12:39:00"
         ],
         "y": [
          3,
          6,
          2,
          18,
          6,
          20,
          15,
          26,
          2,
          12,
          11,
          4,
          10
         ]
        },
        {
         "hoverinfo": "text",
         "hovertext": [
          "<b>Topic 6</b><br>Words: école, aussi, laïcité, loi, principes",
          "<b>Topic 6</b><br>Words: injuste, devront, renaissance, condition, passe",
          "<b>Topic 6</b><br>Words: paty, samuel, valeurs, enseignants, assassinat",
          "<b>Topic 6</b><br>Words: chefs, établissement, retranche, défiée, débrouiller",
          "<b>Topic 6</b><br>Words: contre, renforce, aquin, lycée, saint",
          "<b>Topic 6</b><br>Words: armée, chacun, bienvenu, théorie, différences",
          "<b>Topic 6</b><br>Words: trans, shaïna, ans, quotas, personnes",
          "<b>Topic 6</b><br>Words: école, paty, samuel, islamiste, terrorisme",
          "<b>Topic 6</b><br>Words: femmes, liberté, homosexualité, loi, cette"
         ],
         "marker": {
          "color": "#CC79A7"
         },
         "mode": "lines",
         "name": "6_femmes_paty_samuel_liberté",
         "type": "scatter",
         "x": [
          "2021-01-31T10:40:22.800000",
          "2022-06-05T10:48:00",
          "2022-10-05T15:30:00",
          "2022-12-05T17:51:00",
          "2023-02-04T20:12:00",
          "2023-04-06T22:33:00",
          "2023-06-07T00:54:00",
          "2023-10-07T05:36:00",
          "2024-02-06T10:18:00"
         ],
         "y": [
          2,
          1,
          8,
          1,
          3,
          3,
          5,
          25,
          11
         ]
        },
        {
         "hoverinfo": "text",
         "hovertext": [
          "<b>Topic 7</b><br>Words: sociale, chômeurs, vérité, sécurité, revenez",
          "<b>Topic 7</b><br>Words: sociale, sécurité, refusant, écouter, représentation",
          "<b>Topic 7</b><br>Words: contexte, sénégal, politique, macky, sall",
          "<b>Topic 7</b><br>Words: drapeau, tricolore, français, européen, france",
          "<b>Topic 7</b><br>Words: permet, sociale, sécurité, réjouir, fiers",
          "<b>Topic 7</b><br>Words: privés, éloignées, sociale, opérateurs, personnes",
          "<b>Topic 7</b><br>Words: afrique, pays, france, africains, drapeau",
          "<b>Topic 7</b><br>Words: resserrer, perdons, partenariats, solide, tellement",
          "<b>Topic 7</b><br>Words: persuader, désinformation, européennes, autocratie, investiture",
          "<b>Topic 7</b><br>Words: sociale, sécurité, constitution, constitutionnelle, drapeau"
         ],
         "marker": {
          "color": "#E69F00"
         },
         "mode": "lines",
         "name": "7_drapeau_afrique_sociale_sécurité",
         "type": "scatter",
         "x": [
          "2022-08-05T13:09:00",
          "2022-10-05T15:30:00",
          "2022-12-05T17:51:00",
          "2023-04-06T22:33:00",
          "2023-06-07T00:54:00",
          "2023-08-07T03:15:00",
          "2023-10-07T05:36:00",
          "2023-12-07T07:57:00",
          "2024-02-06T10:18:00",
          "2024-04-07T12:39:00"
         ],
         "y": [
          1,
          2,
          2,
          23,
          1,
          1,
          14,
          1,
          1,
          9
         ]
        },
        {
         "hoverinfo": "text",
         "hovertext": [
          "<b>Topic 8</b><br>Words: religion, cultes, république, laïcité, loi",
          "<b>Topic 8</b><br>Words: uber, macron, emmanuel, laïcité, pire",
          "<b>Topic 8</b><br>Words: laïcité, austérité, récession, religieux, république",
          "<b>Topic 8</b><br>Words: technocratique, emmanuel, macron, monopolisée, conseillé",
          "<b>Topic 8</b><br>Words: laïcité, loi, république, contre, macron",
          "<b>Topic 8</b><br>Words: quelconques, maladroite, agressives, affaiblissez, fêtes",
          "<b>Topic 8</b><br>Words: opposant, rappeler, réforme, emmanuel, macron",
          "<b>Topic 8</b><br>Words: religion, loi, macron, laïcité, réparerons",
          "<b>Topic 8</b><br>Words: gouverner, françois, recours, tel, gouverné",
          "<b>Topic 8</b><br>Words: laïcité, 1905, cultes, loi, état"
         ],
         "marker": {
          "color": "#56B4E9"
         },
         "mode": "lines",
         "name": "8_laïcité_loi_religion_1905",
         "type": "scatter",
         "x": [
          "2021-01-31T10:40:22.800000",
          "2022-06-05T10:48:00",
          "2022-10-05T15:30:00",
          "2022-12-05T17:51:00",
          "2023-02-04T20:12:00",
          "2023-04-06T22:33:00",
          "2023-06-07T00:54:00",
          "2023-12-07T07:57:00",
          "2024-02-06T10:18:00",
          "2024-04-07T12:39:00"
         ],
         "y": [
          8,
          3,
          4,
          2,
          8,
          1,
          2,
          11,
          2,
          13
         ]
        },
        {
         "hoverinfo": "text",
         "hovertext": [
          "<b>Topic 9</b><br>Words: femmes, constitution, fidèles, français, président",
          "<b>Topic 9</b><br>Words: constitution, ivg, nucléaire, droit, grossesse",
          "<b>Topic 9</b><br>Words: nucléaire, énergie, sûreté, réacteurs, verts",
          "<b>Topic 9</b><br>Words: dissuasion, nucléaire, arme, plus, roussel",
          "<b>Topic 9</b><br>Words: programmation, parlement, débat, armées, nucléaire",
          "<b>Topic 9</b><br>Words: nucléaire, électricité, importait, arenh, tarif",
          "<b>Topic 9</b><br>Words: ivg, droit, grossesse, interruption, liberté",
          "<b>Topic 9</b><br>Words: ivg, protection, liberté, nucléaire, ordonnance"
         ],
         "marker": {
          "color": "#009E73"
         },
         "mode": "lines",
         "name": "9_nucléaire_ivg_droit_dissuasion",
         "type": "scatter",
         "x": [
          "2022-06-05T10:48:00",
          "2022-10-05T15:30:00",
          "2023-02-04T20:12:00",
          "2023-04-06T22:33:00",
          "2023-06-07T00:54:00",
          "2023-10-07T05:36:00",
          "2023-12-07T07:57:00",
          "2024-02-06T10:18:00"
         ],
         "y": [
          1,
          6,
          10,
          7,
          1,
          2,
          5,
          7
         ]
        },
        {
         "hoverinfo": "text",
         "hovertext": [
          "<b>Topic 10</b><br>Words: nouvelle, calédonie, avenir, combat, forgée",
          "<b>Topic 10</b><br>Words: calédonie, nouvelle, devons, ensemble, nouméa",
          "<b>Topic 10</b><br>Words: calédonie, indépendantistes, nouvelle, accord, calédoniens",
          "<b>Topic 10</b><br>Words: calédonie, nouvelle, élections, accord, électoral",
          "<b>Topic 10</b><br>Words: calédonie, nouvelle, accord, élections, électoral"
         ],
         "marker": {
          "color": "#F0E442"
         },
         "mode": "lines",
         "name": "10_calédonie_nouvelle_accord_élections",
         "type": "scatter",
         "x": [
          "2022-06-05T10:48:00",
          "2022-12-05T17:51:00",
          "2023-10-07T05:36:00",
          "2024-02-06T10:18:00",
          "2024-04-07T12:39:00"
         ],
         "y": [
          2,
          1,
          2,
          6,
          18
         ]
        },
        {
         "hoverinfo": "text",
         "hovertext": [
          "<b>Topic 11</b><br>Words: police, défilons, insultez, famines, pancartes",
          "<b>Topic 11</b><br>Words: arménie, arménien, azerbaïdjan, karabakh, arméniens",
          "<b>Topic 11</b><br>Words: continuez, surprise, relâche, systématique, condamner",
          "<b>Topic 11</b><br>Words: arménie, leurs, élus, violence, manifestants",
          "<b>Topic 11</b><br>Words: leurs, magasins, pillés, arménie, élus",
          "<b>Topic 11</b><br>Words: arménie, arméniens, karabakh, azerbaïdjan, arménien",
          "<b>Topic 11</b><br>Words: arménie, 100, réfugiés, 000, face",
          "<b>Topic 11</b><br>Words: élus, arménie, république, agressions, amf",
          "<b>Topic 11</b><br>Words: mot, kanaks, jouent, européens, fort"
         ],
         "marker": {
          "color": "#D55E00"
         },
         "mode": "lines",
         "name": "11_arménie_arménien_azerbaïdjan_karabakh",
         "type": "scatter",
         "x": [
          "2022-06-05T10:48:00",
          "2022-10-05T15:30:00",
          "2023-02-04T20:12:00",
          "2023-04-06T22:33:00",
          "2023-06-07T00:54:00",
          "2023-08-07T03:15:00",
          "2023-12-07T07:57:00",
          "2024-02-06T10:18:00",
          "2024-04-07T12:39:00"
         ],
         "y": [
          1,
          11,
          1,
          2,
          4,
          3,
          1,
          3,
          1
         ]
        },
        {
         "hoverinfo": "text",
         "hovertext": [
          "<b>Topic 12</b><br>Words: polynésie, fonction, ordonnance, publique, communes",
          "<b>Topic 12</b><br>Words: polynésie, polynésiens, agents, fonction, fonctionnaires",
          "<b>Topic 12</b><br>Words: polynésie, brotherson, française, passion, découvrir",
          "<b>Topic 12</b><br>Words: polynésie, monétaire, pacifique, ieom, française",
          "<b>Topic 12</b><br>Words: polynésie, mer, outre, française, colonies",
          "<b>Topic 12</b><br>Words: polynésie, civen, polynésiens, argent, cps"
         ],
         "marker": {
          "color": "#0072B2"
         },
         "mode": "lines",
         "name": "12_polynésie_fonction_ordonnance_françai...",
         "type": "scatter",
         "x": [
          "2022-06-05T10:48:00",
          "2022-10-05T15:30:00",
          "2023-04-06T22:33:00",
          "2023-06-07T00:54:00",
          "2023-10-07T05:36:00",
          "2023-12-07T07:57:00"
         ],
         "y": [
          14,
          1,
          3,
          1,
          2,
          1
         ]
        },
        {
         "hoverinfo": "text",
         "hovertext": [
          "<b>Topic 13</b><br>Words: 49, plus, milliards, ministre, première",
          "<b>Topic 13</b><br>Words: échoué, plus, jamais, 49, pire",
          "<b>Topic 13</b><br>Words: moins, 49, fallu, jours, trois",
          "<b>Topic 13</b><br>Words: 49, textes, budgétaires, force, madame",
          "<b>Topic 13</b><br>Words: 49, vingt, borne, voilà, deux"
         ],
         "marker": {
          "color": "#CC79A7"
         },
         "mode": "lines",
         "name": "13_49_plus_première_ministre",
         "type": "scatter",
         "x": [
          "2022-10-05T15:30:00",
          "2023-06-07T00:54:00",
          "2023-08-07T03:15:00",
          "2023-10-07T05:36:00",
          "2023-12-07T07:57:00"
         ],
         "y": [
          8,
          1,
          2,
          5,
          2
         ]
        },
        {
         "hoverinfo": "text",
         "hovertext": [
          "<b>Topic 14</b><br>Words: étranger, humanité, lassana, fauche, bathily",
          "<b>Topic 14</b><br>Words: radicalisation, prévoit, sportives, loi, rien",
          "<b>Topic 14</b><br>Words: incendies, militaire, civile, génie, armées",
          "<b>Topic 14</b><br>Words: devons, étrangers, attentat, situation, menace",
          "<b>Topic 14</b><br>Words: algérie, accord, algériens, 1968, pays",
          "<b>Topic 14</b><br>Words: algérie, octobre, victimes, 1961, algériens",
          "<b>Topic 14</b><br>Words: résolution, exécuté, mû, chaldéens, incarnait"
         ],
         "marker": {
          "color": "#E69F00"
         },
         "mode": "lines",
         "name": "14_algérie_algériens_octobre_victimes",
         "type": "scatter",
         "x": [
          "2022-12-05T17:51:00",
          "2023-02-04T20:12:00",
          "2023-04-06T22:33:00",
          "2023-10-07T05:36:00",
          "2023-12-07T07:57:00",
          "2024-02-06T10:18:00",
          "2024-04-07T12:39:00"
         ],
         "y": [
          1,
          1,
          1,
          1,
          3,
          8,
          1
         ]
        },
        {
         "hoverinfo": "text",
         "hovertext": [
          "<b>Topic 15</b><br>Words: mélenchon, rejet, motion, république, préalable",
          "<b>Topic 15</b><br>Words: mélenchon, máximo, líder, apprendrez, troublés",
          "<b>Topic 15</b><br>Words: caricature, génie, oscar, ensanglantée, remémore",
          "<b>Topic 15</b><br>Words: mélenchon, présidente, haine, loi, rattachait"
         ],
         "marker": {
          "color": "#56B4E9"
         },
         "mode": "lines",
         "name": "15_mélenchon_rejet_république_motion",
         "type": "scatter",
         "x": [
          "2021-01-31T10:40:22.800000",
          "2023-02-04T20:12:00",
          "2023-06-07T00:54:00",
          "2023-10-07T05:36:00"
         ],
         "y": [
          8,
          1,
          1,
          2
         ]
        },
        {
         "hoverinfo": "text",
         "hovertext": [
          "<b>Topic 16</b><br>Words: électricité, tarifs, calédonie, nouvelle, polynésie",
          "<b>Topic 16</b><br>Words: renouvelables, énergies, augmentations, énergie, très",
          "<b>Topic 16</b><br>Words: renouvelables, énergies, foncier, agricoles, ni",
          "<b>Topic 16</b><br>Words: consommateur, action, démocratie, énergies, citoyen",
          "<b>Topic 16</b><br>Words: entreprise, végète, lingots, expédiés, gigafactory",
          "<b>Topic 16</b><br>Words: tarifs, réglementés, énergie, edf, recapitalisation"
         ],
         "marker": {
          "color": "#009E73"
         },
         "mode": "lines",
         "name": "16_tarifs_énergies_renouvelables_électri...",
         "type": "scatter",
         "x": [
          "2022-06-05T10:48:00",
          "2022-10-05T15:30:00",
          "2022-12-05T17:51:00",
          "2023-02-04T20:12:00",
          "2023-06-07T00:54:00",
          "2024-02-06T10:18:00"
         ],
         "y": [
          2,
          2,
          3,
          1,
          1,
          1
         ]
        }
       ],
       "layout": {
        "height": 450,
        "hoverlabel": {
         "bgcolor": "white",
         "font": {
          "family": "Rockwell",
          "size": 16
         }
        },
        "legend": {
         "title": {
          "text": "<b>Global Topic Representation"
         }
        },
        "template": {
         "data": {
          "bar": [
           {
            "error_x": {
             "color": "rgb(36,36,36)"
            },
            "error_y": {
             "color": "rgb(36,36,36)"
            },
            "marker": {
             "line": {
              "color": "white",
              "width": 0.5
             },
             "pattern": {
              "fillmode": "overlay",
              "size": 10,
              "solidity": 0.2
             }
            },
            "type": "bar"
           }
          ],
          "barpolar": [
           {
            "marker": {
             "line": {
              "color": "white",
              "width": 0.5
             },
             "pattern": {
              "fillmode": "overlay",
              "size": 10,
              "solidity": 0.2
             }
            },
            "type": "barpolar"
           }
          ],
          "carpet": [
           {
            "aaxis": {
             "endlinecolor": "rgb(36,36,36)",
             "gridcolor": "white",
             "linecolor": "white",
             "minorgridcolor": "white",
             "startlinecolor": "rgb(36,36,36)"
            },
            "baxis": {
             "endlinecolor": "rgb(36,36,36)",
             "gridcolor": "white",
             "linecolor": "white",
             "minorgridcolor": "white",
             "startlinecolor": "rgb(36,36,36)"
            },
            "type": "carpet"
           }
          ],
          "choropleth": [
           {
            "colorbar": {
             "outlinewidth": 1,
             "tickcolor": "rgb(36,36,36)",
             "ticks": "outside"
            },
            "type": "choropleth"
           }
          ],
          "contour": [
           {
            "colorbar": {
             "outlinewidth": 1,
             "tickcolor": "rgb(36,36,36)",
             "ticks": "outside"
            },
            "colorscale": [
             [
              0,
              "#440154"
             ],
             [
              0.1111111111111111,
              "#482878"
             ],
             [
              0.2222222222222222,
              "#3e4989"
             ],
             [
              0.3333333333333333,
              "#31688e"
             ],
             [
              0.4444444444444444,
              "#26828e"
             ],
             [
              0.5555555555555556,
              "#1f9e89"
             ],
             [
              0.6666666666666666,
              "#35b779"
             ],
             [
              0.7777777777777778,
              "#6ece58"
             ],
             [
              0.8888888888888888,
              "#b5de2b"
             ],
             [
              1,
              "#fde725"
             ]
            ],
            "type": "contour"
           }
          ],
          "contourcarpet": [
           {
            "colorbar": {
             "outlinewidth": 1,
             "tickcolor": "rgb(36,36,36)",
             "ticks": "outside"
            },
            "type": "contourcarpet"
           }
          ],
          "heatmap": [
           {
            "colorbar": {
             "outlinewidth": 1,
             "tickcolor": "rgb(36,36,36)",
             "ticks": "outside"
            },
            "colorscale": [
             [
              0,
              "#440154"
             ],
             [
              0.1111111111111111,
              "#482878"
             ],
             [
              0.2222222222222222,
              "#3e4989"
             ],
             [
              0.3333333333333333,
              "#31688e"
             ],
             [
              0.4444444444444444,
              "#26828e"
             ],
             [
              0.5555555555555556,
              "#1f9e89"
             ],
             [
              0.6666666666666666,
              "#35b779"
             ],
             [
              0.7777777777777778,
              "#6ece58"
             ],
             [
              0.8888888888888888,
              "#b5de2b"
             ],
             [
              1,
              "#fde725"
             ]
            ],
            "type": "heatmap"
           }
          ],
          "heatmapgl": [
           {
            "colorbar": {
             "outlinewidth": 1,
             "tickcolor": "rgb(36,36,36)",
             "ticks": "outside"
            },
            "colorscale": [
             [
              0,
              "#440154"
             ],
             [
              0.1111111111111111,
              "#482878"
             ],
             [
              0.2222222222222222,
              "#3e4989"
             ],
             [
              0.3333333333333333,
              "#31688e"
             ],
             [
              0.4444444444444444,
              "#26828e"
             ],
             [
              0.5555555555555556,
              "#1f9e89"
             ],
             [
              0.6666666666666666,
              "#35b779"
             ],
             [
              0.7777777777777778,
              "#6ece58"
             ],
             [
              0.8888888888888888,
              "#b5de2b"
             ],
             [
              1,
              "#fde725"
             ]
            ],
            "type": "heatmapgl"
           }
          ],
          "histogram": [
           {
            "marker": {
             "line": {
              "color": "white",
              "width": 0.6
             }
            },
            "type": "histogram"
           }
          ],
          "histogram2d": [
           {
            "colorbar": {
             "outlinewidth": 1,
             "tickcolor": "rgb(36,36,36)",
             "ticks": "outside"
            },
            "colorscale": [
             [
              0,
              "#440154"
             ],
             [
              0.1111111111111111,
              "#482878"
             ],
             [
              0.2222222222222222,
              "#3e4989"
             ],
             [
              0.3333333333333333,
              "#31688e"
             ],
             [
              0.4444444444444444,
              "#26828e"
             ],
             [
              0.5555555555555556,
              "#1f9e89"
             ],
             [
              0.6666666666666666,
              "#35b779"
             ],
             [
              0.7777777777777778,
              "#6ece58"
             ],
             [
              0.8888888888888888,
              "#b5de2b"
             ],
             [
              1,
              "#fde725"
             ]
            ],
            "type": "histogram2d"
           }
          ],
          "histogram2dcontour": [
           {
            "colorbar": {
             "outlinewidth": 1,
             "tickcolor": "rgb(36,36,36)",
             "ticks": "outside"
            },
            "colorscale": [
             [
              0,
              "#440154"
             ],
             [
              0.1111111111111111,
              "#482878"
             ],
             [
              0.2222222222222222,
              "#3e4989"
             ],
             [
              0.3333333333333333,
              "#31688e"
             ],
             [
              0.4444444444444444,
              "#26828e"
             ],
             [
              0.5555555555555556,
              "#1f9e89"
             ],
             [
              0.6666666666666666,
              "#35b779"
             ],
             [
              0.7777777777777778,
              "#6ece58"
             ],
             [
              0.8888888888888888,
              "#b5de2b"
             ],
             [
              1,
              "#fde725"
             ]
            ],
            "type": "histogram2dcontour"
           }
          ],
          "mesh3d": [
           {
            "colorbar": {
             "outlinewidth": 1,
             "tickcolor": "rgb(36,36,36)",
             "ticks": "outside"
            },
            "type": "mesh3d"
           }
          ],
          "parcoords": [
           {
            "line": {
             "colorbar": {
              "outlinewidth": 1,
              "tickcolor": "rgb(36,36,36)",
              "ticks": "outside"
             }
            },
            "type": "parcoords"
           }
          ],
          "pie": [
           {
            "automargin": true,
            "type": "pie"
           }
          ],
          "scatter": [
           {
            "fillpattern": {
             "fillmode": "overlay",
             "size": 10,
             "solidity": 0.2
            },
            "type": "scatter"
           }
          ],
          "scatter3d": [
           {
            "line": {
             "colorbar": {
              "outlinewidth": 1,
              "tickcolor": "rgb(36,36,36)",
              "ticks": "outside"
             }
            },
            "marker": {
             "colorbar": {
              "outlinewidth": 1,
              "tickcolor": "rgb(36,36,36)",
              "ticks": "outside"
             }
            },
            "type": "scatter3d"
           }
          ],
          "scattercarpet": [
           {
            "marker": {
             "colorbar": {
              "outlinewidth": 1,
              "tickcolor": "rgb(36,36,36)",
              "ticks": "outside"
             }
            },
            "type": "scattercarpet"
           }
          ],
          "scattergeo": [
           {
            "marker": {
             "colorbar": {
              "outlinewidth": 1,
              "tickcolor": "rgb(36,36,36)",
              "ticks": "outside"
             }
            },
            "type": "scattergeo"
           }
          ],
          "scattergl": [
           {
            "marker": {
             "colorbar": {
              "outlinewidth": 1,
              "tickcolor": "rgb(36,36,36)",
              "ticks": "outside"
             }
            },
            "type": "scattergl"
           }
          ],
          "scattermapbox": [
           {
            "marker": {
             "colorbar": {
              "outlinewidth": 1,
              "tickcolor": "rgb(36,36,36)",
              "ticks": "outside"
             }
            },
            "type": "scattermapbox"
           }
          ],
          "scatterpolar": [
           {
            "marker": {
             "colorbar": {
              "outlinewidth": 1,
              "tickcolor": "rgb(36,36,36)",
              "ticks": "outside"
             }
            },
            "type": "scatterpolar"
           }
          ],
          "scatterpolargl": [
           {
            "marker": {
             "colorbar": {
              "outlinewidth": 1,
              "tickcolor": "rgb(36,36,36)",
              "ticks": "outside"
             }
            },
            "type": "scatterpolargl"
           }
          ],
          "scatterternary": [
           {
            "marker": {
             "colorbar": {
              "outlinewidth": 1,
              "tickcolor": "rgb(36,36,36)",
              "ticks": "outside"
             }
            },
            "type": "scatterternary"
           }
          ],
          "surface": [
           {
            "colorbar": {
             "outlinewidth": 1,
             "tickcolor": "rgb(36,36,36)",
             "ticks": "outside"
            },
            "colorscale": [
             [
              0,
              "#440154"
             ],
             [
              0.1111111111111111,
              "#482878"
             ],
             [
              0.2222222222222222,
              "#3e4989"
             ],
             [
              0.3333333333333333,
              "#31688e"
             ],
             [
              0.4444444444444444,
              "#26828e"
             ],
             [
              0.5555555555555556,
              "#1f9e89"
             ],
             [
              0.6666666666666666,
              "#35b779"
             ],
             [
              0.7777777777777778,
              "#6ece58"
             ],
             [
              0.8888888888888888,
              "#b5de2b"
             ],
             [
              1,
              "#fde725"
             ]
            ],
            "type": "surface"
           }
          ],
          "table": [
           {
            "cells": {
             "fill": {
              "color": "rgb(237,237,237)"
             },
             "line": {
              "color": "white"
             }
            },
            "header": {
             "fill": {
              "color": "rgb(217,217,217)"
             },
             "line": {
              "color": "white"
             }
            },
            "type": "table"
           }
          ]
         },
         "layout": {
          "annotationdefaults": {
           "arrowhead": 0,
           "arrowwidth": 1
          },
          "autotypenumbers": "strict",
          "coloraxis": {
           "colorbar": {
            "outlinewidth": 1,
            "tickcolor": "rgb(36,36,36)",
            "ticks": "outside"
           }
          },
          "colorscale": {
           "diverging": [
            [
             0,
             "rgb(103,0,31)"
            ],
            [
             0.1,
             "rgb(178,24,43)"
            ],
            [
             0.2,
             "rgb(214,96,77)"
            ],
            [
             0.3,
             "rgb(244,165,130)"
            ],
            [
             0.4,
             "rgb(253,219,199)"
            ],
            [
             0.5,
             "rgb(247,247,247)"
            ],
            [
             0.6,
             "rgb(209,229,240)"
            ],
            [
             0.7,
             "rgb(146,197,222)"
            ],
            [
             0.8,
             "rgb(67,147,195)"
            ],
            [
             0.9,
             "rgb(33,102,172)"
            ],
            [
             1,
             "rgb(5,48,97)"
            ]
           ],
           "sequential": [
            [
             0,
             "#440154"
            ],
            [
             0.1111111111111111,
             "#482878"
            ],
            [
             0.2222222222222222,
             "#3e4989"
            ],
            [
             0.3333333333333333,
             "#31688e"
            ],
            [
             0.4444444444444444,
             "#26828e"
            ],
            [
             0.5555555555555556,
             "#1f9e89"
            ],
            [
             0.6666666666666666,
             "#35b779"
            ],
            [
             0.7777777777777778,
             "#6ece58"
            ],
            [
             0.8888888888888888,
             "#b5de2b"
            ],
            [
             1,
             "#fde725"
            ]
           ],
           "sequentialminus": [
            [
             0,
             "#440154"
            ],
            [
             0.1111111111111111,
             "#482878"
            ],
            [
             0.2222222222222222,
             "#3e4989"
            ],
            [
             0.3333333333333333,
             "#31688e"
            ],
            [
             0.4444444444444444,
             "#26828e"
            ],
            [
             0.5555555555555556,
             "#1f9e89"
            ],
            [
             0.6666666666666666,
             "#35b779"
            ],
            [
             0.7777777777777778,
             "#6ece58"
            ],
            [
             0.8888888888888888,
             "#b5de2b"
            ],
            [
             1,
             "#fde725"
            ]
           ]
          },
          "colorway": [
           "#1F77B4",
           "#FF7F0E",
           "#2CA02C",
           "#D62728",
           "#9467BD",
           "#8C564B",
           "#E377C2",
           "#7F7F7F",
           "#BCBD22",
           "#17BECF"
          ],
          "font": {
           "color": "rgb(36,36,36)"
          },
          "geo": {
           "bgcolor": "white",
           "lakecolor": "white",
           "landcolor": "white",
           "showlakes": true,
           "showland": true,
           "subunitcolor": "white"
          },
          "hoverlabel": {
           "align": "left"
          },
          "hovermode": "closest",
          "mapbox": {
           "style": "light"
          },
          "paper_bgcolor": "white",
          "plot_bgcolor": "white",
          "polar": {
           "angularaxis": {
            "gridcolor": "rgb(232,232,232)",
            "linecolor": "rgb(36,36,36)",
            "showgrid": false,
            "showline": true,
            "ticks": "outside"
           },
           "bgcolor": "white",
           "radialaxis": {
            "gridcolor": "rgb(232,232,232)",
            "linecolor": "rgb(36,36,36)",
            "showgrid": false,
            "showline": true,
            "ticks": "outside"
           }
          },
          "scene": {
           "xaxis": {
            "backgroundcolor": "white",
            "gridcolor": "rgb(232,232,232)",
            "gridwidth": 2,
            "linecolor": "rgb(36,36,36)",
            "showbackground": true,
            "showgrid": false,
            "showline": true,
            "ticks": "outside",
            "zeroline": false,
            "zerolinecolor": "rgb(36,36,36)"
           },
           "yaxis": {
            "backgroundcolor": "white",
            "gridcolor": "rgb(232,232,232)",
            "gridwidth": 2,
            "linecolor": "rgb(36,36,36)",
            "showbackground": true,
            "showgrid": false,
            "showline": true,
            "ticks": "outside",
            "zeroline": false,
            "zerolinecolor": "rgb(36,36,36)"
           },
           "zaxis": {
            "backgroundcolor": "white",
            "gridcolor": "rgb(232,232,232)",
            "gridwidth": 2,
            "linecolor": "rgb(36,36,36)",
            "showbackground": true,
            "showgrid": false,
            "showline": true,
            "ticks": "outside",
            "zeroline": false,
            "zerolinecolor": "rgb(36,36,36)"
           }
          },
          "shapedefaults": {
           "fillcolor": "black",
           "line": {
            "width": 0
           },
           "opacity": 0.3
          },
          "ternary": {
           "aaxis": {
            "gridcolor": "rgb(232,232,232)",
            "linecolor": "rgb(36,36,36)",
            "showgrid": false,
            "showline": true,
            "ticks": "outside"
           },
           "baxis": {
            "gridcolor": "rgb(232,232,232)",
            "linecolor": "rgb(36,36,36)",
            "showgrid": false,
            "showline": true,
            "ticks": "outside"
           },
           "bgcolor": "white",
           "caxis": {
            "gridcolor": "rgb(232,232,232)",
            "linecolor": "rgb(36,36,36)",
            "showgrid": false,
            "showline": true,
            "ticks": "outside"
           }
          },
          "title": {
           "x": 0.05
          },
          "xaxis": {
           "automargin": true,
           "gridcolor": "rgb(232,232,232)",
           "linecolor": "rgb(36,36,36)",
           "showgrid": false,
           "showline": true,
           "ticks": "outside",
           "title": {
            "standoff": 15
           },
           "zeroline": false,
           "zerolinecolor": "rgb(36,36,36)"
          },
          "yaxis": {
           "automargin": true,
           "gridcolor": "rgb(232,232,232)",
           "linecolor": "rgb(36,36,36)",
           "showgrid": false,
           "showline": true,
           "ticks": "outside",
           "title": {
            "standoff": 15
           },
           "zeroline": false,
           "zerolinecolor": "rgb(36,36,36)"
          }
         }
        },
        "title": {
         "font": {
          "color": "Black",
          "size": 22
         },
         "text": "<b>Topics over Time</b>",
         "x": 0.4,
         "xanchor": "center",
         "y": 0.95,
         "yanchor": "top"
        },
        "width": 1250,
        "xaxis": {
         "showgrid": true
        },
        "yaxis": {
         "showgrid": true,
         "title": {
          "text": "Frequency"
         }
        }
       }
      }
     },
     "metadata": {},
     "output_type": "display_data"
    }
   ],
   "source": [
    "topic_model.visualize_topics_over_time(topics_over_time, top_n_topics=20)"
   ]
  },
  {
   "cell_type": "markdown",
   "id": "d9210908",
   "metadata": {},
   "source": [
    "## topic reduction"
   ]
  },
  {
   "cell_type": "code",
   "execution_count": 56,
   "id": "030670fd",
   "metadata": {},
   "outputs": [],
   "source": [
    "# topic_model.reduce_topics(df[\"Texte_clean\"], nr_topics=20)"
   ]
  },
  {
   "cell_type": "code",
   "execution_count": 57,
   "id": "e70ee6eb",
   "metadata": {},
   "outputs": [],
   "source": [
    "# topic_model.get_topic_info()"
   ]
  },
  {
   "cell_type": "code",
   "execution_count": 53,
   "id": "7aa76e9f",
   "metadata": {},
   "outputs": [],
   "source": [
    "# topics = topic_model.topics_\n",
    "# topics"
   ]
  },
  {
   "cell_type": "markdown",
   "id": "48e8a3c1",
   "metadata": {},
   "source": [
    "## Bert things"
   ]
  },
  {
   "cell_type": "code",
   "execution_count": 32,
   "id": "1bb03d3f",
   "metadata": {},
   "outputs": [],
   "source": [
    "# import nltk\n",
    "# from nltk.corpus import stopwords\n",
    "# from sentence_transformers import SentenceTransformer\n",
    "# from sklearn.feature_extraction.text import CountVectorizer\n",
    "# import bertopic\n",
    "\n",
    "# nltk.download(\"stopwords\")\n",
    "# french_stopwords = list(set(stopwords.words(\"french\")))\n",
    "# vectorizer_model = CountVectorizer(stop_words=french_stopwords)\n",
    "# topic_model = bertopic.BERTopic(language=\"french\", vectorizer_model=vectorizer_model)\n",
    "# topics, probs = topic_model.fit_transform(df[\"Texte_clean\"])"
   ]
  },
  {
   "cell_type": "code",
   "execution_count": null,
   "id": "eb704665",
   "metadata": {},
   "outputs": [],
   "source": [
    "# TODO: redo with the good sentencetransformer"
   ]
  },
  {
   "cell_type": "markdown",
   "id": "996ba979",
   "metadata": {},
   "source": [
    "Stopwords :\n",
    "- https://maartengr.github.io/BERTopic/getting_started/tips_and_tricks/tips_and_tricks.html#document-length\n",
    "- Instead, we can use the CountVectorizer to preprocess our documents after having generated embeddings and clustered our documents. Personally, I have found almost no disadvantages to using the CountVectorizer to remove stopwords and it is something I would strongly advise to try out:\n",
    "- We can also use the ClassTfidfTransformer to reduce the impact of frequent words. The end result is very similar to explicitly removing stopwords but this process does this automatically:"
   ]
  },
  {
   "cell_type": "code",
   "execution_count": null,
   "id": "47f523e7",
   "metadata": {},
   "outputs": [],
   "source": [
    "from bertopic import BERTopic\n",
    "from sklearn.feature_extraction.text import CountVectorizer\n",
    "from sentence_transformers import SentenceTransformer\n",
    "import spacy\n",
    "from bertopic.vectorizers import ClassTfidfTransformer\n",
    "\n",
    "# import nltk\n",
    "# from nltk.corpus import stopwords\n",
    "\n",
    "# vectorizer_model et french stopwords\n",
    "# Avec spacy\n",
    "nlp = spacy.load(\"fr_core_news_sm\")\n",
    "french_stopwords = list(nlp.Defaults.stop_words)\n",
    "vectorizer_model = CountVectorizer(stop_words=french_stopwords)\n",
    "# # Ou avec nltk\n",
    "# nltk.download(\"stopwords\")\n",
    "# french_stopwords = list(set(stopwords.words(\"french\")))\n",
    "# vectorizer_model = CountVectorizer(stop_words=french_stopwords)\n",
    "\n",
    "# \"dangvantuan/sentence-camembert-large\"\n",
    "# \"Alibaba-NLP/gte-multilingual-base\"\n",
    "embedding_model = SentenceTransformer(\"all-MiniLM-L6-v2\")\n",
    "\n",
    "# ctfidf_model = ClassTfidfTransformer(reduce_frequent_words=True)\n",
    "\n",
    "# créer le modèle\n",
    "topic_model_better = BERTopic(\n",
    "    embedding_model=embedding_model,\n",
    "    vectorizer_model=vectorizer_model,  # remove stopwords after embbedings\n",
    "    # ctfidf_model=ctfidf_model, # (or) reduce the impact of frequent word\n",
    ")\n",
    "\n",
    "# Fiter le modèle\n",
    "topics_better, probs_better = topic_model_better.fit_transform(df[\"Texte_clean\"])\n"
   ]
  },
  {
   "cell_type": "code",
   "execution_count": null,
   "id": "db16d1d5",
   "metadata": {},
   "outputs": [],
   "source": [
    "# model = BERTopic(\n",
    "#     embedding_model=...,         # Modèle pour transformer les textes en vecteurs\n",
    "#     top_n_words=10,              # Nombre de mots clés par sujet\n",
    "#     nr_topics=\"auto\",            # Réduction automatique du nombre de sujets\n",
    "#     calculate_probabilities=True,# Calcul de la probabilité d'appartenance à chaque sujet\n",
    "#     verbose=True,                # Affichage des logs\n",
    "#     min_topic_size=10,           # Taille minimale d’un cluster pour former un sujet\n",
    "#     language=\"english\",          # Langue utilisée pour les stopwords (uniquement si vectorizer_model est défini)\n",
    "#     vectorizer_model=...,        # Modèle TF-IDF custom\n",
    "#     ctfidf_model=...,            # Class-based TF-IDF (CTFIDF) custom\n",
    "#     diversity=0.5,               # Diversité des mots-clés (0 = mots fréquents, 1 = mots uniques)\n",
    "#     seed_topic_list=...,         # Thèmes pré-définis\n",
    "# )"
   ]
  },
  {
   "cell_type": "code",
   "execution_count": 72,
   "id": "cfc5fc9c",
   "metadata": {},
   "outputs": [],
   "source": [
    "# model_better?"
   ]
  },
  {
   "cell_type": "code",
   "execution_count": 82,
   "id": "09d88e58",
   "metadata": {},
   "outputs": [
    {
     "data": {
      "text/html": [
       "<div>\n",
       "<style scoped>\n",
       "    .dataframe tbody tr th:only-of-type {\n",
       "        vertical-align: middle;\n",
       "    }\n",
       "\n",
       "    .dataframe tbody tr th {\n",
       "        vertical-align: top;\n",
       "    }\n",
       "\n",
       "    .dataframe thead th {\n",
       "        text-align: right;\n",
       "    }\n",
       "</style>\n",
       "<table border=\"1\" class=\"dataframe\">\n",
       "  <thead>\n",
       "    <tr style=\"text-align: right;\">\n",
       "      <th></th>\n",
       "      <th>Topic</th>\n",
       "      <th>Count</th>\n",
       "      <th>Name</th>\n",
       "      <th>Representation</th>\n",
       "      <th>Representative_Docs</th>\n",
       "    </tr>\n",
       "  </thead>\n",
       "  <tbody>\n",
       "    <tr>\n",
       "      <th>0</th>\n",
       "      <td>-1</td>\n",
       "      <td>2554</td>\n",
       "      <td>-1_qu_république_loi_été</td>\n",
       "      <td>[qu, république, loi, été, bien, faire, france...</td>\n",
       "      <td>[Permettez-moi tout d’abord de saluer l’excell...</td>\n",
       "    </tr>\n",
       "    <tr>\n",
       "      <th>1</th>\n",
       "      <td>0</td>\n",
       "      <td>129</td>\n",
       "      <td>0_mer_territoires_prix_climatique</td>\n",
       "      <td>[mer, territoires, prix, climatique, loi, qu, ...</td>\n",
       "      <td>[Il y a cinquante ans, le commandant Cousteau ...</td>\n",
       "    </tr>\n",
       "    <tr>\n",
       "      <th>2</th>\n",
       "      <td>1</td>\n",
       "      <td>121</td>\n",
       "      <td>1_femmes_droits_liberté_droit</td>\n",
       "      <td>[femmes, droits, liberté, droit, discriminatio...</td>\n",
       "      <td>[La République s’incarne à travers ce texte, e...</td>\n",
       "    </tr>\n",
       "    <tr>\n",
       "      <th>3</th>\n",
       "      <td>2</td>\n",
       "      <td>112</td>\n",
       "      <td>2_violence_élus_violences_extrême</td>\n",
       "      <td>[violence, élus, violences, extrême, droite, t...</td>\n",
       "      <td>[Je vous remercie de m’avoir invité pour débat...</td>\n",
       "    </tr>\n",
       "    <tr>\n",
       "      <th>4</th>\n",
       "      <td>3</td>\n",
       "      <td>96</td>\n",
       "      <td>3_république_ve_démocratie_abandonne</td>\n",
       "      <td>[république, ve, démocratie, abandonne, vive, ...</td>\n",
       "      <td>[Le plus jeune de toute la Ve République !, Vo...</td>\n",
       "    </tr>\n",
       "    <tr>\n",
       "      <th>...</th>\n",
       "      <td>...</td>\n",
       "      <td>...</td>\n",
       "      <td>...</td>\n",
       "      <td>...</td>\n",
       "      <td>...</td>\n",
       "    </tr>\n",
       "    <tr>\n",
       "      <th>60</th>\n",
       "      <td>59</td>\n",
       "      <td>12</td>\n",
       "      <td>59_langues_langue_régionales_française</td>\n",
       "      <td>[langues, langue, régionales, française, ensei...</td>\n",
       "      <td>[La langue française est un véritable joyau du...</td>\n",
       "    </tr>\n",
       "    <tr>\n",
       "      <th>61</th>\n",
       "      <td>60</td>\n",
       "      <td>12</td>\n",
       "      <td>60_polynésie_ordonnance_fonction_publique</td>\n",
       "      <td>[polynésie, ordonnance, fonction, publique, fr...</td>\n",
       "      <td>[Permettez-moi, en tant qu’ancien Montalbanais...</td>\n",
       "    </tr>\n",
       "    <tr>\n",
       "      <th>62</th>\n",
       "      <td>61</td>\n",
       "      <td>12</td>\n",
       "      <td>61_arménie_karabakh_azerbaïdjan_arménien</td>\n",
       "      <td>[arménie, karabakh, azerbaïdjan, arménien, arm...</td>\n",
       "      <td>[Le 9 avril 1916, alors que le gouvernement de...</td>\n",
       "    </tr>\n",
       "    <tr>\n",
       "      <th>63</th>\n",
       "      <td>62</td>\n",
       "      <td>11</td>\n",
       "      <td>62_finances_dette_entreprises_groupe</td>\n",
       "      <td>[finances, dette, entreprises, groupe, projet,...</td>\n",
       "      <td>[La proposition de loi visant à faciliter le p...</td>\n",
       "    </tr>\n",
       "    <tr>\n",
       "      <th>64</th>\n",
       "      <td>63</td>\n",
       "      <td>10</td>\n",
       "      <td>63_droite_extrême_négocier_bataille</td>\n",
       "      <td>[droite, extrême, négocier, bataille, charges,...</td>\n",
       "      <td>[…et d’une histoire – celle de la République –...</td>\n",
       "    </tr>\n",
       "  </tbody>\n",
       "</table>\n",
       "<p>65 rows × 5 columns</p>\n",
       "</div>"
      ],
      "text/plain": [
       "    Topic  Count                                       Name  \\\n",
       "0      -1   2554                   -1_qu_république_loi_été   \n",
       "1       0    129          0_mer_territoires_prix_climatique   \n",
       "2       1    121              1_femmes_droits_liberté_droit   \n",
       "3       2    112          2_violence_élus_violences_extrême   \n",
       "4       3     96       3_république_ve_démocratie_abandonne   \n",
       "..    ...    ...                                        ...   \n",
       "60     59     12     59_langues_langue_régionales_française   \n",
       "61     60     12  60_polynésie_ordonnance_fonction_publique   \n",
       "62     61     12   61_arménie_karabakh_azerbaïdjan_arménien   \n",
       "63     62     11       62_finances_dette_entreprises_groupe   \n",
       "64     63     10        63_droite_extrême_négocier_bataille   \n",
       "\n",
       "                                       Representation  \\\n",
       "0   [qu, république, loi, été, bien, faire, france...   \n",
       "1   [mer, territoires, prix, climatique, loi, qu, ...   \n",
       "2   [femmes, droits, liberté, droit, discriminatio...   \n",
       "3   [violence, élus, violences, extrême, droite, t...   \n",
       "4   [république, ve, démocratie, abandonne, vive, ...   \n",
       "..                                                ...   \n",
       "60  [langues, langue, régionales, française, ensei...   \n",
       "61  [polynésie, ordonnance, fonction, publique, fr...   \n",
       "62  [arménie, karabakh, azerbaïdjan, arménien, arm...   \n",
       "63  [finances, dette, entreprises, groupe, projet,...   \n",
       "64  [droite, extrême, négocier, bataille, charges,...   \n",
       "\n",
       "                                  Representative_Docs  \n",
       "0   [Permettez-moi tout d’abord de saluer l’excell...  \n",
       "1   [Il y a cinquante ans, le commandant Cousteau ...  \n",
       "2   [La République s’incarne à travers ce texte, e...  \n",
       "3   [Je vous remercie de m’avoir invité pour débat...  \n",
       "4   [Le plus jeune de toute la Ve République !, Vo...  \n",
       "..                                                ...  \n",
       "60  [La langue française est un véritable joyau du...  \n",
       "61  [Permettez-moi, en tant qu’ancien Montalbanais...  \n",
       "62  [Le 9 avril 1916, alors que le gouvernement de...  \n",
       "63  [La proposition de loi visant à faciliter le p...  \n",
       "64  […et d’une histoire – celle de la République –...  \n",
       "\n",
       "[65 rows x 5 columns]"
      ]
     },
     "execution_count": 82,
     "metadata": {},
     "output_type": "execute_result"
    }
   ],
   "source": [
    "# Step 6: Review topics\n",
    "topic_info_better = topic_model_better.get_topic_info()\n",
    "topic_info_better\n"
   ]
  },
  {
   "cell_type": "code",
   "execution_count": 88,
   "id": "c85435e4",
   "metadata": {},
   "outputs": [
    {
     "data": {
      "application/vnd.plotly.v1+json": {
       "config": {
        "plotlyServerURL": "https://plot.ly"
       },
       "data": [
        {
         "customdata": [
          [
           0,
           "école | élèves | de | des | les",
           339
          ],
          [
           1,
           "femmes | de | la | et | des",
           131
          ],
          [
           2,
           "de | et | des | la | les",
           130
          ],
          [
           3,
           "de | des | et | la | les",
           94
          ],
          [
           4,
           "laïcité | la | séparatisme | de | loi",
           78
          ],
          [
           5,
           "français | république | vous | française | la",
           72
          ],
          [
           6,
           "république | vous | la | ve | est",
           68
          ],
          [
           7,
           "républicain | arc | républicains | républicaine | vous",
           60
          ],
          [
           8,
           "amendement | de | la | amendements | le",
           53
          ],
          [
           9,
           "gauche | démocrate | groupe | républicaine | nupes",
           50
          ],
          [
           10,
           "police | judiciaire | la | de | que",
           44
          ],
          [
           11,
           "et | paty | de | la | samuel",
           43
          ],
          [
           12,
           "européenne | moldavie | convention | union | europe",
           41
          ],
          [
           13,
           "vous | la | de | qui | les",
           41
          ],
          [
           14,
           "constitution | la | de | du | le",
           37
          ],
          [
           15,
           "nous | que | sommes | de | et",
           34
          ],
          [
           16,
           "calédonie | nouvelle | élections | calédoniens | accord",
           34
          ],
          [
           17,
           "laïcité | français | la | de | le",
           34
          ],
          [
           18,
           "santé | soins | de | les | médecins",
           33
          ],
          [
           19,
           "douaniers | procureur | douanes | visite | amendement",
           33
          ],
          [
           20,
           "services | publics | les | de | dans",
           33
          ],
          [
           21,
           "vous | que | nous | pas | votre",
           31
          ],
          [
           22,
           "milliards | euros | de | millions | en",
           30
          ],
          [
           23,
           "antisémitisme | racisme | haine | antisémites | et",
           30
          ],
          [
           24,
           "israël | hamas | la | et | de",
           29
          ],
          [
           25,
           "immigration | france | et | est | la",
           28
          ],
          [
           26,
           "ministre | madame | première | république | monsieur",
           28
          ],
          [
           27,
           "police | policiers | vous | violence | république",
           26
          ],
          [
           28,
           "justice | cour | république | la | devant",
           26
          ],
          [
           29,
           "salariés | vous | les | qui | que",
           24
          ],
          [
           30,
           "vous | que | est | pas | le",
           22
          ],
          [
           31,
           "procureur | enquête | de | la | pénale",
           22
          ],
          [
           32,
           "mayotte | comores | mahorais | opération | la",
           22
          ],
          [
           33,
           "sociale | sécurité | de | la | vous",
           21
          ],
          [
           34,
           "ukraine | suède | la | finlande | otan",
           19
          ],
          [
           35,
           "inflation | les | des | de | le",
           19
          ],
          [
           36,
           "associations | engagement | associatif | du | loi",
           18
          ],
          [
           37,
           "prison | justice | de | la | les",
           18
          ],
          [
           38,
           "violences | enfants | de | victimes | protection",
           18
          ],
          [
           39,
           "riches | richesses | vous | bifurcation | paient",
           16
          ],
          [
           40,
           "sport | clubs | le | de | et",
           16
          ],
          [
           41,
           "drapeau | europe | tricolore | européen | le",
           16
          ],
          [
           42,
           "afrique | africains | la | au | pays",
           16
          ],
          [
           43,
           "finances | de | des | du | les",
           16
          ],
          [
           44,
           "censure | motions | motion | 49 | vous",
           16
          ],
          [
           45,
           "protection | ordonnance | victime | violences | immédiate",
           15
          ],
          [
           46,
           "de | les | et | texte | commission",
           15
          ],
          [
           47,
           "palliatifs | soins | nous | le | la",
           14
          ],
          [
           48,
           "république | affaiblissant | ordre | est | défendre",
           13
          ],
          [
           49,
           "langues | langue | régionales | française | dans",
           13
          ],
          [
           50,
           "arménie | azerbaïdjan | karabakh | arménien | arméniens",
           13
          ],
          [
           51,
           "génocide | famine | holodomor | soviétique | ukraine",
           13
          ],
          [
           52,
           "polynésie | ordonnance | fonction | publique | française",
           12
          ],
          [
           53,
           "vaccinale | vaccinés | soignants | obligation | vacciné",
           12
          ],
          [
           54,
           "électricité | nucléaire | énergie | prix | de",
           12
          ],
          [
           55,
           "fraude | fiscale | les | la | des",
           11
          ],
          [
           56,
           "insécurité | le | nous | ministre | pour",
           11
          ],
          [
           57,
           "expulsion | personnes | sûreté | de | une",
           11
          ],
          [
           58,
           "esclavage | fraternité | liberté | égalité | 1794",
           10
          ]
         ],
         "hovertemplate": "<b>Topic %{customdata[0]}</b><br>%{customdata[1]}<br>Size: %{customdata[2]}",
         "legendgroup": "",
         "marker": {
          "color": "#B0BEC5",
          "line": {
           "color": "DarkSlateGrey",
           "width": 2
          },
          "size": [
           339,
           131,
           130,
           94,
           78,
           72,
           68,
           60,
           53,
           50,
           44,
           43,
           41,
           41,
           37,
           34,
           34,
           34,
           33,
           33,
           33,
           31,
           30,
           30,
           29,
           28,
           28,
           26,
           26,
           24,
           22,
           22,
           22,
           21,
           19,
           19,
           18,
           18,
           18,
           16,
           16,
           16,
           16,
           16,
           16,
           15,
           15,
           14,
           13,
           13,
           13,
           13,
           12,
           12,
           12,
           11,
           11,
           11,
           10
          ],
          "sizemode": "area",
          "sizeref": 0.211875,
          "symbol": "circle"
         },
         "mode": "markers",
         "name": "",
         "orientation": "v",
         "showlegend": false,
         "type": "scatter",
         "x": [
          -4.38275,
          3.2771432,
          3.5071468,
          -3.5733619,
          4.4391975,
          0.7851759,
          19.61161,
          0.52771485,
          -8.010707,
          9.15633,
          -7.255279,
          4.441135,
          1.6758893,
          9.282091,
          9.969552,
          9.982893,
          9.910849,
          1.1843836,
          8.828147,
          -7.6583962,
          -4.0906434,
          10.087666,
          10.113405,
          3.4848573,
          4.608711,
          1.2641813,
          19.490673,
          3.5055966,
          19.497156,
          10.793683,
          10.216999,
          -7.637721,
          3.1900585,
          -4.258024,
          1.7926296,
          10.038,
          -8.339475,
          -7.194412,
          3.7218256,
          10.943173,
          -4.5612583,
          1.0242243,
          1.09943,
          10.20113,
          9.897179,
          -7.523736,
          -8.335383,
          8.673823,
          19.741367,
          1.4792616,
          3.0111625,
          3.1759377,
          -3.9247422,
          8.912611,
          -3.4669704,
          10.456007,
          10.360767,
          3.3922117,
          0.48787737
         ],
         "xaxis": "x",
         "y": [
          14.814196,
          -8.55326,
          -7.9566875,
          14.874312,
          -8.110951,
          13.138893,
          2.077288,
          13.4340105,
          11.00149,
          4.6457458,
          10.386083,
          -8.07276,
          12.6339,
          4.6381865,
          5.0047646,
          5.3150244,
          5.1104345,
          12.807878,
          15.005869,
          10.577826,
          15.13809,
          4.8774734,
          6.9239235,
          -8.552791,
          -7.9443464,
          12.662708,
          1.9567183,
          -8.076039,
          1.9627348,
          6.536193,
          5.0249763,
          10.684038,
          -8.246005,
          14.996289,
          12.435975,
          7.0815306,
          11.295298,
          10.313098,
          -8.426008,
          6.6868343,
          14.627637,
          12.358509,
          12.730083,
          6.603007,
          4.817731,
          10.7791605,
          11.29528,
          14.8514385,
          2.2072773,
          12.865962,
          -7.557843,
          -7.6963334,
          15.302437,
          15.090447,
          14.7980795,
          6.3040023,
          6.1729536,
          -7.9820237,
          13.375641
         ],
         "yaxis": "y"
        }
       ],
       "layout": {
        "annotations": [
         {
          "showarrow": false,
          "text": "D1",
          "x": -9.590395879745483,
          "y": 3.8807767629623413,
          "yshift": 10
         },
         {
          "showarrow": false,
          "text": "D2",
          "x": 6.5560882806777965,
          "xshift": 10,
          "y": 17.597802352905273
         }
        ],
        "height": 650,
        "hoverlabel": {
         "bgcolor": "white",
         "font": {
          "family": "Rockwell",
          "size": 16
         }
        },
        "legend": {
         "itemsizing": "constant",
         "tracegroupgap": 0
        },
        "margin": {
         "t": 60
        },
        "shapes": [
         {
          "line": {
           "color": "#CFD8DC",
           "width": 2
          },
          "type": "line",
          "x0": 6.5560882806777965,
          "x1": 6.5560882806777965,
          "y0": -9.83624882698059,
          "y1": 17.597802352905273
         },
         {
          "line": {
           "color": "#9E9E9E",
           "width": 2
          },
          "type": "line",
          "x0": -9.590395879745483,
          "x1": 22.702572441101076,
          "y0": 3.8807767629623413,
          "y1": 3.8807767629623413
         }
        ],
        "sliders": [
         {
          "active": 0,
          "pad": {
           "t": 50
          },
          "steps": [
           {
            "args": [
             {
              "marker.color": [
               [
                "red",
                "#B0BEC5",
                "#B0BEC5",
                "#B0BEC5",
                "#B0BEC5",
                "#B0BEC5",
                "#B0BEC5",
                "#B0BEC5",
                "#B0BEC5",
                "#B0BEC5",
                "#B0BEC5",
                "#B0BEC5",
                "#B0BEC5",
                "#B0BEC5",
                "#B0BEC5",
                "#B0BEC5",
                "#B0BEC5",
                "#B0BEC5",
                "#B0BEC5",
                "#B0BEC5",
                "#B0BEC5",
                "#B0BEC5",
                "#B0BEC5",
                "#B0BEC5",
                "#B0BEC5",
                "#B0BEC5",
                "#B0BEC5",
                "#B0BEC5",
                "#B0BEC5",
                "#B0BEC5",
                "#B0BEC5",
                "#B0BEC5",
                "#B0BEC5",
                "#B0BEC5",
                "#B0BEC5",
                "#B0BEC5",
                "#B0BEC5",
                "#B0BEC5",
                "#B0BEC5",
                "#B0BEC5",
                "#B0BEC5",
                "#B0BEC5",
                "#B0BEC5",
                "#B0BEC5",
                "#B0BEC5",
                "#B0BEC5",
                "#B0BEC5",
                "#B0BEC5",
                "#B0BEC5",
                "#B0BEC5",
                "#B0BEC5",
                "#B0BEC5",
                "#B0BEC5",
                "#B0BEC5",
                "#B0BEC5",
                "#B0BEC5",
                "#B0BEC5",
                "#B0BEC5",
                "#B0BEC5"
               ]
              ]
             }
            ],
            "label": "Topic 0",
            "method": "update"
           },
           {
            "args": [
             {
              "marker.color": [
               [
                "#B0BEC5",
                "red",
                "#B0BEC5",
                "#B0BEC5",
                "#B0BEC5",
                "#B0BEC5",
                "#B0BEC5",
                "#B0BEC5",
                "#B0BEC5",
                "#B0BEC5",
                "#B0BEC5",
                "#B0BEC5",
                "#B0BEC5",
                "#B0BEC5",
                "#B0BEC5",
                "#B0BEC5",
                "#B0BEC5",
                "#B0BEC5",
                "#B0BEC5",
                "#B0BEC5",
                "#B0BEC5",
                "#B0BEC5",
                "#B0BEC5",
                "#B0BEC5",
                "#B0BEC5",
                "#B0BEC5",
                "#B0BEC5",
                "#B0BEC5",
                "#B0BEC5",
                "#B0BEC5",
                "#B0BEC5",
                "#B0BEC5",
                "#B0BEC5",
                "#B0BEC5",
                "#B0BEC5",
                "#B0BEC5",
                "#B0BEC5",
                "#B0BEC5",
                "#B0BEC5",
                "#B0BEC5",
                "#B0BEC5",
                "#B0BEC5",
                "#B0BEC5",
                "#B0BEC5",
                "#B0BEC5",
                "#B0BEC5",
                "#B0BEC5",
                "#B0BEC5",
                "#B0BEC5",
                "#B0BEC5",
                "#B0BEC5",
                "#B0BEC5",
                "#B0BEC5",
                "#B0BEC5",
                "#B0BEC5",
                "#B0BEC5",
                "#B0BEC5",
                "#B0BEC5",
                "#B0BEC5"
               ]
              ]
             }
            ],
            "label": "Topic 1",
            "method": "update"
           },
           {
            "args": [
             {
              "marker.color": [
               [
                "#B0BEC5",
                "#B0BEC5",
                "red",
                "#B0BEC5",
                "#B0BEC5",
                "#B0BEC5",
                "#B0BEC5",
                "#B0BEC5",
                "#B0BEC5",
                "#B0BEC5",
                "#B0BEC5",
                "#B0BEC5",
                "#B0BEC5",
                "#B0BEC5",
                "#B0BEC5",
                "#B0BEC5",
                "#B0BEC5",
                "#B0BEC5",
                "#B0BEC5",
                "#B0BEC5",
                "#B0BEC5",
                "#B0BEC5",
                "#B0BEC5",
                "#B0BEC5",
                "#B0BEC5",
                "#B0BEC5",
                "#B0BEC5",
                "#B0BEC5",
                "#B0BEC5",
                "#B0BEC5",
                "#B0BEC5",
                "#B0BEC5",
                "#B0BEC5",
                "#B0BEC5",
                "#B0BEC5",
                "#B0BEC5",
                "#B0BEC5",
                "#B0BEC5",
                "#B0BEC5",
                "#B0BEC5",
                "#B0BEC5",
                "#B0BEC5",
                "#B0BEC5",
                "#B0BEC5",
                "#B0BEC5",
                "#B0BEC5",
                "#B0BEC5",
                "#B0BEC5",
                "#B0BEC5",
                "#B0BEC5",
                "#B0BEC5",
                "#B0BEC5",
                "#B0BEC5",
                "#B0BEC5",
                "#B0BEC5",
                "#B0BEC5",
                "#B0BEC5",
                "#B0BEC5",
                "#B0BEC5"
               ]
              ]
             }
            ],
            "label": "Topic 2",
            "method": "update"
           },
           {
            "args": [
             {
              "marker.color": [
               [
                "#B0BEC5",
                "#B0BEC5",
                "#B0BEC5",
                "red",
                "#B0BEC5",
                "#B0BEC5",
                "#B0BEC5",
                "#B0BEC5",
                "#B0BEC5",
                "#B0BEC5",
                "#B0BEC5",
                "#B0BEC5",
                "#B0BEC5",
                "#B0BEC5",
                "#B0BEC5",
                "#B0BEC5",
                "#B0BEC5",
                "#B0BEC5",
                "#B0BEC5",
                "#B0BEC5",
                "#B0BEC5",
                "#B0BEC5",
                "#B0BEC5",
                "#B0BEC5",
                "#B0BEC5",
                "#B0BEC5",
                "#B0BEC5",
                "#B0BEC5",
                "#B0BEC5",
                "#B0BEC5",
                "#B0BEC5",
                "#B0BEC5",
                "#B0BEC5",
                "#B0BEC5",
                "#B0BEC5",
                "#B0BEC5",
                "#B0BEC5",
                "#B0BEC5",
                "#B0BEC5",
                "#B0BEC5",
                "#B0BEC5",
                "#B0BEC5",
                "#B0BEC5",
                "#B0BEC5",
                "#B0BEC5",
                "#B0BEC5",
                "#B0BEC5",
                "#B0BEC5",
                "#B0BEC5",
                "#B0BEC5",
                "#B0BEC5",
                "#B0BEC5",
                "#B0BEC5",
                "#B0BEC5",
                "#B0BEC5",
                "#B0BEC5",
                "#B0BEC5",
                "#B0BEC5",
                "#B0BEC5"
               ]
              ]
             }
            ],
            "label": "Topic 3",
            "method": "update"
           },
           {
            "args": [
             {
              "marker.color": [
               [
                "#B0BEC5",
                "#B0BEC5",
                "#B0BEC5",
                "#B0BEC5",
                "red",
                "#B0BEC5",
                "#B0BEC5",
                "#B0BEC5",
                "#B0BEC5",
                "#B0BEC5",
                "#B0BEC5",
                "#B0BEC5",
                "#B0BEC5",
                "#B0BEC5",
                "#B0BEC5",
                "#B0BEC5",
                "#B0BEC5",
                "#B0BEC5",
                "#B0BEC5",
                "#B0BEC5",
                "#B0BEC5",
                "#B0BEC5",
                "#B0BEC5",
                "#B0BEC5",
                "#B0BEC5",
                "#B0BEC5",
                "#B0BEC5",
                "#B0BEC5",
                "#B0BEC5",
                "#B0BEC5",
                "#B0BEC5",
                "#B0BEC5",
                "#B0BEC5",
                "#B0BEC5",
                "#B0BEC5",
                "#B0BEC5",
                "#B0BEC5",
                "#B0BEC5",
                "#B0BEC5",
                "#B0BEC5",
                "#B0BEC5",
                "#B0BEC5",
                "#B0BEC5",
                "#B0BEC5",
                "#B0BEC5",
                "#B0BEC5",
                "#B0BEC5",
                "#B0BEC5",
                "#B0BEC5",
                "#B0BEC5",
                "#B0BEC5",
                "#B0BEC5",
                "#B0BEC5",
                "#B0BEC5",
                "#B0BEC5",
                "#B0BEC5",
                "#B0BEC5",
                "#B0BEC5",
                "#B0BEC5"
               ]
              ]
             }
            ],
            "label": "Topic 4",
            "method": "update"
           },
           {
            "args": [
             {
              "marker.color": [
               [
                "#B0BEC5",
                "#B0BEC5",
                "#B0BEC5",
                "#B0BEC5",
                "#B0BEC5",
                "red",
                "#B0BEC5",
                "#B0BEC5",
                "#B0BEC5",
                "#B0BEC5",
                "#B0BEC5",
                "#B0BEC5",
                "#B0BEC5",
                "#B0BEC5",
                "#B0BEC5",
                "#B0BEC5",
                "#B0BEC5",
                "#B0BEC5",
                "#B0BEC5",
                "#B0BEC5",
                "#B0BEC5",
                "#B0BEC5",
                "#B0BEC5",
                "#B0BEC5",
                "#B0BEC5",
                "#B0BEC5",
                "#B0BEC5",
                "#B0BEC5",
                "#B0BEC5",
                "#B0BEC5",
                "#B0BEC5",
                "#B0BEC5",
                "#B0BEC5",
                "#B0BEC5",
                "#B0BEC5",
                "#B0BEC5",
                "#B0BEC5",
                "#B0BEC5",
                "#B0BEC5",
                "#B0BEC5",
                "#B0BEC5",
                "#B0BEC5",
                "#B0BEC5",
                "#B0BEC5",
                "#B0BEC5",
                "#B0BEC5",
                "#B0BEC5",
                "#B0BEC5",
                "#B0BEC5",
                "#B0BEC5",
                "#B0BEC5",
                "#B0BEC5",
                "#B0BEC5",
                "#B0BEC5",
                "#B0BEC5",
                "#B0BEC5",
                "#B0BEC5",
                "#B0BEC5",
                "#B0BEC5"
               ]
              ]
             }
            ],
            "label": "Topic 5",
            "method": "update"
           },
           {
            "args": [
             {
              "marker.color": [
               [
                "#B0BEC5",
                "#B0BEC5",
                "#B0BEC5",
                "#B0BEC5",
                "#B0BEC5",
                "#B0BEC5",
                "red",
                "#B0BEC5",
                "#B0BEC5",
                "#B0BEC5",
                "#B0BEC5",
                "#B0BEC5",
                "#B0BEC5",
                "#B0BEC5",
                "#B0BEC5",
                "#B0BEC5",
                "#B0BEC5",
                "#B0BEC5",
                "#B0BEC5",
                "#B0BEC5",
                "#B0BEC5",
                "#B0BEC5",
                "#B0BEC5",
                "#B0BEC5",
                "#B0BEC5",
                "#B0BEC5",
                "#B0BEC5",
                "#B0BEC5",
                "#B0BEC5",
                "#B0BEC5",
                "#B0BEC5",
                "#B0BEC5",
                "#B0BEC5",
                "#B0BEC5",
                "#B0BEC5",
                "#B0BEC5",
                "#B0BEC5",
                "#B0BEC5",
                "#B0BEC5",
                "#B0BEC5",
                "#B0BEC5",
                "#B0BEC5",
                "#B0BEC5",
                "#B0BEC5",
                "#B0BEC5",
                "#B0BEC5",
                "#B0BEC5",
                "#B0BEC5",
                "#B0BEC5",
                "#B0BEC5",
                "#B0BEC5",
                "#B0BEC5",
                "#B0BEC5",
                "#B0BEC5",
                "#B0BEC5",
                "#B0BEC5",
                "#B0BEC5",
                "#B0BEC5",
                "#B0BEC5"
               ]
              ]
             }
            ],
            "label": "Topic 6",
            "method": "update"
           },
           {
            "args": [
             {
              "marker.color": [
               [
                "#B0BEC5",
                "#B0BEC5",
                "#B0BEC5",
                "#B0BEC5",
                "#B0BEC5",
                "#B0BEC5",
                "#B0BEC5",
                "red",
                "#B0BEC5",
                "#B0BEC5",
                "#B0BEC5",
                "#B0BEC5",
                "#B0BEC5",
                "#B0BEC5",
                "#B0BEC5",
                "#B0BEC5",
                "#B0BEC5",
                "#B0BEC5",
                "#B0BEC5",
                "#B0BEC5",
                "#B0BEC5",
                "#B0BEC5",
                "#B0BEC5",
                "#B0BEC5",
                "#B0BEC5",
                "#B0BEC5",
                "#B0BEC5",
                "#B0BEC5",
                "#B0BEC5",
                "#B0BEC5",
                "#B0BEC5",
                "#B0BEC5",
                "#B0BEC5",
                "#B0BEC5",
                "#B0BEC5",
                "#B0BEC5",
                "#B0BEC5",
                "#B0BEC5",
                "#B0BEC5",
                "#B0BEC5",
                "#B0BEC5",
                "#B0BEC5",
                "#B0BEC5",
                "#B0BEC5",
                "#B0BEC5",
                "#B0BEC5",
                "#B0BEC5",
                "#B0BEC5",
                "#B0BEC5",
                "#B0BEC5",
                "#B0BEC5",
                "#B0BEC5",
                "#B0BEC5",
                "#B0BEC5",
                "#B0BEC5",
                "#B0BEC5",
                "#B0BEC5",
                "#B0BEC5",
                "#B0BEC5"
               ]
              ]
             }
            ],
            "label": "Topic 7",
            "method": "update"
           },
           {
            "args": [
             {
              "marker.color": [
               [
                "#B0BEC5",
                "#B0BEC5",
                "#B0BEC5",
                "#B0BEC5",
                "#B0BEC5",
                "#B0BEC5",
                "#B0BEC5",
                "#B0BEC5",
                "red",
                "#B0BEC5",
                "#B0BEC5",
                "#B0BEC5",
                "#B0BEC5",
                "#B0BEC5",
                "#B0BEC5",
                "#B0BEC5",
                "#B0BEC5",
                "#B0BEC5",
                "#B0BEC5",
                "#B0BEC5",
                "#B0BEC5",
                "#B0BEC5",
                "#B0BEC5",
                "#B0BEC5",
                "#B0BEC5",
                "#B0BEC5",
                "#B0BEC5",
                "#B0BEC5",
                "#B0BEC5",
                "#B0BEC5",
                "#B0BEC5",
                "#B0BEC5",
                "#B0BEC5",
                "#B0BEC5",
                "#B0BEC5",
                "#B0BEC5",
                "#B0BEC5",
                "#B0BEC5",
                "#B0BEC5",
                "#B0BEC5",
                "#B0BEC5",
                "#B0BEC5",
                "#B0BEC5",
                "#B0BEC5",
                "#B0BEC5",
                "#B0BEC5",
                "#B0BEC5",
                "#B0BEC5",
                "#B0BEC5",
                "#B0BEC5",
                "#B0BEC5",
                "#B0BEC5",
                "#B0BEC5",
                "#B0BEC5",
                "#B0BEC5",
                "#B0BEC5",
                "#B0BEC5",
                "#B0BEC5",
                "#B0BEC5"
               ]
              ]
             }
            ],
            "label": "Topic 8",
            "method": "update"
           },
           {
            "args": [
             {
              "marker.color": [
               [
                "#B0BEC5",
                "#B0BEC5",
                "#B0BEC5",
                "#B0BEC5",
                "#B0BEC5",
                "#B0BEC5",
                "#B0BEC5",
                "#B0BEC5",
                "#B0BEC5",
                "red",
                "#B0BEC5",
                "#B0BEC5",
                "#B0BEC5",
                "#B0BEC5",
                "#B0BEC5",
                "#B0BEC5",
                "#B0BEC5",
                "#B0BEC5",
                "#B0BEC5",
                "#B0BEC5",
                "#B0BEC5",
                "#B0BEC5",
                "#B0BEC5",
                "#B0BEC5",
                "#B0BEC5",
                "#B0BEC5",
                "#B0BEC5",
                "#B0BEC5",
                "#B0BEC5",
                "#B0BEC5",
                "#B0BEC5",
                "#B0BEC5",
                "#B0BEC5",
                "#B0BEC5",
                "#B0BEC5",
                "#B0BEC5",
                "#B0BEC5",
                "#B0BEC5",
                "#B0BEC5",
                "#B0BEC5",
                "#B0BEC5",
                "#B0BEC5",
                "#B0BEC5",
                "#B0BEC5",
                "#B0BEC5",
                "#B0BEC5",
                "#B0BEC5",
                "#B0BEC5",
                "#B0BEC5",
                "#B0BEC5",
                "#B0BEC5",
                "#B0BEC5",
                "#B0BEC5",
                "#B0BEC5",
                "#B0BEC5",
                "#B0BEC5",
                "#B0BEC5",
                "#B0BEC5",
                "#B0BEC5"
               ]
              ]
             }
            ],
            "label": "Topic 9",
            "method": "update"
           },
           {
            "args": [
             {
              "marker.color": [
               [
                "#B0BEC5",
                "#B0BEC5",
                "#B0BEC5",
                "#B0BEC5",
                "#B0BEC5",
                "#B0BEC5",
                "#B0BEC5",
                "#B0BEC5",
                "#B0BEC5",
                "#B0BEC5",
                "red",
                "#B0BEC5",
                "#B0BEC5",
                "#B0BEC5",
                "#B0BEC5",
                "#B0BEC5",
                "#B0BEC5",
                "#B0BEC5",
                "#B0BEC5",
                "#B0BEC5",
                "#B0BEC5",
                "#B0BEC5",
                "#B0BEC5",
                "#B0BEC5",
                "#B0BEC5",
                "#B0BEC5",
                "#B0BEC5",
                "#B0BEC5",
                "#B0BEC5",
                "#B0BEC5",
                "#B0BEC5",
                "#B0BEC5",
                "#B0BEC5",
                "#B0BEC5",
                "#B0BEC5",
                "#B0BEC5",
                "#B0BEC5",
                "#B0BEC5",
                "#B0BEC5",
                "#B0BEC5",
                "#B0BEC5",
                "#B0BEC5",
                "#B0BEC5",
                "#B0BEC5",
                "#B0BEC5",
                "#B0BEC5",
                "#B0BEC5",
                "#B0BEC5",
                "#B0BEC5",
                "#B0BEC5",
                "#B0BEC5",
                "#B0BEC5",
                "#B0BEC5",
                "#B0BEC5",
                "#B0BEC5",
                "#B0BEC5",
                "#B0BEC5",
                "#B0BEC5",
                "#B0BEC5"
               ]
              ]
             }
            ],
            "label": "Topic 10",
            "method": "update"
           },
           {
            "args": [
             {
              "marker.color": [
               [
                "#B0BEC5",
                "#B0BEC5",
                "#B0BEC5",
                "#B0BEC5",
                "#B0BEC5",
                "#B0BEC5",
                "#B0BEC5",
                "#B0BEC5",
                "#B0BEC5",
                "#B0BEC5",
                "#B0BEC5",
                "red",
                "#B0BEC5",
                "#B0BEC5",
                "#B0BEC5",
                "#B0BEC5",
                "#B0BEC5",
                "#B0BEC5",
                "#B0BEC5",
                "#B0BEC5",
                "#B0BEC5",
                "#B0BEC5",
                "#B0BEC5",
                "#B0BEC5",
                "#B0BEC5",
                "#B0BEC5",
                "#B0BEC5",
                "#B0BEC5",
                "#B0BEC5",
                "#B0BEC5",
                "#B0BEC5",
                "#B0BEC5",
                "#B0BEC5",
                "#B0BEC5",
                "#B0BEC5",
                "#B0BEC5",
                "#B0BEC5",
                "#B0BEC5",
                "#B0BEC5",
                "#B0BEC5",
                "#B0BEC5",
                "#B0BEC5",
                "#B0BEC5",
                "#B0BEC5",
                "#B0BEC5",
                "#B0BEC5",
                "#B0BEC5",
                "#B0BEC5",
                "#B0BEC5",
                "#B0BEC5",
                "#B0BEC5",
                "#B0BEC5",
                "#B0BEC5",
                "#B0BEC5",
                "#B0BEC5",
                "#B0BEC5",
                "#B0BEC5",
                "#B0BEC5",
                "#B0BEC5"
               ]
              ]
             }
            ],
            "label": "Topic 11",
            "method": "update"
           },
           {
            "args": [
             {
              "marker.color": [
               [
                "#B0BEC5",
                "#B0BEC5",
                "#B0BEC5",
                "#B0BEC5",
                "#B0BEC5",
                "#B0BEC5",
                "#B0BEC5",
                "#B0BEC5",
                "#B0BEC5",
                "#B0BEC5",
                "#B0BEC5",
                "#B0BEC5",
                "red",
                "#B0BEC5",
                "#B0BEC5",
                "#B0BEC5",
                "#B0BEC5",
                "#B0BEC5",
                "#B0BEC5",
                "#B0BEC5",
                "#B0BEC5",
                "#B0BEC5",
                "#B0BEC5",
                "#B0BEC5",
                "#B0BEC5",
                "#B0BEC5",
                "#B0BEC5",
                "#B0BEC5",
                "#B0BEC5",
                "#B0BEC5",
                "#B0BEC5",
                "#B0BEC5",
                "#B0BEC5",
                "#B0BEC5",
                "#B0BEC5",
                "#B0BEC5",
                "#B0BEC5",
                "#B0BEC5",
                "#B0BEC5",
                "#B0BEC5",
                "#B0BEC5",
                "#B0BEC5",
                "#B0BEC5",
                "#B0BEC5",
                "#B0BEC5",
                "#B0BEC5",
                "#B0BEC5",
                "#B0BEC5",
                "#B0BEC5",
                "#B0BEC5",
                "#B0BEC5",
                "#B0BEC5",
                "#B0BEC5",
                "#B0BEC5",
                "#B0BEC5",
                "#B0BEC5",
                "#B0BEC5",
                "#B0BEC5",
                "#B0BEC5"
               ]
              ]
             }
            ],
            "label": "Topic 12",
            "method": "update"
           },
           {
            "args": [
             {
              "marker.color": [
               [
                "#B0BEC5",
                "#B0BEC5",
                "#B0BEC5",
                "#B0BEC5",
                "#B0BEC5",
                "#B0BEC5",
                "#B0BEC5",
                "#B0BEC5",
                "#B0BEC5",
                "#B0BEC5",
                "#B0BEC5",
                "#B0BEC5",
                "#B0BEC5",
                "red",
                "#B0BEC5",
                "#B0BEC5",
                "#B0BEC5",
                "#B0BEC5",
                "#B0BEC5",
                "#B0BEC5",
                "#B0BEC5",
                "#B0BEC5",
                "#B0BEC5",
                "#B0BEC5",
                "#B0BEC5",
                "#B0BEC5",
                "#B0BEC5",
                "#B0BEC5",
                "#B0BEC5",
                "#B0BEC5",
                "#B0BEC5",
                "#B0BEC5",
                "#B0BEC5",
                "#B0BEC5",
                "#B0BEC5",
                "#B0BEC5",
                "#B0BEC5",
                "#B0BEC5",
                "#B0BEC5",
                "#B0BEC5",
                "#B0BEC5",
                "#B0BEC5",
                "#B0BEC5",
                "#B0BEC5",
                "#B0BEC5",
                "#B0BEC5",
                "#B0BEC5",
                "#B0BEC5",
                "#B0BEC5",
                "#B0BEC5",
                "#B0BEC5",
                "#B0BEC5",
                "#B0BEC5",
                "#B0BEC5",
                "#B0BEC5",
                "#B0BEC5",
                "#B0BEC5",
                "#B0BEC5",
                "#B0BEC5"
               ]
              ]
             }
            ],
            "label": "Topic 13",
            "method": "update"
           },
           {
            "args": [
             {
              "marker.color": [
               [
                "#B0BEC5",
                "#B0BEC5",
                "#B0BEC5",
                "#B0BEC5",
                "#B0BEC5",
                "#B0BEC5",
                "#B0BEC5",
                "#B0BEC5",
                "#B0BEC5",
                "#B0BEC5",
                "#B0BEC5",
                "#B0BEC5",
                "#B0BEC5",
                "#B0BEC5",
                "red",
                "#B0BEC5",
                "#B0BEC5",
                "#B0BEC5",
                "#B0BEC5",
                "#B0BEC5",
                "#B0BEC5",
                "#B0BEC5",
                "#B0BEC5",
                "#B0BEC5",
                "#B0BEC5",
                "#B0BEC5",
                "#B0BEC5",
                "#B0BEC5",
                "#B0BEC5",
                "#B0BEC5",
                "#B0BEC5",
                "#B0BEC5",
                "#B0BEC5",
                "#B0BEC5",
                "#B0BEC5",
                "#B0BEC5",
                "#B0BEC5",
                "#B0BEC5",
                "#B0BEC5",
                "#B0BEC5",
                "#B0BEC5",
                "#B0BEC5",
                "#B0BEC5",
                "#B0BEC5",
                "#B0BEC5",
                "#B0BEC5",
                "#B0BEC5",
                "#B0BEC5",
                "#B0BEC5",
                "#B0BEC5",
                "#B0BEC5",
                "#B0BEC5",
                "#B0BEC5",
                "#B0BEC5",
                "#B0BEC5",
                "#B0BEC5",
                "#B0BEC5",
                "#B0BEC5",
                "#B0BEC5"
               ]
              ]
             }
            ],
            "label": "Topic 14",
            "method": "update"
           },
           {
            "args": [
             {
              "marker.color": [
               [
                "#B0BEC5",
                "#B0BEC5",
                "#B0BEC5",
                "#B0BEC5",
                "#B0BEC5",
                "#B0BEC5",
                "#B0BEC5",
                "#B0BEC5",
                "#B0BEC5",
                "#B0BEC5",
                "#B0BEC5",
                "#B0BEC5",
                "#B0BEC5",
                "#B0BEC5",
                "#B0BEC5",
                "red",
                "#B0BEC5",
                "#B0BEC5",
                "#B0BEC5",
                "#B0BEC5",
                "#B0BEC5",
                "#B0BEC5",
                "#B0BEC5",
                "#B0BEC5",
                "#B0BEC5",
                "#B0BEC5",
                "#B0BEC5",
                "#B0BEC5",
                "#B0BEC5",
                "#B0BEC5",
                "#B0BEC5",
                "#B0BEC5",
                "#B0BEC5",
                "#B0BEC5",
                "#B0BEC5",
                "#B0BEC5",
                "#B0BEC5",
                "#B0BEC5",
                "#B0BEC5",
                "#B0BEC5",
                "#B0BEC5",
                "#B0BEC5",
                "#B0BEC5",
                "#B0BEC5",
                "#B0BEC5",
                "#B0BEC5",
                "#B0BEC5",
                "#B0BEC5",
                "#B0BEC5",
                "#B0BEC5",
                "#B0BEC5",
                "#B0BEC5",
                "#B0BEC5",
                "#B0BEC5",
                "#B0BEC5",
                "#B0BEC5",
                "#B0BEC5",
                "#B0BEC5",
                "#B0BEC5"
               ]
              ]
             }
            ],
            "label": "Topic 15",
            "method": "update"
           },
           {
            "args": [
             {
              "marker.color": [
               [
                "#B0BEC5",
                "#B0BEC5",
                "#B0BEC5",
                "#B0BEC5",
                "#B0BEC5",
                "#B0BEC5",
                "#B0BEC5",
                "#B0BEC5",
                "#B0BEC5",
                "#B0BEC5",
                "#B0BEC5",
                "#B0BEC5",
                "#B0BEC5",
                "#B0BEC5",
                "#B0BEC5",
                "#B0BEC5",
                "red",
                "#B0BEC5",
                "#B0BEC5",
                "#B0BEC5",
                "#B0BEC5",
                "#B0BEC5",
                "#B0BEC5",
                "#B0BEC5",
                "#B0BEC5",
                "#B0BEC5",
                "#B0BEC5",
                "#B0BEC5",
                "#B0BEC5",
                "#B0BEC5",
                "#B0BEC5",
                "#B0BEC5",
                "#B0BEC5",
                "#B0BEC5",
                "#B0BEC5",
                "#B0BEC5",
                "#B0BEC5",
                "#B0BEC5",
                "#B0BEC5",
                "#B0BEC5",
                "#B0BEC5",
                "#B0BEC5",
                "#B0BEC5",
                "#B0BEC5",
                "#B0BEC5",
                "#B0BEC5",
                "#B0BEC5",
                "#B0BEC5",
                "#B0BEC5",
                "#B0BEC5",
                "#B0BEC5",
                "#B0BEC5",
                "#B0BEC5",
                "#B0BEC5",
                "#B0BEC5",
                "#B0BEC5",
                "#B0BEC5",
                "#B0BEC5",
                "#B0BEC5"
               ]
              ]
             }
            ],
            "label": "Topic 16",
            "method": "update"
           },
           {
            "args": [
             {
              "marker.color": [
               [
                "#B0BEC5",
                "#B0BEC5",
                "#B0BEC5",
                "#B0BEC5",
                "#B0BEC5",
                "#B0BEC5",
                "#B0BEC5",
                "#B0BEC5",
                "#B0BEC5",
                "#B0BEC5",
                "#B0BEC5",
                "#B0BEC5",
                "#B0BEC5",
                "#B0BEC5",
                "#B0BEC5",
                "#B0BEC5",
                "#B0BEC5",
                "red",
                "#B0BEC5",
                "#B0BEC5",
                "#B0BEC5",
                "#B0BEC5",
                "#B0BEC5",
                "#B0BEC5",
                "#B0BEC5",
                "#B0BEC5",
                "#B0BEC5",
                "#B0BEC5",
                "#B0BEC5",
                "#B0BEC5",
                "#B0BEC5",
                "#B0BEC5",
                "#B0BEC5",
                "#B0BEC5",
                "#B0BEC5",
                "#B0BEC5",
                "#B0BEC5",
                "#B0BEC5",
                "#B0BEC5",
                "#B0BEC5",
                "#B0BEC5",
                "#B0BEC5",
                "#B0BEC5",
                "#B0BEC5",
                "#B0BEC5",
                "#B0BEC5",
                "#B0BEC5",
                "#B0BEC5",
                "#B0BEC5",
                "#B0BEC5",
                "#B0BEC5",
                "#B0BEC5",
                "#B0BEC5",
                "#B0BEC5",
                "#B0BEC5",
                "#B0BEC5",
                "#B0BEC5",
                "#B0BEC5",
                "#B0BEC5"
               ]
              ]
             }
            ],
            "label": "Topic 17",
            "method": "update"
           },
           {
            "args": [
             {
              "marker.color": [
               [
                "#B0BEC5",
                "#B0BEC5",
                "#B0BEC5",
                "#B0BEC5",
                "#B0BEC5",
                "#B0BEC5",
                "#B0BEC5",
                "#B0BEC5",
                "#B0BEC5",
                "#B0BEC5",
                "#B0BEC5",
                "#B0BEC5",
                "#B0BEC5",
                "#B0BEC5",
                "#B0BEC5",
                "#B0BEC5",
                "#B0BEC5",
                "#B0BEC5",
                "red",
                "#B0BEC5",
                "#B0BEC5",
                "#B0BEC5",
                "#B0BEC5",
                "#B0BEC5",
                "#B0BEC5",
                "#B0BEC5",
                "#B0BEC5",
                "#B0BEC5",
                "#B0BEC5",
                "#B0BEC5",
                "#B0BEC5",
                "#B0BEC5",
                "#B0BEC5",
                "#B0BEC5",
                "#B0BEC5",
                "#B0BEC5",
                "#B0BEC5",
                "#B0BEC5",
                "#B0BEC5",
                "#B0BEC5",
                "#B0BEC5",
                "#B0BEC5",
                "#B0BEC5",
                "#B0BEC5",
                "#B0BEC5",
                "#B0BEC5",
                "#B0BEC5",
                "#B0BEC5",
                "#B0BEC5",
                "#B0BEC5",
                "#B0BEC5",
                "#B0BEC5",
                "#B0BEC5",
                "#B0BEC5",
                "#B0BEC5",
                "#B0BEC5",
                "#B0BEC5",
                "#B0BEC5",
                "#B0BEC5"
               ]
              ]
             }
            ],
            "label": "Topic 18",
            "method": "update"
           },
           {
            "args": [
             {
              "marker.color": [
               [
                "#B0BEC5",
                "#B0BEC5",
                "#B0BEC5",
                "#B0BEC5",
                "#B0BEC5",
                "#B0BEC5",
                "#B0BEC5",
                "#B0BEC5",
                "#B0BEC5",
                "#B0BEC5",
                "#B0BEC5",
                "#B0BEC5",
                "#B0BEC5",
                "#B0BEC5",
                "#B0BEC5",
                "#B0BEC5",
                "#B0BEC5",
                "#B0BEC5",
                "#B0BEC5",
                "red",
                "#B0BEC5",
                "#B0BEC5",
                "#B0BEC5",
                "#B0BEC5",
                "#B0BEC5",
                "#B0BEC5",
                "#B0BEC5",
                "#B0BEC5",
                "#B0BEC5",
                "#B0BEC5",
                "#B0BEC5",
                "#B0BEC5",
                "#B0BEC5",
                "#B0BEC5",
                "#B0BEC5",
                "#B0BEC5",
                "#B0BEC5",
                "#B0BEC5",
                "#B0BEC5",
                "#B0BEC5",
                "#B0BEC5",
                "#B0BEC5",
                "#B0BEC5",
                "#B0BEC5",
                "#B0BEC5",
                "#B0BEC5",
                "#B0BEC5",
                "#B0BEC5",
                "#B0BEC5",
                "#B0BEC5",
                "#B0BEC5",
                "#B0BEC5",
                "#B0BEC5",
                "#B0BEC5",
                "#B0BEC5",
                "#B0BEC5",
                "#B0BEC5",
                "#B0BEC5",
                "#B0BEC5"
               ]
              ]
             }
            ],
            "label": "Topic 19",
            "method": "update"
           },
           {
            "args": [
             {
              "marker.color": [
               [
                "#B0BEC5",
                "#B0BEC5",
                "#B0BEC5",
                "#B0BEC5",
                "#B0BEC5",
                "#B0BEC5",
                "#B0BEC5",
                "#B0BEC5",
                "#B0BEC5",
                "#B0BEC5",
                "#B0BEC5",
                "#B0BEC5",
                "#B0BEC5",
                "#B0BEC5",
                "#B0BEC5",
                "#B0BEC5",
                "#B0BEC5",
                "#B0BEC5",
                "#B0BEC5",
                "#B0BEC5",
                "red",
                "#B0BEC5",
                "#B0BEC5",
                "#B0BEC5",
                "#B0BEC5",
                "#B0BEC5",
                "#B0BEC5",
                "#B0BEC5",
                "#B0BEC5",
                "#B0BEC5",
                "#B0BEC5",
                "#B0BEC5",
                "#B0BEC5",
                "#B0BEC5",
                "#B0BEC5",
                "#B0BEC5",
                "#B0BEC5",
                "#B0BEC5",
                "#B0BEC5",
                "#B0BEC5",
                "#B0BEC5",
                "#B0BEC5",
                "#B0BEC5",
                "#B0BEC5",
                "#B0BEC5",
                "#B0BEC5",
                "#B0BEC5",
                "#B0BEC5",
                "#B0BEC5",
                "#B0BEC5",
                "#B0BEC5",
                "#B0BEC5",
                "#B0BEC5",
                "#B0BEC5",
                "#B0BEC5",
                "#B0BEC5",
                "#B0BEC5",
                "#B0BEC5",
                "#B0BEC5"
               ]
              ]
             }
            ],
            "label": "Topic 20",
            "method": "update"
           },
           {
            "args": [
             {
              "marker.color": [
               [
                "#B0BEC5",
                "#B0BEC5",
                "#B0BEC5",
                "#B0BEC5",
                "#B0BEC5",
                "#B0BEC5",
                "#B0BEC5",
                "#B0BEC5",
                "#B0BEC5",
                "#B0BEC5",
                "#B0BEC5",
                "#B0BEC5",
                "#B0BEC5",
                "#B0BEC5",
                "#B0BEC5",
                "#B0BEC5",
                "#B0BEC5",
                "#B0BEC5",
                "#B0BEC5",
                "#B0BEC5",
                "#B0BEC5",
                "red",
                "#B0BEC5",
                "#B0BEC5",
                "#B0BEC5",
                "#B0BEC5",
                "#B0BEC5",
                "#B0BEC5",
                "#B0BEC5",
                "#B0BEC5",
                "#B0BEC5",
                "#B0BEC5",
                "#B0BEC5",
                "#B0BEC5",
                "#B0BEC5",
                "#B0BEC5",
                "#B0BEC5",
                "#B0BEC5",
                "#B0BEC5",
                "#B0BEC5",
                "#B0BEC5",
                "#B0BEC5",
                "#B0BEC5",
                "#B0BEC5",
                "#B0BEC5",
                "#B0BEC5",
                "#B0BEC5",
                "#B0BEC5",
                "#B0BEC5",
                "#B0BEC5",
                "#B0BEC5",
                "#B0BEC5",
                "#B0BEC5",
                "#B0BEC5",
                "#B0BEC5",
                "#B0BEC5",
                "#B0BEC5",
                "#B0BEC5",
                "#B0BEC5"
               ]
              ]
             }
            ],
            "label": "Topic 21",
            "method": "update"
           },
           {
            "args": [
             {
              "marker.color": [
               [
                "#B0BEC5",
                "#B0BEC5",
                "#B0BEC5",
                "#B0BEC5",
                "#B0BEC5",
                "#B0BEC5",
                "#B0BEC5",
                "#B0BEC5",
                "#B0BEC5",
                "#B0BEC5",
                "#B0BEC5",
                "#B0BEC5",
                "#B0BEC5",
                "#B0BEC5",
                "#B0BEC5",
                "#B0BEC5",
                "#B0BEC5",
                "#B0BEC5",
                "#B0BEC5",
                "#B0BEC5",
                "#B0BEC5",
                "#B0BEC5",
                "red",
                "#B0BEC5",
                "#B0BEC5",
                "#B0BEC5",
                "#B0BEC5",
                "#B0BEC5",
                "#B0BEC5",
                "#B0BEC5",
                "#B0BEC5",
                "#B0BEC5",
                "#B0BEC5",
                "#B0BEC5",
                "#B0BEC5",
                "#B0BEC5",
                "#B0BEC5",
                "#B0BEC5",
                "#B0BEC5",
                "#B0BEC5",
                "#B0BEC5",
                "#B0BEC5",
                "#B0BEC5",
                "#B0BEC5",
                "#B0BEC5",
                "#B0BEC5",
                "#B0BEC5",
                "#B0BEC5",
                "#B0BEC5",
                "#B0BEC5",
                "#B0BEC5",
                "#B0BEC5",
                "#B0BEC5",
                "#B0BEC5",
                "#B0BEC5",
                "#B0BEC5",
                "#B0BEC5",
                "#B0BEC5",
                "#B0BEC5"
               ]
              ]
             }
            ],
            "label": "Topic 22",
            "method": "update"
           },
           {
            "args": [
             {
              "marker.color": [
               [
                "#B0BEC5",
                "#B0BEC5",
                "#B0BEC5",
                "#B0BEC5",
                "#B0BEC5",
                "#B0BEC5",
                "#B0BEC5",
                "#B0BEC5",
                "#B0BEC5",
                "#B0BEC5",
                "#B0BEC5",
                "#B0BEC5",
                "#B0BEC5",
                "#B0BEC5",
                "#B0BEC5",
                "#B0BEC5",
                "#B0BEC5",
                "#B0BEC5",
                "#B0BEC5",
                "#B0BEC5",
                "#B0BEC5",
                "#B0BEC5",
                "#B0BEC5",
                "red",
                "#B0BEC5",
                "#B0BEC5",
                "#B0BEC5",
                "#B0BEC5",
                "#B0BEC5",
                "#B0BEC5",
                "#B0BEC5",
                "#B0BEC5",
                "#B0BEC5",
                "#B0BEC5",
                "#B0BEC5",
                "#B0BEC5",
                "#B0BEC5",
                "#B0BEC5",
                "#B0BEC5",
                "#B0BEC5",
                "#B0BEC5",
                "#B0BEC5",
                "#B0BEC5",
                "#B0BEC5",
                "#B0BEC5",
                "#B0BEC5",
                "#B0BEC5",
                "#B0BEC5",
                "#B0BEC5",
                "#B0BEC5",
                "#B0BEC5",
                "#B0BEC5",
                "#B0BEC5",
                "#B0BEC5",
                "#B0BEC5",
                "#B0BEC5",
                "#B0BEC5",
                "#B0BEC5",
                "#B0BEC5"
               ]
              ]
             }
            ],
            "label": "Topic 23",
            "method": "update"
           },
           {
            "args": [
             {
              "marker.color": [
               [
                "#B0BEC5",
                "#B0BEC5",
                "#B0BEC5",
                "#B0BEC5",
                "#B0BEC5",
                "#B0BEC5",
                "#B0BEC5",
                "#B0BEC5",
                "#B0BEC5",
                "#B0BEC5",
                "#B0BEC5",
                "#B0BEC5",
                "#B0BEC5",
                "#B0BEC5",
                "#B0BEC5",
                "#B0BEC5",
                "#B0BEC5",
                "#B0BEC5",
                "#B0BEC5",
                "#B0BEC5",
                "#B0BEC5",
                "#B0BEC5",
                "#B0BEC5",
                "#B0BEC5",
                "red",
                "#B0BEC5",
                "#B0BEC5",
                "#B0BEC5",
                "#B0BEC5",
                "#B0BEC5",
                "#B0BEC5",
                "#B0BEC5",
                "#B0BEC5",
                "#B0BEC5",
                "#B0BEC5",
                "#B0BEC5",
                "#B0BEC5",
                "#B0BEC5",
                "#B0BEC5",
                "#B0BEC5",
                "#B0BEC5",
                "#B0BEC5",
                "#B0BEC5",
                "#B0BEC5",
                "#B0BEC5",
                "#B0BEC5",
                "#B0BEC5",
                "#B0BEC5",
                "#B0BEC5",
                "#B0BEC5",
                "#B0BEC5",
                "#B0BEC5",
                "#B0BEC5",
                "#B0BEC5",
                "#B0BEC5",
                "#B0BEC5",
                "#B0BEC5",
                "#B0BEC5",
                "#B0BEC5"
               ]
              ]
             }
            ],
            "label": "Topic 24",
            "method": "update"
           },
           {
            "args": [
             {
              "marker.color": [
               [
                "#B0BEC5",
                "#B0BEC5",
                "#B0BEC5",
                "#B0BEC5",
                "#B0BEC5",
                "#B0BEC5",
                "#B0BEC5",
                "#B0BEC5",
                "#B0BEC5",
                "#B0BEC5",
                "#B0BEC5",
                "#B0BEC5",
                "#B0BEC5",
                "#B0BEC5",
                "#B0BEC5",
                "#B0BEC5",
                "#B0BEC5",
                "#B0BEC5",
                "#B0BEC5",
                "#B0BEC5",
                "#B0BEC5",
                "#B0BEC5",
                "#B0BEC5",
                "#B0BEC5",
                "#B0BEC5",
                "red",
                "#B0BEC5",
                "#B0BEC5",
                "#B0BEC5",
                "#B0BEC5",
                "#B0BEC5",
                "#B0BEC5",
                "#B0BEC5",
                "#B0BEC5",
                "#B0BEC5",
                "#B0BEC5",
                "#B0BEC5",
                "#B0BEC5",
                "#B0BEC5",
                "#B0BEC5",
                "#B0BEC5",
                "#B0BEC5",
                "#B0BEC5",
                "#B0BEC5",
                "#B0BEC5",
                "#B0BEC5",
                "#B0BEC5",
                "#B0BEC5",
                "#B0BEC5",
                "#B0BEC5",
                "#B0BEC5",
                "#B0BEC5",
                "#B0BEC5",
                "#B0BEC5",
                "#B0BEC5",
                "#B0BEC5",
                "#B0BEC5",
                "#B0BEC5",
                "#B0BEC5"
               ]
              ]
             }
            ],
            "label": "Topic 25",
            "method": "update"
           },
           {
            "args": [
             {
              "marker.color": [
               [
                "#B0BEC5",
                "#B0BEC5",
                "#B0BEC5",
                "#B0BEC5",
                "#B0BEC5",
                "#B0BEC5",
                "#B0BEC5",
                "#B0BEC5",
                "#B0BEC5",
                "#B0BEC5",
                "#B0BEC5",
                "#B0BEC5",
                "#B0BEC5",
                "#B0BEC5",
                "#B0BEC5",
                "#B0BEC5",
                "#B0BEC5",
                "#B0BEC5",
                "#B0BEC5",
                "#B0BEC5",
                "#B0BEC5",
                "#B0BEC5",
                "#B0BEC5",
                "#B0BEC5",
                "#B0BEC5",
                "#B0BEC5",
                "red",
                "#B0BEC5",
                "#B0BEC5",
                "#B0BEC5",
                "#B0BEC5",
                "#B0BEC5",
                "#B0BEC5",
                "#B0BEC5",
                "#B0BEC5",
                "#B0BEC5",
                "#B0BEC5",
                "#B0BEC5",
                "#B0BEC5",
                "#B0BEC5",
                "#B0BEC5",
                "#B0BEC5",
                "#B0BEC5",
                "#B0BEC5",
                "#B0BEC5",
                "#B0BEC5",
                "#B0BEC5",
                "#B0BEC5",
                "#B0BEC5",
                "#B0BEC5",
                "#B0BEC5",
                "#B0BEC5",
                "#B0BEC5",
                "#B0BEC5",
                "#B0BEC5",
                "#B0BEC5",
                "#B0BEC5",
                "#B0BEC5",
                "#B0BEC5"
               ]
              ]
             }
            ],
            "label": "Topic 26",
            "method": "update"
           },
           {
            "args": [
             {
              "marker.color": [
               [
                "#B0BEC5",
                "#B0BEC5",
                "#B0BEC5",
                "#B0BEC5",
                "#B0BEC5",
                "#B0BEC5",
                "#B0BEC5",
                "#B0BEC5",
                "#B0BEC5",
                "#B0BEC5",
                "#B0BEC5",
                "#B0BEC5",
                "#B0BEC5",
                "#B0BEC5",
                "#B0BEC5",
                "#B0BEC5",
                "#B0BEC5",
                "#B0BEC5",
                "#B0BEC5",
                "#B0BEC5",
                "#B0BEC5",
                "#B0BEC5",
                "#B0BEC5",
                "#B0BEC5",
                "#B0BEC5",
                "#B0BEC5",
                "#B0BEC5",
                "red",
                "#B0BEC5",
                "#B0BEC5",
                "#B0BEC5",
                "#B0BEC5",
                "#B0BEC5",
                "#B0BEC5",
                "#B0BEC5",
                "#B0BEC5",
                "#B0BEC5",
                "#B0BEC5",
                "#B0BEC5",
                "#B0BEC5",
                "#B0BEC5",
                "#B0BEC5",
                "#B0BEC5",
                "#B0BEC5",
                "#B0BEC5",
                "#B0BEC5",
                "#B0BEC5",
                "#B0BEC5",
                "#B0BEC5",
                "#B0BEC5",
                "#B0BEC5",
                "#B0BEC5",
                "#B0BEC5",
                "#B0BEC5",
                "#B0BEC5",
                "#B0BEC5",
                "#B0BEC5",
                "#B0BEC5",
                "#B0BEC5"
               ]
              ]
             }
            ],
            "label": "Topic 27",
            "method": "update"
           },
           {
            "args": [
             {
              "marker.color": [
               [
                "#B0BEC5",
                "#B0BEC5",
                "#B0BEC5",
                "#B0BEC5",
                "#B0BEC5",
                "#B0BEC5",
                "#B0BEC5",
                "#B0BEC5",
                "#B0BEC5",
                "#B0BEC5",
                "#B0BEC5",
                "#B0BEC5",
                "#B0BEC5",
                "#B0BEC5",
                "#B0BEC5",
                "#B0BEC5",
                "#B0BEC5",
                "#B0BEC5",
                "#B0BEC5",
                "#B0BEC5",
                "#B0BEC5",
                "#B0BEC5",
                "#B0BEC5",
                "#B0BEC5",
                "#B0BEC5",
                "#B0BEC5",
                "#B0BEC5",
                "#B0BEC5",
                "red",
                "#B0BEC5",
                "#B0BEC5",
                "#B0BEC5",
                "#B0BEC5",
                "#B0BEC5",
                "#B0BEC5",
                "#B0BEC5",
                "#B0BEC5",
                "#B0BEC5",
                "#B0BEC5",
                "#B0BEC5",
                "#B0BEC5",
                "#B0BEC5",
                "#B0BEC5",
                "#B0BEC5",
                "#B0BEC5",
                "#B0BEC5",
                "#B0BEC5",
                "#B0BEC5",
                "#B0BEC5",
                "#B0BEC5",
                "#B0BEC5",
                "#B0BEC5",
                "#B0BEC5",
                "#B0BEC5",
                "#B0BEC5",
                "#B0BEC5",
                "#B0BEC5",
                "#B0BEC5",
                "#B0BEC5"
               ]
              ]
             }
            ],
            "label": "Topic 28",
            "method": "update"
           },
           {
            "args": [
             {
              "marker.color": [
               [
                "#B0BEC5",
                "#B0BEC5",
                "#B0BEC5",
                "#B0BEC5",
                "#B0BEC5",
                "#B0BEC5",
                "#B0BEC5",
                "#B0BEC5",
                "#B0BEC5",
                "#B0BEC5",
                "#B0BEC5",
                "#B0BEC5",
                "#B0BEC5",
                "#B0BEC5",
                "#B0BEC5",
                "#B0BEC5",
                "#B0BEC5",
                "#B0BEC5",
                "#B0BEC5",
                "#B0BEC5",
                "#B0BEC5",
                "#B0BEC5",
                "#B0BEC5",
                "#B0BEC5",
                "#B0BEC5",
                "#B0BEC5",
                "#B0BEC5",
                "#B0BEC5",
                "#B0BEC5",
                "red",
                "#B0BEC5",
                "#B0BEC5",
                "#B0BEC5",
                "#B0BEC5",
                "#B0BEC5",
                "#B0BEC5",
                "#B0BEC5",
                "#B0BEC5",
                "#B0BEC5",
                "#B0BEC5",
                "#B0BEC5",
                "#B0BEC5",
                "#B0BEC5",
                "#B0BEC5",
                "#B0BEC5",
                "#B0BEC5",
                "#B0BEC5",
                "#B0BEC5",
                "#B0BEC5",
                "#B0BEC5",
                "#B0BEC5",
                "#B0BEC5",
                "#B0BEC5",
                "#B0BEC5",
                "#B0BEC5",
                "#B0BEC5",
                "#B0BEC5",
                "#B0BEC5",
                "#B0BEC5"
               ]
              ]
             }
            ],
            "label": "Topic 29",
            "method": "update"
           },
           {
            "args": [
             {
              "marker.color": [
               [
                "#B0BEC5",
                "#B0BEC5",
                "#B0BEC5",
                "#B0BEC5",
                "#B0BEC5",
                "#B0BEC5",
                "#B0BEC5",
                "#B0BEC5",
                "#B0BEC5",
                "#B0BEC5",
                "#B0BEC5",
                "#B0BEC5",
                "#B0BEC5",
                "#B0BEC5",
                "#B0BEC5",
                "#B0BEC5",
                "#B0BEC5",
                "#B0BEC5",
                "#B0BEC5",
                "#B0BEC5",
                "#B0BEC5",
                "#B0BEC5",
                "#B0BEC5",
                "#B0BEC5",
                "#B0BEC5",
                "#B0BEC5",
                "#B0BEC5",
                "#B0BEC5",
                "#B0BEC5",
                "#B0BEC5",
                "red",
                "#B0BEC5",
                "#B0BEC5",
                "#B0BEC5",
                "#B0BEC5",
                "#B0BEC5",
                "#B0BEC5",
                "#B0BEC5",
                "#B0BEC5",
                "#B0BEC5",
                "#B0BEC5",
                "#B0BEC5",
                "#B0BEC5",
                "#B0BEC5",
                "#B0BEC5",
                "#B0BEC5",
                "#B0BEC5",
                "#B0BEC5",
                "#B0BEC5",
                "#B0BEC5",
                "#B0BEC5",
                "#B0BEC5",
                "#B0BEC5",
                "#B0BEC5",
                "#B0BEC5",
                "#B0BEC5",
                "#B0BEC5",
                "#B0BEC5",
                "#B0BEC5"
               ]
              ]
             }
            ],
            "label": "Topic 30",
            "method": "update"
           },
           {
            "args": [
             {
              "marker.color": [
               [
                "#B0BEC5",
                "#B0BEC5",
                "#B0BEC5",
                "#B0BEC5",
                "#B0BEC5",
                "#B0BEC5",
                "#B0BEC5",
                "#B0BEC5",
                "#B0BEC5",
                "#B0BEC5",
                "#B0BEC5",
                "#B0BEC5",
                "#B0BEC5",
                "#B0BEC5",
                "#B0BEC5",
                "#B0BEC5",
                "#B0BEC5",
                "#B0BEC5",
                "#B0BEC5",
                "#B0BEC5",
                "#B0BEC5",
                "#B0BEC5",
                "#B0BEC5",
                "#B0BEC5",
                "#B0BEC5",
                "#B0BEC5",
                "#B0BEC5",
                "#B0BEC5",
                "#B0BEC5",
                "#B0BEC5",
                "#B0BEC5",
                "red",
                "#B0BEC5",
                "#B0BEC5",
                "#B0BEC5",
                "#B0BEC5",
                "#B0BEC5",
                "#B0BEC5",
                "#B0BEC5",
                "#B0BEC5",
                "#B0BEC5",
                "#B0BEC5",
                "#B0BEC5",
                "#B0BEC5",
                "#B0BEC5",
                "#B0BEC5",
                "#B0BEC5",
                "#B0BEC5",
                "#B0BEC5",
                "#B0BEC5",
                "#B0BEC5",
                "#B0BEC5",
                "#B0BEC5",
                "#B0BEC5",
                "#B0BEC5",
                "#B0BEC5",
                "#B0BEC5",
                "#B0BEC5",
                "#B0BEC5"
               ]
              ]
             }
            ],
            "label": "Topic 31",
            "method": "update"
           },
           {
            "args": [
             {
              "marker.color": [
               [
                "#B0BEC5",
                "#B0BEC5",
                "#B0BEC5",
                "#B0BEC5",
                "#B0BEC5",
                "#B0BEC5",
                "#B0BEC5",
                "#B0BEC5",
                "#B0BEC5",
                "#B0BEC5",
                "#B0BEC5",
                "#B0BEC5",
                "#B0BEC5",
                "#B0BEC5",
                "#B0BEC5",
                "#B0BEC5",
                "#B0BEC5",
                "#B0BEC5",
                "#B0BEC5",
                "#B0BEC5",
                "#B0BEC5",
                "#B0BEC5",
                "#B0BEC5",
                "#B0BEC5",
                "#B0BEC5",
                "#B0BEC5",
                "#B0BEC5",
                "#B0BEC5",
                "#B0BEC5",
                "#B0BEC5",
                "#B0BEC5",
                "#B0BEC5",
                "red",
                "#B0BEC5",
                "#B0BEC5",
                "#B0BEC5",
                "#B0BEC5",
                "#B0BEC5",
                "#B0BEC5",
                "#B0BEC5",
                "#B0BEC5",
                "#B0BEC5",
                "#B0BEC5",
                "#B0BEC5",
                "#B0BEC5",
                "#B0BEC5",
                "#B0BEC5",
                "#B0BEC5",
                "#B0BEC5",
                "#B0BEC5",
                "#B0BEC5",
                "#B0BEC5",
                "#B0BEC5",
                "#B0BEC5",
                "#B0BEC5",
                "#B0BEC5",
                "#B0BEC5",
                "#B0BEC5",
                "#B0BEC5"
               ]
              ]
             }
            ],
            "label": "Topic 32",
            "method": "update"
           },
           {
            "args": [
             {
              "marker.color": [
               [
                "#B0BEC5",
                "#B0BEC5",
                "#B0BEC5",
                "#B0BEC5",
                "#B0BEC5",
                "#B0BEC5",
                "#B0BEC5",
                "#B0BEC5",
                "#B0BEC5",
                "#B0BEC5",
                "#B0BEC5",
                "#B0BEC5",
                "#B0BEC5",
                "#B0BEC5",
                "#B0BEC5",
                "#B0BEC5",
                "#B0BEC5",
                "#B0BEC5",
                "#B0BEC5",
                "#B0BEC5",
                "#B0BEC5",
                "#B0BEC5",
                "#B0BEC5",
                "#B0BEC5",
                "#B0BEC5",
                "#B0BEC5",
                "#B0BEC5",
                "#B0BEC5",
                "#B0BEC5",
                "#B0BEC5",
                "#B0BEC5",
                "#B0BEC5",
                "#B0BEC5",
                "red",
                "#B0BEC5",
                "#B0BEC5",
                "#B0BEC5",
                "#B0BEC5",
                "#B0BEC5",
                "#B0BEC5",
                "#B0BEC5",
                "#B0BEC5",
                "#B0BEC5",
                "#B0BEC5",
                "#B0BEC5",
                "#B0BEC5",
                "#B0BEC5",
                "#B0BEC5",
                "#B0BEC5",
                "#B0BEC5",
                "#B0BEC5",
                "#B0BEC5",
                "#B0BEC5",
                "#B0BEC5",
                "#B0BEC5",
                "#B0BEC5",
                "#B0BEC5",
                "#B0BEC5",
                "#B0BEC5"
               ]
              ]
             }
            ],
            "label": "Topic 33",
            "method": "update"
           },
           {
            "args": [
             {
              "marker.color": [
               [
                "#B0BEC5",
                "#B0BEC5",
                "#B0BEC5",
                "#B0BEC5",
                "#B0BEC5",
                "#B0BEC5",
                "#B0BEC5",
                "#B0BEC5",
                "#B0BEC5",
                "#B0BEC5",
                "#B0BEC5",
                "#B0BEC5",
                "#B0BEC5",
                "#B0BEC5",
                "#B0BEC5",
                "#B0BEC5",
                "#B0BEC5",
                "#B0BEC5",
                "#B0BEC5",
                "#B0BEC5",
                "#B0BEC5",
                "#B0BEC5",
                "#B0BEC5",
                "#B0BEC5",
                "#B0BEC5",
                "#B0BEC5",
                "#B0BEC5",
                "#B0BEC5",
                "#B0BEC5",
                "#B0BEC5",
                "#B0BEC5",
                "#B0BEC5",
                "#B0BEC5",
                "#B0BEC5",
                "red",
                "#B0BEC5",
                "#B0BEC5",
                "#B0BEC5",
                "#B0BEC5",
                "#B0BEC5",
                "#B0BEC5",
                "#B0BEC5",
                "#B0BEC5",
                "#B0BEC5",
                "#B0BEC5",
                "#B0BEC5",
                "#B0BEC5",
                "#B0BEC5",
                "#B0BEC5",
                "#B0BEC5",
                "#B0BEC5",
                "#B0BEC5",
                "#B0BEC5",
                "#B0BEC5",
                "#B0BEC5",
                "#B0BEC5",
                "#B0BEC5",
                "#B0BEC5",
                "#B0BEC5"
               ]
              ]
             }
            ],
            "label": "Topic 34",
            "method": "update"
           },
           {
            "args": [
             {
              "marker.color": [
               [
                "#B0BEC5",
                "#B0BEC5",
                "#B0BEC5",
                "#B0BEC5",
                "#B0BEC5",
                "#B0BEC5",
                "#B0BEC5",
                "#B0BEC5",
                "#B0BEC5",
                "#B0BEC5",
                "#B0BEC5",
                "#B0BEC5",
                "#B0BEC5",
                "#B0BEC5",
                "#B0BEC5",
                "#B0BEC5",
                "#B0BEC5",
                "#B0BEC5",
                "#B0BEC5",
                "#B0BEC5",
                "#B0BEC5",
                "#B0BEC5",
                "#B0BEC5",
                "#B0BEC5",
                "#B0BEC5",
                "#B0BEC5",
                "#B0BEC5",
                "#B0BEC5",
                "#B0BEC5",
                "#B0BEC5",
                "#B0BEC5",
                "#B0BEC5",
                "#B0BEC5",
                "#B0BEC5",
                "#B0BEC5",
                "red",
                "#B0BEC5",
                "#B0BEC5",
                "#B0BEC5",
                "#B0BEC5",
                "#B0BEC5",
                "#B0BEC5",
                "#B0BEC5",
                "#B0BEC5",
                "#B0BEC5",
                "#B0BEC5",
                "#B0BEC5",
                "#B0BEC5",
                "#B0BEC5",
                "#B0BEC5",
                "#B0BEC5",
                "#B0BEC5",
                "#B0BEC5",
                "#B0BEC5",
                "#B0BEC5",
                "#B0BEC5",
                "#B0BEC5",
                "#B0BEC5",
                "#B0BEC5"
               ]
              ]
             }
            ],
            "label": "Topic 35",
            "method": "update"
           },
           {
            "args": [
             {
              "marker.color": [
               [
                "#B0BEC5",
                "#B0BEC5",
                "#B0BEC5",
                "#B0BEC5",
                "#B0BEC5",
                "#B0BEC5",
                "#B0BEC5",
                "#B0BEC5",
                "#B0BEC5",
                "#B0BEC5",
                "#B0BEC5",
                "#B0BEC5",
                "#B0BEC5",
                "#B0BEC5",
                "#B0BEC5",
                "#B0BEC5",
                "#B0BEC5",
                "#B0BEC5",
                "#B0BEC5",
                "#B0BEC5",
                "#B0BEC5",
                "#B0BEC5",
                "#B0BEC5",
                "#B0BEC5",
                "#B0BEC5",
                "#B0BEC5",
                "#B0BEC5",
                "#B0BEC5",
                "#B0BEC5",
                "#B0BEC5",
                "#B0BEC5",
                "#B0BEC5",
                "#B0BEC5",
                "#B0BEC5",
                "#B0BEC5",
                "#B0BEC5",
                "red",
                "#B0BEC5",
                "#B0BEC5",
                "#B0BEC5",
                "#B0BEC5",
                "#B0BEC5",
                "#B0BEC5",
                "#B0BEC5",
                "#B0BEC5",
                "#B0BEC5",
                "#B0BEC5",
                "#B0BEC5",
                "#B0BEC5",
                "#B0BEC5",
                "#B0BEC5",
                "#B0BEC5",
                "#B0BEC5",
                "#B0BEC5",
                "#B0BEC5",
                "#B0BEC5",
                "#B0BEC5",
                "#B0BEC5",
                "#B0BEC5"
               ]
              ]
             }
            ],
            "label": "Topic 36",
            "method": "update"
           },
           {
            "args": [
             {
              "marker.color": [
               [
                "#B0BEC5",
                "#B0BEC5",
                "#B0BEC5",
                "#B0BEC5",
                "#B0BEC5",
                "#B0BEC5",
                "#B0BEC5",
                "#B0BEC5",
                "#B0BEC5",
                "#B0BEC5",
                "#B0BEC5",
                "#B0BEC5",
                "#B0BEC5",
                "#B0BEC5",
                "#B0BEC5",
                "#B0BEC5",
                "#B0BEC5",
                "#B0BEC5",
                "#B0BEC5",
                "#B0BEC5",
                "#B0BEC5",
                "#B0BEC5",
                "#B0BEC5",
                "#B0BEC5",
                "#B0BEC5",
                "#B0BEC5",
                "#B0BEC5",
                "#B0BEC5",
                "#B0BEC5",
                "#B0BEC5",
                "#B0BEC5",
                "#B0BEC5",
                "#B0BEC5",
                "#B0BEC5",
                "#B0BEC5",
                "#B0BEC5",
                "#B0BEC5",
                "red",
                "#B0BEC5",
                "#B0BEC5",
                "#B0BEC5",
                "#B0BEC5",
                "#B0BEC5",
                "#B0BEC5",
                "#B0BEC5",
                "#B0BEC5",
                "#B0BEC5",
                "#B0BEC5",
                "#B0BEC5",
                "#B0BEC5",
                "#B0BEC5",
                "#B0BEC5",
                "#B0BEC5",
                "#B0BEC5",
                "#B0BEC5",
                "#B0BEC5",
                "#B0BEC5",
                "#B0BEC5",
                "#B0BEC5"
               ]
              ]
             }
            ],
            "label": "Topic 37",
            "method": "update"
           },
           {
            "args": [
             {
              "marker.color": [
               [
                "#B0BEC5",
                "#B0BEC5",
                "#B0BEC5",
                "#B0BEC5",
                "#B0BEC5",
                "#B0BEC5",
                "#B0BEC5",
                "#B0BEC5",
                "#B0BEC5",
                "#B0BEC5",
                "#B0BEC5",
                "#B0BEC5",
                "#B0BEC5",
                "#B0BEC5",
                "#B0BEC5",
                "#B0BEC5",
                "#B0BEC5",
                "#B0BEC5",
                "#B0BEC5",
                "#B0BEC5",
                "#B0BEC5",
                "#B0BEC5",
                "#B0BEC5",
                "#B0BEC5",
                "#B0BEC5",
                "#B0BEC5",
                "#B0BEC5",
                "#B0BEC5",
                "#B0BEC5",
                "#B0BEC5",
                "#B0BEC5",
                "#B0BEC5",
                "#B0BEC5",
                "#B0BEC5",
                "#B0BEC5",
                "#B0BEC5",
                "#B0BEC5",
                "#B0BEC5",
                "red",
                "#B0BEC5",
                "#B0BEC5",
                "#B0BEC5",
                "#B0BEC5",
                "#B0BEC5",
                "#B0BEC5",
                "#B0BEC5",
                "#B0BEC5",
                "#B0BEC5",
                "#B0BEC5",
                "#B0BEC5",
                "#B0BEC5",
                "#B0BEC5",
                "#B0BEC5",
                "#B0BEC5",
                "#B0BEC5",
                "#B0BEC5",
                "#B0BEC5",
                "#B0BEC5",
                "#B0BEC5"
               ]
              ]
             }
            ],
            "label": "Topic 38",
            "method": "update"
           },
           {
            "args": [
             {
              "marker.color": [
               [
                "#B0BEC5",
                "#B0BEC5",
                "#B0BEC5",
                "#B0BEC5",
                "#B0BEC5",
                "#B0BEC5",
                "#B0BEC5",
                "#B0BEC5",
                "#B0BEC5",
                "#B0BEC5",
                "#B0BEC5",
                "#B0BEC5",
                "#B0BEC5",
                "#B0BEC5",
                "#B0BEC5",
                "#B0BEC5",
                "#B0BEC5",
                "#B0BEC5",
                "#B0BEC5",
                "#B0BEC5",
                "#B0BEC5",
                "#B0BEC5",
                "#B0BEC5",
                "#B0BEC5",
                "#B0BEC5",
                "#B0BEC5",
                "#B0BEC5",
                "#B0BEC5",
                "#B0BEC5",
                "#B0BEC5",
                "#B0BEC5",
                "#B0BEC5",
                "#B0BEC5",
                "#B0BEC5",
                "#B0BEC5",
                "#B0BEC5",
                "#B0BEC5",
                "#B0BEC5",
                "#B0BEC5",
                "red",
                "#B0BEC5",
                "#B0BEC5",
                "#B0BEC5",
                "#B0BEC5",
                "#B0BEC5",
                "#B0BEC5",
                "#B0BEC5",
                "#B0BEC5",
                "#B0BEC5",
                "#B0BEC5",
                "#B0BEC5",
                "#B0BEC5",
                "#B0BEC5",
                "#B0BEC5",
                "#B0BEC5",
                "#B0BEC5",
                "#B0BEC5",
                "#B0BEC5",
                "#B0BEC5"
               ]
              ]
             }
            ],
            "label": "Topic 39",
            "method": "update"
           },
           {
            "args": [
             {
              "marker.color": [
               [
                "#B0BEC5",
                "#B0BEC5",
                "#B0BEC5",
                "#B0BEC5",
                "#B0BEC5",
                "#B0BEC5",
                "#B0BEC5",
                "#B0BEC5",
                "#B0BEC5",
                "#B0BEC5",
                "#B0BEC5",
                "#B0BEC5",
                "#B0BEC5",
                "#B0BEC5",
                "#B0BEC5",
                "#B0BEC5",
                "#B0BEC5",
                "#B0BEC5",
                "#B0BEC5",
                "#B0BEC5",
                "#B0BEC5",
                "#B0BEC5",
                "#B0BEC5",
                "#B0BEC5",
                "#B0BEC5",
                "#B0BEC5",
                "#B0BEC5",
                "#B0BEC5",
                "#B0BEC5",
                "#B0BEC5",
                "#B0BEC5",
                "#B0BEC5",
                "#B0BEC5",
                "#B0BEC5",
                "#B0BEC5",
                "#B0BEC5",
                "#B0BEC5",
                "#B0BEC5",
                "#B0BEC5",
                "#B0BEC5",
                "red",
                "#B0BEC5",
                "#B0BEC5",
                "#B0BEC5",
                "#B0BEC5",
                "#B0BEC5",
                "#B0BEC5",
                "#B0BEC5",
                "#B0BEC5",
                "#B0BEC5",
                "#B0BEC5",
                "#B0BEC5",
                "#B0BEC5",
                "#B0BEC5",
                "#B0BEC5",
                "#B0BEC5",
                "#B0BEC5",
                "#B0BEC5",
                "#B0BEC5"
               ]
              ]
             }
            ],
            "label": "Topic 40",
            "method": "update"
           },
           {
            "args": [
             {
              "marker.color": [
               [
                "#B0BEC5",
                "#B0BEC5",
                "#B0BEC5",
                "#B0BEC5",
                "#B0BEC5",
                "#B0BEC5",
                "#B0BEC5",
                "#B0BEC5",
                "#B0BEC5",
                "#B0BEC5",
                "#B0BEC5",
                "#B0BEC5",
                "#B0BEC5",
                "#B0BEC5",
                "#B0BEC5",
                "#B0BEC5",
                "#B0BEC5",
                "#B0BEC5",
                "#B0BEC5",
                "#B0BEC5",
                "#B0BEC5",
                "#B0BEC5",
                "#B0BEC5",
                "#B0BEC5",
                "#B0BEC5",
                "#B0BEC5",
                "#B0BEC5",
                "#B0BEC5",
                "#B0BEC5",
                "#B0BEC5",
                "#B0BEC5",
                "#B0BEC5",
                "#B0BEC5",
                "#B0BEC5",
                "#B0BEC5",
                "#B0BEC5",
                "#B0BEC5",
                "#B0BEC5",
                "#B0BEC5",
                "#B0BEC5",
                "#B0BEC5",
                "red",
                "#B0BEC5",
                "#B0BEC5",
                "#B0BEC5",
                "#B0BEC5",
                "#B0BEC5",
                "#B0BEC5",
                "#B0BEC5",
                "#B0BEC5",
                "#B0BEC5",
                "#B0BEC5",
                "#B0BEC5",
                "#B0BEC5",
                "#B0BEC5",
                "#B0BEC5",
                "#B0BEC5",
                "#B0BEC5",
                "#B0BEC5"
               ]
              ]
             }
            ],
            "label": "Topic 41",
            "method": "update"
           },
           {
            "args": [
             {
              "marker.color": [
               [
                "#B0BEC5",
                "#B0BEC5",
                "#B0BEC5",
                "#B0BEC5",
                "#B0BEC5",
                "#B0BEC5",
                "#B0BEC5",
                "#B0BEC5",
                "#B0BEC5",
                "#B0BEC5",
                "#B0BEC5",
                "#B0BEC5",
                "#B0BEC5",
                "#B0BEC5",
                "#B0BEC5",
                "#B0BEC5",
                "#B0BEC5",
                "#B0BEC5",
                "#B0BEC5",
                "#B0BEC5",
                "#B0BEC5",
                "#B0BEC5",
                "#B0BEC5",
                "#B0BEC5",
                "#B0BEC5",
                "#B0BEC5",
                "#B0BEC5",
                "#B0BEC5",
                "#B0BEC5",
                "#B0BEC5",
                "#B0BEC5",
                "#B0BEC5",
                "#B0BEC5",
                "#B0BEC5",
                "#B0BEC5",
                "#B0BEC5",
                "#B0BEC5",
                "#B0BEC5",
                "#B0BEC5",
                "#B0BEC5",
                "#B0BEC5",
                "#B0BEC5",
                "red",
                "#B0BEC5",
                "#B0BEC5",
                "#B0BEC5",
                "#B0BEC5",
                "#B0BEC5",
                "#B0BEC5",
                "#B0BEC5",
                "#B0BEC5",
                "#B0BEC5",
                "#B0BEC5",
                "#B0BEC5",
                "#B0BEC5",
                "#B0BEC5",
                "#B0BEC5",
                "#B0BEC5",
                "#B0BEC5"
               ]
              ]
             }
            ],
            "label": "Topic 42",
            "method": "update"
           },
           {
            "args": [
             {
              "marker.color": [
               [
                "#B0BEC5",
                "#B0BEC5",
                "#B0BEC5",
                "#B0BEC5",
                "#B0BEC5",
                "#B0BEC5",
                "#B0BEC5",
                "#B0BEC5",
                "#B0BEC5",
                "#B0BEC5",
                "#B0BEC5",
                "#B0BEC5",
                "#B0BEC5",
                "#B0BEC5",
                "#B0BEC5",
                "#B0BEC5",
                "#B0BEC5",
                "#B0BEC5",
                "#B0BEC5",
                "#B0BEC5",
                "#B0BEC5",
                "#B0BEC5",
                "#B0BEC5",
                "#B0BEC5",
                "#B0BEC5",
                "#B0BEC5",
                "#B0BEC5",
                "#B0BEC5",
                "#B0BEC5",
                "#B0BEC5",
                "#B0BEC5",
                "#B0BEC5",
                "#B0BEC5",
                "#B0BEC5",
                "#B0BEC5",
                "#B0BEC5",
                "#B0BEC5",
                "#B0BEC5",
                "#B0BEC5",
                "#B0BEC5",
                "#B0BEC5",
                "#B0BEC5",
                "#B0BEC5",
                "red",
                "#B0BEC5",
                "#B0BEC5",
                "#B0BEC5",
                "#B0BEC5",
                "#B0BEC5",
                "#B0BEC5",
                "#B0BEC5",
                "#B0BEC5",
                "#B0BEC5",
                "#B0BEC5",
                "#B0BEC5",
                "#B0BEC5",
                "#B0BEC5",
                "#B0BEC5",
                "#B0BEC5"
               ]
              ]
             }
            ],
            "label": "Topic 43",
            "method": "update"
           },
           {
            "args": [
             {
              "marker.color": [
               [
                "#B0BEC5",
                "#B0BEC5",
                "#B0BEC5",
                "#B0BEC5",
                "#B0BEC5",
                "#B0BEC5",
                "#B0BEC5",
                "#B0BEC5",
                "#B0BEC5",
                "#B0BEC5",
                "#B0BEC5",
                "#B0BEC5",
                "#B0BEC5",
                "#B0BEC5",
                "#B0BEC5",
                "#B0BEC5",
                "#B0BEC5",
                "#B0BEC5",
                "#B0BEC5",
                "#B0BEC5",
                "#B0BEC5",
                "#B0BEC5",
                "#B0BEC5",
                "#B0BEC5",
                "#B0BEC5",
                "#B0BEC5",
                "#B0BEC5",
                "#B0BEC5",
                "#B0BEC5",
                "#B0BEC5",
                "#B0BEC5",
                "#B0BEC5",
                "#B0BEC5",
                "#B0BEC5",
                "#B0BEC5",
                "#B0BEC5",
                "#B0BEC5",
                "#B0BEC5",
                "#B0BEC5",
                "#B0BEC5",
                "#B0BEC5",
                "#B0BEC5",
                "#B0BEC5",
                "#B0BEC5",
                "red",
                "#B0BEC5",
                "#B0BEC5",
                "#B0BEC5",
                "#B0BEC5",
                "#B0BEC5",
                "#B0BEC5",
                "#B0BEC5",
                "#B0BEC5",
                "#B0BEC5",
                "#B0BEC5",
                "#B0BEC5",
                "#B0BEC5",
                "#B0BEC5",
                "#B0BEC5"
               ]
              ]
             }
            ],
            "label": "Topic 44",
            "method": "update"
           },
           {
            "args": [
             {
              "marker.color": [
               [
                "#B0BEC5",
                "#B0BEC5",
                "#B0BEC5",
                "#B0BEC5",
                "#B0BEC5",
                "#B0BEC5",
                "#B0BEC5",
                "#B0BEC5",
                "#B0BEC5",
                "#B0BEC5",
                "#B0BEC5",
                "#B0BEC5",
                "#B0BEC5",
                "#B0BEC5",
                "#B0BEC5",
                "#B0BEC5",
                "#B0BEC5",
                "#B0BEC5",
                "#B0BEC5",
                "#B0BEC5",
                "#B0BEC5",
                "#B0BEC5",
                "#B0BEC5",
                "#B0BEC5",
                "#B0BEC5",
                "#B0BEC5",
                "#B0BEC5",
                "#B0BEC5",
                "#B0BEC5",
                "#B0BEC5",
                "#B0BEC5",
                "#B0BEC5",
                "#B0BEC5",
                "#B0BEC5",
                "#B0BEC5",
                "#B0BEC5",
                "#B0BEC5",
                "#B0BEC5",
                "#B0BEC5",
                "#B0BEC5",
                "#B0BEC5",
                "#B0BEC5",
                "#B0BEC5",
                "#B0BEC5",
                "#B0BEC5",
                "red",
                "#B0BEC5",
                "#B0BEC5",
                "#B0BEC5",
                "#B0BEC5",
                "#B0BEC5",
                "#B0BEC5",
                "#B0BEC5",
                "#B0BEC5",
                "#B0BEC5",
                "#B0BEC5",
                "#B0BEC5",
                "#B0BEC5",
                "#B0BEC5"
               ]
              ]
             }
            ],
            "label": "Topic 45",
            "method": "update"
           },
           {
            "args": [
             {
              "marker.color": [
               [
                "#B0BEC5",
                "#B0BEC5",
                "#B0BEC5",
                "#B0BEC5",
                "#B0BEC5",
                "#B0BEC5",
                "#B0BEC5",
                "#B0BEC5",
                "#B0BEC5",
                "#B0BEC5",
                "#B0BEC5",
                "#B0BEC5",
                "#B0BEC5",
                "#B0BEC5",
                "#B0BEC5",
                "#B0BEC5",
                "#B0BEC5",
                "#B0BEC5",
                "#B0BEC5",
                "#B0BEC5",
                "#B0BEC5",
                "#B0BEC5",
                "#B0BEC5",
                "#B0BEC5",
                "#B0BEC5",
                "#B0BEC5",
                "#B0BEC5",
                "#B0BEC5",
                "#B0BEC5",
                "#B0BEC5",
                "#B0BEC5",
                "#B0BEC5",
                "#B0BEC5",
                "#B0BEC5",
                "#B0BEC5",
                "#B0BEC5",
                "#B0BEC5",
                "#B0BEC5",
                "#B0BEC5",
                "#B0BEC5",
                "#B0BEC5",
                "#B0BEC5",
                "#B0BEC5",
                "#B0BEC5",
                "#B0BEC5",
                "#B0BEC5",
                "red",
                "#B0BEC5",
                "#B0BEC5",
                "#B0BEC5",
                "#B0BEC5",
                "#B0BEC5",
                "#B0BEC5",
                "#B0BEC5",
                "#B0BEC5",
                "#B0BEC5",
                "#B0BEC5",
                "#B0BEC5",
                "#B0BEC5"
               ]
              ]
             }
            ],
            "label": "Topic 46",
            "method": "update"
           },
           {
            "args": [
             {
              "marker.color": [
               [
                "#B0BEC5",
                "#B0BEC5",
                "#B0BEC5",
                "#B0BEC5",
                "#B0BEC5",
                "#B0BEC5",
                "#B0BEC5",
                "#B0BEC5",
                "#B0BEC5",
                "#B0BEC5",
                "#B0BEC5",
                "#B0BEC5",
                "#B0BEC5",
                "#B0BEC5",
                "#B0BEC5",
                "#B0BEC5",
                "#B0BEC5",
                "#B0BEC5",
                "#B0BEC5",
                "#B0BEC5",
                "#B0BEC5",
                "#B0BEC5",
                "#B0BEC5",
                "#B0BEC5",
                "#B0BEC5",
                "#B0BEC5",
                "#B0BEC5",
                "#B0BEC5",
                "#B0BEC5",
                "#B0BEC5",
                "#B0BEC5",
                "#B0BEC5",
                "#B0BEC5",
                "#B0BEC5",
                "#B0BEC5",
                "#B0BEC5",
                "#B0BEC5",
                "#B0BEC5",
                "#B0BEC5",
                "#B0BEC5",
                "#B0BEC5",
                "#B0BEC5",
                "#B0BEC5",
                "#B0BEC5",
                "#B0BEC5",
                "#B0BEC5",
                "#B0BEC5",
                "red",
                "#B0BEC5",
                "#B0BEC5",
                "#B0BEC5",
                "#B0BEC5",
                "#B0BEC5",
                "#B0BEC5",
                "#B0BEC5",
                "#B0BEC5",
                "#B0BEC5",
                "#B0BEC5",
                "#B0BEC5"
               ]
              ]
             }
            ],
            "label": "Topic 47",
            "method": "update"
           },
           {
            "args": [
             {
              "marker.color": [
               [
                "#B0BEC5",
                "#B0BEC5",
                "#B0BEC5",
                "#B0BEC5",
                "#B0BEC5",
                "#B0BEC5",
                "#B0BEC5",
                "#B0BEC5",
                "#B0BEC5",
                "#B0BEC5",
                "#B0BEC5",
                "#B0BEC5",
                "#B0BEC5",
                "#B0BEC5",
                "#B0BEC5",
                "#B0BEC5",
                "#B0BEC5",
                "#B0BEC5",
                "#B0BEC5",
                "#B0BEC5",
                "#B0BEC5",
                "#B0BEC5",
                "#B0BEC5",
                "#B0BEC5",
                "#B0BEC5",
                "#B0BEC5",
                "#B0BEC5",
                "#B0BEC5",
                "#B0BEC5",
                "#B0BEC5",
                "#B0BEC5",
                "#B0BEC5",
                "#B0BEC5",
                "#B0BEC5",
                "#B0BEC5",
                "#B0BEC5",
                "#B0BEC5",
                "#B0BEC5",
                "#B0BEC5",
                "#B0BEC5",
                "#B0BEC5",
                "#B0BEC5",
                "#B0BEC5",
                "#B0BEC5",
                "#B0BEC5",
                "#B0BEC5",
                "#B0BEC5",
                "#B0BEC5",
                "red",
                "#B0BEC5",
                "#B0BEC5",
                "#B0BEC5",
                "#B0BEC5",
                "#B0BEC5",
                "#B0BEC5",
                "#B0BEC5",
                "#B0BEC5",
                "#B0BEC5",
                "#B0BEC5"
               ]
              ]
             }
            ],
            "label": "Topic 48",
            "method": "update"
           },
           {
            "args": [
             {
              "marker.color": [
               [
                "#B0BEC5",
                "#B0BEC5",
                "#B0BEC5",
                "#B0BEC5",
                "#B0BEC5",
                "#B0BEC5",
                "#B0BEC5",
                "#B0BEC5",
                "#B0BEC5",
                "#B0BEC5",
                "#B0BEC5",
                "#B0BEC5",
                "#B0BEC5",
                "#B0BEC5",
                "#B0BEC5",
                "#B0BEC5",
                "#B0BEC5",
                "#B0BEC5",
                "#B0BEC5",
                "#B0BEC5",
                "#B0BEC5",
                "#B0BEC5",
                "#B0BEC5",
                "#B0BEC5",
                "#B0BEC5",
                "#B0BEC5",
                "#B0BEC5",
                "#B0BEC5",
                "#B0BEC5",
                "#B0BEC5",
                "#B0BEC5",
                "#B0BEC5",
                "#B0BEC5",
                "#B0BEC5",
                "#B0BEC5",
                "#B0BEC5",
                "#B0BEC5",
                "#B0BEC5",
                "#B0BEC5",
                "#B0BEC5",
                "#B0BEC5",
                "#B0BEC5",
                "#B0BEC5",
                "#B0BEC5",
                "#B0BEC5",
                "#B0BEC5",
                "#B0BEC5",
                "#B0BEC5",
                "#B0BEC5",
                "red",
                "#B0BEC5",
                "#B0BEC5",
                "#B0BEC5",
                "#B0BEC5",
                "#B0BEC5",
                "#B0BEC5",
                "#B0BEC5",
                "#B0BEC5",
                "#B0BEC5"
               ]
              ]
             }
            ],
            "label": "Topic 49",
            "method": "update"
           },
           {
            "args": [
             {
              "marker.color": [
               [
                "#B0BEC5",
                "#B0BEC5",
                "#B0BEC5",
                "#B0BEC5",
                "#B0BEC5",
                "#B0BEC5",
                "#B0BEC5",
                "#B0BEC5",
                "#B0BEC5",
                "#B0BEC5",
                "#B0BEC5",
                "#B0BEC5",
                "#B0BEC5",
                "#B0BEC5",
                "#B0BEC5",
                "#B0BEC5",
                "#B0BEC5",
                "#B0BEC5",
                "#B0BEC5",
                "#B0BEC5",
                "#B0BEC5",
                "#B0BEC5",
                "#B0BEC5",
                "#B0BEC5",
                "#B0BEC5",
                "#B0BEC5",
                "#B0BEC5",
                "#B0BEC5",
                "#B0BEC5",
                "#B0BEC5",
                "#B0BEC5",
                "#B0BEC5",
                "#B0BEC5",
                "#B0BEC5",
                "#B0BEC5",
                "#B0BEC5",
                "#B0BEC5",
                "#B0BEC5",
                "#B0BEC5",
                "#B0BEC5",
                "#B0BEC5",
                "#B0BEC5",
                "#B0BEC5",
                "#B0BEC5",
                "#B0BEC5",
                "#B0BEC5",
                "#B0BEC5",
                "#B0BEC5",
                "#B0BEC5",
                "#B0BEC5",
                "red",
                "#B0BEC5",
                "#B0BEC5",
                "#B0BEC5",
                "#B0BEC5",
                "#B0BEC5",
                "#B0BEC5",
                "#B0BEC5",
                "#B0BEC5"
               ]
              ]
             }
            ],
            "label": "Topic 50",
            "method": "update"
           },
           {
            "args": [
             {
              "marker.color": [
               [
                "#B0BEC5",
                "#B0BEC5",
                "#B0BEC5",
                "#B0BEC5",
                "#B0BEC5",
                "#B0BEC5",
                "#B0BEC5",
                "#B0BEC5",
                "#B0BEC5",
                "#B0BEC5",
                "#B0BEC5",
                "#B0BEC5",
                "#B0BEC5",
                "#B0BEC5",
                "#B0BEC5",
                "#B0BEC5",
                "#B0BEC5",
                "#B0BEC5",
                "#B0BEC5",
                "#B0BEC5",
                "#B0BEC5",
                "#B0BEC5",
                "#B0BEC5",
                "#B0BEC5",
                "#B0BEC5",
                "#B0BEC5",
                "#B0BEC5",
                "#B0BEC5",
                "#B0BEC5",
                "#B0BEC5",
                "#B0BEC5",
                "#B0BEC5",
                "#B0BEC5",
                "#B0BEC5",
                "#B0BEC5",
                "#B0BEC5",
                "#B0BEC5",
                "#B0BEC5",
                "#B0BEC5",
                "#B0BEC5",
                "#B0BEC5",
                "#B0BEC5",
                "#B0BEC5",
                "#B0BEC5",
                "#B0BEC5",
                "#B0BEC5",
                "#B0BEC5",
                "#B0BEC5",
                "#B0BEC5",
                "#B0BEC5",
                "#B0BEC5",
                "red",
                "#B0BEC5",
                "#B0BEC5",
                "#B0BEC5",
                "#B0BEC5",
                "#B0BEC5",
                "#B0BEC5",
                "#B0BEC5"
               ]
              ]
             }
            ],
            "label": "Topic 51",
            "method": "update"
           },
           {
            "args": [
             {
              "marker.color": [
               [
                "#B0BEC5",
                "#B0BEC5",
                "#B0BEC5",
                "#B0BEC5",
                "#B0BEC5",
                "#B0BEC5",
                "#B0BEC5",
                "#B0BEC5",
                "#B0BEC5",
                "#B0BEC5",
                "#B0BEC5",
                "#B0BEC5",
                "#B0BEC5",
                "#B0BEC5",
                "#B0BEC5",
                "#B0BEC5",
                "#B0BEC5",
                "#B0BEC5",
                "#B0BEC5",
                "#B0BEC5",
                "#B0BEC5",
                "#B0BEC5",
                "#B0BEC5",
                "#B0BEC5",
                "#B0BEC5",
                "#B0BEC5",
                "#B0BEC5",
                "#B0BEC5",
                "#B0BEC5",
                "#B0BEC5",
                "#B0BEC5",
                "#B0BEC5",
                "#B0BEC5",
                "#B0BEC5",
                "#B0BEC5",
                "#B0BEC5",
                "#B0BEC5",
                "#B0BEC5",
                "#B0BEC5",
                "#B0BEC5",
                "#B0BEC5",
                "#B0BEC5",
                "#B0BEC5",
                "#B0BEC5",
                "#B0BEC5",
                "#B0BEC5",
                "#B0BEC5",
                "#B0BEC5",
                "#B0BEC5",
                "#B0BEC5",
                "#B0BEC5",
                "#B0BEC5",
                "red",
                "#B0BEC5",
                "#B0BEC5",
                "#B0BEC5",
                "#B0BEC5",
                "#B0BEC5",
                "#B0BEC5"
               ]
              ]
             }
            ],
            "label": "Topic 52",
            "method": "update"
           },
           {
            "args": [
             {
              "marker.color": [
               [
                "#B0BEC5",
                "#B0BEC5",
                "#B0BEC5",
                "#B0BEC5",
                "#B0BEC5",
                "#B0BEC5",
                "#B0BEC5",
                "#B0BEC5",
                "#B0BEC5",
                "#B0BEC5",
                "#B0BEC5",
                "#B0BEC5",
                "#B0BEC5",
                "#B0BEC5",
                "#B0BEC5",
                "#B0BEC5",
                "#B0BEC5",
                "#B0BEC5",
                "#B0BEC5",
                "#B0BEC5",
                "#B0BEC5",
                "#B0BEC5",
                "#B0BEC5",
                "#B0BEC5",
                "#B0BEC5",
                "#B0BEC5",
                "#B0BEC5",
                "#B0BEC5",
                "#B0BEC5",
                "#B0BEC5",
                "#B0BEC5",
                "#B0BEC5",
                "#B0BEC5",
                "#B0BEC5",
                "#B0BEC5",
                "#B0BEC5",
                "#B0BEC5",
                "#B0BEC5",
                "#B0BEC5",
                "#B0BEC5",
                "#B0BEC5",
                "#B0BEC5",
                "#B0BEC5",
                "#B0BEC5",
                "#B0BEC5",
                "#B0BEC5",
                "#B0BEC5",
                "#B0BEC5",
                "#B0BEC5",
                "#B0BEC5",
                "#B0BEC5",
                "#B0BEC5",
                "#B0BEC5",
                "red",
                "#B0BEC5",
                "#B0BEC5",
                "#B0BEC5",
                "#B0BEC5",
                "#B0BEC5"
               ]
              ]
             }
            ],
            "label": "Topic 53",
            "method": "update"
           },
           {
            "args": [
             {
              "marker.color": [
               [
                "#B0BEC5",
                "#B0BEC5",
                "#B0BEC5",
                "#B0BEC5",
                "#B0BEC5",
                "#B0BEC5",
                "#B0BEC5",
                "#B0BEC5",
                "#B0BEC5",
                "#B0BEC5",
                "#B0BEC5",
                "#B0BEC5",
                "#B0BEC5",
                "#B0BEC5",
                "#B0BEC5",
                "#B0BEC5",
                "#B0BEC5",
                "#B0BEC5",
                "#B0BEC5",
                "#B0BEC5",
                "#B0BEC5",
                "#B0BEC5",
                "#B0BEC5",
                "#B0BEC5",
                "#B0BEC5",
                "#B0BEC5",
                "#B0BEC5",
                "#B0BEC5",
                "#B0BEC5",
                "#B0BEC5",
                "#B0BEC5",
                "#B0BEC5",
                "#B0BEC5",
                "#B0BEC5",
                "#B0BEC5",
                "#B0BEC5",
                "#B0BEC5",
                "#B0BEC5",
                "#B0BEC5",
                "#B0BEC5",
                "#B0BEC5",
                "#B0BEC5",
                "#B0BEC5",
                "#B0BEC5",
                "#B0BEC5",
                "#B0BEC5",
                "#B0BEC5",
                "#B0BEC5",
                "#B0BEC5",
                "#B0BEC5",
                "#B0BEC5",
                "#B0BEC5",
                "#B0BEC5",
                "#B0BEC5",
                "red",
                "#B0BEC5",
                "#B0BEC5",
                "#B0BEC5",
                "#B0BEC5"
               ]
              ]
             }
            ],
            "label": "Topic 54",
            "method": "update"
           },
           {
            "args": [
             {
              "marker.color": [
               [
                "#B0BEC5",
                "#B0BEC5",
                "#B0BEC5",
                "#B0BEC5",
                "#B0BEC5",
                "#B0BEC5",
                "#B0BEC5",
                "#B0BEC5",
                "#B0BEC5",
                "#B0BEC5",
                "#B0BEC5",
                "#B0BEC5",
                "#B0BEC5",
                "#B0BEC5",
                "#B0BEC5",
                "#B0BEC5",
                "#B0BEC5",
                "#B0BEC5",
                "#B0BEC5",
                "#B0BEC5",
                "#B0BEC5",
                "#B0BEC5",
                "#B0BEC5",
                "#B0BEC5",
                "#B0BEC5",
                "#B0BEC5",
                "#B0BEC5",
                "#B0BEC5",
                "#B0BEC5",
                "#B0BEC5",
                "#B0BEC5",
                "#B0BEC5",
                "#B0BEC5",
                "#B0BEC5",
                "#B0BEC5",
                "#B0BEC5",
                "#B0BEC5",
                "#B0BEC5",
                "#B0BEC5",
                "#B0BEC5",
                "#B0BEC5",
                "#B0BEC5",
                "#B0BEC5",
                "#B0BEC5",
                "#B0BEC5",
                "#B0BEC5",
                "#B0BEC5",
                "#B0BEC5",
                "#B0BEC5",
                "#B0BEC5",
                "#B0BEC5",
                "#B0BEC5",
                "#B0BEC5",
                "#B0BEC5",
                "#B0BEC5",
                "red",
                "#B0BEC5",
                "#B0BEC5",
                "#B0BEC5"
               ]
              ]
             }
            ],
            "label": "Topic 55",
            "method": "update"
           },
           {
            "args": [
             {
              "marker.color": [
               [
                "#B0BEC5",
                "#B0BEC5",
                "#B0BEC5",
                "#B0BEC5",
                "#B0BEC5",
                "#B0BEC5",
                "#B0BEC5",
                "#B0BEC5",
                "#B0BEC5",
                "#B0BEC5",
                "#B0BEC5",
                "#B0BEC5",
                "#B0BEC5",
                "#B0BEC5",
                "#B0BEC5",
                "#B0BEC5",
                "#B0BEC5",
                "#B0BEC5",
                "#B0BEC5",
                "#B0BEC5",
                "#B0BEC5",
                "#B0BEC5",
                "#B0BEC5",
                "#B0BEC5",
                "#B0BEC5",
                "#B0BEC5",
                "#B0BEC5",
                "#B0BEC5",
                "#B0BEC5",
                "#B0BEC5",
                "#B0BEC5",
                "#B0BEC5",
                "#B0BEC5",
                "#B0BEC5",
                "#B0BEC5",
                "#B0BEC5",
                "#B0BEC5",
                "#B0BEC5",
                "#B0BEC5",
                "#B0BEC5",
                "#B0BEC5",
                "#B0BEC5",
                "#B0BEC5",
                "#B0BEC5",
                "#B0BEC5",
                "#B0BEC5",
                "#B0BEC5",
                "#B0BEC5",
                "#B0BEC5",
                "#B0BEC5",
                "#B0BEC5",
                "#B0BEC5",
                "#B0BEC5",
                "#B0BEC5",
                "#B0BEC5",
                "#B0BEC5",
                "red",
                "#B0BEC5",
                "#B0BEC5"
               ]
              ]
             }
            ],
            "label": "Topic 56",
            "method": "update"
           },
           {
            "args": [
             {
              "marker.color": [
               [
                "#B0BEC5",
                "#B0BEC5",
                "#B0BEC5",
                "#B0BEC5",
                "#B0BEC5",
                "#B0BEC5",
                "#B0BEC5",
                "#B0BEC5",
                "#B0BEC5",
                "#B0BEC5",
                "#B0BEC5",
                "#B0BEC5",
                "#B0BEC5",
                "#B0BEC5",
                "#B0BEC5",
                "#B0BEC5",
                "#B0BEC5",
                "#B0BEC5",
                "#B0BEC5",
                "#B0BEC5",
                "#B0BEC5",
                "#B0BEC5",
                "#B0BEC5",
                "#B0BEC5",
                "#B0BEC5",
                "#B0BEC5",
                "#B0BEC5",
                "#B0BEC5",
                "#B0BEC5",
                "#B0BEC5",
                "#B0BEC5",
                "#B0BEC5",
                "#B0BEC5",
                "#B0BEC5",
                "#B0BEC5",
                "#B0BEC5",
                "#B0BEC5",
                "#B0BEC5",
                "#B0BEC5",
                "#B0BEC5",
                "#B0BEC5",
                "#B0BEC5",
                "#B0BEC5",
                "#B0BEC5",
                "#B0BEC5",
                "#B0BEC5",
                "#B0BEC5",
                "#B0BEC5",
                "#B0BEC5",
                "#B0BEC5",
                "#B0BEC5",
                "#B0BEC5",
                "#B0BEC5",
                "#B0BEC5",
                "#B0BEC5",
                "#B0BEC5",
                "#B0BEC5",
                "red",
                "#B0BEC5"
               ]
              ]
             }
            ],
            "label": "Topic 57",
            "method": "update"
           },
           {
            "args": [
             {
              "marker.color": [
               [
                "#B0BEC5",
                "#B0BEC5",
                "#B0BEC5",
                "#B0BEC5",
                "#B0BEC5",
                "#B0BEC5",
                "#B0BEC5",
                "#B0BEC5",
                "#B0BEC5",
                "#B0BEC5",
                "#B0BEC5",
                "#B0BEC5",
                "#B0BEC5",
                "#B0BEC5",
                "#B0BEC5",
                "#B0BEC5",
                "#B0BEC5",
                "#B0BEC5",
                "#B0BEC5",
                "#B0BEC5",
                "#B0BEC5",
                "#B0BEC5",
                "#B0BEC5",
                "#B0BEC5",
                "#B0BEC5",
                "#B0BEC5",
                "#B0BEC5",
                "#B0BEC5",
                "#B0BEC5",
                "#B0BEC5",
                "#B0BEC5",
                "#B0BEC5",
                "#B0BEC5",
                "#B0BEC5",
                "#B0BEC5",
                "#B0BEC5",
                "#B0BEC5",
                "#B0BEC5",
                "#B0BEC5",
                "#B0BEC5",
                "#B0BEC5",
                "#B0BEC5",
                "#B0BEC5",
                "#B0BEC5",
                "#B0BEC5",
                "#B0BEC5",
                "#B0BEC5",
                "#B0BEC5",
                "#B0BEC5",
                "#B0BEC5",
                "#B0BEC5",
                "#B0BEC5",
                "#B0BEC5",
                "#B0BEC5",
                "#B0BEC5",
                "#B0BEC5",
                "#B0BEC5",
                "#B0BEC5",
                "red"
               ]
              ]
             }
            ],
            "label": "Topic 58",
            "method": "update"
           }
          ]
         }
        ],
        "template": {
         "data": {
          "bar": [
           {
            "error_x": {
             "color": "rgb(36,36,36)"
            },
            "error_y": {
             "color": "rgb(36,36,36)"
            },
            "marker": {
             "line": {
              "color": "white",
              "width": 0.5
             },
             "pattern": {
              "fillmode": "overlay",
              "size": 10,
              "solidity": 0.2
             }
            },
            "type": "bar"
           }
          ],
          "barpolar": [
           {
            "marker": {
             "line": {
              "color": "white",
              "width": 0.5
             },
             "pattern": {
              "fillmode": "overlay",
              "size": 10,
              "solidity": 0.2
             }
            },
            "type": "barpolar"
           }
          ],
          "carpet": [
           {
            "aaxis": {
             "endlinecolor": "rgb(36,36,36)",
             "gridcolor": "white",
             "linecolor": "white",
             "minorgridcolor": "white",
             "startlinecolor": "rgb(36,36,36)"
            },
            "baxis": {
             "endlinecolor": "rgb(36,36,36)",
             "gridcolor": "white",
             "linecolor": "white",
             "minorgridcolor": "white",
             "startlinecolor": "rgb(36,36,36)"
            },
            "type": "carpet"
           }
          ],
          "choropleth": [
           {
            "colorbar": {
             "outlinewidth": 1,
             "tickcolor": "rgb(36,36,36)",
             "ticks": "outside"
            },
            "type": "choropleth"
           }
          ],
          "contour": [
           {
            "colorbar": {
             "outlinewidth": 1,
             "tickcolor": "rgb(36,36,36)",
             "ticks": "outside"
            },
            "colorscale": [
             [
              0,
              "#440154"
             ],
             [
              0.1111111111111111,
              "#482878"
             ],
             [
              0.2222222222222222,
              "#3e4989"
             ],
             [
              0.3333333333333333,
              "#31688e"
             ],
             [
              0.4444444444444444,
              "#26828e"
             ],
             [
              0.5555555555555556,
              "#1f9e89"
             ],
             [
              0.6666666666666666,
              "#35b779"
             ],
             [
              0.7777777777777778,
              "#6ece58"
             ],
             [
              0.8888888888888888,
              "#b5de2b"
             ],
             [
              1,
              "#fde725"
             ]
            ],
            "type": "contour"
           }
          ],
          "contourcarpet": [
           {
            "colorbar": {
             "outlinewidth": 1,
             "tickcolor": "rgb(36,36,36)",
             "ticks": "outside"
            },
            "type": "contourcarpet"
           }
          ],
          "heatmap": [
           {
            "colorbar": {
             "outlinewidth": 1,
             "tickcolor": "rgb(36,36,36)",
             "ticks": "outside"
            },
            "colorscale": [
             [
              0,
              "#440154"
             ],
             [
              0.1111111111111111,
              "#482878"
             ],
             [
              0.2222222222222222,
              "#3e4989"
             ],
             [
              0.3333333333333333,
              "#31688e"
             ],
             [
              0.4444444444444444,
              "#26828e"
             ],
             [
              0.5555555555555556,
              "#1f9e89"
             ],
             [
              0.6666666666666666,
              "#35b779"
             ],
             [
              0.7777777777777778,
              "#6ece58"
             ],
             [
              0.8888888888888888,
              "#b5de2b"
             ],
             [
              1,
              "#fde725"
             ]
            ],
            "type": "heatmap"
           }
          ],
          "heatmapgl": [
           {
            "colorbar": {
             "outlinewidth": 1,
             "tickcolor": "rgb(36,36,36)",
             "ticks": "outside"
            },
            "colorscale": [
             [
              0,
              "#440154"
             ],
             [
              0.1111111111111111,
              "#482878"
             ],
             [
              0.2222222222222222,
              "#3e4989"
             ],
             [
              0.3333333333333333,
              "#31688e"
             ],
             [
              0.4444444444444444,
              "#26828e"
             ],
             [
              0.5555555555555556,
              "#1f9e89"
             ],
             [
              0.6666666666666666,
              "#35b779"
             ],
             [
              0.7777777777777778,
              "#6ece58"
             ],
             [
              0.8888888888888888,
              "#b5de2b"
             ],
             [
              1,
              "#fde725"
             ]
            ],
            "type": "heatmapgl"
           }
          ],
          "histogram": [
           {
            "marker": {
             "line": {
              "color": "white",
              "width": 0.6
             }
            },
            "type": "histogram"
           }
          ],
          "histogram2d": [
           {
            "colorbar": {
             "outlinewidth": 1,
             "tickcolor": "rgb(36,36,36)",
             "ticks": "outside"
            },
            "colorscale": [
             [
              0,
              "#440154"
             ],
             [
              0.1111111111111111,
              "#482878"
             ],
             [
              0.2222222222222222,
              "#3e4989"
             ],
             [
              0.3333333333333333,
              "#31688e"
             ],
             [
              0.4444444444444444,
              "#26828e"
             ],
             [
              0.5555555555555556,
              "#1f9e89"
             ],
             [
              0.6666666666666666,
              "#35b779"
             ],
             [
              0.7777777777777778,
              "#6ece58"
             ],
             [
              0.8888888888888888,
              "#b5de2b"
             ],
             [
              1,
              "#fde725"
             ]
            ],
            "type": "histogram2d"
           }
          ],
          "histogram2dcontour": [
           {
            "colorbar": {
             "outlinewidth": 1,
             "tickcolor": "rgb(36,36,36)",
             "ticks": "outside"
            },
            "colorscale": [
             [
              0,
              "#440154"
             ],
             [
              0.1111111111111111,
              "#482878"
             ],
             [
              0.2222222222222222,
              "#3e4989"
             ],
             [
              0.3333333333333333,
              "#31688e"
             ],
             [
              0.4444444444444444,
              "#26828e"
             ],
             [
              0.5555555555555556,
              "#1f9e89"
             ],
             [
              0.6666666666666666,
              "#35b779"
             ],
             [
              0.7777777777777778,
              "#6ece58"
             ],
             [
              0.8888888888888888,
              "#b5de2b"
             ],
             [
              1,
              "#fde725"
             ]
            ],
            "type": "histogram2dcontour"
           }
          ],
          "mesh3d": [
           {
            "colorbar": {
             "outlinewidth": 1,
             "tickcolor": "rgb(36,36,36)",
             "ticks": "outside"
            },
            "type": "mesh3d"
           }
          ],
          "parcoords": [
           {
            "line": {
             "colorbar": {
              "outlinewidth": 1,
              "tickcolor": "rgb(36,36,36)",
              "ticks": "outside"
             }
            },
            "type": "parcoords"
           }
          ],
          "pie": [
           {
            "automargin": true,
            "type": "pie"
           }
          ],
          "scatter": [
           {
            "fillpattern": {
             "fillmode": "overlay",
             "size": 10,
             "solidity": 0.2
            },
            "type": "scatter"
           }
          ],
          "scatter3d": [
           {
            "line": {
             "colorbar": {
              "outlinewidth": 1,
              "tickcolor": "rgb(36,36,36)",
              "ticks": "outside"
             }
            },
            "marker": {
             "colorbar": {
              "outlinewidth": 1,
              "tickcolor": "rgb(36,36,36)",
              "ticks": "outside"
             }
            },
            "type": "scatter3d"
           }
          ],
          "scattercarpet": [
           {
            "marker": {
             "colorbar": {
              "outlinewidth": 1,
              "tickcolor": "rgb(36,36,36)",
              "ticks": "outside"
             }
            },
            "type": "scattercarpet"
           }
          ],
          "scattergeo": [
           {
            "marker": {
             "colorbar": {
              "outlinewidth": 1,
              "tickcolor": "rgb(36,36,36)",
              "ticks": "outside"
             }
            },
            "type": "scattergeo"
           }
          ],
          "scattergl": [
           {
            "marker": {
             "colorbar": {
              "outlinewidth": 1,
              "tickcolor": "rgb(36,36,36)",
              "ticks": "outside"
             }
            },
            "type": "scattergl"
           }
          ],
          "scattermapbox": [
           {
            "marker": {
             "colorbar": {
              "outlinewidth": 1,
              "tickcolor": "rgb(36,36,36)",
              "ticks": "outside"
             }
            },
            "type": "scattermapbox"
           }
          ],
          "scatterpolar": [
           {
            "marker": {
             "colorbar": {
              "outlinewidth": 1,
              "tickcolor": "rgb(36,36,36)",
              "ticks": "outside"
             }
            },
            "type": "scatterpolar"
           }
          ],
          "scatterpolargl": [
           {
            "marker": {
             "colorbar": {
              "outlinewidth": 1,
              "tickcolor": "rgb(36,36,36)",
              "ticks": "outside"
             }
            },
            "type": "scatterpolargl"
           }
          ],
          "scatterternary": [
           {
            "marker": {
             "colorbar": {
              "outlinewidth": 1,
              "tickcolor": "rgb(36,36,36)",
              "ticks": "outside"
             }
            },
            "type": "scatterternary"
           }
          ],
          "surface": [
           {
            "colorbar": {
             "outlinewidth": 1,
             "tickcolor": "rgb(36,36,36)",
             "ticks": "outside"
            },
            "colorscale": [
             [
              0,
              "#440154"
             ],
             [
              0.1111111111111111,
              "#482878"
             ],
             [
              0.2222222222222222,
              "#3e4989"
             ],
             [
              0.3333333333333333,
              "#31688e"
             ],
             [
              0.4444444444444444,
              "#26828e"
             ],
             [
              0.5555555555555556,
              "#1f9e89"
             ],
             [
              0.6666666666666666,
              "#35b779"
             ],
             [
              0.7777777777777778,
              "#6ece58"
             ],
             [
              0.8888888888888888,
              "#b5de2b"
             ],
             [
              1,
              "#fde725"
             ]
            ],
            "type": "surface"
           }
          ],
          "table": [
           {
            "cells": {
             "fill": {
              "color": "rgb(237,237,237)"
             },
             "line": {
              "color": "white"
             }
            },
            "header": {
             "fill": {
              "color": "rgb(217,217,217)"
             },
             "line": {
              "color": "white"
             }
            },
            "type": "table"
           }
          ]
         },
         "layout": {
          "annotationdefaults": {
           "arrowhead": 0,
           "arrowwidth": 1
          },
          "autotypenumbers": "strict",
          "coloraxis": {
           "colorbar": {
            "outlinewidth": 1,
            "tickcolor": "rgb(36,36,36)",
            "ticks": "outside"
           }
          },
          "colorscale": {
           "diverging": [
            [
             0,
             "rgb(103,0,31)"
            ],
            [
             0.1,
             "rgb(178,24,43)"
            ],
            [
             0.2,
             "rgb(214,96,77)"
            ],
            [
             0.3,
             "rgb(244,165,130)"
            ],
            [
             0.4,
             "rgb(253,219,199)"
            ],
            [
             0.5,
             "rgb(247,247,247)"
            ],
            [
             0.6,
             "rgb(209,229,240)"
            ],
            [
             0.7,
             "rgb(146,197,222)"
            ],
            [
             0.8,
             "rgb(67,147,195)"
            ],
            [
             0.9,
             "rgb(33,102,172)"
            ],
            [
             1,
             "rgb(5,48,97)"
            ]
           ],
           "sequential": [
            [
             0,
             "#440154"
            ],
            [
             0.1111111111111111,
             "#482878"
            ],
            [
             0.2222222222222222,
             "#3e4989"
            ],
            [
             0.3333333333333333,
             "#31688e"
            ],
            [
             0.4444444444444444,
             "#26828e"
            ],
            [
             0.5555555555555556,
             "#1f9e89"
            ],
            [
             0.6666666666666666,
             "#35b779"
            ],
            [
             0.7777777777777778,
             "#6ece58"
            ],
            [
             0.8888888888888888,
             "#b5de2b"
            ],
            [
             1,
             "#fde725"
            ]
           ],
           "sequentialminus": [
            [
             0,
             "#440154"
            ],
            [
             0.1111111111111111,
             "#482878"
            ],
            [
             0.2222222222222222,
             "#3e4989"
            ],
            [
             0.3333333333333333,
             "#31688e"
            ],
            [
             0.4444444444444444,
             "#26828e"
            ],
            [
             0.5555555555555556,
             "#1f9e89"
            ],
            [
             0.6666666666666666,
             "#35b779"
            ],
            [
             0.7777777777777778,
             "#6ece58"
            ],
            [
             0.8888888888888888,
             "#b5de2b"
            ],
            [
             1,
             "#fde725"
            ]
           ]
          },
          "colorway": [
           "#1F77B4",
           "#FF7F0E",
           "#2CA02C",
           "#D62728",
           "#9467BD",
           "#8C564B",
           "#E377C2",
           "#7F7F7F",
           "#BCBD22",
           "#17BECF"
          ],
          "font": {
           "color": "rgb(36,36,36)"
          },
          "geo": {
           "bgcolor": "white",
           "lakecolor": "white",
           "landcolor": "white",
           "showlakes": true,
           "showland": true,
           "subunitcolor": "white"
          },
          "hoverlabel": {
           "align": "left"
          },
          "hovermode": "closest",
          "mapbox": {
           "style": "light"
          },
          "paper_bgcolor": "white",
          "plot_bgcolor": "white",
          "polar": {
           "angularaxis": {
            "gridcolor": "rgb(232,232,232)",
            "linecolor": "rgb(36,36,36)",
            "showgrid": false,
            "showline": true,
            "ticks": "outside"
           },
           "bgcolor": "white",
           "radialaxis": {
            "gridcolor": "rgb(232,232,232)",
            "linecolor": "rgb(36,36,36)",
            "showgrid": false,
            "showline": true,
            "ticks": "outside"
           }
          },
          "scene": {
           "xaxis": {
            "backgroundcolor": "white",
            "gridcolor": "rgb(232,232,232)",
            "gridwidth": 2,
            "linecolor": "rgb(36,36,36)",
            "showbackground": true,
            "showgrid": false,
            "showline": true,
            "ticks": "outside",
            "zeroline": false,
            "zerolinecolor": "rgb(36,36,36)"
           },
           "yaxis": {
            "backgroundcolor": "white",
            "gridcolor": "rgb(232,232,232)",
            "gridwidth": 2,
            "linecolor": "rgb(36,36,36)",
            "showbackground": true,
            "showgrid": false,
            "showline": true,
            "ticks": "outside",
            "zeroline": false,
            "zerolinecolor": "rgb(36,36,36)"
           },
           "zaxis": {
            "backgroundcolor": "white",
            "gridcolor": "rgb(232,232,232)",
            "gridwidth": 2,
            "linecolor": "rgb(36,36,36)",
            "showbackground": true,
            "showgrid": false,
            "showline": true,
            "ticks": "outside",
            "zeroline": false,
            "zerolinecolor": "rgb(36,36,36)"
           }
          },
          "shapedefaults": {
           "fillcolor": "black",
           "line": {
            "width": 0
           },
           "opacity": 0.3
          },
          "ternary": {
           "aaxis": {
            "gridcolor": "rgb(232,232,232)",
            "linecolor": "rgb(36,36,36)",
            "showgrid": false,
            "showline": true,
            "ticks": "outside"
           },
           "baxis": {
            "gridcolor": "rgb(232,232,232)",
            "linecolor": "rgb(36,36,36)",
            "showgrid": false,
            "showline": true,
            "ticks": "outside"
           },
           "bgcolor": "white",
           "caxis": {
            "gridcolor": "rgb(232,232,232)",
            "linecolor": "rgb(36,36,36)",
            "showgrid": false,
            "showline": true,
            "ticks": "outside"
           }
          },
          "title": {
           "x": 0.05
          },
          "xaxis": {
           "automargin": true,
           "gridcolor": "rgb(232,232,232)",
           "linecolor": "rgb(36,36,36)",
           "showgrid": false,
           "showline": true,
           "ticks": "outside",
           "title": {
            "standoff": 15
           },
           "zeroline": false,
           "zerolinecolor": "rgb(36,36,36)"
          },
          "yaxis": {
           "automargin": true,
           "gridcolor": "rgb(232,232,232)",
           "linecolor": "rgb(36,36,36)",
           "showgrid": false,
           "showline": true,
           "ticks": "outside",
           "title": {
            "standoff": 15
           },
           "zeroline": false,
           "zerolinecolor": "rgb(36,36,36)"
          }
         }
        },
        "title": {
         "font": {
          "color": "Black",
          "size": 22
         },
         "text": "<b>Intertopic Distance Map</b>",
         "x": 0.5,
         "xanchor": "center",
         "y": 0.95,
         "yanchor": "top"
        },
        "width": 650,
        "xaxis": {
         "anchor": "y",
         "domain": [
          0,
          1
         ],
         "range": [
          -9.590395879745483,
          22.702572441101076
         ],
         "title": {
          "text": ""
         },
         "visible": false
        },
        "yaxis": {
         "anchor": "x",
         "domain": [
          0,
          1
         ],
         "range": [
          -9.83624882698059,
          17.597802352905273
         ],
         "title": {
          "text": ""
         },
         "visible": false
        }
       }
      }
     },
     "metadata": {},
     "output_type": "display_data"
    }
   ],
   "source": [
    "# Optional: visualize\n",
    "model_better.visualize_topics().show()"
   ]
  },
  {
   "cell_type": "code",
   "execution_count": null,
   "id": "a9edfa41",
   "metadata": {},
   "outputs": [
    {
     "name": "stderr",
     "output_type": "stream",
     "text": [
      "2025-06-30 00:25:23,641 - BERTopic - WARNING: When you use `pickle` to save/load a BERTopic model,please make sure that the environments in which you saveand load the model are **exactly** the same. The version of BERTopic,its dependencies, and python need to remain the same.\n"
     ]
    }
   ],
   "source": [
    "topic_model_better.save(\"../models/bert/modele_bert_better\", save_embedding_model=True)"
   ]
  },
  {
   "cell_type": "code",
   "execution_count": 91,
   "id": "79ea36a9",
   "metadata": {},
   "outputs": [],
   "source": [
    "topics_over_time_better = topic_model_better.topics_over_time(\n",
    "    docs=df[\"Texte_clean\"],\n",
    "    timestamps=df[\"DateSeance_ts\"],\n",
    "    global_tuning=True,\n",
    "    evolution_tuning=True,\n",
    "    nr_bins=20,\n",
    ")"
   ]
  },
  {
   "cell_type": "code",
   "execution_count": 93,
   "id": "b3b7d6f4",
   "metadata": {},
   "outputs": [
    {
     "data": {
      "application/vnd.plotly.v1+json": {
       "config": {
        "plotlyServerURL": "https://plot.ly"
       },
       "data": [
        {
         "hoverinfo": "text",
         "hovertext": [
          "<b>Topic 0</b><br>Words: européenne, mer, union, présidence, territoires",
          "<b>Topic 0</b><br>Words: serva, rigidifie, circonstanciées, assouplit, territoires",
          "<b>Topic 0</b><br>Words: mer, territoires, environnement, énergies, biodiversité",
          "<b>Topic 0</b><br>Words: territoires, prix, mer, marins, exploitation",
          "<b>Topic 0</b><br>Words: mer, territoires, vie, prix, coût",
          "<b>Topic 0</b><br>Words: pesticides, territoires, agriculture, moruroa, gestion",
          "<b>Topic 0</b><br>Words: territoires, territoriale, mer, continuité, ultramarins",
          "<b>Topic 0</b><br>Words: exclure, métropole, lyon, ordonnances, adapté",
          "<b>Topic 0</b><br>Words: mer, prix, milliards, collectivités, territoires",
          "<b>Topic 0</b><br>Words: collectivités, relève, territoriales, accident, voiture",
          "<b>Topic 0</b><br>Words: chlordécone, martinique, guadeloupe, régions, état",
          "<b>Topic 0</b><br>Words: mer, climatique, adaptation, agricole, territoires"
         ],
         "marker": {
          "color": "#E69F00"
         },
         "mode": "lines",
         "name": "0_mer_territoires_prix_climatique",
         "type": "scatter",
         "x": [
          "2022-06-05T10:48:00",
          "2022-08-05T13:09:00",
          "2022-10-05T15:30:00",
          "2022-12-05T17:51:00",
          "2023-02-04T20:12:00",
          "2023-04-06T22:33:00",
          "2023-06-07T00:54:00",
          "2023-08-07T03:15:00",
          "2023-10-07T05:36:00",
          "2023-12-07T07:57:00",
          "2024-02-06T10:18:00",
          "2024-04-07T12:39:00"
         ],
         "y": [
          10,
          1,
          9,
          19,
          22,
          8,
          17,
          2,
          8,
          5,
          10,
          18
         ]
        },
        {
         "hoverinfo": "text",
         "hovertext": [
          "<b>Topic 1</b><br>Words: associations, liberté, femmes, polygamie, association",
          "<b>Topic 1</b><br>Words: femmes, qatar, droits, france, fidèles",
          "<b>Topic 1</b><br>Words: travées, dimanches, misogynie, patriarcat, sororité",
          "<b>Topic 1</b><br>Words: femmes, droits, droit, homme, liberté",
          "<b>Topic 1</b><br>Words: vêtements, peur, liberté, uniforme, blouse",
          "<b>Topic 1</b><br>Words: femmes, hommes, égalité, droits, retraite",
          "<b>Topic 1</b><br>Words: armée, libertés, femmes, droits, droit",
          "<b>Topic 1</b><br>Words: femmes, hommes, égalité, fonction, droits",
          "<b>Topic 1</b><br>Words: discriminations, tests, discrimination, droits, femmes",
          "<b>Topic 1</b><br>Words: femmes, droit, avortement, droits, liberté",
          "<b>Topic 1</b><br>Words: femmes, liberté, droit, ivg, discrimination",
          "<b>Topic 1</b><br>Words: liberté, humain, sociale, émancipation, absolue"
         ],
         "marker": {
          "color": "#56B4E9"
         },
         "mode": "lines",
         "name": "1_femmes_droits_liberté_droit",
         "type": "scatter",
         "x": [
          "2021-01-31T10:40:22.800000",
          "2022-06-05T10:48:00",
          "2022-08-05T13:09:00",
          "2022-10-05T15:30:00",
          "2022-12-05T17:51:00",
          "2023-02-04T20:12:00",
          "2023-04-06T22:33:00",
          "2023-06-07T00:54:00",
          "2023-10-07T05:36:00",
          "2023-12-07T07:57:00",
          "2024-02-06T10:18:00",
          "2024-04-07T12:39:00"
         ],
         "y": [
          4,
          17,
          1,
          13,
          3,
          17,
          5,
          11,
          11,
          10,
          26,
          3
         ]
        },
        {
         "hoverinfo": "text",
         "hovertext": [
          "<b>Topic 2</b><br>Words: isoler, islamisme, séparatistes, idéologies, dérives",
          "<b>Topic 2</b><br>Words: martinique, homicides, drogue, insécurité, égalité",
          "<b>Topic 2</b><br>Words: policiers, extrême, groupuscules, gendarmes, droite",
          "<b>Topic 2</b><br>Words: strasbourg, extrême, droite, trafic, groupuscules",
          "<b>Topic 2</b><br>Words: terrorisme, extrême, droite, violence, violences",
          "<b>Topic 2</b><br>Words: violence, violences, élus, extrême, groupuscules",
          "<b>Topic 2</b><br>Words: quartiers, violences, violence, marseille, policiers",
          "<b>Topic 2</b><br>Words: élus, violences, menaces, protection, injustice",
          "<b>Topic 2</b><br>Words: répandues, fraie, rationalité, for, lamentable",
          "<b>Topic 2</b><br>Words: élus, violences, violence, maire, locaux",
          "<b>Topic 2</b><br>Words: accord, dialogue, nouméa, consensus, calédonie"
         ],
         "marker": {
          "color": "#009E73"
         },
         "mode": "lines",
         "name": "2_violence_élus_violences_extrême",
         "type": "scatter",
         "x": [
          "2021-01-31T10:40:22.800000",
          "2022-06-05T10:48:00",
          "2022-10-05T15:30:00",
          "2022-12-05T17:51:00",
          "2023-02-04T20:12:00",
          "2023-04-06T22:33:00",
          "2023-06-07T00:54:00",
          "2023-10-07T05:36:00",
          "2023-12-07T07:57:00",
          "2024-02-06T10:18:00",
          "2024-04-07T12:39:00"
         ],
         "y": [
          2,
          3,
          10,
          7,
          16,
          21,
          25,
          10,
          3,
          11,
          4
         ]
        },
        {
         "hoverinfo": "text",
         "hovertext": [
          "<b>Topic 3</b><br>Words: défendiez, apportiez, avoue, pensais, mélenchon",
          "<b>Topic 3</b><br>Words: taisez, république, désolé, forment, inédit",
          "<b>Topic 3</b><br>Words: république, ve, cesse, visez, supportez",
          "<b>Topic 3</b><br>Words: république, iiie, unanimistes, ve, irrémédiables",
          "<b>Topic 3</b><br>Words: république, respectez, aboli, ve, pompeusement",
          "<b>Topic 3</b><br>Words: république, césar, mauvaise, mélenchon, appartient",
          "<b>Topic 3</b><br>Words: république, abandonne, aime, ve, affaiblissant",
          "<b>Topic 3</b><br>Words: débusquer, bafouez, perquisition, journaliste, sources",
          "<b>Topic 3</b><br>Words: république, ve, démocratie, déclenche, concoctés",
          "<b>Topic 3</b><br>Words: république, cédé, cerise, tracts, resserrer",
          "<b>Topic 3</b><br>Words: vive, république, fermerai, planter, professer",
          "<b>Topic 3</b><br>Words: souillée, rpcr, lafleur, république, rafah"
         ],
         "marker": {
          "color": "#F0E442"
         },
         "mode": "lines",
         "name": "3_république_ve_démocratie_abandonne",
         "type": "scatter",
         "x": [
          "2021-01-31T10:40:22.800000",
          "2022-06-05T10:48:00",
          "2022-10-05T15:30:00",
          "2022-12-05T17:51:00",
          "2023-02-04T20:12:00",
          "2023-04-06T22:33:00",
          "2023-06-07T00:54:00",
          "2023-08-07T03:15:00",
          "2023-10-07T05:36:00",
          "2023-12-07T07:57:00",
          "2024-02-06T10:18:00",
          "2024-04-07T12:39:00"
         ],
         "y": [
          1,
          5,
          7,
          4,
          15,
          11,
          22,
          1,
          10,
          9,
          7,
          4
         ]
        },
        {
         "hoverinfo": "text",
         "hovertext": [
          "<b>Topic 4</b><br>Words: école, insultante, consistance, écologique, déclassement",
          "<b>Topic 4</b><br>Words: élèves, professeurs, enseignement, lycéens, école",
          "<b>Topic 4</b><br>Words: élèves, école, éducation, enseignement, scolaire",
          "<b>Topic 4</b><br>Words: école, élèves, classes, éducation, enseignement",
          "<b>Topic 4</b><br>Words: élèves, éducation, enseignants, école, lycée",
          "<b>Topic 4</b><br>Words: élèves, école, éducation, enseignants, enseignement",
          "<b>Topic 4</b><br>Words: école, élèves, parents, éducation, enseignants",
          "<b>Topic 4</b><br>Words: élèves, école, éducation, classes, enseignants",
          "<b>Topic 4</b><br>Words: élèves, école, enseignement, langues, éducation"
         ],
         "marker": {
          "color": "#D55E00"
         },
         "mode": "lines",
         "name": "4_élèves_école_éducation_enseignement",
         "type": "scatter",
         "x": [
          "2022-06-05T10:48:00",
          "2022-10-05T15:30:00",
          "2022-12-05T17:51:00",
          "2023-02-04T20:12:00",
          "2023-04-06T22:33:00",
          "2023-10-07T05:36:00",
          "2023-12-07T07:57:00",
          "2024-02-06T10:18:00",
          "2024-04-07T12:39:00"
         ],
         "y": [
          1,
          3,
          16,
          13,
          5,
          9,
          16,
          9,
          9
         ]
        },
        {
         "hoverinfo": "text",
         "hovertext": [
          "<b>Topic 5</b><br>Words: apprendrons, cogestion, républicains, délibérément, deal",
          "<b>Topic 5</b><br>Words: préoccupé, élément, rupture, cœur, égalité",
          "<b>Topic 5</b><br>Words: tiktok, républicains, formulé, écoutez, députés",
          "<b>Topic 5</b><br>Words: républicain, intentionnés, arc, brûlée, républicains",
          "<b>Topic 5</b><br>Words: républicain, républicains, arc, parient, situerait",
          "<b>Topic 5</b><br>Words: républicain, arc, républicains, moussa, sylla",
          "<b>Topic 5</b><br>Words: attachées, espèrent, résilience, républicaines, réussite",
          "<b>Topic 5</b><br>Words: républicain, républicaine, ordre, républicains, ayez",
          "<b>Topic 5</b><br>Words: arc, républicain, ferez, draguez, étonnement",
          "<b>Topic 5</b><br>Words: commencées, voyiez, conclut, sanglantes, dépendre",
          "<b>Topic 5</b><br>Words: ofer, ohad, yahalomi, gagnez, kalderon"
         ],
         "marker": {
          "color": "#0072B2"
         },
         "mode": "lines",
         "name": "5_républicain_arc_républicains_républica...",
         "type": "scatter",
         "x": [
          "2022-06-05T10:48:00",
          "2022-08-05T13:09:00",
          "2022-10-05T15:30:00",
          "2023-02-04T20:12:00",
          "2023-04-06T22:33:00",
          "2023-06-07T00:54:00",
          "2023-08-07T03:15:00",
          "2023-10-07T05:36:00",
          "2023-12-07T07:57:00",
          "2024-02-06T10:18:00",
          "2024-04-07T12:39:00"
         ],
         "y": [
          3,
          1,
          4,
          4,
          8,
          14,
          1,
          11,
          4,
          2,
          3
         ]
        },
        {
         "hoverinfo": "text",
         "hovertext": [
          "<b>Topic 6</b><br>Words: électeurs, démocrate, générale, 78, adressons",
          "<b>Topic 6</b><br>Words: gauche, démocrate, groupe, républicaine, nupes",
          "<b>Topic 6</b><br>Words: démocrate, gauche, groupe, républicaine, nupes",
          "<b>Topic 6</b><br>Words: gauche, démocrate, groupe, républicaine, nupes",
          "<b>Topic 6</b><br>Words: démocrate, gauche, groupe, républicaine, lève",
          "<b>Topic 6</b><br>Words: gauche, démocrate, républicaine, groupe, nupes",
          "<b>Topic 6</b><br>Words: catastrophiques, néfastes, convaincu, démocrate, gauche",
          "<b>Topic 6</b><br>Words: gauche, démocrate, groupe, républicaine, nupes",
          "<b>Topic 6</b><br>Words: démocrate, gauche, groupe, républicaine, votera",
          "<b>Topic 6</b><br>Words: démocrate, gauche, républicaine, groupe, nupes"
         ],
         "marker": {
          "color": "#CC79A7"
         },
         "mode": "lines",
         "name": "6_gauche_démocrate_groupe_républicaine",
         "type": "scatter",
         "x": [
          "2022-06-05T10:48:00",
          "2022-10-05T15:30:00",
          "2022-12-05T17:51:00",
          "2023-02-04T20:12:00",
          "2023-04-06T22:33:00",
          "2023-06-07T00:54:00",
          "2023-08-07T03:15:00",
          "2023-10-07T05:36:00",
          "2023-12-07T07:57:00",
          "2024-02-06T10:18:00"
         ],
         "y": [
          2,
          7,
          4,
          8,
          6,
          5,
          1,
          5,
          6,
          5
         ]
        },
        {
         "hoverinfo": "text",
         "hovertext": [
          "<b>Topic 7</b><br>Words: imaginais, police, fonctions, ridiculisent, changerez",
          "<b>Topic 7</b><br>Words: police, judiciaire, opj, enquêtes, procureur",
          "<b>Topic 7</b><br>Words: police, judiciaire, renforcée, plainte, cyberattaque",
          "<b>Topic 7</b><br>Words: police, drones, judiciaire, bernalicis, réforme",
          "<b>Topic 7</b><br>Words: police, judiciaire, procureur, agrément, opj",
          "<b>Topic 7</b><br>Words: police, judiciaire, forcément, délinquance, évaluation",
          "<b>Topic 7</b><br>Words: police, clspd, judiciaire, procureur, justice"
         ],
         "marker": {
          "color": "#E69F00"
         },
         "mode": "lines",
         "name": "7_police_judiciaire_procureur_opj",
         "type": "scatter",
         "x": [
          "2022-06-05T10:48:00",
          "2022-10-05T15:30:00",
          "2022-12-05T17:51:00",
          "2023-02-04T20:12:00",
          "2023-06-07T00:54:00",
          "2023-10-07T05:36:00",
          "2024-02-06T10:18:00"
         ],
         "y": [
          1,
          26,
          1,
          7,
          5,
          2,
          6
         ]
        },
        {
         "hoverinfo": "text",
         "hovertext": [
          "<b>Topic 8</b><br>Words: européenne, union, présidence, europe, française",
          "<b>Topic 8</b><br>Words: européenne, union, frontières, ramons, supranationalisme",
          "<b>Topic 8</b><br>Words: sénégal, convention, extradition, entraide, conventions",
          "<b>Topic 8</b><br>Words: nucléaire, homologues, stratégique, joue, capacités",
          "<b>Topic 8</b><br>Words: européenne, union, défense, traités, souveraineté",
          "<b>Topic 8</b><br>Words: épouvantées, interdise, glissement, parlements, notons",
          "<b>Topic 8</b><br>Words: européenne, europe, union, peuples, européen",
          "<b>Topic 8</b><br>Words: convention, moldavie, kazakhstan, coopération, européenne",
          "<b>Topic 8</b><br>Words: européenne, ingérences, union, européennes, souveraineté",
          "<b>Topic 8</b><br>Words: échange, union, européenne, libre, européen"
         ],
         "marker": {
          "color": "#56B4E9"
         },
         "mode": "lines",
         "name": "8_européenne_convention_union_moldavie",
         "type": "scatter",
         "x": [
          "2022-06-05T10:48:00",
          "2022-10-05T15:30:00",
          "2022-12-05T17:51:00",
          "2023-02-04T20:12:00",
          "2023-04-06T22:33:00",
          "2023-06-07T00:54:00",
          "2023-10-07T05:36:00",
          "2023-12-07T07:57:00",
          "2024-02-06T10:18:00",
          "2024-04-07T12:39:00"
         ],
         "y": [
          8,
          3,
          2,
          1,
          5,
          1,
          8,
          9,
          5,
          3
         ]
        },
        {
         "hoverinfo": "text",
         "hovertext": [
          "<b>Topic 9</b><br>Words: amendement, évidemment, épargne, salariale, retirer",
          "<b>Topic 9</b><br>Words: amendement, amendements, application, avis, annexé",
          "<b>Topic 9</b><br>Words: amendement, espoo, polynésie, convention, no",
          "<b>Topic 9</b><br>Words: amendement, amendements, armées, navires, maritime",
          "<b>Topic 9</b><br>Words: amendements, amendement, spéciale, dne, commission",
          "<b>Topic 9</b><br>Words: algorithmiques, sommaire, fonder, introduit, 2016",
          "<b>Topic 9</b><br>Words: unis, introduite, entreprises, états, amendement",
          "<b>Topic 9</b><br>Words: chipoterie, agents, dûment, circonscrit, amendement",
          "<b>Topic 9</b><br>Words: amendement, présidents, électif, dons, élus",
          "<b>Topic 9</b><br>Words: confiscation, saisie, confisqués, biens, avoirs"
         ],
         "marker": {
          "color": "#009E73"
         },
         "mode": "lines",
         "name": "9_amendement_amendements_avis_no",
         "type": "scatter",
         "x": [
          "2022-06-05T10:48:00",
          "2022-10-05T15:30:00",
          "2023-02-04T20:12:00",
          "2023-04-06T22:33:00",
          "2023-06-07T00:54:00",
          "2023-08-07T03:15:00",
          "2023-10-07T05:36:00",
          "2023-12-07T07:57:00",
          "2024-02-06T10:18:00",
          "2024-04-07T12:39:00"
         ],
         "y": [
          2,
          8,
          5,
          11,
          7,
          1,
          2,
          2,
          3,
          2
         ]
        },
        {
         "hoverinfo": "text",
         "hovertext": [
          "<b>Topic 10</b><br>Words: rejet, œuvrons, fassions, musulman, obtenus",
          "<b>Topic 10</b><br>Words: grève, démembrée, célébrez, monoprix, salariées",
          "<b>Topic 10</b><br>Words: allergiques, rejet, motion, droits, stables",
          "<b>Topic 10</b><br>Words: directeur, interrogez, qu, départemental, travail",
          "<b>Topic 10</b><br>Words: scrutin, sénatoriales, électoral, déroule, tours",
          "<b>Topic 10</b><br>Words: pénibilité, travail, images, avez, qu",
          "<b>Topic 10</b><br>Words: prix, taxes, discréditer, untel, européen",
          "<b>Topic 10</b><br>Words: informations, remontées, sceaux, garde, secret",
          "<b>Topic 10</b><br>Words: travail, remplissent, heures, faire, applaudir",
          "<b>Topic 10</b><br>Words: agents, pénitentiaires, emplois, catégorie, sujet",
          "<b>Topic 10</b><br>Words: rapporteures, malgras, observerons, préciseront, évolutifs",
          "<b>Topic 10</b><br>Words: démagogie, décoloniser, semblé, sujet, décolonisation"
         ],
         "marker": {
          "color": "#F0E442"
         },
         "mode": "lines",
         "name": "10_qu_travail_scrutin_bien",
         "type": "scatter",
         "x": [
          "2021-01-31T10:40:22.800000",
          "2022-06-05T10:48:00",
          "2022-08-05T13:09:00",
          "2022-10-05T15:30:00",
          "2022-12-05T17:51:00",
          "2023-02-04T20:12:00",
          "2023-04-06T22:33:00",
          "2023-06-07T00:54:00",
          "2023-10-07T05:36:00",
          "2023-12-07T07:57:00",
          "2024-02-06T10:18:00",
          "2024-04-07T12:39:00"
         ],
         "y": [
          1,
          1,
          1,
          10,
          2,
          6,
          3,
          5,
          3,
          4,
          1,
          3
         ]
        },
        {
         "hoverinfo": "text",
         "hovertext": [
          "<b>Topic 11</b><br>Words: français, sommes, assemblée, opposition, national",
          "<b>Topic 11</b><br>Words: sommes, votons, français, pied, hier",
          "<b>Topic 11</b><br>Words: scrutin, français, proportionnelle, mode, tient",
          "<b>Topic 11</b><br>Words: devons, combattons, juger, parlementaires, bureau",
          "<b>Topic 11</b><br>Words: racheter, extrême, droite, raciste, menace",
          "<b>Topic 11</b><br>Words: racailles, gangs, islamistes, accepté, défendons",
          "<b>Topic 11</b><br>Words: odoul, marseillaise, snu, côte, sommes",
          "<b>Topic 11</b><br>Words: secrétaires, sommes, mairie, ennemi, rôle",
          "<b>Topic 11</b><br>Words: rassemblée, naïvement, rassuré, rimane, odoul",
          "<b>Topic 11</b><br>Words: arrêtez, emmerder, périls, célébrait, alcatel"
         ],
         "marker": {
          "color": "#D55E00"
         },
         "mode": "lines",
         "name": "11_français_sommes_assemblée_extrême",
         "type": "scatter",
         "x": [
          "2022-06-05T10:48:00",
          "2022-10-05T15:30:00",
          "2022-12-05T17:51:00",
          "2023-02-04T20:12:00",
          "2023-04-06T22:33:00",
          "2023-06-07T00:54:00",
          "2023-10-07T05:36:00",
          "2023-12-07T07:57:00",
          "2024-02-06T10:18:00",
          "2024-04-07T12:39:00"
         ],
         "y": [
          5,
          9,
          4,
          3,
          3,
          1,
          6,
          5,
          1,
          2
         ]
        },
        {
         "hoverinfo": "text",
         "hovertext": [
          "<b>Topic 12</b><br>Words: séparatisme, serment, forme, population, constitution",
          "<b>Topic 12</b><br>Words: petites, stipule, inconstitutionnelles, constitution, entorse",
          "<b>Topic 12</b><br>Words: assurantiel, plainte, privé, sphère, constitution",
          "<b>Topic 12</b><br>Words: voie, constitution, professionnel, scrutin, élèves",
          "<b>Topic 12</b><br>Words: marleix, page, débat, soir, article",
          "<b>Topic 12</b><br>Words: amender, arroger, bolsonaro, orbán, bâillonner",
          "<b>Topic 12</b><br>Words: constitution, prêtera, pinardiers, boucard, filmé",
          "<b>Topic 12</b><br>Words: constitution, peuple, autoritarisme, êtes, santé",
          "<b>Topic 12</b><br>Words: constitution, constitutionnelle, article, lois, religion",
          "<b>Topic 12</b><br>Words: constitution, préambule, constitutionnelle, sociale, 1946"
         ],
         "marker": {
          "color": "#0072B2"
         },
         "mode": "lines",
         "name": "12_constitution_article_constitutionnell...",
         "type": "scatter",
         "x": [
          "2021-01-31T10:40:22.800000",
          "2022-06-05T10:48:00",
          "2022-10-05T15:30:00",
          "2022-12-05T17:51:00",
          "2023-02-04T20:12:00",
          "2023-04-06T22:33:00",
          "2023-06-07T00:54:00",
          "2023-10-07T05:36:00",
          "2023-12-07T07:57:00",
          "2024-04-07T12:39:00"
         ],
         "y": [
          1,
          1,
          2,
          6,
          3,
          1,
          2,
          2,
          14,
          6
         ]
        },
        {
         "hoverinfo": "text",
         "hovertext": [
          "<b>Topic 13</b><br>Words: rétroactivité, nouvelle, calédonie, rejoigne, demander",
          "<b>Topic 13</b><br>Words: calédonie, calédoniens, nouvelle, nickel, nouméa",
          "<b>Topic 13</b><br>Words: calédonie, indépendantistes, calédoniens, accord, nouvelle",
          "<b>Topic 13</b><br>Words: calédonie, élections, nouvelle, calédoniens, accord",
          "<b>Topic 13</b><br>Words: calédonie, nouvelle, élections, électoral, nouméa"
         ],
         "marker": {
          "color": "#CC79A7"
         },
         "mode": "lines",
         "name": "13_calédonie_nouvelle_élections_calédoni...",
         "type": "scatter",
         "x": [
          "2022-06-05T10:48:00",
          "2022-12-05T17:51:00",
          "2023-10-07T05:36:00",
          "2024-02-06T10:18:00",
          "2024-04-07T12:39:00"
         ],
         "y": [
          2,
          2,
          2,
          8,
          23
         ]
        },
        {
         "hoverinfo": "text",
         "hovertext": [
          "<b>Topic 14</b><br>Words: turbulences, développeront, école, serein, éloigné",
          "<b>Topic 14</b><br>Words: gouvernementale, assisté, jeudi, obstruction, niche",
          "<b>Topic 14</b><br>Words: école, élèves, niveau, république, éducation",
          "<b>Topic 14</b><br>Words: défendez, pilier, lambeaux, réformatrice, école",
          "<b>Topic 14</b><br>Words: fichage, 141, écornée, fitr, aïd",
          "<b>Topic 14</b><br>Words: école, équipes, repaire, harceleurs, urgemment",
          "<b>Topic 14</b><br>Words: école, établit, attribuer, élèves, élever",
          "<b>Topic 14</b><br>Words: école, université, places, cohésion, éducation",
          "<b>Topic 14</b><br>Words: école, racines, neutralité, valeurs, république",
          "<b>Topic 14</b><br>Words: école, indice, volumes, mettront, ratios",
          "<b>Topic 14</b><br>Words: école, créoles, orchestrés, fréristes, relayés"
         ],
         "marker": {
          "color": "#E69F00"
         },
         "mode": "lines",
         "name": "14_école_république_élèves_éducation",
         "type": "scatter",
         "x": [
          "2022-06-05T10:48:00",
          "2022-10-05T15:30:00",
          "2022-12-05T17:51:00",
          "2023-02-04T20:12:00",
          "2023-04-06T22:33:00",
          "2023-06-07T00:54:00",
          "2023-08-07T03:15:00",
          "2023-10-07T05:36:00",
          "2023-12-07T07:57:00",
          "2024-02-06T10:18:00",
          "2024-04-07T12:39:00"
         ],
         "y": [
          1,
          1,
          10,
          2,
          2,
          3,
          2,
          3,
          8,
          2,
          3
         ]
        },
        {
         "hoverinfo": "text",
         "hovertext": [
          "<b>Topic 15</b><br>Words: montée, envient, croyais, communautarismes, voir",
          "<b>Topic 15</b><br>Words: mesurons, espoirs, craintes, tâche, rassembler",
          "<b>Topic 15</b><br>Words: regrets, dense, rassemblent, guerre, étonne",
          "<b>Topic 15</b><br>Words: français, république, plfss, êtes, tient",
          "<b>Topic 15</b><br>Words: insultant, insultez, accusations, accepte, peuple",
          "<b>Topic 15</b><br>Words: côté, vaut, calmes, siégerai, république",
          "<b>Topic 15</b><br>Words: protégeons, français, rechange, êtes, république",
          "<b>Topic 15</b><br>Words: excusé, patronne, protégeons, toléré, république",
          "<b>Topic 15</b><br>Words: français, bicentenaire, pars, désolidarisé, clique",
          "<b>Topic 15</b><br>Words: voulez, pourri, potentat, obtient, occupez",
          "<b>Topic 15</b><br>Words: djaïwé, langue, disparaître, française, experts"
         ],
         "marker": {
          "color": "#56B4E9"
         },
         "mode": "lines",
         "name": "15_français_république_française_êtes",
         "type": "scatter",
         "x": [
          "2021-01-31T10:40:22.800000",
          "2022-06-05T10:48:00",
          "2022-08-05T13:09:00",
          "2022-10-05T15:30:00",
          "2023-02-04T20:12:00",
          "2023-04-06T22:33:00",
          "2023-06-07T00:54:00",
          "2023-10-07T05:36:00",
          "2023-12-07T07:57:00",
          "2024-02-06T10:18:00",
          "2024-04-07T12:39:00"
         ],
         "y": [
          1,
          1,
          1,
          7,
          1,
          4,
          8,
          5,
          4,
          2,
          2
         ]
        },
        {
         "hoverinfo": "text",
         "hovertext": [
          "<b>Topic 16</b><br>Words: santé, devons, vigilants, liberticides, parviendrons",
          "<b>Topic 16</b><br>Words: santé, soins, médecins, médecine, hôpital",
          "<b>Topic 16</b><br>Words: ipa, médecins, soins, santé, cpts",
          "<b>Topic 16</b><br>Words: santé, centres, médecine, soins, médecins",
          "<b>Topic 16</b><br>Words: santé, soins, médecins, médicale, professionnels",
          "<b>Topic 16</b><br>Words: santé, soins, médecins, professionnels, accès",
          "<b>Topic 16</b><br>Words: argentan, aumônerie, santé, patients, aumônier",
          "<b>Topic 16</b><br>Words: chlordécone, santé, préjudices, soins, état",
          "<b>Topic 16</b><br>Words: exceptions, avoue, respectives, universelles, déroger"
         ],
         "marker": {
          "color": "#009E73"
         },
         "mode": "lines",
         "name": "16_santé_soins_médecins_professionnels",
         "type": "scatter",
         "x": [
          "2022-06-05T10:48:00",
          "2022-10-05T15:30:00",
          "2022-12-05T17:51:00",
          "2023-02-04T20:12:00",
          "2023-04-06T22:33:00",
          "2023-06-07T00:54:00",
          "2023-10-07T05:36:00",
          "2024-02-06T10:18:00",
          "2024-04-07T12:39:00"
         ],
         "y": [
          2,
          7,
          3,
          4,
          4,
          8,
          3,
          4,
          1
         ]
        },
        {
         "hoverinfo": "text",
         "hovertext": [
          "<b>Topic 17</b><br>Words: amour, énergumène, garderai, chanté, entendiez",
          "<b>Topic 17</b><br>Words: eau, devez, avez, motion, cubes",
          "<b>Topic 17</b><br>Words: profitez, administratif, fautive, défilerons, expliquerons",
          "<b>Topic 17</b><br>Words: retraite, droit, vie, travail, soins",
          "<b>Topic 17</b><br>Words: jacobelli, synthèse, cas, abandon, aurons",
          "<b>Topic 17</b><br>Words: incarnations, repensant, désengorger, tergiverser, devons",
          "<b>Topic 17</b><br>Words: importer, humanitaire, saluons, centaines, invectivent",
          "<b>Topic 17</b><br>Words: soins, palliatifs, numerus, apertus, médical",
          "<b>Topic 17</b><br>Words: palliatifs, vie, soins, élus, gosselin",
          "<b>Topic 17</b><br>Words: palliatifs, soins, mort, euthanasie, malade"
         ],
         "marker": {
          "color": "#F0E442"
         },
         "mode": "lines",
         "name": "17_palliatifs_soins_vie_droit",
         "type": "scatter",
         "x": [
          "2021-01-31T10:40:22.800000",
          "2022-06-05T10:48:00",
          "2022-10-05T15:30:00",
          "2023-02-04T20:12:00",
          "2023-04-06T22:33:00",
          "2023-06-07T00:54:00",
          "2023-10-07T05:36:00",
          "2023-12-07T07:57:00",
          "2024-02-06T10:18:00",
          "2024-04-07T12:39:00"
         ],
         "y": [
          1,
          2,
          2,
          2,
          1,
          1,
          2,
          8,
          6,
          9
         ]
        },
        {
         "hoverinfo": "text",
         "hovertext": [
          "<b>Topic 18</b><br>Words: gentille, entendiez, raquel, envoyant, autorisez",
          "<b>Topic 18</b><br>Words: mendès, pierre, ve, république, fondateur",
          "<b>Topic 18</b><br>Words: français, ve, hexagonal, évolue, scrutin",
          "<b>Topic 18</b><br>Words: esclavage, français, fin, vocation, française",
          "<b>Topic 18</b><br>Words: commandement, otan, intégré, opérations, vis",
          "<b>Topic 18</b><br>Words: français, biens, délinquants, missak, manouchian",
          "<b>Topic 18</b><br>Words: frénésie, endettement, comprendre, français, allez",
          "<b>Topic 18</b><br>Words: copropriétés, habitat, français, logements, indigne",
          "<b>Topic 18</b><br>Words: comité, colonial, calédonie, spécial, décoloniser",
          "<b>Topic 18</b><br>Words: laïcité, agents, publique, français, 2021"
         ],
         "marker": {
          "color": "#D55E00"
         },
         "mode": "lines",
         "name": "18_laïcité_français_copropriétés_qu",
         "type": "scatter",
         "x": [
          "2022-06-05T10:48:00",
          "2022-10-05T15:30:00",
          "2022-12-05T17:51:00",
          "2023-02-04T20:12:00",
          "2023-04-06T22:33:00",
          "2023-06-07T00:54:00",
          "2023-10-07T05:36:00",
          "2023-12-07T07:57:00",
          "2024-02-06T10:18:00",
          "2024-04-07T12:39:00"
         ],
         "y": [
          1,
          4,
          5,
          3,
          3,
          7,
          1,
          5,
          1,
          4
         ]
        },
        {
         "hoverinfo": "text",
         "hovertext": [
          "<b>Topic 19</b><br>Words: nulle, culte, part, cléricalisme, prédisez",
          "<b>Topic 19</b><br>Words: réalité, kurdes, paix, vote, qu",
          "<b>Topic 19</b><br>Words: mur, baissée, monnet, précarisés, malmené",
          "<b>Topic 19</b><br>Words: domicile, féminicides, abri, fortune, benne",
          "<b>Topic 19</b><br>Words: minoritaires, 49, sentence, voter, aviez",
          "<b>Topic 19</b><br>Words: dino, cinieri, poursuivions, portier, avances",
          "<b>Topic 19</b><br>Words: amis, jour, avez, assemblée, monarchie",
          "<b>Topic 19</b><br>Words: députés, électeurs, rentrerai, accepteriez, légifère",
          "<b>Topic 19</b><br>Words: ruban, endométriose, douleur, êtes, honte",
          "<b>Topic 19</b><br>Words: débat, coûtera, avez, 49, gouvernement",
          "<b>Topic 19</b><br>Words: race, voté, nucléaire, réalité, têt",
          "<b>Topic 19</b><br>Words: kanak, essayais, équivalence, parallèles, plaisent"
         ],
         "marker": {
          "color": "#0072B2"
         },
         "mode": "lines",
         "name": "19_avez_qu_voter_49",
         "type": "scatter",
         "x": [
          "2021-01-31T10:40:22.800000",
          "2022-06-05T10:48:00",
          "2022-08-05T13:09:00",
          "2022-10-05T15:30:00",
          "2022-12-05T17:51:00",
          "2023-02-04T20:12:00",
          "2023-06-07T00:54:00",
          "2023-08-07T03:15:00",
          "2023-10-07T05:36:00",
          "2023-12-07T07:57:00",
          "2024-02-06T10:18:00",
          "2024-04-07T12:39:00"
         ],
         "y": [
          1,
          3,
          1,
          6,
          2,
          1,
          6,
          1,
          2,
          4,
          5,
          1
         ]
        },
        {
         "hoverinfo": "text",
         "hovertext": [
          "<b>Topic 20</b><br>Words: milliards, euros, credo, centimes, argent",
          "<b>Topic 20</b><br>Words: milliards, euros, millions, budget, crédits",
          "<b>Topic 20</b><br>Words: milliards, euros, bla, aides, entreprises",
          "<b>Topic 20</b><br>Words: milliards, financement, prestataires, privé, collectivités",
          "<b>Topic 20</b><br>Words: milliards, euros, 2030, recettes, armées",
          "<b>Topic 20</b><br>Words: milliards, euros, millions, défense, armée",
          "<b>Topic 20</b><br>Words: milliards, compagnies, suriname, euros, liaisons",
          "<b>Topic 20</b><br>Words: milliards, opposez, voulant, censurer, fiscale",
          "<b>Topic 20</b><br>Words: milliards, euros, économies, année, dépenser",
          "<b>Topic 20</b><br>Words: canada, excédent, balance, exportations, millions"
         ],
         "marker": {
          "color": "#CC79A7"
         },
         "mode": "lines",
         "name": "20_milliards_euros_millions_budget",
         "type": "scatter",
         "x": [
          "2022-06-05T10:48:00",
          "2022-10-05T15:30:00",
          "2022-12-05T17:51:00",
          "2023-02-04T20:12:00",
          "2023-04-06T22:33:00",
          "2023-06-07T00:54:00",
          "2023-10-07T05:36:00",
          "2023-12-07T07:57:00",
          "2024-02-06T10:18:00",
          "2024-04-07T12:39:00"
         ],
         "y": [
          3,
          8,
          2,
          3,
          3,
          5,
          3,
          1,
          4,
          1
         ]
        },
        {
         "hoverinfo": "text",
         "hovertext": [
          "<b>Topic 21</b><br>Words: douaniers, procureur, douanes, visite, douanière",
          "<b>Topic 21</b><br>Words: amendement, analysez, turpitude, thibault, bazin"
         ],
         "marker": {
          "color": "#E69F00"
         },
         "mode": "lines",
         "name": "21_douaniers_procureur_douanes_visite",
         "type": "scatter",
         "x": [
          "2023-06-07T00:54:00",
          "2024-04-07T12:39:00"
         ],
         "y": [
          31,
          1
         ]
        },
        {
         "hoverinfo": "text",
         "hovertext": [
          "<b>Topic 22</b><br>Words: israël, apartheid, arabes, arabe, juifs",
          "<b>Topic 22</b><br>Words: israël, hamas, oublierons, paix, israéliens",
          "<b>Topic 22</b><br>Words: antisémitisme, sud, juive, israël, confession",
          "<b>Topic 22</b><br>Words: israël, hamas, juifs, haine, université",
          "<b>Topic 22</b><br>Words: entraînées, communion, empreint, consciente, réactions"
         ],
         "marker": {
          "color": "#56B4E9"
         },
         "mode": "lines",
         "name": "22_israël_hamas_juifs_oublierons",
         "type": "scatter",
         "x": [
          "2023-04-06T22:33:00",
          "2023-10-07T05:36:00",
          "2023-12-07T07:57:00",
          "2024-02-06T10:18:00",
          "2024-04-07T12:39:00"
         ],
         "y": [
          3,
          19,
          3,
          6,
          1
         ]
        },
        {
         "hoverinfo": "text",
         "hovertext": [
          "<b>Topic 23</b><br>Words: navires, manche, royaume, uni, immigration",
          "<b>Topic 23</b><br>Words: immigration, vérité, france, migratoire, étrangers",
          "<b>Topic 23</b><br>Words: immigration, étrangers, regroupement, asile, familiale",
          "<b>Topic 23</b><br>Words: flux, pratiquement, objectivité, reçoit, immigration",
          "<b>Topic 23</b><br>Words: domicilié, accomplis, âgé, immigration, problème",
          "<b>Topic 23</b><br>Words: immigration, migrant, père, rebuzzi, inassimilables",
          "<b>Topic 23</b><br>Words: immigration, étrangers, intégration, asile, france",
          "<b>Topic 23</b><br>Words: nationalité, exigences, française, adhère, naturalisation",
          "<b>Topic 23</b><br>Words: asile, immigration, pacte, européenne, solidarité"
         ],
         "marker": {
          "color": "#009E73"
         },
         "mode": "lines",
         "name": "23_immigration_étrangers_asile_intégrati...",
         "type": "scatter",
         "x": [
          "2022-10-05T15:30:00",
          "2022-12-05T17:51:00",
          "2023-02-04T20:12:00",
          "2023-04-06T22:33:00",
          "2023-06-07T00:54:00",
          "2023-10-07T05:36:00",
          "2023-12-07T07:57:00",
          "2024-02-06T10:18:00",
          "2024-04-07T12:39:00"
         ],
         "y": [
          1,
          9,
          3,
          1,
          1,
          2,
          12,
          1,
          2
         ]
        },
        {
         "hoverinfo": "text",
         "hovertext": [
          "<b>Topic 24</b><br>Words: séparatisme, culte, islamiste, fidèle, officines",
          "<b>Topic 24</b><br>Words: séparatisme, gourous, sectaire, signalements, sectaires",
          "<b>Topic 24</b><br>Words: islamisme, radical, séparatisme, rougier, confusionnisme",
          "<b>Topic 24</b><br>Words: séparatisme, islamisme, contre, terrorisme, lutte",
          "<b>Topic 24</b><br>Words: islamisme, séparatisme, islamiste, radical, république",
          "<b>Topic 24</b><br>Words: séparatisme, principes, article, islamiste, champ",
          "<b>Topic 24</b><br>Words: islamistes, musulmans, islamique, religion, deuils",
          "<b>Topic 24</b><br>Words: séparatisme, islamiste, principes, contre, courtade"
         ],
         "marker": {
          "color": "#F0E442"
         },
         "mode": "lines",
         "name": "24_séparatisme_islamisme_islamiste_princ...",
         "type": "scatter",
         "x": [
          "2021-01-31T10:40:22.800000",
          "2022-10-05T15:30:00",
          "2022-12-05T17:51:00",
          "2023-02-04T20:12:00",
          "2023-10-07T05:36:00",
          "2023-12-07T07:57:00",
          "2024-02-06T10:18:00",
          "2024-04-07T12:39:00"
         ],
         "y": [
          3,
          2,
          2,
          7,
          4,
          5,
          3,
          3
         ]
        },
        {
         "hoverinfo": "text",
         "hovertext": [
          "<b>Topic 25</b><br>Words: paty, samuel, assassinat, islamiste, enseignants",
          "<b>Topic 25</b><br>Words: chefs, défiée, retranche, établissement, débrouiller",
          "<b>Topic 25</b><br>Words: vocables, injurieux, réitère, insultants, assassin",
          "<b>Topic 25</b><br>Words: paty, islamiste, samuel, terrorisme, école",
          "<b>Topic 25</b><br>Words: établissements, scolaires, écoles, sécurisation, assassinat",
          "<b>Topic 25</b><br>Words: terrorisme, terroriste, assassinat, panneau, grenay",
          "<b>Topic 25</b><br>Words: corse, gilles, singularité, salue, méditerranée"
         ],
         "marker": {
          "color": "#D55E00"
         },
         "mode": "lines",
         "name": "25_paty_samuel_islamiste_terrorisme",
         "type": "scatter",
         "x": [
          "2022-10-05T15:30:00",
          "2022-12-05T17:51:00",
          "2023-02-04T20:12:00",
          "2023-10-07T05:36:00",
          "2023-12-07T07:57:00",
          "2024-02-06T10:18:00",
          "2024-04-07T12:39:00"
         ],
         "y": [
          5,
          1,
          1,
          18,
          1,
          1,
          2
         ]
        },
        {
         "hoverinfo": "text",
         "hovertext": [
          "<b>Topic 26</b><br>Words: dépêches, habib, boycott, juif, prendre",
          "<b>Topic 26</b><br>Words: accepter, moralement, supposée, suspicion, contrôlé",
          "<b>Topic 26</b><br>Words: indigénisme, racialisme, antirépublicains, concepts, défend",
          "<b>Topic 26</b><br>Words: racisme, antisémitisme, mineurs, biens, antisémites",
          "<b>Topic 26</b><br>Words: antisémitisme, antisémites, haine, racisme, actes",
          "<b>Topic 26</b><br>Words: antisémitisme, racisme, haine, antisémites, injures"
         ],
         "marker": {
          "color": "#0072B2"
         },
         "mode": "lines",
         "name": "26_antisémitisme_racisme_haine_antisémit...",
         "type": "scatter",
         "x": [
          "2022-06-05T10:48:00",
          "2022-10-05T15:30:00",
          "2022-12-05T17:51:00",
          "2023-06-07T00:54:00",
          "2023-10-07T05:36:00",
          "2024-02-06T10:18:00"
         ],
         "y": [
          1,
          1,
          1,
          4,
          10,
          12
         ]
        },
        {
         "hoverinfo": "text",
         "hovertext": [
          "<b>Topic 27</b><br>Words: reconquête, revitalisation, rurale, structuration, services",
          "<b>Topic 27</b><br>Words: services, cultuelles, activités, publics, mixtes",
          "<b>Topic 27</b><br>Words: béchu, brevin, touche, drame, soient",
          "<b>Topic 27</b><br>Words: communes, services, publics, ruralité, accueil",
          "<b>Topic 27</b><br>Words: services, publics, mairie, secrétaires, public",
          "<b>Topic 27</b><br>Words: mairie, services, secrétaires, publics, métier",
          "<b>Topic 27</b><br>Words: services, ruralité, ruraux, publics, maires",
          "<b>Topic 27</b><br>Words: jeux, événement, enjeux, sport, paralympiques"
         ],
         "marker": {
          "color": "#CC79A7"
         },
         "mode": "lines",
         "name": "27_services_publics_mairie_ruralité",
         "type": "scatter",
         "x": [
          "2022-10-05T15:30:00",
          "2023-02-04T20:12:00",
          "2023-04-06T22:33:00",
          "2023-06-07T00:54:00",
          "2023-10-07T05:36:00",
          "2023-12-07T07:57:00",
          "2024-02-06T10:18:00",
          "2024-04-07T12:39:00"
         ],
         "y": [
          2,
          3,
          1,
          4,
          8,
          3,
          7,
          1
         ]
        },
        {
         "hoverinfo": "text",
         "hovertext": [
          "<b>Topic 28</b><br>Words: madame, déroute, lassalle, espériez, ministre",
          "<b>Topic 28</b><br>Words: madame, rechargées, édifiante, envisagerait, troquer",
          "<b>Topic 28</b><br>Words: ministre, présidence, secrétaire, excusez, favoritisme",
          "<b>Topic 28</b><br>Words: ministre, monsieur, madame, nuit, blesser",
          "<b>Topic 28</b><br>Words: madame, elysee, terminant, ministre, 151",
          "<b>Topic 28</b><br>Words: yeux, madame, détenez, battez, tristes",
          "<b>Topic 28</b><br>Words: madame, ministre, monsieur, rassurants, perchoir",
          "<b>Topic 28</b><br>Words: ministre, madame, monsieur, républicains, trucs"
         ],
         "marker": {
          "color": "#E69F00"
         },
         "mode": "lines",
         "name": "28_madame_ministre_monsieur_république",
         "type": "scatter",
         "x": [
          "2022-06-05T10:48:00",
          "2022-10-05T15:30:00",
          "2023-02-04T20:12:00",
          "2023-06-07T00:54:00",
          "2023-08-07T03:15:00",
          "2023-10-07T05:36:00",
          "2023-12-07T07:57:00",
          "2024-04-07T12:39:00"
         ],
         "y": [
          2,
          2,
          3,
          5,
          3,
          3,
          5,
          5
         ]
        },
        {
         "hoverinfo": "text",
         "hovertext": [
          "<b>Topic 29</b><br>Words: justice, cour, commentées, hier, renvoyé",
          "<b>Topic 29</b><br>Words: réquisitoire, définitive, parlons, préciser, justice",
          "<b>Topic 29</b><br>Words: croyons, appartenir, émancipatrice, liberté, soin",
          "<b>Topic 29</b><br>Words: conviction, juin, juillet, équilibre, votera",
          "<b>Topic 29</b><br>Words: justice, république, cour, sceaux, forcément",
          "<b>Topic 29</b><br>Words: justice, cour, dent, relaxe, république",
          "<b>Topic 29</b><br>Words: enverrons, réaffirmée, adoptant, message, justice",
          "<b>Topic 29</b><br>Words: justice, réclamons, appliquer, préfet, république",
          "<b>Topic 29</b><br>Words: nihilisme, honteux, semblant, souvenir, justice"
         ],
         "marker": {
          "color": "#56B4E9"
         },
         "mode": "lines",
         "name": "29_justice_cour_république_sceaux",
         "type": "scatter",
         "x": [
          "2022-08-05T13:09:00",
          "2022-12-05T17:51:00",
          "2023-02-04T20:12:00",
          "2023-04-06T22:33:00",
          "2023-06-07T00:54:00",
          "2023-10-07T05:36:00",
          "2023-12-07T07:57:00",
          "2024-02-06T10:18:00",
          "2024-04-07T12:39:00"
         ],
         "y": [
          2,
          1,
          1,
          1,
          9,
          8,
          1,
          4,
          1
         ]
        },
        {
         "hoverinfo": "text",
         "hovertext": [
          "<b>Topic 30</b><br>Words: religion, laïcité, 1905, cultes, religions",
          "<b>Topic 30</b><br>Words: religieux, bâtiments, bénis, cohabitent, polynésie",
          "<b>Topic 30</b><br>Words: laïcité, religieux, octroyaient, endoctriner, baroin",
          "<b>Topic 30</b><br>Words: laïcité, croire, séparatisme, religions, voûte",
          "<b>Topic 30</b><br>Words: quelconques, agressives, maladroite, affaiblissez, fêtes",
          "<b>Topic 30</b><br>Words: religion, laïcité, jetterait, héritier, réaffirmons",
          "<b>Topic 30</b><br>Words: laïcité, religion, 1905, religieux, état"
         ],
         "marker": {
          "color": "#009E73"
         },
         "mode": "lines",
         "name": "30_laïcité_religion_1905_cultes",
         "type": "scatter",
         "x": [
          "2021-01-31T10:40:22.800000",
          "2022-06-05T10:48:00",
          "2022-10-05T15:30:00",
          "2023-02-04T20:12:00",
          "2023-04-06T22:33:00",
          "2023-12-07T07:57:00",
          "2024-04-07T12:39:00"
         ],
         "y": [
          7,
          1,
          1,
          3,
          1,
          2,
          11
         ]
        },
        {
         "hoverinfo": "text",
         "hovertext": [
          "<b>Topic 31</b><br>Words: afd, procureur, pénale, victime, procédure",
          "<b>Topic 31</b><br>Words: peines, récidive, prononcées, justice, légale",
          "<b>Topic 31</b><br>Words: procureur, maltraitances, transmises, maltraitance, ressort",
          "<b>Topic 31</b><br>Words: enquête, procureur, procédure, possibilité, recours",
          "<b>Topic 31</b><br>Words: applique, code, arcom, signaler, heureuse",
          "<b>Topic 31</b><br>Words: entreprise, discriminations, cour, données, réquisitions",
          "<b>Topic 31</b><br>Words: signaler, syndic, soupçonne, copropriété, marchand",
          "<b>Topic 31</b><br>Words: instructions, générales, indiqué, souffriraient, discriminations",
          "<b>Topic 31</b><br>Words: courroies, attiré, alertons, mentionnée, prétendu"
         ],
         "marker": {
          "color": "#F0E442"
         },
         "mode": "lines",
         "name": "31_procureur_pénale_procédure_récidive",
         "type": "scatter",
         "x": [
          "2022-10-05T15:30:00",
          "2023-02-04T20:12:00",
          "2023-04-06T22:33:00",
          "2023-06-07T00:54:00",
          "2023-08-07T03:15:00",
          "2023-10-07T05:36:00",
          "2023-12-07T07:57:00",
          "2024-02-06T10:18:00",
          "2024-04-07T12:39:00"
         ],
         "y": [
          7,
          1,
          1,
          11,
          1,
          2,
          1,
          1,
          1
         ]
        },
        {
         "hoverinfo": "text",
         "hovertext": [
          "<b>Topic 32</b><br>Words: héritiers, osais, zola, glorieuse, glorieux",
          "<b>Topic 32</b><br>Words: propriété, propriétaires, droit, logement, squatteur",
          "<b>Topic 32</b><br>Words: logement, nucléaire, loyers, loi, proposition",
          "<b>Topic 32</b><br>Words: finance, liot, transactions, économie, groupe",
          "<b>Topic 32</b><br>Words: légitimes, absolument, soutenez, défendre, êtes",
          "<b>Topic 32</b><br>Words: extrême, projet, droite, collègues, abattre",
          "<b>Topic 32</b><br>Words: fantasmée, racismes, lgbtphobies, altérité, haine",
          "<b>Topic 32</b><br>Words: déchirure, impunément, boiteux, canard, paieront"
         ],
         "marker": {
          "color": "#D55E00"
         },
         "mode": "lines",
         "name": "32_logement_droite_extrême_loi",
         "type": "scatter",
         "x": [
          "2022-06-05T10:48:00",
          "2022-10-05T15:30:00",
          "2023-02-04T20:12:00",
          "2023-06-07T00:54:00",
          "2023-10-07T05:36:00",
          "2023-12-07T07:57:00",
          "2024-02-06T10:18:00",
          "2024-04-07T12:39:00"
         ],
         "y": [
          1,
          4,
          7,
          1,
          1,
          5,
          1,
          5
         ]
        },
        {
         "hoverinfo": "text",
         "hovertext": [
          "<b>Topic 33</b><br>Words: handicap, aah, aesh, autonomie, situation",
          "<b>Topic 33</b><br>Words: accompagnement, notification, départementales, handicapées, aesh",
          "<b>Topic 33</b><br>Words: autisme, aesh, handicap, troubles, élémentaire",
          "<b>Topic 33</b><br>Words: aesh, élèves, handicap, instituts, accompagnement",
          "<b>Topic 33</b><br>Words: handicap, aesh, élèves, école, inclusive",
          "<b>Topic 33</b><br>Words: handicap, rentrée, aesh, 000, marne",
          "<b>Topic 33</b><br>Words: handicap, emploi, opp, pôle, situation",
          "<b>Topic 33</b><br>Words: handicap, aesh, situation, jeux, école",
          "<b>Topic 33</b><br>Words: handicap, khattabi, médico, école, fadila",
          "<b>Topic 33</b><br>Words: aesh, handicap, méridien, temps, élèves"
         ],
         "marker": {
          "color": "#0072B2"
         },
         "mode": "lines",
         "name": "33_handicap_aesh_élèves_situation",
         "type": "scatter",
         "x": [
          "2022-06-05T10:48:00",
          "2022-08-05T13:09:00",
          "2022-10-05T15:30:00",
          "2022-12-05T17:51:00",
          "2023-02-04T20:12:00",
          "2023-04-06T22:33:00",
          "2023-08-07T03:15:00",
          "2023-10-07T05:36:00",
          "2024-02-06T10:18:00",
          "2024-04-07T12:39:00"
         ],
         "y": [
          3,
          1,
          2,
          1,
          4,
          1,
          3,
          4,
          1,
          5
         ]
        },
        {
         "hoverinfo": "text",
         "hovertext": [
          "<b>Topic 34</b><br>Words: parents, enfants, ans, enfance, enfant",
          "<b>Topic 34</b><br>Words: enfants, abri, enfance, 115, parents",
          "<b>Topic 34</b><br>Words: enfant, enfants, parents, familles, maladie",
          "<b>Topic 34</b><br>Words: enfants, adresser, harceler, brutes, harcèlement",
          "<b>Topic 34</b><br>Words: parents, enfant, aidants, enfants, maladie",
          "<b>Topic 34</b><br>Words: enfants, garant, enfance, parents, protégés",
          "<b>Topic 34</b><br>Words: parents, enfants, défaillants, internat, familles",
          "<b>Topic 34</b><br>Words: ase, enfants, jeunes, enfance, placement",
          "<b>Topic 34</b><br>Words: neurodéveloppement, enfants, aidants, troubles, repérage"
         ],
         "marker": {
          "color": "#CC79A7"
         },
         "mode": "lines",
         "name": "34_enfants_parents_enfant_neurodéveloppe...",
         "type": "scatter",
         "x": [
          "2022-06-05T10:48:00",
          "2022-10-05T15:30:00",
          "2023-02-04T20:12:00",
          "2023-04-06T22:33:00",
          "2023-06-07T00:54:00",
          "2023-10-07T05:36:00",
          "2023-12-07T07:57:00",
          "2024-02-06T10:18:00",
          "2024-04-07T12:39:00"
         ],
         "y": [
          2,
          4,
          4,
          1,
          2,
          3,
          4,
          2,
          2
         ]
        },
        {
         "hoverinfo": "text",
         "hovertext": [
          "<b>Topic 35</b><br>Words: salariés, salaires, prime, rtt, versée",
          "<b>Topic 35</b><br>Words: demandeuses, malus, bonus, emploi, employeurs",
          "<b>Topic 35</b><br>Words: réorganisations, salariés, poste, tournées, chsct",
          "<b>Topic 35</b><br>Words: salariés, régime, chômage, territoires, privilégiés",
          "<b>Topic 35</b><br>Words: irrecevable, valeur, profit, salaires, partage",
          "<b>Topic 35</b><br>Words: salariés, rsa, tuer, pauvres, neuf",
          "<b>Topic 35</b><br>Words: consiste, salariés, collectivités, territoriale, euros",
          "<b>Topic 35</b><br>Words: wulfranc, salariés, concurrence, stéphane, huchon",
          "<b>Topic 35</b><br>Words: mondelez, cher, entreprises, usines, tchèque"
         ],
         "marker": {
          "color": "#E69F00"
         },
         "mode": "lines",
         "name": "35_salariés_salaires_chômage_emploi",
         "type": "scatter",
         "x": [
          "2022-06-05T10:48:00",
          "2022-08-05T13:09:00",
          "2022-10-05T15:30:00",
          "2023-02-04T20:12:00",
          "2023-06-07T00:54:00",
          "2023-08-07T03:15:00",
          "2023-10-07T05:36:00",
          "2023-12-07T07:57:00",
          "2024-02-06T10:18:00"
         ],
         "y": [
          8,
          2,
          1,
          5,
          1,
          2,
          2,
          2,
          1
         ]
        },
        {
         "hoverinfo": "text",
         "hovertext": [
          "<b>Topic 36</b><br>Words: inflation, basique, mesures, achat, cap",
          "<b>Topic 36</b><br>Words: inflation, culture, culturelle, collectivités, pass",
          "<b>Topic 36</b><br>Words: commerciales, prix, inflation, négociations, egalim",
          "<b>Topic 36</b><br>Words: inflation, prix, panier, 13, blocage",
          "<b>Topic 36</b><br>Words: inflation, lpm, locataires, logement, armée",
          "<b>Topic 36</b><br>Words: inflation, locataires, salaires, valeur, pic",
          "<b>Topic 36</b><br>Words: 18, avancer, transition, plein, inflation",
          "<b>Topic 36</b><br>Words: inflation, prix, dépenses, logement, finances"
         ],
         "marker": {
          "color": "#56B4E9"
         },
         "mode": "lines",
         "name": "36_inflation_prix_locataires_logement",
         "type": "scatter",
         "x": [
          "2022-06-05T10:48:00",
          "2022-10-05T15:30:00",
          "2022-12-05T17:51:00",
          "2023-02-04T20:12:00",
          "2023-04-06T22:33:00",
          "2023-06-07T00:54:00",
          "2023-08-07T03:15:00",
          "2023-10-07T05:36:00"
         ],
         "y": [
          4,
          5,
          1,
          1,
          3,
          2,
          1,
          6
         ]
        },
        {
         "hoverinfo": "text",
         "hovertext": [
          "<b>Topic 37</b><br>Words: bâtir, construire, domiciles, sociale, réponde",
          "<b>Topic 37</b><br>Words: sociale, chômeurs, sécurité, revenez, vérité",
          "<b>Topic 37</b><br>Words: sociale, sécurité, santé, budget, plfss",
          "<b>Topic 37</b><br>Words: démographique, sociale, martinique, souhaitent, guadeloupe",
          "<b>Topic 37</b><br>Words: sociale, sécurité, résorbent, fiertés, déficits",
          "<b>Topic 37</b><br>Words: réjouir, sociale, sécurité, fiers, belle",
          "<b>Topic 37</b><br>Words: pacte, retrouveront, survit, trouve, sécurité",
          "<b>Topic 37</b><br>Words: sociale, sécurité, santé, maladie, financement",
          "<b>Topic 37</b><br>Words: sociale, sécurité, institution, constitutionnelle, constitution"
         ],
         "marker": {
          "color": "#009E73"
         },
         "mode": "lines",
         "name": "37_sociale_sécurité_santé_institution",
         "type": "scatter",
         "x": [
          "2022-06-05T10:48:00",
          "2022-08-05T13:09:00",
          "2022-10-05T15:30:00",
          "2023-02-04T20:12:00",
          "2023-04-06T22:33:00",
          "2023-06-07T00:54:00",
          "2023-08-07T03:15:00",
          "2023-10-07T05:36:00",
          "2024-04-07T12:39:00"
         ],
         "y": [
          1,
          1,
          3,
          1,
          1,
          1,
          1,
          5,
          9
         ]
        },
        {
         "hoverinfo": "text",
         "hovertext": [
          "<b>Topic 38</b><br>Words: afd, prison, places, cannabis, délit",
          "<b>Topic 38</b><br>Words: récidive, prison, peines, justice, minimale",
          "<b>Topic 38</b><br>Words: esclavage, louverture, toussaint, prison, haïti",
          "<b>Topic 38</b><br>Words: prison, peines, déflation, carcéral, justice",
          "<b>Topic 38</b><br>Words: justice, prison, agrasc, juridictions, pénale",
          "<b>Topic 38</b><br>Words: détenus, prison, prisons, baie, mahault"
         ],
         "marker": {
          "color": "#F0E442"
         },
         "mode": "lines",
         "name": "38_prison_justice_récidive_places",
         "type": "scatter",
         "x": [
          "2022-10-05T15:30:00",
          "2023-02-04T20:12:00",
          "2023-04-06T22:33:00",
          "2023-06-07T00:54:00",
          "2023-10-07T05:36:00",
          "2023-12-07T07:57:00"
         ],
         "y": [
          5,
          2,
          3,
          7,
          3,
          2
         ]
        },
        {
         "hoverinfo": "text",
         "hovertext": [
          "<b>Topic 39</b><br>Words: suède, finlande, otan, alliance, européenne",
          "<b>Topic 39</b><br>Words: ukraine, guerre, classements, paix, ukrainiens",
          "<b>Topic 39</b><br>Words: ukraine, courage, ukrainien, héroïquement, horriblement",
          "<b>Topic 39</b><br>Words: poutine, ingérence, russe, poupée, ukraine",
          "<b>Topic 39</b><br>Words: géopolitique, invasion, ukraine, paix, kant",
          "<b>Topic 39</b><br>Words: ukraine, russie, europe, guerre, comores"
         ],
         "marker": {
          "color": "#D55E00"
         },
         "mode": "lines",
         "name": "39_ukraine_suède_finlande_otan",
         "type": "scatter",
         "x": [
          "2022-06-05T10:48:00",
          "2022-08-05T13:09:00",
          "2022-10-05T15:30:00",
          "2023-04-06T22:33:00",
          "2023-10-07T05:36:00",
          "2024-02-06T10:18:00"
         ],
         "y": [
          6,
          4,
          1,
          2,
          2,
          6
         ]
        }
       ],
       "layout": {
        "height": 450,
        "hoverlabel": {
         "bgcolor": "white",
         "font": {
          "family": "Rockwell",
          "size": 16
         }
        },
        "legend": {
         "title": {
          "text": "<b>Global Topic Representation"
         }
        },
        "template": {
         "data": {
          "bar": [
           {
            "error_x": {
             "color": "rgb(36,36,36)"
            },
            "error_y": {
             "color": "rgb(36,36,36)"
            },
            "marker": {
             "line": {
              "color": "white",
              "width": 0.5
             },
             "pattern": {
              "fillmode": "overlay",
              "size": 10,
              "solidity": 0.2
             }
            },
            "type": "bar"
           }
          ],
          "barpolar": [
           {
            "marker": {
             "line": {
              "color": "white",
              "width": 0.5
             },
             "pattern": {
              "fillmode": "overlay",
              "size": 10,
              "solidity": 0.2
             }
            },
            "type": "barpolar"
           }
          ],
          "carpet": [
           {
            "aaxis": {
             "endlinecolor": "rgb(36,36,36)",
             "gridcolor": "white",
             "linecolor": "white",
             "minorgridcolor": "white",
             "startlinecolor": "rgb(36,36,36)"
            },
            "baxis": {
             "endlinecolor": "rgb(36,36,36)",
             "gridcolor": "white",
             "linecolor": "white",
             "minorgridcolor": "white",
             "startlinecolor": "rgb(36,36,36)"
            },
            "type": "carpet"
           }
          ],
          "choropleth": [
           {
            "colorbar": {
             "outlinewidth": 1,
             "tickcolor": "rgb(36,36,36)",
             "ticks": "outside"
            },
            "type": "choropleth"
           }
          ],
          "contour": [
           {
            "colorbar": {
             "outlinewidth": 1,
             "tickcolor": "rgb(36,36,36)",
             "ticks": "outside"
            },
            "colorscale": [
             [
              0,
              "#440154"
             ],
             [
              0.1111111111111111,
              "#482878"
             ],
             [
              0.2222222222222222,
              "#3e4989"
             ],
             [
              0.3333333333333333,
              "#31688e"
             ],
             [
              0.4444444444444444,
              "#26828e"
             ],
             [
              0.5555555555555556,
              "#1f9e89"
             ],
             [
              0.6666666666666666,
              "#35b779"
             ],
             [
              0.7777777777777778,
              "#6ece58"
             ],
             [
              0.8888888888888888,
              "#b5de2b"
             ],
             [
              1,
              "#fde725"
             ]
            ],
            "type": "contour"
           }
          ],
          "contourcarpet": [
           {
            "colorbar": {
             "outlinewidth": 1,
             "tickcolor": "rgb(36,36,36)",
             "ticks": "outside"
            },
            "type": "contourcarpet"
           }
          ],
          "heatmap": [
           {
            "colorbar": {
             "outlinewidth": 1,
             "tickcolor": "rgb(36,36,36)",
             "ticks": "outside"
            },
            "colorscale": [
             [
              0,
              "#440154"
             ],
             [
              0.1111111111111111,
              "#482878"
             ],
             [
              0.2222222222222222,
              "#3e4989"
             ],
             [
              0.3333333333333333,
              "#31688e"
             ],
             [
              0.4444444444444444,
              "#26828e"
             ],
             [
              0.5555555555555556,
              "#1f9e89"
             ],
             [
              0.6666666666666666,
              "#35b779"
             ],
             [
              0.7777777777777778,
              "#6ece58"
             ],
             [
              0.8888888888888888,
              "#b5de2b"
             ],
             [
              1,
              "#fde725"
             ]
            ],
            "type": "heatmap"
           }
          ],
          "heatmapgl": [
           {
            "colorbar": {
             "outlinewidth": 1,
             "tickcolor": "rgb(36,36,36)",
             "ticks": "outside"
            },
            "colorscale": [
             [
              0,
              "#440154"
             ],
             [
              0.1111111111111111,
              "#482878"
             ],
             [
              0.2222222222222222,
              "#3e4989"
             ],
             [
              0.3333333333333333,
              "#31688e"
             ],
             [
              0.4444444444444444,
              "#26828e"
             ],
             [
              0.5555555555555556,
              "#1f9e89"
             ],
             [
              0.6666666666666666,
              "#35b779"
             ],
             [
              0.7777777777777778,
              "#6ece58"
             ],
             [
              0.8888888888888888,
              "#b5de2b"
             ],
             [
              1,
              "#fde725"
             ]
            ],
            "type": "heatmapgl"
           }
          ],
          "histogram": [
           {
            "marker": {
             "line": {
              "color": "white",
              "width": 0.6
             }
            },
            "type": "histogram"
           }
          ],
          "histogram2d": [
           {
            "colorbar": {
             "outlinewidth": 1,
             "tickcolor": "rgb(36,36,36)",
             "ticks": "outside"
            },
            "colorscale": [
             [
              0,
              "#440154"
             ],
             [
              0.1111111111111111,
              "#482878"
             ],
             [
              0.2222222222222222,
              "#3e4989"
             ],
             [
              0.3333333333333333,
              "#31688e"
             ],
             [
              0.4444444444444444,
              "#26828e"
             ],
             [
              0.5555555555555556,
              "#1f9e89"
             ],
             [
              0.6666666666666666,
              "#35b779"
             ],
             [
              0.7777777777777778,
              "#6ece58"
             ],
             [
              0.8888888888888888,
              "#b5de2b"
             ],
             [
              1,
              "#fde725"
             ]
            ],
            "type": "histogram2d"
           }
          ],
          "histogram2dcontour": [
           {
            "colorbar": {
             "outlinewidth": 1,
             "tickcolor": "rgb(36,36,36)",
             "ticks": "outside"
            },
            "colorscale": [
             [
              0,
              "#440154"
             ],
             [
              0.1111111111111111,
              "#482878"
             ],
             [
              0.2222222222222222,
              "#3e4989"
             ],
             [
              0.3333333333333333,
              "#31688e"
             ],
             [
              0.4444444444444444,
              "#26828e"
             ],
             [
              0.5555555555555556,
              "#1f9e89"
             ],
             [
              0.6666666666666666,
              "#35b779"
             ],
             [
              0.7777777777777778,
              "#6ece58"
             ],
             [
              0.8888888888888888,
              "#b5de2b"
             ],
             [
              1,
              "#fde725"
             ]
            ],
            "type": "histogram2dcontour"
           }
          ],
          "mesh3d": [
           {
            "colorbar": {
             "outlinewidth": 1,
             "tickcolor": "rgb(36,36,36)",
             "ticks": "outside"
            },
            "type": "mesh3d"
           }
          ],
          "parcoords": [
           {
            "line": {
             "colorbar": {
              "outlinewidth": 1,
              "tickcolor": "rgb(36,36,36)",
              "ticks": "outside"
             }
            },
            "type": "parcoords"
           }
          ],
          "pie": [
           {
            "automargin": true,
            "type": "pie"
           }
          ],
          "scatter": [
           {
            "fillpattern": {
             "fillmode": "overlay",
             "size": 10,
             "solidity": 0.2
            },
            "type": "scatter"
           }
          ],
          "scatter3d": [
           {
            "line": {
             "colorbar": {
              "outlinewidth": 1,
              "tickcolor": "rgb(36,36,36)",
              "ticks": "outside"
             }
            },
            "marker": {
             "colorbar": {
              "outlinewidth": 1,
              "tickcolor": "rgb(36,36,36)",
              "ticks": "outside"
             }
            },
            "type": "scatter3d"
           }
          ],
          "scattercarpet": [
           {
            "marker": {
             "colorbar": {
              "outlinewidth": 1,
              "tickcolor": "rgb(36,36,36)",
              "ticks": "outside"
             }
            },
            "type": "scattercarpet"
           }
          ],
          "scattergeo": [
           {
            "marker": {
             "colorbar": {
              "outlinewidth": 1,
              "tickcolor": "rgb(36,36,36)",
              "ticks": "outside"
             }
            },
            "type": "scattergeo"
           }
          ],
          "scattergl": [
           {
            "marker": {
             "colorbar": {
              "outlinewidth": 1,
              "tickcolor": "rgb(36,36,36)",
              "ticks": "outside"
             }
            },
            "type": "scattergl"
           }
          ],
          "scattermapbox": [
           {
            "marker": {
             "colorbar": {
              "outlinewidth": 1,
              "tickcolor": "rgb(36,36,36)",
              "ticks": "outside"
             }
            },
            "type": "scattermapbox"
           }
          ],
          "scatterpolar": [
           {
            "marker": {
             "colorbar": {
              "outlinewidth": 1,
              "tickcolor": "rgb(36,36,36)",
              "ticks": "outside"
             }
            },
            "type": "scatterpolar"
           }
          ],
          "scatterpolargl": [
           {
            "marker": {
             "colorbar": {
              "outlinewidth": 1,
              "tickcolor": "rgb(36,36,36)",
              "ticks": "outside"
             }
            },
            "type": "scatterpolargl"
           }
          ],
          "scatterternary": [
           {
            "marker": {
             "colorbar": {
              "outlinewidth": 1,
              "tickcolor": "rgb(36,36,36)",
              "ticks": "outside"
             }
            },
            "type": "scatterternary"
           }
          ],
          "surface": [
           {
            "colorbar": {
             "outlinewidth": 1,
             "tickcolor": "rgb(36,36,36)",
             "ticks": "outside"
            },
            "colorscale": [
             [
              0,
              "#440154"
             ],
             [
              0.1111111111111111,
              "#482878"
             ],
             [
              0.2222222222222222,
              "#3e4989"
             ],
             [
              0.3333333333333333,
              "#31688e"
             ],
             [
              0.4444444444444444,
              "#26828e"
             ],
             [
              0.5555555555555556,
              "#1f9e89"
             ],
             [
              0.6666666666666666,
              "#35b779"
             ],
             [
              0.7777777777777778,
              "#6ece58"
             ],
             [
              0.8888888888888888,
              "#b5de2b"
             ],
             [
              1,
              "#fde725"
             ]
            ],
            "type": "surface"
           }
          ],
          "table": [
           {
            "cells": {
             "fill": {
              "color": "rgb(237,237,237)"
             },
             "line": {
              "color": "white"
             }
            },
            "header": {
             "fill": {
              "color": "rgb(217,217,217)"
             },
             "line": {
              "color": "white"
             }
            },
            "type": "table"
           }
          ]
         },
         "layout": {
          "annotationdefaults": {
           "arrowhead": 0,
           "arrowwidth": 1
          },
          "autotypenumbers": "strict",
          "coloraxis": {
           "colorbar": {
            "outlinewidth": 1,
            "tickcolor": "rgb(36,36,36)",
            "ticks": "outside"
           }
          },
          "colorscale": {
           "diverging": [
            [
             0,
             "rgb(103,0,31)"
            ],
            [
             0.1,
             "rgb(178,24,43)"
            ],
            [
             0.2,
             "rgb(214,96,77)"
            ],
            [
             0.3,
             "rgb(244,165,130)"
            ],
            [
             0.4,
             "rgb(253,219,199)"
            ],
            [
             0.5,
             "rgb(247,247,247)"
            ],
            [
             0.6,
             "rgb(209,229,240)"
            ],
            [
             0.7,
             "rgb(146,197,222)"
            ],
            [
             0.8,
             "rgb(67,147,195)"
            ],
            [
             0.9,
             "rgb(33,102,172)"
            ],
            [
             1,
             "rgb(5,48,97)"
            ]
           ],
           "sequential": [
            [
             0,
             "#440154"
            ],
            [
             0.1111111111111111,
             "#482878"
            ],
            [
             0.2222222222222222,
             "#3e4989"
            ],
            [
             0.3333333333333333,
             "#31688e"
            ],
            [
             0.4444444444444444,
             "#26828e"
            ],
            [
             0.5555555555555556,
             "#1f9e89"
            ],
            [
             0.6666666666666666,
             "#35b779"
            ],
            [
             0.7777777777777778,
             "#6ece58"
            ],
            [
             0.8888888888888888,
             "#b5de2b"
            ],
            [
             1,
             "#fde725"
            ]
           ],
           "sequentialminus": [
            [
             0,
             "#440154"
            ],
            [
             0.1111111111111111,
             "#482878"
            ],
            [
             0.2222222222222222,
             "#3e4989"
            ],
            [
             0.3333333333333333,
             "#31688e"
            ],
            [
             0.4444444444444444,
             "#26828e"
            ],
            [
             0.5555555555555556,
             "#1f9e89"
            ],
            [
             0.6666666666666666,
             "#35b779"
            ],
            [
             0.7777777777777778,
             "#6ece58"
            ],
            [
             0.8888888888888888,
             "#b5de2b"
            ],
            [
             1,
             "#fde725"
            ]
           ]
          },
          "colorway": [
           "#1F77B4",
           "#FF7F0E",
           "#2CA02C",
           "#D62728",
           "#9467BD",
           "#8C564B",
           "#E377C2",
           "#7F7F7F",
           "#BCBD22",
           "#17BECF"
          ],
          "font": {
           "color": "rgb(36,36,36)"
          },
          "geo": {
           "bgcolor": "white",
           "lakecolor": "white",
           "landcolor": "white",
           "showlakes": true,
           "showland": true,
           "subunitcolor": "white"
          },
          "hoverlabel": {
           "align": "left"
          },
          "hovermode": "closest",
          "mapbox": {
           "style": "light"
          },
          "paper_bgcolor": "white",
          "plot_bgcolor": "white",
          "polar": {
           "angularaxis": {
            "gridcolor": "rgb(232,232,232)",
            "linecolor": "rgb(36,36,36)",
            "showgrid": false,
            "showline": true,
            "ticks": "outside"
           },
           "bgcolor": "white",
           "radialaxis": {
            "gridcolor": "rgb(232,232,232)",
            "linecolor": "rgb(36,36,36)",
            "showgrid": false,
            "showline": true,
            "ticks": "outside"
           }
          },
          "scene": {
           "xaxis": {
            "backgroundcolor": "white",
            "gridcolor": "rgb(232,232,232)",
            "gridwidth": 2,
            "linecolor": "rgb(36,36,36)",
            "showbackground": true,
            "showgrid": false,
            "showline": true,
            "ticks": "outside",
            "zeroline": false,
            "zerolinecolor": "rgb(36,36,36)"
           },
           "yaxis": {
            "backgroundcolor": "white",
            "gridcolor": "rgb(232,232,232)",
            "gridwidth": 2,
            "linecolor": "rgb(36,36,36)",
            "showbackground": true,
            "showgrid": false,
            "showline": true,
            "ticks": "outside",
            "zeroline": false,
            "zerolinecolor": "rgb(36,36,36)"
           },
           "zaxis": {
            "backgroundcolor": "white",
            "gridcolor": "rgb(232,232,232)",
            "gridwidth": 2,
            "linecolor": "rgb(36,36,36)",
            "showbackground": true,
            "showgrid": false,
            "showline": true,
            "ticks": "outside",
            "zeroline": false,
            "zerolinecolor": "rgb(36,36,36)"
           }
          },
          "shapedefaults": {
           "fillcolor": "black",
           "line": {
            "width": 0
           },
           "opacity": 0.3
          },
          "ternary": {
           "aaxis": {
            "gridcolor": "rgb(232,232,232)",
            "linecolor": "rgb(36,36,36)",
            "showgrid": false,
            "showline": true,
            "ticks": "outside"
           },
           "baxis": {
            "gridcolor": "rgb(232,232,232)",
            "linecolor": "rgb(36,36,36)",
            "showgrid": false,
            "showline": true,
            "ticks": "outside"
           },
           "bgcolor": "white",
           "caxis": {
            "gridcolor": "rgb(232,232,232)",
            "linecolor": "rgb(36,36,36)",
            "showgrid": false,
            "showline": true,
            "ticks": "outside"
           }
          },
          "title": {
           "x": 0.05
          },
          "xaxis": {
           "automargin": true,
           "gridcolor": "rgb(232,232,232)",
           "linecolor": "rgb(36,36,36)",
           "showgrid": false,
           "showline": true,
           "ticks": "outside",
           "title": {
            "standoff": 15
           },
           "zeroline": false,
           "zerolinecolor": "rgb(36,36,36)"
          },
          "yaxis": {
           "automargin": true,
           "gridcolor": "rgb(232,232,232)",
           "linecolor": "rgb(36,36,36)",
           "showgrid": false,
           "showline": true,
           "ticks": "outside",
           "title": {
            "standoff": 15
           },
           "zeroline": false,
           "zerolinecolor": "rgb(36,36,36)"
          }
         }
        },
        "title": {
         "font": {
          "color": "Black",
          "size": 22
         },
         "text": "<b>Topics over Time</b>",
         "x": 0.4,
         "xanchor": "center",
         "y": 0.95,
         "yanchor": "top"
        },
        "width": 1250,
        "xaxis": {
         "showgrid": true
        },
        "yaxis": {
         "showgrid": true,
         "title": {
          "text": "Frequency"
         }
        }
       }
      }
     },
     "metadata": {},
     "output_type": "display_data"
    }
   ],
   "source": [
    "topic_model_better.visualize_topics_over_time(topics_over_time_better, top_n_topics=40)"
   ]
  },
  {
   "cell_type": "code",
   "execution_count": 95,
   "id": "1761bb3d",
   "metadata": {},
   "outputs": [
    {
     "data": {
      "text/plain": [
       "1448   2021-02-01 16:00:00\n",
       "1412   2021-02-01 16:00:00\n",
       "1411   2021-02-01 16:00:00\n",
       "1410   2021-02-01 16:00:00\n",
       "1409   2021-02-01 16:00:00\n",
       "               ...        \n",
       "2927   2024-06-06 15:00:00\n",
       "3257   2024-06-06 21:45:00\n",
       "3256   2024-06-06 21:45:00\n",
       "3357   2024-06-07 10:00:00\n",
       "2673   2024-06-07 15:00:00\n",
       "Name: DateSeance_ts, Length: 4592, dtype: datetime64[ns]"
      ]
     },
     "execution_count": 95,
     "metadata": {},
     "output_type": "execute_result"
    }
   ],
   "source": [
    "df[\"DateSeance_ts\"].sort_values()"
   ]
  },
  {
   "cell_type": "code",
   "execution_count": 98,
   "id": "ea7a5ad2",
   "metadata": {},
   "outputs": [
    {
     "data": {
      "text/plain": [
       "1452    2021-02-01\n",
       "1416    2021-02-01\n",
       "1415    2021-02-01\n",
       "1414    2021-02-01\n",
       "1413    2021-02-01\n",
       "           ...    \n",
       "3256    2024-06-06\n",
       "3257    2024-06-06\n",
       "2926    2024-06-06\n",
       "2673    2024-06-07\n",
       "3357    2024-06-07\n",
       "Name: DateSeance_day, Length: 4592, dtype: object"
      ]
     },
     "execution_count": 98,
     "metadata": {},
     "output_type": "execute_result"
    }
   ],
   "source": [
    "df[\"DateSeance_day\"].sort_values()"
   ]
  },
  {
   "cell_type": "code",
   "execution_count": 101,
   "id": "0e8bb7f3",
   "metadata": {},
   "outputs": [
    {
     "data": {
      "text/html": [
       "<div>\n",
       "<style scoped>\n",
       "    .dataframe tbody tr th:only-of-type {\n",
       "        vertical-align: middle;\n",
       "    }\n",
       "\n",
       "    .dataframe tbody tr th {\n",
       "        vertical-align: top;\n",
       "    }\n",
       "\n",
       "    .dataframe thead th {\n",
       "        text-align: right;\n",
       "    }\n",
       "</style>\n",
       "<table border=\"1\" class=\"dataframe\">\n",
       "  <thead>\n",
       "    <tr style=\"text-align: right;\">\n",
       "      <th></th>\n",
       "      <th>UID</th>\n",
       "      <th>SeanceRef</th>\n",
       "      <th>SessionRef</th>\n",
       "      <th>DateSeance</th>\n",
       "      <th>DateSeanceJour</th>\n",
       "      <th>NumSeanceJour</th>\n",
       "      <th>NumSeance</th>\n",
       "      <th>TypeAssemblee</th>\n",
       "      <th>Legislature</th>\n",
       "      <th>Session</th>\n",
       "      <th>...</th>\n",
       "      <th>scoreParticipationSpecialite</th>\n",
       "      <th>scoreLoyaute</th>\n",
       "      <th>scoreMajorite</th>\n",
       "      <th>active</th>\n",
       "      <th>dateMaj</th>\n",
       "      <th>repu_match_valide</th>\n",
       "      <th>repu_match_simple</th>\n",
       "      <th>Texte_clean</th>\n",
       "      <th>DateSeance_ts</th>\n",
       "      <th>DateSeance_day</th>\n",
       "    </tr>\n",
       "  </thead>\n",
       "  <tbody>\n",
       "    <tr>\n",
       "      <th>1395</th>\n",
       "      <td>CRSANR5L16S2021O1N144</td>\n",
       "      <td>RUANR5L15S2021IDS23666</td>\n",
       "      <td>SCR5A2021O1</td>\n",
       "      <td>20210201160000000</td>\n",
       "      <td>lundi 01 février 2021</td>\n",
       "      <td>1</td>\n",
       "      <td>144</td>\n",
       "      <td>AN</td>\n",
       "      <td>16</td>\n",
       "      <td>session ordinaire 2020-2021</td>\n",
       "      <td>...</td>\n",
       "      <td>NaN</td>\n",
       "      <td>0.912</td>\n",
       "      <td>0.000</td>\n",
       "      <td>0.0</td>\n",
       "      <td>2025-06-24</td>\n",
       "      <td>True</td>\n",
       "      <td>False</td>\n",
       "      <td>Monsieur le président, mesdames, messieurs les...</td>\n",
       "      <td>2021-02-01 16:00:00</td>\n",
       "      <td>2021-02-01</td>\n",
       "    </tr>\n",
       "    <tr>\n",
       "      <th>1396</th>\n",
       "      <td>CRSANR5L16S2021O1N144</td>\n",
       "      <td>RUANR5L15S2021IDS23666</td>\n",
       "      <td>SCR5A2021O1</td>\n",
       "      <td>20210201160000000</td>\n",
       "      <td>lundi 01 février 2021</td>\n",
       "      <td>1</td>\n",
       "      <td>144</td>\n",
       "      <td>AN</td>\n",
       "      <td>16</td>\n",
       "      <td>session ordinaire 2020-2021</td>\n",
       "      <td>...</td>\n",
       "      <td>NaN</td>\n",
       "      <td>0.912</td>\n",
       "      <td>0.000</td>\n",
       "      <td>0.0</td>\n",
       "      <td>2025-06-24</td>\n",
       "      <td>True</td>\n",
       "      <td>False</td>\n",
       "      <td>…mais un texte pour tout le monde, qui aura de...</td>\n",
       "      <td>2021-02-01 16:00:00</td>\n",
       "      <td>2021-02-01</td>\n",
       "    </tr>\n",
       "    <tr>\n",
       "      <th>1397</th>\n",
       "      <td>CRSANR5L16S2021O1N144</td>\n",
       "      <td>RUANR5L15S2021IDS23666</td>\n",
       "      <td>SCR5A2021O1</td>\n",
       "      <td>20210201160000000</td>\n",
       "      <td>lundi 01 février 2021</td>\n",
       "      <td>1</td>\n",
       "      <td>144</td>\n",
       "      <td>AN</td>\n",
       "      <td>16</td>\n",
       "      <td>session ordinaire 2020-2021</td>\n",
       "      <td>...</td>\n",
       "      <td>NaN</td>\n",
       "      <td>0.912</td>\n",
       "      <td>0.000</td>\n",
       "      <td>0.0</td>\n",
       "      <td>2025-06-24</td>\n",
       "      <td>True</td>\n",
       "      <td>False</td>\n",
       "      <td>Cette précision prouve sans doute que les révo...</td>\n",
       "      <td>2021-02-01 16:00:00</td>\n",
       "      <td>2021-02-01</td>\n",
       "    </tr>\n",
       "    <tr>\n",
       "      <th>1398</th>\n",
       "      <td>CRSANR5L16S2021O1N144</td>\n",
       "      <td>RUANR5L15S2021IDS23666</td>\n",
       "      <td>SCR5A2021O1</td>\n",
       "      <td>20210201160000000</td>\n",
       "      <td>lundi 01 février 2021</td>\n",
       "      <td>1</td>\n",
       "      <td>144</td>\n",
       "      <td>AN</td>\n",
       "      <td>16</td>\n",
       "      <td>session ordinaire 2020-2021</td>\n",
       "      <td>...</td>\n",
       "      <td>NaN</td>\n",
       "      <td>0.912</td>\n",
       "      <td>0.000</td>\n",
       "      <td>0.0</td>\n",
       "      <td>2025-06-24</td>\n",
       "      <td>True</td>\n",
       "      <td>False</td>\n",
       "      <td>Des puissances étrangères n’ont pas à payer de...</td>\n",
       "      <td>2021-02-01 16:00:00</td>\n",
       "      <td>2021-02-01</td>\n",
       "    </tr>\n",
       "    <tr>\n",
       "      <th>1399</th>\n",
       "      <td>CRSANR5L16S2021O1N144</td>\n",
       "      <td>RUANR5L15S2021IDS23666</td>\n",
       "      <td>SCR5A2021O1</td>\n",
       "      <td>20210201160000000</td>\n",
       "      <td>lundi 01 février 2021</td>\n",
       "      <td>1</td>\n",
       "      <td>144</td>\n",
       "      <td>AN</td>\n",
       "      <td>16</td>\n",
       "      <td>session ordinaire 2020-2021</td>\n",
       "      <td>...</td>\n",
       "      <td>NaN</td>\n",
       "      <td>0.912</td>\n",
       "      <td>0.000</td>\n",
       "      <td>0.0</td>\n",
       "      <td>2025-06-24</td>\n",
       "      <td>True</td>\n",
       "      <td>True</td>\n",
       "      <td>…nous considérons que toutes les religions doi...</td>\n",
       "      <td>2021-02-01 16:00:00</td>\n",
       "      <td>2021-02-01</td>\n",
       "    </tr>\n",
       "    <tr>\n",
       "      <th>...</th>\n",
       "      <td>...</td>\n",
       "      <td>...</td>\n",
       "      <td>...</td>\n",
       "      <td>...</td>\n",
       "      <td>...</td>\n",
       "      <td>...</td>\n",
       "      <td>...</td>\n",
       "      <td>...</td>\n",
       "      <td>...</td>\n",
       "      <td>...</td>\n",
       "      <td>...</td>\n",
       "      <td>...</td>\n",
       "      <td>...</td>\n",
       "      <td>...</td>\n",
       "      <td>...</td>\n",
       "      <td>...</td>\n",
       "      <td>...</td>\n",
       "      <td>...</td>\n",
       "      <td>...</td>\n",
       "      <td>...</td>\n",
       "      <td>...</td>\n",
       "    </tr>\n",
       "    <tr>\n",
       "      <th>1455</th>\n",
       "      <td>CRSANR5L16S2021O1N144</td>\n",
       "      <td>RUANR5L15S2021IDS23666</td>\n",
       "      <td>SCR5A2021O1</td>\n",
       "      <td>20210201160000000</td>\n",
       "      <td>lundi 01 février 2021</td>\n",
       "      <td>1</td>\n",
       "      <td>144</td>\n",
       "      <td>AN</td>\n",
       "      <td>16</td>\n",
       "      <td>session ordinaire 2020-2021</td>\n",
       "      <td>...</td>\n",
       "      <td>0.47</td>\n",
       "      <td>0.974</td>\n",
       "      <td>0.000</td>\n",
       "      <td>1.0</td>\n",
       "      <td>2025-06-24</td>\n",
       "      <td>True</td>\n",
       "      <td>True</td>\n",
       "      <td>Collègue Mélenchon, le groupe Dem n’associera ...</td>\n",
       "      <td>2021-02-01 16:00:00</td>\n",
       "      <td>2021-02-01</td>\n",
       "    </tr>\n",
       "    <tr>\n",
       "      <th>1456</th>\n",
       "      <td>CRSANR5L16S2021O1N144</td>\n",
       "      <td>RUANR5L15S2021IDS23666</td>\n",
       "      <td>SCR5A2021O1</td>\n",
       "      <td>20210201160000000</td>\n",
       "      <td>lundi 01 février 2021</td>\n",
       "      <td>1</td>\n",
       "      <td>144</td>\n",
       "      <td>AN</td>\n",
       "      <td>16</td>\n",
       "      <td>session ordinaire 2020-2021</td>\n",
       "      <td>...</td>\n",
       "      <td>0.25</td>\n",
       "      <td>0.968</td>\n",
       "      <td>0.000</td>\n",
       "      <td>1.0</td>\n",
       "      <td>2025-06-24</td>\n",
       "      <td>True</td>\n",
       "      <td>False</td>\n",
       "      <td>Depuis des mois, de discours solennels en entr...</td>\n",
       "      <td>2021-02-01 16:00:00</td>\n",
       "      <td>2021-02-01</td>\n",
       "    </tr>\n",
       "    <tr>\n",
       "      <th>1457</th>\n",
       "      <td>CRSANR5L16S2021O1N144</td>\n",
       "      <td>RUANR5L15S2021IDS23666</td>\n",
       "      <td>SCR5A2021O1</td>\n",
       "      <td>20210201160000000</td>\n",
       "      <td>lundi 01 février 2021</td>\n",
       "      <td>1</td>\n",
       "      <td>144</td>\n",
       "      <td>AN</td>\n",
       "      <td>16</td>\n",
       "      <td>session ordinaire 2020-2021</td>\n",
       "      <td>...</td>\n",
       "      <td>0.25</td>\n",
       "      <td>0.968</td>\n",
       "      <td>0.000</td>\n",
       "      <td>1.0</td>\n",
       "      <td>2025-06-24</td>\n",
       "      <td>True</td>\n",
       "      <td>True</td>\n",
       "      <td>…une loi qui prétend, de surcroît, se hisser à...</td>\n",
       "      <td>2021-02-01 16:00:00</td>\n",
       "      <td>2021-02-01</td>\n",
       "    </tr>\n",
       "    <tr>\n",
       "      <th>1458</th>\n",
       "      <td>CRSANR5L16S2021O1N144</td>\n",
       "      <td>RUANR5L15S2021IDS23666</td>\n",
       "      <td>SCR5A2021O1</td>\n",
       "      <td>20210201160000000</td>\n",
       "      <td>lundi 01 février 2021</td>\n",
       "      <td>1</td>\n",
       "      <td>144</td>\n",
       "      <td>AN</td>\n",
       "      <td>16</td>\n",
       "      <td>session ordinaire 2020-2021</td>\n",
       "      <td>...</td>\n",
       "      <td>0.27</td>\n",
       "      <td>0.969</td>\n",
       "      <td>0.689</td>\n",
       "      <td>0.0</td>\n",
       "      <td>2025-06-24</td>\n",
       "      <td>True</td>\n",
       "      <td>True</td>\n",
       "      <td>Ce projet de loi visant à renforcer les princi...</td>\n",
       "      <td>2021-02-01 16:00:00</td>\n",
       "      <td>2021-02-01</td>\n",
       "    </tr>\n",
       "    <tr>\n",
       "      <th>1459</th>\n",
       "      <td>CRSANR5L16S2021O1N144</td>\n",
       "      <td>RUANR5L15S2021IDS23666</td>\n",
       "      <td>SCR5A2021O1</td>\n",
       "      <td>20210201160000000</td>\n",
       "      <td>lundi 01 février 2021</td>\n",
       "      <td>1</td>\n",
       "      <td>144</td>\n",
       "      <td>AN</td>\n",
       "      <td>16</td>\n",
       "      <td>session ordinaire 2020-2021</td>\n",
       "      <td>...</td>\n",
       "      <td>0.27</td>\n",
       "      <td>0.969</td>\n",
       "      <td>0.689</td>\n",
       "      <td>0.0</td>\n",
       "      <td>2025-06-24</td>\n",
       "      <td>True</td>\n",
       "      <td>True</td>\n",
       "      <td>L’État ne reconnaît aucun culte, l’État protèg...</td>\n",
       "      <td>2021-02-01 16:00:00</td>\n",
       "      <td>2021-02-01</td>\n",
       "    </tr>\n",
       "  </tbody>\n",
       "</table>\n",
       "<p>65 rows × 64 columns</p>\n",
       "</div>"
      ],
      "text/plain": [
       "                        UID               SeanceRef   SessionRef  \\\n",
       "1395  CRSANR5L16S2021O1N144  RUANR5L15S2021IDS23666  SCR5A2021O1   \n",
       "1396  CRSANR5L16S2021O1N144  RUANR5L15S2021IDS23666  SCR5A2021O1   \n",
       "1397  CRSANR5L16S2021O1N144  RUANR5L15S2021IDS23666  SCR5A2021O1   \n",
       "1398  CRSANR5L16S2021O1N144  RUANR5L15S2021IDS23666  SCR5A2021O1   \n",
       "1399  CRSANR5L16S2021O1N144  RUANR5L15S2021IDS23666  SCR5A2021O1   \n",
       "...                     ...                     ...          ...   \n",
       "1455  CRSANR5L16S2021O1N144  RUANR5L15S2021IDS23666  SCR5A2021O1   \n",
       "1456  CRSANR5L16S2021O1N144  RUANR5L15S2021IDS23666  SCR5A2021O1   \n",
       "1457  CRSANR5L16S2021O1N144  RUANR5L15S2021IDS23666  SCR5A2021O1   \n",
       "1458  CRSANR5L16S2021O1N144  RUANR5L15S2021IDS23666  SCR5A2021O1   \n",
       "1459  CRSANR5L16S2021O1N144  RUANR5L15S2021IDS23666  SCR5A2021O1   \n",
       "\n",
       "             DateSeance         DateSeanceJour NumSeanceJour  NumSeance  \\\n",
       "1395  20210201160000000  lundi 01 février 2021             1        144   \n",
       "1396  20210201160000000  lundi 01 février 2021             1        144   \n",
       "1397  20210201160000000  lundi 01 février 2021             1        144   \n",
       "1398  20210201160000000  lundi 01 février 2021             1        144   \n",
       "1399  20210201160000000  lundi 01 février 2021             1        144   \n",
       "...                 ...                    ...           ...        ...   \n",
       "1455  20210201160000000  lundi 01 février 2021             1        144   \n",
       "1456  20210201160000000  lundi 01 février 2021             1        144   \n",
       "1457  20210201160000000  lundi 01 février 2021             1        144   \n",
       "1458  20210201160000000  lundi 01 février 2021             1        144   \n",
       "1459  20210201160000000  lundi 01 février 2021             1        144   \n",
       "\n",
       "     TypeAssemblee  Legislature                      Session  ...  \\\n",
       "1395            AN           16  session ordinaire 2020-2021  ...   \n",
       "1396            AN           16  session ordinaire 2020-2021  ...   \n",
       "1397            AN           16  session ordinaire 2020-2021  ...   \n",
       "1398            AN           16  session ordinaire 2020-2021  ...   \n",
       "1399            AN           16  session ordinaire 2020-2021  ...   \n",
       "...            ...          ...                          ...  ...   \n",
       "1455            AN           16  session ordinaire 2020-2021  ...   \n",
       "1456            AN           16  session ordinaire 2020-2021  ...   \n",
       "1457            AN           16  session ordinaire 2020-2021  ...   \n",
       "1458            AN           16  session ordinaire 2020-2021  ...   \n",
       "1459            AN           16  session ordinaire 2020-2021  ...   \n",
       "\n",
       "      scoreParticipationSpecialite scoreLoyaute scoreMajorite active  \\\n",
       "1395                           NaN        0.912         0.000    0.0   \n",
       "1396                           NaN        0.912         0.000    0.0   \n",
       "1397                           NaN        0.912         0.000    0.0   \n",
       "1398                           NaN        0.912         0.000    0.0   \n",
       "1399                           NaN        0.912         0.000    0.0   \n",
       "...                            ...          ...           ...    ...   \n",
       "1455                          0.47        0.974         0.000    1.0   \n",
       "1456                          0.25        0.968         0.000    1.0   \n",
       "1457                          0.25        0.968         0.000    1.0   \n",
       "1458                          0.27        0.969         0.689    0.0   \n",
       "1459                          0.27        0.969         0.689    0.0   \n",
       "\n",
       "         dateMaj repu_match_valide repu_match_simple  \\\n",
       "1395  2025-06-24              True             False   \n",
       "1396  2025-06-24              True             False   \n",
       "1397  2025-06-24              True             False   \n",
       "1398  2025-06-24              True             False   \n",
       "1399  2025-06-24              True              True   \n",
       "...          ...               ...               ...   \n",
       "1455  2025-06-24              True              True   \n",
       "1456  2025-06-24              True             False   \n",
       "1457  2025-06-24              True              True   \n",
       "1458  2025-06-24              True              True   \n",
       "1459  2025-06-24              True              True   \n",
       "\n",
       "                                            Texte_clean       DateSeance_ts  \\\n",
       "1395  Monsieur le président, mesdames, messieurs les... 2021-02-01 16:00:00   \n",
       "1396  …mais un texte pour tout le monde, qui aura de... 2021-02-01 16:00:00   \n",
       "1397  Cette précision prouve sans doute que les révo... 2021-02-01 16:00:00   \n",
       "1398  Des puissances étrangères n’ont pas à payer de... 2021-02-01 16:00:00   \n",
       "1399  …nous considérons que toutes les religions doi... 2021-02-01 16:00:00   \n",
       "...                                                 ...                 ...   \n",
       "1455  Collègue Mélenchon, le groupe Dem n’associera ... 2021-02-01 16:00:00   \n",
       "1456  Depuis des mois, de discours solennels en entr... 2021-02-01 16:00:00   \n",
       "1457  …une loi qui prétend, de surcroît, se hisser à... 2021-02-01 16:00:00   \n",
       "1458  Ce projet de loi visant à renforcer les princi... 2021-02-01 16:00:00   \n",
       "1459  L’État ne reconnaît aucun culte, l’État protèg... 2021-02-01 16:00:00   \n",
       "\n",
       "      DateSeance_day  \n",
       "1395      2021-02-01  \n",
       "1396      2021-02-01  \n",
       "1397      2021-02-01  \n",
       "1398      2021-02-01  \n",
       "1399      2021-02-01  \n",
       "...              ...  \n",
       "1455      2021-02-01  \n",
       "1456      2021-02-01  \n",
       "1457      2021-02-01  \n",
       "1458      2021-02-01  \n",
       "1459      2021-02-01  \n",
       "\n",
       "[65 rows x 64 columns]"
      ]
     },
     "execution_count": 101,
     "metadata": {},
     "output_type": "execute_result"
    }
   ],
   "source": [
    "temp_date = df[df[\"DateSeance_day\"] < pd.to_datetime(\"2022-01-01\").date()]\n",
    "temp_date"
   ]
  },
  {
   "cell_type": "code",
   "execution_count": 103,
   "id": "aa5549eb",
   "metadata": {},
   "outputs": [
    {
     "data": {
      "text/plain": [
       "array(['CRSANR5L16S2021O1N144'], dtype=object)"
      ]
     },
     "execution_count": 103,
     "metadata": {},
     "output_type": "execute_result"
    }
   ],
   "source": [
    "temp_date[\"UID\"].unique()"
   ]
  },
  {
   "cell_type": "code",
   "execution_count": 100,
   "id": "2e7a46f1",
   "metadata": {},
   "outputs": [
    {
     "data": {
      "text/plain": [
       "Session\n",
       "Session ordinaire 2022-2023             2142\n",
       "Session ordinaire 2023-2024             1752\n",
       "Première session extraordinaire 2023     282\n",
       "Première session extraordinaire 2022     269\n",
       "Deuxième session extraordinaire 2023      67\n",
       "session ordinaire 2020-2021               65\n",
       "Congrès du Parlement du 4 mars 2024       15\n",
       "Name: count, dtype: int64"
      ]
     },
     "execution_count": 100,
     "metadata": {},
     "output_type": "execute_result"
    }
   ],
   "source": [
    "df[\"Session\"].value_counts()"
   ]
  },
  {
   "cell_type": "code",
   "execution_count": null,
   "id": "e7f3144e",
   "metadata": {},
   "outputs": [],
   "source": []
  }
 ],
 "metadata": {
  "kernelspec": {
   "display_name": "nlp_env",
   "language": "python",
   "name": "python3"
  },
  "language_info": {
   "codemirror_mode": {
    "name": "ipython",
    "version": 3
   },
   "file_extension": ".py",
   "mimetype": "text/x-python",
   "name": "python",
   "nbconvert_exporter": "python",
   "pygments_lexer": "ipython3",
   "version": "3.12.2"
  }
 },
 "nbformat": 4,
 "nbformat_minor": 5
}
