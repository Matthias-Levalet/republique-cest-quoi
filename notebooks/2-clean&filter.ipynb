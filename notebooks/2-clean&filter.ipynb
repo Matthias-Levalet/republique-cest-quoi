{
 "cells": [
  {
   "cell_type": "markdown",
   "id": "958c00fa",
   "metadata": {},
   "source": [
    "# 2-clean&filter"
   ]
  },
  {
   "cell_type": "code",
   "execution_count": 22,
   "id": "8a120fb6",
   "metadata": {},
   "outputs": [
    {
     "data": {
      "text/plain": [
       "(337030, 32)"
      ]
     },
     "execution_count": 22,
     "metadata": {},
     "output_type": "execute_result"
    }
   ],
   "source": [
    "import pandas as pd\n",
    "\n",
    "df = pd.read_csv(\n",
    "    \"../data/interim/extract_16.csv\", low_memory=False, dtype={\"ID_orateur\": str}\n",
    ")\n",
    "df.shape"
   ]
  },
  {
   "cell_type": "code",
   "execution_count": 23,
   "id": "cbd05803",
   "metadata": {},
   "outputs": [],
   "source": [
    "# Ne garder que les prises de parole et les interruptions\n",
    "df = df[\n",
    "    (df[\"Code_grammaire\"] == \"PAROLE_GENERIQUE\")\n",
    "    | (df[\"Code_grammaire\"] == \"INTERRUPTION_1_10\")\n",
    "]\n",
    "# ou : df[\"Code_grammaire\"].str.strip().isin([\"PAROLE_GENERIQUE\", \"INTERRUPTION_1_10\"])"
   ]
  },
  {
   "cell_type": "code",
   "execution_count": 24,
   "id": "35fe9dc0",
   "metadata": {},
   "outputs": [
    {
     "data": {
      "text/plain": [
       "(274698, 32)"
      ]
     },
     "execution_count": 24,
     "metadata": {},
     "output_type": "execute_result"
    }
   ],
   "source": [
    "df.shape"
   ]
  },
  {
   "cell_type": "code",
   "execution_count": 25,
   "id": "a6ad8fe3",
   "metadata": {},
   "outputs": [],
   "source": [
    "# Exclure les prises de parole de \"Mme la présidente\" et \"M. le président\"\n",
    "# la col Role_debat n'est pas bien identifié en fait\n",
    "# plutôt partir sur Nom_orateur\n",
    "\n",
    "df = df[~df[\"Nom_orateur\"].str.strip().isin([\"M. le président\", \"Mme la présidente\"])]"
   ]
  },
  {
   "cell_type": "code",
   "execution_count": 26,
   "id": "afa738fc",
   "metadata": {},
   "outputs": [
    {
     "data": {
      "text/plain": [
       "(215306, 32)"
      ]
     },
     "execution_count": 26,
     "metadata": {},
     "output_type": "execute_result"
    }
   ],
   "source": [
    "df.shape"
   ]
  },
  {
   "cell_type": "code",
   "execution_count": 27,
   "id": "98c9d939",
   "metadata": {},
   "outputs": [],
   "source": [
    "# Garder une trace de la longueur des interventions\n",
    "df[\"len_dirtytext\"] = df[\"Texte\"].str.len()"
   ]
  },
  {
   "cell_type": "markdown",
   "id": "e9fce961",
   "metadata": {},
   "source": [
    "-> Finalement, on ne vire pas ici les types de code parole : on laisse faire la regex d'identification république pour faire le tri et on conserve ce qui est concerné quel que soit le type (= va exclure pas mal des catégories chelous)"
   ]
  },
  {
   "cell_type": "code",
   "execution_count": 28,
   "id": "228f286f",
   "metadata": {},
   "outputs": [],
   "source": [
    "# Pour le sous cas de la 16 législature : nettoyer le fichier qui n'est pas au bon endroit\n",
    "# = date de 2012\n",
    "# df[\"Session\"].value_counts()\n",
    "\n",
    "# (df[\"UID\"] == \"CRSANR5L16S2021O1N144\").sum()\n",
    "# df = df[~df[\"Nom_orateur\"].str.strip().isin([\"M. le président\", \"Mme la présidente\"])]\n",
    "df = df[df[\"UID\"] != \"CRSANR5L16S2021O1N144\"]"
   ]
  },
  {
   "cell_type": "markdown",
   "id": "9a9fa491",
   "metadata": {},
   "source": [
    "## Nettoyer des données"
   ]
  },
  {
   "cell_type": "code",
   "execution_count": 29,
   "id": "e198d941",
   "metadata": {},
   "outputs": [],
   "source": [
    "# stabiliser le ID_orateur pour etre au format AN (pour matcher données)\n",
    "df[\"ID_orateur\"] = \"PA\" + df[\"ID_orateur\"]"
   ]
  },
  {
   "cell_type": "code",
   "execution_count": 30,
   "id": "71e45821",
   "metadata": {},
   "outputs": [],
   "source": [
    "# Changer les missing values pour non_précisé (majoritaire) dans Code_parole\n",
    "df[\"Code_parole\"] = df[\"Code_parole\"].fillna(\"non_précisé\")"
   ]
  },
  {
   "cell_type": "code",
   "execution_count": 31,
   "id": "8f97abc0",
   "metadata": {},
   "outputs": [
    {
     "data": {
      "text/html": [
       "<div>\n",
       "<style scoped>\n",
       "    .dataframe tbody tr th:only-of-type {\n",
       "        vertical-align: middle;\n",
       "    }\n",
       "\n",
       "    .dataframe tbody tr th {\n",
       "        vertical-align: top;\n",
       "    }\n",
       "\n",
       "    .dataframe thead th {\n",
       "        text-align: right;\n",
       "    }\n",
       "</style>\n",
       "<table border=\"1\" class=\"dataframe\">\n",
       "  <thead>\n",
       "    <tr style=\"text-align: right;\">\n",
       "      <th></th>\n",
       "      <th>count</th>\n",
       "      <th>mean</th>\n",
       "      <th>std</th>\n",
       "      <th>min</th>\n",
       "      <th>25%</th>\n",
       "      <th>50%</th>\n",
       "      <th>75%</th>\n",
       "      <th>max</th>\n",
       "    </tr>\n",
       "    <tr>\n",
       "      <th>Code_parole</th>\n",
       "      <th></th>\n",
       "      <th></th>\n",
       "      <th></th>\n",
       "      <th></th>\n",
       "      <th></th>\n",
       "      <th></th>\n",
       "      <th></th>\n",
       "      <th></th>\n",
       "    </tr>\n",
       "  </thead>\n",
       "  <tbody>\n",
       "    <tr>\n",
       "      <th>AVIS_COM_1_10</th>\n",
       "      <td>1.0</td>\n",
       "      <td>1278.000000</td>\n",
       "      <td>NaN</td>\n",
       "      <td>1278.0</td>\n",
       "      <td>1278.0</td>\n",
       "      <td>1278.0</td>\n",
       "      <td>1278.00</td>\n",
       "      <td>1278.0</td>\n",
       "    </tr>\n",
       "    <tr>\n",
       "      <th>AVIS_COM_1_20</th>\n",
       "      <td>10951.0</td>\n",
       "      <td>389.245457</td>\n",
       "      <td>416.340444</td>\n",
       "      <td>4.0</td>\n",
       "      <td>96.0</td>\n",
       "      <td>273.0</td>\n",
       "      <td>538.00</td>\n",
       "      <td>5395.0</td>\n",
       "    </tr>\n",
       "    <tr>\n",
       "      <th>AVIS_GVT_1_20</th>\n",
       "      <td>9954.0</td>\n",
       "      <td>418.768033</td>\n",
       "      <td>581.874887</td>\n",
       "      <td>4.0</td>\n",
       "      <td>20.0</td>\n",
       "      <td>212.0</td>\n",
       "      <td>581.75</td>\n",
       "      <td>6481.0</td>\n",
       "    </tr>\n",
       "    <tr>\n",
       "      <th>PAROLE_1_1</th>\n",
       "      <td>1.0</td>\n",
       "      <td>32.000000</td>\n",
       "      <td>NaN</td>\n",
       "      <td>32.0</td>\n",
       "      <td>32.0</td>\n",
       "      <td>32.0</td>\n",
       "      <td>32.00</td>\n",
       "      <td>32.0</td>\n",
       "    </tr>\n",
       "    <tr>\n",
       "      <th>PAROLE_1_2</th>\n",
       "      <td>70542.0</td>\n",
       "      <td>818.220961</td>\n",
       "      <td>1050.016891</td>\n",
       "      <td>3.0</td>\n",
       "      <td>221.0</td>\n",
       "      <td>463.0</td>\n",
       "      <td>999.00</td>\n",
       "      <td>21406.0</td>\n",
       "    </tr>\n",
       "    <tr>\n",
       "      <th>non_précisé</th>\n",
       "      <td>123678.0</td>\n",
       "      <td>257.965313</td>\n",
       "      <td>570.433599</td>\n",
       "      <td>3.0</td>\n",
       "      <td>18.0</td>\n",
       "      <td>38.0</td>\n",
       "      <td>195.00</td>\n",
       "      <td>16991.0</td>\n",
       "    </tr>\n",
       "  </tbody>\n",
       "</table>\n",
       "</div>"
      ],
      "text/plain": [
       "                  count         mean          std     min     25%     50%  \\\n",
       "Code_parole                                                                 \n",
       "AVIS_COM_1_10       1.0  1278.000000          NaN  1278.0  1278.0  1278.0   \n",
       "AVIS_COM_1_20   10951.0   389.245457   416.340444     4.0    96.0   273.0   \n",
       "AVIS_GVT_1_20    9954.0   418.768033   581.874887     4.0    20.0   212.0   \n",
       "PAROLE_1_1          1.0    32.000000          NaN    32.0    32.0    32.0   \n",
       "PAROLE_1_2      70542.0   818.220961  1050.016891     3.0   221.0   463.0   \n",
       "non_précisé    123678.0   257.965313   570.433599     3.0    18.0    38.0   \n",
       "\n",
       "                   75%      max  \n",
       "Code_parole                      \n",
       "AVIS_COM_1_10  1278.00   1278.0  \n",
       "AVIS_COM_1_20   538.00   5395.0  \n",
       "AVIS_GVT_1_20   581.75   6481.0  \n",
       "PAROLE_1_1       32.00     32.0  \n",
       "PAROLE_1_2      999.00  21406.0  \n",
       "non_précisé     195.00  16991.0  "
      ]
     },
     "execution_count": 31,
     "metadata": {},
     "output_type": "execute_result"
    }
   ],
   "source": [
    "# aperçu des répartitions\n",
    "df.groupby(\"Code_parole\", dropna=False)[\"len_dirtytext\"].describe()"
   ]
  },
  {
   "cell_type": "code",
   "execution_count": 32,
   "id": "0b07acbe",
   "metadata": {},
   "outputs": [
    {
     "data": {
      "text/plain": [
       "(215127, 33)"
      ]
     },
     "execution_count": 32,
     "metadata": {},
     "output_type": "execute_result"
    }
   ],
   "source": [
    "df.shape"
   ]
  },
  {
   "cell_type": "markdown",
   "id": "6d1f42d3",
   "metadata": {},
   "source": [
    "## Match députés"
   ]
  },
  {
   "cell_type": "code",
   "execution_count": 33,
   "id": "ade5f673",
   "metadata": {},
   "outputs": [],
   "source": [
    "df_deputes = pd.read_csv(\"../data/raw/id-dep/deputes-historique(datan-datagouv).csv\")"
   ]
  },
  {
   "cell_type": "code",
   "execution_count": 34,
   "id": "3527a99c",
   "metadata": {},
   "outputs": [
    {
     "data": {
      "text/plain": [
       "(215127, 33)"
      ]
     },
     "execution_count": 34,
     "metadata": {},
     "output_type": "execute_result"
    }
   ],
   "source": [
    "# shape avant fusion\n",
    "df.shape"
   ]
  },
  {
   "cell_type": "code",
   "execution_count": 35,
   "id": "bdcd77ab",
   "metadata": {},
   "outputs": [],
   "source": [
    "# Join des données sur la base de l'id des intervenants\n",
    "df = df.join(df_deputes.set_index(\"id\"), on=\"ID_orateur\", how=\"left\", rsuffix=\"_dep\")"
   ]
  },
  {
   "cell_type": "code",
   "execution_count": 36,
   "id": "dfe42b93",
   "metadata": {},
   "outputs": [
    {
     "data": {
      "text/plain": [
       "(215127, 59)"
      ]
     },
     "execution_count": 36,
     "metadata": {},
     "output_type": "execute_result"
    }
   ],
   "source": [
    "# shape après fusion\n",
    "df.shape"
   ]
  },
  {
   "cell_type": "code",
   "execution_count": 37,
   "id": "dfdc1473",
   "metadata": {},
   "outputs": [
    {
     "data": {
      "text/html": [
       "<div>\n",
       "<style scoped>\n",
       "    .dataframe tbody tr th:only-of-type {\n",
       "        vertical-align: middle;\n",
       "    }\n",
       "\n",
       "    .dataframe tbody tr th {\n",
       "        vertical-align: top;\n",
       "    }\n",
       "\n",
       "    .dataframe thead th {\n",
       "        text-align: right;\n",
       "    }\n",
       "</style>\n",
       "<table border=\"1\" class=\"dataframe\">\n",
       "  <thead>\n",
       "    <tr style=\"text-align: right;\">\n",
       "      <th></th>\n",
       "      <th>UID</th>\n",
       "      <th>SeanceRef</th>\n",
       "      <th>SessionRef</th>\n",
       "      <th>DateSeance</th>\n",
       "      <th>DateSeanceJour</th>\n",
       "      <th>NumSeanceJour</th>\n",
       "      <th>NumSeance</th>\n",
       "      <th>TypeAssemblee</th>\n",
       "      <th>Legislature</th>\n",
       "      <th>Session</th>\n",
       "      <th>...</th>\n",
       "      <th>facebook</th>\n",
       "      <th>website</th>\n",
       "      <th>nombreMandats</th>\n",
       "      <th>experienceDepute</th>\n",
       "      <th>scoreParticipation</th>\n",
       "      <th>scoreParticipationSpecialite</th>\n",
       "      <th>scoreLoyaute</th>\n",
       "      <th>scoreMajorite</th>\n",
       "      <th>active</th>\n",
       "      <th>dateMaj</th>\n",
       "    </tr>\n",
       "  </thead>\n",
       "  <tbody>\n",
       "    <tr>\n",
       "      <th>4</th>\n",
       "      <td>CRSANR5L16S2023O1N173</td>\n",
       "      <td>RUANR5L16S2023IDS26877</td>\n",
       "      <td>SCR5A2023O1</td>\n",
       "      <td>20230313160000000</td>\n",
       "      <td>lundi 13 mars 2023</td>\n",
       "      <td>1</td>\n",
       "      <td>173</td>\n",
       "      <td>AN</td>\n",
       "      <td>16</td>\n",
       "      <td>Session ordinaire 2022-2023</td>\n",
       "      <td>...</td>\n",
       "      <td>AgnesPannierR</td>\n",
       "      <td>NaN</td>\n",
       "      <td>1.0</td>\n",
       "      <td>4 mois</td>\n",
       "      <td>0.00</td>\n",
       "      <td>NaN</td>\n",
       "      <td>NaN</td>\n",
       "      <td>NaN</td>\n",
       "      <td>0.0</td>\n",
       "      <td>2025-06-24</td>\n",
       "    </tr>\n",
       "    <tr>\n",
       "      <th>5</th>\n",
       "      <td>CRSANR5L16S2023O1N173</td>\n",
       "      <td>RUANR5L16S2023IDS26877</td>\n",
       "      <td>SCR5A2023O1</td>\n",
       "      <td>20230313160000000</td>\n",
       "      <td>lundi 13 mars 2023</td>\n",
       "      <td>1</td>\n",
       "      <td>173</td>\n",
       "      <td>AN</td>\n",
       "      <td>16</td>\n",
       "      <td>Session ordinaire 2022-2023</td>\n",
       "      <td>...</td>\n",
       "      <td>guillaumekasba</td>\n",
       "      <td>guillaumekasbarian.fr</td>\n",
       "      <td>3.0</td>\n",
       "      <td>7 ans</td>\n",
       "      <td>0.17</td>\n",
       "      <td>0.14</td>\n",
       "      <td>0.982</td>\n",
       "      <td>0.0</td>\n",
       "      <td>1.0</td>\n",
       "      <td>2025-06-24</td>\n",
       "    </tr>\n",
       "    <tr>\n",
       "      <th>6</th>\n",
       "      <td>CRSANR5L16S2023O1N173</td>\n",
       "      <td>RUANR5L16S2023IDS26877</td>\n",
       "      <td>SCR5A2023O1</td>\n",
       "      <td>20230313160000000</td>\n",
       "      <td>lundi 13 mars 2023</td>\n",
       "      <td>1</td>\n",
       "      <td>173</td>\n",
       "      <td>AN</td>\n",
       "      <td>16</td>\n",
       "      <td>Session ordinaire 2022-2023</td>\n",
       "      <td>...</td>\n",
       "      <td>AgnesPannierR</td>\n",
       "      <td>NaN</td>\n",
       "      <td>1.0</td>\n",
       "      <td>4 mois</td>\n",
       "      <td>0.00</td>\n",
       "      <td>NaN</td>\n",
       "      <td>NaN</td>\n",
       "      <td>NaN</td>\n",
       "      <td>0.0</td>\n",
       "      <td>2025-06-24</td>\n",
       "    </tr>\n",
       "    <tr>\n",
       "      <th>7</th>\n",
       "      <td>CRSANR5L16S2023O1N173</td>\n",
       "      <td>RUANR5L16S2023IDS26877</td>\n",
       "      <td>SCR5A2023O1</td>\n",
       "      <td>20230313160000000</td>\n",
       "      <td>lundi 13 mars 2023</td>\n",
       "      <td>1</td>\n",
       "      <td>173</td>\n",
       "      <td>AN</td>\n",
       "      <td>16</td>\n",
       "      <td>Session ordinaire 2022-2023</td>\n",
       "      <td>...</td>\n",
       "      <td>NaN</td>\n",
       "      <td>www.pierrecazeneuve.fr</td>\n",
       "      <td>2.0</td>\n",
       "      <td>3 ans</td>\n",
       "      <td>0.32</td>\n",
       "      <td>0.73</td>\n",
       "      <td>0.965</td>\n",
       "      <td>0.0</td>\n",
       "      <td>1.0</td>\n",
       "      <td>2025-06-24</td>\n",
       "    </tr>\n",
       "    <tr>\n",
       "      <th>8</th>\n",
       "      <td>CRSANR5L16S2023O1N173</td>\n",
       "      <td>RUANR5L16S2023IDS26877</td>\n",
       "      <td>SCR5A2023O1</td>\n",
       "      <td>20230313160000000</td>\n",
       "      <td>lundi 13 mars 2023</td>\n",
       "      <td>1</td>\n",
       "      <td>173</td>\n",
       "      <td>AN</td>\n",
       "      <td>16</td>\n",
       "      <td>Session ordinaire 2022-2023</td>\n",
       "      <td>...</td>\n",
       "      <td>AgnesPannierR</td>\n",
       "      <td>NaN</td>\n",
       "      <td>1.0</td>\n",
       "      <td>4 mois</td>\n",
       "      <td>0.00</td>\n",
       "      <td>NaN</td>\n",
       "      <td>NaN</td>\n",
       "      <td>NaN</td>\n",
       "      <td>0.0</td>\n",
       "      <td>2025-06-24</td>\n",
       "    </tr>\n",
       "  </tbody>\n",
       "</table>\n",
       "<p>5 rows × 59 columns</p>\n",
       "</div>"
      ],
      "text/plain": [
       "                     UID               SeanceRef   SessionRef  \\\n",
       "4  CRSANR5L16S2023O1N173  RUANR5L16S2023IDS26877  SCR5A2023O1   \n",
       "5  CRSANR5L16S2023O1N173  RUANR5L16S2023IDS26877  SCR5A2023O1   \n",
       "6  CRSANR5L16S2023O1N173  RUANR5L16S2023IDS26877  SCR5A2023O1   \n",
       "7  CRSANR5L16S2023O1N173  RUANR5L16S2023IDS26877  SCR5A2023O1   \n",
       "8  CRSANR5L16S2023O1N173  RUANR5L16S2023IDS26877  SCR5A2023O1   \n",
       "\n",
       "          DateSeance      DateSeanceJour NumSeanceJour  NumSeance  \\\n",
       "4  20230313160000000  lundi 13 mars 2023             1        173   \n",
       "5  20230313160000000  lundi 13 mars 2023             1        173   \n",
       "6  20230313160000000  lundi 13 mars 2023             1        173   \n",
       "7  20230313160000000  lundi 13 mars 2023             1        173   \n",
       "8  20230313160000000  lundi 13 mars 2023             1        173   \n",
       "\n",
       "  TypeAssemblee  Legislature                      Session  ...  \\\n",
       "4            AN           16  Session ordinaire 2022-2023  ...   \n",
       "5            AN           16  Session ordinaire 2022-2023  ...   \n",
       "6            AN           16  Session ordinaire 2022-2023  ...   \n",
       "7            AN           16  Session ordinaire 2022-2023  ...   \n",
       "8            AN           16  Session ordinaire 2022-2023  ...   \n",
       "\n",
       "         facebook                 website nombreMandats experienceDepute  \\\n",
       "4   AgnesPannierR                     NaN           1.0           4 mois   \n",
       "5  guillaumekasba   guillaumekasbarian.fr           3.0            7 ans   \n",
       "6   AgnesPannierR                     NaN           1.0           4 mois   \n",
       "7             NaN  www.pierrecazeneuve.fr           2.0            3 ans   \n",
       "8   AgnesPannierR                     NaN           1.0           4 mois   \n",
       "\n",
       "  scoreParticipation scoreParticipationSpecialite scoreLoyaute  scoreMajorite  \\\n",
       "4               0.00                          NaN          NaN            NaN   \n",
       "5               0.17                         0.14        0.982            0.0   \n",
       "6               0.00                          NaN          NaN            NaN   \n",
       "7               0.32                         0.73        0.965            0.0   \n",
       "8               0.00                          NaN          NaN            NaN   \n",
       "\n",
       "   active     dateMaj  \n",
       "4     0.0  2025-06-24  \n",
       "5     1.0  2025-06-24  \n",
       "6     0.0  2025-06-24  \n",
       "7     1.0  2025-06-24  \n",
       "8     0.0  2025-06-24  \n",
       "\n",
       "[5 rows x 59 columns]"
      ]
     },
     "execution_count": 37,
     "metadata": {},
     "output_type": "execute_result"
    }
   ],
   "source": [
    "df.head()"
   ]
  },
  {
   "cell_type": "markdown",
   "id": "b3cb9764",
   "metadata": {},
   "source": [
    "## Export"
   ]
  },
  {
   "cell_type": "code",
   "execution_count": 38,
   "id": "32b71690",
   "metadata": {},
   "outputs": [
    {
     "data": {
      "text/plain": [
       "(215127, 59)"
      ]
     },
     "execution_count": 38,
     "metadata": {},
     "output_type": "execute_result"
    }
   ],
   "source": [
    "df.shape"
   ]
  },
  {
   "cell_type": "code",
   "execution_count": 39,
   "id": "bc6718dc",
   "metadata": {},
   "outputs": [],
   "source": [
    "# certaines col du join intrduisent une erreur à l'import/export\n",
    "# forcer le QUOTE_ALL permet de résoudre\n",
    "\n",
    "import csv  # pour résoudre le soucis d'écart. Checker\n",
    "\n",
    "df.to_csv(\n",
    "    \"../data/interim/data_cleaning.csv\",\n",
    "    index=False,\n",
    "    quoting=csv.QUOTE_ALL,  # a permis de résoudre le soucis d'écart. Checker\n",
    ")"
   ]
  },
  {
   "cell_type": "code",
   "execution_count": 40,
   "id": "d1726781",
   "metadata": {},
   "outputs": [
    {
     "data": {
      "text/plain": [
       "(215127, 59)"
      ]
     },
     "execution_count": 40,
     "metadata": {},
     "output_type": "execute_result"
    }
   ],
   "source": [
    "# verif excriture/lecture ok\n",
    "df_test = pd.read_csv(\n",
    "    \"../data/interim/data_cleaning.csv\", low_memory=False, dtype={\"ID_orateur\": str}\n",
    ")\n",
    "df_test.shape"
   ]
  }
 ],
 "metadata": {
  "kernelspec": {
   "display_name": "myenv_clone",
   "language": "python",
   "name": "python3"
  },
  "language_info": {
   "codemirror_mode": {
    "name": "ipython",
    "version": 3
   },
   "file_extension": ".py",
   "mimetype": "text/x-python",
   "name": "python",
   "nbconvert_exporter": "python",
   "pygments_lexer": "ipython3",
   "version": "3.11.5"
  }
 },
 "nbformat": 4,
 "nbformat_minor": 5
}
