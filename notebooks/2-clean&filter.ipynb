{
 "cells": [
  {
   "cell_type": "markdown",
   "id": "958c00fa",
   "metadata": {},
   "source": [
    "# 2-clean&filter"
   ]
  },
  {
   "cell_type": "code",
   "execution_count": 12,
   "id": "8a120fb6",
   "metadata": {},
   "outputs": [
    {
     "data": {
      "text/plain": [
       "(337041, 31)"
      ]
     },
     "execution_count": 12,
     "metadata": {},
     "output_type": "execute_result"
    }
   ],
   "source": [
    "import pandas as pd\n",
    "\n",
    "df = pd.read_csv(\n",
    "    \"../data/interim/extract_16.csv\", low_memory=False, dtype={\"ID_orateur\": str}\n",
    ")\n",
    "df.shape"
   ]
  },
  {
   "cell_type": "code",
   "execution_count": 14,
   "id": "cbd05803",
   "metadata": {},
   "outputs": [
    {
     "data": {
      "text/plain": [
       "(215127, 32)"
      ]
     },
     "execution_count": 14,
     "metadata": {},
     "output_type": "execute_result"
    }
   ],
   "source": [
    "# Ne garder que les prises de parole et les interruptions\n",
    "df = df[\n",
    "    (df[\"Code_grammaire\"] == \"PAROLE_GENERIQUE\")\n",
    "    | (df[\"Code_grammaire\"] == \"INTERRUPTION_1_10\")\n",
    "]  # ou : df[\"Code_grammaire\"].str.strip().isin([\"PAROLE_GENERIQUE\", \"INTERRUPTION_1_10\"])\n",
    "\n",
    "# Exclure les prises de parole de \"Mme la présidente\" et \"M. le président\"\n",
    "# Role_debat n'est pas bien identifié, utiliser Nom_orateur\n",
    "df = df[~df[\"Nom_orateur\"].str.strip().isin([\"M. le président\", \"Mme la présidente\"])]\n",
    "\n",
    "# Pour le sous cas de la 16 législature : nettoyer le fichier qui n'est pas au bon endroit\n",
    "# = date de 2021\n",
    "df = df[df[\"UID\"] != \"CRSANR5L16S2021O1N144\"]\n",
    "\n",
    "# Garder une trace de la longueur des interventions brutes\n",
    "df[\"len_dirtytext\"] = df[\"Texte\"].str.len()\n",
    "\n",
    "# Stabiliser le ID_orateur pour etre au format AN (pour matcher données)\n",
    "df[\"ID_orateur\"] = \"PA\" + df[\"ID_orateur\"]\n",
    "\n",
    "# Changer les missing values pour non_précisé (majoritaire) dans Code_parole\n",
    "df[\"Code_parole\"] = df[\"Code_parole\"].fillna(\"non_précisé\")\n",
    "\n",
    "df = df.dropna(subset=[\"Texte\"])\n",
    "\n",
    "df.shape"
   ]
  },
  {
   "cell_type": "code",
   "execution_count": 15,
   "id": "8f97abc0",
   "metadata": {},
   "outputs": [
    {
     "data": {
      "text/html": [
       "<div>\n",
       "<style scoped>\n",
       "    .dataframe tbody tr th:only-of-type {\n",
       "        vertical-align: middle;\n",
       "    }\n",
       "\n",
       "    .dataframe tbody tr th {\n",
       "        vertical-align: top;\n",
       "    }\n",
       "\n",
       "    .dataframe thead th {\n",
       "        text-align: right;\n",
       "    }\n",
       "</style>\n",
       "<table border=\"1\" class=\"dataframe\">\n",
       "  <thead>\n",
       "    <tr style=\"text-align: right;\">\n",
       "      <th></th>\n",
       "      <th>count</th>\n",
       "      <th>mean</th>\n",
       "      <th>std</th>\n",
       "      <th>min</th>\n",
       "      <th>25%</th>\n",
       "      <th>50%</th>\n",
       "      <th>75%</th>\n",
       "      <th>max</th>\n",
       "    </tr>\n",
       "    <tr>\n",
       "      <th>Code_parole</th>\n",
       "      <th></th>\n",
       "      <th></th>\n",
       "      <th></th>\n",
       "      <th></th>\n",
       "      <th></th>\n",
       "      <th></th>\n",
       "      <th></th>\n",
       "      <th></th>\n",
       "    </tr>\n",
       "  </thead>\n",
       "  <tbody>\n",
       "    <tr>\n",
       "      <th>AVIS_COM_1_10</th>\n",
       "      <td>1.0</td>\n",
       "      <td>1278.000000</td>\n",
       "      <td>NaN</td>\n",
       "      <td>1278.0</td>\n",
       "      <td>1278.0</td>\n",
       "      <td>1278.0</td>\n",
       "      <td>1278.00</td>\n",
       "      <td>1278.0</td>\n",
       "    </tr>\n",
       "    <tr>\n",
       "      <th>AVIS_COM_1_20</th>\n",
       "      <td>10951.0</td>\n",
       "      <td>389.245457</td>\n",
       "      <td>416.340444</td>\n",
       "      <td>4.0</td>\n",
       "      <td>96.0</td>\n",
       "      <td>273.0</td>\n",
       "      <td>538.00</td>\n",
       "      <td>5395.0</td>\n",
       "    </tr>\n",
       "    <tr>\n",
       "      <th>AVIS_GVT_1_20</th>\n",
       "      <td>9954.0</td>\n",
       "      <td>418.768033</td>\n",
       "      <td>581.874887</td>\n",
       "      <td>4.0</td>\n",
       "      <td>20.0</td>\n",
       "      <td>212.0</td>\n",
       "      <td>581.75</td>\n",
       "      <td>6481.0</td>\n",
       "    </tr>\n",
       "    <tr>\n",
       "      <th>PAROLE_1_1</th>\n",
       "      <td>1.0</td>\n",
       "      <td>32.000000</td>\n",
       "      <td>NaN</td>\n",
       "      <td>32.0</td>\n",
       "      <td>32.0</td>\n",
       "      <td>32.0</td>\n",
       "      <td>32.00</td>\n",
       "      <td>32.0</td>\n",
       "    </tr>\n",
       "    <tr>\n",
       "      <th>PAROLE_1_2</th>\n",
       "      <td>70542.0</td>\n",
       "      <td>818.220961</td>\n",
       "      <td>1050.016891</td>\n",
       "      <td>3.0</td>\n",
       "      <td>221.0</td>\n",
       "      <td>463.0</td>\n",
       "      <td>999.00</td>\n",
       "      <td>21406.0</td>\n",
       "    </tr>\n",
       "    <tr>\n",
       "      <th>non_précisé</th>\n",
       "      <td>123678.0</td>\n",
       "      <td>257.965313</td>\n",
       "      <td>570.433599</td>\n",
       "      <td>3.0</td>\n",
       "      <td>18.0</td>\n",
       "      <td>38.0</td>\n",
       "      <td>195.00</td>\n",
       "      <td>16991.0</td>\n",
       "    </tr>\n",
       "  </tbody>\n",
       "</table>\n",
       "</div>"
      ],
      "text/plain": [
       "                  count         mean          std     min     25%     50%  \\\n",
       "Code_parole                                                                 \n",
       "AVIS_COM_1_10       1.0  1278.000000          NaN  1278.0  1278.0  1278.0   \n",
       "AVIS_COM_1_20   10951.0   389.245457   416.340444     4.0    96.0   273.0   \n",
       "AVIS_GVT_1_20    9954.0   418.768033   581.874887     4.0    20.0   212.0   \n",
       "PAROLE_1_1          1.0    32.000000          NaN    32.0    32.0    32.0   \n",
       "PAROLE_1_2      70542.0   818.220961  1050.016891     3.0   221.0   463.0   \n",
       "non_précisé    123678.0   257.965313   570.433599     3.0    18.0    38.0   \n",
       "\n",
       "                   75%      max  \n",
       "Code_parole                      \n",
       "AVIS_COM_1_10  1278.00   1278.0  \n",
       "AVIS_COM_1_20   538.00   5395.0  \n",
       "AVIS_GVT_1_20   581.75   6481.0  \n",
       "PAROLE_1_1       32.00     32.0  \n",
       "PAROLE_1_2      999.00  21406.0  \n",
       "non_précisé     195.00  16991.0  "
      ]
     },
     "execution_count": 15,
     "metadata": {},
     "output_type": "execute_result"
    }
   ],
   "source": [
    "# aperçu des répartitions\n",
    "df.groupby(\"Code_parole\", dropna=False)[\"len_dirtytext\"].describe()"
   ]
  },
  {
   "cell_type": "markdown",
   "id": "6d1f42d3",
   "metadata": {},
   "source": [
    "## Match députés"
   ]
  },
  {
   "cell_type": "code",
   "execution_count": 16,
   "id": "ade5f673",
   "metadata": {},
   "outputs": [],
   "source": [
    "df_deputes = pd.read_csv(\"../data/raw/id-dep/deputes-historique(datan-datagouv).csv\")"
   ]
  },
  {
   "cell_type": "code",
   "execution_count": 17,
   "id": "3527a99c",
   "metadata": {},
   "outputs": [
    {
     "data": {
      "text/plain": [
       "(215127, 32)"
      ]
     },
     "execution_count": 17,
     "metadata": {},
     "output_type": "execute_result"
    }
   ],
   "source": [
    "# shape avant fusion\n",
    "df.shape"
   ]
  },
  {
   "cell_type": "code",
   "execution_count": 18,
   "id": "bdcd77ab",
   "metadata": {},
   "outputs": [],
   "source": [
    "# Join des données sur la base de l'id des intervenants\n",
    "df = df.join(df_deputes.set_index(\"id\"), on=\"ID_orateur\", how=\"left\", rsuffix=\"_dep\")"
   ]
  },
  {
   "cell_type": "code",
   "execution_count": 19,
   "id": "dfe42b93",
   "metadata": {},
   "outputs": [
    {
     "data": {
      "text/plain": [
       "(215127, 58)"
      ]
     },
     "execution_count": 19,
     "metadata": {},
     "output_type": "execute_result"
    }
   ],
   "source": [
    "# shape après fusion\n",
    "df.shape"
   ]
  },
  {
   "cell_type": "markdown",
   "id": "b3cb9764",
   "metadata": {},
   "source": [
    "## Export"
   ]
  },
  {
   "cell_type": "code",
   "execution_count": 20,
   "id": "bc6718dc",
   "metadata": {},
   "outputs": [],
   "source": [
    "# certaines col du join introduisent une erreur à l'import/export\n",
    "# forcer le QUOTE_ALL permet de résoudre\n",
    "\n",
    "import csv  # pour résoudre le soucis d'écart. Checker\n",
    "\n",
    "df.to_csv(\n",
    "    \"../data/interim/data_cleaning.csv\",\n",
    "    index=False,\n",
    "    quoting=csv.QUOTE_ALL,  # a permis de résoudre le soucis d'écart. Checker\n",
    ")"
   ]
  },
  {
   "cell_type": "code",
   "execution_count": 21,
   "id": "d1726781",
   "metadata": {},
   "outputs": [
    {
     "data": {
      "text/plain": [
       "(215127, 58)"
      ]
     },
     "execution_count": 21,
     "metadata": {},
     "output_type": "execute_result"
    }
   ],
   "source": [
    "# verif excriture/lecture ok\n",
    "df_test = pd.read_csv(\n",
    "    \"../data/interim/data_cleaning.csv\", low_memory=False, dtype={\"ID_orateur\": str}\n",
    ")\n",
    "df_test.shape"
   ]
  },
  {
   "cell_type": "code",
   "execution_count": null,
   "id": "e0eb0337",
   "metadata": {},
   "outputs": [],
   "source": []
  }
 ],
 "metadata": {
  "kernelspec": {
   "display_name": "myenv_clone",
   "language": "python",
   "name": "python3"
  },
  "language_info": {
   "codemirror_mode": {
    "name": "ipython",
    "version": 3
   },
   "file_extension": ".py",
   "mimetype": "text/x-python",
   "name": "python",
   "nbconvert_exporter": "python",
   "pygments_lexer": "ipython3",
   "version": "3.11.5"
  }
 },
 "nbformat": 4,
 "nbformat_minor": 5
}
